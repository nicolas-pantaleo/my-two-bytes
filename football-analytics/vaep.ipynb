{
 "cells": [
  {
   "cell_type": "code",
   "execution_count": 61,
   "metadata": {},
   "outputs": [],
   "source": [
    "import os;\n",
    "import warnings\n",
    "import pandas as pd\n",
    "import tqdm\n",
    "import json\n",
    "from io import BytesIO\n",
    "\n",
    "import socceraction.spadl as spadl\n",
    "import socceraction.spadl.statsbomb as statsbomb\n",
    "from socceraction.spadl.wyscout import convert_to_spadl\n",
    "\n",
    "pd.set_option(\"display.max_columns\", None)\n",
    "pd.set_option(\"display.max_rows\", None)\n",
    "warnings.simplefilter(action='ignore', category=pd.errors.PerformanceWarning)"
   ]
  },
  {
   "cell_type": "code",
   "execution_count": 63,
   "metadata": {},
   "outputs": [],
   "source": [
    "WYSCOUT_BASE_PATH = \"../../wyscout\"\n",
    "TEAMS_PATH = f\"{WYSCOUT_BASE_PATH}/teams.json\"\n",
    "PLAYERS_PATH = f\"{WYSCOUT_BASE_PATH}/players.json\"\n",
    "MATCHES_PATH = f\"{WYSCOUT_BASE_PATH}/matches_\"\n",
    "EVENTS_PATH = f\"{WYSCOUT_BASE_PATH}/events_\""
   ]
  },
  {
   "cell_type": "code",
   "execution_count": 64,
   "metadata": {},
   "outputs": [],
   "source": [
    "#os.listdir(WYSCOUT_BASE_PATH)"
   ]
  },
  {
   "cell_type": "code",
   "execution_count": 65,
   "metadata": {},
   "outputs": [],
   "source": [
    "def read_json_file(filename):\n",
    "    with open(filename, \"rb\") as json_file:\n",
    "        return BytesIO(json_file.read()).getvalue().decode(\"unicode_escape\")"
   ]
  },
  {
   "cell_type": "markdown",
   "metadata": {},
   "source": [
    "## Teams to HDF"
   ]
  },
  {
   "cell_type": "code",
   "execution_count": 66,
   "metadata": {},
   "outputs": [],
   "source": [
    "df_teams = pd.read_json(read_json_file(TEAMS_PATH))\n",
    "df_teams[\"nation\"] = df_teams[\"area\"].apply(lambda x: x[\"name\"])\n",
    "#df_teams = df_teams[[\"wyId\", \"name\", \"nation\"]]"
   ]
  },
  {
   "cell_type": "code",
   "execution_count": 67,
   "metadata": {},
   "outputs": [
    {
     "data": {
      "text/html": [
       "<div>\n",
       "<style scoped>\n",
       "    .dataframe tbody tr th:only-of-type {\n",
       "        vertical-align: middle;\n",
       "    }\n",
       "\n",
       "    .dataframe tbody tr th {\n",
       "        vertical-align: top;\n",
       "    }\n",
       "\n",
       "    .dataframe thead th {\n",
       "        text-align: right;\n",
       "    }\n",
       "</style>\n",
       "<table border=\"1\" class=\"dataframe\">\n",
       "  <thead>\n",
       "    <tr style=\"text-align: right;\">\n",
       "      <th></th>\n",
       "      <th>city</th>\n",
       "      <th>name</th>\n",
       "      <th>wyId</th>\n",
       "      <th>officialName</th>\n",
       "      <th>area</th>\n",
       "      <th>type</th>\n",
       "      <th>nation</th>\n",
       "    </tr>\n",
       "  </thead>\n",
       "  <tbody>\n",
       "    <tr>\n",
       "      <th>0</th>\n",
       "      <td>Newcastle upon Tyne</td>\n",
       "      <td>Newcastle United</td>\n",
       "      <td>1613</td>\n",
       "      <td>Newcastle United FC</td>\n",
       "      <td>{'name': 'England', 'id': '0', 'alpha3code': '...</td>\n",
       "      <td>club</td>\n",
       "      <td>England</td>\n",
       "    </tr>\n",
       "    <tr>\n",
       "      <th>1</th>\n",
       "      <td>Vigo</td>\n",
       "      <td>Celta de Vigo</td>\n",
       "      <td>692</td>\n",
       "      <td>Real Club Celta de Vigo</td>\n",
       "      <td>{'name': 'Spain', 'id': '724', 'alpha3code': '...</td>\n",
       "      <td>club</td>\n",
       "      <td>Spain</td>\n",
       "    </tr>\n",
       "    <tr>\n",
       "      <th>2</th>\n",
       "      <td>Barcelona</td>\n",
       "      <td>Espanyol</td>\n",
       "      <td>691</td>\n",
       "      <td>Reial Club Deportiu Espanyol</td>\n",
       "      <td>{'name': 'Spain', 'id': '724', 'alpha3code': '...</td>\n",
       "      <td>club</td>\n",
       "      <td>Spain</td>\n",
       "    </tr>\n",
       "  </tbody>\n",
       "</table>\n",
       "</div>"
      ],
      "text/plain": [
       "                  city              name  wyId                  officialName  \\\n",
       "0  Newcastle upon Tyne  Newcastle United  1613           Newcastle United FC   \n",
       "1                 Vigo     Celta de Vigo   692       Real Club Celta de Vigo   \n",
       "2            Barcelona          Espanyol   691  Reial Club Deportiu Espanyol   \n",
       "\n",
       "                                                area  type   nation  \n",
       "0  {'name': 'England', 'id': '0', 'alpha3code': '...  club  England  \n",
       "1  {'name': 'Spain', 'id': '724', 'alpha3code': '...  club    Spain  \n",
       "2  {'name': 'Spain', 'id': '724', 'alpha3code': '...  club    Spain  "
      ]
     },
     "execution_count": 67,
     "metadata": {},
     "output_type": "execute_result"
    }
   ],
   "source": [
    "df_teams.head(3)"
   ]
  },
  {
   "cell_type": "code",
   "execution_count": 68,
   "metadata": {},
   "outputs": [],
   "source": [
    "df_teams.to_hdf(path_or_buf = f\"{WYSCOUT_BASE_PATH}/wyscout.h5\",\n",
    "                key = \"teams\", mode = \"w\")"
   ]
  },
  {
   "cell_type": "markdown",
   "metadata": {},
   "source": [
    "## Players to HDF"
   ]
  },
  {
   "cell_type": "code",
   "execution_count": 69,
   "metadata": {},
   "outputs": [],
   "source": [
    "df_players = pd.read_json(read_json_file(PLAYERS_PATH))\n",
    "df_players[\"role\"] = df_players[\"role\"].apply(lambda x: x[\"name\"])\n",
    "#df_players = df_players[[\"wyId\", \"shortName\", \"role\", \"foot\", \"currentTeamId\", \"currentNationalTeamId\"]]"
   ]
  },
  {
   "cell_type": "code",
   "execution_count": 70,
   "metadata": {},
   "outputs": [
    {
     "data": {
      "text/html": [
       "<div>\n",
       "<style scoped>\n",
       "    .dataframe tbody tr th:only-of-type {\n",
       "        vertical-align: middle;\n",
       "    }\n",
       "\n",
       "    .dataframe tbody tr th {\n",
       "        vertical-align: top;\n",
       "    }\n",
       "\n",
       "    .dataframe thead th {\n",
       "        text-align: right;\n",
       "    }\n",
       "</style>\n",
       "<table border=\"1\" class=\"dataframe\">\n",
       "  <thead>\n",
       "    <tr style=\"text-align: right;\">\n",
       "      <th></th>\n",
       "      <th>passportArea</th>\n",
       "      <th>weight</th>\n",
       "      <th>firstName</th>\n",
       "      <th>middleName</th>\n",
       "      <th>lastName</th>\n",
       "      <th>currentTeamId</th>\n",
       "      <th>birthDate</th>\n",
       "      <th>height</th>\n",
       "      <th>role</th>\n",
       "      <th>birthArea</th>\n",
       "      <th>wyId</th>\n",
       "      <th>foot</th>\n",
       "      <th>shortName</th>\n",
       "      <th>currentNationalTeamId</th>\n",
       "    </tr>\n",
       "  </thead>\n",
       "  <tbody>\n",
       "    <tr>\n",
       "      <th>0</th>\n",
       "      <td>{'name': 'Turkey', 'id': '792', 'alpha3code': ...</td>\n",
       "      <td>78</td>\n",
       "      <td>Harun</td>\n",
       "      <td></td>\n",
       "      <td>Tekin</td>\n",
       "      <td>4502</td>\n",
       "      <td>1989-06-17</td>\n",
       "      <td>187</td>\n",
       "      <td>Goalkeeper</td>\n",
       "      <td>{'name': 'Turkey', 'id': '792', 'alpha3code': ...</td>\n",
       "      <td>32777</td>\n",
       "      <td>right</td>\n",
       "      <td>H. Tekin</td>\n",
       "      <td>4687</td>\n",
       "    </tr>\n",
       "    <tr>\n",
       "      <th>1</th>\n",
       "      <td>{'name': 'Senegal', 'id': '686', 'alpha3code':...</td>\n",
       "      <td>73</td>\n",
       "      <td>Malang</td>\n",
       "      <td></td>\n",
       "      <td>Sarr</td>\n",
       "      <td>3775</td>\n",
       "      <td>1999-01-23</td>\n",
       "      <td>182</td>\n",
       "      <td>Defender</td>\n",
       "      <td>{'name': 'France', 'id': '250', 'alpha3code': ...</td>\n",
       "      <td>393228</td>\n",
       "      <td>left</td>\n",
       "      <td>M. Sarr</td>\n",
       "      <td>4423</td>\n",
       "    </tr>\n",
       "  </tbody>\n",
       "</table>\n",
       "</div>"
      ],
      "text/plain": [
       "                                        passportArea  weight firstName  \\\n",
       "0  {'name': 'Turkey', 'id': '792', 'alpha3code': ...      78     Harun   \n",
       "1  {'name': 'Senegal', 'id': '686', 'alpha3code':...      73    Malang   \n",
       "\n",
       "  middleName lastName currentTeamId   birthDate  height        role  \\\n",
       "0               Tekin          4502  1989-06-17     187  Goalkeeper   \n",
       "1                Sarr          3775  1999-01-23     182    Defender   \n",
       "\n",
       "                                           birthArea    wyId   foot shortName  \\\n",
       "0  {'name': 'Turkey', 'id': '792', 'alpha3code': ...   32777  right  H. Tekin   \n",
       "1  {'name': 'France', 'id': '250', 'alpha3code': ...  393228   left   M. Sarr   \n",
       "\n",
       "  currentNationalTeamId  \n",
       "0                  4687  \n",
       "1                  4423  "
      ]
     },
     "execution_count": 70,
     "metadata": {},
     "output_type": "execute_result"
    }
   ],
   "source": [
    "df_players.head(2)"
   ]
  },
  {
   "cell_type": "code",
   "execution_count": 71,
   "metadata": {},
   "outputs": [],
   "source": [
    "df_players.to_hdf(path_or_buf = f\"{WYSCOUT_BASE_PATH}/wyscout.h5\",\n",
    "                  key = \"players\", mode = \"a\")"
   ]
  },
  {
   "cell_type": "markdown",
   "metadata": {},
   "source": [
    "## Matches to HDF"
   ]
  },
  {
   "cell_type": "code",
   "execution_count": 72,
   "metadata": {},
   "outputs": [],
   "source": [
    "# all_competitions = [\"England\", \"France\", \"Germany\", \"Italy\", \"Spain\",\n",
    "#                     \"European Championship\", \"World Cup\"]\n",
    "\n",
    "# The goal is to train on England and test on Italy\n",
    "competitions = [\"Italy\", \"England\"]"
   ]
  },
  {
   "cell_type": "code",
   "execution_count": 73,
   "metadata": {},
   "outputs": [],
   "source": [
    "dfs_matches = list()\n",
    "\n",
    "for comp in competitions:\n",
    "    comp_name = comp.replace(\" \", \"_\")\n",
    "    filename = f\"{MATCHES_PATH}{comp_name}.json\"\n",
    "    df_matches = pd.read_json(read_json_file(filename))\n",
    "    dfs_matches.append(df_matches)\n",
    "\n",
    "df_matches = pd.concat(dfs_matches)\n",
    "#df_matches = df_matches[[\"wyId\", \"competitionId\", \"seasonId\",\n",
    "#                         \"label\", \"winner\", \"teamsData\"]]"
   ]
  },
  {
   "cell_type": "code",
   "execution_count": 74,
   "metadata": {},
   "outputs": [
    {
     "data": {
      "text/html": [
       "<div>\n",
       "<style scoped>\n",
       "    .dataframe tbody tr th:only-of-type {\n",
       "        vertical-align: middle;\n",
       "    }\n",
       "\n",
       "    .dataframe tbody tr th {\n",
       "        vertical-align: top;\n",
       "    }\n",
       "\n",
       "    .dataframe thead th {\n",
       "        text-align: right;\n",
       "    }\n",
       "</style>\n",
       "<table border=\"1\" class=\"dataframe\">\n",
       "  <thead>\n",
       "    <tr style=\"text-align: right;\">\n",
       "      <th></th>\n",
       "      <th>status</th>\n",
       "      <th>roundId</th>\n",
       "      <th>gameweek</th>\n",
       "      <th>teamsData</th>\n",
       "      <th>seasonId</th>\n",
       "      <th>dateutc</th>\n",
       "      <th>winner</th>\n",
       "      <th>venue</th>\n",
       "      <th>wyId</th>\n",
       "      <th>label</th>\n",
       "      <th>date</th>\n",
       "      <th>referees</th>\n",
       "      <th>duration</th>\n",
       "      <th>competitionId</th>\n",
       "    </tr>\n",
       "  </thead>\n",
       "  <tbody>\n",
       "    <tr>\n",
       "      <th>0</th>\n",
       "      <td>Played</td>\n",
       "      <td>4406278</td>\n",
       "      <td>38</td>\n",
       "      <td>{'3162': {'scoreET': 0, 'coachId': 251025, 'si...</td>\n",
       "      <td>181248</td>\n",
       "      <td>2018-05-20 18:45:00</td>\n",
       "      <td>3161</td>\n",
       "      <td></td>\n",
       "      <td>2576335</td>\n",
       "      <td>Lazio - Internazionale, 2 - 3</td>\n",
       "      <td>May 20, 2018 at 8:45:00 PM GMT+2</td>\n",
       "      <td>[{'refereeId': 377206, 'role': 'referee'}, {'r...</td>\n",
       "      <td>Regular</td>\n",
       "      <td>524</td>\n",
       "    </tr>\n",
       "  </tbody>\n",
       "</table>\n",
       "</div>"
      ],
      "text/plain": [
       "   status  roundId  gameweek  \\\n",
       "0  Played  4406278        38   \n",
       "\n",
       "                                           teamsData  seasonId  \\\n",
       "0  {'3162': {'scoreET': 0, 'coachId': 251025, 'si...    181248   \n",
       "\n",
       "               dateutc  winner venue     wyId                          label  \\\n",
       "0  2018-05-20 18:45:00    3161        2576335  Lazio - Internazionale, 2 - 3   \n",
       "\n",
       "                               date  \\\n",
       "0  May 20, 2018 at 8:45:00 PM GMT+2   \n",
       "\n",
       "                                            referees duration  competitionId  \n",
       "0  [{'refereeId': 377206, 'role': 'referee'}, {'r...  Regular            524  "
      ]
     },
     "execution_count": 74,
     "metadata": {},
     "output_type": "execute_result"
    }
   ],
   "source": [
    "df_matches.head(1)"
   ]
  },
  {
   "cell_type": "code",
   "execution_count": 75,
   "metadata": {},
   "outputs": [],
   "source": [
    "df_matches.to_hdf(path_or_buf = f\"{WYSCOUT_BASE_PATH}/wyscout.h5\",\n",
    "                  key = \"matches\", mode = \"a\")"
   ]
  },
  {
   "cell_type": "markdown",
   "metadata": {},
   "source": [
    "## Events to HDF"
   ]
  },
  {
   "cell_type": "code",
   "execution_count": 76,
   "metadata": {},
   "outputs": [],
   "source": [
    "for comp in competitions:\n",
    "    comp_name = comp.replace(\" \", \"_\")\n",
    "    filename = f\"{EVENTS_PATH}{comp_name}.json\"\n",
    "    df_events = pd.read_json(read_json_file(filename))\n",
    "    break"
   ]
  },
  {
   "cell_type": "code",
   "execution_count": 77,
   "metadata": {},
   "outputs": [
    {
     "data": {
      "text/html": [
       "<div>\n",
       "<style scoped>\n",
       "    .dataframe tbody tr th:only-of-type {\n",
       "        vertical-align: middle;\n",
       "    }\n",
       "\n",
       "    .dataframe tbody tr th {\n",
       "        vertical-align: top;\n",
       "    }\n",
       "\n",
       "    .dataframe thead th {\n",
       "        text-align: right;\n",
       "    }\n",
       "</style>\n",
       "<table border=\"1\" class=\"dataframe\">\n",
       "  <thead>\n",
       "    <tr style=\"text-align: right;\">\n",
       "      <th></th>\n",
       "      <th>eventId</th>\n",
       "      <th>subEventName</th>\n",
       "      <th>tags</th>\n",
       "      <th>playerId</th>\n",
       "      <th>positions</th>\n",
       "      <th>matchId</th>\n",
       "      <th>eventName</th>\n",
       "      <th>teamId</th>\n",
       "      <th>matchPeriod</th>\n",
       "      <th>eventSec</th>\n",
       "      <th>subEventId</th>\n",
       "      <th>id</th>\n",
       "    </tr>\n",
       "  </thead>\n",
       "  <tbody>\n",
       "    <tr>\n",
       "      <th>0</th>\n",
       "      <td>8</td>\n",
       "      <td>Simple pass</td>\n",
       "      <td>[{'id': 1801}]</td>\n",
       "      <td>8327</td>\n",
       "      <td>[{'y': 52, 'x': 49}, {'y': 44, 'x': 43}]</td>\n",
       "      <td>2575959</td>\n",
       "      <td>Pass</td>\n",
       "      <td>3158</td>\n",
       "      <td>1H</td>\n",
       "      <td>2.530536</td>\n",
       "      <td>85</td>\n",
       "      <td>180423957</td>\n",
       "    </tr>\n",
       "    <tr>\n",
       "      <th>1</th>\n",
       "      <td>8</td>\n",
       "      <td>Simple pass</td>\n",
       "      <td>[{'id': 1801}]</td>\n",
       "      <td>20438</td>\n",
       "      <td>[{'y': 44, 'x': 43}, {'y': 17, 'x': 36}]</td>\n",
       "      <td>2575959</td>\n",
       "      <td>Pass</td>\n",
       "      <td>3158</td>\n",
       "      <td>1H</td>\n",
       "      <td>3.768418</td>\n",
       "      <td>85</td>\n",
       "      <td>180423958</td>\n",
       "    </tr>\n",
       "    <tr>\n",
       "      <th>2</th>\n",
       "      <td>7</td>\n",
       "      <td>Touch</td>\n",
       "      <td>[]</td>\n",
       "      <td>8306</td>\n",
       "      <td>[{'y': 17, 'x': 36}, {'y': 56, 'x': 78}]</td>\n",
       "      <td>2575959</td>\n",
       "      <td>Others on the ball</td>\n",
       "      <td>3158</td>\n",
       "      <td>1H</td>\n",
       "      <td>4.868265</td>\n",
       "      <td>72</td>\n",
       "      <td>180423959</td>\n",
       "    </tr>\n",
       "  </tbody>\n",
       "</table>\n",
       "</div>"
      ],
      "text/plain": [
       "   eventId subEventName            tags  playerId  \\\n",
       "0        8  Simple pass  [{'id': 1801}]      8327   \n",
       "1        8  Simple pass  [{'id': 1801}]     20438   \n",
       "2        7        Touch              []      8306   \n",
       "\n",
       "                                  positions  matchId           eventName  \\\n",
       "0  [{'y': 52, 'x': 49}, {'y': 44, 'x': 43}]  2575959                Pass   \n",
       "1  [{'y': 44, 'x': 43}, {'y': 17, 'x': 36}]  2575959                Pass   \n",
       "2  [{'y': 17, 'x': 36}, {'y': 56, 'x': 78}]  2575959  Others on the ball   \n",
       "\n",
       "   teamId matchPeriod  eventSec subEventId         id  \n",
       "0    3158          1H  2.530536         85  180423957  \n",
       "1    3158          1H  3.768418         85  180423958  \n",
       "2    3158          1H  4.868265         72  180423959  "
      ]
     },
     "execution_count": 77,
     "metadata": {},
     "output_type": "execute_result"
    }
   ],
   "source": [
    "df_events.head(3)"
   ]
  },
  {
   "cell_type": "code",
   "execution_count": 78,
   "metadata": {},
   "outputs": [],
   "source": [
    "df_events_matches = df_events.groupby(\"matchId\", as_index = False)"
   ]
  },
  {
   "cell_type": "code",
   "execution_count": 79,
   "metadata": {
    "scrolled": true
   },
   "outputs": [
    {
     "data": {
      "text/html": [
       "<div>\n",
       "<style scoped>\n",
       "    .dataframe tbody tr th:only-of-type {\n",
       "        vertical-align: middle;\n",
       "    }\n",
       "\n",
       "    .dataframe tbody tr th {\n",
       "        vertical-align: top;\n",
       "    }\n",
       "\n",
       "    .dataframe thead th {\n",
       "        text-align: right;\n",
       "    }\n",
       "</style>\n",
       "<table border=\"1\" class=\"dataframe\">\n",
       "  <thead>\n",
       "    <tr style=\"text-align: right;\">\n",
       "      <th></th>\n",
       "      <th>eventId</th>\n",
       "      <th>subEventName</th>\n",
       "      <th>tags</th>\n",
       "      <th>playerId</th>\n",
       "      <th>positions</th>\n",
       "      <th>matchId</th>\n",
       "      <th>eventName</th>\n",
       "      <th>teamId</th>\n",
       "      <th>matchPeriod</th>\n",
       "      <th>eventSec</th>\n",
       "      <th>subEventId</th>\n",
       "      <th>id</th>\n",
       "    </tr>\n",
       "  </thead>\n",
       "  <tbody>\n",
       "    <tr>\n",
       "      <th>0</th>\n",
       "      <td>8</td>\n",
       "      <td>Simple pass</td>\n",
       "      <td>[{'id': 1801}]</td>\n",
       "      <td>8327</td>\n",
       "      <td>[{'y': 52, 'x': 49}, {'y': 44, 'x': 43}]</td>\n",
       "      <td>2575959</td>\n",
       "      <td>Pass</td>\n",
       "      <td>3158</td>\n",
       "      <td>1H</td>\n",
       "      <td>2.530536</td>\n",
       "      <td>85</td>\n",
       "      <td>180423957</td>\n",
       "    </tr>\n",
       "    <tr>\n",
       "      <th>1613</th>\n",
       "      <td>8</td>\n",
       "      <td>Simple pass</td>\n",
       "      <td>[{'id': 1801}]</td>\n",
       "      <td>259292</td>\n",
       "      <td>[{'y': 51, 'x': 50}, {'y': 38, 'x': 30}]</td>\n",
       "      <td>2575960</td>\n",
       "      <td>Pass</td>\n",
       "      <td>3166</td>\n",
       "      <td>1H</td>\n",
       "      <td>2.912448</td>\n",
       "      <td>85</td>\n",
       "      <td>180460833</td>\n",
       "    </tr>\n",
       "    <tr>\n",
       "      <th>3157</th>\n",
       "      <td>8</td>\n",
       "      <td>Simple pass</td>\n",
       "      <td>[{'id': 1801}]</td>\n",
       "      <td>351010</td>\n",
       "      <td>[{'y': 48, 'x': 50}, {'y': 44, 'x': 35}]</td>\n",
       "      <td>2575961</td>\n",
       "      <td>Pass</td>\n",
       "      <td>3157</td>\n",
       "      <td>1H</td>\n",
       "      <td>2.361132</td>\n",
       "      <td>85</td>\n",
       "      <td>180454688</td>\n",
       "    </tr>\n",
       "  </tbody>\n",
       "</table>\n",
       "</div>"
      ],
      "text/plain": [
       "      eventId subEventName            tags  playerId  \\\n",
       "0           8  Simple pass  [{'id': 1801}]      8327   \n",
       "1613        8  Simple pass  [{'id': 1801}]    259292   \n",
       "3157        8  Simple pass  [{'id': 1801}]    351010   \n",
       "\n",
       "                                     positions  matchId eventName  teamId  \\\n",
       "0     [{'y': 52, 'x': 49}, {'y': 44, 'x': 43}]  2575959      Pass    3158   \n",
       "1613  [{'y': 51, 'x': 50}, {'y': 38, 'x': 30}]  2575960      Pass    3166   \n",
       "3157  [{'y': 48, 'x': 50}, {'y': 44, 'x': 35}]  2575961      Pass    3157   \n",
       "\n",
       "     matchPeriod  eventSec subEventId         id  \n",
       "0             1H  2.530536         85  180423957  \n",
       "1613          1H  2.912448         85  180460833  \n",
       "3157          1H  2.361132         85  180454688  "
      ]
     },
     "execution_count": 79,
     "metadata": {},
     "output_type": "execute_result"
    }
   ],
   "source": [
    "df_events_matches.head(1).head(3)"
   ]
  },
  {
   "cell_type": "code",
   "execution_count": 80,
   "metadata": {},
   "outputs": [],
   "source": [
    "for comp in competitions:\n",
    "    comp_name = comp.replace(\" \", \"_\")\n",
    "    filename = f\"{EVENTS_PATH}{comp_name}.json\"\n",
    "    df_events = pd.read_json(read_json_file(filename))\n",
    "    df_events_matches = df_events.groupby(\"matchId\", as_index = False)\n",
    "    for match_id, df_events_match in df_events_matches:\n",
    "        df_events_match.to_hdf(path_or_buf = \"wyscout.h5\",\n",
    "                               key = f\"events/match_{match_id}\", mode = \"a\")"
   ]
  },
  {
   "cell_type": "markdown",
   "metadata": {},
   "source": [
    "## Spadl"
   ]
  },
  {
   "cell_type": "code",
   "execution_count": 81,
   "metadata": {},
   "outputs": [
    {
     "name": "stdout",
     "output_type": "stream",
     "text": [
      "...Inserting actiontypes\n",
      "...Inserting bodyparts\n",
      "...Inserting results\n",
      "...Converting games\n",
      "...Converting players\n",
      "...Converting teams"
     ]
    },
    {
     "name": "stderr",
     "output_type": "stream",
     "text": [
      "  0%|          | 0/760 [00:00<?, ?game/s]"
     ]
    },
    {
     "name": "stdout",
     "output_type": "stream",
     "text": [
      "\n",
      "...Generating player_games\n"
     ]
    },
    {
     "name": "stderr",
     "output_type": "stream",
     "text": [
      "\n"
     ]
    },
    {
     "ename": "KeyError",
     "evalue": "'No object named events/match_2576335 in the file'",
     "output_type": "error",
     "traceback": [
      "\u001b[1;31m---------------------------------------------------------------------------\u001b[0m",
      "\u001b[1;31mKeyError\u001b[0m                                  Traceback (most recent call last)",
      "\u001b[1;32m<ipython-input-81-6a9b587180da>\u001b[0m in \u001b[0;36m<module>\u001b[1;34m\u001b[0m\n\u001b[1;32m----> 1\u001b[1;33m convert_to_spadl(f\"{WYSCOUT_BASE_PATH}/wyscout.h5\",\n\u001b[0m\u001b[0;32m      2\u001b[0m                  f\"{WYSCOUT_BASE_PATH}/spadl.h5\")\n",
      "\u001b[1;32m~\\Anaconda3\\lib\\site-packages\\socceraction\\spadl\\wyscout.py\u001b[0m in \u001b[0;36mconvert_to_spadl\u001b[1;34m(wyscouth5, spadlh5)\u001b[0m\n\u001b[0;32m    112\u001b[0m         \u001b[0mplayer_games\u001b[0m \u001b[1;33m=\u001b[0m \u001b[1;33m[\u001b[0m\u001b[1;33m]\u001b[0m\u001b[1;33m\u001b[0m\u001b[1;33m\u001b[0m\u001b[0m\n\u001b[0;32m    113\u001b[0m         \u001b[1;32mfor\u001b[0m \u001b[0mmatch\u001b[0m \u001b[1;32min\u001b[0m \u001b[0mtqdm\u001b[0m\u001b[1;33m.\u001b[0m\u001b[0mtqdm\u001b[0m\u001b[1;33m(\u001b[0m\u001b[0mlist\u001b[0m\u001b[1;33m(\u001b[0m\u001b[0mmatches\u001b[0m\u001b[1;33m.\u001b[0m\u001b[0mitertuples\u001b[0m\u001b[1;33m(\u001b[0m\u001b[1;33m)\u001b[0m\u001b[1;33m)\u001b[0m\u001b[1;33m,\u001b[0m \u001b[0munit\u001b[0m\u001b[1;33m=\u001b[0m\u001b[1;34m\"game\"\u001b[0m\u001b[1;33m)\u001b[0m\u001b[1;33m:\u001b[0m\u001b[1;33m\u001b[0m\u001b[1;33m\u001b[0m\u001b[0m\n\u001b[1;32m--> 114\u001b[1;33m             \u001b[0mevents\u001b[0m \u001b[1;33m=\u001b[0m \u001b[0mwyscoutstore\u001b[0m\u001b[1;33m[\u001b[0m\u001b[1;34mf\"events/match_{match.wyId}\"\u001b[0m\u001b[1;33m]\u001b[0m\u001b[1;33m\u001b[0m\u001b[1;33m\u001b[0m\u001b[0m\n\u001b[0m\u001b[0;32m    115\u001b[0m             \u001b[0mpg\u001b[0m \u001b[1;33m=\u001b[0m \u001b[0mget_player_games\u001b[0m\u001b[1;33m(\u001b[0m\u001b[0mmatch\u001b[0m\u001b[1;33m,\u001b[0m \u001b[0mevents\u001b[0m\u001b[1;33m)\u001b[0m\u001b[1;33m\u001b[0m\u001b[1;33m\u001b[0m\u001b[0m\n\u001b[0;32m    116\u001b[0m             \u001b[0mplayer_games\u001b[0m\u001b[1;33m.\u001b[0m\u001b[0mappend\u001b[0m\u001b[1;33m(\u001b[0m\u001b[0mpg\u001b[0m\u001b[1;33m)\u001b[0m\u001b[1;33m\u001b[0m\u001b[1;33m\u001b[0m\u001b[0m\n",
      "\u001b[1;32m~\\Anaconda3\\lib\\site-packages\\pandas\\io\\pytables.py\u001b[0m in \u001b[0;36m__getitem__\u001b[1;34m(self, key)\u001b[0m\n\u001b[0;32m    567\u001b[0m \u001b[1;33m\u001b[0m\u001b[0m\n\u001b[0;32m    568\u001b[0m     \u001b[1;32mdef\u001b[0m \u001b[0m__getitem__\u001b[0m\u001b[1;33m(\u001b[0m\u001b[0mself\u001b[0m\u001b[1;33m,\u001b[0m \u001b[0mkey\u001b[0m\u001b[1;33m:\u001b[0m \u001b[0mstr\u001b[0m\u001b[1;33m)\u001b[0m\u001b[1;33m:\u001b[0m\u001b[1;33m\u001b[0m\u001b[1;33m\u001b[0m\u001b[0m\n\u001b[1;32m--> 569\u001b[1;33m         \u001b[1;32mreturn\u001b[0m \u001b[0mself\u001b[0m\u001b[1;33m.\u001b[0m\u001b[0mget\u001b[0m\u001b[1;33m(\u001b[0m\u001b[0mkey\u001b[0m\u001b[1;33m)\u001b[0m\u001b[1;33m\u001b[0m\u001b[1;33m\u001b[0m\u001b[0m\n\u001b[0m\u001b[0;32m    570\u001b[0m \u001b[1;33m\u001b[0m\u001b[0m\n\u001b[0;32m    571\u001b[0m     \u001b[1;32mdef\u001b[0m \u001b[0m__setitem__\u001b[0m\u001b[1;33m(\u001b[0m\u001b[0mself\u001b[0m\u001b[1;33m,\u001b[0m \u001b[0mkey\u001b[0m\u001b[1;33m:\u001b[0m \u001b[0mstr\u001b[0m\u001b[1;33m,\u001b[0m \u001b[0mvalue\u001b[0m\u001b[1;33m)\u001b[0m\u001b[1;33m:\u001b[0m\u001b[1;33m\u001b[0m\u001b[1;33m\u001b[0m\u001b[0m\n",
      "\u001b[1;32m~\\Anaconda3\\lib\\site-packages\\pandas\\io\\pytables.py\u001b[0m in \u001b[0;36mget\u001b[1;34m(self, key)\u001b[0m\n\u001b[0;32m    789\u001b[0m             \u001b[0mgroup\u001b[0m \u001b[1;33m=\u001b[0m \u001b[0mself\u001b[0m\u001b[1;33m.\u001b[0m\u001b[0mget_node\u001b[0m\u001b[1;33m(\u001b[0m\u001b[0mkey\u001b[0m\u001b[1;33m)\u001b[0m\u001b[1;33m\u001b[0m\u001b[1;33m\u001b[0m\u001b[0m\n\u001b[0;32m    790\u001b[0m             \u001b[1;32mif\u001b[0m \u001b[0mgroup\u001b[0m \u001b[1;32mis\u001b[0m \u001b[1;32mNone\u001b[0m\u001b[1;33m:\u001b[0m\u001b[1;33m\u001b[0m\u001b[1;33m\u001b[0m\u001b[0m\n\u001b[1;32m--> 791\u001b[1;33m                 \u001b[1;32mraise\u001b[0m \u001b[0mKeyError\u001b[0m\u001b[1;33m(\u001b[0m\u001b[1;34mf\"No object named {key} in the file\"\u001b[0m\u001b[1;33m)\u001b[0m\u001b[1;33m\u001b[0m\u001b[1;33m\u001b[0m\u001b[0m\n\u001b[0m\u001b[0;32m    792\u001b[0m             \u001b[1;32mreturn\u001b[0m \u001b[0mself\u001b[0m\u001b[1;33m.\u001b[0m\u001b[0m_read_group\u001b[0m\u001b[1;33m(\u001b[0m\u001b[0mgroup\u001b[0m\u001b[1;33m)\u001b[0m\u001b[1;33m\u001b[0m\u001b[1;33m\u001b[0m\u001b[0m\n\u001b[0;32m    793\u001b[0m \u001b[1;33m\u001b[0m\u001b[0m\n",
      "\u001b[1;31mKeyError\u001b[0m: 'No object named events/match_2576335 in the file'"
     ]
    }
   ],
   "source": [
    "convert_to_spadl(f\"{WYSCOUT_BASE_PATH}/wyscout.h5\",\n",
    "                 f\"{WYSCOUT_BASE_PATH}/spadl.h5\")"
   ]
  },
  {
   "cell_type": "code",
   "execution_count": null,
   "metadata": {},
   "outputs": [],
   "source": []
  },
  {
   "cell_type": "code",
   "execution_count": null,
   "metadata": {},
   "outputs": [],
   "source": []
  },
  {
   "cell_type": "code",
   "execution_count": null,
   "metadata": {},
   "outputs": [],
   "source": []
  },
  {
   "cell_type": "code",
   "execution_count": null,
   "metadata": {},
   "outputs": [],
   "source": []
  },
  {
   "cell_type": "code",
   "execution_count": null,
   "metadata": {},
   "outputs": [],
   "source": []
  },
  {
   "cell_type": "code",
   "execution_count": null,
   "metadata": {},
   "outputs": [],
   "source": []
  },
  {
   "cell_type": "code",
   "execution_count": null,
   "metadata": {},
   "outputs": [],
   "source": []
  }
 ],
 "metadata": {
  "kernelspec": {
   "display_name": "Python 3",
   "language": "python",
   "name": "python3"
  },
  "language_info": {
   "codemirror_mode": {
    "name": "ipython",
    "version": 3
   },
   "file_extension": ".py",
   "mimetype": "text/x-python",
   "name": "python",
   "nbconvert_exporter": "python",
   "pygments_lexer": "ipython3",
   "version": "3.8.5"
  }
 },
 "nbformat": 4,
 "nbformat_minor": 4
}
