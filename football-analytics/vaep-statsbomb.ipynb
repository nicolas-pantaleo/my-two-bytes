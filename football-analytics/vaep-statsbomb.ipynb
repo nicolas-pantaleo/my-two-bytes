{
 "cells": [
  {
   "cell_type": "code",
   "execution_count": 26,
   "metadata": {},
   "outputs": [],
   "source": [
    "import os;\n",
    "import warnings\n",
    "import pandas as pd\n",
    "import tqdm\n",
    "import json\n",
    "from io import BytesIO\n",
    "import pickle\n",
    "\n",
    "from tqdm.notebook import tqdm\n",
    "from xgboost import XGBClassifier\n",
    "\n",
    "import socceraction.spadl as spadl\n",
    "import socceraction.spadl.statsbomb as statsbomb\n",
    "\n",
    "import pathlib\n",
    "\n",
    "pd.set_option(\"display.max_columns\", None)\n",
    "pd.set_option(\"display.max_rows\", None)\n",
    "warnings.simplefilter(action='ignore', category=pd.errors.PerformanceWarning)"
   ]
  },
  {
   "cell_type": "code",
   "execution_count": 27,
   "metadata": {},
   "outputs": [],
   "source": [
    "STATSBOMB_BASE_PATH = pathlib.Path(\"../../open-data/data\")\n",
    "\n",
    "STATSBOMB_COMPETITIONS_PATH = f\"{STATSBOMB_BASE_PATH}/competitions.json\"\n",
    "STATSBOMB_MATCHES_PATH = f\"{STATSBOMB_BASE_PATH}/matches\"\n",
    "STATSBOMB_EVENTS_PATH = f\"{STATSBOMB_BASE_PATH}/events\""
   ]
  },
  {
   "cell_type": "code",
   "execution_count": 28,
   "metadata": {},
   "outputs": [],
   "source": [
    "SBL = statsbomb.StatsBombLoader(root = STATSBOMB_BASE_PATH,\n",
    "                                getter = \"local\")"
   ]
  },
  {
   "cell_type": "code",
   "execution_count": 29,
   "metadata": {},
   "outputs": [
    {
     "data": {
      "text/plain": [
       "{'Champions League',\n",
       " \"FA Women's Super League\",\n",
       " 'FIFA World Cup',\n",
       " 'La Liga',\n",
       " 'NWSL',\n",
       " 'Premier League',\n",
       " \"Women's World Cup\"}"
      ]
     },
     "execution_count": 29,
     "metadata": {},
     "output_type": "execute_result"
    }
   ],
   "source": [
    "set(SBL.competitions().competition_name)"
   ]
  },
  {
   "cell_type": "code",
   "execution_count": 30,
   "metadata": {},
   "outputs": [
    {
     "data": {
      "text/html": [
       "<div>\n",
       "<style scoped>\n",
       "    .dataframe tbody tr th:only-of-type {\n",
       "        vertical-align: middle;\n",
       "    }\n",
       "\n",
       "    .dataframe tbody tr th {\n",
       "        vertical-align: top;\n",
       "    }\n",
       "\n",
       "    .dataframe thead th {\n",
       "        text-align: right;\n",
       "    }\n",
       "</style>\n",
       "<table border=\"1\" class=\"dataframe\">\n",
       "  <thead>\n",
       "    <tr style=\"text-align: right;\">\n",
       "      <th></th>\n",
       "      <th>competition_id</th>\n",
       "      <th>season_id</th>\n",
       "      <th>country_name</th>\n",
       "      <th>competition_name</th>\n",
       "      <th>competition_gender</th>\n",
       "      <th>season_name</th>\n",
       "      <th>match_updated</th>\n",
       "      <th>match_available</th>\n",
       "    </tr>\n",
       "  </thead>\n",
       "  <tbody>\n",
       "    <tr>\n",
       "      <th>17</th>\n",
       "      <td>43</td>\n",
       "      <td>3</td>\n",
       "      <td>International</td>\n",
       "      <td>FIFA World Cup</td>\n",
       "      <td>male</td>\n",
       "      <td>2018</td>\n",
       "      <td>2020-10-25T14:03:50.263266</td>\n",
       "      <td>2020-10-25T14:03:50.263266</td>\n",
       "    </tr>\n",
       "  </tbody>\n",
       "</table>\n",
       "</div>"
      ],
      "text/plain": [
       "    competition_id  season_id   country_name competition_name  \\\n",
       "17              43          3  International   FIFA World Cup   \n",
       "\n",
       "   competition_gender season_name               match_updated  \\\n",
       "17               male        2018  2020-10-25T14:03:50.263266   \n",
       "\n",
       "               match_available  \n",
       "17  2020-10-25T14:03:50.263266  "
      ]
     },
     "execution_count": 30,
     "metadata": {},
     "output_type": "execute_result"
    }
   ],
   "source": [
    "competitions = SBL.competitions()\n",
    "target_competitions = competitions[competitions.competition_name == \"FIFA World Cup\"]\n",
    "target_competitions"
   ]
  },
  {
   "cell_type": "code",
   "execution_count": 31,
   "metadata": {},
   "outputs": [
    {
     "data": {
      "text/html": [
       "<div>\n",
       "<style scoped>\n",
       "    .dataframe tbody tr th:only-of-type {\n",
       "        vertical-align: middle;\n",
       "    }\n",
       "\n",
       "    .dataframe tbody tr th {\n",
       "        vertical-align: top;\n",
       "    }\n",
       "\n",
       "    .dataframe thead th {\n",
       "        text-align: right;\n",
       "    }\n",
       "</style>\n",
       "<table border=\"1\" class=\"dataframe\">\n",
       "  <thead>\n",
       "    <tr style=\"text-align: right;\">\n",
       "      <th></th>\n",
       "      <th>home_team_id</th>\n",
       "      <th>away_team_id</th>\n",
       "      <th>match_date</th>\n",
       "      <th>home_score</th>\n",
       "      <th>away_score</th>\n",
       "    </tr>\n",
       "  </thead>\n",
       "  <tbody>\n",
       "    <tr>\n",
       "      <th>0</th>\n",
       "      <td>785</td>\n",
       "      <td>776</td>\n",
       "      <td>2018-07-01</td>\n",
       "      <td>1</td>\n",
       "      <td>1</td>\n",
       "    </tr>\n",
       "    <tr>\n",
       "      <th>1</th>\n",
       "      <td>775</td>\n",
       "      <td>793</td>\n",
       "      <td>2018-06-22</td>\n",
       "      <td>2</td>\n",
       "      <td>0</td>\n",
       "    </tr>\n",
       "    <tr>\n",
       "      <th>2</th>\n",
       "      <td>789</td>\n",
       "      <td>769</td>\n",
       "      <td>2018-06-24</td>\n",
       "      <td>0</td>\n",
       "      <td>3</td>\n",
       "    </tr>\n",
       "    <tr>\n",
       "      <th>3</th>\n",
       "      <td>785</td>\n",
       "      <td>775</td>\n",
       "      <td>2018-06-16</td>\n",
       "      <td>2</td>\n",
       "      <td>0</td>\n",
       "    </tr>\n",
       "    <tr>\n",
       "      <th>4</th>\n",
       "      <td>781</td>\n",
       "      <td>795</td>\n",
       "      <td>2018-06-22</td>\n",
       "      <td>2</td>\n",
       "      <td>0</td>\n",
       "    </tr>\n",
       "  </tbody>\n",
       "</table>\n",
       "</div>"
      ],
      "text/plain": [
       "   home_team_id  away_team_id  match_date  home_score  away_score\n",
       "0           785           776  2018-07-01           1           1\n",
       "1           775           793  2018-06-22           2           0\n",
       "2           789           769  2018-06-24           0           3\n",
       "3           785           775  2018-06-16           2           0\n",
       "4           781           795  2018-06-22           2           0"
      ]
     },
     "execution_count": 31,
     "metadata": {},
     "output_type": "execute_result"
    }
   ],
   "source": [
    "games = list(SBL.matches(row.competition_id, row.season_id)\n",
    "             for row in target_competitions.itertuples())\n",
    "\n",
    "# games is a list so...\n",
    "games = pd.concat(games, sort = True).reset_index(drop = True)\n",
    "games[[\"home_team_id\", \"away_team_id\", \"match_date\", \"home_score\", \"away_score\"]].head()"
   ]
  },
  {
   "cell_type": "code",
   "execution_count": 37,
   "metadata": {},
   "outputs": [
    {
     "data": {
      "application/vnd.jupyter.widget-view+json": {
       "model_id": "c34b3a2498384cde90385ad7f02ced3b",
       "version_major": 2,
       "version_minor": 0
      },
      "text/plain": [
       "HBox(children=(FloatProgress(value=0.0, max=64.0), HTML(value='')))"
      ]
     },
     "metadata": {},
     "output_type": "display_data"
    },
    {
     "name": "stdout",
     "output_type": "stream",
     "text": [
      "    player_id                     player_name     player_nickname  \\\n",
      "0        3027   Mathias Jattah-Njie Jørgensen               Zanka   \n",
      "1        3043     Christian Dannemann Eriksen   Christian Eriksen   \n",
      "2        3815               Kasper Schmeichel                None   \n",
      "3        3959             Andreas Christensen                None   \n",
      "4        4447  Martin Braithwaite Christensen  Martin Braithwaite   \n",
      "5        4763                Henrik Dalsgaard                None   \n",
      "6        5516      Pione Sisto Ifolo Emirmija         Pione Sisto   \n",
      "7        5520                    Lasse Schöne                None   \n",
      "8        5522               Nicolai Jørgensen                None   \n",
      "9        5527                  Thomas Delaney                None   \n",
      "10       5534               Simon Thorup Kjær          Simon Kjær   \n",
      "11       5536           Yussuf Yurary Poulsen      Yussuf Poulsen   \n",
      "12       5732         Andreas Evald Cornelius   Andreas Cornelius   \n",
      "13       6355                   Jonas Knudsen                None   \n",
      "14       6356             Michael Krohn-Dehli                None   \n",
      "15       3444                 Danijel Subašić                None   \n",
      "16       3471                    Dejan Lovren                None   \n",
      "17       5456                   Mateo Kovačić                None   \n",
      "18       5457                    Ivan Strinić                None   \n",
      "19       5460                 Andrej Kramarić                None   \n",
      "20       5461                   Šime Vrsaljko                None   \n",
      "21       5463                     Luka Modrić                None   \n",
      "22       5465                      Ante Rebić                None   \n",
      "23       5468                    Domagoj Vida                None   \n",
      "24       5469                Marcelo Brozović                None   \n",
      "25       5470                    Ivan Rakitić                None   \n",
      "26       5472                 Mario Mandžukić                None   \n",
      "27       5474                    Ivan Perišić                None   \n",
      "28       6305                    Milan Badelj                None   \n",
      "29       6308                   Josip Pivarić                None   \n",
      "\n",
      "    jersey_number  country_id country_name extra  \n",
      "0              13          61      Denmark    {}  \n",
      "1              10          61      Denmark    {}  \n",
      "2               1          61      Denmark    {}  \n",
      "3               6          61      Denmark    {}  \n",
      "4              11          61      Denmark    {}  \n",
      "5              14          61      Denmark    {}  \n",
      "6              23          61      Denmark    {}  \n",
      "7              19          61      Denmark    {}  \n",
      "8               9          61      Denmark    {}  \n",
      "9               8          61      Denmark    {}  \n",
      "10              4          61      Denmark    {}  \n",
      "11             20          61      Denmark    {}  \n",
      "12             21          61      Denmark    {}  \n",
      "13              5          61      Denmark    {}  \n",
      "14              2          61      Denmark    {}  \n",
      "15             23          56      Croatia    {}  \n",
      "16              6          56      Croatia    {}  \n",
      "17              8          56      Croatia    {}  \n",
      "18              3          56      Croatia    {}  \n",
      "19              9          56      Croatia    {}  \n",
      "20              2          56      Croatia    {}  \n",
      "21             10          56      Croatia    {}  \n",
      "22             18          56      Croatia    {}  \n",
      "23             21          56      Croatia    {}  \n",
      "24             11          56      Croatia    {}  \n",
      "25              7          56      Croatia    {}  \n",
      "26             17          56      Croatia    {}  \n",
      "27              4          56      Croatia    {}  \n",
      "28             19          56      Croatia    {}  \n",
      "29             22          56      Croatia    {}  \n"
     ]
    }
   ],
   "source": [
    "matches_verbose = tqdm(list(games.iterrows()))\n",
    "\n",
    "actions = dict()\n",
    "teams, players = list(), list()\n",
    "\n",
    "for __, match in matches_verbose:\n",
    "    teams.append(SBL.teams(match.match_id))\n",
    "    players.append(SBL.players(match.match_id))\n",
    "    \n",
    "    events = SBL.events(match.match_id)\n",
    "    actions[match.id] = statsbomb.convert_to_actions(events = events,\n",
    "                                                     home_team_id = match.home_team_id)\n",
    "    \n",
    "teams = pd.concat(teams).drop_duplicates(\"team_id\").reset_index(drop = True)\n",
    "players = pd.concat(players).reset_index(drop = True)"
   ]
  },
  {
   "cell_type": "code",
   "execution_count": 34,
   "metadata": {},
   "outputs": [
    {
     "data": {
      "text/html": [
       "<div>\n",
       "<style scoped>\n",
       "    .dataframe tbody tr th:only-of-type {\n",
       "        vertical-align: middle;\n",
       "    }\n",
       "\n",
       "    .dataframe tbody tr th {\n",
       "        vertical-align: top;\n",
       "    }\n",
       "\n",
       "    .dataframe thead th {\n",
       "        text-align: right;\n",
       "    }\n",
       "</style>\n",
       "<table border=\"1\" class=\"dataframe\">\n",
       "  <thead>\n",
       "    <tr style=\"text-align: right;\">\n",
       "      <th></th>\n",
       "      <th>team_id</th>\n",
       "      <th>team_name</th>\n",
       "    </tr>\n",
       "  </thead>\n",
       "  <tbody>\n",
       "    <tr>\n",
       "      <th>0</th>\n",
       "      <td>776</td>\n",
       "      <td>Denmark</td>\n",
       "    </tr>\n",
       "    <tr>\n",
       "      <th>1</th>\n",
       "      <td>785</td>\n",
       "      <td>Croatia</td>\n",
       "    </tr>\n",
       "    <tr>\n",
       "      <th>2</th>\n",
       "      <td>775</td>\n",
       "      <td>Nigeria</td>\n",
       "    </tr>\n",
       "    <tr>\n",
       "      <th>3</th>\n",
       "      <td>793</td>\n",
       "      <td>Iceland</td>\n",
       "    </tr>\n",
       "    <tr>\n",
       "      <th>4</th>\n",
       "      <td>789</td>\n",
       "      <td>Poland</td>\n",
       "    </tr>\n",
       "  </tbody>\n",
       "</table>\n",
       "</div>"
      ],
      "text/plain": [
       "   team_id team_name\n",
       "0      776   Denmark\n",
       "1      785   Croatia\n",
       "2      775   Nigeria\n",
       "3      793   Iceland\n",
       "4      789    Poland"
      ]
     },
     "execution_count": 34,
     "metadata": {},
     "output_type": "execute_result"
    }
   ],
   "source": [
    "teams[:5]"
   ]
  },
  {
   "cell_type": "code",
   "execution_count": 35,
   "metadata": {},
   "outputs": [
    {
     "data": {
      "text/html": [
       "<div>\n",
       "<style scoped>\n",
       "    .dataframe tbody tr th:only-of-type {\n",
       "        vertical-align: middle;\n",
       "    }\n",
       "\n",
       "    .dataframe tbody tr th {\n",
       "        vertical-align: top;\n",
       "    }\n",
       "\n",
       "    .dataframe thead th {\n",
       "        text-align: right;\n",
       "    }\n",
       "</style>\n",
       "<table border=\"1\" class=\"dataframe\">\n",
       "  <thead>\n",
       "    <tr style=\"text-align: right;\">\n",
       "      <th></th>\n",
       "      <th>player_id</th>\n",
       "      <th>player_name</th>\n",
       "      <th>player_nickname</th>\n",
       "      <th>jersey_number</th>\n",
       "      <th>country_id</th>\n",
       "      <th>country_name</th>\n",
       "      <th>extra</th>\n",
       "    </tr>\n",
       "  </thead>\n",
       "  <tbody>\n",
       "    <tr>\n",
       "      <th>0</th>\n",
       "      <td>3027</td>\n",
       "      <td>Mathias Jattah-Njie Jørgensen</td>\n",
       "      <td>Zanka</td>\n",
       "      <td>13</td>\n",
       "      <td>61</td>\n",
       "      <td>Denmark</td>\n",
       "      <td>{}</td>\n",
       "    </tr>\n",
       "    <tr>\n",
       "      <th>1</th>\n",
       "      <td>3043</td>\n",
       "      <td>Christian Dannemann Eriksen</td>\n",
       "      <td>Christian Eriksen</td>\n",
       "      <td>10</td>\n",
       "      <td>61</td>\n",
       "      <td>Denmark</td>\n",
       "      <td>{}</td>\n",
       "    </tr>\n",
       "    <tr>\n",
       "      <th>2</th>\n",
       "      <td>3815</td>\n",
       "      <td>Kasper Schmeichel</td>\n",
       "      <td>None</td>\n",
       "      <td>1</td>\n",
       "      <td>61</td>\n",
       "      <td>Denmark</td>\n",
       "      <td>{}</td>\n",
       "    </tr>\n",
       "    <tr>\n",
       "      <th>3</th>\n",
       "      <td>3959</td>\n",
       "      <td>Andreas Christensen</td>\n",
       "      <td>None</td>\n",
       "      <td>6</td>\n",
       "      <td>61</td>\n",
       "      <td>Denmark</td>\n",
       "      <td>{}</td>\n",
       "    </tr>\n",
       "    <tr>\n",
       "      <th>4</th>\n",
       "      <td>4447</td>\n",
       "      <td>Martin Braithwaite Christensen</td>\n",
       "      <td>Martin Braithwaite</td>\n",
       "      <td>11</td>\n",
       "      <td>61</td>\n",
       "      <td>Denmark</td>\n",
       "      <td>{}</td>\n",
       "    </tr>\n",
       "  </tbody>\n",
       "</table>\n",
       "</div>"
      ],
      "text/plain": [
       "   player_id                     player_name     player_nickname  \\\n",
       "0       3027   Mathias Jattah-Njie Jørgensen               Zanka   \n",
       "1       3043     Christian Dannemann Eriksen   Christian Eriksen   \n",
       "2       3815               Kasper Schmeichel                None   \n",
       "3       3959             Andreas Christensen                None   \n",
       "4       4447  Martin Braithwaite Christensen  Martin Braithwaite   \n",
       "\n",
       "   jersey_number  country_id country_name extra  \n",
       "0             13          61      Denmark    {}  \n",
       "1             10          61      Denmark    {}  \n",
       "2              1          61      Denmark    {}  \n",
       "3              6          61      Denmark    {}  \n",
       "4             11          61      Denmark    {}  "
      ]
     },
     "execution_count": 35,
     "metadata": {},
     "output_type": "execute_result"
    }
   ],
   "source": [
    "players[:5]"
   ]
  },
  {
   "cell_type": "code",
   "execution_count": 36,
   "metadata": {},
   "outputs": [
    {
     "ename": "KeyError",
     "evalue": "\"['match_id', 'team_id', 'is_starter', 'starting_position_id', 'starting_position_name', 'minutes_played'] not in index\"",
     "output_type": "error",
     "traceback": [
      "\u001b[1;31m---------------------------------------------------------------------------\u001b[0m",
      "\u001b[1;31mKeyError\u001b[0m                                  Traceback (most recent call last)",
      "\u001b[1;32m<ipython-input-36-3360b0cc61d1>\u001b[0m in \u001b[0;36m<module>\u001b[1;34m\u001b[0m\n\u001b[0;32m     10\u001b[0m     \u001b[0mfile\u001b[0m\u001b[1;33m[\u001b[0m\u001b[1;34m\"teams\"\u001b[0m\u001b[1;33m]\u001b[0m \u001b[1;33m=\u001b[0m \u001b[0mteams\u001b[0m\u001b[1;33m\u001b[0m\u001b[1;33m\u001b[0m\u001b[0m\n\u001b[0;32m     11\u001b[0m     \u001b[0mfile\u001b[0m\u001b[1;33m[\u001b[0m\u001b[1;34m\"players\"\u001b[0m\u001b[1;33m]\u001b[0m \u001b[1;33m=\u001b[0m \u001b[0mplayers\u001b[0m\u001b[1;33m[\u001b[0m\u001b[0mplayers_main_cols\u001b[0m\u001b[1;33m]\u001b[0m\u001b[1;33m.\u001b[0m\u001b[0mdrop_duplicates\u001b[0m\u001b[1;33m(\u001b[0m\u001b[0msubset\u001b[0m \u001b[1;33m=\u001b[0m \u001b[1;34m\"player_id\"\u001b[0m\u001b[1;33m)\u001b[0m\u001b[1;33m\u001b[0m\u001b[1;33m\u001b[0m\u001b[0m\n\u001b[1;32m---> 12\u001b[1;33m     \u001b[0mfile\u001b[0m\u001b[1;33m[\u001b[0m\u001b[1;34m\"player_games\"\u001b[0m\u001b[1;33m]\u001b[0m \u001b[1;33m=\u001b[0m \u001b[0mplayers\u001b[0m\u001b[1;33m[\u001b[0m\u001b[0mplayers_game_cols\u001b[0m\u001b[1;33m]\u001b[0m\u001b[1;33m\u001b[0m\u001b[1;33m\u001b[0m\u001b[0m\n\u001b[0m\u001b[0;32m     13\u001b[0m \u001b[1;33m\u001b[0m\u001b[0m\n\u001b[0;32m     14\u001b[0m     \u001b[1;31m# action's keys are the game ids\u001b[0m\u001b[1;33m\u001b[0m\u001b[1;33m\u001b[0m\u001b[1;33m\u001b[0m\u001b[0m\n",
      "\u001b[1;32m~\\anaconda3\\lib\\site-packages\\pandas\\core\\frame.py\u001b[0m in \u001b[0;36m__getitem__\u001b[1;34m(self, key)\u001b[0m\n\u001b[0;32m   3459\u001b[0m             \u001b[1;32mif\u001b[0m \u001b[0mis_iterator\u001b[0m\u001b[1;33m(\u001b[0m\u001b[0mkey\u001b[0m\u001b[1;33m)\u001b[0m\u001b[1;33m:\u001b[0m\u001b[1;33m\u001b[0m\u001b[1;33m\u001b[0m\u001b[0m\n\u001b[0;32m   3460\u001b[0m                 \u001b[0mkey\u001b[0m \u001b[1;33m=\u001b[0m \u001b[0mlist\u001b[0m\u001b[1;33m(\u001b[0m\u001b[0mkey\u001b[0m\u001b[1;33m)\u001b[0m\u001b[1;33m\u001b[0m\u001b[1;33m\u001b[0m\u001b[0m\n\u001b[1;32m-> 3461\u001b[1;33m             \u001b[0mindexer\u001b[0m \u001b[1;33m=\u001b[0m \u001b[0mself\u001b[0m\u001b[1;33m.\u001b[0m\u001b[0mloc\u001b[0m\u001b[1;33m.\u001b[0m\u001b[0m_get_listlike_indexer\u001b[0m\u001b[1;33m(\u001b[0m\u001b[0mkey\u001b[0m\u001b[1;33m,\u001b[0m \u001b[0maxis\u001b[0m\u001b[1;33m=\u001b[0m\u001b[1;36m1\u001b[0m\u001b[1;33m)\u001b[0m\u001b[1;33m[\u001b[0m\u001b[1;36m1\u001b[0m\u001b[1;33m]\u001b[0m\u001b[1;33m\u001b[0m\u001b[1;33m\u001b[0m\u001b[0m\n\u001b[0m\u001b[0;32m   3462\u001b[0m \u001b[1;33m\u001b[0m\u001b[0m\n\u001b[0;32m   3463\u001b[0m         \u001b[1;31m# take() does not accept boolean indexers\u001b[0m\u001b[1;33m\u001b[0m\u001b[1;33m\u001b[0m\u001b[1;33m\u001b[0m\u001b[0m\n",
      "\u001b[1;32m~\\anaconda3\\lib\\site-packages\\pandas\\core\\indexing.py\u001b[0m in \u001b[0;36m_get_listlike_indexer\u001b[1;34m(self, key, axis)\u001b[0m\n\u001b[0;32m   1312\u001b[0m             \u001b[0mkeyarr\u001b[0m\u001b[1;33m,\u001b[0m \u001b[0mindexer\u001b[0m\u001b[1;33m,\u001b[0m \u001b[0mnew_indexer\u001b[0m \u001b[1;33m=\u001b[0m \u001b[0max\u001b[0m\u001b[1;33m.\u001b[0m\u001b[0m_reindex_non_unique\u001b[0m\u001b[1;33m(\u001b[0m\u001b[0mkeyarr\u001b[0m\u001b[1;33m)\u001b[0m\u001b[1;33m\u001b[0m\u001b[1;33m\u001b[0m\u001b[0m\n\u001b[0;32m   1313\u001b[0m \u001b[1;33m\u001b[0m\u001b[0m\n\u001b[1;32m-> 1314\u001b[1;33m         \u001b[0mself\u001b[0m\u001b[1;33m.\u001b[0m\u001b[0m_validate_read_indexer\u001b[0m\u001b[1;33m(\u001b[0m\u001b[0mkeyarr\u001b[0m\u001b[1;33m,\u001b[0m \u001b[0mindexer\u001b[0m\u001b[1;33m,\u001b[0m \u001b[0maxis\u001b[0m\u001b[1;33m)\u001b[0m\u001b[1;33m\u001b[0m\u001b[1;33m\u001b[0m\u001b[0m\n\u001b[0m\u001b[0;32m   1315\u001b[0m \u001b[1;33m\u001b[0m\u001b[0m\n\u001b[0;32m   1316\u001b[0m         if needs_i8_conversion(ax.dtype) or isinstance(\n",
      "\u001b[1;32m~\\anaconda3\\lib\\site-packages\\pandas\\core\\indexing.py\u001b[0m in \u001b[0;36m_validate_read_indexer\u001b[1;34m(self, key, indexer, axis)\u001b[0m\n\u001b[0;32m   1375\u001b[0m \u001b[1;33m\u001b[0m\u001b[0m\n\u001b[0;32m   1376\u001b[0m             \u001b[0mnot_found\u001b[0m \u001b[1;33m=\u001b[0m \u001b[0mlist\u001b[0m\u001b[1;33m(\u001b[0m\u001b[0mensure_index\u001b[0m\u001b[1;33m(\u001b[0m\u001b[0mkey\u001b[0m\u001b[1;33m)\u001b[0m\u001b[1;33m[\u001b[0m\u001b[0mmissing_mask\u001b[0m\u001b[1;33m.\u001b[0m\u001b[0mnonzero\u001b[0m\u001b[1;33m(\u001b[0m\u001b[1;33m)\u001b[0m\u001b[1;33m[\u001b[0m\u001b[1;36m0\u001b[0m\u001b[1;33m]\u001b[0m\u001b[1;33m]\u001b[0m\u001b[1;33m.\u001b[0m\u001b[0munique\u001b[0m\u001b[1;33m(\u001b[0m\u001b[1;33m)\u001b[0m\u001b[1;33m)\u001b[0m\u001b[1;33m\u001b[0m\u001b[1;33m\u001b[0m\u001b[0m\n\u001b[1;32m-> 1377\u001b[1;33m             \u001b[1;32mraise\u001b[0m \u001b[0mKeyError\u001b[0m\u001b[1;33m(\u001b[0m\u001b[1;34mf\"{not_found} not in index\"\u001b[0m\u001b[1;33m)\u001b[0m\u001b[1;33m\u001b[0m\u001b[1;33m\u001b[0m\u001b[0m\n\u001b[0m\u001b[0;32m   1378\u001b[0m \u001b[1;33m\u001b[0m\u001b[0m\n\u001b[0;32m   1379\u001b[0m \u001b[1;33m\u001b[0m\u001b[0m\n",
      "\u001b[1;31mKeyError\u001b[0m: \"['match_id', 'team_id', 'is_starter', 'starting_position_id', 'starting_position_name', 'minutes_played'] not in index\""
     ]
    }
   ],
   "source": [
    "spadl_path = os.path.join(STATSBOMB_BASE_PATH, \"spadl-world-cup.h5\")\n",
    "\n",
    "players_main_cols = [\"player_id\", \"player_name\", \"player_nickname\"]\n",
    "players_game_cols = [\"player_id\", \"match_id\", \"team_id\", \"is_starter\",\n",
    "                     \"starting_position_id\", \"starting_position_name\", \"minutes_played\"]\n",
    "\n",
    "with pd.HDFStore(spadl_path) as file:\n",
    "    file[\"competitions\"] = target_competitions\n",
    "    file[\"games\"] = games\n",
    "    file[\"teams\"] = teams\n",
    "    file[\"players\"] = players[players_main_cols].drop_duplicates(subset = \"player_id\")\n",
    "    file[\"player_games\"] = players[players_game_cols]\n",
    "    \n",
    "    # action's keys are the game ids\n",
    "    for game_id in actions.keys():\n",
    "        file[f\"actions/game_{game_id}\"] = actions[game_id]\n",
    "        \n",
    "    file[\"actiontypes\"] = spadl.actiontypes_df()\n",
    "    file[\"results\"] = spadl.results_df()\n",
    "    file[\"bodyparts\"] = spadl.bodyparts_df()"
   ]
  },
  {
   "cell_type": "code",
   "execution_count": null,
   "metadata": {},
   "outputs": [],
   "source": []
  },
  {
   "cell_type": "code",
   "execution_count": null,
   "metadata": {},
   "outputs": [],
   "source": []
  },
  {
   "cell_type": "code",
   "execution_count": null,
   "metadata": {},
   "outputs": [],
   "source": []
  },
  {
   "cell_type": "code",
   "execution_count": null,
   "metadata": {},
   "outputs": [],
   "source": []
  }
 ],
 "metadata": {
  "kernelspec": {
   "display_name": "Python 3",
   "language": "python",
   "name": "python3"
  },
  "language_info": {
   "codemirror_mode": {
    "name": "ipython",
    "version": 3
   },
   "file_extension": ".py",
   "mimetype": "text/x-python",
   "name": "python",
   "nbconvert_exporter": "python",
   "pygments_lexer": "ipython3",
   "version": "3.7.6"
  }
 },
 "nbformat": 4,
 "nbformat_minor": 4
}
