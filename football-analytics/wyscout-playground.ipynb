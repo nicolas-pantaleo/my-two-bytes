{
 "cells": [
  {
   "cell_type": "markdown",
   "metadata": {},
   "source": [
    "# Wyscout xG Model"
   ]
  },
  {
   "cell_type": "markdown",
   "metadata": {},
   "source": [
    "---"
   ]
  },
  {
   "cell_type": "markdown",
   "metadata": {},
   "source": [
    "## Import"
   ]
  },
  {
   "cell_type": "code",
   "execution_count": 1,
   "metadata": {},
   "outputs": [],
   "source": [
    "import os\n",
    "import json\n",
    "import numpy as np\n",
    "import pandas as pd\n",
    "import matplotlib.pyplot as plt\n",
    "from utils.FCPython import createPitch\n",
    "from utils.FCPython import createGoalMouth\n",
    "import statsmodels.api as sm\n",
    "import statsmodels.formula.api as smf"
   ]
  },
  {
   "cell_type": "code",
   "execution_count": 3,
   "metadata": {},
   "outputs": [],
   "source": [
    "WYSCOUT_BASE_PATH = \"../../wyscout\""
   ]
  },
  {
   "cell_type": "markdown",
   "metadata": {},
   "source": [
    "**This is how Wyscout data look like in the file system**"
   ]
  },
  {
   "cell_type": "code",
   "execution_count": 3,
   "metadata": {},
   "outputs": [
    {
     "data": {
      "text/plain": [
       "['coaches.json',\n",
       " 'competitions.json',\n",
       " 'data_paper_soccer_nsd.pdf',\n",
       " 'eventid2name.csv',\n",
       " 'events_England.json',\n",
       " 'events_European_Championship.json',\n",
       " 'events_France.json',\n",
       " 'events_Germany.json',\n",
       " 'events_Italy.json',\n",
       " 'events_Spain.json',\n",
       " 'events_World_Cup.json',\n",
       " 'matches_England.json',\n",
       " 'matches_European_Championship.json',\n",
       " 'matches_France.json',\n",
       " 'matches_Germany.json',\n",
       " 'matches_Italy.json',\n",
       " 'matches_Spain.json',\n",
       " 'matches_World_Cup.json',\n",
       " 'playerank.json',\n",
       " 'players.json',\n",
       " 'referees.json',\n",
       " 'soccer_nsd_code.ipynb',\n",
       " 'tags2name.csv',\n",
       " 'teams.json']"
      ]
     },
     "execution_count": 3,
     "metadata": {},
     "output_type": "execute_result"
    }
   ],
   "source": [
    "os.listdir(WYSCOUT_BASE_PATH)"
   ]
  },
  {
   "cell_type": "markdown",
   "metadata": {},
   "source": [
    "---"
   ]
  },
  {
   "cell_type": "markdown",
   "metadata": {},
   "source": [
    "**Let's load the Serie A matches**"
   ]
  },
  {
   "cell_type": "code",
   "execution_count": 4,
   "metadata": {},
   "outputs": [],
   "source": [
    "with open(f\"{WYSCOUT_BASE_PATH}/matches_Italy.json\", \"r\", encoding = \"utf-8\") as f:\n",
    "    matches = json.load(f)"
   ]
  },
  {
   "cell_type": "markdown",
   "metadata": {},
   "source": [
    "**It's a full season of 380 matches!**"
   ]
  },
  {
   "cell_type": "code",
   "execution_count": 5,
   "metadata": {},
   "outputs": [
    {
     "data": {
      "text/plain": [
       "380"
      ]
     },
     "execution_count": 5,
     "metadata": {},
     "output_type": "execute_result"
    }
   ],
   "source": [
    "len(matches)"
   ]
  },
  {
   "cell_type": "markdown",
   "metadata": {},
   "source": [
    "---"
   ]
  },
  {
   "cell_type": "markdown",
   "metadata": {},
   "source": [
    "**Let's load the corresponding events**"
   ]
  },
  {
   "cell_type": "code",
   "execution_count": 11,
   "metadata": {},
   "outputs": [],
   "source": [
    "with open(f\"{WYSCOUT_BASE_PATH}/events_Italy.json\", \"r\", encoding = \"utf-8\") as f:\n",
    "    events = json.load(f)"
   ]
  },
  {
   "cell_type": "code",
   "execution_count": 12,
   "metadata": {},
   "outputs": [
    {
     "data": {
      "text/html": [
       "<div>\n",
       "<style scoped>\n",
       "    .dataframe tbody tr th:only-of-type {\n",
       "        vertical-align: middle;\n",
       "    }\n",
       "\n",
       "    .dataframe tbody tr th {\n",
       "        vertical-align: top;\n",
       "    }\n",
       "\n",
       "    .dataframe thead th {\n",
       "        text-align: right;\n",
       "    }\n",
       "</style>\n",
       "<table border=\"1\" class=\"dataframe\">\n",
       "  <thead>\n",
       "    <tr style=\"text-align: right;\">\n",
       "      <th></th>\n",
       "      <th>eventId</th>\n",
       "      <th>subEventName</th>\n",
       "      <th>tags</th>\n",
       "      <th>playerId</th>\n",
       "      <th>positions</th>\n",
       "      <th>matchId</th>\n",
       "      <th>eventName</th>\n",
       "      <th>teamId</th>\n",
       "      <th>matchPeriod</th>\n",
       "      <th>eventSec</th>\n",
       "      <th>subEventId</th>\n",
       "      <th>id</th>\n",
       "    </tr>\n",
       "  </thead>\n",
       "  <tbody>\n",
       "    <tr>\n",
       "      <th>0</th>\n",
       "      <td>8</td>\n",
       "      <td>Simple pass</td>\n",
       "      <td>[{'id': 1801}]</td>\n",
       "      <td>8327</td>\n",
       "      <td>[{'y': 52, 'x': 49}, {'y': 44, 'x': 43}]</td>\n",
       "      <td>2575959</td>\n",
       "      <td>Pass</td>\n",
       "      <td>3158</td>\n",
       "      <td>1H</td>\n",
       "      <td>2.530536</td>\n",
       "      <td>85</td>\n",
       "      <td>180423957</td>\n",
       "    </tr>\n",
       "  </tbody>\n",
       "</table>\n",
       "</div>"
      ],
      "text/plain": [
       "   eventId subEventName            tags  playerId  \\\n",
       "0        8  Simple pass  [{'id': 1801}]      8327   \n",
       "\n",
       "                                  positions  matchId eventName  teamId  \\\n",
       "0  [{'y': 52, 'x': 49}, {'y': 44, 'x': 43}]  2575959      Pass    3158   \n",
       "\n",
       "  matchPeriod  eventSec subEventId         id  \n",
       "0          1H  2.530536         85  180423957  "
      ]
     },
     "execution_count": 12,
     "metadata": {},
     "output_type": "execute_result"
    }
   ],
   "source": [
    "df = pd.DataFrame(events)\n",
    "df.head(1)"
   ]
  },
  {
   "cell_type": "markdown",
   "metadata": {},
   "source": [
    "**How many types of events are mapped?**"
   ]
  },
  {
   "cell_type": "code",
   "execution_count": 8,
   "metadata": {},
   "outputs": [
    {
     "data": {
      "text/plain": [
       "Pass                       337317\n",
       "Duel                       167781\n",
       "Others on the ball          52170\n",
       "Free Kick                   37987\n",
       "Interruption                27024\n",
       "Foul                         9994\n",
       "Shot                         8806\n",
       "Save attempt                 3561\n",
       "Offside                      1620\n",
       "Goalkeeper leaving line      1112\n",
       "Name: eventName, dtype: int64"
      ]
     },
     "execution_count": 8,
     "metadata": {},
     "output_type": "execute_result"
    }
   ],
   "source": [
    "df.eventName.value_counts()"
   ]
  },
  {
   "cell_type": "markdown",
   "metadata": {},
   "source": [
    "**There's also the sub-event!**"
   ]
  },
  {
   "cell_type": "code",
   "execution_count": 9,
   "metadata": {},
   "outputs": [
    {
     "data": {
      "text/plain": [
       "Simple pass                262885\n",
       "Ground attacking duel       54794\n",
       "Ground defending duel       54615\n",
       "Touch                       35629\n",
       "Ground loose ball duel      29387\n",
       "Air duel                    28985\n",
       "High pass                   27216\n",
       "Ball out of the field       26818\n",
       "Head pass                   17490\n",
       "Throw in                    16235\n",
       "Cross                       12856\n",
       "Clearance                   11222\n",
       "Free Kick                    9392\n",
       "Foul                         9174\n",
       "Shot                         8806\n",
       "Launch                       8071\n",
       "Goal kick                    6518\n",
       "Smart pass                   5687\n",
       "Acceleration                 5319\n",
       "Corner                       3916\n",
       "Hand pass                    3112\n",
       "Reflexes                     2097\n",
       "                             1620\n",
       "Save attempt                 1464\n",
       "Free kick cross              1385\n",
       "Goalkeeper leaving line      1112\n",
       "Hand foul                     489\n",
       "Free kick shot                415\n",
       "Whistle                       206\n",
       "Penalty                       126\n",
       "Protest                       116\n",
       "Out of game foul               78\n",
       "Late card foul                 63\n",
       "Time lost foul                 39\n",
       "Simulation                     23\n",
       "Violent Foul                   12\n",
       "Name: subEventName, dtype: int64"
      ]
     },
     "execution_count": 9,
     "metadata": {},
     "output_type": "execute_result"
    }
   ],
   "source": [
    "df.subEventName.value_counts()"
   ]
  },
  {
   "cell_type": "markdown",
   "metadata": {},
   "source": [
    "---"
   ]
  },
  {
   "cell_type": "code",
   "execution_count": 10,
   "metadata": {},
   "outputs": [],
   "source": [
    "# Need the copy to avoid SettingWithCopyWarning\n",
    "shots = df[df[\"eventName\"] == \"Shot\"].copy()\n",
    "\n",
    "shots[\"is_header\"] = shots[\"tags\"].apply(lambda x: True if 403 in [tag[\"id\"] for tag in x] else False)\n",
    "shots[\"is_goal\"] = shots[\"tags\"].apply(lambda x: True if 101 in [tag[\"id\"] for tag in x] else False)\n",
    "shots = shots[shots.is_header == False].reset_index()"
   ]
  },
  {
   "cell_type": "code",
   "execution_count": 11,
   "metadata": {},
   "outputs": [],
   "source": [
    "shots[\"xcoord\"] = shots[\"positions\"].apply(lambda el: 100 - el[0][\"x\"])\n",
    "shots[\"ycoord\"] = shots[\"positions\"].apply(lambda el: el[0][\"y\"])\n",
    "shots[\"ccoord\"] = shots[\"positions\"].apply(lambda el: np.abs(el[0][\"y\"] - 50))\n",
    "\n",
    "# Distance in metres and angle in radians\n",
    "shots[\"tmp_x\"] = shots[\"xcoord\"].apply(lambda el: el * 1.05)\n",
    "shots[\"tmp_y\"] = shots[\"ccoord\"].apply(lambda el: el * 0.65)"
   ]
  },
  {
   "cell_type": "code",
   "execution_count": 12,
   "metadata": {},
   "outputs": [],
   "source": [
    "goal_width = 7.32\n",
    "\n",
    "shots[\"distance\"] = np.sqrt(shots.tmp_x ** 2 + shots.tmp_y ** 2)\n",
    "shots[\"angle\"] = np.arctan(goal_width * shots.tmp_x / (shots.tmp_x**2 + shots.tmp_y**2 - (goal_width/2)**2))\n",
    "shots[\"angle\"] = shots[\"angle\"].apply(lambda x: x + np.pi if x < 0 else x)"
   ]
  },
  {
   "cell_type": "markdown",
   "metadata": {},
   "source": [
    "---"
   ]
  },
  {
   "cell_type": "code",
   "execution_count": 13,
   "metadata": {},
   "outputs": [],
   "source": [
    "histo_shots = np.histogram2d(shots.xcoord, shots.ycoord,\n",
    "                             bins = 50, range = [[0, 100],[0, 100]])\n",
    "\n",
    "goals = shots[shots.is_goal == True]\n",
    "\n",
    "histo_goals = np.histogram2d(goals.xcoord, goals.ycoord,\n",
    "                             bins = 50, range = [[0, 100],[0, 100]])"
   ]
  },
  {
   "cell_type": "code",
   "execution_count": 14,
   "metadata": {},
   "outputs": [
    {
     "data": {
      "image/png": "[encoded data removed]",
      "text/plain": [
       "<Figure size 720x504 with 2 Axes>"
      ]
     },
     "metadata": {
      "needs_background": "light"
     },
     "output_type": "display_data"
    }
   ],
   "source": [
    "fig, ax = createGoalMouth()\n",
    "\n",
    "position = ax.imshow(histo_shots[0], extent = [-1, 66, 104, -1],\n",
    "                     aspect = \"auto\", cmap = plt.cm.Blues)\n",
    "\n",
    "fig.colorbar(position, ax = ax)\n",
    "\n",
    "ax.set_title(\"Shots\")\n",
    "plt.xlim((-1,66))\n",
    "plt.ylim((-3,35))\n",
    "plt.tight_layout()\n",
    "plt.gca().set_aspect(\"equal\", adjustable = \"box\")\n",
    "fig.set_size_inches((10, 7))\n",
    "plt.show()"
   ]
  },
  {
   "cell_type": "code",
   "execution_count": 15,
   "metadata": {},
   "outputs": [
    {
     "data": {
      "image/png": "[encoded data removed]",
      "text/plain": [
       "<Figure size 720x504 with 2 Axes>"
      ]
     },
     "metadata": {
      "needs_background": "light"
     },
     "output_type": "display_data"
    }
   ],
   "source": [
    "fig, ax = createGoalMouth()\n",
    "\n",
    "position = ax.imshow(histo_goals[0], extent = [-1, 66, 104, -1],\n",
    "                     aspect = \"auto\", cmap = plt.cm.Blues)\n",
    "\n",
    "fig.colorbar(position, ax = ax)\n",
    "\n",
    "ax.set_title(\"Goals\")\n",
    "plt.xlim((-1,66))\n",
    "plt.ylim((-3,35))\n",
    "plt.tight_layout()\n",
    "plt.gca().set_aspect(\"equal\", adjustable = \"box\")\n",
    "fig.set_size_inches((10, 7))\n",
    "plt.show()"
   ]
  },
  {
   "cell_type": "code",
   "execution_count": 16,
   "metadata": {},
   "outputs": [
    {
     "data": {
      "image/png": "[encoded data removed]",
      "text/plain": [
       "<Figure size 720x504 with 2 Axes>"
      ]
     },
     "metadata": {
      "needs_background": "light"
     },
     "output_type": "display_data"
    }
   ],
   "source": [
    "fig, ax = createGoalMouth()\n",
    "\n",
    "# Dividing by histo_shots[0] works as well, but results in\n",
    "# a DivisionByZero exception\n",
    "position = ax.imshow(histo_goals[0] / (histo_shots[0] + 0.00000001),\n",
    "                     extent = [-1, 66, 104, -1],\n",
    "                     aspect = \"auto\", cmap = plt.cm.Blues,\n",
    "                     vmin = 0, vmax = 0.5)\n",
    "\n",
    "fig.colorbar(position, ax = ax)\n",
    "\n",
    "ax.set_title(\"Proportion of shots resulting in a goal\")\n",
    "plt.xlim((-1,66))\n",
    "plt.ylim((-3,35))\n",
    "plt.tight_layout()\n",
    "plt.gca().set_aspect(\"equal\", adjustable = \"box\")\n",
    "fig.set_size_inches((10, 7))\n",
    "plt.show()"
   ]
  },
  {
   "cell_type": "markdown",
   "metadata": {},
   "source": [
    "---"
   ]
  },
  {
   "cell_type": "code",
   "execution_count": 4,
   "metadata": {},
   "outputs": [
    {
     "data": {
      "text/html": [
       "<div>\n",
       "<style scoped>\n",
       "    .dataframe tbody tr th:only-of-type {\n",
       "        vertical-align: middle;\n",
       "    }\n",
       "\n",
       "    .dataframe tbody tr th {\n",
       "        vertical-align: top;\n",
       "    }\n",
       "\n",
       "    .dataframe thead th {\n",
       "        text-align: right;\n",
       "    }\n",
       "</style>\n",
       "<table border=\"1\" class=\"dataframe\">\n",
       "  <thead>\n",
       "    <tr style=\"text-align: right;\">\n",
       "      <th></th>\n",
       "      <th>eventId</th>\n",
       "      <th>subEventName</th>\n",
       "      <th>tags</th>\n",
       "      <th>playerId</th>\n",
       "      <th>positions</th>\n",
       "      <th>matchId</th>\n",
       "      <th>eventName</th>\n",
       "      <th>teamId</th>\n",
       "      <th>matchPeriod</th>\n",
       "      <th>eventSec</th>\n",
       "      <th>subEventId</th>\n",
       "      <th>id</th>\n",
       "    </tr>\n",
       "  </thead>\n",
       "  <tbody>\n",
       "    <tr>\n",
       "      <th>0</th>\n",
       "      <td>8</td>\n",
       "      <td>Simple pass</td>\n",
       "      <td>[{'id': 1801}]</td>\n",
       "      <td>8327</td>\n",
       "      <td>[{'y': 52, 'x': 49}, {'y': 44, 'x': 43}]</td>\n",
       "      <td>2575959</td>\n",
       "      <td>Pass</td>\n",
       "      <td>3158</td>\n",
       "      <td>1H</td>\n",
       "      <td>2.530536</td>\n",
       "      <td>85</td>\n",
       "      <td>180423957</td>\n",
       "    </tr>\n",
       "  </tbody>\n",
       "</table>\n",
       "</div>"
      ],
      "text/plain": [
       "   eventId subEventName            tags  playerId  \\\n",
       "0        8  Simple pass  [{'id': 1801}]      8327   \n",
       "\n",
       "                                  positions  matchId eventName  teamId  \\\n",
       "0  [{'y': 52, 'x': 49}, {'y': 44, 'x': 43}]  2575959      Pass    3158   \n",
       "\n",
       "  matchPeriod  eventSec subEventId         id  \n",
       "0          1H  2.530536         85  180423957  "
      ]
     },
     "execution_count": 4,
     "metadata": {},
     "output_type": "execute_result"
    }
   ],
   "source": [
    "with open(f\"{WYSCOUT_BASE_PATH}/events_Italy.json\", \"r\", encoding = \"utf-8\") as f:\n",
    "    events = json.load(f)\n",
    "\n",
    "df = pd.DataFrame(events)\n",
    "df.head(1)"
   ]
  },
  {
   "cell_type": "code",
   "execution_count": 5,
   "metadata": {},
   "outputs": [],
   "source": [
    "shots = df[df[\"eventName\"] == \"Shot\"].copy()\n",
    "\n",
    "shots[\"is_header\"] = shots[\"tags\"].apply(lambda x: True if 403 in [tag[\"id\"] for tag in x] else False)\n",
    "shots[\"is_goal\"] = shots[\"tags\"].apply(lambda x: 1 if 101 in [tag[\"id\"] for tag in x] else 0)\n",
    "shots = shots[shots.is_header == False].reset_index()\n",
    "\n",
    "shots[\"x\"] = shots[\"positions\"].apply(lambda el: 100 - el[0][\"x\"])\n",
    "shots[\"y\"] = shots[\"positions\"].apply(lambda el: el[0][\"y\"])\n",
    "shots[\"d_center\"] = shots[\"positions\"].apply(lambda el: np.abs(el[0][\"y\"] - 50))\n",
    "\n",
    "shots[\"x_meters\"] = shots[\"x\"].apply(lambda el: el * 1.05)\n",
    "shots[\"y_meters\"] = shots[\"d_center\"].apply(lambda el: el * 0.65)\n",
    "\n",
    "goal_width = 7.32\n",
    "\n",
    "shots[\"distance\"] = np.sqrt(shots.x_meters ** 2 + shots.y_meters ** 2)\n",
    "shots[\"angle\"] = np.arctan(goal_width * shots.x_meters / (shots.x_meters**2 + shots.y_meters**2 - (goal_width/2)**2))\n",
    "shots[\"angle\"] = shots[\"angle\"].apply(lambda x: x + np.pi if x < 0 else x)"
   ]
  },
  {
   "cell_type": "code",
   "execution_count": 6,
   "metadata": {},
   "outputs": [
    {
     "data": {
      "text/html": [
       "<table class=\"simpletable\">\n",
       "<caption>Generalized Linear Model Regression Results</caption>\n",
       "<tr>\n",
       "  <th>Dep. Variable:</th>        <td>is_goal</td>     <th>  No. Observations:  </th>  <td>  7438</td> \n",
       "</tr>\n",
       "<tr>\n",
       "  <th>Model:</th>                  <td>GLM</td>       <th>  Df Residuals:      </th>  <td>  7434</td> \n",
       "</tr>\n",
       "<tr>\n",
       "  <th>Model Family:</th>        <td>Binomial</td>     <th>  Df Model:          </th>  <td>     3</td> \n",
       "</tr>\n",
       "<tr>\n",
       "  <th>Link Function:</th>         <td>logit</td>      <th>  Scale:             </th> <td>  1.0000</td>\n",
       "</tr>\n",
       "<tr>\n",
       "  <th>Method:</th>                <td>IRLS</td>       <th>  Log-Likelihood:    </th> <td> -1851.5</td>\n",
       "</tr>\n",
       "<tr>\n",
       "  <th>Date:</th>            <td>Mon, 28 Jun 2021</td> <th>  Deviance:          </th> <td>  3703.0</td>\n",
       "</tr>\n",
       "<tr>\n",
       "  <th>Time:</th>                <td>20:27:01</td>     <th>  Pearson chi2:      </th> <td>7.67e+03</td>\n",
       "</tr>\n",
       "<tr>\n",
       "  <th>No. Iterations:</th>          <td>7</td>        <th>                     </th>     <td> </td>   \n",
       "</tr>\n",
       "<tr>\n",
       "  <th>Covariance Type:</th>     <td>nonrobust</td>    <th>                     </th>     <td> </td>   \n",
       "</tr>\n",
       "</table>\n",
       "<table class=\"simpletable\">\n",
       "<tr>\n",
       "      <td></td>         <th>coef</th>     <th>std err</th>      <th>z</th>      <th>P>|z|</th>  <th>[0.025</th>    <th>0.975]</th>  \n",
       "</tr>\n",
       "<tr>\n",
       "  <th>Intercept</th> <td>   -0.3898</td> <td>    0.326</td> <td>   -1.196</td> <td> 0.232</td> <td>   -1.029</td> <td>    0.249</td>\n",
       "</tr>\n",
       "<tr>\n",
       "  <th>x</th>         <td>    0.0830</td> <td>    0.025</td> <td>    3.350</td> <td> 0.001</td> <td>    0.034</td> <td>    0.132</td>\n",
       "</tr>\n",
       "<tr>\n",
       "  <th>angle</th>     <td>    1.1002</td> <td>    0.278</td> <td>    3.964</td> <td> 0.000</td> <td>    0.556</td> <td>    1.644</td>\n",
       "</tr>\n",
       "<tr>\n",
       "  <th>distance</th>  <td>   -0.2108</td> <td>    0.030</td> <td>   -7.036</td> <td> 0.000</td> <td>   -0.269</td> <td>   -0.152</td>\n",
       "</tr>\n",
       "</table>"
      ],
      "text/plain": [
       "<class 'statsmodels.iolib.summary.Summary'>\n",
       "\"\"\"\n",
       "                 Generalized Linear Model Regression Results                  \n",
       "==============================================================================\n",
       "Dep. Variable:                is_goal   No. Observations:                 7438\n",
       "Model:                            GLM   Df Residuals:                     7434\n",
       "Model Family:                Binomial   Df Model:                            3\n",
       "Link Function:                  logit   Scale:                          1.0000\n",
       "Method:                          IRLS   Log-Likelihood:                -1851.5\n",
       "Date:                Mon, 28 Jun 2021   Deviance:                       3703.0\n",
       "Time:                        20:27:01   Pearson chi2:                 7.67e+03\n",
       "No. Iterations:                     7                                         \n",
       "Covariance Type:            nonrobust                                         \n",
       "==============================================================================\n",
       "                 coef    std err          z      P>|z|      [0.025      0.975]\n",
       "------------------------------------------------------------------------------\n",
       "Intercept     -0.3898      0.326     -1.196      0.232      -1.029       0.249\n",
       "x              0.0830      0.025      3.350      0.001       0.034       0.132\n",
       "angle          1.1002      0.278      3.964      0.000       0.556       1.644\n",
       "distance      -0.2108      0.030     -7.036      0.000      -0.269      -0.152\n",
       "==============================================================================\n",
       "\"\"\""
      ]
     },
     "execution_count": 6,
     "metadata": {},
     "output_type": "execute_result"
    }
   ],
   "source": [
    "model = smf.glm(formula = \"is_goal ~ x + angle + distance\",\n",
    "                      data = shots, \n",
    "                      family = sm.families.Binomial()).fit()\n",
    "\n",
    "model.summary()"
   ]
  },
  {
   "cell_type": "code",
   "execution_count": 7,
   "metadata": {},
   "outputs": [
    {
     "data": {
      "text/plain": [
       "Intercept   -0.389816\n",
       "x            0.083015\n",
       "angle        1.100170\n",
       "distance    -0.210785\n",
       "dtype: float64"
      ]
     },
     "execution_count": 7,
     "metadata": {},
     "output_type": "execute_result"
    }
   ],
   "source": [
    "model.params"
   ]
  },
  {
   "cell_type": "code",
   "execution_count": 8,
   "metadata": {},
   "outputs": [
    {
     "data": {
      "text/plain": [
       "0.6192998516438405"
      ]
     },
     "execution_count": 8,
     "metadata": {},
     "output_type": "execute_result"
    }
   ],
   "source": [
    "model.predict(pd.DataFrame({\"angle\": [1], \"distance\": [5], \"x\": [10]}))[0]"
   ]
  },
  {
   "cell_type": "code",
   "execution_count": 9,
   "metadata": {},
   "outputs": [],
   "source": [
    "xg_probs = np.array([model.predict(pd.DataFrame({\"angle\": [row.angle],\n",
    "                                                 \"distance\": [row.distance],\n",
    "                                                 \"x\": [row.x]}))[0] for __, row in shots.iterrows()])"
   ]
  },
  {
   "cell_type": "code",
   "execution_count": 14,
   "metadata": {},
   "outputs": [],
   "source": [
    "df_check = shots[[\"angle\", \"distance\", \"x\", \"y\", \"is_goal\"]].copy()\n",
    "df_check[\"xg\"] = xg_probs"
   ]
  },
  {
   "cell_type": "code",
   "execution_count": 15,
   "metadata": {},
   "outputs": [
    {
     "data": {
      "text/html": [
       "<div>\n",
       "<style scoped>\n",
       "    .dataframe tbody tr th:only-of-type {\n",
       "        vertical-align: middle;\n",
       "    }\n",
       "\n",
       "    .dataframe tbody tr th {\n",
       "        vertical-align: top;\n",
       "    }\n",
       "\n",
       "    .dataframe thead th {\n",
       "        text-align: right;\n",
       "    }\n",
       "</style>\n",
       "<table border=\"1\" class=\"dataframe\">\n",
       "  <thead>\n",
       "    <tr style=\"text-align: right;\">\n",
       "      <th></th>\n",
       "      <th>angle</th>\n",
       "      <th>distance</th>\n",
       "      <th>x</th>\n",
       "      <th>y</th>\n",
       "      <th>is_goal</th>\n",
       "      <th>xg</th>\n",
       "    </tr>\n",
       "  </thead>\n",
       "  <tbody>\n",
       "    <tr>\n",
       "      <th>0</th>\n",
       "      <td>0.321317</td>\n",
       "      <td>21.799599</td>\n",
       "      <td>20</td>\n",
       "      <td>41</td>\n",
       "      <td>0</td>\n",
       "      <td>0.048752</td>\n",
       "    </tr>\n",
       "    <tr>\n",
       "      <th>1</th>\n",
       "      <td>0.274876</td>\n",
       "      <td>12.233765</td>\n",
       "      <td>5</td>\n",
       "      <td>33</td>\n",
       "      <td>0</td>\n",
       "      <td>0.095261</td>\n",
       "    </tr>\n",
       "    <tr>\n",
       "      <th>2</th>\n",
       "      <td>0.229221</td>\n",
       "      <td>30.590235</td>\n",
       "      <td>28</td>\n",
       "      <td>63</td>\n",
       "      <td>0</td>\n",
       "      <td>0.013910</td>\n",
       "    </tr>\n",
       "    <tr>\n",
       "      <th>3</th>\n",
       "      <td>0.468320</td>\n",
       "      <td>12.253265</td>\n",
       "      <td>9</td>\n",
       "      <td>62</td>\n",
       "      <td>0</td>\n",
       "      <td>0.153131</td>\n",
       "    </tr>\n",
       "    <tr>\n",
       "      <th>4</th>\n",
       "      <td>0.236713</td>\n",
       "      <td>21.434785</td>\n",
       "      <td>14</td>\n",
       "      <td>26</td>\n",
       "      <td>0</td>\n",
       "      <td>0.029733</td>\n",
       "    </tr>\n",
       "  </tbody>\n",
       "</table>\n",
       "</div>"
      ],
      "text/plain": [
       "      angle   distance   x   y  is_goal        xg\n",
       "0  0.321317  21.799599  20  41        0  0.048752\n",
       "1  0.274876  12.233765   5  33        0  0.095261\n",
       "2  0.229221  30.590235  28  63        0  0.013910\n",
       "3  0.468320  12.253265   9  62        0  0.153131\n",
       "4  0.236713  21.434785  14  26        0  0.029733"
      ]
     },
     "execution_count": 15,
     "metadata": {},
     "output_type": "execute_result"
    }
   ],
   "source": [
    "df_check.head()"
   ]
  },
  {
   "cell_type": "code",
   "execution_count": 12,
   "metadata": {},
   "outputs": [],
   "source": [
    "n = len(df_check)\n",
    "TP = np.zeros(n)\n",
    "FP = np.zeros(n)\n",
    "TN = np.zeros(n)\n",
    "FN = np.zeros(n)\n",
    "\n",
    "for i, threshold in enumerate(np.linspace(0, 1, 100)):\n",
    "    for j, shot in df_check.iterrows():\n",
    "        if shot.is_goal == 1: \n",
    "            if(shot.xg >= threshold):\n",
    "                TP[i] = TP[i] + 1\n",
    "            else:\n",
    "                FN[i] = FN[i] + 1\n",
    "                \n",
    "        if shot.is_goal == 0: \n",
    "            if shot.xg >= threshold:\n",
    "                FP[i] = FP[i] + 1\n",
    "            else:\n",
    "                TN[i] = TN[i] + 1"
   ]
  },
  {
   "cell_type": "code",
   "execution_count": 13,
   "metadata": {},
   "outputs": [
    {
     "name": "stderr",
     "output_type": "stream",
     "text": [
      "C:\\Users\\nicol\\anaconda3\\lib\\site-packages\\ipykernel_launcher.py:2: RuntimeWarning: invalid value encountered in true_divide\n",
      "  \n"
     ]
    },
    {
     "data": {
      "image/png": "[encoded data removed]",
      "text/plain": [
       "<Figure size 720x504 with 1 Axes>"
      ]
     },
     "metadata": {
      "needs_background": "light"
     },
     "output_type": "display_data"
    }
   ],
   "source": [
    "fig,ax = plt.subplots(figsize = (10, 7))\n",
    "ax.plot(FP/(FP + TN), TP/(TP + FN), color = \"k\")\n",
    "ax.plot([0,1], [0,1], linestyle = \"dotted\", color = \"k\")\n",
    "ax.set_ylabel(\"Predicted to score and did TP/(TP+FN))\")\n",
    "ax.set_xlabel(\"Predicted to score but didn't FP/(FP+TN)\")\n",
    "plt.ylim((0.00,1.00))\n",
    "plt.xlim((0.00,1.00))\n",
    "plt.show()"
   ]
  },
  {
   "cell_type": "code",
   "execution_count": 26,
   "metadata": {},
   "outputs": [],
   "source": [
    "prob_map = np.zeros((89, 99))\n",
    "\n",
    "for idx, row in df_check.iterrows():\n",
    "    prob_map[int(row[\"x\"]-1), int(row[\"y\"]-1)] = row.xg"
   ]
  },
  {
   "cell_type": "code",
   "execution_count": 46,
   "metadata": {},
   "outputs": [
    {
     "data": {
      "image/png": "[encoded data removed]",
      "text/plain": [
       "<Figure size 864x432 with 2 Axes>"
      ]
     },
     "metadata": {
      "needs_background": "light"
     },
     "output_type": "display_data"
    }
   ],
   "source": [
    "(fig, ax) = createGoalMouth()\n",
    "pos = ax.imshow(prob_map, extent=[-1,65,65,-1], aspect='auto',cmap=plt.cm.Reds,vmin=0, vmax=0.3)\n",
    "fig.colorbar(pos, ax=ax)\n",
    "ax.set_title('Probability of goal')\n",
    "plt.xlim((0,65))\n",
    "plt.ylim((0,30))\n",
    "plt.gca().set_aspect('equal', adjustable='box')\n",
    "fig.set_size_inches((12, 6))\n",
    "plt.show()"
   ]
  },
  {
   "cell_type": "markdown",
   "metadata": {},
   "source": [
    "---"
   ]
  }
 ],
 "metadata": {
  "kernelspec": {
   "display_name": "Python 3",
   "language": "python",
   "name": "python3"
  },
  "language_info": {
   "codemirror_mode": {
    "name": "ipython",
    "version": 3
   },
   "file_extension": ".py",
   "mimetype": "text/x-python",
   "name": "python",
   "nbconvert_exporter": "python",
   "pygments_lexer": "ipython3",
   "version": "3.8.5"
  }
 },
 "nbformat": 4,
 "nbformat_minor": 4
}
