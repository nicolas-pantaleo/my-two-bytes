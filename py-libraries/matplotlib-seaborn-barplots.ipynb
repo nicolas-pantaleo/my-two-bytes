{
 "cells": [
  {
   "cell_type": "markdown",
   "metadata": {},
   "source": [
    "# Matplotlib & Seaborn - Barplots"
   ]
  },
  {
   "cell_type": "markdown",
   "metadata": {},
   "source": [
    "---"
   ]
  },
  {
   "cell_type": "markdown",
   "metadata": {},
   "source": [
    "## Imports"
   ]
  },
  {
   "cell_type": "code",
   "execution_count": 1,
   "metadata": {},
   "outputs": [],
   "source": [
    "import numpy as np\n",
    "import pandas as pd\n",
    "import matplotlib.pyplot as plt\n",
    "import matplotlib.patches as plt_patches\n",
    "import matplotlib.patheffects as plt_eff\n",
    "import seaborn as sns"
   ]
  },
  {
   "cell_type": "markdown",
   "metadata": {},
   "source": [
    "---"
   ]
  },
  {
   "cell_type": "markdown",
   "metadata": {},
   "source": [
    "## Datasets"
   ]
  },
  {
   "cell_type": "code",
   "execution_count": 2,
   "metadata": {},
   "outputs": [],
   "source": [
    "tips = sns.load_dataset(\"tips\")"
   ]
  },
  {
   "cell_type": "markdown",
   "metadata": {},
   "source": [
    "---"
   ]
  },
  {
   "cell_type": "markdown",
   "metadata": {},
   "source": [
    "# Horizontal Ungrouped Barplot"
   ]
  },
  {
   "cell_type": "code",
   "execution_count": 3,
   "metadata": {},
   "outputs": [
    {
     "data": {
      "text/html": [
       "<div>\n",
       "<style scoped>\n",
       "    .dataframe tbody tr th:only-of-type {\n",
       "        vertical-align: middle;\n",
       "    }\n",
       "\n",
       "    .dataframe tbody tr th {\n",
       "        vertical-align: top;\n",
       "    }\n",
       "\n",
       "    .dataframe thead th {\n",
       "        text-align: right;\n",
       "    }\n",
       "</style>\n",
       "<table border=\"1\" class=\"dataframe\">\n",
       "  <thead>\n",
       "    <tr style=\"text-align: right;\">\n",
       "      <th></th>\n",
       "      <th>day</th>\n",
       "      <th>total_bill</th>\n",
       "      <th>day_sorted</th>\n",
       "    </tr>\n",
       "  </thead>\n",
       "  <tbody>\n",
       "    <tr>\n",
       "      <th>0</th>\n",
       "      <td>Thur</td>\n",
       "      <td>17.682742</td>\n",
       "      <td>3</td>\n",
       "    </tr>\n",
       "    <tr>\n",
       "      <th>1</th>\n",
       "      <td>Fri</td>\n",
       "      <td>17.151579</td>\n",
       "      <td>2</td>\n",
       "    </tr>\n",
       "    <tr>\n",
       "      <th>2</th>\n",
       "      <td>Sat</td>\n",
       "      <td>20.441379</td>\n",
       "      <td>1</td>\n",
       "    </tr>\n",
       "    <tr>\n",
       "      <th>3</th>\n",
       "      <td>Sun</td>\n",
       "      <td>21.410000</td>\n",
       "      <td>0</td>\n",
       "    </tr>\n",
       "  </tbody>\n",
       "</table>\n",
       "</div>"
      ],
      "text/plain": [
       "    day  total_bill day_sorted\n",
       "0  Thur   17.682742          3\n",
       "1   Fri   17.151579          2\n",
       "2   Sat   20.441379          1\n",
       "3   Sun   21.410000          0"
      ]
     },
     "execution_count": 3,
     "metadata": {},
     "output_type": "execute_result"
    }
   ],
   "source": [
    "data = tips.groupby(\"day\")[\"total_bill\"].aggregate(np.mean).reset_index()\n",
    "\n",
    "custom_order = {\"Thur\": 3, \"Fri\": 2, \"Sat\": 1, \"Sun\": 0}\n",
    "data[\"day_sorted\"] = data[\"day\"].map(custom_order)\n",
    "\n",
    "data.sort_values(by = \"day_sorted\", ascending = True, inplace = True)\n",
    "data"
   ]
  },
  {
   "cell_type": "code",
   "execution_count": 4,
   "metadata": {},
   "outputs": [
    {
     "data": {
      "image/png": "[encoded data removed]",
      "text/plain": [
       "<Figure size 576x288 with 1 Axes>"
      ]
     },
     "metadata": {
      "needs_background": "dark"
     },
     "output_type": "display_data"
    }
   ],
   "source": [
    "fig, ax = plt.subplots(figsize = (8, 4))\n",
    "line_edge = [plt_eff.Stroke(linewidth = 1.5, foreground= \"k\"), plt_eff.Normal()]\n",
    "ci_errors = [1.4, 3.2, 4.6, 5.1] \n",
    "\n",
    "plt.barh(y = data.day,\n",
    "         width = data.total_bill, height = 0.75,\n",
    "         edgecolor = \"k\", linewidth = 1.5,\n",
    "         xerr = ci_errors, capsize = 10,\n",
    "         color = [(0,0,0,0.1),\n",
    "                  (0,0,0,0.3),\n",
    "                  (0,0,0,0.5),\n",
    "                  (0,0,0,0.7)])\n",
    "\n",
    "plt.xticks(ticks = np.arange(0, 30, 5), color = \"gray\", fontsize = 12, ha = \"center\", va = \"top\")\n",
    "plt.yticks(ticks = data.day, color = \"gray\", fontsize = 14, ha = \"right\", va = \"center\")\n",
    "plt.xlabel(\"Total Bill ($)\", color = \"gray\", fontsize = 12)\n",
    "plt.ylabel(\"Days of the Week\", color = \"gray\", fontsize = 12)\n",
    "\n",
    "for i in range(len(data.day)):\n",
    "    plt.text(x = 10,\n",
    "             y = data.day[i],\n",
    "             s = [str(np.round(el, 2)) for el in data.total_bill.values][i],\n",
    "             color = \"w\", size = 14, va = \"center\", path_effects = line_edge)\n",
    "\n",
    "plt.title(label = \"Average Bill per Day\",\n",
    "          y = 1.07, loc = \"left\", ha = \"left\", va = \"top\",\n",
    "          fontsize = 14, color = \"dimgray\", style = \"normal\")\n",
    "\n",
    "plt.title(label = \"May 2021\",\n",
    "          y = 1.05, loc = \"right\", ha = \"right\", va = \"top\",\n",
    "          fontsize = 10, color = \"grey\", style = \"italic\")\n",
    "\n",
    "plt.tick_params(left = False, bottom = False)\n",
    "for spine in ax.spines.values():\n",
    "    spine.set_edgecolor(\"gray\")\n",
    "    \n",
    "plt.show()"
   ]
  },
  {
   "cell_type": "markdown",
   "metadata": {},
   "source": [
    "---"
   ]
  },
  {
   "cell_type": "markdown",
   "metadata": {},
   "source": [
    "# Vertical Ungrouped Barplot"
   ]
  },
  {
   "cell_type": "code",
   "execution_count": 5,
   "metadata": {},
   "outputs": [
    {
     "data": {
      "text/html": [
       "<div>\n",
       "<style scoped>\n",
       "    .dataframe tbody tr th:only-of-type {\n",
       "        vertical-align: middle;\n",
       "    }\n",
       "\n",
       "    .dataframe tbody tr th {\n",
       "        vertical-align: top;\n",
       "    }\n",
       "\n",
       "    .dataframe thead th {\n",
       "        text-align: right;\n",
       "    }\n",
       "</style>\n",
       "<table border=\"1\" class=\"dataframe\">\n",
       "  <thead>\n",
       "    <tr style=\"text-align: right;\">\n",
       "      <th></th>\n",
       "      <th>day</th>\n",
       "      <th>total_bill</th>\n",
       "    </tr>\n",
       "  </thead>\n",
       "  <tbody>\n",
       "    <tr>\n",
       "      <th>0</th>\n",
       "      <td>Thur</td>\n",
       "      <td>17.682742</td>\n",
       "    </tr>\n",
       "    <tr>\n",
       "      <th>1</th>\n",
       "      <td>Fri</td>\n",
       "      <td>17.151579</td>\n",
       "    </tr>\n",
       "    <tr>\n",
       "      <th>2</th>\n",
       "      <td>Sat</td>\n",
       "      <td>20.441379</td>\n",
       "    </tr>\n",
       "    <tr>\n",
       "      <th>3</th>\n",
       "      <td>Sun</td>\n",
       "      <td>21.410000</td>\n",
       "    </tr>\n",
       "  </tbody>\n",
       "</table>\n",
       "</div>"
      ],
      "text/plain": [
       "    day  total_bill\n",
       "0  Thur   17.682742\n",
       "1   Fri   17.151579\n",
       "2   Sat   20.441379\n",
       "3   Sun   21.410000"
      ]
     },
     "execution_count": 5,
     "metadata": {},
     "output_type": "execute_result"
    }
   ],
   "source": [
    "data = tips.groupby(\"day\")[\"total_bill\"].aggregate(np.mean).reset_index()\n",
    "data"
   ]
  },
  {
   "cell_type": "code",
   "execution_count": 6,
   "metadata": {},
   "outputs": [
    {
     "data": {
      "image/png": "[encoded data removed]",
      "text/plain": [
       "<Figure size 576x288 with 1 Axes>"
      ]
     },
     "metadata": {
      "needs_background": "dark"
     },
     "output_type": "display_data"
    }
   ],
   "source": [
    "fig, ax = plt.subplots(figsize = (8, 4))\n",
    "\n",
    "ci_errors = [1.7, 1.6, 1.5, 1.4] \n",
    "\n",
    "bar_fig = plt.bar(x = data.day,\n",
    "                  height = data.total_bill,\n",
    "                  color = [\"cornflowerblue\", \"coral\", \"palegreen\", \"teal\"],\n",
    "                  edgecolor = \"k\", linewidth = 1.2,\n",
    "                  yerr = ci_errors, capsize = 10)\n",
    "\n",
    "patterns = [\"-\", \"/\", \"||\", \"///\"]\n",
    "\n",
    "# La densità del pattern è regolata dal numero di caratteri inseriti!\n",
    "bar_fig[0].set_hatch(\"--\")\n",
    "bar_fig[1].set_hatch(\"||\")\n",
    "bar_fig[2].set_hatch(\"//\")\n",
    "bar_fig[3].set_hatch(\"///\")\n",
    "\n",
    "# In alternativa si può anche loopare:\n",
    "# for bar, pattern in zip(bar_fig, patterns):\n",
    "    # bar.set_hatch(pattern)\n",
    "\n",
    "on_top_labels = [\"Giovedì\", \"Venerdì\", \"Sabato\", \"Domenica\"]\n",
    "for i in range(len(data.day)):\n",
    "    plt.text(x = data.day[i],\n",
    "             y = data.total_bill[i] + ci_errors[i] + 2,\n",
    "             s = on_top_labels[i],\n",
    "             color = \"dimgray\", size = 12, ha = \"center\")\n",
    "\n",
    "plt.title(label = \"Average Bill per Day\",\n",
    "          y = 1.07, loc = \"left\", ha = \"left\", va = \"top\",\n",
    "          fontsize = 14, color = \"dimgray\", style = \"normal\")\n",
    "\n",
    "plt.title(label = \"May 2021\",\n",
    "          y = 1.05, loc = \"right\", ha = \"right\", va = \"top\",\n",
    "          fontsize = 10, color = \"grey\", style = \"italic\")\n",
    "\n",
    "plt.xticks([])\n",
    "plt.yticks(ticks = np.arange(0, 35, 5), color = \"gray\", fontsize = 10, ha = \"right\", va = \"center\")\n",
    "\n",
    "plt.xlabel(xlabel = \"Day of the Week !\",\n",
    "           fontweight = \"light\", color = (0,0,0,0.8),\n",
    "           fontsize = 12, rotation = 5, labelpad = 10)\n",
    "\n",
    "plt.ylim(0, 35)\n",
    "plt.tick_params(left = False, bottom = False)\n",
    "for spine in ax.spines.values():\n",
    "    spine.set_edgecolor(\"gray\")\n",
    "\n",
    "plt.show()"
   ]
  },
  {
   "cell_type": "markdown",
   "metadata": {},
   "source": [
    "---"
   ]
  },
  {
   "cell_type": "markdown",
   "metadata": {},
   "source": [
    "# Grouped Barplot"
   ]
  },
  {
   "cell_type": "code",
   "execution_count": 7,
   "metadata": {},
   "outputs": [
    {
     "data": {
      "text/html": [
       "<div>\n",
       "<style scoped>\n",
       "    .dataframe tbody tr th:only-of-type {\n",
       "        vertical-align: middle;\n",
       "    }\n",
       "\n",
       "    .dataframe tbody tr th {\n",
       "        vertical-align: top;\n",
       "    }\n",
       "\n",
       "    .dataframe thead th {\n",
       "        text-align: right;\n",
       "    }\n",
       "</style>\n",
       "<table border=\"1\" class=\"dataframe\">\n",
       "  <thead>\n",
       "    <tr style=\"text-align: right;\">\n",
       "      <th></th>\n",
       "      <th>day</th>\n",
       "      <th>smoker</th>\n",
       "      <th>total_bill</th>\n",
       "    </tr>\n",
       "  </thead>\n",
       "  <tbody>\n",
       "    <tr>\n",
       "      <th>0</th>\n",
       "      <td>Thur</td>\n",
       "      <td>Yes</td>\n",
       "      <td>19.190588</td>\n",
       "    </tr>\n",
       "    <tr>\n",
       "      <th>1</th>\n",
       "      <td>Thur</td>\n",
       "      <td>No</td>\n",
       "      <td>17.113111</td>\n",
       "    </tr>\n",
       "    <tr>\n",
       "      <th>2</th>\n",
       "      <td>Fri</td>\n",
       "      <td>Yes</td>\n",
       "      <td>16.813333</td>\n",
       "    </tr>\n",
       "    <tr>\n",
       "      <th>3</th>\n",
       "      <td>Fri</td>\n",
       "      <td>No</td>\n",
       "      <td>18.420000</td>\n",
       "    </tr>\n",
       "    <tr>\n",
       "      <th>4</th>\n",
       "      <td>Sat</td>\n",
       "      <td>Yes</td>\n",
       "      <td>21.276667</td>\n",
       "    </tr>\n",
       "    <tr>\n",
       "      <th>5</th>\n",
       "      <td>Sat</td>\n",
       "      <td>No</td>\n",
       "      <td>19.661778</td>\n",
       "    </tr>\n",
       "    <tr>\n",
       "      <th>6</th>\n",
       "      <td>Sun</td>\n",
       "      <td>Yes</td>\n",
       "      <td>24.120000</td>\n",
       "    </tr>\n",
       "    <tr>\n",
       "      <th>7</th>\n",
       "      <td>Sun</td>\n",
       "      <td>No</td>\n",
       "      <td>20.506667</td>\n",
       "    </tr>\n",
       "  </tbody>\n",
       "</table>\n",
       "</div>"
      ],
      "text/plain": [
       "    day smoker  total_bill\n",
       "0  Thur    Yes   19.190588\n",
       "1  Thur     No   17.113111\n",
       "2   Fri    Yes   16.813333\n",
       "3   Fri     No   18.420000\n",
       "4   Sat    Yes   21.276667\n",
       "5   Sat     No   19.661778\n",
       "6   Sun    Yes   24.120000\n",
       "7   Sun     No   20.506667"
      ]
     },
     "execution_count": 7,
     "metadata": {},
     "output_type": "execute_result"
    }
   ],
   "source": [
    "data = tips.groupby([\"day\", \"smoker\"])[\"total_bill\"].aggregate(np.mean).reset_index()\n",
    "data"
   ]
  },
  {
   "cell_type": "code",
   "execution_count": 8,
   "metadata": {},
   "outputs": [
    {
     "data": {
      "image/png": "[encoded data removed]",
      "text/plain": [
       "<Figure size 576x288 with 1 Axes>"
      ]
     },
     "metadata": {
      "needs_background": "dark"
     },
     "output_type": "display_data"
    }
   ],
   "source": [
    "fig, ax = plt.subplots(figsize = (8, 4))\n",
    "\n",
    "# Sfrutto la bar_width per posizionare le barre dei fumatori e non fumatori una accanto all'altra\n",
    "bar_width = 0.25\n",
    "\n",
    "# Array posizionali per le barre\n",
    "smoker_pos = np.arange(len(data.day.unique()))\n",
    "non_smoker_pos = np.arange(len(data.day.unique())) + bar_width\n",
    "\n",
    "plt.bar(x = smoker_pos,\n",
    "        height = data[data.smoker == \"Yes\"].total_bill,\n",
    "        width = bar_width,\n",
    "        color = (0,0,0,0.7),\n",
    "        label = \"Smokers\",\n",
    "        edgecolor = \"k\", linewidth = 1.2)\n",
    "\n",
    "plt.bar(x = non_smoker_pos,\n",
    "        height = data[data.smoker == \"No\"].total_bill,\n",
    "        width = bar_width,\n",
    "        color = (0,0,0,0.2),\n",
    "        label = \"Non Smokers\",\n",
    "        edgecolor = \"k\", linewidth = 1.2)\n",
    "\n",
    "# Il tick va al centro delle due barre\n",
    "xticks_pos = (smoker_pos + non_smoker_pos) / 2\n",
    "plt.xticks(xticks_pos, data.day.unique(), color = \"gray\")\n",
    "plt.yticks(color = \"gray\")\n",
    "\n",
    "plt.title(label = \"Average Bill per Day\",\n",
    "          y = 1.07, loc = \"left\", ha = \"left\", va = \"top\",\n",
    "          fontsize = 14, color = \"dimgray\", style = \"normal\")\n",
    "\n",
    "plt.title(label = \"May 2021\",\n",
    "          y = 1.05, loc = \"right\", ha = \"right\", va = \"top\",\n",
    "          fontsize = 10, color = \"grey\", style = \"italic\")\n",
    "\n",
    "for spine in ax.spines.values():\n",
    "    spine.set_edgecolor(\"gray\")\n",
    "    \n",
    "plt.legend(fontsize = 12)\n",
    "plt.show()"
   ]
  },
  {
   "cell_type": "markdown",
   "metadata": {},
   "source": [
    "---"
   ]
  },
  {
   "cell_type": "markdown",
   "metadata": {},
   "source": [
    "# Stacked Barplot"
   ]
  },
  {
   "cell_type": "code",
   "execution_count": 9,
   "metadata": {},
   "outputs": [
    {
     "data": {
      "text/html": [
       "<div>\n",
       "<style scoped>\n",
       "    .dataframe tbody tr th:only-of-type {\n",
       "        vertical-align: middle;\n",
       "    }\n",
       "\n",
       "    .dataframe tbody tr th {\n",
       "        vertical-align: top;\n",
       "    }\n",
       "\n",
       "    .dataframe thead th {\n",
       "        text-align: right;\n",
       "    }\n",
       "</style>\n",
       "<table border=\"1\" class=\"dataframe\">\n",
       "  <thead>\n",
       "    <tr style=\"text-align: right;\">\n",
       "      <th></th>\n",
       "      <th>day</th>\n",
       "      <th>smoker</th>\n",
       "      <th>total_bill</th>\n",
       "    </tr>\n",
       "  </thead>\n",
       "  <tbody>\n",
       "    <tr>\n",
       "      <th>0</th>\n",
       "      <td>Thur</td>\n",
       "      <td>Yes</td>\n",
       "      <td>326.24</td>\n",
       "    </tr>\n",
       "    <tr>\n",
       "      <th>1</th>\n",
       "      <td>Thur</td>\n",
       "      <td>No</td>\n",
       "      <td>770.09</td>\n",
       "    </tr>\n",
       "    <tr>\n",
       "      <th>2</th>\n",
       "      <td>Fri</td>\n",
       "      <td>Yes</td>\n",
       "      <td>252.20</td>\n",
       "    </tr>\n",
       "    <tr>\n",
       "      <th>3</th>\n",
       "      <td>Fri</td>\n",
       "      <td>No</td>\n",
       "      <td>73.68</td>\n",
       "    </tr>\n",
       "    <tr>\n",
       "      <th>4</th>\n",
       "      <td>Sat</td>\n",
       "      <td>Yes</td>\n",
       "      <td>893.62</td>\n",
       "    </tr>\n",
       "    <tr>\n",
       "      <th>5</th>\n",
       "      <td>Sat</td>\n",
       "      <td>No</td>\n",
       "      <td>884.78</td>\n",
       "    </tr>\n",
       "    <tr>\n",
       "      <th>6</th>\n",
       "      <td>Sun</td>\n",
       "      <td>Yes</td>\n",
       "      <td>458.28</td>\n",
       "    </tr>\n",
       "    <tr>\n",
       "      <th>7</th>\n",
       "      <td>Sun</td>\n",
       "      <td>No</td>\n",
       "      <td>1168.88</td>\n",
       "    </tr>\n",
       "  </tbody>\n",
       "</table>\n",
       "</div>"
      ],
      "text/plain": [
       "    day smoker  total_bill\n",
       "0  Thur    Yes      326.24\n",
       "1  Thur     No      770.09\n",
       "2   Fri    Yes      252.20\n",
       "3   Fri     No       73.68\n",
       "4   Sat    Yes      893.62\n",
       "5   Sat     No      884.78\n",
       "6   Sun    Yes      458.28\n",
       "7   Sun     No     1168.88"
      ]
     },
     "execution_count": 9,
     "metadata": {},
     "output_type": "execute_result"
    }
   ],
   "source": [
    "data = tips.groupby([\"day\", \"smoker\"])[\"total_bill\"].aggregate(np.sum).reset_index()\n",
    "data"
   ]
  },
  {
   "cell_type": "code",
   "execution_count": 10,
   "metadata": {},
   "outputs": [
    {
     "data": {
      "image/png": "[encoded data removed]",
      "text/plain": [
       "<Figure size 576x288 with 1 Axes>"
      ]
     },
     "metadata": {
      "needs_background": "light"
     },
     "output_type": "display_data"
    }
   ],
   "source": [
    "fig, ax = plt.subplots(figsize = (8, 4))\n",
    "\n",
    "plt.bar(x = data.day.unique(),\n",
    "        height = data[data.smoker == \"Yes\"].total_bill,\n",
    "        color = (1,0,0,0.5),\n",
    "        label = \"Smokers\",\n",
    "        edgecolor = \"k\")\n",
    "\n",
    "plt.bar(x = data.day.unique(),\n",
    "        height = data[data.smoker == \"No\"].total_bill,\n",
    "        bottom = data[data.smoker == \"Yes\"].total_bill,\n",
    "        color = (0,0,1,0.5),\n",
    "        label = \"Non Smokers\",\n",
    "        edgecolor = \"k\")\n",
    "\n",
    "for spine in ax.spines.values():\n",
    "    spine.set_edgecolor(\"gray\")\n",
    "    \n",
    "plt.legend(fontsize = 12)\n",
    "plt.show()"
   ]
  },
  {
   "cell_type": "markdown",
   "metadata": {},
   "source": [
    "---"
   ]
  },
  {
   "cell_type": "markdown",
   "metadata": {},
   "source": [
    "# Stacked Percentage Barplot"
   ]
  },
  {
   "cell_type": "code",
   "execution_count": 11,
   "metadata": {},
   "outputs": [
    {
     "data": {
      "text/html": [
       "<div>\n",
       "<style scoped>\n",
       "    .dataframe tbody tr th:only-of-type {\n",
       "        vertical-align: middle;\n",
       "    }\n",
       "\n",
       "    .dataframe tbody tr th {\n",
       "        vertical-align: top;\n",
       "    }\n",
       "\n",
       "    .dataframe thead th {\n",
       "        text-align: right;\n",
       "    }\n",
       "</style>\n",
       "<table border=\"1\" class=\"dataframe\">\n",
       "  <thead>\n",
       "    <tr style=\"text-align: right;\">\n",
       "      <th></th>\n",
       "      <th>day</th>\n",
       "      <th>smoker</th>\n",
       "      <th>total_bill</th>\n",
       "      <th>sum_total_bill_per_day</th>\n",
       "      <th>total_bill_day_pct</th>\n",
       "    </tr>\n",
       "  </thead>\n",
       "  <tbody>\n",
       "    <tr>\n",
       "      <th>0</th>\n",
       "      <td>Thur</td>\n",
       "      <td>Yes</td>\n",
       "      <td>326.24</td>\n",
       "      <td>1096.33</td>\n",
       "      <td>29.757464</td>\n",
       "    </tr>\n",
       "    <tr>\n",
       "      <th>1</th>\n",
       "      <td>Thur</td>\n",
       "      <td>No</td>\n",
       "      <td>770.09</td>\n",
       "      <td>1096.33</td>\n",
       "      <td>70.242536</td>\n",
       "    </tr>\n",
       "    <tr>\n",
       "      <th>2</th>\n",
       "      <td>Fri</td>\n",
       "      <td>Yes</td>\n",
       "      <td>252.20</td>\n",
       "      <td>325.88</td>\n",
       "      <td>77.390450</td>\n",
       "    </tr>\n",
       "    <tr>\n",
       "      <th>3</th>\n",
       "      <td>Fri</td>\n",
       "      <td>No</td>\n",
       "      <td>73.68</td>\n",
       "      <td>325.88</td>\n",
       "      <td>22.609550</td>\n",
       "    </tr>\n",
       "    <tr>\n",
       "      <th>4</th>\n",
       "      <td>Sat</td>\n",
       "      <td>Yes</td>\n",
       "      <td>893.62</td>\n",
       "      <td>1778.40</td>\n",
       "      <td>50.248538</td>\n",
       "    </tr>\n",
       "    <tr>\n",
       "      <th>5</th>\n",
       "      <td>Sat</td>\n",
       "      <td>No</td>\n",
       "      <td>884.78</td>\n",
       "      <td>1778.40</td>\n",
       "      <td>49.751462</td>\n",
       "    </tr>\n",
       "    <tr>\n",
       "      <th>6</th>\n",
       "      <td>Sun</td>\n",
       "      <td>Yes</td>\n",
       "      <td>458.28</td>\n",
       "      <td>1627.16</td>\n",
       "      <td>28.164409</td>\n",
       "    </tr>\n",
       "    <tr>\n",
       "      <th>7</th>\n",
       "      <td>Sun</td>\n",
       "      <td>No</td>\n",
       "      <td>1168.88</td>\n",
       "      <td>1627.16</td>\n",
       "      <td>71.835591</td>\n",
       "    </tr>\n",
       "  </tbody>\n",
       "</table>\n",
       "</div>"
      ],
      "text/plain": [
       "    day smoker  total_bill  sum_total_bill_per_day  total_bill_day_pct\n",
       "0  Thur    Yes      326.24                 1096.33           29.757464\n",
       "1  Thur     No      770.09                 1096.33           70.242536\n",
       "2   Fri    Yes      252.20                  325.88           77.390450\n",
       "3   Fri     No       73.68                  325.88           22.609550\n",
       "4   Sat    Yes      893.62                 1778.40           50.248538\n",
       "5   Sat     No      884.78                 1778.40           49.751462\n",
       "6   Sun    Yes      458.28                 1627.16           28.164409\n",
       "7   Sun     No     1168.88                 1627.16           71.835591"
      ]
     },
     "execution_count": 11,
     "metadata": {},
     "output_type": "execute_result"
    }
   ],
   "source": [
    "data = tips.groupby([\"day\", \"smoker\"])[\"total_bill\"].aggregate(np.sum).reset_index()\n",
    "data = data.merge(data.groupby(\"day\")[\"total_bill\"].aggregate(np.sum), on = \"day\", how = \"inner\")\n",
    "data.rename(columns = {\"total_bill_y\": \"sum_total_bill_per_day\", \"total_bill_x\": \"total_bill\"}, inplace = True)\n",
    "data[\"total_bill_day_pct\"] = data[\"total_bill\"] / data[\"sum_total_bill_per_day\"] * 100\n",
    "data"
   ]
  },
  {
   "cell_type": "code",
   "execution_count": 12,
   "metadata": {},
   "outputs": [
    {
     "data": {
      "image/png": "[encoded data removed]",
      "text/plain": [
       "<Figure size 576x288 with 1 Axes>"
      ]
     },
     "metadata": {
      "needs_background": "light"
     },
     "output_type": "display_data"
    }
   ],
   "source": [
    "fig, ax = plt.subplots(figsize = (8, 4))\n",
    "\n",
    "plt.bar(x = data.day.unique(),\n",
    "        height = data[data.smoker == \"Yes\"].total_bill_day_pct,\n",
    "        color = (1,0,0,0.5),\n",
    "        label = \"Smokers\",\n",
    "        edgecolor = \"k\")\n",
    "\n",
    "plt.bar(x = data.day.unique(),\n",
    "        height = data[data.smoker == \"No\"].total_bill_day_pct,\n",
    "        bottom = data[data.smoker == \"Yes\"].total_bill_day_pct,\n",
    "        color = (0,0,1,0.5),\n",
    "        label = \"Non Smokers\",\n",
    "        edgecolor = \"k\")\n",
    "\n",
    "leg = ax.legend(bbox_to_anchor = (1, 1), fontsize = 12)\n",
    "\n",
    "ax.tick_params(color = \"dimgray\", labelcolor = \"dimgray\")\n",
    "for spine in ax.spines.values():\n",
    "    spine.set_edgecolor(\"gray\")\n",
    "\n",
    "plt.show()"
   ]
  },
  {
   "cell_type": "markdown",
   "metadata": {},
   "source": [
    "---"
   ]
  },
  {
   "cell_type": "markdown",
   "metadata": {},
   "source": [
    "# Seaborn Barplot"
   ]
  },
  {
   "cell_type": "code",
   "execution_count": 13,
   "metadata": {},
   "outputs": [
    {
     "data": {
      "image/png": "[encoded data removed]",
      "text/plain": [
       "<Figure size 576x288 with 1 Axes>"
      ]
     },
     "metadata": {
      "needs_background": "light"
     },
     "output_type": "display_data"
    }
   ],
   "source": [
    "fig, ax = plt.subplots(figsize = (8, 4))\n",
    "\n",
    "plot_order = tips.groupby(\"day\")[\"total_bill\"].aggregate(np.mean).sort_values().index.to_list()\n",
    "\n",
    "sns.barplot(\n",
    "    x = \"day\", \n",
    "    y = \"total_bill\", \n",
    "    data = tips, \n",
    "    estimator = np.mean, \n",
    "    ci = 95, \n",
    "    order = plot_order, \n",
    "    orient = \"v\",\n",
    "    color = \"cornflowerblue\",\n",
    "    capsize = 0.2)\n",
    "\n",
    "plt.show()"
   ]
  },
  {
   "cell_type": "markdown",
   "metadata": {},
   "source": [
    "---"
   ]
  }
 ],
 "metadata": {
  "kernelspec": {
   "display_name": "Python 3",
   "language": "python",
   "name": "python3"
  },
  "language_info": {
   "codemirror_mode": {
    "name": "ipython",
    "version": 3
   },
   "file_extension": ".py",
   "mimetype": "text/x-python",
   "name": "python",
   "nbconvert_exporter": "python",
   "pygments_lexer": "ipython3",
   "version": "3.7.6"
  }
 },
 "nbformat": 4,
 "nbformat_minor": 4
}
