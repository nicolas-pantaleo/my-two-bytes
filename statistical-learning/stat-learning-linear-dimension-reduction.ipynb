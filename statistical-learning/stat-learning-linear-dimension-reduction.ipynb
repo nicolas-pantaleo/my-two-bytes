{
 "cells": [
  {
   "cell_type": "markdown",
   "metadata": {},
   "source": [
    "# Statistical Learning - Linear Dimension Reduction"
   ]
  },
  {
   "cell_type": "markdown",
   "metadata": {},
   "source": [
    "---"
   ]
  },
  {
   "cell_type": "markdown",
   "metadata": {},
   "source": [
    "## Contents"
   ]
  },
  {
   "cell_type": "markdown",
   "metadata": {},
   "source": [
    "### [Subset Selection](#subset-selection)\n",
    "   - [Best Subset Selection](#best-subset-selection)\n",
    "   - [Forward Stepwise Selection](#fwd-stepwise-selection)\n",
    "   - [Backward Stepwise Selection](#bwd-stepwise-selection)\n",
    "   - [Choosing the Optimal Model](#choosing-best)\n",
    "\n",
    "\n",
    "### [Shrinkage Methods](#shrinkage)\n",
    "   - [Ridge Regression](#ridge)\n",
    "   - [Lasso Regression](#lasso)\n",
    "   \n",
    "   \n",
    "### [Dimension Reduction Methods](#dimension-reduction)\n",
    "   - [Principal Components Regression](#pcr)\n",
    "   - [Partial Least Squares](#pls)"
   ]
  },
  {
   "cell_type": "markdown",
   "metadata": {},
   "source": [
    "---"
   ]
  },
  {
   "cell_type": "markdown",
   "metadata": {},
   "source": [
    "## Import"
   ]
  },
  {
   "cell_type": "code",
   "execution_count": 1,
   "metadata": {},
   "outputs": [],
   "source": [
    "import numpy as np\n",
    "import pandas as pd\n",
    "import matplotlib.pyplot as plt\n",
    "import matplotlib.patheffects as mpe\n",
    "import seaborn as sns\n",
    "from scipy import stats\n",
    "from IPython.display import Image\n",
    "from IPython.core.display import HTML \n",
    "\n",
    "import statsmodels.api as sm\n",
    "import statsmodels.formula.api as smf\n",
    "\n",
    "from sklearn.decomposition import PCA\n",
    "from sklearn.preprocessing import scale\n",
    "from sklearn.model_selection import KFold\n",
    "from sklearn.metrics import mean_squared_error\n",
    "from sklearn.linear_model import LinearRegression\n",
    "from itertools import combinations\n",
    "\n",
    "np.set_printoptions(suppress=True)\n",
    "%matplotlib inline\n",
    "plt.style.use(\"fivethirtyeight\")"
   ]
  },
  {
   "cell_type": "markdown",
   "metadata": {},
   "source": [
    "---"
   ]
  },
  {
   "cell_type": "markdown",
   "metadata": {},
   "source": [
    "## Datasets"
   ]
  },
  {
   "cell_type": "markdown",
   "metadata": {},
   "source": [
    "_Credit Dataset_"
   ]
  },
  {
   "cell_type": "code",
   "execution_count": 2,
   "metadata": {},
   "outputs": [
    {
     "data": {
      "text/html": [
       "<div>\n",
       "<style scoped>\n",
       "    .dataframe tbody tr th:only-of-type {\n",
       "        vertical-align: middle;\n",
       "    }\n",
       "\n",
       "    .dataframe tbody tr th {\n",
       "        vertical-align: top;\n",
       "    }\n",
       "\n",
       "    .dataframe thead th {\n",
       "        text-align: right;\n",
       "    }\n",
       "</style>\n",
       "<table border=\"1\" class=\"dataframe\">\n",
       "  <thead>\n",
       "    <tr style=\"text-align: right;\">\n",
       "      <th></th>\n",
       "      <th>Income</th>\n",
       "      <th>Limit</th>\n",
       "      <th>Rating</th>\n",
       "      <th>Cards</th>\n",
       "      <th>Age</th>\n",
       "      <th>Education</th>\n",
       "      <th>Gender</th>\n",
       "      <th>Student</th>\n",
       "      <th>Married</th>\n",
       "      <th>Ethnicity</th>\n",
       "      <th>Balance</th>\n",
       "    </tr>\n",
       "  </thead>\n",
       "  <tbody>\n",
       "    <tr>\n",
       "      <th>0</th>\n",
       "      <td>14.891</td>\n",
       "      <td>3606</td>\n",
       "      <td>283</td>\n",
       "      <td>2</td>\n",
       "      <td>34</td>\n",
       "      <td>11</td>\n",
       "      <td>1</td>\n",
       "      <td>0</td>\n",
       "      <td>1</td>\n",
       "      <td>Caucasian</td>\n",
       "      <td>333</td>\n",
       "    </tr>\n",
       "    <tr>\n",
       "      <th>1</th>\n",
       "      <td>106.025</td>\n",
       "      <td>6645</td>\n",
       "      <td>483</td>\n",
       "      <td>3</td>\n",
       "      <td>82</td>\n",
       "      <td>15</td>\n",
       "      <td>0</td>\n",
       "      <td>1</td>\n",
       "      <td>1</td>\n",
       "      <td>Asian</td>\n",
       "      <td>903</td>\n",
       "    </tr>\n",
       "    <tr>\n",
       "      <th>2</th>\n",
       "      <td>104.593</td>\n",
       "      <td>7075</td>\n",
       "      <td>514</td>\n",
       "      <td>4</td>\n",
       "      <td>71</td>\n",
       "      <td>11</td>\n",
       "      <td>1</td>\n",
       "      <td>0</td>\n",
       "      <td>0</td>\n",
       "      <td>Asian</td>\n",
       "      <td>580</td>\n",
       "    </tr>\n",
       "    <tr>\n",
       "      <th>3</th>\n",
       "      <td>148.924</td>\n",
       "      <td>9504</td>\n",
       "      <td>681</td>\n",
       "      <td>3</td>\n",
       "      <td>36</td>\n",
       "      <td>11</td>\n",
       "      <td>0</td>\n",
       "      <td>0</td>\n",
       "      <td>0</td>\n",
       "      <td>Asian</td>\n",
       "      <td>964</td>\n",
       "    </tr>\n",
       "    <tr>\n",
       "      <th>4</th>\n",
       "      <td>55.882</td>\n",
       "      <td>4897</td>\n",
       "      <td>357</td>\n",
       "      <td>2</td>\n",
       "      <td>68</td>\n",
       "      <td>16</td>\n",
       "      <td>1</td>\n",
       "      <td>0</td>\n",
       "      <td>1</td>\n",
       "      <td>Caucasian</td>\n",
       "      <td>331</td>\n",
       "    </tr>\n",
       "  </tbody>\n",
       "</table>\n",
       "</div>"
      ],
      "text/plain": [
       "    Income  Limit  Rating  Cards  Age  Education  Gender  Student  Married  \\\n",
       "0   14.891   3606     283      2   34         11       1        0        1   \n",
       "1  106.025   6645     483      3   82         15       0        1        1   \n",
       "2  104.593   7075     514      4   71         11       1        0        0   \n",
       "3  148.924   9504     681      3   36         11       0        0        0   \n",
       "4   55.882   4897     357      2   68         16       1        0        1   \n",
       "\n",
       "   Ethnicity  Balance  \n",
       "0  Caucasian      333  \n",
       "1      Asian      903  \n",
       "2      Asian      580  \n",
       "3      Asian      964  \n",
       "4  Caucasian      331  "
      ]
     },
     "execution_count": 2,
     "metadata": {},
     "output_type": "execute_result"
    }
   ],
   "source": [
    "cred = pd.read_csv(\"data/credit.csv\")\n",
    "cred.drop([\"Unnamed: 0\"], axis = 1, inplace = True)\n",
    "cred[\"Student\"].replace({\"Yes\": 1, \"No\": 0}, inplace = True)\n",
    "cred[\"Married\"].replace({\"Yes\": 1, \"No\": 0}, inplace = True)\n",
    "cred[\"Gender\"].replace({\" Male\": 1, \"Female\": 0}, inplace = True)\n",
    "cred.head()"
   ]
  },
  {
   "cell_type": "markdown",
   "metadata": {},
   "source": [
    "---"
   ]
  },
  {
   "cell_type": "markdown",
   "metadata": {},
   "source": [
    "<a id=\"subset-selection\"></a>\n",
    "# Subset Selection"
   ]
  },
  {
   "cell_type": "markdown",
   "metadata": {},
   "source": [
    "Il processo di *subset selection* ha l'obiettivo di individuare il corretto sottoinsieme di predittori da associare alla *response*. Esistono diversi approcci possibili."
   ]
  },
  {
   "cell_type": "markdown",
   "metadata": {},
   "source": [
    "---"
   ]
  },
  {
   "cell_type": "markdown",
   "metadata": {},
   "source": [
    "<a id=\"best-subset-selection\"></a>\n",
    "## Best Subset Selection"
   ]
  },
  {
   "cell_type": "markdown",
   "metadata": {},
   "source": [
    "E' necessario addestrare una regressione lineare per ciascuna combinazione possibile dei $p$ *predictors*. In parole povere, si fittano tutti i $p$ modelli che contengono un solo predittore, tutti i $\\binom{p}{2}$ modelli che contengono esattamente due predittori, tutti i $\\binom{p}{3}$ modelli che contengono esattamente tre predittori e così via."
   ]
  },
  {
   "cell_type": "markdown",
   "metadata": {},
   "source": [
    "Riassumiamo la *best subset selection* in forma algoritmica:\n",
    "\n",
    "- Si parte dal *null model* $M_0$, che non contiene predittori e restituisce sempre la *mean response* per ogni input.\n",
    "\n",
    "\n",
    "- Per $k=1,\\dots,p$:\n",
    "   - Si fittano i $\\binom{p}{k}$ modelli che contengono $k$ predittori.\n",
    "   - Si individua il modello che fitta meglio il training set e lo si denota con $M_k$. La metrica di riferimento per valutare il fit del training set è la *RSS* o l'*R-squared*.\n",
    "\n",
    "\n",
    "- Ora che si hanno a disposizione i modelli $M_0,\\dots,M_p$, si individua il migliore di questi usando la *CV*, l'*AIC*, il *BIC* o l'*Adjusted-R-squared*."
   ]
  },
  {
   "cell_type": "markdown",
   "metadata": {},
   "source": [
    "La *best subset selection* è concettualmente semplice, ma soffre di limitazioni computazionali. Anche solo con 10 predittori, bisogna valutare 1000 modelli diversi!"
   ]
  },
  {
   "cell_type": "markdown",
   "metadata": {},
   "source": [
    "---"
   ]
  },
  {
   "cell_type": "markdown",
   "metadata": {},
   "source": [
    "<a id=\"fwd-stepwise-selection\"></a>\n",
    "## Forward Stepwise Selection"
   ]
  },
  {
   "cell_type": "markdown",
   "metadata": {},
   "source": [
    "Si inizia con il *null model* e si aggiungono predittori uno alla volta fin quando tutti sono inclusi nel modello. Ad ogni step, però, si aggiunge al modello solo la variabile che fornisce il maggior incremento addizionale al fitting dei dati."
   ]
  },
  {
   "cell_type": "markdown",
   "metadata": {},
   "source": [
    "Riassumiamo la *forward stepwise selection* in forma algoritmica:\n",
    "\n",
    "- Si parte dal *null model* $M_0$, che non contiene predittori e restituisce sempre la *mean response* per ogni input.\n",
    "\n",
    "\n",
    "- Per $k=0,\\dots,p-1$:\n",
    "   - Ho già a disposizione il modello $M_k$. Si addestrano tutti i $p-k$ modelli che derivano dall'aggiunta di un ulteriore predittore rispetto a quelli contenuti in $M_k$.\n",
    "   - Scelgo il migliore fra questi $p-k$ modelli e lo chiamo $M_{k+1}$. Il modello migliore è quello che meglio fitta i dati di training, quindi lo individuo analizzando i valori di *RSS* o *R-Squared*.\n",
    "   \n",
    "   \n",
    "- Ora che si hanno a disposizione i modelli $M_0,\\dots,M_p$, si individua il migliore di questi usando la *CV*, l'*AIC*, il *BIC* o l'*Adjusted-R-squared*."
   ]
  },
  {
   "cell_type": "markdown",
   "metadata": {},
   "source": [
    "Al posto di addestrare $2^p$ modelli come nella *best subset selection*, in questo caso si fittano $p-k$ modelli ad ogni iterazione, con $k$ che aumenta ad ogni step fino a raggiungere $p-1$. In totale, si tratta di $1+p(p+1)/2$ modelli."
   ]
  },
  {
   "cell_type": "markdown",
   "metadata": {},
   "source": [
    "Specifichiamo che questo approccio non garantisce l'individuazione del sottoinsieme di predittori ideali, cioè non ha la certezza di restituire il migliore fra tutti i $2^p$ modelli possibili. \n",
    "\n",
    "Facciamo un esempio: se ho tre predittori e il miglior modello univariato contiene $X_1$, tutti i modelli successivi conterranno sempre $X_1$; è possibile, però, che il miglior modello bivariato sia quello contenente $X_2$ e $X_3$, e la procedura non sarà mai in grado di individuarlo."
   ]
  },
  {
   "cell_type": "markdown",
   "metadata": {},
   "source": [
    "---"
   ]
  },
  {
   "cell_type": "markdown",
   "metadata": {},
   "source": [
    "<a id=\"bwd-stepwise-selection\"></a>\n",
    "## Backward Stepwise Selection"
   ]
  },
  {
   "cell_type": "markdown",
   "metadata": {},
   "source": [
    "Si parte dal *full model* contenente tutti i predittori, e ad ogni step si rimuove quello che sembra fornire il peggior contributo al fitting dei dati di training."
   ]
  },
  {
   "cell_type": "markdown",
   "metadata": {},
   "source": [
    "Riassumiamo la *backward stepwise selection* in forma algoritmica:\n",
    "\n",
    "- Si parte dal *full model* $M_p$, che contiene tutti i predittori.\n",
    "\n",
    "\n",
    "- Per $k=p,p-1,p-2,\\dots,1$:\n",
    "   - Ho già a disposizione il modello $M_p$. Si addestrano tutti i $k$ modelli che derivano dalla rimozione di uno dei predittori già contenuti in in $M_k$.\n",
    "   - Scelgo il migliore fra questi $k$ modelli e lo chiamo $M_{k-1}$. Il modello migliore è quello che meglio fitta i dati di training, quindi lo individuo analizzando i valori di *RSS* o *R-Squared*.\n",
    "   \n",
    "   \n",
    "- Ora che si hanno a disposizione i modelli $M_0,\\dots,M_p$, si individua il migliore di questi usando la *CV*, l'*AIC*, il *BIC* o l'*Adjusted-R-squared*."
   ]
  },
  {
   "cell_type": "markdown",
   "metadata": {},
   "source": [
    "Anche in questo caso il numero totale di modelli analizzati è $1+p(p+1)/2$, e anche in questo caso non c'è garanzia di individuare il migliore fra i $2^p$ modelli totali."
   ]
  },
  {
   "cell_type": "markdown",
   "metadata": {},
   "source": [
    "---"
   ]
  },
  {
   "cell_type": "markdown",
   "metadata": {},
   "source": [
    "<a id=\"choosing-best\"></a>\n",
    "## Choosing the Optimal Model"
   ]
  },
  {
   "cell_type": "markdown",
   "metadata": {},
   "source": [
    "In tutti gli approcci proposti è sempre presente uno step incentrato sull'individuazione del modello che meglio lavora sui dati di test. Ci sono due tecniche per risolvere tale problema:\n",
    "\n",
    "- Stimare *indirettamente* il *test error* applicando una sorta di *adjustment* al *training error*, che tenga conto dell'overfitting e del numero di predittori.\n",
    "\n",
    "\n",
    "- Stimare *direttamente* il *test error* usando la *cross-validation*."
   ]
  },
  {
   "cell_type": "markdown",
   "metadata": {},
   "source": [
    "Abbiamo dimostrato come il *training MSE* non sia altro che una sottostima del *test MSE*. Esistono però delle metriche che sfruttano la *RSS* di *training* per costruire una più affidabile del *test error*: *Mallow's $C_p$*, *Akaike Information Criterion*, *Bayesian Information Criterion* e *Adjusted R-squared*."
   ]
  },
  {
   "cell_type": "markdown",
   "metadata": {},
   "source": [
    "Per un modello con $d$ predittori, la stima del *test MSE* prodotta dal **Mallow's $C_p$** deriva dalla seguente formulazione:"
   ]
  },
  {
   "cell_type": "markdown",
   "metadata": {},
   "source": [
    "$$\\large C_p=\\frac{1}{n}\\left(RSS+2d\\hat{\\sigma}^2\\right)$$"
   ]
  },
  {
   "cell_type": "markdown",
   "metadata": {},
   "source": [
    "Il valore $\\hat{\\sigma}^2$ è una stima della variabilità dell'*error term* $\\epsilon$ associato a ciascuna misurazione della *response*. In genere, tale stima si costruisce a partire dal *full model* e non dal modello a $d$ predittori per il quale si sta calcolando il *test MSE*.\n",
    "\n",
    "Notiamo come $C_p$ aggiunga una penalità alla *training RSS* in modo da compensare la decrescita nativa di *RSS* all'aggiunta di nuovi predittori."
   ]
  },
  {
   "cell_type": "markdown",
   "metadata": {},
   "source": [
    "Per un modello con $d$ predittori, la stima del *test MSE* prodotta dall'**Akaike Information Criterion** deriva dalla seguente formulazione:"
   ]
  },
  {
   "cell_type": "markdown",
   "metadata": {},
   "source": [
    "$$\\large AIC=\\frac{1}{n\\hat{\\sigma}^2}\\left(RSS+2d\\hat{\\sigma}^2\\right)$$"
   ]
  },
  {
   "cell_type": "markdown",
   "metadata": {},
   "source": [
    "Essendo proporzionali fra loro, spesso solo uno fra l'*AIC* e il *Cp* è riportato nelle analisi."
   ]
  },
  {
   "cell_type": "markdown",
   "metadata": {},
   "source": [
    "Per un modello con $d$ predittori, la stima del *test MSE* prodotta dal **Bayesian Information Criterion** deriva dalla seguente formulazione:"
   ]
  },
  {
   "cell_type": "markdown",
   "metadata": {},
   "source": [
    "$$\\large BIC=\\frac{1}{n\\hat{\\sigma}^2}\\left(RSS+log(n)d\\hat{\\sigma}^2\\right)$$"
   ]
  },
  {
   "cell_type": "markdown",
   "metadata": {},
   "source": [
    "Siccome $log(n)>2$ per qualsiasi $n>7$, è possibile osservare come la *BIC* applichi una penalità maggiore a modelli con più variabili, e quindi porti il processo di *model selection* a isolare modelli mediamente più piccoli."
   ]
  },
  {
   "cell_type": "markdown",
   "metadata": {},
   "source": [
    "Per un modello con $d$ predittori, la stima del *test MSE* prodotta dall'**Adjusted $R^2$** deriva dalla seguente formulazione:"
   ]
  },
  {
   "cell_type": "markdown",
   "metadata": {},
   "source": [
    "$$\\large Adj.R^2=1-\\frac{RSS/(n-d-1)}{TSS/(n-1)}$$"
   ]
  },
  {
   "cell_type": "markdown",
   "metadata": {},
   "source": [
    "Al contrario del *Cp*, dell'*AIC* e del *BIC*, che assumono valori bassi per indicare un basso *test error*, l'*Adjusted R-squared* assume valori alti per indicare modelli molto performanti."
   ]
  },
  {
   "cell_type": "markdown",
   "metadata": {},
   "source": [
    "<br>"
   ]
  },
  {
   "cell_type": "markdown",
   "metadata": {},
   "source": [
    "La **cross-validation** rappresenta un valido rivale per le quattro metriche appena descritte. Ci sono tre vantaggi chiave: la *CV* calcola direttamente una stima del *test error*, compie meno assunzioni sul modello sottostante e può essere usate per una gran varietà di task, specialmente in quelli in cui è molto difficile stimare la variabilità dell'*error term* $\\sigma^2$."
   ]
  },
  {
   "cell_type": "markdown",
   "metadata": {},
   "source": [
    "Le metriche appena descritte sono diventate famose perché non gravano sul processo dal punto di vista computazionale, al contrario della *CV*."
   ]
  },
  {
   "cell_type": "markdown",
   "metadata": {},
   "source": [
    "<br>"
   ]
  },
  {
   "cell_type": "markdown",
   "metadata": {},
   "source": [
    "Usiamo la **CV** e la **stepwise forward selection** per individuare il miglior set di predittori del dataset *credit*, che ha come *response* la variabile *balance*:"
   ]
  },
  {
   "cell_type": "code",
   "execution_count": 3,
   "metadata": {},
   "outputs": [
    {
     "data": {
      "text/html": [
       "<div>\n",
       "<style scoped>\n",
       "    .dataframe tbody tr th:only-of-type {\n",
       "        vertical-align: middle;\n",
       "    }\n",
       "\n",
       "    .dataframe tbody tr th {\n",
       "        vertical-align: top;\n",
       "    }\n",
       "\n",
       "    .dataframe thead th {\n",
       "        text-align: right;\n",
       "    }\n",
       "</style>\n",
       "<table border=\"1\" class=\"dataframe\">\n",
       "  <thead>\n",
       "    <tr style=\"text-align: right;\">\n",
       "      <th></th>\n",
       "      <th>Income</th>\n",
       "      <th>Limit</th>\n",
       "      <th>Rating</th>\n",
       "      <th>Cards</th>\n",
       "      <th>Age</th>\n",
       "      <th>Education</th>\n",
       "      <th>Gender</th>\n",
       "      <th>Student</th>\n",
       "      <th>Married</th>\n",
       "      <th>Balance</th>\n",
       "      <th>Ethnicity_African American</th>\n",
       "      <th>Ethnicity_Asian</th>\n",
       "      <th>Ethnicity_Caucasian</th>\n",
       "    </tr>\n",
       "  </thead>\n",
       "  <tbody>\n",
       "    <tr>\n",
       "      <th>0</th>\n",
       "      <td>14.891</td>\n",
       "      <td>3606</td>\n",
       "      <td>283</td>\n",
       "      <td>2</td>\n",
       "      <td>34</td>\n",
       "      <td>11</td>\n",
       "      <td>1</td>\n",
       "      <td>0</td>\n",
       "      <td>1</td>\n",
       "      <td>333</td>\n",
       "      <td>0</td>\n",
       "      <td>0</td>\n",
       "      <td>1</td>\n",
       "    </tr>\n",
       "    <tr>\n",
       "      <th>1</th>\n",
       "      <td>106.025</td>\n",
       "      <td>6645</td>\n",
       "      <td>483</td>\n",
       "      <td>3</td>\n",
       "      <td>82</td>\n",
       "      <td>15</td>\n",
       "      <td>0</td>\n",
       "      <td>1</td>\n",
       "      <td>1</td>\n",
       "      <td>903</td>\n",
       "      <td>0</td>\n",
       "      <td>1</td>\n",
       "      <td>0</td>\n",
       "    </tr>\n",
       "    <tr>\n",
       "      <th>2</th>\n",
       "      <td>104.593</td>\n",
       "      <td>7075</td>\n",
       "      <td>514</td>\n",
       "      <td>4</td>\n",
       "      <td>71</td>\n",
       "      <td>11</td>\n",
       "      <td>1</td>\n",
       "      <td>0</td>\n",
       "      <td>0</td>\n",
       "      <td>580</td>\n",
       "      <td>0</td>\n",
       "      <td>1</td>\n",
       "      <td>0</td>\n",
       "    </tr>\n",
       "    <tr>\n",
       "      <th>3</th>\n",
       "      <td>148.924</td>\n",
       "      <td>9504</td>\n",
       "      <td>681</td>\n",
       "      <td>3</td>\n",
       "      <td>36</td>\n",
       "      <td>11</td>\n",
       "      <td>0</td>\n",
       "      <td>0</td>\n",
       "      <td>0</td>\n",
       "      <td>964</td>\n",
       "      <td>0</td>\n",
       "      <td>1</td>\n",
       "      <td>0</td>\n",
       "    </tr>\n",
       "    <tr>\n",
       "      <th>4</th>\n",
       "      <td>55.882</td>\n",
       "      <td>4897</td>\n",
       "      <td>357</td>\n",
       "      <td>2</td>\n",
       "      <td>68</td>\n",
       "      <td>16</td>\n",
       "      <td>1</td>\n",
       "      <td>0</td>\n",
       "      <td>1</td>\n",
       "      <td>331</td>\n",
       "      <td>0</td>\n",
       "      <td>0</td>\n",
       "      <td>1</td>\n",
       "    </tr>\n",
       "  </tbody>\n",
       "</table>\n",
       "</div>"
      ],
      "text/plain": [
       "    Income  Limit  Rating  Cards  Age  Education  Gender  Student  Married  \\\n",
       "0   14.891   3606     283      2   34         11       1        0        1   \n",
       "1  106.025   6645     483      3   82         15       0        1        1   \n",
       "2  104.593   7075     514      4   71         11       1        0        0   \n",
       "3  148.924   9504     681      3   36         11       0        0        0   \n",
       "4   55.882   4897     357      2   68         16       1        0        1   \n",
       "\n",
       "   Balance  Ethnicity_African American  Ethnicity_Asian  Ethnicity_Caucasian  \n",
       "0      333                           0                0                    1  \n",
       "1      903                           0                1                    0  \n",
       "2      580                           0                1                    0  \n",
       "3      964                           0                1                    0  \n",
       "4      331                           0                0                    1  "
      ]
     },
     "execution_count": 3,
     "metadata": {},
     "output_type": "execute_result"
    }
   ],
   "source": [
    "df = cred.copy()\n",
    "df = pd.get_dummies(df, columns=[\"Ethnicity\"])\n",
    "df.head()"
   ]
  },
  {
   "cell_type": "code",
   "execution_count": 4,
   "metadata": {},
   "outputs": [],
   "source": [
    "response = \"Balance\"\n",
    "X = df.drop(response, axis = 1)\n",
    "Y = df[response]\n",
    "\n",
    "k = len(X.columns)\n",
    "\n",
    "remaining_features = list(X.columns)\n",
    "best_features = list()\n",
    "r2_list = list()\n",
    "features_dict = dict()\n",
    "\n",
    "for i in range(1, k + 1):\n",
    "    best_r2 = 0\n",
    "    for combo in combinations(remaining_features, 1):\n",
    "        model = LinearRegression()\n",
    "        model.fit(X[list(combo) + best_features], Y)\n",
    "        r2 = model.score(X[list(combo) + best_features], Y)\n",
    "        \n",
    "        if r2 > best_r2:\n",
    "            best_r2 = r2\n",
    "            best_feature = combo[0]\n",
    "\n",
    "    best_features.append(best_feature)\n",
    "    remaining_features.remove(best_feature)\n",
    "    \n",
    "    r2_list.append(best_r2)\n",
    "    features_dict[i] = best_features.copy()"
   ]
  },
  {
   "cell_type": "code",
   "execution_count": 5,
   "metadata": {},
   "outputs": [
    {
     "data": {
      "text/html": [
       "<div>\n",
       "<style scoped>\n",
       "    .dataframe tbody tr th:only-of-type {\n",
       "        vertical-align: middle;\n",
       "    }\n",
       "\n",
       "    .dataframe tbody tr th {\n",
       "        vertical-align: top;\n",
       "    }\n",
       "\n",
       "    .dataframe thead th {\n",
       "        text-align: right;\n",
       "    }\n",
       "</style>\n",
       "<table border=\"1\" class=\"dataframe\">\n",
       "  <thead>\n",
       "    <tr style=\"text-align: right;\">\n",
       "      <th></th>\n",
       "      <th>num_preds</th>\n",
       "      <th>features</th>\n",
       "      <th>R2</th>\n",
       "    </tr>\n",
       "  </thead>\n",
       "  <tbody>\n",
       "    <tr>\n",
       "      <th>0</th>\n",
       "      <td>1</td>\n",
       "      <td>Rating</td>\n",
       "      <td>0.745848</td>\n",
       "    </tr>\n",
       "    <tr>\n",
       "      <th>1</th>\n",
       "      <td>2</td>\n",
       "      <td>Rating-Income</td>\n",
       "      <td>0.875118</td>\n",
       "    </tr>\n",
       "    <tr>\n",
       "      <th>2</th>\n",
       "      <td>3</td>\n",
       "      <td>Rating-Income-Student</td>\n",
       "      <td>0.949879</td>\n",
       "    </tr>\n",
       "    <tr>\n",
       "      <th>3</th>\n",
       "      <td>4</td>\n",
       "      <td>Rating-Income-Student-Limit</td>\n",
       "      <td>0.952188</td>\n",
       "    </tr>\n",
       "    <tr>\n",
       "      <th>4</th>\n",
       "      <td>5</td>\n",
       "      <td>Rating-Income-Student-Limit-Cards</td>\n",
       "      <td>0.954161</td>\n",
       "    </tr>\n",
       "    <tr>\n",
       "      <th>5</th>\n",
       "      <td>6</td>\n",
       "      <td>Rating-Income-Student-Limit-Cards-Age</td>\n",
       "      <td>0.954688</td>\n",
       "    </tr>\n",
       "    <tr>\n",
       "      <th>6</th>\n",
       "      <td>7</td>\n",
       "      <td>Rating-Income-Student-Limit-Cards-Age-Gender</td>\n",
       "      <td>0.954817</td>\n",
       "    </tr>\n",
       "    <tr>\n",
       "      <th>7</th>\n",
       "      <td>8</td>\n",
       "      <td>Rating-Income-Student-Limit-Cards-Age-Gender-E...</td>\n",
       "      <td>0.954933</td>\n",
       "    </tr>\n",
       "    <tr>\n",
       "      <th>8</th>\n",
       "      <td>9</td>\n",
       "      <td>Rating-Income-Student-Limit-Cards-Age-Gender-E...</td>\n",
       "      <td>0.955014</td>\n",
       "    </tr>\n",
       "    <tr>\n",
       "      <th>9</th>\n",
       "      <td>10</td>\n",
       "      <td>Rating-Income-Student-Limit-Cards-Age-Gender-E...</td>\n",
       "      <td>0.955066</td>\n",
       "    </tr>\n",
       "    <tr>\n",
       "      <th>10</th>\n",
       "      <td>11</td>\n",
       "      <td>Rating-Income-Student-Limit-Cards-Age-Gender-E...</td>\n",
       "      <td>0.955102</td>\n",
       "    </tr>\n",
       "    <tr>\n",
       "      <th>11</th>\n",
       "      <td>12</td>\n",
       "      <td>Rating-Income-Student-Limit-Cards-Age-Gender-E...</td>\n",
       "      <td>0.955102</td>\n",
       "    </tr>\n",
       "  </tbody>\n",
       "</table>\n",
       "</div>"
      ],
      "text/plain": [
       "    num_preds                                           features        R2\n",
       "0           1                                             Rating  0.745848\n",
       "1           2                                      Rating-Income  0.875118\n",
       "2           3                              Rating-Income-Student  0.949879\n",
       "3           4                        Rating-Income-Student-Limit  0.952188\n",
       "4           5                  Rating-Income-Student-Limit-Cards  0.954161\n",
       "5           6              Rating-Income-Student-Limit-Cards-Age  0.954688\n",
       "6           7       Rating-Income-Student-Limit-Cards-Age-Gender  0.954817\n",
       "7           8  Rating-Income-Student-Limit-Cards-Age-Gender-E...  0.954933\n",
       "8           9  Rating-Income-Student-Limit-Cards-Age-Gender-E...  0.955014\n",
       "9          10  Rating-Income-Student-Limit-Cards-Age-Gender-E...  0.955066\n",
       "10         11  Rating-Income-Student-Limit-Cards-Age-Gender-E...  0.955102\n",
       "11         12  Rating-Income-Student-Limit-Cards-Age-Gender-E...  0.955102"
      ]
     },
     "execution_count": 5,
     "metadata": {},
     "output_type": "execute_result"
    }
   ],
   "source": [
    "result_df = pd.DataFrame({\"num_preds\": list(features_dict.keys()),\n",
    "                          \"features\": [\"-\".join(v) for k, v in features_dict.items()],\n",
    "                          \"R2\": r2_list})\n",
    "result_df"
   ]
  },
  {
   "cell_type": "markdown",
   "metadata": {},
   "source": [
    "Dopo aver individuato i migliori modelli per ciascun numero di predittori, usiamo la *CV* per trovare quello che performa meglio sui dati di test."
   ]
  },
  {
   "cell_type": "code",
   "execution_count": 6,
   "metadata": {},
   "outputs": [],
   "source": [
    "X = df.drop(response, axis = 1)\n",
    "Y = df[response]\n",
    "\n",
    "cv = KFold(n_splits = 10, shuffle = True, random_state = 888)\n",
    "\n",
    "test_mse_list = list()\n",
    "\n",
    "for features in features_dict.values():\n",
    "    errors = list()\n",
    "    X_feats = X[features]\n",
    "    \n",
    "    for train_idx, test_idx in cv.split(X):\n",
    "        X_train, X_test = np.array(X_feats)[train_idx], np.array(X_feats)[test_idx]\n",
    "        Y_train, Y_test = np.array(Y)[train_idx], np.array(Y)[test_idx]\n",
    "        model = LinearRegression()\n",
    "        model.fit(X_train, Y_train)\n",
    "        errors.append(mean_squared_error(Y_test, model.predict(X_test)))\n",
    "    test_mse_list.append(np.mean(errors))\n",
    "result_df[\"Test MSE\"] = test_mse_list"
   ]
  },
  {
   "cell_type": "code",
   "execution_count": 7,
   "metadata": {},
   "outputs": [
    {
     "data": {
      "text/html": [
       "<div>\n",
       "<style scoped>\n",
       "    .dataframe tbody tr th:only-of-type {\n",
       "        vertical-align: middle;\n",
       "    }\n",
       "\n",
       "    .dataframe tbody tr th {\n",
       "        vertical-align: top;\n",
       "    }\n",
       "\n",
       "    .dataframe thead th {\n",
       "        text-align: right;\n",
       "    }\n",
       "</style>\n",
       "<table border=\"1\" class=\"dataframe\">\n",
       "  <thead>\n",
       "    <tr style=\"text-align: right;\">\n",
       "      <th></th>\n",
       "      <th>num_preds</th>\n",
       "      <th>features</th>\n",
       "      <th>R2</th>\n",
       "      <th>Test MSE</th>\n",
       "    </tr>\n",
       "  </thead>\n",
       "  <tbody>\n",
       "    <tr>\n",
       "      <th>5</th>\n",
       "      <td>6</td>\n",
       "      <td>Rating-Income-Student-Limit-Cards-Age</td>\n",
       "      <td>0.954688</td>\n",
       "      <td>9961.655565</td>\n",
       "    </tr>\n",
       "    <tr>\n",
       "      <th>6</th>\n",
       "      <td>7</td>\n",
       "      <td>Rating-Income-Student-Limit-Cards-Age-Gender</td>\n",
       "      <td>0.954817</td>\n",
       "      <td>9967.686292</td>\n",
       "    </tr>\n",
       "    <tr>\n",
       "      <th>4</th>\n",
       "      <td>5</td>\n",
       "      <td>Rating-Income-Student-Limit-Cards</td>\n",
       "      <td>0.954161</td>\n",
       "      <td>9997.186362</td>\n",
       "    </tr>\n",
       "    <tr>\n",
       "      <th>7</th>\n",
       "      <td>8</td>\n",
       "      <td>Rating-Income-Student-Limit-Cards-Age-Gender-E...</td>\n",
       "      <td>0.954933</td>\n",
       "      <td>10019.342119</td>\n",
       "    </tr>\n",
       "    <tr>\n",
       "      <th>8</th>\n",
       "      <td>9</td>\n",
       "      <td>Rating-Income-Student-Limit-Cards-Age-Gender-E...</td>\n",
       "      <td>0.955014</td>\n",
       "      <td>10027.230548</td>\n",
       "    </tr>\n",
       "    <tr>\n",
       "      <th>9</th>\n",
       "      <td>10</td>\n",
       "      <td>Rating-Income-Student-Limit-Cards-Age-Gender-E...</td>\n",
       "      <td>0.955066</td>\n",
       "      <td>10055.047179</td>\n",
       "    </tr>\n",
       "    <tr>\n",
       "      <th>11</th>\n",
       "      <td>12</td>\n",
       "      <td>Rating-Income-Student-Limit-Cards-Age-Gender-E...</td>\n",
       "      <td>0.955102</td>\n",
       "      <td>10106.516999</td>\n",
       "    </tr>\n",
       "    <tr>\n",
       "      <th>10</th>\n",
       "      <td>11</td>\n",
       "      <td>Rating-Income-Student-Limit-Cards-Age-Gender-E...</td>\n",
       "      <td>0.955102</td>\n",
       "      <td>10106.516999</td>\n",
       "    </tr>\n",
       "    <tr>\n",
       "      <th>3</th>\n",
       "      <td>4</td>\n",
       "      <td>Rating-Income-Student-Limit</td>\n",
       "      <td>0.952188</td>\n",
       "      <td>10409.898442</td>\n",
       "    </tr>\n",
       "    <tr>\n",
       "      <th>2</th>\n",
       "      <td>3</td>\n",
       "      <td>Rating-Income-Student</td>\n",
       "      <td>0.949879</td>\n",
       "      <td>10830.443518</td>\n",
       "    </tr>\n",
       "    <tr>\n",
       "      <th>1</th>\n",
       "      <td>2</td>\n",
       "      <td>Rating-Income</td>\n",
       "      <td>0.875118</td>\n",
       "      <td>26923.680594</td>\n",
       "    </tr>\n",
       "    <tr>\n",
       "      <th>0</th>\n",
       "      <td>1</td>\n",
       "      <td>Rating</td>\n",
       "      <td>0.745848</td>\n",
       "      <td>54380.195259</td>\n",
       "    </tr>\n",
       "  </tbody>\n",
       "</table>\n",
       "</div>"
      ],
      "text/plain": [
       "    num_preds                                           features        R2  \\\n",
       "5           6              Rating-Income-Student-Limit-Cards-Age  0.954688   \n",
       "6           7       Rating-Income-Student-Limit-Cards-Age-Gender  0.954817   \n",
       "4           5                  Rating-Income-Student-Limit-Cards  0.954161   \n",
       "7           8  Rating-Income-Student-Limit-Cards-Age-Gender-E...  0.954933   \n",
       "8           9  Rating-Income-Student-Limit-Cards-Age-Gender-E...  0.955014   \n",
       "9          10  Rating-Income-Student-Limit-Cards-Age-Gender-E...  0.955066   \n",
       "11         12  Rating-Income-Student-Limit-Cards-Age-Gender-E...  0.955102   \n",
       "10         11  Rating-Income-Student-Limit-Cards-Age-Gender-E...  0.955102   \n",
       "3           4                        Rating-Income-Student-Limit  0.952188   \n",
       "2           3                              Rating-Income-Student  0.949879   \n",
       "1           2                                      Rating-Income  0.875118   \n",
       "0           1                                             Rating  0.745848   \n",
       "\n",
       "        Test MSE  \n",
       "5    9961.655565  \n",
       "6    9967.686292  \n",
       "4    9997.186362  \n",
       "7   10019.342119  \n",
       "8   10027.230548  \n",
       "9   10055.047179  \n",
       "11  10106.516999  \n",
       "10  10106.516999  \n",
       "3   10409.898442  \n",
       "2   10830.443518  \n",
       "1   26923.680594  \n",
       "0   54380.195259  "
      ]
     },
     "execution_count": 7,
     "metadata": {},
     "output_type": "execute_result"
    }
   ],
   "source": [
    "result_df.sort_values(by = \"Test MSE\", ascending = True)"
   ]
  },
  {
   "cell_type": "markdown",
   "metadata": {},
   "source": [
    "Il modello con 6 predittori è associato al valore più basso di *test MSE*!"
   ]
  },
  {
   "cell_type": "markdown",
   "metadata": {},
   "source": [
    "---"
   ]
  },
  {
   "cell_type": "markdown",
   "metadata": {},
   "source": [
    "<a id=\"shrinkage-methods\"></a>\n",
    "# Shrinkage Methods"
   ]
  },
  {
   "cell_type": "markdown",
   "metadata": {},
   "source": [
    "I metodi di *subset selection* utilizzano il *least squares criterion* per addestrare un modello lineare contenente solo un sottoinsieme dei predittori totali. In alternativa, è possibile fittare un modello contenente tutti i predittori e applicare delle tecniche che *regolarizzino* o più semplicemente *riducano* i valori delle stime dei *model parameters*."
   ]
  },
  {
   "cell_type": "markdown",
   "metadata": {},
   "source": [
    "---"
   ]
  },
  {
   "cell_type": "markdown",
   "metadata": {},
   "source": [
    "<a id=\"ridge\"></a>\n",
    "## Ridge Regression"
   ]
  },
  {
   "cell_type": "markdown",
   "metadata": {},
   "source": [
    "Il *least squares criterion* stima i coefficienti del modello lineare provando a minimizzare la *RSS*. Il problema di minimizzazione della *ridge regression* è leggermente diverso:"
   ]
  },
  {
   "cell_type": "markdown",
   "metadata": {},
   "source": [
    "$$\\large minimize_{\\beta_i}\\;\\; RSS+\\lambda\\sum_{j=1}^{p}\\beta_j^2$$"
   ]
  },
  {
   "cell_type": "markdown",
   "metadata": {},
   "source": [
    "Il termino aggiunto è un **regularization term**, caratterizzato dal **regularization parameter** $\\lambda\\geq0$. Così come per il *LSC* originale, questo nuovo problema cerca le stime parametriche attraverso una minimizzazione della *RSS*, ma allo stesso tempo presenta una **shrinkage penalty** che può essere minimizzata solo se i *model coefficients* presentano valori vicini a zero.\n",
    "\n",
    "Il *tuning parameter* $\\lambda$ serve a controllare l'impatto relativo di questi due termini: se $\\lambda=0$, non c'è penalità, e la ridge produce le stesse stime del *LSC*; se $\\lambda\\rightarrow\\infty$, invece, l'impatto della penalità aumenta e le stime tendono a zero.\n",
    "\n",
    "Notiamo come la penalità non si applichi all'*intercept* $\\beta_0$, che rappresenta solo il valore medio della *response* quando i predittori sono nulli."
   ]
  },
  {
   "cell_type": "markdown",
   "metadata": {},
   "source": [
    "Specifichiamo, inoltre, che è meglio applicare la ridge dopo aver standardizzato i predittori, cioè dopo aver applicato la seguente trasformazione:"
   ]
  },
  {
   "cell_type": "markdown",
   "metadata": {},
   "source": [
    "$$\\large \\tilde{x}_{ij}=\\frac{x_{ij}}\n",
    "{\\sqrt{\\frac{1}{n}\\sum_{i=1}^{n}(x_{ij}-\\bar{x}_j)^2}}$$"
   ]
  },
  {
   "cell_type": "markdown",
   "metadata": {},
   "source": [
    "Il denominatore non è altro che la stima della deviazione standard del predittore *j-esimo*. Così facendo tutti i predittori presenteranno deviazione standard unitaria."
   ]
  },
  {
   "cell_type": "markdown",
   "metadata": {},
   "source": [
    "Il vantaggio principale che ci porta ad utilizzare la ridge è legato al *bias-variance trade-off*: all'aumentare di $\\lambda$, infatti, diminuisce la flessibilità e di conseguenza la varianza, costringendo il bias ad aumentare.\n",
    "\n",
    "In realtà la decrescita di varianza è molto più pronunciata rispetto all'aumento di bias, almeno per i primi valori di $\\lambda$ dopo lo zero, aumentando la qualità predittiva del modello. Ad un certo punto, però, la decrescita di varianza tende a spegnersi, e la grossa penalità sui valori dei coefficienti causa un ampio aumento di bias nel modello.\n",
    "\n",
    "In generali, le stime del *LSC* tendono ad essere associate con bias molto basso ed alta varianza, in particolare quando la relazione *predictors-response* è realmente lineare. Quest'alta varianza si riscontra nel forte impatto che un piccolo cambio nel *training set* può avere nelle stime parametriche del modello.\n",
    "\n",
    "Di conseguenza, la ridge funziona particolarmente bene in situazioni in cui le stime del *LSC* sono associate ad alta variabilità!"
   ]
  },
  {
   "cell_type": "markdown",
   "metadata": {},
   "source": [
    "---"
   ]
  },
  {
   "cell_type": "markdown",
   "metadata": {},
   "source": [
    "<a id=\"lasso\"></a>\n",
    "## Lasso Regression"
   ]
  },
  {
   "cell_type": "markdown",
   "metadata": {},
   "source": [
    "La ridge ha un ovvio svantaggio, cioè include sempre tutti i predittori nel modello finale. La **L2 Penalty** che la caratterizza limita i valori di tutti i coefficienti, ma non è capace di fissarne alcuno ad esattamente zero. Questo non rappresenta un problema per l'accuratezza predittiva, ma può rivelarsi problematico ai fini della *model interpretation* se ci sono tanti predittori.\n",
    "\n",
    "La differenza fra ridge e lasso sta nella penalty:"
   ]
  },
  {
   "cell_type": "markdown",
   "metadata": {},
   "source": [
    "$$\\large minimize_{\\beta_i}\\;\\; RSS+\\lambda\\sum_{j=1}^{p}|\\beta_j|$$"
   ]
  },
  {
   "cell_type": "markdown",
   "metadata": {},
   "source": [
    "In altre parole, la lasso adotta la **L1 Penalty** e non la *L2 Penalty*. Analogamente alla ridge, la lasso è in grado di limitare i valori dei coefficienti del modello, ma è anche capace di annullarli completamente, a patto che $\\lambda$ sia sufficientemente grande.\n",
    "\n",
    "In altre parole, in maniera simile alle tecniche di *subset selection*, la lasso implementa una forma di *variable selection*."
   ]
  },
  {
   "cell_type": "markdown",
   "metadata": {},
   "source": [
    "Non è possibile affermare quale dei due metodi di regolarizzazione sia superiore all'altro. In generale, ci si aspetta che la lasso performi meglio in scenari in cui solo pochi predittori hanno dei coefficienti importanti, mentre tutti gli altri sono associati a valori piccoli o quasi nulli. La ridge, al contrario, funziona meglio quando la *response* è funzione di molti predittori, tutti con coefficienti di dimensioni confrontabili."
   ]
  },
  {
   "cell_type": "markdown",
   "metadata": {},
   "source": [
    "---"
   ]
  },
  {
   "cell_type": "markdown",
   "metadata": {},
   "source": [
    "<a id=\"dimension-reduction\"></a>\n",
    "# Dimension Reduction Methods"
   ]
  },
  {
   "cell_type": "markdown",
   "metadata": {},
   "source": [
    "Si tratta si una serie di tecniche usano delle versioni trasformate dei predittori per addestrare un modello lineare con il *least squares criterion*."
   ]
  },
  {
   "cell_type": "markdown",
   "metadata": {},
   "source": [
    "Siano $Z_1,\\dots,Z_M$ delle combinazioni lineari dei $p$ predittori originali, dove $M<p$. A livello matematico, vuol dire:"
   ]
  },
  {
   "cell_type": "markdown",
   "metadata": {},
   "source": [
    "$$\\large Z_j=\\sum_{i=1}^{p}\\phi_{ij}X_i$$"
   ]
  },
  {
   "cell_type": "markdown",
   "metadata": {},
   "source": [
    "In altre parole, ciascun predittore contribuisce al calcolo di ogni singolo $Z_j$, i termini $\\phi_{ij}$ non sono altro che delle costanti che associano i diversi $Z_j$ ai predittori $X_i$."
   ]
  },
  {
   "cell_type": "markdown",
   "metadata": {},
   "source": [
    "Usando questi nuovi predittori $Z_j$, possiamo addestrare una regressione lineare:"
   ]
  },
  {
   "cell_type": "markdown",
   "metadata": {},
   "source": [
    "$$\\large y_i=\\theta_0+\\sum_{j=1}^{M}\\theta_jz_{ij}+\\epsilon_i$$"
   ]
  },
  {
   "cell_type": "markdown",
   "metadata": {},
   "source": [
    "Ad esempio, con due predittori trasformati:"
   ]
  },
  {
   "cell_type": "markdown",
   "metadata": {},
   "source": [
    "$$\\large y_i=\\theta_0+\\theta_1z_{i1}+\\theta_2z_{i2}+\\epsilon_i$$"
   ]
  },
  {
   "cell_type": "markdown",
   "metadata": {},
   "source": [
    "Questo approccio riduce il problema originale della stima di $p+1$ coefficienti $\\beta_0,\\dots,\\beta_p$ ad un problema più semplice in cui si devono stimare solo $M+1$ coefficienti $\\theta_0,\\dots,\\theta_M$."
   ]
  },
  {
   "cell_type": "markdown",
   "metadata": {},
   "source": [
    "Esistono due tecniche principali che utilizzano quest'approccio: *principal components* e *partial least squares*."
   ]
  },
  {
   "cell_type": "markdown",
   "metadata": {},
   "source": [
    "---"
   ]
  },
  {
   "cell_type": "markdown",
   "metadata": {},
   "source": [
    "<a id=\"pcr\"></a>\n",
    "## Principal Components Regression"
   ]
  },
  {
   "cell_type": "markdown",
   "metadata": {},
   "source": [
    "La *Principal Component Analysis* è una tecnica molto utilizzata in task di *unsupervised learning* per ricavare un insieme di *features* di bassa dimensione a partire da un insieme più grande di variabili. In questo caso, la utilizziamo come tecnica di *dimensionality reduction* per la regressione lineare."
   ]
  },
  {
   "cell_type": "markdown",
   "metadata": {},
   "source": [
    "Il cosiddetto **first principal component** è la *direzione* nei dati lungo la quale le osservazioni variano maggiormente. In altre parole, se proiettassimo le osservazioni su questa direzione/retta, l'insieme delle proiezioni risultanti presenterebbe la più grande varianza possibile rispetto a tutte le altre direzioni/rette."
   ]
  },
  {
   "cell_type": "markdown",
   "metadata": {},
   "source": [
    "<img src=\"imgs/pcr-simple.PNG\"/>"
   ]
  },
  {
   "cell_type": "markdown",
   "metadata": {},
   "source": [
    "A livello matematico, il *first principal component* dell'esempio presentato segue la seguente formulazione:"
   ]
  },
  {
   "cell_type": "markdown",
   "metadata": {},
   "source": [
    "$$\\large Z_1=0.839\\times(X_1-\\bar{X}_1)+0.544\\times(X_2-\\bar{X}_2)$$"
   ]
  },
  {
   "cell_type": "markdown",
   "metadata": {},
   "source": [
    "Le costanti $\\phi_{11}=0.839$ e $\\phi_{21}=0.544$ prendono il nome di **principal component loadings**.\n",
    "\n",
    "Se avessimo un dataset di $n=100$ osservazioni, dovremmo usare la formulazione del *first principal component* per costruire i cosiddetti **principal component scores** $z_{i1}$, che sarà ancora un array di 100 elementi e conterrà il valore delle osservazioni sul nuovo asse:"
   ]
  },
  {
   "cell_type": "markdown",
   "metadata": {},
   "source": [
    "$$\\large z_{i1}=0.839\\times(X_{i1}-\\bar{X}_{i1})\n",
    "+0.544\\times(X_{i1}-\\bar{X}_{i1})$$"
   ]
  },
  {
   "cell_type": "markdown",
   "metadata": {},
   "source": [
    "C'è anche un'altra interpretazione della PCA: il *first principal component* definisce la retta che si trova il più vicino possibile ai dati; a livello matematico, vuol dire che si tratta di quella retta che minimizza la somma delle distanze quadrate perpendicolari fra ciascun punto e la retta in questione. In parole povere, il *first principal component* è sempre scelto in modo che le osservazioni proiettate su di esso siano più vicine possibile alle osservazioni originali."
   ]
  },
  {
   "cell_type": "markdown",
   "metadata": {},
   "source": [
    "Possiamo pensare che i valori di $Z_1$ siano una sorta di riassunto dei valori di $X_1$ e $X_2$ per ciascuna osservazione. Ma com'è possibile che un singolo numero rappresenti contemporaneamente due predittori? In questo caso, sembra che le due *feature* siano associate ad una forte relazione lineare, quindi ci possiamo aspettare che una metrica a singolo numero funzioni bene."
   ]
  },
  {
   "cell_type": "markdown",
   "metadata": {},
   "source": [
    "Notiamo come ci sia una forte relazione lineare fra il *first PC* e le due *feature*; in altre parole, il *first PC* sembra in grado di inglobare gran parte dell'informazione contenuta nei due predittori."
   ]
  },
  {
   "cell_type": "markdown",
   "metadata": {},
   "source": [
    "<img src=\"imgs/pcr-first-corr.PNG\"></img>"
   ]
  },
  {
   "cell_type": "markdown",
   "metadata": {},
   "source": [
    "Abbiamo parlato solo del primo componente principale, ma tecnicamente potremmo costruire fino a $p$ *PC* distinti. Il secondo componente principale è una combinazione lineare di $X_1$ e $X_2$ che risulta non correlato con $Z_1$ e che, allo stesso tempo, presenta la maggior variabilità possibile rispetto alla proiezione delle osservazioni.\n",
    "\n",
    "La condizione di zero correlazione fra i due *PC* equivale a imporre che essi debbano essere perpendicolari fra loro:"
   ]
  },
  {
   "cell_type": "markdown",
   "metadata": {},
   "source": [
    "$$\\large Z_2=0.544\\times(X_1-\\bar{X}_1)-0.839\\times(X_2-\\bar{X}_2)$$"
   ]
  },
  {
   "cell_type": "markdown",
   "metadata": {},
   "source": [
    "Da notare come il primo *PC* conterrà sempre più informazioni di tutti gli altri *PC*."
   ]
  },
  {
   "cell_type": "markdown",
   "metadata": {},
   "source": [
    "<img src=\"imgs/pcr-second-corr.PNG\"></img>"
   ]
  },
  {
   "cell_type": "markdown",
   "metadata": {},
   "source": [
    "La **principal components regression** prevede la costruzione di $M$ *principal components* $Z_1,\\dots,Z_M$ e l'utilizzo di quest'ultimi per costruire un modello lineare utilizzando il *LSC*.\n",
    "\n",
    "L'idea di fondo della *PCR* è che dovrebbe bastare un piccolo numero di *PC* per spiegare gran parte della variabilità dei dati e, allo stesso tempo, la relazione dei predittori con la *response*.\n",
    "\n",
    "In altre parole, l'assunzione di fondo della *PCR* è che le direzioni in cui i predittori mostrano la maggiore variazione devono necessariamente essere le direzioni lungo le quali essi sono associati con la *response*. Nonostante tale assunzione non sia sempre verificata, si tratta di una buona approssimazione della realtà."
   ]
  },
  {
   "cell_type": "markdown",
   "metadata": {},
   "source": [
    "Se l'assunzione centrale della *PCR* è rispettata, allora fittare un modello con $Z_1,\\dots,Z_M$ porterà a risultati migliori rispetto al fittare un modello con $X_1,\\dots,X_p$, dato che la quasi totalità delle informazioni sarà contenuta nei *PC* e usando meno *features* dovremmo essere in grado di mitigare l'*overfitting*."
   ]
  },
  {
   "cell_type": "markdown",
   "metadata": {},
   "source": [
    "In generali, più *PC* sono utilizzati nella *PCR*, più il bias della procedura tende a scendere, ed aumenta la varianza. Questo, come visto per il *bias-variance trade-off* porta al tipico andamento *U-shape* del *Test MSE*.\n",
    "\n",
    "Specifichiamo che, nonostante la *PCR* ci porti ad addestrare un modello usando meno predittori, non si tratta di una tecnica di *feature selection*, in quanto in ciascuno dei nuovi $M$ predittori ci sarà un contributo di tutti i predittori originali.\n",
    "\n",
    "Ricordiamo, infine, che la standardizzazione dei predittori è fondamentale nella *PCR*, e che in genere il numero di *PC* è ricavato tramite *CV*."
   ]
  },
  {
   "cell_type": "markdown",
   "metadata": {},
   "source": [
    "Applichiamo la *PCR* sul dataset *Credit*, analizzando le configurazioni ottenibili al variare del numero di componenti principali:"
   ]
  },
  {
   "cell_type": "code",
   "execution_count": 8,
   "metadata": {},
   "outputs": [],
   "source": [
    "df = pd.get_dummies(cred, columns=[\"Ethnicity\"])\n",
    "\n",
    "response = \"Balance\"\n",
    "X = df.drop(response, axis = 1)\n",
    "Y = df[response]\n",
    "cv = KFold(n_splits = 10, shuffle = True, random_state = 888)\n",
    "\n",
    "mse_list = list()\n",
    "\n",
    "for n_comps in range(1, len(X.columns) + 1):\n",
    "    pca = PCA(n_components = n_comps)\n",
    "    X_pca = pca.fit_transform(scale(X))\n",
    "    errors = list()\n",
    "    for train_idx, test_idx in cv.split(X):\n",
    "        X_train, X_test = np.array(X_pca)[train_idx], np.array(X_pca)[test_idx]\n",
    "        Y_train, Y_test = np.array(Y)[train_idx], np.array(Y)[test_idx]\n",
    "        model = LinearRegression()\n",
    "        model.fit(X_train, Y_train)\n",
    "        errors.append(mean_squared_error(Y_test,\n",
    "                                         model.predict(X_test)))\n",
    "    mse_list.append(np.mean(errors))"
   ]
  },
  {
   "cell_type": "code",
   "execution_count": 9,
   "metadata": {},
   "outputs": [
    {
     "data": {
      "image/png": "[encoded data removed]",
      "text/plain": [
       "<Figure size 432x216 with 1 Axes>"
      ]
     },
     "metadata": {},
     "output_type": "display_data"
    }
   ],
   "source": [
    "fig, ax = plt.subplots(figsize = (6, 3))\n",
    "ax.plot(np.arange(1, 13), mse_list)\n",
    "plt.xlabel(\"Number of Components\")\n",
    "plt.ylabel(\"CV MSE\")\n",
    "plt.show()"
   ]
  },
  {
   "cell_type": "markdown",
   "metadata": {},
   "source": [
    "---"
   ]
  },
  {
   "cell_type": "markdown",
   "metadata": {},
   "source": [
    "<a id=\"pls\"></a>\n",
    "## Partial Least Squares"
   ]
  },
  {
   "cell_type": "markdown",
   "metadata": {},
   "source": [
    "La *PCR* si basa sull'individuazione delle *directions* o combinazioni lineari che meglio rappresentano i predittori $X_1,\\dots,X_p$. Queste *directions* sono identificate in maniera non supervisionata, dato che la *response* non è usata per calcolarli.\n",
    "\n",
    "Per questo motivo la *PCR* soffre di un problema: non c'è garanzia che le *directions* che meglio spiegano la variabilità dei predittori siano anche quelle che meglio spiegano la variabilità della *response*."
   ]
  },
  {
   "cell_type": "markdown",
   "metadata": {},
   "source": [
    "La **partial least squares** è un'alternativa supervisionata alla *PCR*.\n",
    "\n",
    "Come per la *PCR*, si identifica un nuovo insieme di *features* $Z_1,\\dots,Z_M$ costruite come combinazione lineare dei predittori originali, e si addestra un modello lineare con il *LSC*.\n",
    "\n",
    "La differenza è che la *PLS* utilizza la *response* per identificare i nuovi predittori, cioè cerca le combinazioni lineari che meglio spiegano la variabilità dei predittori e che allo stesso tempo sono correlati con la *response*. E' come dire che la *PLS* prova a trovare delle *directions* che spiegano contemporaneamente sia la *response* che i *predictors*."
   ]
  },
  {
   "cell_type": "markdown",
   "metadata": {},
   "source": [
    "Dopo aver standardizzato i predittori, la *PLS* calcola la prima direzione $Z_1$ settando le costanti $\\phi_{j1}$ uguali alla *slope* risultante da una regressione lineare di $Y$ su ciascun $X_j$."
   ]
  },
  {
   "cell_type": "markdown",
   "metadata": {},
   "source": [
    "<img src=\"imgs/pls.PNG\"></img>"
   ]
  },
  {
   "cell_type": "markdown",
   "metadata": {},
   "source": [
    "Nel plot precedente notiamo la prima *direction* della *PLS* come retta continua e il *first principal component* della *PCR* come retta tratteggiata. Si evidenzia come la *PLS* abbia scelto una *direction* che presenta minore variabilità per $X_2$ (*Ad Spending*) rispetto alla *PCR*; ciò vuol dire che probabilmente $X_1$ è maggiormente correlata con la *response*! In sostanza, le *directions* della *PLS* non fittano i predittori così bene, ma spiegano meglio la *response*."
   ]
  },
  {
   "cell_type": "markdown",
   "metadata": {},
   "source": [
    "Per identificare la seconda *directions* della *PLS* dobbiamo calcolare una regressione di ciascun'altra variabile su $Z_1$ e calcolarne i *residuals*. Tali residui possono essere interpretati come l'informazione rimanente che non è stata spiegata dalla prima *direction* della *PLS.\n",
    "\n",
    "Il processo può essere ripetuto $M$ volte fin quando, ottenuti tutti i predittori d'interesse, si addestra un modello lineare usando $Z_1,\\dots,Z_M$ per predire $Y$."
   ]
  },
  {
   "cell_type": "markdown",
   "metadata": {},
   "source": [
    "---"
   ]
  }
 ],
 "metadata": {
  "kernelspec": {
   "display_name": "Python 3",
   "language": "python",
   "name": "python3"
  },
  "language_info": {
   "codemirror_mode": {
    "name": "ipython",
    "version": 3
   },
   "file_extension": ".py",
   "mimetype": "text/x-python",
   "name": "python",
   "nbconvert_exporter": "python",
   "pygments_lexer": "ipython3",
   "version": "3.7.6"
  }
 },
 "nbformat": 4,
 "nbformat_minor": 4
}
