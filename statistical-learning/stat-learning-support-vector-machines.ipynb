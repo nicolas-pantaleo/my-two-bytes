{
 "cells": [
  {
   "cell_type": "markdown",
   "metadata": {},
   "source": [
    "# Statistical Learning - Support Vector Machines"
   ]
  },
  {
   "cell_type": "markdown",
   "metadata": {},
   "source": [
    "---"
   ]
  },
  {
   "cell_type": "markdown",
   "metadata": {},
   "source": [
    "## Contents"
   ]
  },
  {
   "cell_type": "markdown",
   "metadata": {},
   "source": [
    "### [Maximal Margin Classifier](#maximal-margin-classifier)\n",
    "   - [What Is a Hyperplane?](#hyperplane)\n",
    "   - [Classification Using a Separating Hyperplane](#classify-hyperplane)\n",
    "   - [The Maximal Margin Classifier](#maximal-margin-classifier)\n",
    "   - [Construction of the Maximal Margin Classifier](#max-margin-construction)\n",
    "   \n",
    "### [Support Vector Classifier](#svc)\n",
    "   - [Details of the Support Vector Classifier](#details-svc)\n",
    "   \n",
    "\n",
    "### [Support Vector Machines](#svm)"
   ]
  },
  {
   "cell_type": "markdown",
   "metadata": {},
   "source": [
    "---"
   ]
  },
  {
   "cell_type": "markdown",
   "metadata": {},
   "source": [
    "## Import"
   ]
  },
  {
   "cell_type": "code",
   "execution_count": 1,
   "metadata": {},
   "outputs": [],
   "source": [
    "import numpy as np\n",
    "import pandas as pd\n",
    "import matplotlib.pyplot as plt\n",
    "import matplotlib.patheffects as mpe\n",
    "import seaborn as sns\n",
    "\n",
    "from sklearn.model_selection import train_test_split\n",
    "from sklearn.model_selection import GridSearchCV\n",
    "from sklearn.svm import SVC\n",
    "\n",
    "np.set_printoptions(suppress=True)\n",
    "%matplotlib inline\n",
    "#plt.style.use(\"fivethirtyeight\")"
   ]
  },
  {
   "cell_type": "markdown",
   "metadata": {},
   "source": [
    "---"
   ]
  },
  {
   "cell_type": "markdown",
   "metadata": {},
   "source": [
    "## Utilities"
   ]
  },
  {
   "cell_type": "code",
   "execution_count": 2,
   "metadata": {},
   "outputs": [],
   "source": [
    "def plot_svc(model, X, Y, h = 0.02, pad = 0.25):\n",
    "    x_min, x_max = X[:, 0].min()- pad, X[:, 0].max() + pad\n",
    "    y_min, y_max = X[:, 1].min()- pad, X[:, 1].max() + pad\n",
    "    xx, yy = np.meshgrid(np.arange(x_min, x_max, h),\n",
    "                         np.arange(y_min, y_max, h))\n",
    "    Z = model.predict(np.c_[xx.ravel(), yy.ravel()])\n",
    "    Z = Z.reshape(xx.shape)\n",
    "    plt.contourf(xx, yy, Z, cmap = plt.cm.Paired, alpha = 0.2)\n",
    "    plt.scatter(X[:,0], X[:,1], c = Y,\n",
    "                s = 70, cmap = plt.cm.Paired)\n",
    "    \n",
    "    sv = model.support_vectors_\n",
    "    plt.scatter(sv[:, 0], sv[:, 1], c = \"k\",\n",
    "                marker = \"x\", s = 100, linewidth = 2)\n",
    "    plt.xlim(x_min, x_max)\n",
    "    plt.ylim(y_min, y_max)\n",
    "    plt.show()\n",
    "    print(f\"Number of support vectors: {model.support_.size}\")"
   ]
  },
  {
   "cell_type": "markdown",
   "metadata": {},
   "source": [
    "---"
   ]
  },
  {
   "cell_type": "markdown",
   "metadata": {},
   "source": [
    "<a id=\"maximal-margin-classifier\"></a>\n",
    "# Maximal Margin Classifier"
   ]
  },
  {
   "cell_type": "markdown",
   "metadata": {},
   "source": [
    "---"
   ]
  },
  {
   "cell_type": "markdown",
   "metadata": {},
   "source": [
    "<a id=\"hyperplane\"></a>\n",
    "## What Is a Hyperplane?"
   ]
  },
  {
   "cell_type": "markdown",
   "metadata": {},
   "source": [
    "In uno spazio $p$-dimensionale, un iperpiano è un sottospazio di dimensione $p-1$ che non passa per l'origine.\n",
    "\n",
    "Ad esempio, in due dimensioni un iperpiano è una retta, mentre in tre dimensioni è un piano.\n",
    "\n",
    "La definizione matematica è intuitiva:"
   ]
  },
  {
   "cell_type": "markdown",
   "metadata": {},
   "source": [
    "$$\\large \\beta_0+\\beta_1X_1+\\beta_2X_2+\\dots+\\beta_pX_p=0$$"
   ]
  },
  {
   "cell_type": "markdown",
   "metadata": {},
   "source": [
    "Tutti i *data point* $(X_1,\\dots,X_p)$ che rispettano la precedente equazione sono punti dell'iperpiano.\n",
    "\n",
    "Se invece per un certo *data point* abbiamo $\\beta_0+\\beta^TX>0$, vuol dire che tale osservazione si trova da un lato dell'iperpiano; lo stesso si può dire per le osservazioni per cui $\\beta_0+\\beta^TX<0$, che si trovano dal lato opposto.\n",
    "\n",
    "In altre parole, possiamo affermare che un iperpiano divide in due parti uno spazio $p$-dimensionale."
   ]
  },
  {
   "cell_type": "markdown",
   "metadata": {},
   "source": [
    "---"
   ]
  },
  {
   "cell_type": "markdown",
   "metadata": {},
   "source": [
    "<a id=\"classify-hyperplane\"></a>\n",
    "## Classification Using a Separating Hyperplane"
   ]
  },
  {
   "cell_type": "markdown",
   "metadata": {},
   "source": [
    "Supponiamo di avere a disposizione una *data matrix* $X$ di dimensione $n\\times p$, e che ognuna delle osservazioni sia associata ad una *response* qualitativa binaria, cioè alla classe $+1$ o alla classe $-1$. Abbiamo anche a disposizione un'osservazione di test $x^*=(x_1^*,\\dots,x_p^*)$.\n",
    "\n",
    "Possiamo sviluppare un classificatore strutturato come un **separating hyperplane**:"
   ]
  },
  {
   "cell_type": "markdown",
   "metadata": {},
   "source": [
    "<img src=\"imgs/hyperplanes.PNG\" width=400 height=400/>"
   ]
  },
  {
   "cell_type": "markdown",
   "metadata": {},
   "source": [
    "Tutti e tre gli iperpiani presentati come esempio rispettano le due seguenti equazioni:"
   ]
  },
  {
   "cell_type": "markdown",
   "metadata": {},
   "source": [
    "$$\\large \\beta_0+\\beta_1x_{i1}+\\beta_2x_{i2}+\\dots+\\beta_px_{ip}>0\n",
    "\\;\\;\\;\\;\\;if\\;\\; y_i=1$$"
   ]
  },
  {
   "cell_type": "markdown",
   "metadata": {},
   "source": [
    "$$\\large \\beta_0+\\beta_1x_{i1}+\\beta_2x_{i2}+\\dots+\\beta_px_{ip}<0\n",
    "\\;\\;\\;\\;\\;if\\;\\; y_i=-1$$"
   ]
  },
  {
   "cell_type": "markdown",
   "metadata": {},
   "source": [
    "Ciò vuol dire che se classificheremo l'osservazione di test $x^*$ in base al segno di $f(x^*)$: se sarà positivo la assoceremo alla classe $+1$, altrimenti alla classe $-1$.\n",
    "\n",
    "Possiamo anche sfruttare il valore assoluto di $f(x^*)$ per avere informazioni sulla nostra classificazione: se tale valore è lontano da zero, vuol dire che $x^*$ è molto lontana dall'iperpiano, pertanto possiamo essere sicuri dell'assegnazione fatta; in caso contrario, cioè quando $f(x^*)$ è prossima a zero, c'è più incertezza riguardo la classificazione.\n",
    "\n",
    "Da notare come un classificatore strutturato come un *separating hyperplane* produce sempre un *decision boundary* lineare."
   ]
  },
  {
   "cell_type": "markdown",
   "metadata": {},
   "source": [
    "---"
   ]
  },
  {
   "cell_type": "markdown",
   "metadata": {},
   "source": [
    "<a id=\"maximal-margin-classifier\"></a>\n",
    "## The Maximal Margin Classifier"
   ]
  },
  {
   "cell_type": "markdown",
   "metadata": {},
   "source": [
    "Se esiste un iperpiano capace di separare perfettamente i dati a disposizione, è bene osservare che in realtà ne esistono infiniti di iperpiani capaci di compiere la stessa suddivisione. \n",
    "\n",
    "Se dovessimo sceglierne solo uno per costruire il nostro modello, la scelta più sensata sarebbe il **maximal margin hyperplane**, ovvero quell'iperpiano che risulta posizionato il più lontano possibile dalle osservazioni di *training*, ma che comunque riesce correttamente a separare le classi in analisi.\n",
    "\n",
    "Se calcolassimo la distanza perpendicolare di ciascun'osservazione dall'iperpiano e identificassimo il valore minimo di questo insieme, cioè la distanza che separa l'iperpiano dall'osservazione ad esso più vicina, avremmo identificato il cosiddetto **margin** dell'iperpiano. Il *maximal margin hyperplane* è l'iperpiano che, fra tutti quelli possibili, massimizza questo *margin*.\n",
    "\n",
    "Scegliere l'iperpiano in questione come modello di classificazione equivale ad addestrare un **maximal margin classifier**."
   ]
  },
  {
   "cell_type": "markdown",
   "metadata": {},
   "source": [
    "<img src=\"imgs/maximal-margin-hyperplane.PNG\" width=400 height=400/>"
   ]
  },
  {
   "cell_type": "markdown",
   "metadata": {},
   "source": [
    "Le osservazioni che si trovano ad una distanza dall'iperpiano esattamente pari al *margin* sono dette **support vectors**, perché *supportano* il *maximal margin hyperplane* nella sua definizione. In parole povere, se queste osservazioni fossero in un altro punto del *feature space*, l'iperpiano in questione non esisterebbe o assumerebbe una forma diversa."
   ]
  },
  {
   "cell_type": "markdown",
   "metadata": {},
   "source": [
    "---"
   ]
  },
  {
   "cell_type": "markdown",
   "metadata": {},
   "source": [
    "<a id=\"max-margin-construction\"></a>\n",
    "## Construction of the Maximal Margin Classifier"
   ]
  },
  {
   "cell_type": "markdown",
   "metadata": {},
   "source": [
    "Supponiamo di avere un *training set* di cardinalità $n$ con $p$ predittori. Le *labels* della *response* sono $-1$ e $+1$.\n",
    "\n",
    "Possiamo ricavare i coefficienti del *maximal margin hyperplane* risolvendo il seguente problema di ottimizzazione:"
   ]
  },
  {
   "cell_type": "markdown",
   "metadata": {},
   "source": [
    "$$\\large maximize\\;\\;\\;M\\; | \\;\\beta_0,\\dots,\\beta_p$$"
   ]
  },
  {
   "cell_type": "markdown",
   "metadata": {},
   "source": [
    "$$\\large \\text{subject to}\\;\\;\\sum_{j=1}^{p}\\beta_j^2=1$$"
   ]
  },
  {
   "cell_type": "markdown",
   "metadata": {},
   "source": [
    "$$\\large \\text{subject to}\\;\\;\\; y_i\\left(\\beta_0+\\beta_1x_{i1}+\n",
    "\\dots+\\beta_px_{ip}\\right)\\geq M\\;\\;\\; \\forall i=1,\\dots,n$$"
   ]
  },
  {
   "cell_type": "markdown",
   "metadata": {},
   "source": [
    "Quest'ultimo vincolo ci assicura che tutte le osservazioni siano dal lato corretto dell'iperpiano, e che allo stesso tempo siano distanti $M$ dall'iperpiano stesso.\n",
    "\n",
    "Il primo dei vincoli, invece, non è una vera limitazione imposta sull'iperpiano da parte del problema, bensì ha il compito di far sì che la distanza perpendicolare dell'$i$-esima osservazione dall'iperpiano sia pari a:"
   ]
  },
  {
   "cell_type": "markdown",
   "metadata": {},
   "source": [
    "$$\\large y_i\\left(\\beta_0+\\beta_1x_{i1}+\\dots+\\beta_px_{ip}\\right)$$"
   ]
  },
  {
   "cell_type": "markdown",
   "metadata": {},
   "source": [
    "Con le precedenti formulazioni, quindi, abbiamo a disposizione un problema che cerca i valori dei parametri $\\beta_j$ che massimizzino il valore di $M$, cioè il *margin* dell'iperpiano che utilizzeremo come modello."
   ]
  },
  {
   "cell_type": "markdown",
   "metadata": {},
   "source": [
    "<br>"
   ]
  },
  {
   "cell_type": "markdown",
   "metadata": {},
   "source": [
    "In determinati scenari, però, tale problema di massimizzazione non può essere risolto in alcun modo, poiché non può essere definito alcun *separating hyperplane* che separi perfettamente le classi.\n",
    "\n",
    "Dovremo estendere il concetto di *separating hyperplane* sviluppando un iperpiano che separi le classi come meglio può, introducendo il concetto di *soft margin*. Questa generalizzazione del *maximal margin classifier* al caso non separabile prende il nome di *support vector classifier*."
   ]
  },
  {
   "cell_type": "markdown",
   "metadata": {},
   "source": [
    "---"
   ]
  },
  {
   "cell_type": "markdown",
   "metadata": {},
   "source": [
    "<a id=\"svc\"></a>\n",
    "# Support Vector Classifier"
   ]
  },
  {
   "cell_type": "markdown",
   "metadata": {},
   "source": [
    "Anche se il problema di massimizzazione del *maximal margin hyperplane* ammette delle soluzioni, è facile notare come anche l'aggiunta di una singola osservazione in più nel *training set* sia in grado di modificarne interamente la struttura.\n",
    "\n",
    "Questa estrema sensibilità ai dati di addestramento è indice di alta varianza nella procedura, e quindi alta probabilità di andare in *overfitting*.\n",
    "\n",
    "E' in casi del genere che può avere senso costruire un classificatore basato su un iperpiano che non separi perfettamente le classi, ma che mantenga una certa robustezza nei confronti delle osservazioni di *training* e che sia comunque in grado di classificare correttamente *buona parte* del *training set*."
   ]
  },
  {
   "cell_type": "markdown",
   "metadata": {},
   "source": [
    "Un classificatore di questo tipo prende il nome di **support vector classifier**, anche detto **soft margin classifier**.\n",
    "\n",
    "In parole povere, si concede ad alcune osservazioni di trovarsi dentro i confini del *margin* o addirittura dal lato sbagliato dell'iperpiano, diventando così delle *misclassifications*."
   ]
  },
  {
   "cell_type": "markdown",
   "metadata": {},
   "source": [
    "---"
   ]
  },
  {
   "cell_type": "markdown",
   "metadata": {},
   "source": [
    "<a id=\"details-svc\"></a>\n",
    "## Details of the Support Vector Classifier"
   ]
  },
  {
   "cell_type": "markdown",
   "metadata": {},
   "source": [
    "Per introdurre matematicamente il concetto di *soft margin*, dobbiamo modificare il problema di massimizzazione originariamente associato al *maximal margin hyperplane*:"
   ]
  },
  {
   "cell_type": "markdown",
   "metadata": {},
   "source": [
    "$$\\large maximize\\;\\;\\;M\\; | \\;\\beta_0,\\dots,\\beta_p,\n",
    "\\epsilon_1,\\dots,\\epsilon_n$$"
   ]
  },
  {
   "cell_type": "markdown",
   "metadata": {},
   "source": [
    "$$\\large \\text{subject to}\\;\\;\\sum_{j=1}^{p}\\beta_j^2=1$$"
   ]
  },
  {
   "cell_type": "markdown",
   "metadata": {},
   "source": [
    "$$\\large \\text{subject to}\\;\\;\\; y_i\\left(\\beta_0+\\beta_1x_{i1}+\n",
    "\\dots+\\beta_px_{ip}\\right)\\geq M(1-\\epsilon_i)$$"
   ]
  },
  {
   "cell_type": "markdown",
   "metadata": {},
   "source": [
    "$$\\large \\text{subject to}\\;\\; \\epsilon_i\\geq 0$$"
   ]
  },
  {
   "cell_type": "markdown",
   "metadata": {},
   "source": [
    "$$\\large \\text{subject to}\\;\\;\\sum_{i=1}^{n}\\epsilon_i\\leq C$$"
   ]
  },
  {
   "cell_type": "markdown",
   "metadata": {},
   "source": [
    "Sono le **slack variables** $\\epsilon_i$ che permettono alle singole osservazioni di trovarsi dal lato sbagliato del margine o dell'iperpiano. Ogni singolo valore $\\epsilon_i$ fornisce informazioni su dove si trova l'$i$-esima osservazione: se $\\epsilon=0$, l'osservazione è dal lato corretto del margine, e quindi il suo contributo al problema di massimizzazione è identico al caso del *maximal margin hyperplane*; se $\\epsilon_i>0$, invece, l'osservazione è dal lato sbagliato del margine, mentre se $\\epsilon>1$ vuol dire che essa si trova dal lato sbagliato dell'iperpiano."
   ]
  },
  {
   "cell_type": "markdown",
   "metadata": {},
   "source": [
    "E' stato introdotto anche il **tuning parameter** $C$, che ha il compito di limitare la somma totale delle variabili *slack* e, di conseguenza, controllare il numero e la severità delle violazioni del margine e dell'iperpiano.\n",
    "\n",
    "Possiamo pensare a $C$ come ad un *budget* per gestire un certo numero di violazioni e trovare la soluzione ottimale: se $C=0$ non c'è *budget*, quindi il problema è identico al caso originale; per $C>0$ non più di $C$ osservazioni possono trovarsi dal lato sbagliato dell'iperpiano, dato che in quel caso avremmo $\\epsilon_i>1$ e dovremmo tenere in considerazione il vincolo di sommatoria delle *slacks*.\n",
    "\n",
    "All'aumentare di *C* il modello tollera sempre più violazioni, pertanto il margine tende ad ampliarsi, mentre se *C* diminuisce accade esattamente il contrario. In parole povere, *C* controlla il *bias-variance trade-off* del modello, ed è per questo che il suo valore è accuratamente calcolato tramite *cross-validation*."
   ]
  },
  {
   "cell_type": "markdown",
   "metadata": {},
   "source": [
    "Con piccoli valori di *C*, avremo margini piccoli raramente violati, e ciò corrisponde ad un classificatore con *low bias* e *high variance*; al contrario, con *C* molto alto, i margini sono più ampi e il classificatore risultante avrà *low variance* ma *high bias*."
   ]
  },
  {
   "cell_type": "markdown",
   "metadata": {},
   "source": [
    "Chiarmente solo le osservazioni che si trovano esattamente sul margine o che lo violano possono influenzare la struttura dell'iperpiano, mentre tutte le altre potrebbero trovarsi anche in un altro punto del *feature space* e non riuscirebbero a modificare i parametri del modello.\n",
    "\n",
    "Le osservazioni che si trovano sul margine o lo violano prendono il nome di **support vectors**.\n",
    "\n",
    "Quando *C* è molto alto, molte osservazioni violano il margine, quindi avremo molti *support vectors* e, di conseguenza, molte osservazioni saranno utilizzate per definire l'iperpiano; ciò implica che il classificatore risultante avrà *low variance* (molte osservazioni contribuiscono) ma *high bias*.\n",
    "\n",
    "Al contrario, con *C* molto piccolo, avremo meno *support vectors* e quindi un classificatore con *low bias* e *high variance*."
   ]
  },
  {
   "cell_type": "markdown",
   "metadata": {},
   "source": [
    "<img src=\"imgs/svc.PNG\"/>"
   ]
  },
  {
   "cell_type": "markdown",
   "metadata": {},
   "source": [
    "<br>"
   ]
  },
  {
   "cell_type": "markdown",
   "metadata": {},
   "source": [
    "Facciamo un esempio con un dataset fittizio:"
   ]
  },
  {
   "cell_type": "code",
   "execution_count": 3,
   "metadata": {},
   "outputs": [
    {
     "data": {
      "image/png": "[encoded data removed]",
      "text/plain": [
       "<Figure size 432x288 with 1 Axes>"
      ]
     },
     "metadata": {
      "needs_background": "light"
     },
     "output_type": "display_data"
    }
   ],
   "source": [
    "np.random.seed(5)\n",
    "X = np.random.randn(20, 2)\n",
    "Y = np.repeat([1, -1], 10)\n",
    "\n",
    "X[Y == -1] = X[Y == -1] + 1\n",
    "plt.scatter(x = X[:, 0], y = X[:, 1], c = Y,\n",
    "            s = 70, cmap = plt.cm.Paired)\n",
    "plt.show()"
   ]
  },
  {
   "cell_type": "code",
   "execution_count": 4,
   "metadata": {},
   "outputs": [
    {
     "data": {
      "text/plain": [
       "SVC(C=1.0, break_ties=False, cache_size=200, class_weight=None, coef0=0.0,\n",
       "    decision_function_shape='ovr', degree=3, gamma='scale', kernel='linear',\n",
       "    max_iter=-1, probability=False, random_state=None, shrinking=True,\n",
       "    tol=0.001, verbose=False)"
      ]
     },
     "execution_count": 4,
     "metadata": {},
     "output_type": "execute_result"
    }
   ],
   "source": [
    "model = SVC(C = 1.0, kernel = \"linear\")\n",
    "model.fit(X, Y)"
   ]
  },
  {
   "cell_type": "code",
   "execution_count": 5,
   "metadata": {},
   "outputs": [
    {
     "data": {
      "image/png": "[encoded data removed]",
      "text/plain": [
       "<Figure size 432x288 with 1 Axes>"
      ]
     },
     "metadata": {
      "needs_background": "light"
     },
     "output_type": "display_data"
    },
    {
     "name": "stdout",
     "output_type": "stream",
     "text": [
      "Number of support vectors: 13\n"
     ]
    }
   ],
   "source": [
    "plot_svc(model, X, Y)"
   ]
  },
  {
   "cell_type": "markdown",
   "metadata": {},
   "source": [
    "Se impostiamo un valore di *C* inferiore otteniamo un margine più ampio e quindi più support vectors:"
   ]
  },
  {
   "cell_type": "code",
   "execution_count": 6,
   "metadata": {},
   "outputs": [
    {
     "data": {
      "text/plain": [
       "SVC(C=0.1, break_ties=False, cache_size=200, class_weight=None, coef0=0.0,\n",
       "    decision_function_shape='ovr', degree=3, gamma='scale', kernel='linear',\n",
       "    max_iter=-1, probability=False, random_state=None, shrinking=True,\n",
       "    tol=0.001, verbose=False)"
      ]
     },
     "execution_count": 6,
     "metadata": {},
     "output_type": "execute_result"
    }
   ],
   "source": [
    "model = SVC(C = 0.1, kernel = \"linear\")\n",
    "model.fit(X, Y)"
   ]
  },
  {
   "cell_type": "code",
   "execution_count": 7,
   "metadata": {},
   "outputs": [
    {
     "data": {
      "image/png": "[encoded data removed]",
      "text/plain": [
       "<Figure size 432x288 with 1 Axes>"
      ]
     },
     "metadata": {
      "needs_background": "light"
     },
     "output_type": "display_data"
    },
    {
     "name": "stdout",
     "output_type": "stream",
     "text": [
      "Number of support vectors: 16\n"
     ]
    }
   ],
   "source": [
    "plot_svc(model, X, Y)"
   ]
  },
  {
   "cell_type": "markdown",
   "metadata": {},
   "source": [
    "Usiamo la *CV* per individuare il miglior valore per *C*:"
   ]
  },
  {
   "cell_type": "code",
   "execution_count": 8,
   "metadata": {},
   "outputs": [
    {
     "data": {
      "text/plain": [
       "{'C': 0.001}"
      ]
     },
     "execution_count": 8,
     "metadata": {},
     "output_type": "execute_result"
    }
   ],
   "source": [
    "params = [{\"C\": [0.001, 0.01, 0.1, 1, 5, 10, 100]}]\n",
    "gs = GridSearchCV(SVC(kernel = \"linear\"),\n",
    "                  params, cv = 10,\n",
    "                  scoring = \"accuracy\",\n",
    "                  return_train_score=False)\n",
    "gs.fit(X, Y)\n",
    "gs.best_params_"
   ]
  },
  {
   "cell_type": "markdown",
   "metadata": {},
   "source": [
    "---"
   ]
  },
  {
   "cell_type": "markdown",
   "metadata": {},
   "source": [
    "<a id=\"svm\"></a>\n",
    "# Support Vector Machines"
   ]
  },
  {
   "cell_type": "markdown",
   "metadata": {},
   "source": [
    "Nei problemi reali accade spesso che le classi non siano linearmente separabili, e in tali scenari il *support vector classifier* non fornisce risultati accurati.\n",
    "\n",
    "Una delle tecniche più comuni in casi simili consiste nell'allargare il *feature space* applicando delle trasformazioni ai predittori; l'approccio più noto resta l'aggiunta di termini polinomiali calcolati come potenze dei predittori originali. Ad esempio, al posto di addestrare un *support vector classifier* con le $p$ *features* $X_1,\\dots,X_p$, potremmo usare le seguenti $2p$ *features*: $X_1,\\dots,X_p,X_1^2,\\dots,X_p^2$."
   ]
  },
  {
   "cell_type": "markdown",
   "metadata": {},
   "source": [
    "Da notare come nel *feature space* allargato il *decision boundary* prodotto da questo insieme di predittori sia comunque lineare, mentre la sua rappresentazione nel *feature space* originale, al contrario, è non lineare!\n",
    "\n",
    "Basti pensare ad uno scenario univariato in cui le classi non sono linearmente separabili: se aggiungo un secondo predittore pari al quadrato dell'unico predittore a disposizione, le classi diventano separabili, ed il *decision boundary* in due dimensioni è lineare, ma dal punto di vista univariato (cioè relativo solo al predittore originale), ho generato una separazione non lineare!"
   ]
  },
  {
   "cell_type": "markdown",
   "metadata": {},
   "source": [
    "<br>"
   ]
  },
  {
   "cell_type": "markdown",
   "metadata": {},
   "source": [
    "Le **support vector machines** sono un'estensione del *support vector classifier* la cui caratteristica distintiva è che implementano l'ingrandimento del *feature space* per risolvere problemi di non separabilità lineare delle classi attraverso l'introduzione dei cosiddetti **kernels**."
   ]
  },
  {
   "cell_type": "markdown",
   "metadata": {},
   "source": [
    "E' possibile dimostrare (non so ancora come) che la soluzione al problema di massimizzazione del *support vector classifier* si basa solo sull'**inner product** delle osservazioni e non sui valori delle stesse prese singolarmente."
   ]
  },
  {
   "cell_type": "markdown",
   "metadata": {},
   "source": [
    "$$\\large <x_a,x_b>=\\sum_{j=1}^{p}x_{aj}\\cdot x_{bj}$$"
   ]
  },
  {
   "cell_type": "markdown",
   "metadata": {},
   "source": [
    "Più precisamente, si può dimostrare che il modello risultante dalla risoluzione del problema di ottimizzazione del *support vector classifier* può essere rappresentato nella seguente forma:"
   ]
  },
  {
   "cell_type": "markdown",
   "metadata": {},
   "source": [
    "$$\\large f(x)=\\beta_0+\\sum_{i=1}^{n}\\alpha_i \\cdot <x,x_i>$$"
   ]
  },
  {
   "cell_type": "markdown",
   "metadata": {},
   "source": [
    "Tale modello risulta caratterizzati da $n$ parametri $\\alpha_i$, uno per ogni osservazione di *training* e da una singola *intercept* $\\beta_0$.\n",
    "\n",
    "Per stimare tutti questi parametri abbiamo bisogno soltanto degli $\\binom{n}{2}=n(n-1)/2$ *inner products* $<x_a,x_b>$ di tutte le coppie di osservazioni di *training*."
   ]
  },
  {
   "cell_type": "markdown",
   "metadata": {},
   "source": [
    "Questa forma particolare del modello $f(x)$ ha però un'interessante proprietà: il parametro $\\alpha_i$ risulta non-nullo solo per i *support vectors* della soluzione, ed è nullo per tutti gli altri *data points*. Di conseguenza, se definiamo con $S$ l'insieme degli indici di tutti i *support points*, possiamo riscrivere $f(x)$ in una forma che richiede molti meno termini per essere calcolata:"
   ]
  },
  {
   "cell_type": "markdown",
   "metadata": {},
   "source": [
    "$$\\large f(x)=\\beta_0+\\sum_{i\\in S}\\alpha_i\\cdot <x,x_i>$$"
   ]
  },
  {
   "cell_type": "markdown",
   "metadata": {},
   "source": [
    "Adesso supponiamo di poter sostituire ogni singolo *inner product* con una sua *generalizzazione*:"
   ]
  },
  {
   "cell_type": "markdown",
   "metadata": {},
   "source": [
    "$$\\large K(x_a,x_b)$$"
   ]
  },
  {
   "cell_type": "markdown",
   "metadata": {},
   "source": [
    "Questa $K$ è un *kernel*, cioè una funzione che quantifica la similarità fra due osservazioni. Ad esempio, potremmo usare un **linear kernel** in sostituzione dell'*inner product*:"
   ]
  },
  {
   "cell_type": "markdown",
   "metadata": {},
   "source": [
    "$$\\large K(x_a,x_b)=\\sum_{j=1}^{p}x_{aj}\\cdot x_{bj}$$"
   ]
  },
  {
   "cell_type": "markdown",
   "metadata": {},
   "source": [
    "In questo caso, però, otterremmo come risultato il semplice *support vector classifier*, perché non abbiamo introdotto alcuna variazione nella computazione."
   ]
  },
  {
   "cell_type": "markdown",
   "metadata": {},
   "source": [
    "Potremmo usare un **polynomial kernel**:"
   ]
  },
  {
   "cell_type": "markdown",
   "metadata": {},
   "source": [
    "$$\\large K(x_a,x_b)=\\left(1+\\sum_{j=1}^{p}x_{aj}\\cdot x_{bj}\\right)^d$$"
   ]
  },
  {
   "cell_type": "markdown",
   "metadata": {},
   "source": [
    "Già utilizzando un *degree* $d$ superiore ad uno saremmo in grado di addestrare un modello con un *decision boundary* molto più flessibile rispetto al caso lineare, e la motivazione è la stessa di prima: stiamo cercando di addestrare un *support vector classifier* in uno spazio a dimensionalità più alta utilizzando dei polinomi di grado $d$ al posto del *feature space* originale."
   ]
  },
  {
   "cell_type": "markdown",
   "metadata": {},
   "source": [
    "Quando il *support vector classifier* è combinato con un *kernel* non lineare, il classificatore risultante prende il nome di **support vector machine**."
   ]
  },
  {
   "cell_type": "markdown",
   "metadata": {},
   "source": [
    "Un'altra alternativa comune è il **radial kernel**:"
   ]
  },
  {
   "cell_type": "markdown",
   "metadata": {},
   "source": [
    "$$\\large K(x_a,x_b)=exp\\left( -\\gamma\\sum_{j=1}^{p}(x_{aj}-x_{bj})^2 \\right)$$"
   ]
  },
  {
   "cell_type": "markdown",
   "metadata": {},
   "source": [
    "Se definiamo $\\gamma$ come una costante positiva, come funziona il *radial kernel*? Se un'osservazione di test $x_a$ è lontana da un'osservazione di *training* $x_b$ in termini di distanza euclidea, allora il termine in sommatoria sarà molto grande, rendendo il valore dell'esponenziale (e quindi del *kernel*) molto piccolo. Questo vuol dire che $x_b$ non darà un grande contributo al calcolo di $f(x_a)$, e noi sappiamo che la *predicted class* per $x_a$ dipenderà dal segno di $f(x_a)$. In parole povere, le osservazioni di *training* molto lontane dall'osservazione di test non avranno ruolo nell'individuazione della classe per $x_a$.\n",
    "\n",
    "Si può dire che il *radial kernel* ha un comportamento molto *locale*, come a dire che solo le osservazioni di *training* estremamente vicine possono contribuire a classificare un'istanza di test."
   ]
  },
  {
   "cell_type": "markdown",
   "metadata": {},
   "source": [
    "Nei due plot che seguono mostriamo l'applicazione di un kernel polinomiale di grado tre e di un kernel radiale:"
   ]
  },
  {
   "cell_type": "markdown",
   "metadata": {},
   "source": [
    "<img src=\"imgs/svm.PNG\"/>"
   ]
  },
  {
   "cell_type": "markdown",
   "metadata": {},
   "source": [
    "Il vantaggio principale dell'adozione dei *kernel* in sostituzione al classico ingrandimento del *feature space* con termini aggiuntivi è tutto computazionale: usando i *kernel*, infatti, dobbiamo calcolare $K(x_a,x_b)$ solo per $\\binom{n}{2}$ coppie distinte, e non dobbiamo nemmeno aggiungere concretamente dei predittori al problema."
   ]
  },
  {
   "cell_type": "markdown",
   "metadata": {},
   "source": [
    "<br>"
   ]
  },
  {
   "cell_type": "markdown",
   "metadata": {},
   "source": [
    "Per estendere una *support vector machine* a problemi con più di due classi, abbiamo due approcci possibili:\n",
    "\n",
    "- **One-Versus-One Classification**: si addestrano $\\binom{K}{2}$ modelli, ognuno dei quali si concentra solo su una coppia di classi. Si passa la generica osservazione di test come input di ciascuno di questi modelli e si restituisce come *output* finale la classe che questi restituiscono con maggior frequenza.\n",
    "\n",
    "\n",
    "- **One-Versus-All Classification**: si addestrano $K$ modelli, ognuno dei quali prova a separare una classe da tutte le altre. La generica osservazione di test $x^*$ è passata in input a tutti i modelli $f_1,\\dots,f_K$ ed è associata alla classe corrispondente al modello che presenta il valore massimo di $f(x^*)$."
   ]
  },
  {
   "cell_type": "markdown",
   "metadata": {},
   "source": [
    "<br>"
   ]
  },
  {
   "cell_type": "markdown",
   "metadata": {},
   "source": [
    "Facciamo un esempio con un dataset fittizio:"
   ]
  },
  {
   "cell_type": "code",
   "execution_count": 9,
   "metadata": {},
   "outputs": [
    {
     "data": {
      "image/png": "[encoded data removed]",
      "text/plain": [
       "<Figure size 432x288 with 1 Axes>"
      ]
     },
     "metadata": {
      "needs_background": "light"
     },
     "output_type": "display_data"
    }
   ],
   "source": [
    "np.random.seed(8)\n",
    "X = np.random.randn(200, 2)\n",
    "X[:100] = X[:100] + 2\n",
    "X[101:150] = X[101:150] - 2\n",
    "Y = np.concatenate([np.repeat(-1, 150), np.repeat(1,50)])\n",
    "\n",
    "X_train, X_test, Y_train, Y_test = train_test_split(X, Y,\n",
    "                                                    test_size = 0.5,\n",
    "                                                    random_state = 2)\n",
    "\n",
    "plt.scatter(X[:, 0], X[:, 1], c = Y,\n",
    "            s = 70, cmap = plt.cm.Paired)\n",
    "plt.show()"
   ]
  },
  {
   "cell_type": "code",
   "execution_count": 10,
   "metadata": {},
   "outputs": [
    {
     "data": {
      "image/png": "[encoded data removed]",
      "text/plain": [
       "<Figure size 432x288 with 1 Axes>"
      ]
     },
     "metadata": {
      "needs_background": "light"
     },
     "output_type": "display_data"
    },
    {
     "name": "stdout",
     "output_type": "stream",
     "text": [
      "Number of support vectors: 51\n"
     ]
    }
   ],
   "source": [
    "model = SVC(C = 1.0, kernel = \"rbf\", gamma = 1)\n",
    "model.fit(X_train, Y_train)\n",
    "\n",
    "plot_svc(model, X, Y)"
   ]
  },
  {
   "cell_type": "markdown",
   "metadata": {},
   "source": [
    "Aumentiamo *C* per aggiungere flessibilità al modello:"
   ]
  },
  {
   "cell_type": "code",
   "execution_count": 11,
   "metadata": {},
   "outputs": [
    {
     "data": {
      "image/png": "[encoded data removed]",
      "text/plain": [
       "<Figure size 432x288 with 1 Axes>"
      ]
     },
     "metadata": {
      "needs_background": "light"
     },
     "output_type": "display_data"
    },
    {
     "name": "stdout",
     "output_type": "stream",
     "text": [
      "Number of support vectors: 36\n"
     ]
    }
   ],
   "source": [
    "model = SVC(C = 100, kernel = \"rbf\", gamma = 1)\n",
    "model.fit(X_train, Y_train)\n",
    "\n",
    "plot_svc(model, X, Y)"
   ]
  },
  {
   "cell_type": "markdown",
   "metadata": {},
   "source": [
    "Usiamo la *CV* per trovare i migliori valori per *C* e $\\gamma$:"
   ]
  },
  {
   "cell_type": "code",
   "execution_count": 12,
   "metadata": {},
   "outputs": [
    {
     "data": {
      "text/plain": [
       "{'C': 10, 'gamma': 0.5}"
      ]
     },
     "execution_count": 12,
     "metadata": {},
     "output_type": "execute_result"
    }
   ],
   "source": [
    "params = [{\"C\": [0.01, 0.1, 1, 10, 100],\n",
    "           \"gamma\": [0.5, 1, 2, 3, 4]}]\n",
    "\n",
    "gs = GridSearchCV(SVC(kernel = \"rbf\"),\n",
    "                  params, cv = 10,\n",
    "                  scoring = \"accuracy\",\n",
    "                  return_train_score=False)\n",
    "gs.fit(X_train, Y_train)\n",
    "gs.best_params_"
   ]
  },
  {
   "cell_type": "markdown",
   "metadata": {},
   "source": [
    "Sui dati di test abbiamo un 13% circa di osservazioni *misclassified*."
   ]
  },
  {
   "cell_type": "code",
   "execution_count": 13,
   "metadata": {},
   "outputs": [
    {
     "data": {
      "text/plain": [
       "0.87"
      ]
     },
     "execution_count": 13,
     "metadata": {},
     "output_type": "execute_result"
    }
   ],
   "source": [
    "gs.best_estimator_.score(X_test, Y_test)"
   ]
  },
  {
   "cell_type": "markdown",
   "metadata": {},
   "source": [
    "---"
   ]
  }
 ],
 "metadata": {
  "kernelspec": {
   "display_name": "Python 3",
   "language": "python",
   "name": "python3"
  },
  "language_info": {
   "codemirror_mode": {
    "name": "ipython",
    "version": 3
   },
   "file_extension": ".py",
   "mimetype": "text/x-python",
   "name": "python",
   "nbconvert_exporter": "python",
   "pygments_lexer": "ipython3",
   "version": "3.7.6"
  }
 },
 "nbformat": 4,
 "nbformat_minor": 4
}
