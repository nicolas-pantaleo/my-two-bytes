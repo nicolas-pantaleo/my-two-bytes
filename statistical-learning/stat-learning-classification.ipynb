{
 "cells": [
  {
   "cell_type": "markdown",
   "metadata": {},
   "source": [
    "# Statistical Learning - Classification"
   ]
  },
  {
   "cell_type": "markdown",
   "metadata": {},
   "source": [
    "---"
   ]
  },
  {
   "cell_type": "markdown",
   "metadata": {},
   "source": [
    "## Contents"
   ]
  },
  {
   "cell_type": "markdown",
   "metadata": {},
   "source": [
    "### [Why Not Linear Regression?](#whynot)\n",
    "### [Logistic Regression](#logistic-regression)\n",
    "   - [The Logistic Model](#logistic-model)\n",
    "   - [Estimating the Regression Coefficients](#estimating-coefficients)\n",
    "   - [Making Predictions](#making-predictions)\n",
    "   - [Multiple Logistic Regression](#multiple-logistic-regression)\n",
    "   \n",
    "\n",
    "### [Linear Discriminant Analysis](#lda)\n",
    "   - [Using Bayes' Theorem for Classification](#lda-bayes)\n",
    "   - [Linear Discriminant Analysis for $p=1$](#lda-simple)\n",
    "   - [Linear Discriminant Analysis for $p>1$](#lda-multiple)\n",
    "   - [Quadratic Discriminant Analysis](#qda)\n",
    "   \n",
    "\n",
    "### [A Comparison of Classification Methods](#comparison)\n",
    "\n",
    "\n",
    "### [Lab](#lab)"
   ]
  },
  {
   "cell_type": "markdown",
   "metadata": {},
   "source": [
    "---"
   ]
  },
  {
   "cell_type": "markdown",
   "metadata": {},
   "source": [
    "## Import"
   ]
  },
  {
   "cell_type": "code",
   "execution_count": 1,
   "metadata": {},
   "outputs": [],
   "source": [
    "import numpy as np\n",
    "import pandas as pd\n",
    "import matplotlib.pyplot as plt\n",
    "import matplotlib.patheffects as mpe\n",
    "import seaborn as sns\n",
    "\n",
    "from sklearn.discriminant_analysis import LinearDiscriminantAnalysis\n",
    "from sklearn.discriminant_analysis import QuadraticDiscriminantAnalysis\n",
    "from sklearn.neighbors import KNeighborsClassifier\n",
    "from sklearn.linear_model import LogisticRegression\n",
    "from sklearn import preprocessing\n",
    "from sklearn.metrics import confusion_matrix\n",
    "from sklearn.metrics import classification_report\n",
    "from sklearn.metrics import zero_one_loss, precision_score, recall_score\n",
    "from sklearn.metrics import f1_score\n",
    "from sklearn.metrics import roc_curve, auc\n",
    "\n",
    "import statsmodels.api as sm\n",
    "import statsmodels.formula.api as smf\n",
    "\n",
    "np.set_printoptions(suppress=True)\n",
    "%matplotlib inline\n",
    "plt.style.use(\"fivethirtyeight\")"
   ]
  },
  {
   "cell_type": "markdown",
   "metadata": {},
   "source": [
    "---"
   ]
  },
  {
   "cell_type": "markdown",
   "metadata": {},
   "source": [
    "## Utilities"
   ]
  },
  {
   "cell_type": "code",
   "execution_count": 2,
   "metadata": {},
   "outputs": [],
   "source": [
    "def pretty_cm(y_true, y_pred, classes):\n",
    "    counts = confusion_matrix(y_true = y_true,\n",
    "                              y_pred = y_pred,\n",
    "                              labels = classes).T\n",
    "    df = pd.DataFrame(counts, index = classes, columns = classes)\n",
    "    df.loc[\"Total\"] = df.sum(numeric_only = True, axis = 0)\n",
    "    df.loc[:, \"Total\"] = df.sum(numeric_only = True, axis = 1)\n",
    "    df = pd.concat({\"Predicted\": df})\n",
    "    df.columns = pd.MultiIndex.from_product([[\"True\"], df.columns])\n",
    "    return df"
   ]
  },
  {
   "cell_type": "code",
   "execution_count": 3,
   "metadata": {},
   "outputs": [],
   "source": [
    "def get_best_roc_threshold(model, y_true):\n",
    "    report = {class_name: dict() for class_name in model.classes_}\n",
    "    \n",
    "    for class_idx, class_name in enumerate(model.classes_):\n",
    "        fpr, tpr, thresholds = roc_curve(y_true = Y, y_score = model.predict_proba(X)[:, class_idx], pos_label = class_name)\n",
    "        best_idx = np.argmax(np.sqrt(tpr * (1 - fpr)))\n",
    "        report[class_name][\"threshold\"] = thresholds[best_idx]\n",
    "        report[class_name][\"tpr\"] = tpr[best_idx]\n",
    "        report[class_name][\"fpr\"] = fpr[best_idx]\n",
    "        report[class_name][\"auc\"] = auc(fpr, tpr)\n",
    "        \n",
    "        fig, ax = plt.subplots(figsize = (8, 4))\n",
    "        line_edge = [mpe.Stroke(linewidth = 8, foreground= \"k\"), mpe.Normal()]\n",
    "        ax.plot(fpr, tpr, path_effects = line_edge)\n",
    "        ax.scatter(fpr[best_idx], tpr[best_idx], s = 500, edgecolor = \"k\", lw = 2, color = \"coral\")\n",
    "        tx = f\"Threshold: {round(thresholds[best_idx], 2)}\\nTPR: {round(tpr[best_idx], 2)}\\nFPR: {round(fpr[best_idx], 2)}\"\n",
    "        ax.annotate(tx, xy = (0.75, 0.2))\n",
    "        ax.set_ylabel(f\"True Positive Rate\")\n",
    "        ax.set_xlabel(f\"False Positive Rate (class = {class_name})\")\n",
    "    return report"
   ]
  },
  {
   "cell_type": "code",
   "execution_count": 4,
   "metadata": {},
   "outputs": [],
   "source": [
    "def plot_2d_decbound(X1, X2, Y, model, figsize = (8, 4)):\n",
    "    fig, ax = plt.subplots(figsize = figsize)\n",
    "    palette = [\"cornflowerblue\", \"coral\", \"palegreen\"]\n",
    "    x_min, x_max = np.array(X1).min() - 1, np.array(X1).max() + 1\n",
    "    y_min, y_max = np.array(X2).min() - 1, np.array(X2).max() + 1\n",
    "    xx, yy = np.meshgrid(np.arange(x_min, x_max, 0.1),\n",
    "                         np.arange(y_min, y_max, 0.1))\n",
    "    z = model.predict(np.c_[xx.ravel(), yy.ravel()])\n",
    "    z = z.reshape(xx.shape)\n",
    "    plt.contourf(xx, yy, z, cmap = \"coolwarm\", alpha = 0.5)\n",
    "    sns.scatterplot(x = np.array(X1), y = np.array(X2),\n",
    "                    hue = Y,\n",
    "                    palette = palette[:len(Y.unique())],\n",
    "                    edgecolor = \"k\", linewidth = 1.5, s = 100)\n",
    "    plt.legend(loc = 1, edgecolor = \"k\",\n",
    "               facecolor = \"lightgrey\", prop = {\"size\": 14})\n",
    "    plt.grid(True)\n",
    "    plt.show()"
   ]
  },
  {
   "cell_type": "code",
   "execution_count": 5,
   "metadata": {},
   "outputs": [],
   "source": [
    "def rates(y_true, y_pred, classes):\n",
    "    report = pd.DataFrame({class_name: {\"TPR - Sensitivity\": None,\n",
    "                                        \"TNR - Specificity\": None,\n",
    "                                        \"FPR - Fallout\": None,\n",
    "                                        \"FNR - Miss Rate\": None} for class_name in classes})\n",
    "    df = pd.DataFrame({\"y_true\": y_true, \"y_pred\": y_pred})\n",
    "    \n",
    "    for class_name in classes:\n",
    "        pos = df[df.y_true == class_name]\n",
    "        neg = df[df.y_true != class_name]\n",
    "        tp = np.sum(pos.y_pred == class_name)\n",
    "        tn = np.sum(neg.y_pred != class_name)\n",
    "        fp = np.sum(neg.y_pred == class_name)\n",
    "        fn = np.sum(pos.y_pred != class_name)\n",
    "        report.loc[\"TPR - Sensitivity\"][class_name] = tp / (tp + fn)\n",
    "        report.loc[\"TNR - Specificity\"][class_name] = tn / (tn + fp)\n",
    "        report.loc[\"FPR - Fallout\"][class_name] = fp / (fp + tn)\n",
    "        report.loc[\"FNR - Miss Rate\"][class_name] = fn / (fn + tp)\n",
    "    return report"
   ]
  },
  {
   "cell_type": "code",
   "execution_count": 6,
   "metadata": {},
   "outputs": [],
   "source": [
    "def classif_report(y_true, y_pred, classes, names, df_out = True):\n",
    "    return classification_report(y_true = y_true,\n",
    "                            y_pred = y_pred,\n",
    "                            labels = classes,\n",
    "                            target_names = names,\n",
    "                            digits = 2,\n",
    "                            output_dict = True if df_out else False,\n",
    "                            zero_division = 0)"
   ]
  },
  {
   "cell_type": "markdown",
   "metadata": {},
   "source": [
    "---"
   ]
  },
  {
   "cell_type": "markdown",
   "metadata": {},
   "source": [
    "## Datasets"
   ]
  },
  {
   "cell_type": "markdown",
   "metadata": {},
   "source": [
    "_Ogni riga è un individuo per il quale cerchiamo di probabilità di default dato il suo income, i suoi debiti e lo status di studente._"
   ]
  },
  {
   "cell_type": "code",
   "execution_count": 7,
   "metadata": {},
   "outputs": [
    {
     "data": {
      "text/html": [
       "<div>\n",
       "<style scoped>\n",
       "    .dataframe tbody tr th:only-of-type {\n",
       "        vertical-align: middle;\n",
       "    }\n",
       "\n",
       "    .dataframe tbody tr th {\n",
       "        vertical-align: top;\n",
       "    }\n",
       "\n",
       "    .dataframe thead th {\n",
       "        text-align: right;\n",
       "    }\n",
       "</style>\n",
       "<table border=\"1\" class=\"dataframe\">\n",
       "  <thead>\n",
       "    <tr style=\"text-align: right;\">\n",
       "      <th></th>\n",
       "      <th>default</th>\n",
       "      <th>student</th>\n",
       "      <th>balance</th>\n",
       "      <th>income</th>\n",
       "    </tr>\n",
       "  </thead>\n",
       "  <tbody>\n",
       "    <tr>\n",
       "      <th>0</th>\n",
       "      <td>0</td>\n",
       "      <td>0</td>\n",
       "      <td>729.526495</td>\n",
       "      <td>44361.625074</td>\n",
       "    </tr>\n",
       "    <tr>\n",
       "      <th>1</th>\n",
       "      <td>0</td>\n",
       "      <td>1</td>\n",
       "      <td>817.180407</td>\n",
       "      <td>12106.134700</td>\n",
       "    </tr>\n",
       "    <tr>\n",
       "      <th>2</th>\n",
       "      <td>0</td>\n",
       "      <td>0</td>\n",
       "      <td>1073.549164</td>\n",
       "      <td>31767.138947</td>\n",
       "    </tr>\n",
       "    <tr>\n",
       "      <th>3</th>\n",
       "      <td>0</td>\n",
       "      <td>0</td>\n",
       "      <td>529.250605</td>\n",
       "      <td>35704.493935</td>\n",
       "    </tr>\n",
       "    <tr>\n",
       "      <th>4</th>\n",
       "      <td>0</td>\n",
       "      <td>0</td>\n",
       "      <td>785.655883</td>\n",
       "      <td>38463.495879</td>\n",
       "    </tr>\n",
       "  </tbody>\n",
       "</table>\n",
       "</div>"
      ],
      "text/plain": [
       "   default  student      balance        income\n",
       "0        0        0   729.526495  44361.625074\n",
       "1        0        1   817.180407  12106.134700\n",
       "2        0        0  1073.549164  31767.138947\n",
       "3        0        0   529.250605  35704.493935\n",
       "4        0        0   785.655883  38463.495879"
      ]
     },
     "execution_count": 7,
     "metadata": {},
     "output_type": "execute_result"
    }
   ],
   "source": [
    "defa = pd.read_csv(\"data/default.csv\")\n",
    "defa[\"default\"].replace({\"No\": 0, \"Yes\": 1}, inplace = True)\n",
    "defa[\"student\"].replace({\"No\": 0, \"Yes\": 1}, inplace = True)\n",
    "defa.head()"
   ]
  },
  {
   "cell_type": "markdown",
   "metadata": {},
   "source": [
    "---"
   ]
  },
  {
   "cell_type": "markdown",
   "metadata": {},
   "source": [
    "<a id=\"whynot\"></a>\n",
    "# Why Not Linear Regression?"
   ]
  },
  {
   "cell_type": "markdown",
   "metadata": {},
   "source": [
    "Se la *response* è rappresentata da una variabile qualitativa, non è possibile usare la *linear regression* per modellare la *systematic information* $Y=f(X)$.\n",
    "\n",
    "Anche se provassimo a trasformare una categorica a tre livelli in una variabile quantitativa nella forma $1, 2, 3$, non riusciremmo ad addestrare una regressione lineare coerente. Staremmo implicitamente forzando dall'esterno un'ordinamento nelle classi analizzate, come se una di esse sia maggiore (3) delle altre (1 e 2) e come se tutte siano equidistanti (distanza unitaria fra tutte le classi)."
   ]
  },
  {
   "cell_type": "markdown",
   "metadata": {},
   "source": [
    "Per le variabili binarie, invece, la situazione migliora: potremmo utilizzare il *dummy variable approach* per codificare in forma $0/1$ la *response* categorica e addestrare una regressione lineare che assegni ad un'osservazione la classe positiva se $\\hat{Y}>0.5$ e la classe negativa nel caso contrario.\n",
    "\n",
    "Il problema è che, per com'è strutturata nativamente la regressioen lineare, alcune delle *prediction* di questo tipo si troverebbero al di fuori dell'intervallo $[0, 1]$ e faremmo fatica a interpretarle correttamente come probabilità!"
   ]
  },
  {
   "cell_type": "markdown",
   "metadata": {},
   "source": [
    "---"
   ]
  },
  {
   "cell_type": "markdown",
   "metadata": {},
   "source": [
    "<a id=\"logistic-regression\"></a>\n",
    "# Logistic Regression"
   ]
  },
  {
   "cell_type": "markdown",
   "metadata": {},
   "source": [
    "La regressione logistica è uno dei più famosi *learning method* di classificazione. La sua caratteristica principale è che non modella direttamente i valori della *response*, bensì la **probabilità** che essa assuma un determinato valore.\n",
    "\n",
    "In altre parole, dato un problema di classificazione binario con $Y=\\{\\text{Yes, No}\\}$, la regressione logistica non restituisce mai $\\hat{Y}=\\text{Yes}$ o $\\hat{Y}=\\text{No}$, bensì un valore numerico come $\\hat{Y}=0.65$, che rappresenta la probabilità di appartenenza di una certa osservazione alla classe positiva dati i valori dei suoi predittori: $P(Y=1|X)$"
   ]
  },
  {
   "cell_type": "markdown",
   "metadata": {},
   "source": [
    "Gli output della regressione logistica, quindi, sono sempre compresi nell'intervallo $[0, 1]$. Sta a noi impostare la soglia corretta che abiliti la vera e propria classificazione: ad esempio, nel caso binario, la soglia più utilizzata è $0.5$, cioè si associa la classe positiva alle osservazioni per cui $P(Y=1|X)>0.5$ e la classe negativa a tutte le altre.\n",
    "\n",
    "Il controllo della *threshold* ci permette di essere più o meno conservativi nell'assegnazione della classe positiva, rispettivamente abbassando o alzando il valore di separazione delle classi."
   ]
  },
  {
   "cell_type": "markdown",
   "metadata": {},
   "source": [
    "---"
   ]
  },
  {
   "cell_type": "markdown",
   "metadata": {},
   "source": [
    "<a id=\"logistic-model\"></a>\n",
    "## The Logistic Model"
   ]
  },
  {
   "cell_type": "markdown",
   "metadata": {},
   "source": [
    "Supponiamo di dove risolvere un task di classificazione binario: abbiamo bisogno di un metodo per associare al predittore $X$ la funzione $p(X)=Pr(Y=1|X)$, che rappresenta la probabilità di appartenenza di un'osservazione alla classe positiva.\n",
    "\n",
    "Se usassimo il classico modello lineare univariato, otterremmo probabilità negative per valori del predittore vicini a zero e probabilità superiori ad uno per valori molto alti del predittore."
   ]
  },
  {
   "cell_type": "markdown",
   "metadata": {},
   "source": [
    "$$\\large p(X)=Pr(Y=1|X)\\;\\;\\;\\rightarrow\n",
    "\\;\\;\\; p(X)=\\beta_0+\\beta_1X$$"
   ]
  },
  {
   "cell_type": "markdown",
   "metadata": {},
   "source": [
    "<img src=\"imgs/linear-logistic.PNG\"></img>"
   ]
  },
  {
   "cell_type": "markdown",
   "metadata": {},
   "source": [
    "Abbiamo bisogno di modellare $p(X)$ con una funzione che restituisca output solo nell'intervallo $[0, 1]$. Ne esistono tante, ma per la regressione logistica si usa la **Logistic Function**:"
   ]
  },
  {
   "cell_type": "markdown",
   "metadata": {},
   "source": [
    "$$\\large p(X)=Pr(Y=1|X)\\;\\;\\;\\rightarrow\n",
    "\\;\\;\\; p(X)=\\frac{e^{\\beta_0+\\beta_1X}}{1+e^{\\beta_0+\\beta_1X}}$$"
   ]
  },
  {
   "cell_type": "markdown",
   "metadata": {},
   "source": [
    "<img src=\"imgs/logistic-function.png\" width=500 height=400></img>"
   ]
  },
  {
   "cell_type": "markdown",
   "metadata": {},
   "source": [
    "Modellando la funzione $p(X)$ in questa maniera, si ottiene un risultato interessante: la media delle probabilità assegnate da $p(X)$ a tutte le osservazioni del *training set* coincide con la reale proporzione di osservazioni nel dataset che appartengono alla classe positiva."
   ]
  },
  {
   "cell_type": "markdown",
   "metadata": {},
   "source": [
    "<br>"
   ]
  },
  {
   "cell_type": "markdown",
   "metadata": {},
   "source": [
    "Con delle semplici manipolazioni di $p(X)$ siamo in grado di esprimere il modello logistico in forma di **odds** e non di probabilità:"
   ]
  },
  {
   "cell_type": "markdown",
   "metadata": {},
   "source": [
    "$$\\large \\frac{p(X)}{1-p(X)}=e^{\\beta_0+\\beta_1X}$$"
   ]
  },
  {
   "cell_type": "markdown",
   "metadata": {},
   "source": [
    "Le *odds* sono sempre definite come $p/(1-p)$ e possono assumere qualunque valore da $0$ a $+\\infty$. Valori di *odds* vicini a zero indicano basse probabilità, mentre valori di *odds* molto alti indicano probabilità vicine ad uno. Ad esempio, se $p=0.2$, le *odds* sono $1/4$, oppure se $p=0.9$ le *odds* sono pari a $9$."
   ]
  },
  {
   "cell_type": "markdown",
   "metadata": {},
   "source": [
    "Calcolando il logaritmo di ambo i membri della forma in **odds** del modello logistico otteniamo la cosiddetta **Log-Odds** o **Logit**."
   ]
  },
  {
   "cell_type": "markdown",
   "metadata": {},
   "source": [
    "$$\\large log\\left(\\frac{p(X)}{1-p(X)}\\right)=\\beta_0+\\beta_1X$$"
   ]
  },
  {
   "cell_type": "markdown",
   "metadata": {},
   "source": [
    "Notiamo che la *log-odds* del modello di regressione logistica è una funzione **lineare** del predittore $X$.\n",
    "\n",
    "Se per la regressione lineare la *slope* $\\beta_1$ indica l'impatto medio su $Y$ in risposta ad un incremento unitario di $X$, nella regressione logistica il discorso cambia: aumentando $X$ di un'unità abbiamo un impatto sulla *log-odds* pari a $\\beta_1$ o, in alternativa, si moltiplicano le *odds* di un fattore pari a $e^{\\beta_1}$.\n",
    "\n",
    "E' bene notare, però, che siccome la relazione fra $p(X)$ e $X$ non è una linea retta, il valore di $\\beta_1$ non coincide con l'impatto su $p(X)$ in risposta ad un incremento unitario di $X$. La variazione di $p(X)$ in seguito ad un aumento unitario di $X$ dipende dal valore del predittore stesso.\n",
    "\n",
    "Possiamo comunque affermare che, se $\\beta_1$ è positivo, incrementare $X$ vuol dire incrementare la probabilità $p(X)$; se $\\beta_1$ è negativo, incrementare $X$ vuol dire diminuire la probabilità $p(X)$."
   ]
  },
  {
   "cell_type": "markdown",
   "metadata": {},
   "source": [
    "---"
   ]
  },
  {
   "cell_type": "markdown",
   "metadata": {},
   "source": [
    "<a id=\"estimating-coefficients\"></a>\n",
    "## Estimating the Regression Coefficients"
   ]
  },
  {
   "cell_type": "markdown",
   "metadata": {},
   "source": [
    "I *model coefficients* $\\beta_0$ e $\\beta_1$ sono sconosciuti, pertanto devono essere stimati utilizzando i dati di *training*.\n",
    "\n",
    "Per farlo si usa un metodo noto come **Maximum Likelihood Estimation**. Tale tecnica tenta di costruire delle stime $\\hat{\\beta}_0$ e $\\hat{\\beta}_1$ tali per cui la *predicted probability* $\\hat{p}(x_i)$ di una generica osservazione sia più vicina possibile all'*observed response*, avendo supposto una codifica preventiva della *response* in forma $0/1$.\n",
    "\n",
    "In altre parole, inserendo le stime $\\hat{\\beta}_0$ e $\\hat{\\beta}_1$ nella formula di $p(X)$ si cerca di ottenere un numero vicino a uno per tutte le osservazioni appartenenti alla classe positiva, e un numero vicino a zero per tutte le osservazioni appartenenti alla classe negativa.\n",
    "\n",
    "Questo concetto è formalizzato matematicamente all'interno della cosiddetta **Likelihood Function**:"
   ]
  },
  {
   "cell_type": "markdown",
   "metadata": {},
   "source": [
    "$$\\large L(\\beta_0,\\beta_1)=\\prod_{i:y_i=1}p(x_i)\n",
    "\\prod_{j:y_j=0}(1-p(x_j))$$"
   ]
  },
  {
   "cell_type": "markdown",
   "metadata": {},
   "source": [
    "Il nome *maximum likelihood* deriva proprio dal fatto che le stime $\\hat{\\beta}_0$ e $\\hat{\\beta}_1$ sono i valori che *massimizzano* la *likelihood function*."
   ]
  },
  {
   "cell_type": "markdown",
   "metadata": {},
   "source": [
    "Proviamo ad addestrare una regressione logistica sul dataset *Default*, usando *balance* come predittore."
   ]
  },
  {
   "cell_type": "code",
   "execution_count": 8,
   "metadata": {},
   "outputs": [
    {
     "name": "stdout",
     "output_type": "stream",
     "text": [
      "Optimization terminated successfully.\n",
      "         Current function value: 0.079823\n",
      "         Iterations 10\n"
     ]
    },
    {
     "data": {
      "text/html": [
       "<table class=\"simpletable\">\n",
       "<tr>\n",
       "     <td></td>        <th>coef</th>     <th>std err</th>      <th>z</th>      <th>P>|z|</th>  <th>[0.025</th>    <th>0.975]</th>  \n",
       "</tr>\n",
       "<tr>\n",
       "  <th>const</th>   <td>  -10.6513</td> <td>    0.361</td> <td>  -29.491</td> <td> 0.000</td> <td>  -11.359</td> <td>   -9.943</td>\n",
       "</tr>\n",
       "<tr>\n",
       "  <th>balance</th> <td>    0.0055</td> <td>    0.000</td> <td>   24.952</td> <td> 0.000</td> <td>    0.005</td> <td>    0.006</td>\n",
       "</tr>\n",
       "</table>"
      ],
      "text/plain": [
       "<class 'statsmodels.iolib.table.SimpleTable'>"
      ]
     },
     "execution_count": 8,
     "metadata": {},
     "output_type": "execute_result"
    }
   ],
   "source": [
    "Y = defa.default\n",
    "X = defa[[\"balance\"]]\n",
    "X = sm.add_constant(X)\n",
    "\n",
    "model = sm.Logit(endog = Y, exog = X).fit()\n",
    "\n",
    "model.summary().tables[1]"
   ]
  },
  {
   "cell_type": "markdown",
   "metadata": {},
   "source": [
    "Notiamo che un aumento unitario di *balance* implica un aumento delle *log-odds* pari a $0.0055$ unità!\n",
    "\n",
    "Come per la regressione lineare, l'accuratezza della stima parametrica è rappresentata dagli *standard errors*, grazie ai quali possono essere calcolate le *z-statistics* (che svolgono ruolo analogo alle *t-statistics* della regressione lineare) e i corrispondenti *p-values*.\n",
    "\n",
    "In questo caso, però, l'ipotesi nulla afferma che la probabilità di appartenenza alla classe positiva non dipende in alcun modo dal valore del predittore, ma è costante e coincide con la proporzione di classi positive presenti nel dataset."
   ]
  },
  {
   "cell_type": "markdown",
   "metadata": {},
   "source": [
    "$$\\large H_0: \\beta_1=0\\;\\;\\;\\rightarrow\n",
    "\\;\\;\\; p(X)=\\frac{e^{\\beta_0}}{1+e^{\\beta_0}}$$"
   ]
  },
  {
   "cell_type": "markdown",
   "metadata": {},
   "source": [
    "Da qui possiamo intuire come la stima dell'*intercept* $\\beta_0$ non sia così importante ai fini del calcolo delle probabilità di classificazione: il suo unico ruolo è calibrare il valore dell'*average fitted probability* del modello in modo che coincida con la proporzione reale di classi positive nel dataset."
   ]
  },
  {
   "cell_type": "markdown",
   "metadata": {},
   "source": [
    "---"
   ]
  },
  {
   "cell_type": "markdown",
   "metadata": {},
   "source": [
    "<a id=\"making-predictions\"></a>\n",
    "## Making Predictions"
   ]
  },
  {
   "cell_type": "markdown",
   "metadata": {},
   "source": [
    "Dopo aver stimato i *model coefficients*, calcolare la probabilità di appartenenza di una certa osservazione alla classe positiva significa soltanto inserire le stime appena prodotte nel modello logistico."
   ]
  },
  {
   "cell_type": "markdown",
   "metadata": {},
   "source": [
    "$$\\large \\hat{p}(X)=\\frac{e^{\\hat{\\beta}_0+\\hat{\\beta}_1X}}\n",
    "{1+e^{\\hat{\\beta}_0+\\hat{\\beta}_1X}}$$"
   ]
  },
  {
   "cell_type": "markdown",
   "metadata": {},
   "source": [
    "Ad esempio, proviamo con due individui diversi, uno con *balance* di 1000\\$ e uno con *balance* di 2000\\$:"
   ]
  },
  {
   "cell_type": "code",
   "execution_count": 9,
   "metadata": {},
   "outputs": [
    {
     "data": {
      "text/plain": [
       "0    0.005752\n",
       "1    0.585769\n",
       "dtype: float64"
      ]
     },
     "execution_count": 9,
     "metadata": {},
     "output_type": "execute_result"
    }
   ],
   "source": [
    "x_test = pd.DataFrame({\"const\": [1,1], \"balance\": [1000,2000]})\n",
    "\n",
    "model.predict(x_test)"
   ]
  },
  {
   "cell_type": "markdown",
   "metadata": {},
   "source": [
    "C'è una probabilità di *default* pari a circa lo $0.5\\%$ per il primo e di quasi il $60\\%$ per il secondo!"
   ]
  },
  {
   "cell_type": "markdown",
   "metadata": {},
   "source": [
    "Proviamo ad utilizzare solo la variabile categorica *student* come predittore:"
   ]
  },
  {
   "cell_type": "code",
   "execution_count": 10,
   "metadata": {},
   "outputs": [
    {
     "name": "stdout",
     "output_type": "stream",
     "text": [
      "Optimization terminated successfully.\n",
      "         Current function value: 0.145434\n",
      "         Iterations 7\n"
     ]
    },
    {
     "data": {
      "text/html": [
       "<table class=\"simpletable\">\n",
       "<tr>\n",
       "     <td></td>        <th>coef</th>     <th>std err</th>      <th>z</th>      <th>P>|z|</th>  <th>[0.025</th>    <th>0.975]</th>  \n",
       "</tr>\n",
       "<tr>\n",
       "  <th>const</th>   <td>   -3.5041</td> <td>    0.071</td> <td>  -49.554</td> <td> 0.000</td> <td>   -3.643</td> <td>   -3.366</td>\n",
       "</tr>\n",
       "<tr>\n",
       "  <th>student</th> <td>    0.4049</td> <td>    0.115</td> <td>    3.520</td> <td> 0.000</td> <td>    0.179</td> <td>    0.630</td>\n",
       "</tr>\n",
       "</table>"
      ],
      "text/plain": [
       "<class 'statsmodels.iolib.table.SimpleTable'>"
      ]
     },
     "execution_count": 10,
     "metadata": {},
     "output_type": "execute_result"
    }
   ],
   "source": [
    "Y = defa.default\n",
    "X = defa[[\"student\"]]\n",
    "X = sm.add_constant(X)\n",
    "\n",
    "model = sm.Logit(endog = Y, exog = X).fit()\n",
    "\n",
    "model.summary().tables[1]"
   ]
  },
  {
   "cell_type": "markdown",
   "metadata": {},
   "source": [
    "Anche questo predittore è significativo, e sembra che gli studenti (1) siano associati a probabilità di *default* più alte dei non studenti (0)."
   ]
  },
  {
   "cell_type": "code",
   "execution_count": 11,
   "metadata": {},
   "outputs": [
    {
     "data": {
      "text/plain": [
       "0    0.029195\n",
       "1    0.043139\n",
       "dtype: float64"
      ]
     },
     "execution_count": 11,
     "metadata": {},
     "output_type": "execute_result"
    }
   ],
   "source": [
    "x_test = pd.DataFrame({\"const\": [1,1], \"student\": [0, 1]})\n",
    "\n",
    "model.predict(x_test)"
   ]
  },
  {
   "cell_type": "markdown",
   "metadata": {},
   "source": [
    "---"
   ]
  },
  {
   "cell_type": "markdown",
   "metadata": {},
   "source": [
    "<a id=\"multiple-logistic-regression\"></a>\n",
    "## Multiple Logistic Regression"
   ]
  },
  {
   "cell_type": "markdown",
   "metadata": {},
   "source": [
    "Se abbiamo a disposizione $p$ *predictors* per modellare la probabilità di appartenenza alla classe positiva, possiamo estendere il modello logistico in maniera simile a quanto fatto per la regressione lineare multivariata:"
   ]
  },
  {
   "cell_type": "markdown",
   "metadata": {},
   "source": [
    "$$\\large p(X)=\\frac{e^{\\beta_0+\\beta_1X_1+\\dots+\\beta_pX_p}}\n",
    "{1+e^{\\beta_0+\\beta_1X_1+\\dots+\\beta_pX_p}}$$"
   ]
  },
  {
   "cell_type": "markdown",
   "metadata": {},
   "source": [
    "Analogamente, la *log-odds* diventa:"
   ]
  },
  {
   "cell_type": "markdown",
   "metadata": {},
   "source": [
    "$$\\large log\\left(\\frac{p(X)}{1-p(X)}\\right)=\n",
    "\\beta_0+\\beta_1X_1+\\dots+\\beta_pX_p$$"
   ]
  },
  {
   "cell_type": "markdown",
   "metadata": {},
   "source": [
    "Proviamo ad addestrare una regressione logistica che predica la probabilità di *default* usando *balance*, *income* e *student*:"
   ]
  },
  {
   "cell_type": "code",
   "execution_count": 12,
   "metadata": {},
   "outputs": [
    {
     "name": "stdout",
     "output_type": "stream",
     "text": [
      "Optimization terminated successfully.\n",
      "         Current function value: 0.078577\n",
      "         Iterations 10\n"
     ]
    },
    {
     "data": {
      "text/html": [
       "<table class=\"simpletable\">\n",
       "<tr>\n",
       "     <td></td>        <th>coef</th>     <th>std err</th>      <th>z</th>      <th>P>|z|</th>  <th>[0.025</th>    <th>0.975]</th>  \n",
       "</tr>\n",
       "<tr>\n",
       "  <th>const</th>   <td>  -10.8690</td> <td>    0.492</td> <td>  -22.079</td> <td> 0.000</td> <td>  -11.834</td> <td>   -9.904</td>\n",
       "</tr>\n",
       "<tr>\n",
       "  <th>balance</th> <td>    0.0057</td> <td>    0.000</td> <td>   24.737</td> <td> 0.000</td> <td>    0.005</td> <td>    0.006</td>\n",
       "</tr>\n",
       "<tr>\n",
       "  <th>income</th>  <td> 3.033e-06</td> <td>  8.2e-06</td> <td>    0.370</td> <td> 0.712</td> <td> -1.3e-05</td> <td> 1.91e-05</td>\n",
       "</tr>\n",
       "<tr>\n",
       "  <th>student</th> <td>   -0.6468</td> <td>    0.236</td> <td>   -2.738</td> <td> 0.006</td> <td>   -1.110</td> <td>   -0.184</td>\n",
       "</tr>\n",
       "</table>"
      ],
      "text/plain": [
       "<class 'statsmodels.iolib.table.SimpleTable'>"
      ]
     },
     "execution_count": 12,
     "metadata": {},
     "output_type": "execute_result"
    }
   ],
   "source": [
    "Y = defa.default\n",
    "X = defa[[\"balance\", \"income\", \"student\"]]\n",
    "X = sm.add_constant(X)\n",
    "\n",
    "model = sm.Logit(endog = Y, exog = X).fit()\n",
    "\n",
    "model.summary().tables[1]"
   ]
  },
  {
   "cell_type": "markdown",
   "metadata": {},
   "source": [
    "Sembra che il coefficiente di *student* sia negativo, come a voler indicare che gli studenti siano meno portati ad andare in *default* dei non-studenti, ma ciò contraddice quanto visto nel modello univariato, nel quale il coefficiente di *student* era positivo!\n",
    "\n",
    "Questo è un esempio tipico di **confounding**: gli studenti tendono ad accumulare maggior debito, e più alto è il debito maggiore è il corrispondente *default rate* che emerge dal *training set*; è bene osservare, però, che a parità di *balance* gli studenti sono associati a una probabilità minore di *default* rispetto ai non-studenti. E' per questo motivo che il coefficiente di *student* del modello multivariato è negativo!\n",
    "\n",
    "In altre parole, se abbiamo a disposizione il valore di *balance*, uno studente risulta essere *meno rischioso* di un non-studente, mentre se ignoriamo il contenuto informativo di *balance* e guardiamo solo lo status di studente, gli studenti sono *più rischiosi* dei non-studenti.\n",
    "\n",
    "Specifichiamo, infine, che questo *confounding* si verifica perché *student* e *balance* sono correlati, cioè gli studenti sono associati a debiti maggiori, e debiti maggiori portano a *default rate* più alti."
   ]
  },
  {
   "cell_type": "markdown",
   "metadata": {},
   "source": [
    "Ad esempio, notiamo che uno studente con 1500 di *balance* e con 40.000 di *income* ha una probabilità di *default* di quasi 6%, mentre lo stesso non-studente arriva ad oltre il 10%."
   ]
  },
  {
   "cell_type": "code",
   "execution_count": 13,
   "metadata": {},
   "outputs": [
    {
     "data": {
      "text/plain": [
       "0    0.057882\n",
       "1    0.104992\n",
       "dtype: float64"
      ]
     },
     "execution_count": 13,
     "metadata": {},
     "output_type": "execute_result"
    }
   ],
   "source": [
    "x_test = pd.DataFrame({\"const\": [1,1], \"balance\": [1500, 1500],\n",
    "                       \"income\": [40000, 40000], \"student\": [1, 0]})\n",
    "\n",
    "model.predict(x_test)"
   ]
  },
  {
   "cell_type": "markdown",
   "metadata": {},
   "source": [
    "---"
   ]
  },
  {
   "cell_type": "markdown",
   "metadata": {},
   "source": [
    "<a id=\"lda\"></a>\n",
    "# Linear Discriminant Analysis"
   ]
  },
  {
   "cell_type": "markdown",
   "metadata": {},
   "source": [
    "La *LDA* è un *learning method* di classificazione che, come la regressione logistica, ha come obiettivo la modellazione della distribuzione condizionata di della *response* $Y$ dati i valori dei *predictors* $X$.\n",
    "\n",
    "La sostanziale differenza fra i due metodi è che la *LDA* modella le distribuzioni dei predittori $X$ separatamente per ciascuna delle classi in analisi, cioè $Pr(X=x|Y=k)$, per poi sfruttare il *Bayes Theorem* e convertirle nella distribuzione della *response* condizionata dai *predictors*, cioè $Pr(Y=k|X=x)$."
   ]
  },
  {
   "cell_type": "markdown",
   "metadata": {},
   "source": [
    "Perché usare un altro *learning method* quando abbiamo già la regressione logistica? Ci sono diversi motivi:\n",
    "- Quando le classi sono estramemente separate, le stime parametriche della regressione logistica sono sorprendentemente instabili. La *LDA* non soffre di questo problema.\n",
    "\n",
    "\n",
    "- Se il dataset è piccolo e la distribuzione dei predittori per ciascuna delle classi segue un andamento quasi normale, la *LDA* si rivela più stabile e affidabile della regressione logistica.\n",
    "\n",
    "\n",
    "- La *LDA* è frequentemente usata per trattare i problemi di classificazione non binari, cioè con più di due classi in uscita."
   ]
  },
  {
   "cell_type": "markdown",
   "metadata": {},
   "source": [
    "---"
   ]
  },
  {
   "cell_type": "markdown",
   "metadata": {},
   "source": [
    "<a id=\"lda-bayes\"></a>\n",
    "## Using Bayes' Theorem for Classification"
   ]
  },
  {
   "cell_type": "markdown",
   "metadata": {},
   "source": [
    "Supponiamo di dover risolvere un problema di classificazione ad un solo predittore $X$ e con $K$ classi in uscita.\n",
    "\n",
    "Definiamo $\\pi_k$ la **prior probability** che una generica osservazione appartenga alla classe k-esima.\n",
    "\n",
    "Definiamo poi $f_k(x)$ come la **density function** del predittore $X$ per le osservazioni che fanno parte della k-esima classe, cioè $f_k(x)=Pr(X=x|Y=k)$. \n",
    "\n",
    "In altre parole, $f_k(x)$ assume valori alti se c'è un'alta probabilità che un'osservazione della classe k-esima presenti $X\\approx x$; al contrario, $f_k(x)$ assume valori vicini allo zero se è improbabile che un'osservazione della classe k-esima presenti $X\\approx x$."
   ]
  },
  {
   "cell_type": "markdown",
   "metadata": {},
   "source": [
    "Possiamo sfruttare il **Bayes Theorem** per combinare *prior* e *densities* e calcolare la **posterior probability** che un'osservazione il cui *predictor* vale $X=x$ sia associata alla classe k-esima."
   ]
  },
  {
   "cell_type": "markdown",
   "metadata": {},
   "source": [
    "$$\\large p_k(x)=Pr(Y=k|X=x)=\\frac{\\pi_kf_k(x)}{\\sum_{i=1}^{K}\\pi_if_i(x)}$$"
   ]
  },
  {
   "cell_type": "markdown",
   "metadata": {},
   "source": [
    "Per ottenere una stima di $\\pi_k$ è necessario calcolare la frazione di osservazioni di *training* che appartengono alla classe k-esima.\n",
    "\n",
    "Stimare $f_k(X)$, invece, è più complesso a meno che non si facciano delle assunzioni di fondo che riconducano le *densities* a delle funzioni note."
   ]
  },
  {
   "cell_type": "markdown",
   "metadata": {},
   "source": [
    "---"
   ]
  },
  {
   "cell_type": "markdown",
   "metadata": {},
   "source": [
    "<a id=\"lda-simple\"></a>\n",
    "## Linear Discriminant Analysis for $p=1$"
   ]
  },
  {
   "cell_type": "markdown",
   "metadata": {},
   "source": [
    "Approfondiamo i dettagli della *LDA* nello scenario $p=1$.\n",
    "\n",
    "Abbiamo bisogno di costruire una stima delle densità $f_k(x)$ per stimare la *posterior probability* $p_k(x)$, per poi assegnare la generica osservazione alla classe che presenta il maggior valore di $p_k(x)$."
   ]
  },
  {
   "cell_type": "markdown",
   "metadata": {},
   "source": [
    "La prima assunzione di fondo è che la **densità** del predittore in analisi segua un andamento **normale** per tutte le classi in analisi:"
   ]
  },
  {
   "cell_type": "markdown",
   "metadata": {},
   "source": [
    "$$\\large f_k(x)=\\frac{1}{\\sqrt{2\\pi\\sigma_k^2}}\n",
    "exp\\left(-\\frac{(x-\\mu_k)^2}{2\\sigma_k^2}\\right)$$"
   ]
  },
  {
   "cell_type": "markdown",
   "metadata": {},
   "source": [
    "Avremo quindi una coppia di media e varianza ($\\mu_k$ e $\\sigma_k^2$) per ognuna delle $K$ classi della *response*.\n",
    "\n",
    "La seconda assunzione da fare è che tutte le classi condividano la **stessa varianza**, cioè $\\sigma^2=\\sigma_1^2=\\dots=\\sigma_K^2$. In altre parole, l'unico parametro libero capace di differenziare le $K$ densità è la media $\\mu_k$."
   ]
  },
  {
   "cell_type": "markdown",
   "metadata": {},
   "source": [
    "Abbiamo bisogno di costruire delle stime per i parametri necessari a definire la funzione $\\hat{p}_k(x)$.\n",
    "\n",
    "Possiamo ricavare le *priors* $\\hat{\\pi}_k$ calcolando semplicemente la proporzione di osservazioni che appartengono ad una certa classe:"
   ]
  },
  {
   "cell_type": "markdown",
   "metadata": {},
   "source": [
    "$$\\large \\hat{\\pi}_k=\\frac{n_K}{n}$$"
   ]
  },
  {
   "cell_type": "markdown",
   "metadata": {},
   "source": [
    "La media della generica densità gaussiana per la classe $k$ può essere stimata con la media aritmetica dei valori del predittore per le osservazioni associate alla classe $k$:"
   ]
  },
  {
   "cell_type": "markdown",
   "metadata": {},
   "source": [
    "$$\\large \\hat{\\mu}_k=\\frac{1}{n_k}\\sum_{i:y_i=k}x_i$$"
   ]
  },
  {
   "cell_type": "markdown",
   "metadata": {},
   "source": [
    "La varianza comune a tutte le $K$ densità può essere stimata come una media aritmetica delle singole varianze di ciascuna classe, opportunamente modulata dai corretti *degrees of freedom*:"
   ]
  },
  {
   "cell_type": "markdown",
   "metadata": {},
   "source": [
    "$$\\large \\hat{\\sigma}^2=\\frac{1}{n-K}\\sum_{k=1}^{K}\n",
    "\\sum_{i:y_i=k}\\left(x_i-\\hat{\\mu}_k\\right)^2$$"
   ]
  },
  {
   "cell_type": "markdown",
   "metadata": {},
   "source": [
    "Calcolate le stime, possiamo comporre la *posterior probability*:"
   ]
  },
  {
   "cell_type": "markdown",
   "metadata": {},
   "source": [
    "$$\\large \\hat{p}_k(x)=\\frac{\\hat{\\pi}_k \\cdot \\frac{1}{\\sqrt{2\\pi\\hat{\\sigma}^2}}\n",
    "exp\\left(-\\frac{(x-\\hat{\\mu}_k)^2}{2\\hat{\\sigma}^2}\\right)}\n",
    "{\\sum_{i=1}^{K} \\hat{\\pi}_i \\cdot \\frac{1}{\\sqrt{2\\pi\\hat{\\sigma}^2}}\n",
    "exp\\left(-\\frac{(x-\\hat{\\mu}_i)^2}{2\\hat{\\sigma}^2}\\right)}$$"
   ]
  },
  {
   "cell_type": "markdown",
   "metadata": {},
   "source": [
    "Calcolando il logaritmo di ambo i membri e riordinando i termini, si ottiene la cosiddetta **Discriminant Function**:"
   ]
  },
  {
   "cell_type": "markdown",
   "metadata": {},
   "source": [
    "$$\\large \\hat{\\delta}_k(x)=x\\cdot \\frac{\\hat{\\mu}_k}{\\hat{\\sigma}^2}\n",
    "-\\frac{\\hat{\\mu}_k^2}{2\\hat{\\sigma}^2}+log(\\hat{\\pi}_k)$$"
   ]
  },
  {
   "cell_type": "markdown",
   "metadata": {},
   "source": [
    "Possiamo calcolare la *discriminant function* per ognuna delle $K$ classi in analisi e assegnare all'osservazione $X=x$ la classe che presenta il maggior valore di $\\hat{\\delta}_k(x)$.\n",
    "\n",
    "Osserviamo come il termine *linear* nel nome del classificatore derivi dal fatto che la *discriminant function* è una funzione *lineare* del predittore $X$."
   ]
  },
  {
   "cell_type": "markdown",
   "metadata": {},
   "source": [
    "Facciamo un esempio pratico. Nel grafico a sinistra troviamo due densità dello stesso predittore, ma appartenenti a classi distinte. Notiamo come le due normali presentino medie diversi (una in -1.25, l'altra in +1.25), ma stessa varianza.\n",
    "\n",
    "Specifichiamo che in una situazione del genere, cioè quando conosciamo perfettamente la distribuzione dei valori del predittore per ciascuna classe, possiamo costruire direttamente il **Bayes Classifier**! Quest'ultimo definirebbe il *bayes decision boundary* precisamente a $x=0$, assegnando alla classe verde tutti i *sample* con $x<0$ e alla classe viola tutti gli altri."
   ]
  },
  {
   "cell_type": "markdown",
   "metadata": {},
   "source": [
    "<img src=\"imgs/lda-1p.PNG\"></img>"
   ]
  },
  {
   "cell_type": "markdown",
   "metadata": {},
   "source": [
    "Ciò che accade più spesso nella realtà è rappresentato nel plot di destra, dove abbiamo un *training set* di 40 osservazioni, 20 per ogni classe.\n",
    "\n",
    "Per entrambi i *sample* possiamo costruire le stime $\\hat{\\mu}_k$, $\\hat{\\sigma}_k^2$ e $\\hat{\\pi}_k$ e calcolare le due *discriminant functions* $\\hat{\\delta}_1(x)$ e $\\hat{\\delta}_2(x)$.\n",
    "\n",
    "Se la retta tratteggiata indica il *bayes decision boundary* costruito nel caso ideale, la retta più marcata rappresenta il *decision boundary* calcolato dalla *LDA*, corrispondente al valore del predittore $X$ per il quale risulta verificata:"
   ]
  },
  {
   "cell_type": "markdown",
   "metadata": {},
   "source": [
    "$$\\large \\hat{\\delta}_1(x)=\\hat{\\delta}_2(x)$$"
   ]
  },
  {
   "cell_type": "markdown",
   "metadata": {},
   "source": [
    "---"
   ]
  },
  {
   "cell_type": "markdown",
   "metadata": {},
   "source": [
    "<a id=\"lda-multiple\"></a>\n",
    "## Linear Discriminant Analysis for $p>1$"
   ]
  },
  {
   "cell_type": "markdown",
   "metadata": {},
   "source": [
    "Estendiamo la *LDA* al caso in cui $p>1$.\n",
    "\n",
    "Per farlo, dobbiamo assumere che i predittori $X=(X_1,\\dots,X_p)$ siano estratti da una distribuzione **Multivariate Gaussian**. In altre parole, ogni predittore segue una propria distribuzione normale, ma queste non sono necessariamente indipendenti, cioè è possibile che tra di loro i predittori mostrino delle correlazioni. Deduciamo, quindi, che ogni distribuzione *multivariate gaussian* è definita da due parametri: un vettore di medie p-dimensionale $\\mu=(\\mu_1,\\dots\\,\\mu_p)$ e una matrice di covarianza dei predittori di dimensione $p\\times p$."
   ]
  },
  {
   "cell_type": "markdown",
   "metadata": {},
   "source": [
    "Di seguito sono presentate due distribuzioni *multivariate gaussian*: la prima non evidenzia alcuna correlazione tra i due predittori, mentre nella seconda il grado di correlazione è pari a 0.7."
   ]
  },
  {
   "cell_type": "markdown",
   "metadata": {},
   "source": [
    "<img src=\"imgs/multivariate-gaussian.PNG\"></img>"
   ]
  },
  {
   "cell_type": "markdown",
   "metadata": {},
   "source": [
    "La **probability density function** della *multivariate gaussian distribution* è definita come segue:"
   ]
  },
  {
   "cell_type": "markdown",
   "metadata": {},
   "source": [
    "$$\\large f(x)=\\frac{1}{\\sqrt{(2\\pi)^p|\\Sigma|}}\n",
    "exp\\left( -\\frac{1}{2}(x-\\mu)^T\\Sigma^{-1}(x-\\mu) \\right)$$"
   ]
  },
  {
   "cell_type": "markdown",
   "metadata": {},
   "source": [
    "L'assunzione compiuta dalla *LDA*, in questo caso, è che la **covariance matrix** che mette in relazione i predittori fra di loro e definisce (nella diagonale principale) le loro varianze, sia **comune a tutte le $K$** **classi**. L'unico parametro in grado di variare per differenziare le classi è il vettore di medie p-dimensionale $\\mu_k$."
   ]
  },
  {
   "cell_type": "markdown",
   "metadata": {},
   "source": [
    "Come nel caso della *LDA* a singolo predittore, è possibile manipolare la formula della *posterior probability* per ottenere la **discriminant function**:"
   ]
  },
  {
   "cell_type": "markdown",
   "metadata": {},
   "source": [
    "$$\\large p_k(x)=\\frac{\\pi_kf_k(x)}{\\sum_{i=1}^{K}\\pi_if_i(x)}$$"
   ]
  },
  {
   "cell_type": "markdown",
   "metadata": {},
   "source": [
    "$$\\large \\delta_k(x)=x^T\\Sigma^{-1}\\mu_k-\\frac{1}{2}\n",
    "\\mu_k^T\\Sigma^{-1}\\mu_k+log\\pi_k$$"
   ]
  },
  {
   "cell_type": "markdown",
   "metadata": {},
   "source": [
    "Un esempio è mostrato nel grafico seguente. Ci sono due predittori e tre classi, quindi si evidenziano tre gaussiane con medie diverse e matrice di covarianza comune per tutte e tre le classi. \n",
    "\n",
    "Le rette tratteggiate indicano il *bayes decision boundary*, che sarebbe in grado di costruire solo se conoscessimo con esattezza l'andamento delle tre gaussiane, cioè le loro medie esatte e la correlazione reale tra i predittori. Specifichiamo che il *decision boundary* è formato da tre rette perché ci sono tre coppie di classi da separare, pertanto tutto il *feature space* risulta diviso in tre regioni di classificazione distinte."
   ]
  },
  {
   "cell_type": "markdown",
   "metadata": {},
   "source": [
    "<img src=\"imgs/lda-2p.PNG\"></img>"
   ]
  },
  {
   "cell_type": "markdown",
   "metadata": {},
   "source": [
    "Quello che possiamo fare all'atto pratico, dove non conosciamo l'andamento esatto dei predittori e abbiamo a disposizione solo dei *sample*, è calcolare delle stime per $\\mu_1, \\mu_2, \\mu_3$, $\\pi_1,\\pi_2,\\pi_3$ e per la matrice di covarianza $\\Sigma$, sfruttando le stesse tecniche viste per la *LDA* con $p=1$.\n",
    "\n",
    "In questo modo potremo inserire le nostre stime nella *discriminant function* e assegnare alla generica osservazione $(X_1=x_1, X_2=x_2)$ la classe che massimizza $\\hat{\\delta}_k(x_1, x_2)$."
   ]
  },
  {
   "cell_type": "markdown",
   "metadata": {},
   "source": [
    "Da notare come, anche per il caso $p>1$, la *discriminant function* sia ancora una funzione lineare dei predittori. In altre parole, la **LDA Decision Rule** dipende solo da una combinazione lineare degli elementi di $x=(x_1,x_2)$"
   ]
  },
  {
   "cell_type": "markdown",
   "metadata": {},
   "source": [
    "<br>"
   ]
  },
  {
   "cell_type": "markdown",
   "metadata": {},
   "source": [
    "Addestriamo una *LDA* sul dataset *Default*, usando *balance*, *income* e *student* come predittori."
   ]
  },
  {
   "cell_type": "code",
   "execution_count": 14,
   "metadata": {},
   "outputs": [
    {
     "data": {
      "text/plain": [
       "LinearDiscriminantAnalysis(n_components=None, priors=None, shrinkage=None,\n",
       "                           solver='svd', store_covariance=False, tol=0.0001)"
      ]
     },
     "execution_count": 14,
     "metadata": {},
     "output_type": "execute_result"
    }
   ],
   "source": [
    "X = defa[[\"balance\", \"income\", \"student\"]]\n",
    "Y = defa.default\n",
    "\n",
    "model = LinearDiscriminantAnalysis(solver = \"svd\")\n",
    "model.fit(X, Y)"
   ]
  },
  {
   "cell_type": "markdown",
   "metadata": {},
   "source": [
    "Il **training error rate** è del 2.75%."
   ]
  },
  {
   "cell_type": "code",
   "execution_count": 15,
   "metadata": {},
   "outputs": [
    {
     "data": {
      "text/plain": [
       "0.027599999999999958"
      ]
     },
     "execution_count": 15,
     "metadata": {},
     "output_type": "execute_result"
    }
   ],
   "source": [
    "Y_pred = model.predict(X)\n",
    "\n",
    "zero_one_loss(Y, Y_pred)"
   ]
  },
  {
   "cell_type": "markdown",
   "metadata": {},
   "source": [
    "La metrica sembra indicare che il modello sia molto accurato, però dobbiamo osservare che nel dataset solo il 3.33% delle osservazioni appartiene alla classe positiva (cioè individui che realmente vanno in *default*), di conseguenza un semplice classificatore che restituisce sempre *Not Default* a prescindere dal valore dei prdittori raggiungerebbe *training error rate* pari a 3.33%, non così peggio del modello di *LDA* appena addestrato."
   ]
  },
  {
   "cell_type": "markdown",
   "metadata": {},
   "source": [
    "Costruiamo la cosiddetta **confusion matrix** per capire che tipo di errori sono commessi dal classificatore.\n",
    "\n",
    "Se la *response* del task in questione presenta $n$ classi, la *confusion matrix* sarà di dimensione $n \\times n$. Ogni riga, così come ogni colonna, sarà etichettata con i nomi delle classi della *response*.\n",
    "\n",
    "Sulle **righe** sono presenti i **predicted values**, mentre sulle **colonne** gli **actual values**.\n",
    "\n",
    "Nel caso binario, la *confusion matrix* assume la sua forma più nota:"
   ]
  },
  {
   "cell_type": "markdown",
   "metadata": {},
   "source": [
    "$$ \\left[\\begin{array}\n",
    "\\\\ - & \\text{Actual 1} & \\text{Actual 0}\n",
    "\\\\ \\text{Predicted 1} & TP & FP\n",
    "\\\\ \\text{Predicted 0} & FN & TN\n",
    "\\end{array}\\right]$$"
   ]
  },
  {
   "cell_type": "markdown",
   "metadata": {},
   "source": [
    "I **true positive** sono le osservazioni appartenenti alla classe positiva correttamente predette dal modello.\n",
    "\n",
    "I **true negative** sono le osservazioni appartenenti alla classe negativa correttamente predette dal modello.\n",
    "\n",
    "I **false positive** sono le osservazioni appartenenti alla classe negativa che il modello ha associato alla classe positiva.\n",
    "\n",
    "I **false negative** sono le osservazioni appartenenti alla classe positiva che il modello ha associato alla classe negativa."
   ]
  },
  {
   "cell_type": "markdown",
   "metadata": {},
   "source": [
    "Tantissime metriche possono essere costruite a partire da queste informazioni. Di seguito presentiamo le tre più famose e utilizzate."
   ]
  },
  {
   "cell_type": "markdown",
   "metadata": {},
   "source": [
    "Il **true positive rate**, anche detto **sensitivity** o **recall** rappresenta la proporzione di osservazioni *realmente* positive che il modello ha predetto correttamente. Può anche essere interpretato come il **Type 1 Error**, la probabilità di rigettare erroneamente un'ipotesi nulla."
   ]
  },
  {
   "cell_type": "markdown",
   "metadata": {},
   "source": [
    "$$\\large TPR=\\text{Recall}=\\text{Sensitivity}=\\frac{TP}{TP+FN}$$"
   ]
  },
  {
   "cell_type": "markdown",
   "metadata": {},
   "source": [
    "Il **true negative rate**, anche detto **specificity**, rappresenta la proporzione di osservazioni *realmente* negative che il modello ha predetto correttamente. Può anche essere interpretato come il **power** del test, cioè la probabilità di rigettare correttamente un'ipotesi nulla. In alternativa, può essere visto come il complemento del **Type 2 Error**, che è l'errore che commettiamo quando non rigettiamo un'ipotesi nulla falsa."
   ]
  },
  {
   "cell_type": "markdown",
   "metadata": {},
   "source": [
    "$$\\large TNR=\\text{Specificity}=\\frac{TN}{TN+FP}$$"
   ]
  },
  {
   "cell_type": "markdown",
   "metadata": {},
   "source": [
    "Il **positive predictive value**, anche detto **precision**, rappresenta la proporzione di osservazioni classificate dal modello come positive che sono realmente dei *true positives*."
   ]
  },
  {
   "cell_type": "markdown",
   "metadata": {},
   "source": [
    "$$\\large PPV=\\text{Precision}=\\frac{TP}{TP+FP}$$"
   ]
  },
  {
   "cell_type": "markdown",
   "metadata": {},
   "source": [
    "L'**F1 Score** è la media armonica fra **precision** e **recall**, cioè fra *positive predictive value* e *sensitivity*. Assume valori nell'intervallo $[0,1]$, dove $1$ indica *precision* e *recall* perfette mentre $0$ indica che almeno una delle due metriche è nulla."
   ]
  },
  {
   "cell_type": "markdown",
   "metadata": {},
   "source": [
    "$$\\large F1=2\\frac{Precision\\times Recall}{Precision + Recall}$$"
   ]
  },
  {
   "cell_type": "markdown",
   "metadata": {},
   "source": [
    "<br>"
   ]
  },
  {
   "cell_type": "markdown",
   "metadata": {},
   "source": [
    "Costruiamo la *confusion matrix* per il modello di *LDA*:"
   ]
  },
  {
   "cell_type": "code",
   "execution_count": 16,
   "metadata": {},
   "outputs": [
    {
     "data": {
      "text/html": [
       "<div>\n",
       "<style scoped>\n",
       "    .dataframe tbody tr th:only-of-type {\n",
       "        vertical-align: middle;\n",
       "    }\n",
       "\n",
       "    .dataframe tbody tr th {\n",
       "        vertical-align: top;\n",
       "    }\n",
       "\n",
       "    .dataframe thead tr th {\n",
       "        text-align: left;\n",
       "    }\n",
       "</style>\n",
       "<table border=\"1\" class=\"dataframe\">\n",
       "  <thead>\n",
       "    <tr>\n",
       "      <th></th>\n",
       "      <th></th>\n",
       "      <th colspan=\"3\" halign=\"left\">True</th>\n",
       "    </tr>\n",
       "    <tr>\n",
       "      <th></th>\n",
       "      <th></th>\n",
       "      <th>0</th>\n",
       "      <th>1</th>\n",
       "      <th>Total</th>\n",
       "    </tr>\n",
       "  </thead>\n",
       "  <tbody>\n",
       "    <tr>\n",
       "      <th rowspan=\"3\" valign=\"top\">Predicted</th>\n",
       "      <th>0</th>\n",
       "      <td>9645</td>\n",
       "      <td>254</td>\n",
       "      <td>9899</td>\n",
       "    </tr>\n",
       "    <tr>\n",
       "      <th>1</th>\n",
       "      <td>22</td>\n",
       "      <td>79</td>\n",
       "      <td>101</td>\n",
       "    </tr>\n",
       "    <tr>\n",
       "      <th>Total</th>\n",
       "      <td>9667</td>\n",
       "      <td>333</td>\n",
       "      <td>10000</td>\n",
       "    </tr>\n",
       "  </tbody>\n",
       "</table>\n",
       "</div>"
      ],
      "text/plain": [
       "                 True            \n",
       "                    0    1  Total\n",
       "Predicted 0      9645  254   9899\n",
       "          1        22   79    101\n",
       "          Total  9667  333  10000"
      ]
     },
     "execution_count": 16,
     "metadata": {},
     "output_type": "execute_result"
    }
   ],
   "source": [
    "pretty_cm(y_true = Y, y_pred = Y_pred, classes = model.classes_)"
   ]
  },
  {
   "cell_type": "markdown",
   "metadata": {},
   "source": [
    "Notiamo come solo 22 persone di 9667 sono state erroneamente associate alla classe di *default*, sembra un buon risultato! Però dei 333 individui che vanno realmente in *default*, ben 254 non sono stati individuati!"
   ]
  },
  {
   "cell_type": "markdown",
   "metadata": {},
   "source": [
    "La *sensitivity* in questo caso è la percentuale di veri *defaulters* che sono stati individuati, ed è un misero 24%."
   ]
  },
  {
   "cell_type": "code",
   "execution_count": 17,
   "metadata": {},
   "outputs": [
    {
     "data": {
      "text/plain": [
       "0.23723723723723725"
      ]
     },
     "execution_count": 17,
     "metadata": {},
     "output_type": "execute_result"
    }
   ],
   "source": [
    "recall_score(y_true = Y, y_pred = Y_pred)"
   ]
  },
  {
   "cell_type": "markdown",
   "metadata": {},
   "source": [
    "La *specificity* in questo caso è la percentuale di veri *non-defaulters* che sono stati individuati, e siamo a oltre il 99%!"
   ]
  },
  {
   "cell_type": "code",
   "execution_count": 18,
   "metadata": {},
   "outputs": [
    {
     "data": {
      "text/plain": [
       "99.77242164063308"
      ]
     },
     "execution_count": 18,
     "metadata": {},
     "output_type": "execute_result"
    }
   ],
   "source": [
    "specificity = 1 - (22 / 9667)\n",
    "specificity * 100"
   ]
  },
  {
   "cell_type": "markdown",
   "metadata": {},
   "source": [
    "Questa bassa *sensitivity* è dovuta alla *threshold* di classificazione usata per separare la classe positiva da quella negativa. Il punto di partenza è sempre la soglia 0.5, ma se per il nostro problema è molto importante individuare le classi positive, possiamo abbassarla ad esempio a 0.2, assegnando alla classe *default* tutte le osservazioni che presentano *posterior probability* di almeno 0.2."
   ]
  },
  {
   "cell_type": "code",
   "execution_count": 19,
   "metadata": {},
   "outputs": [],
   "source": [
    "threshold = 0.2\n",
    "\n",
    "# Prendo la seconda colonna che è la probabilità della classe positiva\n",
    "Y_prob = model.predict_proba(X)[:, 1]\n",
    "\n",
    "Y_pred = np.where(Y_prob > 0.2, 1, 0)"
   ]
  },
  {
   "cell_type": "markdown",
   "metadata": {},
   "source": [
    "Ricostruiamo la *confusion matrix*:"
   ]
  },
  {
   "cell_type": "code",
   "execution_count": 20,
   "metadata": {},
   "outputs": [
    {
     "data": {
      "text/html": [
       "<div>\n",
       "<style scoped>\n",
       "    .dataframe tbody tr th:only-of-type {\n",
       "        vertical-align: middle;\n",
       "    }\n",
       "\n",
       "    .dataframe tbody tr th {\n",
       "        vertical-align: top;\n",
       "    }\n",
       "\n",
       "    .dataframe thead tr th {\n",
       "        text-align: left;\n",
       "    }\n",
       "</style>\n",
       "<table border=\"1\" class=\"dataframe\">\n",
       "  <thead>\n",
       "    <tr>\n",
       "      <th></th>\n",
       "      <th></th>\n",
       "      <th colspan=\"3\" halign=\"left\">True</th>\n",
       "    </tr>\n",
       "    <tr>\n",
       "      <th></th>\n",
       "      <th></th>\n",
       "      <th>0</th>\n",
       "      <th>1</th>\n",
       "      <th>Total</th>\n",
       "    </tr>\n",
       "  </thead>\n",
       "  <tbody>\n",
       "    <tr>\n",
       "      <th rowspan=\"3\" valign=\"top\">Predicted</th>\n",
       "      <th>0</th>\n",
       "      <td>9435</td>\n",
       "      <td>140</td>\n",
       "      <td>9575</td>\n",
       "    </tr>\n",
       "    <tr>\n",
       "      <th>1</th>\n",
       "      <td>232</td>\n",
       "      <td>193</td>\n",
       "      <td>425</td>\n",
       "    </tr>\n",
       "    <tr>\n",
       "      <th>Total</th>\n",
       "      <td>9667</td>\n",
       "      <td>333</td>\n",
       "      <td>10000</td>\n",
       "    </tr>\n",
       "  </tbody>\n",
       "</table>\n",
       "</div>"
      ],
      "text/plain": [
       "                 True            \n",
       "                    0    1  Total\n",
       "Predicted 0      9435  140   9575\n",
       "          1       232  193    425\n",
       "          Total  9667  333  10000"
      ]
     },
     "execution_count": 20,
     "metadata": {},
     "output_type": "execute_result"
    }
   ],
   "source": [
    "pretty_cm(y_true = Y, y_pred = Y_pred, classes = model.classes_)"
   ]
  },
  {
   "cell_type": "code",
   "execution_count": 21,
   "metadata": {},
   "outputs": [
    {
     "data": {
      "text/plain": [
       "(0.5795795795795796, 0.9760008275576704)"
      ]
     },
     "execution_count": 21,
     "metadata": {},
     "output_type": "execute_result"
    }
   ],
   "source": [
    "specificity = 1 - (232 / 9667)\n",
    "\n",
    "recall_score(y_true = Y, y_pred = Y_pred), specificity"
   ]
  },
  {
   "cell_type": "code",
   "execution_count": 22,
   "metadata": {},
   "outputs": [
    {
     "data": {
      "text/plain": [
       "0.03720000000000001"
      ]
     },
     "execution_count": 22,
     "metadata": {},
     "output_type": "execute_result"
    }
   ],
   "source": [
    "zero_one_loss(y_true = Y, y_pred = Y_pred)"
   ]
  },
  {
   "cell_type": "markdown",
   "metadata": {},
   "source": [
    "Notiamo come l'*error rate* totale sia salito a quasi il 4%, ma ci abbiamo guadagnato in *sensitivity*!"
   ]
  },
  {
   "cell_type": "markdown",
   "metadata": {},
   "source": [
    "Quasi tutti i *learning method* presentano un parametro *threshold* in funzione del quale il modello risultante discrimina fra classi positive e classi negative.\n",
    "\n",
    "Per individuare la *threshold* ottimale sarebbe necessario costruire una *confusion matrix* per ogni valore di *threshold* possibile e individuare la combinazione che garantisca la migliore qualità predittiva.\n",
    "\n",
    "Un'alternativa a questo approccio consiste nella costruzione della **ROC Curve** (*Receiver Operator Characteristic*).\n",
    "\n",
    "La *ROC Curve* si ottiene plottando sulle ascisse i valori del *FPR* e sulle ordinate i corrispondenti valori di *TPR*. In altre parole, si intende analizzare come varia la **sensitivity** (sulle ordinate) rispetto alla quantità **1 - specificity/recall** (sulle ascisse).\n",
    "\n",
    "La retta che divide il primo quadrante in due ($y=x$) rappresenta le performance che avrebbe il *classificatore randomico*, che sceglie indifferentemente fra classe positiva e classe negativa senza un vero criterio.\n",
    "\n",
    "Tutti i punti che si trovano *alla sinistra* della retta in questione indicano che il valore dei *true positives* è superiore rispetto ai *false positives*.\n",
    "\n",
    "L'ideale sarebbe individuare una *threshold* che porti la curva a raggiungere l'angolo in alto a sinistra del grafico, che corrisponde all'assenza totale di *false positives* e ad un *true positive rate* unitario.\n",
    "\n",
    "Non è detto che tale *threshold* possa essere individuata con certezza assoluta, perciò all'atto pratico è necessario selezionare il *trade-off* fra *TPR* e *FPR* più adatto al problema in analisi.\n",
    "\n",
    "Un'alternativa consiste nel calcolo della media geometrica fra *true positive rate* e *true negative rate* (che in fondo coincide con il complemento del *false positive rate* calcolato per la *ROC*). La *threshold* associata al valore più alto di tale media geometrica può essere considerato il valore ottimale da utilizzare a regime."
   ]
  },
  {
   "cell_type": "markdown",
   "metadata": {},
   "source": [
    "Specifichiamo, inoltre, che se il numero di osservazioni *positive* è molto più basso del numero di osservazioni *negative*, può essere più corretto utilizzare la **precision** come metrica di riferimento per le ascisse. Questo perché la *precision* non include al suo interno il numero di *true negatives*, pertanto non soffre dello sbilanciamento di classi."
   ]
  },
  {
   "cell_type": "markdown",
   "metadata": {},
   "source": [
    "Per confrontare due modelli diversi in funzione della *ROC Curve* si utilizza l'**Area Under the Curve** (*AUC*), che consiste semplicemente nel valore dell'area sottesa alla curva *ROC*.\n",
    "\n",
    "Si può affermare che un modello ha capacità predittive superiori se presenta un'*AUC* più alta rispetto ai suoi modelli concorrenti."
   ]
  },
  {
   "cell_type": "markdown",
   "metadata": {},
   "source": [
    "Costruiamo la *ROC Curve* per la classe positiva e per la classe negativa:"
   ]
  },
  {
   "cell_type": "code",
   "execution_count": 23,
   "metadata": {},
   "outputs": [
    {
     "data": {
      "image/png": "[encoded data removed]",
      "text/plain": [
       "<Figure size 576x288 with 1 Axes>"
      ]
     },
     "metadata": {},
     "output_type": "display_data"
    },
    {
     "data": {
      "image/png": "[encoded data removed]",
      "text/plain": [
       "<Figure size 576x288 with 1 Axes>"
      ]
     },
     "metadata": {},
     "output_type": "display_data"
    }
   ],
   "source": [
    "report = get_best_roc_threshold(model, Y)"
   ]
  },
  {
   "cell_type": "markdown",
   "metadata": {},
   "source": [
    "La soglia che presenta il miglior trade-off fra *TPR* ed *FPR* sembra essere 0.04! Analizziamo i risultati di un *LDA* basato su questa threshold di classificazione:"
   ]
  },
  {
   "cell_type": "code",
   "execution_count": 24,
   "metadata": {},
   "outputs": [],
   "source": [
    "threshold = 0.04\n",
    "\n",
    "# Prendo la seconda colonna che è la probabilità della classe positiva\n",
    "Y_prob = model.predict_proba(X)[:, 1]\n",
    "\n",
    "Y_pred = np.where(Y_prob >= threshold, 1, 0)"
   ]
  },
  {
   "cell_type": "code",
   "execution_count": 25,
   "metadata": {},
   "outputs": [
    {
     "data": {
      "text/html": [
       "<div>\n",
       "<style scoped>\n",
       "    .dataframe tbody tr th:only-of-type {\n",
       "        vertical-align: middle;\n",
       "    }\n",
       "\n",
       "    .dataframe tbody tr th {\n",
       "        vertical-align: top;\n",
       "    }\n",
       "\n",
       "    .dataframe thead tr th {\n",
       "        text-align: left;\n",
       "    }\n",
       "</style>\n",
       "<table border=\"1\" class=\"dataframe\">\n",
       "  <thead>\n",
       "    <tr>\n",
       "      <th></th>\n",
       "      <th></th>\n",
       "      <th colspan=\"3\" halign=\"left\">True</th>\n",
       "    </tr>\n",
       "    <tr>\n",
       "      <th></th>\n",
       "      <th></th>\n",
       "      <th>0</th>\n",
       "      <th>1</th>\n",
       "      <th>Total</th>\n",
       "    </tr>\n",
       "  </thead>\n",
       "  <tbody>\n",
       "    <tr>\n",
       "      <th rowspan=\"3\" valign=\"top\">Predicted</th>\n",
       "      <th>0</th>\n",
       "      <td>8320</td>\n",
       "      <td>33</td>\n",
       "      <td>8353</td>\n",
       "    </tr>\n",
       "    <tr>\n",
       "      <th>1</th>\n",
       "      <td>1347</td>\n",
       "      <td>300</td>\n",
       "      <td>1647</td>\n",
       "    </tr>\n",
       "    <tr>\n",
       "      <th>Total</th>\n",
       "      <td>9667</td>\n",
       "      <td>333</td>\n",
       "      <td>10000</td>\n",
       "    </tr>\n",
       "  </tbody>\n",
       "</table>\n",
       "</div>"
      ],
      "text/plain": [
       "                 True            \n",
       "                    0    1  Total\n",
       "Predicted 0      8320   33   8353\n",
       "          1      1347  300   1647\n",
       "          Total  9667  333  10000"
      ]
     },
     "execution_count": 25,
     "metadata": {},
     "output_type": "execute_result"
    }
   ],
   "source": [
    "pretty_cm(y_true = Y, y_pred = Y_pred, classes = model.classes_)"
   ]
  },
  {
   "cell_type": "code",
   "execution_count": 26,
   "metadata": {},
   "outputs": [
    {
     "data": {
      "text/plain": [
       "(0.9009009009009009, 0.860659977242164)"
      ]
     },
     "execution_count": 26,
     "metadata": {},
     "output_type": "execute_result"
    }
   ],
   "source": [
    "specificity = 1 - (1347/9667)\n",
    "\n",
    "recall_score(y_true = Y, y_pred = Y_pred), specificity"
   ]
  },
  {
   "cell_type": "code",
   "execution_count": 27,
   "metadata": {},
   "outputs": [
    {
     "data": {
      "text/plain": [
       "0.138"
      ]
     },
     "execution_count": 27,
     "metadata": {},
     "output_type": "execute_result"
    }
   ],
   "source": [
    "zero_one_loss(y_true = Y, y_pred = Y_pred)"
   ]
  },
  {
   "cell_type": "markdown",
   "metadata": {},
   "source": [
    "Abbiamo anche a disposizione l'*AUC Score*:"
   ]
  },
  {
   "cell_type": "code",
   "execution_count": 28,
   "metadata": {},
   "outputs": [
    {
     "data": {
      "text/plain": [
       "0.9495202246831501"
      ]
     },
     "execution_count": 28,
     "metadata": {},
     "output_type": "execute_result"
    }
   ],
   "source": [
    "report[1][\"auc\"]"
   ]
  },
  {
   "cell_type": "markdown",
   "metadata": {},
   "source": [
    "---"
   ]
  },
  {
   "cell_type": "markdown",
   "metadata": {},
   "source": [
    "<a id=\"qda\"></a>\n",
    "## Quadratic Discriminant Analysis"
   ]
  },
  {
   "cell_type": "markdown",
   "metadata": {},
   "source": [
    "Seguendo gli stessi principi della *LDA*, la *QDA* assume che la distribuzione delle osservazioni per ogni classe abbia andamento normale, ma a differenza della *LDA* permette a ciascuna classe di avere una propria matrice di covarianza per i predittori.\n",
    "\n",
    "Questo vuol dire che l'insieme dei predittori seguirà una *multivariate gaussian* distinta per ciascuna classe, con un proprio vettore di medie e delle intra-correlazioni tipiche della classe.\n",
    "\n",
    "Di seguito riportiamo la modifica che subisce la formulazione della **discriminant function** dopo aver eliminato la matrice di covarianza unificata $\\Sigma$ e aver abilitato le singole matrici $\\Sigma_k$."
   ]
  },
  {
   "cell_type": "markdown",
   "metadata": {},
   "source": [
    "$$\\large \\delta_k(x)=-\\frac{1}{2}(x-\\mu_k)^T\\Sigma_k^{-1}(x-\\mu_k)\n",
    "-\\frac{1}{2}log|\\Sigma_k|+log\\pi_k$$"
   ]
  },
  {
   "cell_type": "markdown",
   "metadata": {},
   "source": [
    "La *QDA*, quindi, calcola la *discriminant function* per ciascuna delle $K$ classi e assegna alla generica osservazione di test la classe che presenta il valore più grande per $\\delta_k(x)$.\n",
    "\n",
    "Notiamo, inoltre, che questa nuova *discriminant function* risulta essere una funzione **quadratica** dei predittori $x$, ed è infatti da qui che il *learning method* prende il suo nome."
   ]
  },
  {
   "cell_type": "markdown",
   "metadata": {},
   "source": [
    "Come possiamo scegliere fra *LDA* e *QDA*? La risposta va cercata, come spesso accade, nel *bias-variance trade-off*.\n",
    "\n",
    "In presenza di $p$ predittori, stimare una matrice di covarianza vuol dire stimare $p(p+1)/2$ parametri. Se la *QDA* costruisce una matrice di covarianza per ciascuna classe, stiamo parlando di $Kp(p+1)/2$ parametri. Di conseguenza, la *LDA* è un classificatore molto meno flessibile della *QDA*, e presenta una varianza molto più bassa. C'è però un *trade-off*: se l'assunzione di variabilità condivisa delle classi, formulata dalla *LDA*, è particolarmente sbagliata, quest'ultima soffre di un altissimo valore di bias.\n",
    "\n",
    "In parole povere, la *LDA* tende ad essere migliore della *QDA* se ci sono poche osservazioni, e quindi la riduzione della varianza è fondamentale. Al contrario, la *QDA* è preferibile quando il *training set* è molto ampio, perciò c'è meno pericolo di incorrere in *high variance* e, soprattutto, seguire un'assunzione che forza le variabilità delle classi ad essere uguale diventa impraticabile."
   ]
  },
  {
   "cell_type": "markdown",
   "metadata": {},
   "source": [
    "Nel plot a sinistra troviamo due classi i cui predittori presentano una correlazione (comune ad entrambe le classi) pari a 0.7. Il *bayes decision boundary* è lineare, ed è accuratamente approssimato dal *decision boundary* costruito dalla *LDA*. Il *decision boundary* costruito dalla *QDA*, invece, è inferiore, perché soffre di maggiore variabilità senza godere di una corrispondente decrescita di bias."
   ]
  },
  {
   "cell_type": "markdown",
   "metadata": {},
   "source": [
    "<img src=\"imgs/qda.PNG\"></img>"
   ]
  },
  {
   "cell_type": "markdown",
   "metadata": {},
   "source": [
    "Nel plot a destra, invece, abbiamo una classe arancione i cui predittori sono correlati a 0.7 e una classe blu i cui predittori sono correlati a -0.7. Il *bayes decision boundary* diventa quadratico, ed è la *QDA* a costruire il *decision boundary* che lo approssima meglio!"
   ]
  },
  {
   "cell_type": "markdown",
   "metadata": {},
   "source": [
    "---"
   ]
  },
  {
   "cell_type": "markdown",
   "metadata": {},
   "source": [
    "<a id=\"comparison\"></a>\n",
    "# A Comparison of Classification Methods"
   ]
  },
  {
   "cell_type": "markdown",
   "metadata": {},
   "source": [
    "Sia la regressione logistica che la *LDA* producono *decision boundary* lineari. L'unica differenza fra i due approcci è che i coefficienti della prima sono stimati attraverso la *MLE*, mentre i coefficienti della seconda sono calcolati attraverso la media e varianza di un *sample* normale.\n",
    "\n",
    "La *LDA* assume che le osservazioni siano estratte da una distirbuzione gaussiana con matrice di covarianza comune per tutte le classi, pertanto può evidenziare dei miglioramenti nei confronti della regressione logistica se tale assunzione risulta rispettata. Al contrario, è la regressione logistica a prevalere se le assunzioni normali non sono soddisfatte."
   ]
  },
  {
   "cell_type": "markdown",
   "metadata": {},
   "source": [
    "Il *KNN classifier*, invece, è un approccio totalmente non-parametrico: ci aspettiamo, quindi, che se il *vero decision boundary* è non lineare, esso dovrebbe comportarsi molto meglio rispetto alla *LDA* e alla regressione logistica. D'altro canto, però, il *KNN* non fornisce alcuna informazione sull'importanza dei predittori, che invece sono presenti nella tabella dei coefficienti della regressione logistica.\n",
    "\n",
    "La *QDA*, invece, rappresenta una sorta di compromesso fra il *KNN* e i due approcci lineari, essendo in grado di costruire dei *decision boundary* quadratici. Pur non essendo così flessibile come il *KNN*, la *QDA* può risultare più accurata in presenza di un numero limitato di osservazioni di *training*, sfruttando a proprio vantaggio le assunzioni parametriche normali."
   ]
  },
  {
   "cell_type": "markdown",
   "metadata": {},
   "source": [
    "In realtà nessun metodo domina sull'altro in ogni contesto possibile. Se il *decision boundary* reale è lineare, allora la *LDA* e la regressione logistica tendono a classificare molto bene; quando il *decision boundary* è *moderatamente* non-lineare, la *QDA* può fornire i risultati migliori; quando, infine, il *decision boundary* è estremamente complicato, è il *KNN* il *learning method* che fornisce i risultati migliori."
   ]
  },
  {
   "cell_type": "markdown",
   "metadata": {},
   "source": [
    "Ricordiamo, infine, che in maniera simile a quanto visto per i *learning method* di regressione, è possibile facilitare la modellazione di relazioni non-lineari fra *predictors* e *response* applicando delle trasformazioni ai predittori.\n",
    "\n",
    "Ad esempio, potremmo creare una versione più flessibile della regressione logistica inserendo $X^2,X^3,X^4$ come nuovi predittori fittizi. Potremmo fare lo stesso con la *LDA*, e il risultato sarebbe una sorta di compromesso intermedio fra *LDA* e *QDA*."
   ]
  },
  {
   "cell_type": "markdown",
   "metadata": {},
   "source": [
    "---"
   ]
  },
  {
   "cell_type": "markdown",
   "metadata": {},
   "source": [
    "<a id=\"lab\"></a>\n",
    "# Lab"
   ]
  },
  {
   "cell_type": "markdown",
   "metadata": {},
   "source": [
    "Carichiamo il dataset *Stock Market*:"
   ]
  },
  {
   "cell_type": "code",
   "execution_count": 29,
   "metadata": {},
   "outputs": [
    {
     "name": "stdout",
     "output_type": "stream",
     "text": [
      "1250\n"
     ]
    },
    {
     "data": {
      "text/html": [
       "<div>\n",
       "<style scoped>\n",
       "    .dataframe tbody tr th:only-of-type {\n",
       "        vertical-align: middle;\n",
       "    }\n",
       "\n",
       "    .dataframe tbody tr th {\n",
       "        vertical-align: top;\n",
       "    }\n",
       "\n",
       "    .dataframe thead th {\n",
       "        text-align: right;\n",
       "    }\n",
       "</style>\n",
       "<table border=\"1\" class=\"dataframe\">\n",
       "  <thead>\n",
       "    <tr style=\"text-align: right;\">\n",
       "      <th></th>\n",
       "      <th>Year</th>\n",
       "      <th>Lag1</th>\n",
       "      <th>Lag2</th>\n",
       "      <th>Lag3</th>\n",
       "      <th>Lag4</th>\n",
       "      <th>Lag5</th>\n",
       "      <th>Volume</th>\n",
       "      <th>Today</th>\n",
       "      <th>Direction</th>\n",
       "    </tr>\n",
       "  </thead>\n",
       "  <tbody>\n",
       "    <tr>\n",
       "      <th>0</th>\n",
       "      <td>2001</td>\n",
       "      <td>0.381</td>\n",
       "      <td>-0.192</td>\n",
       "      <td>-2.624</td>\n",
       "      <td>-1.055</td>\n",
       "      <td>5.010</td>\n",
       "      <td>1.1913</td>\n",
       "      <td>0.959</td>\n",
       "      <td>Up</td>\n",
       "    </tr>\n",
       "    <tr>\n",
       "      <th>1</th>\n",
       "      <td>2001</td>\n",
       "      <td>0.959</td>\n",
       "      <td>0.381</td>\n",
       "      <td>-0.192</td>\n",
       "      <td>-2.624</td>\n",
       "      <td>-1.055</td>\n",
       "      <td>1.2965</td>\n",
       "      <td>1.032</td>\n",
       "      <td>Up</td>\n",
       "    </tr>\n",
       "    <tr>\n",
       "      <th>2</th>\n",
       "      <td>2001</td>\n",
       "      <td>1.032</td>\n",
       "      <td>0.959</td>\n",
       "      <td>0.381</td>\n",
       "      <td>-0.192</td>\n",
       "      <td>-2.624</td>\n",
       "      <td>1.4112</td>\n",
       "      <td>-0.623</td>\n",
       "      <td>Down</td>\n",
       "    </tr>\n",
       "    <tr>\n",
       "      <th>3</th>\n",
       "      <td>2001</td>\n",
       "      <td>-0.623</td>\n",
       "      <td>1.032</td>\n",
       "      <td>0.959</td>\n",
       "      <td>0.381</td>\n",
       "      <td>-0.192</td>\n",
       "      <td>1.2760</td>\n",
       "      <td>0.614</td>\n",
       "      <td>Up</td>\n",
       "    </tr>\n",
       "    <tr>\n",
       "      <th>4</th>\n",
       "      <td>2001</td>\n",
       "      <td>0.614</td>\n",
       "      <td>-0.623</td>\n",
       "      <td>1.032</td>\n",
       "      <td>0.959</td>\n",
       "      <td>0.381</td>\n",
       "      <td>1.2057</td>\n",
       "      <td>0.213</td>\n",
       "      <td>Up</td>\n",
       "    </tr>\n",
       "  </tbody>\n",
       "</table>\n",
       "</div>"
      ],
      "text/plain": [
       "   Year   Lag1   Lag2   Lag3   Lag4   Lag5  Volume  Today Direction\n",
       "0  2001  0.381 -0.192 -2.624 -1.055  5.010  1.1913  0.959        Up\n",
       "1  2001  0.959  0.381 -0.192 -2.624 -1.055  1.2965  1.032        Up\n",
       "2  2001  1.032  0.959  0.381 -0.192 -2.624  1.4112 -0.623      Down\n",
       "3  2001 -0.623  1.032  0.959  0.381 -0.192  1.2760  0.614        Up\n",
       "4  2001  0.614 -0.623  1.032  0.959  0.381  1.2057  0.213        Up"
      ]
     },
     "execution_count": 29,
     "metadata": {},
     "output_type": "execute_result"
    }
   ],
   "source": [
    "sma = pd.read_csv(\"data/smarket.csv\")\n",
    "sma.drop([\"Unnamed: 0\"], axis = 1, inplace = True)\n",
    "print(len(sma))\n",
    "sma.head()"
   ]
  },
  {
   "cell_type": "markdown",
   "metadata": {},
   "source": [
    "Ogni riga coincide con un diverso giorno dell'anno, e l'intera *time window* copre dal 2001 al 2005.\n",
    "\n",
    "Per ogni giorno, si è tenuto traccia dei seguenti dati: la *percentage return* nella data in questione, la *percentage return* dei cinque giorni precedenti, il numero di azioni *tradate* il giorno precedente (in miliardi) e la direzione del mercato in tale giornata (*Up* o *Down*)."
   ]
  },
  {
   "cell_type": "markdown",
   "metadata": {},
   "source": [
    "Analizziamo la correlazione fra le variabili:"
   ]
  },
  {
   "cell_type": "code",
   "execution_count": 30,
   "metadata": {},
   "outputs": [
    {
     "data": {
      "text/html": [
       "<div>\n",
       "<style scoped>\n",
       "    .dataframe tbody tr th:only-of-type {\n",
       "        vertical-align: middle;\n",
       "    }\n",
       "\n",
       "    .dataframe tbody tr th {\n",
       "        vertical-align: top;\n",
       "    }\n",
       "\n",
       "    .dataframe thead th {\n",
       "        text-align: right;\n",
       "    }\n",
       "</style>\n",
       "<table border=\"1\" class=\"dataframe\">\n",
       "  <thead>\n",
       "    <tr style=\"text-align: right;\">\n",
       "      <th></th>\n",
       "      <th>Year</th>\n",
       "      <th>Lag1</th>\n",
       "      <th>Lag2</th>\n",
       "      <th>Lag3</th>\n",
       "      <th>Lag4</th>\n",
       "      <th>Lag5</th>\n",
       "      <th>Volume</th>\n",
       "      <th>Today</th>\n",
       "    </tr>\n",
       "  </thead>\n",
       "  <tbody>\n",
       "    <tr>\n",
       "      <th>Year</th>\n",
       "      <td>1.000000</td>\n",
       "      <td>0.029700</td>\n",
       "      <td>0.030596</td>\n",
       "      <td>0.033195</td>\n",
       "      <td>0.035689</td>\n",
       "      <td>0.029788</td>\n",
       "      <td>0.539006</td>\n",
       "      <td>0.030095</td>\n",
       "    </tr>\n",
       "    <tr>\n",
       "      <th>Lag1</th>\n",
       "      <td>0.029700</td>\n",
       "      <td>1.000000</td>\n",
       "      <td>-0.026294</td>\n",
       "      <td>-0.010803</td>\n",
       "      <td>-0.002986</td>\n",
       "      <td>-0.005675</td>\n",
       "      <td>0.040910</td>\n",
       "      <td>-0.026155</td>\n",
       "    </tr>\n",
       "    <tr>\n",
       "      <th>Lag2</th>\n",
       "      <td>0.030596</td>\n",
       "      <td>-0.026294</td>\n",
       "      <td>1.000000</td>\n",
       "      <td>-0.025897</td>\n",
       "      <td>-0.010854</td>\n",
       "      <td>-0.003558</td>\n",
       "      <td>-0.043383</td>\n",
       "      <td>-0.010250</td>\n",
       "    </tr>\n",
       "    <tr>\n",
       "      <th>Lag3</th>\n",
       "      <td>0.033195</td>\n",
       "      <td>-0.010803</td>\n",
       "      <td>-0.025897</td>\n",
       "      <td>1.000000</td>\n",
       "      <td>-0.024051</td>\n",
       "      <td>-0.018808</td>\n",
       "      <td>-0.041824</td>\n",
       "      <td>-0.002448</td>\n",
       "    </tr>\n",
       "    <tr>\n",
       "      <th>Lag4</th>\n",
       "      <td>0.035689</td>\n",
       "      <td>-0.002986</td>\n",
       "      <td>-0.010854</td>\n",
       "      <td>-0.024051</td>\n",
       "      <td>1.000000</td>\n",
       "      <td>-0.027084</td>\n",
       "      <td>-0.048414</td>\n",
       "      <td>-0.006900</td>\n",
       "    </tr>\n",
       "    <tr>\n",
       "      <th>Lag5</th>\n",
       "      <td>0.029788</td>\n",
       "      <td>-0.005675</td>\n",
       "      <td>-0.003558</td>\n",
       "      <td>-0.018808</td>\n",
       "      <td>-0.027084</td>\n",
       "      <td>1.000000</td>\n",
       "      <td>-0.022002</td>\n",
       "      <td>-0.034860</td>\n",
       "    </tr>\n",
       "    <tr>\n",
       "      <th>Volume</th>\n",
       "      <td>0.539006</td>\n",
       "      <td>0.040910</td>\n",
       "      <td>-0.043383</td>\n",
       "      <td>-0.041824</td>\n",
       "      <td>-0.048414</td>\n",
       "      <td>-0.022002</td>\n",
       "      <td>1.000000</td>\n",
       "      <td>0.014592</td>\n",
       "    </tr>\n",
       "    <tr>\n",
       "      <th>Today</th>\n",
       "      <td>0.030095</td>\n",
       "      <td>-0.026155</td>\n",
       "      <td>-0.010250</td>\n",
       "      <td>-0.002448</td>\n",
       "      <td>-0.006900</td>\n",
       "      <td>-0.034860</td>\n",
       "      <td>0.014592</td>\n",
       "      <td>1.000000</td>\n",
       "    </tr>\n",
       "  </tbody>\n",
       "</table>\n",
       "</div>"
      ],
      "text/plain": [
       "            Year      Lag1      Lag2      Lag3      Lag4      Lag5    Volume  \\\n",
       "Year    1.000000  0.029700  0.030596  0.033195  0.035689  0.029788  0.539006   \n",
       "Lag1    0.029700  1.000000 -0.026294 -0.010803 -0.002986 -0.005675  0.040910   \n",
       "Lag2    0.030596 -0.026294  1.000000 -0.025897 -0.010854 -0.003558 -0.043383   \n",
       "Lag3    0.033195 -0.010803 -0.025897  1.000000 -0.024051 -0.018808 -0.041824   \n",
       "Lag4    0.035689 -0.002986 -0.010854 -0.024051  1.000000 -0.027084 -0.048414   \n",
       "Lag5    0.029788 -0.005675 -0.003558 -0.018808 -0.027084  1.000000 -0.022002   \n",
       "Volume  0.539006  0.040910 -0.043383 -0.041824 -0.048414 -0.022002  1.000000   \n",
       "Today   0.030095 -0.026155 -0.010250 -0.002448 -0.006900 -0.034860  0.014592   \n",
       "\n",
       "           Today  \n",
       "Year    0.030095  \n",
       "Lag1   -0.026155  \n",
       "Lag2   -0.010250  \n",
       "Lag3   -0.002448  \n",
       "Lag4   -0.006900  \n",
       "Lag5   -0.034860  \n",
       "Volume  0.014592  \n",
       "Today   1.000000  "
      ]
     },
     "execution_count": 30,
     "metadata": {},
     "output_type": "execute_result"
    }
   ],
   "source": [
    "sma.corr()"
   ]
  },
  {
   "cell_type": "markdown",
   "metadata": {},
   "source": [
    "Sembra esserci bassa correlazione fra *today* e i *lag*, come a voler dire che i ritorni passati non sono correlati ai ritorni del giorno attuale.\n",
    "\n",
    "L'unica correlazione degna di nota è fra *year* e *volume*: vuol dire che il numero di azioni tradate è aumentato dal 2001 al 2005."
   ]
  },
  {
   "cell_type": "markdown",
   "metadata": {},
   "source": [
    "<br>"
   ]
  },
  {
   "cell_type": "markdown",
   "metadata": {},
   "source": [
    "### Logistic Regression"
   ]
  },
  {
   "cell_type": "code",
   "execution_count": 31,
   "metadata": {},
   "outputs": [
    {
     "name": "stdout",
     "output_type": "stream",
     "text": [
      "Optimization terminated successfully.\n",
      "         Current function value: 0.691034\n",
      "         Iterations 4\n"
     ]
    },
    {
     "data": {
      "text/html": [
       "<table class=\"simpletable\">\n",
       "<tr>\n",
       "     <td></td>       <th>coef</th>     <th>std err</th>      <th>z</th>      <th>P>|z|</th>  <th>[0.025</th>    <th>0.975]</th>  \n",
       "</tr>\n",
       "<tr>\n",
       "  <th>const</th>  <td>   -0.1260</td> <td>    0.241</td> <td>   -0.523</td> <td> 0.601</td> <td>   -0.598</td> <td>    0.346</td>\n",
       "</tr>\n",
       "<tr>\n",
       "  <th>Lag1</th>   <td>   -0.0731</td> <td>    0.050</td> <td>   -1.457</td> <td> 0.145</td> <td>   -0.171</td> <td>    0.025</td>\n",
       "</tr>\n",
       "<tr>\n",
       "  <th>Lag2</th>   <td>   -0.0423</td> <td>    0.050</td> <td>   -0.845</td> <td> 0.398</td> <td>   -0.140</td> <td>    0.056</td>\n",
       "</tr>\n",
       "<tr>\n",
       "  <th>Lag3</th>   <td>    0.0111</td> <td>    0.050</td> <td>    0.222</td> <td> 0.824</td> <td>   -0.087</td> <td>    0.109</td>\n",
       "</tr>\n",
       "<tr>\n",
       "  <th>Lag4</th>   <td>    0.0094</td> <td>    0.050</td> <td>    0.187</td> <td> 0.851</td> <td>   -0.089</td> <td>    0.107</td>\n",
       "</tr>\n",
       "<tr>\n",
       "  <th>Lag5</th>   <td>    0.0103</td> <td>    0.050</td> <td>    0.208</td> <td> 0.835</td> <td>   -0.087</td> <td>    0.107</td>\n",
       "</tr>\n",
       "<tr>\n",
       "  <th>Volume</th> <td>    0.1354</td> <td>    0.158</td> <td>    0.855</td> <td> 0.392</td> <td>   -0.175</td> <td>    0.446</td>\n",
       "</tr>\n",
       "</table>"
      ],
      "text/plain": [
       "<class 'statsmodels.iolib.table.SimpleTable'>"
      ]
     },
     "execution_count": 31,
     "metadata": {},
     "output_type": "execute_result"
    }
   ],
   "source": [
    "df = sma.copy()\n",
    "df[\"Direction\"].replace({\"Up\": 1, \"Down\": 0}, inplace = True)\n",
    "\n",
    "Y = df.Direction\n",
    "X = df[[\"Lag1\",\"Lag2\",\"Lag3\",\"Lag4\",\"Lag5\",\"Volume\"]]\n",
    "X = sm.add_constant(X)\n",
    "\n",
    "model = sm.Logit(endog = Y, exog = X).fit()\n",
    "\n",
    "model.summary().tables[1]"
   ]
  },
  {
   "cell_type": "markdown",
   "metadata": {},
   "source": [
    "Il p-value più piccolo è associato a Lag1: il suo coefficiente negativo suggerisce che se il mercato ha avuto un ritorno positivo ieri, è meno probabile che vada su oggi. In ogni caso, il p-value è troppo grande e non c'è evidenza di una chiara associazione fra direction e lag1."
   ]
  },
  {
   "cell_type": "markdown",
   "metadata": {},
   "source": [
    "Costruiamo la **confusion matrix**:"
   ]
  },
  {
   "cell_type": "code",
   "execution_count": 32,
   "metadata": {},
   "outputs": [],
   "source": [
    "Y_prob = model.predict(X)\n",
    "Y_pred = np.where(Y_prob > 0.5, 1, 0)"
   ]
  },
  {
   "cell_type": "markdown",
   "metadata": {},
   "source": [
    "Abbiamo 652 classificazioni corrette su 1250:"
   ]
  },
  {
   "cell_type": "code",
   "execution_count": 33,
   "metadata": {},
   "outputs": [
    {
     "data": {
      "text/html": [
       "<div>\n",
       "<style scoped>\n",
       "    .dataframe tbody tr th:only-of-type {\n",
       "        vertical-align: middle;\n",
       "    }\n",
       "\n",
       "    .dataframe tbody tr th {\n",
       "        vertical-align: top;\n",
       "    }\n",
       "\n",
       "    .dataframe thead tr th {\n",
       "        text-align: left;\n",
       "    }\n",
       "</style>\n",
       "<table border=\"1\" class=\"dataframe\">\n",
       "  <thead>\n",
       "    <tr>\n",
       "      <th></th>\n",
       "      <th></th>\n",
       "      <th colspan=\"3\" halign=\"left\">True</th>\n",
       "    </tr>\n",
       "    <tr>\n",
       "      <th></th>\n",
       "      <th></th>\n",
       "      <th>0</th>\n",
       "      <th>1</th>\n",
       "      <th>Total</th>\n",
       "    </tr>\n",
       "  </thead>\n",
       "  <tbody>\n",
       "    <tr>\n",
       "      <th rowspan=\"3\" valign=\"top\">Predicted</th>\n",
       "      <th>0</th>\n",
       "      <td>145</td>\n",
       "      <td>141</td>\n",
       "      <td>286</td>\n",
       "    </tr>\n",
       "    <tr>\n",
       "      <th>1</th>\n",
       "      <td>457</td>\n",
       "      <td>507</td>\n",
       "      <td>964</td>\n",
       "    </tr>\n",
       "    <tr>\n",
       "      <th>Total</th>\n",
       "      <td>602</td>\n",
       "      <td>648</td>\n",
       "      <td>1250</td>\n",
       "    </tr>\n",
       "  </tbody>\n",
       "</table>\n",
       "</div>"
      ],
      "text/plain": [
       "                True           \n",
       "                   0    1 Total\n",
       "Predicted 0      145  141   286\n",
       "          1      457  507   964\n",
       "          Total  602  648  1250"
      ]
     },
     "execution_count": 33,
     "metadata": {},
     "output_type": "execute_result"
    }
   ],
   "source": [
    "pretty_cm(y_true = Y, y_pred = Y_pred, classes = [0, 1])"
   ]
  },
  {
   "cell_type": "markdown",
   "metadata": {},
   "source": [
    "L'error rate è molto basso, siamo sotto al 50%:"
   ]
  },
  {
   "cell_type": "code",
   "execution_count": 34,
   "metadata": {},
   "outputs": [
    {
     "data": {
      "text/plain": [
       "0.47840000000000005"
      ]
     },
     "execution_count": 34,
     "metadata": {},
     "output_type": "execute_result"
    }
   ],
   "source": [
    "zero_one_loss(y_true = Y, y_pred = Y_pred)"
   ]
  },
  {
   "cell_type": "markdown",
   "metadata": {},
   "source": [
    "Costruiamo un training set ed un test set isolando i dati sul 2005:"
   ]
  },
  {
   "cell_type": "code",
   "execution_count": 35,
   "metadata": {},
   "outputs": [],
   "source": [
    "train = df[df.Year != 2005].copy()\n",
    "test = df[df.Year == 2005].copy()"
   ]
  },
  {
   "cell_type": "code",
   "execution_count": 36,
   "metadata": {},
   "outputs": [
    {
     "name": "stdout",
     "output_type": "stream",
     "text": [
      "Optimization terminated successfully.\n",
      "         Current function value: 0.691936\n",
      "         Iterations 4\n"
     ]
    },
    {
     "data": {
      "text/html": [
       "<table class=\"simpletable\">\n",
       "<tr>\n",
       "     <td></td>       <th>coef</th>     <th>std err</th>      <th>z</th>      <th>P>|z|</th>  <th>[0.025</th>    <th>0.975]</th>  \n",
       "</tr>\n",
       "<tr>\n",
       "  <th>const</th>  <td>    0.1912</td> <td>    0.334</td> <td>    0.573</td> <td> 0.567</td> <td>   -0.463</td> <td>    0.845</td>\n",
       "</tr>\n",
       "<tr>\n",
       "  <th>Lag1</th>   <td>   -0.0542</td> <td>    0.052</td> <td>   -1.046</td> <td> 0.295</td> <td>   -0.156</td> <td>    0.047</td>\n",
       "</tr>\n",
       "<tr>\n",
       "  <th>Lag2</th>   <td>   -0.0458</td> <td>    0.052</td> <td>   -0.884</td> <td> 0.377</td> <td>   -0.147</td> <td>    0.056</td>\n",
       "</tr>\n",
       "<tr>\n",
       "  <th>Lag3</th>   <td>    0.0072</td> <td>    0.052</td> <td>    0.139</td> <td> 0.889</td> <td>   -0.094</td> <td>    0.108</td>\n",
       "</tr>\n",
       "<tr>\n",
       "  <th>Lag4</th>   <td>    0.0064</td> <td>    0.052</td> <td>    0.125</td> <td> 0.901</td> <td>   -0.095</td> <td>    0.108</td>\n",
       "</tr>\n",
       "<tr>\n",
       "  <th>Lag5</th>   <td>   -0.0042</td> <td>    0.051</td> <td>   -0.083</td> <td> 0.934</td> <td>   -0.104</td> <td>    0.096</td>\n",
       "</tr>\n",
       "<tr>\n",
       "  <th>Volume</th> <td>   -0.1163</td> <td>    0.240</td> <td>   -0.485</td> <td> 0.628</td> <td>   -0.586</td> <td>    0.353</td>\n",
       "</tr>\n",
       "</table>"
      ],
      "text/plain": [
       "<class 'statsmodels.iolib.table.SimpleTable'>"
      ]
     },
     "execution_count": 36,
     "metadata": {},
     "output_type": "execute_result"
    }
   ],
   "source": [
    "Y_train = train.Direction\n",
    "X_train = train[[\"Lag1\",\"Lag2\",\"Lag3\",\"Lag4\",\"Lag5\",\"Volume\"]]\n",
    "X_train = sm.add_constant(X_train)\n",
    "\n",
    "model = sm.Logit(endog = Y_train, exog = X_train).fit()\n",
    "\n",
    "model.summary().tables[1]"
   ]
  },
  {
   "cell_type": "markdown",
   "metadata": {},
   "source": [
    "Adesso il modello performa peggio del random guessing sui dati di test!"
   ]
  },
  {
   "cell_type": "code",
   "execution_count": 37,
   "metadata": {},
   "outputs": [
    {
     "data": {
      "text/plain": [
       "0.5198412698412698"
      ]
     },
     "execution_count": 37,
     "metadata": {},
     "output_type": "execute_result"
    }
   ],
   "source": [
    "Y_test = test.Direction\n",
    "X_test = test[[\"Lag1\",\"Lag2\",\"Lag3\",\"Lag4\",\"Lag5\",\"Volume\"]]\n",
    "X_test = sm.add_constant(X_test)\n",
    "\n",
    "Y_prob = model.predict(X_test)\n",
    "Y_pred = np.where(Y_prob > 0.5, 1, 0)\n",
    "\n",
    "zero_one_loss(y_true = Y_test, y_pred = Y_pred)"
   ]
  },
  {
   "cell_type": "markdown",
   "metadata": {},
   "source": [
    "Probabilmente rimuovendo le variabili non utili a predire direction potremmo ottenere un modello più accurato. In fondo usare predittori che non hanno relazione con la response non fa altro che deteriorare il test error rate, dato che predittori del genere non portano altro che un aumento di varianza che non trova un corrispondente decremento di bias.\n",
    "\n",
    "Proviamo usando solo lag1 e lag2:"
   ]
  },
  {
   "cell_type": "code",
   "execution_count": 38,
   "metadata": {},
   "outputs": [
    {
     "name": "stdout",
     "output_type": "stream",
     "text": [
      "Optimization terminated successfully.\n",
      "         Current function value: 0.692085\n",
      "         Iterations 3\n"
     ]
    },
    {
     "data": {
      "text/html": [
       "<table class=\"simpletable\">\n",
       "<tr>\n",
       "    <td></td>       <th>coef</th>     <th>std err</th>      <th>z</th>      <th>P>|z|</th>  <th>[0.025</th>    <th>0.975]</th>  \n",
       "</tr>\n",
       "<tr>\n",
       "  <th>const</th> <td>    0.0322</td> <td>    0.063</td> <td>    0.508</td> <td> 0.611</td> <td>   -0.092</td> <td>    0.156</td>\n",
       "</tr>\n",
       "<tr>\n",
       "  <th>Lag1</th>  <td>   -0.0556</td> <td>    0.052</td> <td>   -1.076</td> <td> 0.282</td> <td>   -0.157</td> <td>    0.046</td>\n",
       "</tr>\n",
       "<tr>\n",
       "  <th>Lag2</th>  <td>   -0.0445</td> <td>    0.052</td> <td>   -0.861</td> <td> 0.389</td> <td>   -0.146</td> <td>    0.057</td>\n",
       "</tr>\n",
       "</table>"
      ],
      "text/plain": [
       "<class 'statsmodels.iolib.table.SimpleTable'>"
      ]
     },
     "execution_count": 38,
     "metadata": {},
     "output_type": "execute_result"
    }
   ],
   "source": [
    "Y_train = train.Direction\n",
    "X_train = train[[\"Lag1\",\"Lag2\"]]\n",
    "X_train = sm.add_constant(X_train)\n",
    "\n",
    "model = sm.Logit(endog = Y_train, exog = X_train).fit()\n",
    "\n",
    "model.summary().tables[1]"
   ]
  },
  {
   "cell_type": "markdown",
   "metadata": {},
   "source": [
    "Il modello migliora, azzecca il 56% delle previsioni, ma non è un granchè."
   ]
  },
  {
   "cell_type": "code",
   "execution_count": 39,
   "metadata": {},
   "outputs": [
    {
     "data": {
      "text/plain": [
       "0.44047619047619047"
      ]
     },
     "execution_count": 39,
     "metadata": {},
     "output_type": "execute_result"
    }
   ],
   "source": [
    "Y_test = test.Direction\n",
    "X_test = test[[\"Lag1\",\"Lag2\"]]\n",
    "X_test = sm.add_constant(X_test)\n",
    "\n",
    "Y_prob = model.predict(X_test)\n",
    "Y_pred = np.where(Y_prob > 0.5, 1, 0)\n",
    "\n",
    "zero_one_loss(y_true = Y_test, y_pred = Y_pred)"
   ]
  },
  {
   "cell_type": "markdown",
   "metadata": {},
   "source": [
    "<br>"
   ]
  },
  {
   "cell_type": "markdown",
   "metadata": {},
   "source": [
    "### LDA & QDA"
   ]
  },
  {
   "cell_type": "markdown",
   "metadata": {},
   "source": [
    "Proviamo con una LDA usando solo Lag1 e Lag2:"
   ]
  },
  {
   "cell_type": "code",
   "execution_count": 40,
   "metadata": {},
   "outputs": [
    {
     "data": {
      "text/plain": [
       "0.44047619047619047"
      ]
     },
     "execution_count": 40,
     "metadata": {},
     "output_type": "execute_result"
    }
   ],
   "source": [
    "Y_train = train.Direction\n",
    "Y_test = test.Direction\n",
    "\n",
    "X_train = train[[\"Lag1\",\"Lag2\"]]\n",
    "X_test = test[[\"Lag1\",\"Lag2\"]]\n",
    "\n",
    "model = LinearDiscriminantAnalysis(solver = \"svd\")\n",
    "model.fit(X_train, Y_train)\n",
    "\n",
    "Y_pred = model.predict(X_test)\n",
    "\n",
    "zero_one_loss(Y_test, Y_pred)"
   ]
  },
  {
   "cell_type": "markdown",
   "metadata": {},
   "source": [
    "Praticamente analogo alla regressione logistica!"
   ]
  },
  {
   "cell_type": "code",
   "execution_count": 41,
   "metadata": {},
   "outputs": [
    {
     "data": {
      "image/png": "[encoded data removed]",
      "text/plain": [
       "<Figure size 576x288 with 1 Axes>"
      ]
     },
     "metadata": {},
     "output_type": "display_data"
    }
   ],
   "source": [
    "plot_2d_decbound(X1 = np.array(X_test)[:,0],\n",
    "                 X2 = np.array(X_test)[:,1],\n",
    "                 Y = Y_test,\n",
    "                 model = model)"
   ]
  },
  {
   "cell_type": "markdown",
   "metadata": {},
   "source": [
    "La QDA è corretta quasi il 60% delle volte!"
   ]
  },
  {
   "cell_type": "code",
   "execution_count": 42,
   "metadata": {},
   "outputs": [
    {
     "data": {
      "text/plain": [
       "0.4007936507936508"
      ]
     },
     "execution_count": 42,
     "metadata": {},
     "output_type": "execute_result"
    }
   ],
   "source": [
    "Y_train = train.Direction\n",
    "Y_test = test.Direction\n",
    "\n",
    "X_train = train[[\"Lag1\",\"Lag2\"]]\n",
    "X_test = test[[\"Lag1\",\"Lag2\"]]\n",
    "\n",
    "model = QuadraticDiscriminantAnalysis()\n",
    "model.fit(X_train, Y_train)\n",
    "\n",
    "Y_pred = model.predict(X_test)\n",
    "\n",
    "zero_one_loss(Y_test, Y_pred)"
   ]
  },
  {
   "cell_type": "markdown",
   "metadata": {},
   "source": [
    "<br>"
   ]
  },
  {
   "cell_type": "markdown",
   "metadata": {},
   "source": [
    "### KNN Classifier"
   ]
  },
  {
   "cell_type": "markdown",
   "metadata": {},
   "source": [
    "Proviamo con un KNN:"
   ]
  },
  {
   "cell_type": "code",
   "execution_count": 43,
   "metadata": {},
   "outputs": [],
   "source": [
    "Y_train = train.Direction\n",
    "Y_test = test.Direction\n",
    "\n",
    "X_train = train[[\"Lag1\",\"Lag2\"]]\n",
    "X_test = test[[\"Lag1\",\"Lag2\"]]\n",
    "\n",
    "test_errors = list()\n",
    "\n",
    "for k in range(1, 30):\n",
    "    model = KNeighborsClassifier(n_neighbors = k)\n",
    "    model.fit(X_train, Y_train)\n",
    "\n",
    "    Y_pred = model.predict(X_test)\n",
    "    test_errors.append(zero_one_loss(Y_test, Y_pred))"
   ]
  },
  {
   "cell_type": "code",
   "execution_count": 44,
   "metadata": {},
   "outputs": [
    {
     "data": {
      "image/png": "[encoded data removed]",
      "text/plain": [
       "<Figure size 576x288 with 1 Axes>"
      ]
     },
     "metadata": {},
     "output_type": "display_data"
    }
   ],
   "source": [
    "fig, ax = plt.subplots(figsize = (8, 4))\n",
    "ax.plot(np.arange(1, 30), test_errors)\n",
    "plt.show()"
   ]
  },
  {
   "cell_type": "markdown",
   "metadata": {},
   "source": [
    "A prescindere dal valore di K, sembra performare peggio della QDA!"
   ]
  },
  {
   "cell_type": "markdown",
   "metadata": {},
   "source": [
    "---"
   ]
  },
  {
   "cell_type": "markdown",
   "metadata": {},
   "source": [
    "Carichiamo il dataset *Caravan*:"
   ]
  },
  {
   "cell_type": "code",
   "execution_count": 45,
   "metadata": {},
   "outputs": [
    {
     "name": "stdout",
     "output_type": "stream",
     "text": [
      "5822\n"
     ]
    },
    {
     "data": {
      "text/html": [
       "<div>\n",
       "<style scoped>\n",
       "    .dataframe tbody tr th:only-of-type {\n",
       "        vertical-align: middle;\n",
       "    }\n",
       "\n",
       "    .dataframe tbody tr th {\n",
       "        vertical-align: top;\n",
       "    }\n",
       "\n",
       "    .dataframe thead th {\n",
       "        text-align: right;\n",
       "    }\n",
       "</style>\n",
       "<table border=\"1\" class=\"dataframe\">\n",
       "  <thead>\n",
       "    <tr style=\"text-align: right;\">\n",
       "      <th></th>\n",
       "      <th>MOSTYPE</th>\n",
       "      <th>MAANTHUI</th>\n",
       "      <th>MGEMOMV</th>\n",
       "      <th>MGEMLEEF</th>\n",
       "      <th>MOSHOOFD</th>\n",
       "      <th>MGODRK</th>\n",
       "      <th>MGODPR</th>\n",
       "      <th>MGODOV</th>\n",
       "      <th>MGODGE</th>\n",
       "      <th>MRELGE</th>\n",
       "      <th>...</th>\n",
       "      <th>APERSONG</th>\n",
       "      <th>AGEZONG</th>\n",
       "      <th>AWAOREG</th>\n",
       "      <th>ABRAND</th>\n",
       "      <th>AZEILPL</th>\n",
       "      <th>APLEZIER</th>\n",
       "      <th>AFIETS</th>\n",
       "      <th>AINBOED</th>\n",
       "      <th>ABYSTAND</th>\n",
       "      <th>Purchase</th>\n",
       "    </tr>\n",
       "  </thead>\n",
       "  <tbody>\n",
       "    <tr>\n",
       "      <th>0</th>\n",
       "      <td>33</td>\n",
       "      <td>1</td>\n",
       "      <td>3</td>\n",
       "      <td>2</td>\n",
       "      <td>8</td>\n",
       "      <td>0</td>\n",
       "      <td>5</td>\n",
       "      <td>1</td>\n",
       "      <td>3</td>\n",
       "      <td>7</td>\n",
       "      <td>...</td>\n",
       "      <td>0</td>\n",
       "      <td>0</td>\n",
       "      <td>0</td>\n",
       "      <td>1</td>\n",
       "      <td>0</td>\n",
       "      <td>0</td>\n",
       "      <td>0</td>\n",
       "      <td>0</td>\n",
       "      <td>0</td>\n",
       "      <td>0</td>\n",
       "    </tr>\n",
       "    <tr>\n",
       "      <th>1</th>\n",
       "      <td>37</td>\n",
       "      <td>1</td>\n",
       "      <td>2</td>\n",
       "      <td>2</td>\n",
       "      <td>8</td>\n",
       "      <td>1</td>\n",
       "      <td>4</td>\n",
       "      <td>1</td>\n",
       "      <td>4</td>\n",
       "      <td>6</td>\n",
       "      <td>...</td>\n",
       "      <td>0</td>\n",
       "      <td>0</td>\n",
       "      <td>0</td>\n",
       "      <td>1</td>\n",
       "      <td>0</td>\n",
       "      <td>0</td>\n",
       "      <td>0</td>\n",
       "      <td>0</td>\n",
       "      <td>0</td>\n",
       "      <td>0</td>\n",
       "    </tr>\n",
       "    <tr>\n",
       "      <th>2</th>\n",
       "      <td>37</td>\n",
       "      <td>1</td>\n",
       "      <td>2</td>\n",
       "      <td>2</td>\n",
       "      <td>8</td>\n",
       "      <td>0</td>\n",
       "      <td>4</td>\n",
       "      <td>2</td>\n",
       "      <td>4</td>\n",
       "      <td>3</td>\n",
       "      <td>...</td>\n",
       "      <td>0</td>\n",
       "      <td>0</td>\n",
       "      <td>0</td>\n",
       "      <td>1</td>\n",
       "      <td>0</td>\n",
       "      <td>0</td>\n",
       "      <td>0</td>\n",
       "      <td>0</td>\n",
       "      <td>0</td>\n",
       "      <td>0</td>\n",
       "    </tr>\n",
       "    <tr>\n",
       "      <th>3</th>\n",
       "      <td>9</td>\n",
       "      <td>1</td>\n",
       "      <td>3</td>\n",
       "      <td>3</td>\n",
       "      <td>3</td>\n",
       "      <td>2</td>\n",
       "      <td>3</td>\n",
       "      <td>2</td>\n",
       "      <td>4</td>\n",
       "      <td>5</td>\n",
       "      <td>...</td>\n",
       "      <td>0</td>\n",
       "      <td>0</td>\n",
       "      <td>0</td>\n",
       "      <td>1</td>\n",
       "      <td>0</td>\n",
       "      <td>0</td>\n",
       "      <td>0</td>\n",
       "      <td>0</td>\n",
       "      <td>0</td>\n",
       "      <td>0</td>\n",
       "    </tr>\n",
       "    <tr>\n",
       "      <th>4</th>\n",
       "      <td>40</td>\n",
       "      <td>1</td>\n",
       "      <td>4</td>\n",
       "      <td>2</td>\n",
       "      <td>10</td>\n",
       "      <td>1</td>\n",
       "      <td>4</td>\n",
       "      <td>1</td>\n",
       "      <td>4</td>\n",
       "      <td>7</td>\n",
       "      <td>...</td>\n",
       "      <td>0</td>\n",
       "      <td>0</td>\n",
       "      <td>0</td>\n",
       "      <td>1</td>\n",
       "      <td>0</td>\n",
       "      <td>0</td>\n",
       "      <td>0</td>\n",
       "      <td>0</td>\n",
       "      <td>0</td>\n",
       "      <td>0</td>\n",
       "    </tr>\n",
       "  </tbody>\n",
       "</table>\n",
       "<p>5 rows × 86 columns</p>\n",
       "</div>"
      ],
      "text/plain": [
       "   MOSTYPE  MAANTHUI  MGEMOMV  MGEMLEEF  MOSHOOFD  MGODRK  MGODPR  MGODOV  \\\n",
       "0       33         1        3         2         8       0       5       1   \n",
       "1       37         1        2         2         8       1       4       1   \n",
       "2       37         1        2         2         8       0       4       2   \n",
       "3        9         1        3         3         3       2       3       2   \n",
       "4       40         1        4         2        10       1       4       1   \n",
       "\n",
       "   MGODGE  MRELGE  ...  APERSONG  AGEZONG  AWAOREG  ABRAND  AZEILPL  APLEZIER  \\\n",
       "0       3       7  ...         0        0        0       1        0         0   \n",
       "1       4       6  ...         0        0        0       1        0         0   \n",
       "2       4       3  ...         0        0        0       1        0         0   \n",
       "3       4       5  ...         0        0        0       1        0         0   \n",
       "4       4       7  ...         0        0        0       1        0         0   \n",
       "\n",
       "   AFIETS  AINBOED  ABYSTAND  Purchase  \n",
       "0       0        0         0         0  \n",
       "1       0        0         0         0  \n",
       "2       0        0         0         0  \n",
       "3       0        0         0         0  \n",
       "4       0        0         0         0  \n",
       "\n",
       "[5 rows x 86 columns]"
      ]
     },
     "execution_count": 45,
     "metadata": {},
     "output_type": "execute_result"
    }
   ],
   "source": [
    "car = pd.read_csv(\"data/caravan.csv\")\n",
    "car.drop([\"Unnamed: 0\"], axis = 1, inplace = True)\n",
    "car[\"Purchase\"].replace({\"Yes\": 1, \"No\": 0}, inplace = True)\n",
    "print(len(car))\n",
    "car.head()"
   ]
  },
  {
   "cell_type": "markdown",
   "metadata": {},
   "source": [
    "Ogni riga è un singolo individuo, a cui sono associati 85 predittori demografici. La response è Purchase, che indica se l'individuo ha acquistato una polizza assicurativa.\n",
    "\n",
    "In questo dataset, solo il 6% degli individui hanno acquistato una polizza."
   ]
  },
  {
   "cell_type": "markdown",
   "metadata": {},
   "source": [
    "Standardizziamo i dati in modo da preparare un KNN con K unitario:"
   ]
  },
  {
   "cell_type": "code",
   "execution_count": 46,
   "metadata": {},
   "outputs": [],
   "source": [
    "df = car.copy()\n",
    "feature_names = [col for col in car.columns if col != \"Purchase\"]\n",
    "\n",
    "X = df[feature_names].copy()\n",
    "X = preprocessing.scale(X)\n",
    "Y = df.Purchase\n",
    "\n",
    "X_train = X[1000:,:]\n",
    "Y_train = Y[1000:]\n",
    "X_test = X[:1000,:]\n",
    "Y_test = Y[:1000]"
   ]
  },
  {
   "cell_type": "markdown",
   "metadata": {},
   "source": [
    "L'error rate è poco sotto il 12%, ma solo il 6% degli individui ha acquistato una polizza, quindi ci basterebbe sempre predire \"No\" per avere un test error addirittura inferiore!"
   ]
  },
  {
   "cell_type": "code",
   "execution_count": 47,
   "metadata": {},
   "outputs": [
    {
     "data": {
      "text/plain": [
       "0.118"
      ]
     },
     "execution_count": 47,
     "metadata": {},
     "output_type": "execute_result"
    }
   ],
   "source": [
    "model = KNeighborsClassifier(n_neighbors = 1)\n",
    "model.fit(X_train, Y_train)\n",
    "\n",
    "Y_pred = model.predict(X_test)\n",
    "\n",
    "zero_one_loss(Y_test, Y_pred)"
   ]
  },
  {
   "cell_type": "markdown",
   "metadata": {},
   "source": [
    "In realtà dalla confusion matrix notiamo che 9 acquirenti su 77 sono stati predetti correttamente; si tratta dell'11.7%, quindi è quasi il doppio del rate di classificazioni corrette che otterremmo con il random guessing!"
   ]
  },
  {
   "cell_type": "code",
   "execution_count": 48,
   "metadata": {},
   "outputs": [
    {
     "data": {
      "text/html": [
       "<div>\n",
       "<style scoped>\n",
       "    .dataframe tbody tr th:only-of-type {\n",
       "        vertical-align: middle;\n",
       "    }\n",
       "\n",
       "    .dataframe tbody tr th {\n",
       "        vertical-align: top;\n",
       "    }\n",
       "\n",
       "    .dataframe thead tr th {\n",
       "        text-align: left;\n",
       "    }\n",
       "</style>\n",
       "<table border=\"1\" class=\"dataframe\">\n",
       "  <thead>\n",
       "    <tr>\n",
       "      <th></th>\n",
       "      <th></th>\n",
       "      <th colspan=\"3\" halign=\"left\">True</th>\n",
       "    </tr>\n",
       "    <tr>\n",
       "      <th></th>\n",
       "      <th></th>\n",
       "      <th>0</th>\n",
       "      <th>1</th>\n",
       "      <th>Total</th>\n",
       "    </tr>\n",
       "  </thead>\n",
       "  <tbody>\n",
       "    <tr>\n",
       "      <th rowspan=\"3\" valign=\"top\">Predicted</th>\n",
       "      <th>0</th>\n",
       "      <td>873</td>\n",
       "      <td>50</td>\n",
       "      <td>923</td>\n",
       "    </tr>\n",
       "    <tr>\n",
       "      <th>1</th>\n",
       "      <td>68</td>\n",
       "      <td>9</td>\n",
       "      <td>77</td>\n",
       "    </tr>\n",
       "    <tr>\n",
       "      <th>Total</th>\n",
       "      <td>941</td>\n",
       "      <td>59</td>\n",
       "      <td>1000</td>\n",
       "    </tr>\n",
       "  </tbody>\n",
       "</table>\n",
       "</div>"
      ],
      "text/plain": [
       "                True          \n",
       "                   0   1 Total\n",
       "Predicted 0      873  50   923\n",
       "          1       68   9    77\n",
       "          Total  941  59  1000"
      ]
     },
     "execution_count": 48,
     "metadata": {},
     "output_type": "execute_result"
    }
   ],
   "source": [
    "pretty_cm(np.array(Y_test), Y_pred, classes = [0, 1])"
   ]
  },
  {
   "cell_type": "markdown",
   "metadata": {},
   "source": [
    "Proviamo con K = 5:"
   ]
  },
  {
   "cell_type": "code",
   "execution_count": 49,
   "metadata": {},
   "outputs": [
    {
     "data": {
      "text/plain": [
       "0.06599999999999995"
      ]
     },
     "execution_count": 49,
     "metadata": {},
     "output_type": "execute_result"
    }
   ],
   "source": [
    "model = KNeighborsClassifier(n_neighbors = 5)\n",
    "model.fit(X_train, Y_train)\n",
    "\n",
    "Y_pred = model.predict(X_test)\n",
    "\n",
    "zero_one_loss(Y_test, Y_pred)"
   ]
  },
  {
   "cell_type": "code",
   "execution_count": 50,
   "metadata": {},
   "outputs": [
    {
     "data": {
      "text/html": [
       "<div>\n",
       "<style scoped>\n",
       "    .dataframe tbody tr th:only-of-type {\n",
       "        vertical-align: middle;\n",
       "    }\n",
       "\n",
       "    .dataframe tbody tr th {\n",
       "        vertical-align: top;\n",
       "    }\n",
       "\n",
       "    .dataframe thead tr th {\n",
       "        text-align: left;\n",
       "    }\n",
       "</style>\n",
       "<table border=\"1\" class=\"dataframe\">\n",
       "  <thead>\n",
       "    <tr>\n",
       "      <th></th>\n",
       "      <th></th>\n",
       "      <th colspan=\"3\" halign=\"left\">True</th>\n",
       "    </tr>\n",
       "    <tr>\n",
       "      <th></th>\n",
       "      <th></th>\n",
       "      <th>0</th>\n",
       "      <th>1</th>\n",
       "      <th>Total</th>\n",
       "    </tr>\n",
       "  </thead>\n",
       "  <tbody>\n",
       "    <tr>\n",
       "      <th rowspan=\"3\" valign=\"top\">Predicted</th>\n",
       "      <th>0</th>\n",
       "      <td>930</td>\n",
       "      <td>55</td>\n",
       "      <td>985</td>\n",
       "    </tr>\n",
       "    <tr>\n",
       "      <th>1</th>\n",
       "      <td>11</td>\n",
       "      <td>4</td>\n",
       "      <td>15</td>\n",
       "    </tr>\n",
       "    <tr>\n",
       "      <th>Total</th>\n",
       "      <td>941</td>\n",
       "      <td>59</td>\n",
       "      <td>1000</td>\n",
       "    </tr>\n",
       "  </tbody>\n",
       "</table>\n",
       "</div>"
      ],
      "text/plain": [
       "                True          \n",
       "                   0   1 Total\n",
       "Predicted 0      930  55   985\n",
       "          1       11   4    15\n",
       "          Total  941  59  1000"
      ]
     },
     "execution_count": 50,
     "metadata": {},
     "output_type": "execute_result"
    }
   ],
   "source": [
    "pretty_cm(np.array(Y_test), Y_pred, classes = [0, 1])"
   ]
  },
  {
   "cell_type": "markdown",
   "metadata": {},
   "source": [
    "Saliamo a oltre il 25% in precision!"
   ]
  },
  {
   "cell_type": "markdown",
   "metadata": {},
   "source": [
    "<br>"
   ]
  },
  {
   "cell_type": "markdown",
   "metadata": {},
   "source": [
    "Proviamo con una regressione logistica con soglia non standard, cioè 0.25 al posto di 0.50."
   ]
  },
  {
   "cell_type": "code",
   "execution_count": 51,
   "metadata": {},
   "outputs": [
    {
     "data": {
      "text/plain": [
       "0.07199999999999995"
      ]
     },
     "execution_count": 51,
     "metadata": {},
     "output_type": "execute_result"
    }
   ],
   "source": [
    "model = LogisticRegression(solver = \"newton-cg\")\n",
    "model.fit(X_train, Y_train)\n",
    "\n",
    "threshold = 0.25\n",
    "\n",
    "# Prendo la seconda colonna che è la probabilità della classe positiva\n",
    "Y_prob = model.predict_proba(X_test)[:, 1]\n",
    "\n",
    "Y_pred = np.where(Y_prob > threshold, 1, 0)\n",
    "\n",
    "zero_one_loss(Y_test, Y_pred)"
   ]
  },
  {
   "cell_type": "code",
   "execution_count": 52,
   "metadata": {},
   "outputs": [
    {
     "data": {
      "text/html": [
       "<div>\n",
       "<style scoped>\n",
       "    .dataframe tbody tr th:only-of-type {\n",
       "        vertical-align: middle;\n",
       "    }\n",
       "\n",
       "    .dataframe tbody tr th {\n",
       "        vertical-align: top;\n",
       "    }\n",
       "\n",
       "    .dataframe thead tr th {\n",
       "        text-align: left;\n",
       "    }\n",
       "</style>\n",
       "<table border=\"1\" class=\"dataframe\">\n",
       "  <thead>\n",
       "    <tr>\n",
       "      <th></th>\n",
       "      <th></th>\n",
       "      <th colspan=\"3\" halign=\"left\">True</th>\n",
       "    </tr>\n",
       "    <tr>\n",
       "      <th></th>\n",
       "      <th></th>\n",
       "      <th>0</th>\n",
       "      <th>1</th>\n",
       "      <th>Total</th>\n",
       "    </tr>\n",
       "  </thead>\n",
       "  <tbody>\n",
       "    <tr>\n",
       "      <th rowspan=\"3\" valign=\"top\">Predicted</th>\n",
       "      <th>0</th>\n",
       "      <td>917</td>\n",
       "      <td>48</td>\n",
       "      <td>965</td>\n",
       "    </tr>\n",
       "    <tr>\n",
       "      <th>1</th>\n",
       "      <td>24</td>\n",
       "      <td>11</td>\n",
       "      <td>35</td>\n",
       "    </tr>\n",
       "    <tr>\n",
       "      <th>Total</th>\n",
       "      <td>941</td>\n",
       "      <td>59</td>\n",
       "      <td>1000</td>\n",
       "    </tr>\n",
       "  </tbody>\n",
       "</table>\n",
       "</div>"
      ],
      "text/plain": [
       "                True          \n",
       "                   0   1 Total\n",
       "Predicted 0      917  48   965\n",
       "          1       24  11    35\n",
       "          Total  941  59  1000"
      ]
     },
     "execution_count": 52,
     "metadata": {},
     "output_type": "execute_result"
    }
   ],
   "source": [
    "pretty_cm(Y_test, Y_pred, classes = model.classes_)"
   ]
  },
  {
   "cell_type": "markdown",
   "metadata": {},
   "source": [
    "La precision ora supera il 30%!"
   ]
  },
  {
   "cell_type": "markdown",
   "metadata": {},
   "source": [
    "---"
   ]
  },
  {
   "cell_type": "markdown",
   "metadata": {},
   "source": [
    "Carichiamo il dataset *Weekly*:"
   ]
  },
  {
   "cell_type": "code",
   "execution_count": 53,
   "metadata": {},
   "outputs": [
    {
     "data": {
      "text/html": [
       "<div>\n",
       "<style scoped>\n",
       "    .dataframe tbody tr th:only-of-type {\n",
       "        vertical-align: middle;\n",
       "    }\n",
       "\n",
       "    .dataframe tbody tr th {\n",
       "        vertical-align: top;\n",
       "    }\n",
       "\n",
       "    .dataframe thead th {\n",
       "        text-align: right;\n",
       "    }\n",
       "</style>\n",
       "<table border=\"1\" class=\"dataframe\">\n",
       "  <thead>\n",
       "    <tr style=\"text-align: right;\">\n",
       "      <th></th>\n",
       "      <th>Year</th>\n",
       "      <th>Lag1</th>\n",
       "      <th>Lag2</th>\n",
       "      <th>Lag3</th>\n",
       "      <th>Lag4</th>\n",
       "      <th>Lag5</th>\n",
       "      <th>Volume</th>\n",
       "      <th>Today</th>\n",
       "      <th>Direction</th>\n",
       "    </tr>\n",
       "  </thead>\n",
       "  <tbody>\n",
       "    <tr>\n",
       "      <th>0</th>\n",
       "      <td>1990</td>\n",
       "      <td>0.816</td>\n",
       "      <td>1.572</td>\n",
       "      <td>-3.936</td>\n",
       "      <td>-0.229</td>\n",
       "      <td>-3.484</td>\n",
       "      <td>0.154976</td>\n",
       "      <td>-0.270</td>\n",
       "      <td>0</td>\n",
       "    </tr>\n",
       "    <tr>\n",
       "      <th>1</th>\n",
       "      <td>1990</td>\n",
       "      <td>-0.270</td>\n",
       "      <td>0.816</td>\n",
       "      <td>1.572</td>\n",
       "      <td>-3.936</td>\n",
       "      <td>-0.229</td>\n",
       "      <td>0.148574</td>\n",
       "      <td>-2.576</td>\n",
       "      <td>0</td>\n",
       "    </tr>\n",
       "    <tr>\n",
       "      <th>2</th>\n",
       "      <td>1990</td>\n",
       "      <td>-2.576</td>\n",
       "      <td>-0.270</td>\n",
       "      <td>0.816</td>\n",
       "      <td>1.572</td>\n",
       "      <td>-3.936</td>\n",
       "      <td>0.159837</td>\n",
       "      <td>3.514</td>\n",
       "      <td>1</td>\n",
       "    </tr>\n",
       "    <tr>\n",
       "      <th>3</th>\n",
       "      <td>1990</td>\n",
       "      <td>3.514</td>\n",
       "      <td>-2.576</td>\n",
       "      <td>-0.270</td>\n",
       "      <td>0.816</td>\n",
       "      <td>1.572</td>\n",
       "      <td>0.161630</td>\n",
       "      <td>0.712</td>\n",
       "      <td>1</td>\n",
       "    </tr>\n",
       "    <tr>\n",
       "      <th>4</th>\n",
       "      <td>1990</td>\n",
       "      <td>0.712</td>\n",
       "      <td>3.514</td>\n",
       "      <td>-2.576</td>\n",
       "      <td>-0.270</td>\n",
       "      <td>0.816</td>\n",
       "      <td>0.153728</td>\n",
       "      <td>1.178</td>\n",
       "      <td>1</td>\n",
       "    </tr>\n",
       "  </tbody>\n",
       "</table>\n",
       "</div>"
      ],
      "text/plain": [
       "   Year   Lag1   Lag2   Lag3   Lag4   Lag5    Volume  Today  Direction\n",
       "0  1990  0.816  1.572 -3.936 -0.229 -3.484  0.154976 -0.270          0\n",
       "1  1990 -0.270  0.816  1.572 -3.936 -0.229  0.148574 -2.576          0\n",
       "2  1990 -2.576 -0.270  0.816  1.572 -3.936  0.159837  3.514          1\n",
       "3  1990  3.514 -2.576 -0.270  0.816  1.572  0.161630  0.712          1\n",
       "4  1990  0.712  3.514 -2.576 -0.270  0.816  0.153728  1.178          1"
      ]
     },
     "execution_count": 53,
     "metadata": {},
     "output_type": "execute_result"
    }
   ],
   "source": [
    "wek = pd.read_csv(\"data/weekly.csv\")\n",
    "wek[\"Direction\"].replace({\"Up\": 1, \"Down\": 0}, inplace = True)\n",
    "wek.head()"
   ]
  },
  {
   "cell_type": "markdown",
   "metadata": {},
   "source": [
    "E' un dataset simile a Smarket, ma contiene 1089 ritorni dal 1990 al 2010."
   ]
  },
  {
   "cell_type": "code",
   "execution_count": 54,
   "metadata": {},
   "outputs": [
    {
     "data": {
      "text/html": [
       "<div>\n",
       "<style scoped>\n",
       "    .dataframe tbody tr th:only-of-type {\n",
       "        vertical-align: middle;\n",
       "    }\n",
       "\n",
       "    .dataframe tbody tr th {\n",
       "        vertical-align: top;\n",
       "    }\n",
       "\n",
       "    .dataframe thead th {\n",
       "        text-align: right;\n",
       "    }\n",
       "</style>\n",
       "<table border=\"1\" class=\"dataframe\">\n",
       "  <thead>\n",
       "    <tr style=\"text-align: right;\">\n",
       "      <th></th>\n",
       "      <th>Year</th>\n",
       "      <th>Lag1</th>\n",
       "      <th>Lag2</th>\n",
       "      <th>Lag3</th>\n",
       "      <th>Lag4</th>\n",
       "      <th>Lag5</th>\n",
       "      <th>Volume</th>\n",
       "      <th>Today</th>\n",
       "      <th>Direction</th>\n",
       "    </tr>\n",
       "  </thead>\n",
       "  <tbody>\n",
       "    <tr>\n",
       "      <th>Year</th>\n",
       "      <td>1.000000</td>\n",
       "      <td>-0.032289</td>\n",
       "      <td>-0.033390</td>\n",
       "      <td>-0.030006</td>\n",
       "      <td>-0.031128</td>\n",
       "      <td>-0.030519</td>\n",
       "      <td>0.841942</td>\n",
       "      <td>-0.032460</td>\n",
       "      <td>-0.022200</td>\n",
       "    </tr>\n",
       "    <tr>\n",
       "      <th>Lag1</th>\n",
       "      <td>-0.032289</td>\n",
       "      <td>1.000000</td>\n",
       "      <td>-0.074853</td>\n",
       "      <td>0.058636</td>\n",
       "      <td>-0.071274</td>\n",
       "      <td>-0.008183</td>\n",
       "      <td>-0.064951</td>\n",
       "      <td>-0.075032</td>\n",
       "      <td>-0.050004</td>\n",
       "    </tr>\n",
       "    <tr>\n",
       "      <th>Lag2</th>\n",
       "      <td>-0.033390</td>\n",
       "      <td>-0.074853</td>\n",
       "      <td>1.000000</td>\n",
       "      <td>-0.075721</td>\n",
       "      <td>0.058382</td>\n",
       "      <td>-0.072499</td>\n",
       "      <td>-0.085513</td>\n",
       "      <td>0.059167</td>\n",
       "      <td>0.072696</td>\n",
       "    </tr>\n",
       "    <tr>\n",
       "      <th>Lag3</th>\n",
       "      <td>-0.030006</td>\n",
       "      <td>0.058636</td>\n",
       "      <td>-0.075721</td>\n",
       "      <td>1.000000</td>\n",
       "      <td>-0.075396</td>\n",
       "      <td>0.060657</td>\n",
       "      <td>-0.069288</td>\n",
       "      <td>-0.071244</td>\n",
       "      <td>-0.022913</td>\n",
       "    </tr>\n",
       "    <tr>\n",
       "      <th>Lag4</th>\n",
       "      <td>-0.031128</td>\n",
       "      <td>-0.071274</td>\n",
       "      <td>0.058382</td>\n",
       "      <td>-0.075396</td>\n",
       "      <td>1.000000</td>\n",
       "      <td>-0.075675</td>\n",
       "      <td>-0.061075</td>\n",
       "      <td>-0.007826</td>\n",
       "      <td>-0.020549</td>\n",
       "    </tr>\n",
       "    <tr>\n",
       "      <th>Lag5</th>\n",
       "      <td>-0.030519</td>\n",
       "      <td>-0.008183</td>\n",
       "      <td>-0.072499</td>\n",
       "      <td>0.060657</td>\n",
       "      <td>-0.075675</td>\n",
       "      <td>1.000000</td>\n",
       "      <td>-0.058517</td>\n",
       "      <td>0.011013</td>\n",
       "      <td>-0.018168</td>\n",
       "    </tr>\n",
       "    <tr>\n",
       "      <th>Volume</th>\n",
       "      <td>0.841942</td>\n",
       "      <td>-0.064951</td>\n",
       "      <td>-0.085513</td>\n",
       "      <td>-0.069288</td>\n",
       "      <td>-0.061075</td>\n",
       "      <td>-0.058517</td>\n",
       "      <td>1.000000</td>\n",
       "      <td>-0.033078</td>\n",
       "      <td>-0.017995</td>\n",
       "    </tr>\n",
       "    <tr>\n",
       "      <th>Today</th>\n",
       "      <td>-0.032460</td>\n",
       "      <td>-0.075032</td>\n",
       "      <td>0.059167</td>\n",
       "      <td>-0.071244</td>\n",
       "      <td>-0.007826</td>\n",
       "      <td>0.011013</td>\n",
       "      <td>-0.033078</td>\n",
       "      <td>1.000000</td>\n",
       "      <td>0.720025</td>\n",
       "    </tr>\n",
       "    <tr>\n",
       "      <th>Direction</th>\n",
       "      <td>-0.022200</td>\n",
       "      <td>-0.050004</td>\n",
       "      <td>0.072696</td>\n",
       "      <td>-0.022913</td>\n",
       "      <td>-0.020549</td>\n",
       "      <td>-0.018168</td>\n",
       "      <td>-0.017995</td>\n",
       "      <td>0.720025</td>\n",
       "      <td>1.000000</td>\n",
       "    </tr>\n",
       "  </tbody>\n",
       "</table>\n",
       "</div>"
      ],
      "text/plain": [
       "               Year      Lag1      Lag2      Lag3      Lag4      Lag5  \\\n",
       "Year       1.000000 -0.032289 -0.033390 -0.030006 -0.031128 -0.030519   \n",
       "Lag1      -0.032289  1.000000 -0.074853  0.058636 -0.071274 -0.008183   \n",
       "Lag2      -0.033390 -0.074853  1.000000 -0.075721  0.058382 -0.072499   \n",
       "Lag3      -0.030006  0.058636 -0.075721  1.000000 -0.075396  0.060657   \n",
       "Lag4      -0.031128 -0.071274  0.058382 -0.075396  1.000000 -0.075675   \n",
       "Lag5      -0.030519 -0.008183 -0.072499  0.060657 -0.075675  1.000000   \n",
       "Volume     0.841942 -0.064951 -0.085513 -0.069288 -0.061075 -0.058517   \n",
       "Today     -0.032460 -0.075032  0.059167 -0.071244 -0.007826  0.011013   \n",
       "Direction -0.022200 -0.050004  0.072696 -0.022913 -0.020549 -0.018168   \n",
       "\n",
       "             Volume     Today  Direction  \n",
       "Year       0.841942 -0.032460  -0.022200  \n",
       "Lag1      -0.064951 -0.075032  -0.050004  \n",
       "Lag2      -0.085513  0.059167   0.072696  \n",
       "Lag3      -0.069288 -0.071244  -0.022913  \n",
       "Lag4      -0.061075 -0.007826  -0.020549  \n",
       "Lag5      -0.058517  0.011013  -0.018168  \n",
       "Volume     1.000000 -0.033078  -0.017995  \n",
       "Today     -0.033078  1.000000   0.720025  \n",
       "Direction -0.017995  0.720025   1.000000  "
      ]
     },
     "execution_count": 54,
     "metadata": {},
     "output_type": "execute_result"
    }
   ],
   "source": [
    "wek.corr()"
   ]
  },
  {
   "cell_type": "markdown",
   "metadata": {},
   "source": [
    "L'unica relazione importante sembra essere quella fra Year e Volume: col passare degli anni aumentano le azioni tradate."
   ]
  },
  {
   "cell_type": "markdown",
   "metadata": {},
   "source": [
    "Addestriamo una regressione logistica usando i Lag e il Volume:"
   ]
  },
  {
   "cell_type": "code",
   "execution_count": 55,
   "metadata": {},
   "outputs": [
    {
     "name": "stdout",
     "output_type": "stream",
     "text": [
      "Optimization terminated successfully.\n",
      "         Current function value: 0.682441\n",
      "         Iterations 4\n"
     ]
    },
    {
     "data": {
      "text/html": [
       "<table class=\"simpletable\">\n",
       "<tr>\n",
       "     <td></td>       <th>coef</th>     <th>std err</th>      <th>z</th>      <th>P>|z|</th>  <th>[0.025</th>    <th>0.975]</th>  \n",
       "</tr>\n",
       "<tr>\n",
       "  <th>const</th>  <td>    0.2669</td> <td>    0.086</td> <td>    3.106</td> <td> 0.002</td> <td>    0.098</td> <td>    0.435</td>\n",
       "</tr>\n",
       "<tr>\n",
       "  <th>Lag1</th>   <td>   -0.0413</td> <td>    0.026</td> <td>   -1.563</td> <td> 0.118</td> <td>   -0.093</td> <td>    0.010</td>\n",
       "</tr>\n",
       "<tr>\n",
       "  <th>Lag2</th>   <td>    0.0584</td> <td>    0.027</td> <td>    2.175</td> <td> 0.030</td> <td>    0.006</td> <td>    0.111</td>\n",
       "</tr>\n",
       "<tr>\n",
       "  <th>Lag3</th>   <td>   -0.0161</td> <td>    0.027</td> <td>   -0.602</td> <td> 0.547</td> <td>   -0.068</td> <td>    0.036</td>\n",
       "</tr>\n",
       "<tr>\n",
       "  <th>Lag4</th>   <td>   -0.0278</td> <td>    0.026</td> <td>   -1.050</td> <td> 0.294</td> <td>   -0.080</td> <td>    0.024</td>\n",
       "</tr>\n",
       "<tr>\n",
       "  <th>Lag5</th>   <td>   -0.0145</td> <td>    0.026</td> <td>   -0.549</td> <td> 0.583</td> <td>   -0.066</td> <td>    0.037</td>\n",
       "</tr>\n",
       "<tr>\n",
       "  <th>Volume</th> <td>   -0.0227</td> <td>    0.037</td> <td>   -0.616</td> <td> 0.538</td> <td>   -0.095</td> <td>    0.050</td>\n",
       "</tr>\n",
       "</table>"
      ],
      "text/plain": [
       "<class 'statsmodels.iolib.table.SimpleTable'>"
      ]
     },
     "execution_count": 55,
     "metadata": {},
     "output_type": "execute_result"
    }
   ],
   "source": [
    "Y = wek.Direction\n",
    "X = wek[[\"Lag1\",\"Lag2\",\"Lag3\",\"Lag4\",\"Lag5\",\"Volume\"]]\n",
    "X = sm.add_constant(X)\n",
    "\n",
    "model = sm.Logit(endog = Y, exog = X).fit()\n",
    "\n",
    "model.summary().tables[1]"
   ]
  },
  {
   "cell_type": "markdown",
   "metadata": {},
   "source": [
    "Solo Lag2 sembra essere un predittore significativo."
   ]
  },
  {
   "cell_type": "code",
   "execution_count": 56,
   "metadata": {},
   "outputs": [
    {
     "name": "stdout",
     "output_type": "stream",
     "text": [
      "0.43893480257116624\n"
     ]
    },
    {
     "data": {
      "text/html": [
       "<div>\n",
       "<style scoped>\n",
       "    .dataframe tbody tr th:only-of-type {\n",
       "        vertical-align: middle;\n",
       "    }\n",
       "\n",
       "    .dataframe tbody tr th {\n",
       "        vertical-align: top;\n",
       "    }\n",
       "\n",
       "    .dataframe thead tr th {\n",
       "        text-align: left;\n",
       "    }\n",
       "</style>\n",
       "<table border=\"1\" class=\"dataframe\">\n",
       "  <thead>\n",
       "    <tr>\n",
       "      <th></th>\n",
       "      <th></th>\n",
       "      <th colspan=\"3\" halign=\"left\">True</th>\n",
       "    </tr>\n",
       "    <tr>\n",
       "      <th></th>\n",
       "      <th></th>\n",
       "      <th>0</th>\n",
       "      <th>1</th>\n",
       "      <th>Total</th>\n",
       "    </tr>\n",
       "  </thead>\n",
       "  <tbody>\n",
       "    <tr>\n",
       "      <th rowspan=\"3\" valign=\"top\">Predicted</th>\n",
       "      <th>0</th>\n",
       "      <td>54</td>\n",
       "      <td>48</td>\n",
       "      <td>102</td>\n",
       "    </tr>\n",
       "    <tr>\n",
       "      <th>1</th>\n",
       "      <td>430</td>\n",
       "      <td>557</td>\n",
       "      <td>987</td>\n",
       "    </tr>\n",
       "    <tr>\n",
       "      <th>Total</th>\n",
       "      <td>484</td>\n",
       "      <td>605</td>\n",
       "      <td>1089</td>\n",
       "    </tr>\n",
       "  </tbody>\n",
       "</table>\n",
       "</div>"
      ],
      "text/plain": [
       "                True           \n",
       "                   0    1 Total\n",
       "Predicted 0       54   48   102\n",
       "          1      430  557   987\n",
       "          Total  484  605  1089"
      ]
     },
     "execution_count": 56,
     "metadata": {},
     "output_type": "execute_result"
    }
   ],
   "source": [
    "Y_prob = model.predict(X)\n",
    "Y_pred = np.where(Y_prob > 0.5, 1, 0)\n",
    "\n",
    "print(zero_one_loss(Y, Y_pred))\n",
    "pretty_cm(Y, Y_pred, classes = [0, 1])"
   ]
  },
  {
   "cell_type": "markdown",
   "metadata": {},
   "source": [
    "Il modello sbaglia poco di meno rispetto al random guessing. "
   ]
  },
  {
   "cell_type": "code",
   "execution_count": 57,
   "metadata": {},
   "outputs": [
    {
     "data": {
      "text/html": [
       "<div>\n",
       "<style scoped>\n",
       "    .dataframe tbody tr th:only-of-type {\n",
       "        vertical-align: middle;\n",
       "    }\n",
       "\n",
       "    .dataframe tbody tr th {\n",
       "        vertical-align: top;\n",
       "    }\n",
       "\n",
       "    .dataframe thead th {\n",
       "        text-align: right;\n",
       "    }\n",
       "</style>\n",
       "<table border=\"1\" class=\"dataframe\">\n",
       "  <thead>\n",
       "    <tr style=\"text-align: right;\">\n",
       "      <th></th>\n",
       "      <th>0</th>\n",
       "      <th>1</th>\n",
       "    </tr>\n",
       "  </thead>\n",
       "  <tbody>\n",
       "    <tr>\n",
       "      <th>TPR - Sensitivity</th>\n",
       "      <td>0.11157</td>\n",
       "      <td>0.920661</td>\n",
       "    </tr>\n",
       "    <tr>\n",
       "      <th>TNR - Specificity</th>\n",
       "      <td>0.920661</td>\n",
       "      <td>0.11157</td>\n",
       "    </tr>\n",
       "    <tr>\n",
       "      <th>FPR - Fallout</th>\n",
       "      <td>0.0793388</td>\n",
       "      <td>0.88843</td>\n",
       "    </tr>\n",
       "    <tr>\n",
       "      <th>FNR - Miss Rate</th>\n",
       "      <td>0.88843</td>\n",
       "      <td>0.0793388</td>\n",
       "    </tr>\n",
       "  </tbody>\n",
       "</table>\n",
       "</div>"
      ],
      "text/plain": [
       "                           0          1\n",
       "TPR - Sensitivity    0.11157   0.920661\n",
       "TNR - Specificity   0.920661    0.11157\n",
       "FPR - Fallout      0.0793388    0.88843\n",
       "FNR - Miss Rate      0.88843  0.0793388"
      ]
     },
     "execution_count": 57,
     "metadata": {},
     "output_type": "execute_result"
    }
   ],
   "source": [
    "rates(Y, Y_pred, classes = [0, 1])"
   ]
  },
  {
   "cell_type": "code",
   "execution_count": 58,
   "metadata": {},
   "outputs": [
    {
     "data": {
      "text/plain": [
       "'              precision    recall  f1-score   support\\n\\n           0       0.53      0.11      0.18       484\\n           1       0.56      0.92      0.70       605\\n\\n    accuracy                           0.56      1089\\n   macro avg       0.55      0.52      0.44      1089\\nweighted avg       0.55      0.56      0.47      1089\\n'"
      ]
     },
     "execution_count": 58,
     "metadata": {},
     "output_type": "execute_result"
    }
   ],
   "source": [
    "classif_report(y_true = Y, y_pred = Y_pred,\n",
    "               classes = [0, 1], names = [\"0\", \"1\"], df_out = False)"
   ]
  },
  {
   "cell_type": "markdown",
   "metadata": {},
   "source": [
    "<br>"
   ]
  },
  {
   "cell_type": "markdown",
   "metadata": {},
   "source": [
    "Creiamo un training set ed un test set isolando i dati fino al 2008 compreso per il training e dal 2009 in poi per il test."
   ]
  },
  {
   "cell_type": "code",
   "execution_count": 59,
   "metadata": {},
   "outputs": [],
   "source": [
    "train = wek[wek.Year <= 2008].copy()\n",
    "test = wek[wek.Year > 2008].copy()"
   ]
  },
  {
   "cell_type": "markdown",
   "metadata": {},
   "source": [
    "Addestriamo una regressione logistica usando solo Lag2 come predittore:"
   ]
  },
  {
   "cell_type": "code",
   "execution_count": 60,
   "metadata": {},
   "outputs": [
    {
     "name": "stdout",
     "output_type": "stream",
     "text": [
      "Optimization terminated successfully.\n",
      "         Current function value: 0.685555\n",
      "         Iterations 4\n"
     ]
    },
    {
     "data": {
      "text/html": [
       "<table class=\"simpletable\">\n",
       "<tr>\n",
       "    <td></td>       <th>coef</th>     <th>std err</th>      <th>z</th>      <th>P>|z|</th>  <th>[0.025</th>    <th>0.975]</th>  \n",
       "</tr>\n",
       "<tr>\n",
       "  <th>const</th> <td>    0.2033</td> <td>    0.064</td> <td>    3.162</td> <td> 0.002</td> <td>    0.077</td> <td>    0.329</td>\n",
       "</tr>\n",
       "<tr>\n",
       "  <th>Lag2</th>  <td>    0.0581</td> <td>    0.029</td> <td>    2.024</td> <td> 0.043</td> <td>    0.002</td> <td>    0.114</td>\n",
       "</tr>\n",
       "</table>"
      ],
      "text/plain": [
       "<class 'statsmodels.iolib.table.SimpleTable'>"
      ]
     },
     "execution_count": 60,
     "metadata": {},
     "output_type": "execute_result"
    }
   ],
   "source": [
    "Y_train = train.Direction\n",
    "Y_test = test.Direction\n",
    "\n",
    "X_train = train[[\"Lag2\"]]\n",
    "X_test = test[[\"Lag2\"]]\n",
    "X_train = sm.add_constant(X_train)\n",
    "X_test = sm.add_constant(X_test)\n",
    "\n",
    "model = sm.Logit(endog = Y_train, exog = X_train).fit()\n",
    "\n",
    "model.summary().tables[1]"
   ]
  },
  {
   "cell_type": "code",
   "execution_count": 61,
   "metadata": {},
   "outputs": [
    {
     "name": "stdout",
     "output_type": "stream",
     "text": [
      "0.375\n"
     ]
    },
    {
     "data": {
      "text/html": [
       "<div>\n",
       "<style scoped>\n",
       "    .dataframe tbody tr th:only-of-type {\n",
       "        vertical-align: middle;\n",
       "    }\n",
       "\n",
       "    .dataframe tbody tr th {\n",
       "        vertical-align: top;\n",
       "    }\n",
       "\n",
       "    .dataframe thead tr th {\n",
       "        text-align: left;\n",
       "    }\n",
       "</style>\n",
       "<table border=\"1\" class=\"dataframe\">\n",
       "  <thead>\n",
       "    <tr>\n",
       "      <th></th>\n",
       "      <th></th>\n",
       "      <th colspan=\"3\" halign=\"left\">True</th>\n",
       "    </tr>\n",
       "    <tr>\n",
       "      <th></th>\n",
       "      <th></th>\n",
       "      <th>0</th>\n",
       "      <th>1</th>\n",
       "      <th>Total</th>\n",
       "    </tr>\n",
       "  </thead>\n",
       "  <tbody>\n",
       "    <tr>\n",
       "      <th rowspan=\"3\" valign=\"top\">Predicted</th>\n",
       "      <th>0</th>\n",
       "      <td>9</td>\n",
       "      <td>5</td>\n",
       "      <td>14</td>\n",
       "    </tr>\n",
       "    <tr>\n",
       "      <th>1</th>\n",
       "      <td>34</td>\n",
       "      <td>56</td>\n",
       "      <td>90</td>\n",
       "    </tr>\n",
       "    <tr>\n",
       "      <th>Total</th>\n",
       "      <td>43</td>\n",
       "      <td>61</td>\n",
       "      <td>104</td>\n",
       "    </tr>\n",
       "  </tbody>\n",
       "</table>\n",
       "</div>"
      ],
      "text/plain": [
       "                True          \n",
       "                   0   1 Total\n",
       "Predicted 0        9   5    14\n",
       "          1       34  56    90\n",
       "          Total   43  61   104"
      ]
     },
     "execution_count": 61,
     "metadata": {},
     "output_type": "execute_result"
    }
   ],
   "source": [
    "Y_prob = model.predict(X_test)\n",
    "Y_pred = np.where(Y_prob > 0.5, 1, 0)\n",
    "\n",
    "print(zero_one_loss(Y_test, Y_pred))\n",
    "pretty_cm(Y_test, Y_pred, classes = [0, 1])"
   ]
  },
  {
   "cell_type": "markdown",
   "metadata": {},
   "source": [
    "<br>"
   ]
  },
  {
   "cell_type": "markdown",
   "metadata": {},
   "source": [
    "Proviamo con LDA, QDA e KNN:"
   ]
  },
  {
   "cell_type": "code",
   "execution_count": 62,
   "metadata": {},
   "outputs": [],
   "source": [
    "Y_train = train.Direction\n",
    "Y_test = test.Direction\n",
    "\n",
    "X_train = train[[\"Lag2\"]]\n",
    "X_test = test[[\"Lag2\"]]"
   ]
  },
  {
   "cell_type": "code",
   "execution_count": 63,
   "metadata": {},
   "outputs": [
    {
     "name": "stdout",
     "output_type": "stream",
     "text": [
      "0.375\n"
     ]
    },
    {
     "data": {
      "text/html": [
       "<div>\n",
       "<style scoped>\n",
       "    .dataframe tbody tr th:only-of-type {\n",
       "        vertical-align: middle;\n",
       "    }\n",
       "\n",
       "    .dataframe tbody tr th {\n",
       "        vertical-align: top;\n",
       "    }\n",
       "\n",
       "    .dataframe thead tr th {\n",
       "        text-align: left;\n",
       "    }\n",
       "</style>\n",
       "<table border=\"1\" class=\"dataframe\">\n",
       "  <thead>\n",
       "    <tr>\n",
       "      <th></th>\n",
       "      <th></th>\n",
       "      <th colspan=\"3\" halign=\"left\">True</th>\n",
       "    </tr>\n",
       "    <tr>\n",
       "      <th></th>\n",
       "      <th></th>\n",
       "      <th>0</th>\n",
       "      <th>1</th>\n",
       "      <th>Total</th>\n",
       "    </tr>\n",
       "  </thead>\n",
       "  <tbody>\n",
       "    <tr>\n",
       "      <th rowspan=\"3\" valign=\"top\">Predicted</th>\n",
       "      <th>0</th>\n",
       "      <td>9</td>\n",
       "      <td>5</td>\n",
       "      <td>14</td>\n",
       "    </tr>\n",
       "    <tr>\n",
       "      <th>1</th>\n",
       "      <td>34</td>\n",
       "      <td>56</td>\n",
       "      <td>90</td>\n",
       "    </tr>\n",
       "    <tr>\n",
       "      <th>Total</th>\n",
       "      <td>43</td>\n",
       "      <td>61</td>\n",
       "      <td>104</td>\n",
       "    </tr>\n",
       "  </tbody>\n",
       "</table>\n",
       "</div>"
      ],
      "text/plain": [
       "                True          \n",
       "                   0   1 Total\n",
       "Predicted 0        9   5    14\n",
       "          1       34  56    90\n",
       "          Total   43  61   104"
      ]
     },
     "execution_count": 63,
     "metadata": {},
     "output_type": "execute_result"
    }
   ],
   "source": [
    "model = LinearDiscriminantAnalysis(solver = \"svd\")\n",
    "model.fit(X_train, Y_train)\n",
    "\n",
    "Y_pred = model.predict(X_test)\n",
    "\n",
    "print(zero_one_loss(Y_test, Y_pred))\n",
    "pretty_cm(y_true = Y_test, y_pred = Y_pred, classes = model.classes_)"
   ]
  },
  {
   "cell_type": "markdown",
   "metadata": {},
   "source": [
    "La LDA è identica alla regressione logistica in questo caso."
   ]
  },
  {
   "cell_type": "code",
   "execution_count": 64,
   "metadata": {},
   "outputs": [
    {
     "name": "stdout",
     "output_type": "stream",
     "text": [
      "0.41346153846153844\n"
     ]
    },
    {
     "data": {
      "text/html": [
       "<div>\n",
       "<style scoped>\n",
       "    .dataframe tbody tr th:only-of-type {\n",
       "        vertical-align: middle;\n",
       "    }\n",
       "\n",
       "    .dataframe tbody tr th {\n",
       "        vertical-align: top;\n",
       "    }\n",
       "\n",
       "    .dataframe thead tr th {\n",
       "        text-align: left;\n",
       "    }\n",
       "</style>\n",
       "<table border=\"1\" class=\"dataframe\">\n",
       "  <thead>\n",
       "    <tr>\n",
       "      <th></th>\n",
       "      <th></th>\n",
       "      <th colspan=\"3\" halign=\"left\">True</th>\n",
       "    </tr>\n",
       "    <tr>\n",
       "      <th></th>\n",
       "      <th></th>\n",
       "      <th>0</th>\n",
       "      <th>1</th>\n",
       "      <th>Total</th>\n",
       "    </tr>\n",
       "  </thead>\n",
       "  <tbody>\n",
       "    <tr>\n",
       "      <th rowspan=\"3\" valign=\"top\">Predicted</th>\n",
       "      <th>0</th>\n",
       "      <td>0</td>\n",
       "      <td>0</td>\n",
       "      <td>0</td>\n",
       "    </tr>\n",
       "    <tr>\n",
       "      <th>1</th>\n",
       "      <td>43</td>\n",
       "      <td>61</td>\n",
       "      <td>104</td>\n",
       "    </tr>\n",
       "    <tr>\n",
       "      <th>Total</th>\n",
       "      <td>43</td>\n",
       "      <td>61</td>\n",
       "      <td>104</td>\n",
       "    </tr>\n",
       "  </tbody>\n",
       "</table>\n",
       "</div>"
      ],
      "text/plain": [
       "                True          \n",
       "                   0   1 Total\n",
       "Predicted 0        0   0     0\n",
       "          1       43  61   104\n",
       "          Total   43  61   104"
      ]
     },
     "execution_count": 64,
     "metadata": {},
     "output_type": "execute_result"
    }
   ],
   "source": [
    "model = QuadraticDiscriminantAnalysis()\n",
    "model.fit(X_train, Y_train)\n",
    "\n",
    "Y_pred = model.predict(X_test)\n",
    "\n",
    "print(zero_one_loss(Y_test, Y_pred))\n",
    "pretty_cm(y_true = Y_test, y_pred = Y_pred, classes = model.classes_)"
   ]
  },
  {
   "cell_type": "markdown",
   "metadata": {},
   "source": [
    "La QDA va peggio, e addirittura predice solo valori \"Up\" per Direction!"
   ]
  },
  {
   "cell_type": "code",
   "execution_count": 65,
   "metadata": {},
   "outputs": [
    {
     "name": "stdout",
     "output_type": "stream",
     "text": [
      "0.5096153846153846\n"
     ]
    },
    {
     "data": {
      "text/html": [
       "<div>\n",
       "<style scoped>\n",
       "    .dataframe tbody tr th:only-of-type {\n",
       "        vertical-align: middle;\n",
       "    }\n",
       "\n",
       "    .dataframe tbody tr th {\n",
       "        vertical-align: top;\n",
       "    }\n",
       "\n",
       "    .dataframe thead tr th {\n",
       "        text-align: left;\n",
       "    }\n",
       "</style>\n",
       "<table border=\"1\" class=\"dataframe\">\n",
       "  <thead>\n",
       "    <tr>\n",
       "      <th></th>\n",
       "      <th></th>\n",
       "      <th colspan=\"3\" halign=\"left\">True</th>\n",
       "    </tr>\n",
       "    <tr>\n",
       "      <th></th>\n",
       "      <th></th>\n",
       "      <th>0</th>\n",
       "      <th>1</th>\n",
       "      <th>Total</th>\n",
       "    </tr>\n",
       "  </thead>\n",
       "  <tbody>\n",
       "    <tr>\n",
       "      <th rowspan=\"3\" valign=\"top\">Predicted</th>\n",
       "      <th>0</th>\n",
       "      <td>21</td>\n",
       "      <td>31</td>\n",
       "      <td>52</td>\n",
       "    </tr>\n",
       "    <tr>\n",
       "      <th>1</th>\n",
       "      <td>22</td>\n",
       "      <td>30</td>\n",
       "      <td>52</td>\n",
       "    </tr>\n",
       "    <tr>\n",
       "      <th>Total</th>\n",
       "      <td>43</td>\n",
       "      <td>61</td>\n",
       "      <td>104</td>\n",
       "    </tr>\n",
       "  </tbody>\n",
       "</table>\n",
       "</div>"
      ],
      "text/plain": [
       "                True          \n",
       "                   0   1 Total\n",
       "Predicted 0       21  31    52\n",
       "          1       22  30    52\n",
       "          Total   43  61   104"
      ]
     },
     "execution_count": 65,
     "metadata": {},
     "output_type": "execute_result"
    }
   ],
   "source": [
    "model = KNeighborsClassifier(n_neighbors = 1)\n",
    "model.fit(X_train, Y_train)\n",
    "\n",
    "Y_pred = model.predict(X_test)\n",
    "\n",
    "print(zero_one_loss(Y_test, Y_pred))\n",
    "pretty_cm(y_true = Y_test, y_pred = Y_pred, classes = model.classes_)"
   ]
  },
  {
   "cell_type": "markdown",
   "metadata": {},
   "source": [
    "Sembra che il miglior risultato sia ottenuto da LDA e regressione logistica!"
   ]
  },
  {
   "cell_type": "markdown",
   "metadata": {},
   "source": [
    "---"
   ]
  }
 ],
 "metadata": {
  "kernelspec": {
   "display_name": "Python 3",
   "language": "python",
   "name": "python3"
  },
  "language_info": {
   "codemirror_mode": {
    "name": "ipython",
    "version": 3
   },
   "file_extension": ".py",
   "mimetype": "text/x-python",
   "name": "python",
   "nbconvert_exporter": "python",
   "pygments_lexer": "ipython3",
   "version": "3.7.6"
  }
 },
 "nbformat": 4,
 "nbformat_minor": 4
}
