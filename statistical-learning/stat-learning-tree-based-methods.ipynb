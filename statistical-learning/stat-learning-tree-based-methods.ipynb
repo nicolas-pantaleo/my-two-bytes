{
 "cells": [
  {
   "cell_type": "markdown",
   "metadata": {},
   "source": [
    "# Statistical Learning - Tree Based Methods"
   ]
  },
  {
   "cell_type": "markdown",
   "metadata": {},
   "source": [
    "---"
   ]
  },
  {
   "cell_type": "markdown",
   "metadata": {},
   "source": [
    "## Contents"
   ]
  },
  {
   "cell_type": "markdown",
   "metadata": {},
   "source": [
    "### [The Basics of Decision Trees](#basics)\n",
    "   - [Regression Trees](#regression-trees)\n",
    "   - [Classification Trees](#classification-trees)\n",
    "   \n",
    "\n",
    "### [Bagging, Random Forests, Boosting](#bagging-boosting)\n",
    "   - [Bagging](#bagging)\n",
    "   - [Random Forests](#random-forests)\n",
    "   - [Boosting](#boosting)\n",
    "   \n",
    "\n",
    "### [Lab](#lab)"
   ]
  },
  {
   "cell_type": "markdown",
   "metadata": {},
   "source": [
    "---"
   ]
  },
  {
   "cell_type": "markdown",
   "metadata": {},
   "source": [
    "## Import"
   ]
  },
  {
   "cell_type": "code",
   "execution_count": 1,
   "metadata": {},
   "outputs": [],
   "source": [
    "import numpy as np\n",
    "import pandas as pd\n",
    "import matplotlib.pyplot as plt\n",
    "import matplotlib.patheffects as mpe\n",
    "import seaborn as sns\n",
    "\n",
    "from sklearn import preprocessing\n",
    "from sklearn.model_selection import train_test_split\n",
    "from sklearn.metrics import mean_squared_error\n",
    "from sklearn.tree import DecisionTreeClassifier\n",
    "from sklearn.tree import DecisionTreeRegressor\n",
    "from sklearn.tree import plot_tree\n",
    "from sklearn.ensemble import BaggingClassifier\n",
    "from sklearn.ensemble import RandomForestClassifier\n",
    "from sklearn.ensemble import BaggingRegressor\n",
    "from sklearn.ensemble import RandomForestRegressor\n",
    "from sklearn.ensemble import GradientBoostingRegressor\n",
    "\n",
    "np.set_printoptions(suppress=True)\n",
    "%matplotlib inline\n",
    "#plt.style.use(\"fivethirtyeight\")"
   ]
  },
  {
   "cell_type": "markdown",
   "metadata": {},
   "source": [
    "---"
   ]
  },
  {
   "cell_type": "markdown",
   "metadata": {},
   "source": [
    "## Utilities"
   ]
  },
  {
   "cell_type": "code",
   "execution_count": 2,
   "metadata": {},
   "outputs": [],
   "source": [
    "def plot_regr_tree_regions(X1, X2, model, figsize = (8, 4)):\n",
    "    fig, ax = plt.subplots(figsize = figsize)\n",
    "    x_min, x_max = np.array(X1).min() - 1, np.array(X1).max() + 1\n",
    "    y_min, y_max = np.array(X2).min() - 10, np.array(X2).max() + 10\n",
    "    xx, yy = np.meshgrid(np.arange(x_min, x_max, 0.1),\n",
    "                         np.arange(y_min, y_max, 0.1))\n",
    "    plt.tight_layout(h_pad = 0.5, w_pad = 0.5, pad = 2.5)\n",
    "    z = model.predict(np.c_[xx.ravel(), yy.ravel()])\n",
    "    z = z.reshape(xx.shape)\n",
    "    plt.contourf(xx, yy, z, cmap = \"Spectral\", alpha = 0.5)\n",
    "    sns.scatterplot(x = np.array(X1), y = np.array(X2),\n",
    "                    color = \"gainsboro\", edgecolor = \"k\",\n",
    "                    linewidth = 0.8, s = 75, ax = ax)\n",
    "    plt.grid(False)\n",
    "    plt.show()"
   ]
  },
  {
   "cell_type": "markdown",
   "metadata": {},
   "source": [
    "---"
   ]
  },
  {
   "cell_type": "markdown",
   "metadata": {},
   "source": [
    "## Datasets"
   ]
  },
  {
   "cell_type": "code",
   "execution_count": 3,
   "metadata": {},
   "outputs": [
    {
     "data": {
      "text/html": [
       "<div>\n",
       "<style scoped>\n",
       "    .dataframe tbody tr th:only-of-type {\n",
       "        vertical-align: middle;\n",
       "    }\n",
       "\n",
       "    .dataframe tbody tr th {\n",
       "        vertical-align: top;\n",
       "    }\n",
       "\n",
       "    .dataframe thead th {\n",
       "        text-align: right;\n",
       "    }\n",
       "</style>\n",
       "<table border=\"1\" class=\"dataframe\">\n",
       "  <thead>\n",
       "    <tr style=\"text-align: right;\">\n",
       "      <th></th>\n",
       "      <th>AtBat</th>\n",
       "      <th>Hits</th>\n",
       "      <th>HmRun</th>\n",
       "      <th>Runs</th>\n",
       "      <th>RBI</th>\n",
       "      <th>Walks</th>\n",
       "      <th>Years</th>\n",
       "      <th>CAtBat</th>\n",
       "      <th>CHits</th>\n",
       "      <th>CHmRun</th>\n",
       "      <th>CRuns</th>\n",
       "      <th>CRBI</th>\n",
       "      <th>CWalks</th>\n",
       "      <th>League</th>\n",
       "      <th>Division</th>\n",
       "      <th>PutOuts</th>\n",
       "      <th>Assists</th>\n",
       "      <th>Errors</th>\n",
       "      <th>Salary</th>\n",
       "      <th>NewLeague</th>\n",
       "    </tr>\n",
       "  </thead>\n",
       "  <tbody>\n",
       "    <tr>\n",
       "      <th>1</th>\n",
       "      <td>315</td>\n",
       "      <td>81</td>\n",
       "      <td>7</td>\n",
       "      <td>24</td>\n",
       "      <td>38</td>\n",
       "      <td>39</td>\n",
       "      <td>14</td>\n",
       "      <td>3449</td>\n",
       "      <td>835</td>\n",
       "      <td>69</td>\n",
       "      <td>321</td>\n",
       "      <td>414</td>\n",
       "      <td>375</td>\n",
       "      <td>N</td>\n",
       "      <td>W</td>\n",
       "      <td>632</td>\n",
       "      <td>43</td>\n",
       "      <td>10</td>\n",
       "      <td>475.0</td>\n",
       "      <td>N</td>\n",
       "    </tr>\n",
       "    <tr>\n",
       "      <th>2</th>\n",
       "      <td>479</td>\n",
       "      <td>130</td>\n",
       "      <td>18</td>\n",
       "      <td>66</td>\n",
       "      <td>72</td>\n",
       "      <td>76</td>\n",
       "      <td>3</td>\n",
       "      <td>1624</td>\n",
       "      <td>457</td>\n",
       "      <td>63</td>\n",
       "      <td>224</td>\n",
       "      <td>266</td>\n",
       "      <td>263</td>\n",
       "      <td>A</td>\n",
       "      <td>W</td>\n",
       "      <td>880</td>\n",
       "      <td>82</td>\n",
       "      <td>14</td>\n",
       "      <td>480.0</td>\n",
       "      <td>A</td>\n",
       "    </tr>\n",
       "    <tr>\n",
       "      <th>3</th>\n",
       "      <td>496</td>\n",
       "      <td>141</td>\n",
       "      <td>20</td>\n",
       "      <td>65</td>\n",
       "      <td>78</td>\n",
       "      <td>37</td>\n",
       "      <td>11</td>\n",
       "      <td>5628</td>\n",
       "      <td>1575</td>\n",
       "      <td>225</td>\n",
       "      <td>828</td>\n",
       "      <td>838</td>\n",
       "      <td>354</td>\n",
       "      <td>N</td>\n",
       "      <td>E</td>\n",
       "      <td>200</td>\n",
       "      <td>11</td>\n",
       "      <td>3</td>\n",
       "      <td>500.0</td>\n",
       "      <td>N</td>\n",
       "    </tr>\n",
       "    <tr>\n",
       "      <th>4</th>\n",
       "      <td>321</td>\n",
       "      <td>87</td>\n",
       "      <td>10</td>\n",
       "      <td>39</td>\n",
       "      <td>42</td>\n",
       "      <td>30</td>\n",
       "      <td>2</td>\n",
       "      <td>396</td>\n",
       "      <td>101</td>\n",
       "      <td>12</td>\n",
       "      <td>48</td>\n",
       "      <td>46</td>\n",
       "      <td>33</td>\n",
       "      <td>N</td>\n",
       "      <td>E</td>\n",
       "      <td>805</td>\n",
       "      <td>40</td>\n",
       "      <td>4</td>\n",
       "      <td>91.5</td>\n",
       "      <td>N</td>\n",
       "    </tr>\n",
       "    <tr>\n",
       "      <th>5</th>\n",
       "      <td>594</td>\n",
       "      <td>169</td>\n",
       "      <td>4</td>\n",
       "      <td>74</td>\n",
       "      <td>51</td>\n",
       "      <td>35</td>\n",
       "      <td>11</td>\n",
       "      <td>4408</td>\n",
       "      <td>1133</td>\n",
       "      <td>19</td>\n",
       "      <td>501</td>\n",
       "      <td>336</td>\n",
       "      <td>194</td>\n",
       "      <td>A</td>\n",
       "      <td>W</td>\n",
       "      <td>282</td>\n",
       "      <td>421</td>\n",
       "      <td>25</td>\n",
       "      <td>750.0</td>\n",
       "      <td>A</td>\n",
       "    </tr>\n",
       "  </tbody>\n",
       "</table>\n",
       "</div>"
      ],
      "text/plain": [
       "   AtBat  Hits  HmRun  Runs  RBI  Walks  Years  CAtBat  CHits  CHmRun  CRuns  \\\n",
       "1    315    81      7    24   38     39     14    3449    835      69    321   \n",
       "2    479   130     18    66   72     76      3    1624    457      63    224   \n",
       "3    496   141     20    65   78     37     11    5628   1575     225    828   \n",
       "4    321    87     10    39   42     30      2     396    101      12     48   \n",
       "5    594   169      4    74   51     35     11    4408   1133      19    501   \n",
       "\n",
       "   CRBI  CWalks League Division  PutOuts  Assists  Errors  Salary NewLeague  \n",
       "1   414     375      N        W      632       43      10   475.0         N  \n",
       "2   266     263      A        W      880       82      14   480.0         A  \n",
       "3   838     354      N        E      200       11       3   500.0         N  \n",
       "4    46      33      N        E      805       40       4    91.5         N  \n",
       "5   336     194      A        W      282      421      25   750.0         A  "
      ]
     },
     "execution_count": 3,
     "metadata": {},
     "output_type": "execute_result"
    }
   ],
   "source": [
    "hit = pd.read_csv(\"data/hitters.csv\").dropna()\n",
    "hit.drop(\"Unnamed: 0\", axis = 1, inplace = True)\n",
    "hit.head()"
   ]
  },
  {
   "cell_type": "code",
   "execution_count": 4,
   "metadata": {},
   "outputs": [
    {
     "data": {
      "text/html": [
       "<div>\n",
       "<style scoped>\n",
       "    .dataframe tbody tr th:only-of-type {\n",
       "        vertical-align: middle;\n",
       "    }\n",
       "\n",
       "    .dataframe tbody tr th {\n",
       "        vertical-align: top;\n",
       "    }\n",
       "\n",
       "    .dataframe thead th {\n",
       "        text-align: right;\n",
       "    }\n",
       "</style>\n",
       "<table border=\"1\" class=\"dataframe\">\n",
       "  <thead>\n",
       "    <tr style=\"text-align: right;\">\n",
       "      <th></th>\n",
       "      <th>Age</th>\n",
       "      <th>Sex</th>\n",
       "      <th>ChestPain</th>\n",
       "      <th>RestBP</th>\n",
       "      <th>Chol</th>\n",
       "      <th>Fbs</th>\n",
       "      <th>RestECG</th>\n",
       "      <th>MaxHR</th>\n",
       "      <th>ExAng</th>\n",
       "      <th>Oldpeak</th>\n",
       "      <th>Slope</th>\n",
       "      <th>Ca</th>\n",
       "      <th>Thal</th>\n",
       "      <th>AHD</th>\n",
       "    </tr>\n",
       "  </thead>\n",
       "  <tbody>\n",
       "    <tr>\n",
       "      <th>0</th>\n",
       "      <td>63</td>\n",
       "      <td>1</td>\n",
       "      <td>typical</td>\n",
       "      <td>145</td>\n",
       "      <td>233</td>\n",
       "      <td>1</td>\n",
       "      <td>2</td>\n",
       "      <td>150</td>\n",
       "      <td>0</td>\n",
       "      <td>2.3</td>\n",
       "      <td>3</td>\n",
       "      <td>0.0</td>\n",
       "      <td>fixed</td>\n",
       "      <td>No</td>\n",
       "    </tr>\n",
       "    <tr>\n",
       "      <th>1</th>\n",
       "      <td>67</td>\n",
       "      <td>1</td>\n",
       "      <td>asymptomatic</td>\n",
       "      <td>160</td>\n",
       "      <td>286</td>\n",
       "      <td>0</td>\n",
       "      <td>2</td>\n",
       "      <td>108</td>\n",
       "      <td>1</td>\n",
       "      <td>1.5</td>\n",
       "      <td>2</td>\n",
       "      <td>3.0</td>\n",
       "      <td>normal</td>\n",
       "      <td>Yes</td>\n",
       "    </tr>\n",
       "    <tr>\n",
       "      <th>2</th>\n",
       "      <td>67</td>\n",
       "      <td>1</td>\n",
       "      <td>asymptomatic</td>\n",
       "      <td>120</td>\n",
       "      <td>229</td>\n",
       "      <td>0</td>\n",
       "      <td>2</td>\n",
       "      <td>129</td>\n",
       "      <td>1</td>\n",
       "      <td>2.6</td>\n",
       "      <td>2</td>\n",
       "      <td>2.0</td>\n",
       "      <td>reversable</td>\n",
       "      <td>Yes</td>\n",
       "    </tr>\n",
       "    <tr>\n",
       "      <th>3</th>\n",
       "      <td>37</td>\n",
       "      <td>1</td>\n",
       "      <td>nonanginal</td>\n",
       "      <td>130</td>\n",
       "      <td>250</td>\n",
       "      <td>0</td>\n",
       "      <td>0</td>\n",
       "      <td>187</td>\n",
       "      <td>0</td>\n",
       "      <td>3.5</td>\n",
       "      <td>3</td>\n",
       "      <td>0.0</td>\n",
       "      <td>normal</td>\n",
       "      <td>No</td>\n",
       "    </tr>\n",
       "    <tr>\n",
       "      <th>4</th>\n",
       "      <td>41</td>\n",
       "      <td>0</td>\n",
       "      <td>nontypical</td>\n",
       "      <td>130</td>\n",
       "      <td>204</td>\n",
       "      <td>0</td>\n",
       "      <td>2</td>\n",
       "      <td>172</td>\n",
       "      <td>0</td>\n",
       "      <td>1.4</td>\n",
       "      <td>1</td>\n",
       "      <td>0.0</td>\n",
       "      <td>normal</td>\n",
       "      <td>No</td>\n",
       "    </tr>\n",
       "  </tbody>\n",
       "</table>\n",
       "</div>"
      ],
      "text/plain": [
       "   Age  Sex     ChestPain  RestBP  Chol  Fbs  RestECG  MaxHR  ExAng  Oldpeak  \\\n",
       "0   63    1       typical     145   233    1        2    150      0      2.3   \n",
       "1   67    1  asymptomatic     160   286    0        2    108      1      1.5   \n",
       "2   67    1  asymptomatic     120   229    0        2    129      1      2.6   \n",
       "3   37    1    nonanginal     130   250    0        0    187      0      3.5   \n",
       "4   41    0    nontypical     130   204    0        2    172      0      1.4   \n",
       "\n",
       "   Slope   Ca        Thal  AHD  \n",
       "0      3  0.0       fixed   No  \n",
       "1      2  3.0      normal  Yes  \n",
       "2      2  2.0  reversable  Yes  \n",
       "3      3  0.0      normal   No  \n",
       "4      1  0.0      normal   No  "
      ]
     },
     "execution_count": 4,
     "metadata": {},
     "output_type": "execute_result"
    }
   ],
   "source": [
    "hea = pd.read_csv(\"data/heart.csv\").dropna()\n",
    "hea.drop(\"Unnamed: 0\", axis = 1, inplace = True)\n",
    "hea.head()"
   ]
  },
  {
   "cell_type": "markdown",
   "metadata": {},
   "source": [
    "---"
   ]
  },
  {
   "cell_type": "markdown",
   "metadata": {},
   "source": [
    "<a id=\"basics\"></a>\n",
    "# The Basics of Decision Trees"
   ]
  },
  {
   "cell_type": "markdown",
   "metadata": {},
   "source": [
    "I *decision tree* sono dei *learning method* capaci di risolvere problemi di regressione e classificazione che si basano su un concetto di *stratificazione* o *segmentazione* del *predictor space* in regioni distinte. Per realizzare la *predict* di una certa osservazione, utilizzano la media o la moda delle *response* delle osservazioni di *training* che appartengono alla regione in cui ricade l'osservazione di test."
   ]
  },
  {
   "cell_type": "markdown",
   "metadata": {},
   "source": [
    "---"
   ]
  },
  {
   "cell_type": "markdown",
   "metadata": {},
   "source": [
    "<a id=\"regression-trees\"></a>\n",
    "## Regression Trees"
   ]
  },
  {
   "cell_type": "markdown",
   "metadata": {},
   "source": [
    "Utilizzeremo il dataset *Hitters* per predire il *Salary* di un giocatore di baseball in base al numero di *Years* che ha giocato in campionato e il numero di *Hits* realizzati nell'anno precedente."
   ]
  },
  {
   "cell_type": "code",
   "execution_count": 5,
   "metadata": {},
   "outputs": [
    {
     "data": {
      "text/plain": [
       "DecisionTreeRegressor(ccp_alpha=0.0, criterion='mse', max_depth=None,\n",
       "                      max_features=None, max_leaf_nodes=3,\n",
       "                      min_impurity_decrease=0.0, min_impurity_split=None,\n",
       "                      min_samples_leaf=1, min_samples_split=2,\n",
       "                      min_weight_fraction_leaf=0.0, presort='deprecated',\n",
       "                      random_state=None, splitter='best')"
      ]
     },
     "execution_count": 5,
     "metadata": {},
     "output_type": "execute_result"
    }
   ],
   "source": [
    "features = [\"Years\", \"Hits\"]\n",
    "response = \"Salary\"\n",
    "\n",
    "X = hit[features].copy()\n",
    "Y = np.log(hit[response]).copy()\n",
    "\n",
    "model = DecisionTreeRegressor(max_leaf_nodes = 3)\n",
    "model.fit(X, Y)"
   ]
  },
  {
   "cell_type": "code",
   "execution_count": 6,
   "metadata": {},
   "outputs": [
    {
     "data": {
      "image/png": "[encoded data removed]",
      "text/plain": [
       "<Figure size 576x432 with 1 Axes>"
      ]
     },
     "metadata": {
      "needs_background": "light"
     },
     "output_type": "display_data"
    }
   ],
   "source": [
    "fig, ax = plt.subplots(figsize = (8, 6))\n",
    "__ = plot_tree(decision_tree = model, feature_names = features,\n",
    "               filled = True, proportion = True, precision = 2,\n",
    "               fontsize = 12, ax = ax)"
   ]
  },
  {
   "cell_type": "code",
   "execution_count": 7,
   "metadata": {},
   "outputs": [
    {
     "data": {
      "image/png": "[encoded data removed]",
      "text/plain": [
       "<Figure size 576x288 with 1 Axes>"
      ]
     },
     "metadata": {
      "needs_background": "light"
     },
     "output_type": "display_data"
    }
   ],
   "source": [
    "plot_regr_tree_regions(X1 = X.Years, X2 = X.Hits, model = model)"
   ]
  },
  {
   "cell_type": "markdown",
   "metadata": {},
   "source": [
    "Il *top split* assegna i giocatori con meno di 4.5 anni al branch sinistro. Da notare come il valore di soglia sia sempre il punto medio fra due valori contigui, così da non creare ambiguità (la colonna *Years* è un array di interi, quindi non ha senso parlare di 4.5 anni).\n",
    "\n",
    "Il salary predetto per questi giocatori sarà il valore medio della *response* per le osservazioni in quella regione, cioè circa 165K dollari."
   ]
  },
  {
   "cell_type": "code",
   "execution_count": 8,
   "metadata": {},
   "outputs": [
    {
     "data": {
      "text/plain": [
       "array([165.1393406])"
      ]
     },
     "execution_count": 8,
     "metadata": {},
     "output_type": "execute_result"
    }
   ],
   "source": [
    "X_test = pd.DataFrame({\"Years\": [3], \"Hits\": [10]})\n",
    "np.exp(model.predict(X_test))"
   ]
  },
  {
   "cell_type": "markdown",
   "metadata": {},
   "source": [
    "I giocatori con almeno 5 anni vanno nel branch destro, e sono suddivisi nuovamente in base ad *Hits*.\n",
    "\n",
    "L'albero produce tre regioni, anche dette **terminal nodes** o **leaves**, quindi è capace di restituire tre diversi valori di *Salary*.\n",
    "\n",
    "I punti dell'albero in cui il *predictor space* è splittato in due prendono il nome di **internal nodes**. I segmenti dell'albero che connettono i nodi sono detti **branches**."
   ]
  },
  {
   "cell_type": "markdown",
   "metadata": {},
   "source": [
    "Possiamo sicuramente affermare che *Years* è il fattore determinante nella predizione di *Salary*, e che i giocatori con meno esperienza guadagnano di meno di quelli più anziani. Per i giocatori con meno esperienza, entra in gioco *Hits*."
   ]
  },
  {
   "cell_type": "markdown",
   "metadata": {},
   "source": [
    "<br>"
   ]
  },
  {
   "cell_type": "markdown",
   "metadata": {},
   "source": [
    "Per costruire un *regression tree* sono necessari due step:\n",
    "- Dividere il *predictor space* in $J$ regioni distinte e non sovrapposte $R_1,\\dots,R_J$.\n",
    "\n",
    "\n",
    "- Per ogni osservazione che ricade nella regione $R_j$ si restituisce la stessa *prediction*, cioè la media della *response* di tutte le osservazioni di *training* associate alla regione $R_j$."
   ]
  },
  {
   "cell_type": "markdown",
   "metadata": {},
   "source": [
    "Teoricamente, le regioni potrebbero assumere qualsiasi forma, ma per semplicità di interpretazione dei risultati è stato scelto di dividere il *predictor space* in rettangoli o *boxes*. L'obiettivo, quindi, è individuare i *box* $R_1,\\dots,R_j$ che minimizzano una *RSS* così definita:"
   ]
  },
  {
   "cell_type": "markdown",
   "metadata": {},
   "source": [
    "$$\\large minimize\\; RSS=\\sum_{j=1}^{J}\\sum_{i\\in R_j}(y_i-\\hat{y}_{R_j})^2$$"
   ]
  },
  {
   "cell_type": "markdown",
   "metadata": {},
   "source": [
    "Dove $\\hat{y}_{R_j}$ è il valor medio della *response* per le osservazioni di *training* nella regione $R_j$.\n",
    "\n",
    "Sfortunatamente non è possibile considerare ogni possibile partizione del *feature space*, perciò si è scelto di seguire un approccio *top-down* e *greedy* che prende il nome di **recursive binary splitting**.\n",
    "\n",
    "L'approccio è *top-down* perché inizia la propria analisi dalla cima dell'albero, dove tutte le osservazioni appartengono ad un'unica regione fittizia; è *greedy* perché la decisione riguardo un singolo *split* si basa solo sulle informazioni a disposizione nel momento in cui è calcolato, e non sui risultati delle proiezioni future che lo *split* in questione potrebbe causare."
   ]
  },
  {
   "cell_type": "markdown",
   "metadata": {},
   "source": [
    "Per realizzare il *recursive binary splitting* è necessario individuare il predittore $X_j$ ed il **cutpoint** $s$ per i quali lo split del *predictor space* nelle regioni $\\{X|X_j<s\\}$ e $\\{X|X_j\\geq s\\}$ porta alla maggiore riduzione possibile di *RSS*.\n",
    "\n",
    "In altre parole, si considerano tutti i predittori $X_1,\\dots,X_p$ e tutti i valori possibili del *cutpoint* $s$ per ciascuno di essi, andando poi a scegliere il predittore ed il *cutpoint* capaci di produrre un albero con il più basso valore di *RSS*.\n",
    "\n",
    "A livello matematico, per ciascun valore di $j$ ed $s$ possiamo definire i seguenti semi-piani:"
   ]
  },
  {
   "cell_type": "markdown",
   "metadata": {},
   "source": [
    "$$\\large R_1(j,s)=\\{X|X_j<s\\}\\;\\;\\;R_2(j,s)=\\{X|X_j\\geq s\\}$$"
   ]
  },
  {
   "cell_type": "markdown",
   "metadata": {},
   "source": [
    "E si cercano i valori di $j$ ed $s$ che minimizzano la seguente equazione:"
   ]
  },
  {
   "cell_type": "markdown",
   "metadata": {},
   "source": [
    "$$\\large minimize\\; \\sum_{i:x_i\\in R_1(j,s)}(y_i-\\hat{y}_{R_1})^2+\n",
    "\\sum_{i:x_i\\in R_2(j,s)}(y_i-\\hat{y}_{R_2})^2$$"
   ]
  },
  {
   "cell_type": "markdown",
   "metadata": {},
   "source": [
    "Il processo si ripete cercando il miglior predittore ed il miglior *cutpoint* capaci di splittare ulteriormente i dati per minimizzare la *RSS* delle regioni risultati. La differenza è che, nel secondo step, al posto di splittare l'intero *predictor space* si splitta una delle regioni precedentemente identificate, così da avere in totale tre regioni. Il ciclo continua nel tentativo di splittare ulteriormente una di queste tre regioni, fin quando non si raggiunge un qualche *stopping criterion* definito a priori."
   ]
  },
  {
   "cell_type": "markdown",
   "metadata": {},
   "source": [
    "<br>"
   ]
  },
  {
   "cell_type": "markdown",
   "metadata": {},
   "source": [
    "Il *recursive binary splitting* è un algoritmo che ci permette di addestrare un modello con buone *predictions* sul *training set*, ma che molto probabilmente soffrirà di *overfitting* e peformerà male sui dati di test.\n",
    "\n",
    "La soluzione più efficiente per risolvere il problema consiste nell'applicare un secondo algoritmo, il **cost complexity pruning** (anche detto *weakest link pruning*) sull'albero restituito dal *recursive binary splitting*.\n",
    "\n",
    "Il processo di *pruning* si basa sull'assunto secondo il quale è possibile che un albero più piccolo di quello costruito dal *RBS*, cioè caratterizzato da un numero inferiore di regioni e quindi di *splits*, possa presentare molta meno varianza e solo una minima differenza di bias, riuscendo così a fornire risultati migliori sui dati di test."
   ]
  },
  {
   "cell_type": "markdown",
   "metadata": {},
   "source": [
    "Al posto di considerare tutti i possibili sotto-alberi ricavabili dall'albero generale, si introduce un **tuning parameter** $\\alpha$ che modifica il problema di minimizzazione come segue:"
   ]
  },
  {
   "cell_type": "markdown",
   "metadata": {},
   "source": [
    "$$\\large \\sum_{m=1}^{n_T}\\sum_{i:x_i\\in R_{m}}(y_i-\\hat{y}_{R_m})^2+\n",
    "\\alpha\\cdot n_T$$"
   ]
  },
  {
   "cell_type": "markdown",
   "metadata": {},
   "source": [
    "Semplifichiamo: a partire dall'albero totale $T_{tot}$ posso estrarre diversi alberi $T$ che contengono un numero di foglie (e quindi di regioni) pari a $n_T$; ogni regione sarà associata ad un suo valore di *RSS*, come evidenziato dalla seconda sommatoria, ma il calcolo di quest'ultima conterrà una penalità pari al *tuning parameter* moltiplicato per il numero di foglie dell'albero.\n",
    "\n",
    "In altre parole, per ogni possibile valore di $\\alpha$ (che è sempre positivo), esisterà sempre un sotto-albero dell'albero totale che minimizza la precedente equazione; questo vuol dire che ci sarà un rapporto 1:1 fra i valori di $\\alpha$ e il sotto-albero che minimizza il problema.\n",
    "\n",
    "Il *tuning parameter* controlla il *trade-off* fra la complessità del sotto-albero (cioè il suo numero di foglie) e la capacità di quest'ultimo di *fittare* i dati di *training*. Se $\\alpha=0$, si ottiene nuovamente l'albero generale perché è come se non ci sia alcuna penalità per restituire un albero con tante foglie.\n",
    "\n",
    "Il valore di $\\alpha$ può essere ricavato con la *cross-validation*!"
   ]
  },
  {
   "cell_type": "markdown",
   "metadata": {},
   "source": [
    "---"
   ]
  },
  {
   "cell_type": "markdown",
   "metadata": {},
   "source": [
    "<a id=\"classification-trees\"></a>\n",
    "## Classification Trees"
   ]
  },
  {
   "cell_type": "markdown",
   "metadata": {},
   "source": [
    "Un *classification tree* è molto simile ad un *regression tree*, ma la *prediction* restituita per la generica osservazione non è più la *response media*, bensì la *most occurring class* della regione in cui essa ricade.\n",
    "\n",
    "Così come per la recressione, si utilizza il *recursive binary splitting* per costruire l'albero con approccio *top-down*, ma la metrica di riferimento per il problema di minimizzazione non è più la *RSS* ma l'*error rate*, cioè la frazione di osservazioni della regione in questione che non appartengono alla *most common class*.\n",
    "\n",
    "Da un punto di vista più matematico:"
   ]
  },
  {
   "cell_type": "markdown",
   "metadata": {},
   "source": [
    "$$\\large Error\\;Rate=1-max_{k}(\\hat{p}_{mk})$$"
   ]
  },
  {
   "cell_type": "markdown",
   "metadata": {},
   "source": [
    "Il valore di $\\hat{p}_{mk}$ è la proporzione di osservazioni della regione $m$ che appartengono alla classe $k$. E' stato dimostrato, però, che l'*error rate* non è particolarmente adatto alla costruzione dell'albero, pertanto si è soliti fare riferimento ad altre due metriche: il *gini index* e l'*entropy*."
   ]
  },
  {
   "cell_type": "markdown",
   "metadata": {},
   "source": [
    "Il **gini index** è definito come segue:"
   ]
  },
  {
   "cell_type": "markdown",
   "metadata": {},
   "source": [
    "$$\\large G=\\sum_{k=1}^{K}\\hat{p}_{mk}(1-\\hat{p}_{mk})$$"
   ]
  },
  {
   "cell_type": "markdown",
   "metadata": {},
   "source": [
    "Questa metrica può essere calcolata in qualunque nodo dell'albero, anche alla sua radice, e rappresenta una sorta di misurazione della variabilità totale di tutte le $K$ classi. Possiamo notare come il *gini* assuma valori più bassi se tutte le proporzioni $\\hat{p}_{mk}$ sono vicine a zero o ad uno; per questo motivo si dice che il *gini* è in realtà una misura di **purity** del nodo. Valori bassi di *gini* indicano che il nodo in questione contiene prevalentemente osservazioni di una sola classe e quindi è più puro."
   ]
  },
  {
   "cell_type": "markdown",
   "metadata": {},
   "source": [
    "Un'alternativa al *gini index* è l'**entropy**:"
   ]
  },
  {
   "cell_type": "markdown",
   "metadata": {},
   "source": [
    "$$\\large D=-\\sum_{k=1}^{K}\\hat{p}_{mk}log\\hat{p}_{mk}$$"
   ]
  },
  {
   "cell_type": "markdown",
   "metadata": {},
   "source": [
    "Dato che tutte le proporzioni sono nativamente comprese in $[0, 1]$, si nota come la quantità $-\\hat{p}_{mk}log\\hat{p}_{mk}$ sia sempre positiva. Inoltre, così come per il *gini*, l'entropia assume valori minimi se tutte le proporzioni sono vicine a zero o ad uno."
   ]
  },
  {
   "cell_type": "markdown",
   "metadata": {},
   "source": [
    "Facciamo un esempio con il dataset *Heart*, provando a predire *HD* (*heart disease*):"
   ]
  },
  {
   "cell_type": "code",
   "execution_count": 9,
   "metadata": {},
   "outputs": [
    {
     "data": {
      "text/plain": [
       "DecisionTreeClassifier(ccp_alpha=0.0, class_weight=None, criterion='gini',\n",
       "                       max_depth=None, max_features=None, max_leaf_nodes=6,\n",
       "                       min_impurity_decrease=0.0, min_impurity_split=None,\n",
       "                       min_samples_leaf=1, min_samples_split=2,\n",
       "                       min_weight_fraction_leaf=0.0, presort='deprecated',\n",
       "                       random_state=None, splitter='best')"
      ]
     },
     "execution_count": 9,
     "metadata": {},
     "output_type": "execute_result"
    }
   ],
   "source": [
    "df = hea.copy()\n",
    "df.ChestPain = pd.factorize(df.ChestPain)[0]\n",
    "df.Thal = pd.factorize(df.Thal)[0]\n",
    "\n",
    "X = df.drop(\"AHD\", axis = 1)\n",
    "Y, class_names = pd.factorize(df.AHD)\n",
    "\n",
    "model = DecisionTreeClassifier(\n",
    "    max_depth = None,\n",
    "    max_leaf_nodes = 6,\n",
    "    max_features = None)\n",
    "model.fit(X, Y)"
   ]
  },
  {
   "cell_type": "code",
   "execution_count": 10,
   "metadata": {},
   "outputs": [
    {
     "data": {
      "image/png": "[encoded data removed]",
      "text/plain": [
       "<Figure size 720x504 with 1 Axes>"
      ]
     },
     "metadata": {
      "needs_background": "light"
     },
     "output_type": "display_data"
    }
   ],
   "source": [
    "fig, ax = plt.subplots(figsize = (10, 7))\n",
    "__ = plot_tree(decision_tree = model, feature_names = X.columns,\n",
    "               class_names = class_names, filled = True,\n",
    "               proportion = False, precision = 2,\n",
    "               fontsize = 12, ax = ax)"
   ]
  },
  {
   "cell_type": "markdown",
   "metadata": {},
   "source": [
    "---"
   ]
  },
  {
   "cell_type": "markdown",
   "metadata": {},
   "source": [
    "<a id=\"bagging-boosting\"></a>\n",
    "# Bagging, Random Forests, Boosting"
   ]
  },
  {
   "cell_type": "markdown",
   "metadata": {},
   "source": [
    "---"
   ]
  },
  {
   "cell_type": "markdown",
   "metadata": {},
   "source": [
    "<a id=\"bagging\"></a>\n",
    "## Bagging"
   ]
  },
  {
   "cell_type": "markdown",
   "metadata": {},
   "source": [
    "Il *learning method* che porta alla costruzione dei *decision tree* è nativamente caratterizzato da alta varianza, cioè tende a produrre modelli molto diversi in corrispondenza di piccole variazioni del *training set*.\n",
    "\n",
    "Il **bagging**, anche detto **bootstrap aggregating**, è una tecnica ideata per ridurre la varianza di un metodo di *statistical learning* che funziona particolarmente bene sui *decision tree*."
   ]
  },
  {
   "cell_type": "markdown",
   "metadata": {},
   "source": [
    "L'idea di fondo consiste nell'estrarre tanti *training set* dalla popolazione e addestrare un modello per ciascuno di essi, con l'idea di restituire come *prediction* finale la media delle *predict* dei singoli modelli."
   ]
  },
  {
   "cell_type": "markdown",
   "metadata": {},
   "source": [
    "$$\\large \\hat{f}_{avg}(x)=\\frac{1}{B}\\sum_{b=1}^{B}\\hat{f}^b(x)$$"
   ]
  },
  {
   "cell_type": "markdown",
   "metadata": {},
   "source": [
    "All'atto pratico, però, è impossibile estrarre più *training set* dalla popolazione, ed è quindi necessario ricorrere al *bootstrapping*: i singoli modelli saranno addestrati a partire da $B$ *bootstrapped dataset* e la *prediction* finale sarà la media delle loro singole *predict*."
   ]
  },
  {
   "cell_type": "markdown",
   "metadata": {},
   "source": [
    "Nell'ambito dei *decision tree*, il procedimento non cambia: si costruiscono $B$ alberi usando $B$ *bootstrapped datasets* e ne si calcola il valore medio delle *predictions*. Specifichiamo che gli alberi che alimentano il *bagging* non subiscono alcun *pruning*, pertanto ognuno di essi sarà caratterizzato da altissima varianza e bias minimo.\n",
    "\n",
    "Per quanto riguarda i *classification tree*, la *prediction* finale si basa sul **majority vote**: la classe restituita è quella che ricorre più spesso nelle *predict* dei singoli alberi.\n",
    "\n",
    "E' bene sottolineare che il numero di alberi $B$ che costituiscono un modello di *bagging* non risulta essere un iperparametro critico per le performance del modello. In altre parole, scegliere $B$ molto alto non porta all'*overfitting*: basta cercare un valore tale da offrire buone performance sui dati di test."
   ]
  },
  {
   "cell_type": "markdown",
   "metadata": {},
   "source": [
    "<br>"
   ]
  },
  {
   "cell_type": "markdown",
   "metadata": {},
   "source": [
    "In realtà esiste un metodo molto semplice per stimare il *test error* di un modello di *bagging* senza dover usare la *cross-validation*.\n",
    "\n",
    "E' possibile dimostrare, infatti, che ogni singolo albero è alimentato da circa $2/3$ delle osservazioni del *training set* originale; il rimanente $1/3$ prende il nome di **out-of-bag** *dataset*. Potremmo predire la *response* della $i$-esima osservazione utilizzando tutti gli alberi in cui quella precisa osservazione era in *OOB*. Questo approccio dovrebbe garantirci circa $B/3$ *predict* per l'osservazione $i$-esima!\n",
    "\n",
    "In questa maniera siamo in grado di calcolare un *OOB MSE* o un *OOB Error Rate* in base al task in analisi e usarlo come stima del *test error* del modello."
   ]
  },
  {
   "cell_type": "markdown",
   "metadata": {},
   "source": [
    "<br>"
   ]
  },
  {
   "cell_type": "markdown",
   "metadata": {},
   "source": [
    "Uno svantaggio importante di un modello di *bagging* è la perdità di interpretabilità del modello, specialmente nel caso dei *decision tree*.\n",
    "\n",
    "Ciò che offrono i modelli *bagged*, però, è la descrizione delle **variable importances**, una sorta di *ranking* dei predittori basato su quanto ciascuno di essi sia in grado di spiegare la variabilità della *response*. In particolare, per i *regression tree* si tiene traccia della decrescita di *RSS* dovuta agli split guidati da ciascun predittore, normalizzando in seguito per il numero di alberi $B$ del modello *bagged*; un alto valore di questa metrica indica un predittore fondamentale nella *prediction*. In maniera simile, nei *classification tree* si tiene traccia della decrescita di *gini index* dovuta agli split guidati da ciascun predittore, normalizzando sempre per il numero di alberi $B$."
   ]
  },
  {
   "cell_type": "markdown",
   "metadata": {},
   "source": [
    "---"
   ]
  },
  {
   "cell_type": "markdown",
   "metadata": {},
   "source": [
    "<a id=\"random-forests\"></a>\n",
    "## Random Forests"
   ]
  },
  {
   "cell_type": "markdown",
   "metadata": {},
   "source": [
    "Il *learning method* comunemente chiamato *random forest* segue lo stesso procedimento dei *bagged trees*, ma apporta una sostanziale differenza nella costruzione dei *decision tree*. Nel momento in cui si deve calcolare un qualsiasi split, si estraggono randomicamente $m$ elementi dall'insieme dei $p$ predittori totali e solo uno di essi può essere utilizzato per guidare lo split.\n",
    "\n",
    "Perché forzare l'algoritmo a non considerare gran parte dei predittori per realizzare uno split? E' possibile osservare che, nella maggior parte degli alberi di un modello di *bagged trees*, gli alberi tendono ad utilizzare il predittore più forte come radice dell'albero; così facendo, gli alberi risultanti saranno tutti molto simili tra loro, e quindi le loro *predictions* saranno altamente correlato. Calcolare una media di valori altamente correlati impedisce che ci sia un forte crollo della varianza, che è l'obiettivo primario del processo di *bagging*.\n",
    "\n",
    "In genere, nelle *random forest* si fissa $m\\approx \\sqrt{p}$. Inoltre, come per i *bagged trees*, il numero di alberi $B$ non rappresenta un iperparametro critico: basta scegliere un valore che garantisca un buon valore di *test error*."
   ]
  },
  {
   "cell_type": "markdown",
   "metadata": {},
   "source": [
    "---"
   ]
  },
  {
   "cell_type": "markdown",
   "metadata": {},
   "source": [
    "<a id=\"boosting\"></a>\n",
    "## Boosting"
   ]
  },
  {
   "cell_type": "markdown",
   "metadata": {},
   "source": [
    "Il *boosting*, come il *bagging*, è una tecnica generalizzata che può essere applicata a una gran varietà di *statistical learning methods*, sia di classificazione che di regressione. In questo caso presentiamo solo l'applicazione del *boosting* ai *decision tree*."
   ]
  },
  {
   "cell_type": "markdown",
   "metadata": {},
   "source": [
    "Anche nel *boosting* è necessario costruire una serie di alberi distinti, ma nel *bagging* questi sono costruiti indipendentemente dagli altri, ognuno sulla base di un proprio *bootstrapped dataset*.\n",
    "\n",
    "Nel *boosting*, invece, gli alberi sono costruiti in sequenza: ogni albero si basa sulle informazioni dell'albero che è stato costruito allo step precedente.\n",
    "\n",
    "Presentiamo il procedimento in forma algoritmica per poi approfondirne i dettagli:\n",
    "- Sia $\\hat{f}=0$ e di conseguenza $resid_{i}=y_i$\n",
    "\n",
    "\n",
    "- Per $b=1,\\dots,B$, ripetere i seguenti step:\n",
    "   - Addestrare un albero $\\hat{f}^b$ con $d$ split (e quindi $d+1$ nodi/regioni) usando i residui come *response*; il *training set*, quindi, è $(X,resid)$.\n",
    "<br><br>\n",
    "   - Aggiornare il modello finale $\\hat{f}$ aggiungendo ad esso il contributo di una versione ridotta dell'albero appena costruito:\n",
    "$$\\large \\hat{f}(x)\\leftarrow\\;\\hat{f}(x)+\\lambda \\hat{f}^b(x)$$\n",
    "<br><br>\n",
    "\n",
    "- Aggiornare i residui:\n",
    "$$\\large resid_i\\leftarrow \\; resid_i-\\lambda\\hat{f}^b(x_i)$$\n",
    "<br><br>\n",
    "\n",
    "- Restituire il *boosted model*:\n",
    "$$\\large \\hat{f}(x)=\\sum_{b=1}^{B}\\lambda \\hat{f}^b(x)$$"
   ]
  },
  {
   "cell_type": "markdown",
   "metadata": {},
   "source": [
    "Gli alberi utilizzati possano essere anche molto piccoli; è stato dimostrato che anche con $d=1$ (uno split, due foglie) l'algoritmo funziona molto bene. In tal caso, non si parla di un vero e proprio albero ma di un cosiddetto **stump**.\n",
    "\n",
    "Addestrando degli alberi molto piccoli si migliora lentamente $\\hat{f}$ nelle regioni in cui non performa molto bene. La velocità del processo è guidata dallo **shrinkage parameter** $\\lambda$: si tratta di un piccolo numero positivo, tipicamente fissato pari a $0.01$ o $0.001$ (in realtà dipende dal problema), che controlla l'entità della *predict* del generico albero che va a finire nel modello finale. Appare chiaro, inoltre, che con $\\lambda$ molto piccolo avremo bisogno di un grande valore di $B$ per raggiungere performance accettabili.\n",
    "\n",
    "Anche il parametro $d$, cioè l'**interaction depth** ha un ruolo importante: $d$ *splits*, infatti, possono coinvolgere al massimo $d$ predittori, e quindi questo iperparametro ha il compito di controllare la complessità dei singoli alberi intermedi."
   ]
  },
  {
   "cell_type": "markdown",
   "metadata": {},
   "source": [
    "---"
   ]
  },
  {
   "cell_type": "markdown",
   "metadata": {},
   "source": [
    "<a id=\"lab\"></a>\n",
    "# Lab"
   ]
  },
  {
   "cell_type": "markdown",
   "metadata": {},
   "source": [
    "Carichiamo il dataset *Boston*:"
   ]
  },
  {
   "cell_type": "code",
   "execution_count": 11,
   "metadata": {},
   "outputs": [],
   "source": [
    "bost = pd.read_csv(\"data/boston.csv\")\n",
    "\n",
    "response = \"medv\"\n",
    "X = bost.drop(response, axis = 1)\n",
    "Y = bost[response]\n",
    "\n",
    "X_train, X_test, Y_train, Y_test = train_test_split(X, Y,\n",
    "                                                    test_size = 0.5,\n",
    "                                                    random_state = 888)"
   ]
  },
  {
   "cell_type": "markdown",
   "metadata": {},
   "source": [
    "Usiamo il *bagging* per predire *medv* con tutti i predittori. Da notare il settaggio di *max_features* che trasforma la *random forest* in un *bagged trees*."
   ]
  },
  {
   "cell_type": "code",
   "execution_count": 12,
   "metadata": {},
   "outputs": [
    {
     "data": {
      "text/plain": [
       "RandomForestRegressor(bootstrap=True, ccp_alpha=0.0, criterion='mse',\n",
       "                      max_depth=None, max_features=13, max_leaf_nodes=None,\n",
       "                      max_samples=None, min_impurity_decrease=0.0,\n",
       "                      min_impurity_split=None, min_samples_leaf=1,\n",
       "                      min_samples_split=2, min_weight_fraction_leaf=0.0,\n",
       "                      n_estimators=100, n_jobs=None, oob_score=False,\n",
       "                      random_state=888, verbose=0, warm_start=False)"
      ]
     },
     "execution_count": 12,
     "metadata": {},
     "output_type": "execute_result"
    }
   ],
   "source": [
    "model = RandomForestRegressor(max_features = len(X.columns),\n",
    "                              random_state = 888)\n",
    "model.fit(X_train, Y_train)"
   ]
  },
  {
   "cell_type": "markdown",
   "metadata": {},
   "source": [
    "*MSE* del *bagged trees*:"
   ]
  },
  {
   "cell_type": "code",
   "execution_count": 13,
   "metadata": {},
   "outputs": [
    {
     "data": {
      "text/plain": [
       "9.12325456521739"
      ]
     },
     "execution_count": 13,
     "metadata": {},
     "output_type": "execute_result"
    }
   ],
   "source": [
    "mean_squared_error(Y_test, model.predict(X_test))"
   ]
  },
  {
   "cell_type": "markdown",
   "metadata": {},
   "source": [
    "DataFrame contenente le *feature importances*:"
   ]
  },
  {
   "cell_type": "code",
   "execution_count": 14,
   "metadata": {},
   "outputs": [
    {
     "data": {
      "text/html": [
       "<div>\n",
       "<style scoped>\n",
       "    .dataframe tbody tr th:only-of-type {\n",
       "        vertical-align: middle;\n",
       "    }\n",
       "\n",
       "    .dataframe tbody tr th {\n",
       "        vertical-align: top;\n",
       "    }\n",
       "\n",
       "    .dataframe thead th {\n",
       "        text-align: right;\n",
       "    }\n",
       "</style>\n",
       "<table border=\"1\" class=\"dataframe\">\n",
       "  <thead>\n",
       "    <tr style=\"text-align: right;\">\n",
       "      <th></th>\n",
       "      <th>importance</th>\n",
       "      <th>predictor</th>\n",
       "    </tr>\n",
       "  </thead>\n",
       "  <tbody>\n",
       "    <tr>\n",
       "      <th>12</th>\n",
       "      <td>0.392572</td>\n",
       "      <td>lstat</td>\n",
       "    </tr>\n",
       "    <tr>\n",
       "      <th>5</th>\n",
       "      <td>0.370881</td>\n",
       "      <td>rm</td>\n",
       "    </tr>\n",
       "    <tr>\n",
       "      <th>0</th>\n",
       "      <td>0.071208</td>\n",
       "      <td>crim</td>\n",
       "    </tr>\n",
       "    <tr>\n",
       "      <th>7</th>\n",
       "      <td>0.065726</td>\n",
       "      <td>dis</td>\n",
       "    </tr>\n",
       "    <tr>\n",
       "      <th>4</th>\n",
       "      <td>0.025131</td>\n",
       "      <td>nox</td>\n",
       "    </tr>\n",
       "    <tr>\n",
       "      <th>9</th>\n",
       "      <td>0.019113</td>\n",
       "      <td>tax</td>\n",
       "    </tr>\n",
       "    <tr>\n",
       "      <th>11</th>\n",
       "      <td>0.016937</td>\n",
       "      <td>black</td>\n",
       "    </tr>\n",
       "    <tr>\n",
       "      <th>6</th>\n",
       "      <td>0.015755</td>\n",
       "      <td>age</td>\n",
       "    </tr>\n",
       "    <tr>\n",
       "      <th>10</th>\n",
       "      <td>0.009444</td>\n",
       "      <td>ptratio</td>\n",
       "    </tr>\n",
       "    <tr>\n",
       "      <th>2</th>\n",
       "      <td>0.006234</td>\n",
       "      <td>indus</td>\n",
       "    </tr>\n",
       "    <tr>\n",
       "      <th>8</th>\n",
       "      <td>0.005414</td>\n",
       "      <td>rad</td>\n",
       "    </tr>\n",
       "    <tr>\n",
       "      <th>1</th>\n",
       "      <td>0.001252</td>\n",
       "      <td>zn</td>\n",
       "    </tr>\n",
       "    <tr>\n",
       "      <th>3</th>\n",
       "      <td>0.000332</td>\n",
       "      <td>chas</td>\n",
       "    </tr>\n",
       "  </tbody>\n",
       "</table>\n",
       "</div>"
      ],
      "text/plain": [
       "    importance predictor\n",
       "12    0.392572     lstat\n",
       "5     0.370881        rm\n",
       "0     0.071208      crim\n",
       "7     0.065726       dis\n",
       "4     0.025131       nox\n",
       "9     0.019113       tax\n",
       "11    0.016937     black\n",
       "6     0.015755       age\n",
       "10    0.009444   ptratio\n",
       "2     0.006234     indus\n",
       "8     0.005414       rad\n",
       "1     0.001252        zn\n",
       "3     0.000332      chas"
      ]
     },
     "execution_count": 14,
     "metadata": {},
     "output_type": "execute_result"
    }
   ],
   "source": [
    "feats_imp = pd.DataFrame({\"importance\": model.feature_importances_,\n",
    "                          \"predictor\": X.columns})\n",
    "feats_imp.sort_values(\"importance\", ascending = False, inplace = True)\n",
    "feats_imp"
   ]
  },
  {
   "cell_type": "markdown",
   "metadata": {},
   "source": [
    "<br>"
   ]
  },
  {
   "cell_type": "markdown",
   "metadata": {},
   "source": [
    "Proviamo con una vera *random forest*. Da notare *max_features* limitato a 6:"
   ]
  },
  {
   "cell_type": "code",
   "execution_count": 15,
   "metadata": {},
   "outputs": [
    {
     "data": {
      "text/plain": [
       "RandomForestRegressor(bootstrap=True, ccp_alpha=0.0, criterion='mse',\n",
       "                      max_depth=None, max_features=6, max_leaf_nodes=None,\n",
       "                      max_samples=None, min_impurity_decrease=0.0,\n",
       "                      min_impurity_split=None, min_samples_leaf=1,\n",
       "                      min_samples_split=2, min_weight_fraction_leaf=0.0,\n",
       "                      n_estimators=100, n_jobs=None, oob_score=False,\n",
       "                      random_state=888, verbose=0, warm_start=False)"
      ]
     },
     "execution_count": 15,
     "metadata": {},
     "output_type": "execute_result"
    }
   ],
   "source": [
    "model = RandomForestRegressor(max_features = 6, random_state = 888)\n",
    "model.fit(X_train, Y_train)"
   ]
  },
  {
   "cell_type": "markdown",
   "metadata": {},
   "source": [
    "Il *MSE* della *random forest* è inferiore, performa meglio sui dati di test!"
   ]
  },
  {
   "cell_type": "code",
   "execution_count": 16,
   "metadata": {},
   "outputs": [
    {
     "data": {
      "text/plain": [
       "7.931917256916995"
      ]
     },
     "execution_count": 16,
     "metadata": {},
     "output_type": "execute_result"
    }
   ],
   "source": [
    "mean_squared_error(Y_test, model.predict(X_test))"
   ]
  },
  {
   "cell_type": "markdown",
   "metadata": {},
   "source": [
    "Ancora *feature importances*:"
   ]
  },
  {
   "cell_type": "code",
   "execution_count": 17,
   "metadata": {},
   "outputs": [
    {
     "data": {
      "text/html": [
       "<div>\n",
       "<style scoped>\n",
       "    .dataframe tbody tr th:only-of-type {\n",
       "        vertical-align: middle;\n",
       "    }\n",
       "\n",
       "    .dataframe tbody tr th {\n",
       "        vertical-align: top;\n",
       "    }\n",
       "\n",
       "    .dataframe thead th {\n",
       "        text-align: right;\n",
       "    }\n",
       "</style>\n",
       "<table border=\"1\" class=\"dataframe\">\n",
       "  <thead>\n",
       "    <tr style=\"text-align: right;\">\n",
       "      <th></th>\n",
       "      <th>importance</th>\n",
       "      <th>predictor</th>\n",
       "    </tr>\n",
       "  </thead>\n",
       "  <tbody>\n",
       "    <tr>\n",
       "      <th>12</th>\n",
       "      <td>0.352864</td>\n",
       "      <td>lstat</td>\n",
       "    </tr>\n",
       "    <tr>\n",
       "      <th>5</th>\n",
       "      <td>0.247413</td>\n",
       "      <td>rm</td>\n",
       "    </tr>\n",
       "    <tr>\n",
       "      <th>0</th>\n",
       "      <td>0.095430</td>\n",
       "      <td>crim</td>\n",
       "    </tr>\n",
       "    <tr>\n",
       "      <th>7</th>\n",
       "      <td>0.070916</td>\n",
       "      <td>dis</td>\n",
       "    </tr>\n",
       "    <tr>\n",
       "      <th>4</th>\n",
       "      <td>0.056749</td>\n",
       "      <td>nox</td>\n",
       "    </tr>\n",
       "    <tr>\n",
       "      <th>10</th>\n",
       "      <td>0.043910</td>\n",
       "      <td>ptratio</td>\n",
       "    </tr>\n",
       "    <tr>\n",
       "      <th>9</th>\n",
       "      <td>0.036592</td>\n",
       "      <td>tax</td>\n",
       "    </tr>\n",
       "    <tr>\n",
       "      <th>2</th>\n",
       "      <td>0.034758</td>\n",
       "      <td>indus</td>\n",
       "    </tr>\n",
       "    <tr>\n",
       "      <th>6</th>\n",
       "      <td>0.030275</td>\n",
       "      <td>age</td>\n",
       "    </tr>\n",
       "    <tr>\n",
       "      <th>11</th>\n",
       "      <td>0.018666</td>\n",
       "      <td>black</td>\n",
       "    </tr>\n",
       "    <tr>\n",
       "      <th>8</th>\n",
       "      <td>0.006814</td>\n",
       "      <td>rad</td>\n",
       "    </tr>\n",
       "    <tr>\n",
       "      <th>3</th>\n",
       "      <td>0.003006</td>\n",
       "      <td>chas</td>\n",
       "    </tr>\n",
       "    <tr>\n",
       "      <th>1</th>\n",
       "      <td>0.002608</td>\n",
       "      <td>zn</td>\n",
       "    </tr>\n",
       "  </tbody>\n",
       "</table>\n",
       "</div>"
      ],
      "text/plain": [
       "    importance predictor\n",
       "12    0.352864     lstat\n",
       "5     0.247413        rm\n",
       "0     0.095430      crim\n",
       "7     0.070916       dis\n",
       "4     0.056749       nox\n",
       "10    0.043910   ptratio\n",
       "9     0.036592       tax\n",
       "2     0.034758     indus\n",
       "6     0.030275       age\n",
       "11    0.018666     black\n",
       "8     0.006814       rad\n",
       "3     0.003006      chas\n",
       "1     0.002608        zn"
      ]
     },
     "execution_count": 17,
     "metadata": {},
     "output_type": "execute_result"
    }
   ],
   "source": [
    "feats_imp = pd.DataFrame({\"importance\": model.feature_importances_,\n",
    "                          \"predictor\": X.columns})\n",
    "feats_imp.sort_values(\"importance\", ascending = False, inplace = True)\n",
    "feats_imp"
   ]
  },
  {
   "cell_type": "markdown",
   "metadata": {},
   "source": [
    "<br>"
   ]
  },
  {
   "cell_type": "markdown",
   "metadata": {},
   "source": [
    "Proviamo con il *boosting*:"
   ]
  },
  {
   "cell_type": "code",
   "execution_count": 18,
   "metadata": {},
   "outputs": [
    {
     "data": {
      "text/plain": [
       "GradientBoostingRegressor(alpha=0.9, ccp_alpha=0.0, criterion='friedman_mse',\n",
       "                          init=None, learning_rate=0.01, loss='ls', max_depth=3,\n",
       "                          max_features=None, max_leaf_nodes=None,\n",
       "                          min_impurity_decrease=0.0, min_impurity_split=None,\n",
       "                          min_samples_leaf=1, min_samples_split=2,\n",
       "                          min_weight_fraction_leaf=0.0, n_estimators=500,\n",
       "                          n_iter_no_change=None, presort='deprecated',\n",
       "                          random_state=888, subsample=1.0, tol=0.0001,\n",
       "                          validation_fraction=0.1, verbose=0, warm_start=False)"
      ]
     },
     "execution_count": 18,
     "metadata": {},
     "output_type": "execute_result"
    }
   ],
   "source": [
    "model = GradientBoostingRegressor(n_estimators = 500,\n",
    "                                  learning_rate = 0.01,\n",
    "                                  random_state = 888)\n",
    "model.fit(X_train, Y_train)"
   ]
  },
  {
   "cell_type": "code",
   "execution_count": 19,
   "metadata": {},
   "outputs": [
    {
     "data": {
      "text/html": [
       "<div>\n",
       "<style scoped>\n",
       "    .dataframe tbody tr th:only-of-type {\n",
       "        vertical-align: middle;\n",
       "    }\n",
       "\n",
       "    .dataframe tbody tr th {\n",
       "        vertical-align: top;\n",
       "    }\n",
       "\n",
       "    .dataframe thead th {\n",
       "        text-align: right;\n",
       "    }\n",
       "</style>\n",
       "<table border=\"1\" class=\"dataframe\">\n",
       "  <thead>\n",
       "    <tr style=\"text-align: right;\">\n",
       "      <th></th>\n",
       "      <th>importance</th>\n",
       "      <th>predictor</th>\n",
       "    </tr>\n",
       "  </thead>\n",
       "  <tbody>\n",
       "    <tr>\n",
       "      <th>12</th>\n",
       "      <td>0.418302</td>\n",
       "      <td>lstat</td>\n",
       "    </tr>\n",
       "    <tr>\n",
       "      <th>5</th>\n",
       "      <td>0.346830</td>\n",
       "      <td>rm</td>\n",
       "    </tr>\n",
       "    <tr>\n",
       "      <th>7</th>\n",
       "      <td>0.084569</td>\n",
       "      <td>dis</td>\n",
       "    </tr>\n",
       "    <tr>\n",
       "      <th>0</th>\n",
       "      <td>0.062730</td>\n",
       "      <td>crim</td>\n",
       "    </tr>\n",
       "    <tr>\n",
       "      <th>10</th>\n",
       "      <td>0.033639</td>\n",
       "      <td>ptratio</td>\n",
       "    </tr>\n",
       "    <tr>\n",
       "      <th>9</th>\n",
       "      <td>0.014659</td>\n",
       "      <td>tax</td>\n",
       "    </tr>\n",
       "    <tr>\n",
       "      <th>4</th>\n",
       "      <td>0.014230</td>\n",
       "      <td>nox</td>\n",
       "    </tr>\n",
       "    <tr>\n",
       "      <th>11</th>\n",
       "      <td>0.010397</td>\n",
       "      <td>black</td>\n",
       "    </tr>\n",
       "    <tr>\n",
       "      <th>6</th>\n",
       "      <td>0.006616</td>\n",
       "      <td>age</td>\n",
       "    </tr>\n",
       "    <tr>\n",
       "      <th>8</th>\n",
       "      <td>0.005448</td>\n",
       "      <td>rad</td>\n",
       "    </tr>\n",
       "    <tr>\n",
       "      <th>2</th>\n",
       "      <td>0.002510</td>\n",
       "      <td>indus</td>\n",
       "    </tr>\n",
       "    <tr>\n",
       "      <th>1</th>\n",
       "      <td>0.000065</td>\n",
       "      <td>zn</td>\n",
       "    </tr>\n",
       "    <tr>\n",
       "      <th>3</th>\n",
       "      <td>0.000006</td>\n",
       "      <td>chas</td>\n",
       "    </tr>\n",
       "  </tbody>\n",
       "</table>\n",
       "</div>"
      ],
      "text/plain": [
       "    importance predictor\n",
       "12    0.418302     lstat\n",
       "5     0.346830        rm\n",
       "7     0.084569       dis\n",
       "0     0.062730      crim\n",
       "10    0.033639   ptratio\n",
       "9     0.014659       tax\n",
       "4     0.014230       nox\n",
       "11    0.010397     black\n",
       "6     0.006616       age\n",
       "8     0.005448       rad\n",
       "2     0.002510     indus\n",
       "1     0.000065        zn\n",
       "3     0.000006      chas"
      ]
     },
     "execution_count": 19,
     "metadata": {},
     "output_type": "execute_result"
    }
   ],
   "source": [
    "feats_imp = pd.DataFrame({\"importance\": model.feature_importances_,\n",
    "                          \"predictor\": X.columns})\n",
    "feats_imp.sort_values(\"importance\", ascending = False, inplace = True)\n",
    "feats_imp"
   ]
  },
  {
   "cell_type": "code",
   "execution_count": 20,
   "metadata": {},
   "outputs": [
    {
     "data": {
      "text/plain": [
       "8.353812213237443"
      ]
     },
     "execution_count": 20,
     "metadata": {},
     "output_type": "execute_result"
    }
   ],
   "source": [
    "mean_squared_error(Y_test, model.predict(X_test))"
   ]
  },
  {
   "cell_type": "markdown",
   "metadata": {},
   "source": [
    "Si può dire che dal punto di vista delle performance è paragonabile alla *RF*, ma andrebbe approfondito con una *CV*."
   ]
  },
  {
   "cell_type": "markdown",
   "metadata": {},
   "source": [
    "---"
   ]
  }
 ],
 "metadata": {
  "kernelspec": {
   "display_name": "Python 3",
   "language": "python",
   "name": "python3"
  },
  "language_info": {
   "codemirror_mode": {
    "name": "ipython",
    "version": 3
   },
   "file_extension": ".py",
   "mimetype": "text/x-python",
   "name": "python",
   "nbconvert_exporter": "python",
   "pygments_lexer": "ipython3",
   "version": "3.7.6"
  }
 },
 "nbformat": 4,
 "nbformat_minor": 4
}
