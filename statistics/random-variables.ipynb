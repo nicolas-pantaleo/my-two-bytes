{
 "cells": [
  {
   "cell_type": "markdown",
   "metadata": {},
   "source": [
    "# Stats Codebook - Random Variables"
   ]
  },
  {
   "cell_type": "markdown",
   "metadata": {},
   "source": [
    "---"
   ]
  },
  {
   "cell_type": "markdown",
   "metadata": {},
   "source": [
    "## Contents"
   ]
  },
  {
   "cell_type": "markdown",
   "metadata": {},
   "source": [
    "- [Definition](#random-variable-definition)\n",
    "- [Expectation](#expectation)\n",
    "- [Variance](#random-variance)\n",
    "- [Independence & Identical Distribution](#iid)\n",
    "- [Covariance](#random-covariance)\n",
    "- [Correlation](#correlation)"
   ]
  },
  {
   "cell_type": "markdown",
   "metadata": {},
   "source": [
    "---"
   ]
  },
  {
   "cell_type": "markdown",
   "metadata": {},
   "source": [
    "<a id=\"random-variable-definition\"></a>\n",
    "# Definition"
   ]
  },
  {
   "cell_type": "markdown",
   "metadata": {},
   "source": [
    "Dato il *sample space* $\\Omega$ di un *random experiment*, una **random variable** $X$ è una funzione che assegna a ciascun elemento del *sample space* $\\omega\\in \\Omega$ uno ed un solo numero reale $X(\\omega)=x$.\n",
    "\n",
    "$$\\large X:\\Omega\\rightarrow \\Re$$"
   ]
  },
  {
   "cell_type": "markdown",
   "metadata": {},
   "source": [
    "Gli *outcome* prodotti dal *random experiment* prendono il nome di **realizations**.\n",
    "\n",
    "Una qualsiasi funzione di *random variables* prende il nome di **statistic**."
   ]
  },
  {
   "cell_type": "markdown",
   "metadata": {},
   "source": [
    "Ogni *random variable* è associata ad un suo **probability space**, un costrutto matematico formato da tre elementi:\n",
    "\n",
    "- Un *sample space*\n",
    "- Un *event space*, cioè l'insieme di eventi costruiti a partire dai *simple events* del *sample space*\n",
    "- Una *probability function*, che associa ad ogni evento dell'*event space* la sua probabilità di occorrenza"
   ]
  },
  {
   "cell_type": "markdown",
   "metadata": {},
   "source": [
    "<br>"
   ]
  },
  {
   "cell_type": "markdown",
   "metadata": {},
   "source": [
    "La **Cumulative Distribution Function** di una *random variable* $X$ è quella funzione che, dato in ingresso un certo valore $x$, restituisce la probabilità che la *realization* di $X$ assuma valore uguale o inferiore ad esso."
   ]
  },
  {
   "cell_type": "markdown",
   "metadata": {},
   "source": [
    "$$\\large F(x)=P(X\\leq x)$$"
   ]
  },
  {
   "cell_type": "markdown",
   "metadata": {},
   "source": [
    "La *CDF* è sempre crescente o costante, non decresce mai, e assume valori solo nell'intervallo $[0, 1]$.\n",
    "\n",
    "La differenza fra l'*ECDF* e la *CDF* è che la prima descrive la distribuzione cumulativa di un *sample* concreto, mentre la seconda modella la distribuzione dell'intera popolazione."
   ]
  },
  {
   "cell_type": "markdown",
   "metadata": {},
   "source": [
    "Un **p-quantile** è quel valore che, se fornito in input alla *CDF*, restituisce esattamente una probabilità pari a *p*. Ad esempio, con $x_{0.25}$ si indica lo 0.25-quantile: la probabilità di osservare un valore *alla sua sinistra* (cioè minore) è pari a $p$ (cioè 0.25), mentre la probabilità di osservare un valore *alla sua destra* (cioè maggiore) è $1-p$ (cioè 0.75)."
   ]
  },
  {
   "cell_type": "markdown",
   "metadata": {},
   "source": [
    "$$\\large F(x_p)=p$$"
   ]
  },
  {
   "cell_type": "markdown",
   "metadata": {},
   "source": [
    "<br>"
   ]
  },
  {
   "cell_type": "markdown",
   "metadata": {},
   "source": [
    "Una *random variable* $X$ si dice **continuous** se esiste una funzione $f(x)$, definita per *tutti* i valori reali, il cui integrale coincide con la *cumulative distribution function* di $X$."
   ]
  },
  {
   "cell_type": "markdown",
   "metadata": {},
   "source": [
    "$$\\large F(x)=\\int_{-\\infty}^{x}f(t)dt$$"
   ]
  },
  {
   "cell_type": "markdown",
   "metadata": {},
   "source": [
    "La funzione $f(x)$ prende il nome di **Probability Density Function** della *random variable* $X$.\n",
    "\n",
    "Ogni *PDF* assume sempre valori positivi o nulli, e l'area totale sottesa alla curva è sempre pari ad uno.\n",
    "\n",
    "Per una *random variable* continua, la probabilità che essa assuma uno specifico valore reale è sempre nulla."
   ]
  },
  {
   "cell_type": "markdown",
   "metadata": {},
   "source": [
    "Sfruttando la definizione di *CDF* e ricordando che la probabilità che $X$ assuma uno specifico valore reale è sempre nulla, possiamo calcolare le probabilità di occorrenza degli *outcome* di $X$ per tutti gli intervalli possibili:"
   ]
  },
  {
   "cell_type": "markdown",
   "metadata": {},
   "source": [
    "- $\\large P(X\\leq a)=P(X<a)=CDF(a)=\\int_{-\\infty}^{a}f(t)dt$\n",
    "\n",
    "\n",
    "- $\\large P(X\\geq a)=P(X>a)=1-CDF(a)=1-\\int_{-\\infty}^{a}f(t)dt$\n",
    "\n",
    "\n",
    "- $\\large P(a\\leq X\\leq b)=CDF(b)-CDF(a)=\\int_{a}^{b}f(t)dt$\n",
    "\n",
    "\n",
    "- $\\large P(a<X<b)=CDF(b)-CDF(a)=\\int_{a}^{b}f(t)dt$"
   ]
  },
  {
   "cell_type": "markdown",
   "metadata": {},
   "source": [
    "<br>"
   ]
  },
  {
   "cell_type": "markdown",
   "metadata": {},
   "source": [
    "Una *random variable* si dice **discrete** se il suo *sample space* contiene un numero finito o *countable* di *simple events*."
   ]
  },
  {
   "cell_type": "markdown",
   "metadata": {},
   "source": [
    "Data una *random variable* discreta $X$, la sua **Probability Mass Function** è la funzione che associa a ciascun valore che $X$ può assumere la sua corrispondente probabilità di occorrenza."
   ]
  },
  {
   "cell_type": "markdown",
   "metadata": {},
   "source": [
    "$$\\large f(X)=P(X=x_i)=p_i$$"
   ]
  },
  {
   "cell_type": "markdown",
   "metadata": {},
   "source": [
    "La *cumulative distribution function* di una *random variable* discreta $X$ è definita come la somma delle probabilità di occorrenza di tutti i valori assunti da $X$ che sono uguali o inferiori rispetto all'input $x$."
   ]
  },
  {
   "cell_type": "markdown",
   "metadata": {},
   "source": [
    "$$\\large F(x)=\\sum_{x_i\\leq x}p_i$$"
   ]
  },
  {
   "cell_type": "markdown",
   "metadata": {},
   "source": [
    "Sfruttando la definizione di *CDF*, possiamo calcolare le probabilità di occorrenza degli *outcome* di $X$ per tutti gli intervalli possibili:"
   ]
  },
  {
   "cell_type": "markdown",
   "metadata": {},
   "source": [
    "- $\\large P(X\\leq a)=CDF(a)$\n",
    "\n",
    "\n",
    "- $\\large P(X<a)=CDF(a)-PMF(a)$\n",
    "\n",
    "\n",
    "- $\\large P(X>a)=1-CDF(a)$\n",
    "\n",
    "\n",
    "- $\\large P(X\\geq a)=1-CDF(a)+PMF(a)$\n",
    "\n",
    "\n",
    "- $\\large P(a\\leq X\\leq b)=CDF(b)-CDF(a)+PMF(a)$\n",
    "\n",
    "\n",
    "- $\\large P(a< X\\leq b)=CDF(b)-CDF(a)$\n",
    "\n",
    "\n",
    "- $\\large P(a< X< b)=CDF(b)-CDF(a)-PMF(b)$\n",
    "\n",
    "\n",
    "- $\\large P(a\\leq X< b)=CDF(b)-CDF(a)+PMF(a)-PMF(b)$"
   ]
  },
  {
   "cell_type": "markdown",
   "metadata": {},
   "source": [
    "---"
   ]
  },
  {
   "cell_type": "markdown",
   "metadata": {},
   "source": [
    "<a id=\"expectation\"></a>\n",
    "## Expectation"
   ]
  },
  {
   "cell_type": "markdown",
   "metadata": {},
   "source": [
    "L'**expectation** di una *random variable* rappresenta il valore centrale della distribuzione della popolazione, lo stesso ruolo che la media aritmetica svolge nei *sample* e nelle *realization*. Per questo motivo, è spesso denotata con $\\mu$. "
   ]
  },
  {
   "cell_type": "markdown",
   "metadata": {},
   "source": [
    "Per una variabile aleatoria **continua**, l'*expectation* può essere calcolata come l'integrale da meno infinito a più infinito del prodotto fra il generico valore $x$ e il valore assunto dalla *probability density function* in tale punto."
   ]
  },
  {
   "cell_type": "markdown",
   "metadata": {},
   "source": [
    "$$\\large \\mu=E(X)=\\int_{-\\infty}^{+\\infty}x\\;f(x)\\;dx$$"
   ]
  },
  {
   "cell_type": "markdown",
   "metadata": {},
   "source": [
    "Per una variabile aleatoria **discreta**, l'*expectation* può essere calcolata come la sommatoria dei prodotti omologhi fra i valori che la variabile può assumere e le corrispondenti probabilità di occorrenza."
   ]
  },
  {
   "cell_type": "markdown",
   "metadata": {},
   "source": [
    "$$\\large \\mu=E(X)=\\sum_{i=1}^{k}x_i\\;p_i$$"
   ]
  },
  {
   "cell_type": "markdown",
   "metadata": {},
   "source": [
    "L'aspettazione di una variabile che assume sempre un valore costante è pari al valore in questione:"
   ]
  },
  {
   "cell_type": "markdown",
   "metadata": {},
   "source": [
    "$$\\large E(a)=a$$"
   ]
  },
  {
   "cell_type": "markdown",
   "metadata": {},
   "source": [
    "L'aspettazione del prodotto fra una variabile ed una costante reale è uguale al prodotto fra la costante e l'aspettazione della variabile:"
   ]
  },
  {
   "cell_type": "markdown",
   "metadata": {},
   "source": [
    "$$\\large E(a\\cdot X)=a\\cdot E(X)$$"
   ]
  },
  {
   "cell_type": "markdown",
   "metadata": {},
   "source": [
    "Sfruttando le due regole precedenti possiamo calcolare l'aspettazione di una variabile definita come la somma fra una costante reale ed il prodotto fra un'altra costante e la variabile stessa."
   ]
  },
  {
   "cell_type": "markdown",
   "metadata": {},
   "source": [
    "$$\\large E(a+b\\cdot X)=a+b\\cdot E(X)$$"
   ]
  },
  {
   "cell_type": "markdown",
   "metadata": {},
   "source": [
    "L'aspettazione della somma di due variabli è pari alla somma delle singole aspettazioni."
   ]
  },
  {
   "cell_type": "markdown",
   "metadata": {},
   "source": [
    "$$\\large E(X+Y)=E(X)+E(Y)$$"
   ]
  },
  {
   "cell_type": "markdown",
   "metadata": {},
   "source": [
    "---"
   ]
  },
  {
   "cell_type": "markdown",
   "metadata": {},
   "source": [
    "<a id=\"random-variance\"></a>\n",
    "## Variance"
   ]
  },
  {
   "cell_type": "markdown",
   "metadata": {},
   "source": [
    "La **variance** di una *random variable* rappresenta l'entità della dispersione rispetto all'*expectation* dei valori assunti dalla variabile. E' spesso denotata con $\\sigma^2$."
   ]
  },
  {
   "cell_type": "markdown",
   "metadata": {},
   "source": [
    "A livello concettuale, la *variance* di una *random variable* $X$ è definita come l'*expectation* al quadrato di $X$ meno il suo il suo valore centrale."
   ]
  },
  {
   "cell_type": "markdown",
   "metadata": {},
   "source": [
    "$$\\large Var(X)=\\sigma^2(X)=E[X-E(X)]^2=E[X-\\mu_X]^2$$"
   ]
  },
  {
   "cell_type": "markdown",
   "metadata": {},
   "source": [
    "Per una *random variable* continua, la varianza si calcola come segue:"
   ]
  },
  {
   "cell_type": "markdown",
   "metadata": {},
   "source": [
    "$$\\large Var(X)=\\int_{-\\infty}^{+\\infty}(x-E(X))^2f(x)dx$$"
   ]
  },
  {
   "cell_type": "markdown",
   "metadata": {},
   "source": [
    "Per una *random variable* discreta, la varianza si calcola come segue:"
   ]
  },
  {
   "cell_type": "markdown",
   "metadata": {},
   "source": [
    "$$\\large Var(X)=\\sum_i\\left(x_i-E(X)\\right)^2\\; p_i$$"
   ]
  },
  {
   "cell_type": "markdown",
   "metadata": {},
   "source": [
    "La radice quadrata della *variance* è definita come la **standard deviation** della *random variable*.\n",
    "\n",
    "La deviazione standard ha la stessa unità di misura delle osservazioni in analisi, e descrive la deviazione media dei valori assunti dalla *random variable* rispetto alla corrispondente *expectation*."
   ]
  },
  {
   "cell_type": "markdown",
   "metadata": {},
   "source": [
    "$$\\large Std(X)=\\sqrt{Var(X)}$$"
   ]
  },
  {
   "cell_type": "markdown",
   "metadata": {},
   "source": [
    "La varianza di una variabile che assume sempre valore costante è nulla:"
   ]
  },
  {
   "cell_type": "markdown",
   "metadata": {},
   "source": [
    "$$\\large Var(a)=0$$"
   ]
  },
  {
   "cell_type": "markdown",
   "metadata": {},
   "source": [
    "La varianza del prodotto fra una costante reale ed una variabile è pari al prodotto del quadrato della costante e la varianza della variabile:"
   ]
  },
  {
   "cell_type": "markdown",
   "metadata": {},
   "source": [
    "$$\\large Var(a\\cdot X)=b^2 \\cdot Var(X)$$"
   ]
  },
  {
   "cell_type": "markdown",
   "metadata": {},
   "source": [
    "Sfruttando le due regole precedenti possiamo calcolare la varianza di una variabile definita come la somma fra una costante reale ed il prodotto fra un'altra costante e la variabile stessa."
   ]
  },
  {
   "cell_type": "markdown",
   "metadata": {},
   "source": [
    "$$\\large Var(a+b\\cdot X)=b^2\\cdot Var(X)$$"
   ]
  },
  {
   "cell_type": "markdown",
   "metadata": {},
   "source": [
    "---"
   ]
  },
  {
   "cell_type": "markdown",
   "metadata": {},
   "source": [
    "<a id=\"iid\"></a>\n",
    "## Independence & Identical Distribution"
   ]
  },
  {
   "cell_type": "markdown",
   "metadata": {},
   "source": [
    "Un insieme di *random variables* $X_1,\\dots,X_n$ si dicono **independent** *and* **identically distributed** se tutte seguono la stessa distribuzione e sono indipendenti l'una dall'altra."
   ]
  },
  {
   "cell_type": "markdown",
   "metadata": {},
   "source": [
    "Un **sample**, quindi, più formalmente può essere visto come una sequenza di *random variable* indipendenti e identicamente distribuite, ognuna che ha generato una singola *realization*."
   ]
  },
  {
   "cell_type": "markdown",
   "metadata": {},
   "source": [
    "L'identica distribuzione significa che tutte le variabili assumono valori a partire da una singola *probability distribution*. Sarebbe a dire che se plottassimo tutte le variabili insieme, tenderebbero a seguire l'andamento di una delle diverse distribuzioni di probabilità note, come la normale, l'uniforme, ecc."
   ]
  },
  {
   "cell_type": "markdown",
   "metadata": {},
   "source": [
    "L'indipendenza, invece, fa riferimento al fatto che i valori assunti da una o da un insieme di variabili non influenzano in alcun modo i valori assunti dalle altre."
   ]
  },
  {
   "cell_type": "markdown",
   "metadata": {},
   "source": [
    "Delle variabili *iid* hanno tutte gli stessi valori di *expectation* e *variance*:\n",
    "\n",
    "$$\\large E(X_i)=\\mu\\;\\;\\;\\;\\;Var(X_i)=\\sigma^2$$"
   ]
  },
  {
   "cell_type": "markdown",
   "metadata": {},
   "source": [
    "---"
   ]
  },
  {
   "cell_type": "markdown",
   "metadata": {},
   "source": [
    "<a id=\"random-covariance\"></a>\n",
    "## Covariance"
   ]
  },
  {
   "cell_type": "markdown",
   "metadata": {},
   "source": [
    "La *covariance* tra due *random variable* $X$ e $Y$ è pari all'*expectation* del prodotto delle due variabili normalizzate rispetto alle corrispondenti aspettazioni."
   ]
  },
  {
   "cell_type": "markdown",
   "metadata": {},
   "source": [
    "$$\\large Cov(X,Y)=E[(X-E(X))(Y-E(Y))]$$"
   ]
  },
  {
   "cell_type": "markdown",
   "metadata": {},
   "source": [
    "La *covarianza* è positiva se, in media, a grandi valori di $X$ corrispondono grandi valori di $Y$; al contrario, la *covarianza* è negativa se, in media, a grandi valori di $X$ corrispondono piccoli valori di $Y$."
   ]
  },
  {
   "cell_type": "markdown",
   "metadata": {},
   "source": [
    "Con la covarianza possiamo avere informazioni solo sulla **direzione** dell'associazione fra $X$ e $Y$, cioè se esse tendono a crescere in modo concorde o inverso, e non sull'entità dell'associazione stessa o sulla dipendenza di una dall'altra."
   ]
  },
  {
   "cell_type": "markdown",
   "metadata": {},
   "source": [
    "La covarianza è simmetrica:"
   ]
  },
  {
   "cell_type": "markdown",
   "metadata": {},
   "source": [
    "$$\\large Cov(X,Y)=Cov(Y,X)$$"
   ]
  },
  {
   "cell_type": "markdown",
   "metadata": {},
   "source": [
    "La covarianza di una variabile rispetto a se stessa coincide con la sua varianza:"
   ]
  },
  {
   "cell_type": "markdown",
   "metadata": {},
   "source": [
    "$$\\large Cov(X,X)=Var(X)$$"
   ]
  },
  {
   "cell_type": "markdown",
   "metadata": {},
   "source": [
    "La covarianza di due combinazioni lineari di *random variables* è pari al prodotto dei fattori moltiplicativi delle variabili con la covarianza delle variabili."
   ]
  },
  {
   "cell_type": "markdown",
   "metadata": {},
   "source": [
    "$$\\large Cov(aX + b, cY + d)=ac \\cdot Cov(X,Y)$$"
   ]
  },
  {
   "cell_type": "markdown",
   "metadata": {},
   "source": [
    "Se due variabili $X$ e $Y$ sono indipendenti, la loro covarianza è nulla:"
   ]
  },
  {
   "cell_type": "markdown",
   "metadata": {},
   "source": [
    "$$\\large X,Y\\;\\;\\;\\text{independent}\\rightarrow Cov(X,Y)=0$$"
   ]
  },
  {
   "cell_type": "markdown",
   "metadata": {},
   "source": [
    "La definizione di covarianza è utile per formulare l'*Additivity Theorem*, che descrive il calcolo della varianza della somma/differenza fra *random variables*:"
   ]
  },
  {
   "cell_type": "markdown",
   "metadata": {},
   "source": [
    "$$\\large Var(X\\pm Y)=Var(X)+Var(Y)\\pm 2Cov(X,Y)$$"
   ]
  },
  {
   "cell_type": "markdown",
   "metadata": {},
   "source": [
    "Possiamo dedurre che se le variabili sono indipendenti, allora:"
   ]
  },
  {
   "cell_type": "markdown",
   "metadata": {},
   "source": [
    "$$\\large Var(X\\pm Y)=Var(X)+Var(Y)$$"
   ]
  },
  {
   "cell_type": "markdown",
   "metadata": {},
   "source": [
    "---"
   ]
  },
  {
   "cell_type": "markdown",
   "metadata": {},
   "source": [
    "<a id=\"correlation\"></a>\n",
    "## Correlation"
   ]
  },
  {
   "cell_type": "markdown",
   "metadata": {},
   "source": [
    "Date due *random variable* $X$ e $Y$, il loro **correlation coefficient** è definito come il rapporto fra la loro covarianza e il prodotto delle singole deviazioni standard."
   ]
  },
  {
   "cell_type": "markdown",
   "metadata": {},
   "source": [
    "$$\\large \\rho(X,Y)=\\frac{Cov(X,Y)}{Std(X)\\cdot Std(Y)}$$"
   ]
  },
  {
   "cell_type": "markdown",
   "metadata": {},
   "source": [
    "Il coefficiente di correlazione è una misura dell'entità della relazione **lineare** esistente fra $X$ e $Y$.\n",
    "\n",
    "Il coefficiente di correlazione assume solo valori nell'intervallo $[-1, 1]$."
   ]
  },
  {
   "cell_type": "markdown",
   "metadata": {},
   "source": [
    "Se $X$ e $Y$ sono indipendenti, sicuramente non sono correlate.\n",
    "\n",
    "Al contrario, se il coefficiente di correlazione evidenzia che le due variabili non sono correlate, non è detto che siano per forza indipendenti."
   ]
  },
  {
   "cell_type": "markdown",
   "metadata": {},
   "source": [
    "---"
   ]
  }
 ],
 "metadata": {
  "kernelspec": {
   "display_name": "Python 3",
   "language": "python",
   "name": "python3"
  },
  "language_info": {
   "codemirror_mode": {
    "name": "ipython",
    "version": 3
   },
   "file_extension": ".py",
   "mimetype": "text/x-python",
   "name": "python",
   "nbconvert_exporter": "python",
   "pygments_lexer": "ipython3",
   "version": "3.8.5"
  }
 },
 "nbformat": 4,
 "nbformat_minor": 4
}
