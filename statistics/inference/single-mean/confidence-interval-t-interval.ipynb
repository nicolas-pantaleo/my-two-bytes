{
 "cells": [
  {
   "cell_type": "markdown",
   "metadata": {},
   "source": [
    "# Single Mean - Confidence Interval with T Interval"
   ]
  },
  {
   "cell_type": "markdown",
   "metadata": {},
   "source": [
    "---"
   ]
  },
  {
   "cell_type": "markdown",
   "metadata": {},
   "source": [
    "## Import"
   ]
  },
  {
   "cell_type": "code",
   "execution_count": 1,
   "metadata": {},
   "outputs": [],
   "source": [
    "import numpy as np\n",
    "import pandas as pd\n",
    "import matplotlib.pyplot as plt\n",
    "import seaborn as sns\n",
    "import scipy.stats as stats\n",
    "import statsmodels.api as sm\n",
    "import statsmodels.formula.api as smf\n",
    "from statsmodels.stats.power import TTestIndPower\n",
    "\n",
    "plt.style.use(\"fivethirtyeight\")\n",
    "%matplotlib inline"
   ]
  },
  {
   "cell_type": "code",
   "execution_count": 2,
   "metadata": {},
   "outputs": [],
   "source": [
    "def sample_creator(n, mean, std):\n",
    "    sample = stats.norm.rvs(loc=0, scale=std, size=n)\n",
    "    sample = sample - np.mean(sample)\n",
    "    sample = sample * (std/sample.std(ddof=1))\n",
    "    return sample + mean"
   ]
  },
  {
   "cell_type": "markdown",
   "metadata": {},
   "source": [
    "---"
   ]
  },
  {
   "cell_type": "markdown",
   "metadata": {},
   "source": [
    "Quando vogliamo fare inferenza su una singola media e disponiamo di un sample poco numeroso o non conosciamo la deviazione standard della popolazione, dobbiamo utilizzare la *t-distribution*.\n",
    "\n",
    "Se il *sample size* non è particolarmente esteso, il calcolo dello *standard error* non è così affidabile. La maggiore *probability mass* sulle code della *t-distribution* implica che sia molto più probabile che delle osservazioni cadano a più di due deviazioni standard dalla media.\n",
    "\n",
    "Di conseguenza, i *confidence interval* costruiti con la *t-distribution* saranno più ampi, e quindi più conservativi. Ma è proprio questo spessore extra sulle code che aiuta a mitigare gli effetti di una stima meno affidabile dello *standard error*."
   ]
  },
  {
   "cell_type": "markdown",
   "metadata": {},
   "source": [
    "$$\\large CI:\\bar{x}\\pm t_{df}^*\\;\\frac{s}{\\sqrt{n}}$$"
   ]
  },
  {
   "cell_type": "markdown",
   "metadata": {},
   "source": [
    "L'unica differenza con lo *z-interval* è nel *critical t-score*, che per essere individuato necessita della specifica dei *degrees of freedom* da associare alla *t-distribution*. In questo caso i *df* vanno posti uguale al *sample size* meno uno, in quanto stiamo stimando lo *standard error* della *sampling distribution* utilizzando la *sample standard deviation*."
   ]
  },
  {
   "cell_type": "markdown",
   "metadata": {},
   "source": [
    "$$\\large df=n-1$$"
   ]
  },
  {
   "cell_type": "markdown",
   "metadata": {},
   "source": [
    "---"
   ]
  },
  {
   "cell_type": "markdown",
   "metadata": {},
   "source": [
    "*Critical t-score* per un **90%CI**:"
   ]
  },
  {
   "cell_type": "code",
   "execution_count": 3,
   "metadata": {},
   "outputs": [
    {
     "data": {
      "text/plain": [
       "1.7108820799094275"
      ]
     },
     "execution_count": 3,
     "metadata": {},
     "output_type": "execute_result"
    }
   ],
   "source": [
    "stats.t.ppf(q = 0.95, df = 24)"
   ]
  },
  {
   "cell_type": "markdown",
   "metadata": {},
   "source": [
    "*Critical z-score* per un **95%CI**:"
   ]
  },
  {
   "cell_type": "code",
   "execution_count": 4,
   "metadata": {},
   "outputs": [
    {
     "data": {
      "text/plain": [
       "2.0638985616280205"
      ]
     },
     "execution_count": 4,
     "metadata": {},
     "output_type": "execute_result"
    }
   ],
   "source": [
    "stats.t.ppf(q = 0.975, df = 24)"
   ]
  },
  {
   "cell_type": "markdown",
   "metadata": {},
   "source": [
    "*Critical z-score* per un **98%CI**:"
   ]
  },
  {
   "cell_type": "code",
   "execution_count": 5,
   "metadata": {},
   "outputs": [
    {
     "data": {
      "text/plain": [
       "2.4921594731575762"
      ]
     },
     "execution_count": 5,
     "metadata": {},
     "output_type": "execute_result"
    }
   ],
   "source": [
    "stats.t.ppf(q = 0.99, df = 24)"
   ]
  },
  {
   "cell_type": "markdown",
   "metadata": {},
   "source": [
    "*Critical z-score* per un **99%CI**:"
   ]
  },
  {
   "cell_type": "code",
   "execution_count": 6,
   "metadata": {},
   "outputs": [
    {
     "data": {
      "text/plain": [
       "2.796939504772804"
      ]
     },
     "execution_count": 6,
     "metadata": {},
     "output_type": "execute_result"
    }
   ],
   "source": [
    "stats.t.ppf(q = 0.995, df = 24)"
   ]
  },
  {
   "cell_type": "markdown",
   "metadata": {},
   "source": [
    "---"
   ]
  },
  {
   "cell_type": "markdown",
   "metadata": {},
   "source": [
    "**\\[Esempio\\]** Un sample di 22 soggetti ha pranzato mentre giocava al pc. Sono stati calcolati i grammi di biscotti consumati come snack in seguito al pranzo. La sample mean è 52.1g, con deviazione standard 45.1g. Calcolare un 95% CI per sul consumo medio di biscotti di chi pranza distraendosi."
   ]
  },
  {
   "cell_type": "code",
   "execution_count": 7,
   "metadata": {},
   "outputs": [],
   "source": [
    "def confint_t_single_mean(cl, sample):\n",
    "    crit_value = stats.t.ppf(q = 1- ((1 - cl)/2), df = len(sample) - 1)\n",
    "    std_error = sample.std(ddof=1) / np.sqrt(len(sample))\n",
    "    lower_bound = sample.mean() - crit_value * std_error\n",
    "    upper_bound = sample.mean() + crit_value * std_error\n",
    "    return lower_bound, upper_bound"
   ]
  },
  {
   "cell_type": "code",
   "execution_count": 8,
   "metadata": {},
   "outputs": [
    {
     "data": {
      "text/plain": [
       "(52.1, 44.06307978341959)"
      ]
     },
     "execution_count": 8,
     "metadata": {},
     "output_type": "execute_result"
    }
   ],
   "source": [
    "n = 22\n",
    "xbar = 52.1\n",
    "std = 45.1\n",
    "\n",
    "sample = sample_creator(n, xbar, std)\n",
    "sample.mean(), sample.std()"
   ]
  },
  {
   "cell_type": "code",
   "execution_count": 9,
   "metadata": {},
   "outputs": [
    {
     "data": {
      "text/plain": [
       "(32.10378021910188, 72.09621978089812)"
      ]
     },
     "execution_count": 9,
     "metadata": {},
     "output_type": "execute_result"
    }
   ],
   "source": [
    "confint_t_single_mean(0.95, sample)"
   ]
  },
  {
   "cell_type": "markdown",
   "metadata": {},
   "source": [
    "---"
   ]
  }
 ],
 "metadata": {
  "kernelspec": {
   "display_name": "Python 3",
   "language": "python",
   "name": "python3"
  },
  "language_info": {
   "codemirror_mode": {
    "name": "ipython",
    "version": 3
   },
   "file_extension": ".py",
   "mimetype": "text/x-python",
   "name": "python",
   "nbconvert_exporter": "python",
   "pygments_lexer": "ipython3",
   "version": "3.7.6"
  }
 },
 "nbformat": 4,
 "nbformat_minor": 4
}
