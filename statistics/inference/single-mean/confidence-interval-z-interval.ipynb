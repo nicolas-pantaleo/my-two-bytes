{
 "cells": [
  {
   "cell_type": "markdown",
   "metadata": {},
   "source": [
    "# Single Mean - Confidence Interval with Z Interval"
   ]
  },
  {
   "cell_type": "markdown",
   "metadata": {},
   "source": [
    "---"
   ]
  },
  {
   "cell_type": "markdown",
   "metadata": {},
   "source": [
    "## Import"
   ]
  },
  {
   "cell_type": "code",
   "execution_count": 1,
   "metadata": {},
   "outputs": [],
   "source": [
    "import numpy as np\n",
    "import pandas as pd\n",
    "import matplotlib.pyplot as plt\n",
    "import seaborn as sns\n",
    "import scipy.stats as stats\n",
    "import statsmodels.api as sm\n",
    "import statsmodels.formula.api as smf\n",
    "from statsmodels.stats.power import TTestIndPower\n",
    "\n",
    "plt.style.use(\"fivethirtyeight\")\n",
    "%matplotlib inline"
   ]
  },
  {
   "cell_type": "code",
   "execution_count": 2,
   "metadata": {},
   "outputs": [],
   "source": [
    "def sample_creator(n, mean, std):\n",
    "    sample = stats.norm.rvs(loc=0, scale=std, size=n)\n",
    "    sample = sample - np.mean(sample)\n",
    "    sample = sample * (std/sample.std(ddof=1))\n",
    "    return sample + mean"
   ]
  },
  {
   "cell_type": "markdown",
   "metadata": {},
   "source": [
    "---"
   ]
  },
  {
   "cell_type": "markdown",
   "metadata": {},
   "source": [
    "Utilizzato per costruire un *confidence interval* incentrato sulla media del *sample*, a patto che siano verificate le seguenti condizioni:\n",
    "\n",
    "- La deviazione standard della popolazione $\\sigma$ è nota\n",
    "- Il *sample size* supera le 30 unità.\n",
    "\n",
    "Se $\\sigma$ non è nota o il *sample* è troppo piccolo, è necessario utilizzare il *t-interval*."
   ]
  },
  {
   "cell_type": "markdown",
   "metadata": {},
   "source": [
    "$$\\large CI: \\bar{x}\\pm z^*\\frac{\\sigma}{\\sqrt{n}}$$"
   ]
  },
  {
   "cell_type": "markdown",
   "metadata": {},
   "source": [
    "---"
   ]
  },
  {
   "cell_type": "markdown",
   "metadata": {},
   "source": [
    "Per arrivare alla formula di cui sopra, si parte analizzando una delle proprietà fondamentali della *standard normal distribution*:\n",
    "\n",
    "$$\\large P(-z_{\\alpha/2}<Z<z_{\\alpha/2})=1-\\alpha$$"
   ]
  },
  {
   "cell_type": "markdown",
   "metadata": {},
   "source": [
    "Dove $Z$ è la standardizzazione della *random variable* $\\bar{X}$ che utilizziamo per stimare il *population parameter* $\\mu$:\n",
    "\n",
    "$$\\large Z=\\frac{\\bar{X}-\\mu}{\\sigma/\\sqrt{n}}$$"
   ]
  },
  {
   "cell_type": "markdown",
   "metadata": {},
   "source": [
    "Invece $z_{\\alpha/2}$ è quel *critical value* della *standard normal* che lascia alla propria destra un'area pari proprio ad $\\alpha/2$.\n",
    "\n",
    "Nel caso del comune  95% CI, si trova che la relazione precedente è soddisfatta dal *critical value* 1.96:\n",
    "\n",
    "$$\\large P(-1.96<Z<1.96)=0.95$$"
   ]
  },
  {
   "cell_type": "markdown",
   "metadata": {},
   "source": [
    "Questo vuol dire che 1.96 è quel valore che lascia alla propria destra un'area pari a 0.025."
   ]
  },
  {
   "cell_type": "markdown",
   "metadata": {},
   "source": [
    "Combiniamo il primo risultato con la formula di Z:\n",
    "\n",
    "$$\\large P(-z_{\\alpha/2}<\\frac{\\bar{X}-\\mu}{\\sigma/\\sqrt{n}}<z_{\\alpha/2})=1-\\alpha$$"
   ]
  },
  {
   "cell_type": "markdown",
   "metadata": {},
   "source": [
    "Vogliamo isolare $\\mu$:\n",
    "\n",
    "$$\\large P\\left(\\bar{X}-z_{\\alpha/2}\\frac{\\sigma}{\\sqrt{n}}\n",
    "<\\mu<\\bar{X}+z_{\\alpha/2}\\frac{\\sigma}{\\sqrt{n}}\\right)=1-\\alpha$$"
   ]
  },
  {
   "cell_type": "markdown",
   "metadata": {},
   "source": [
    "Ecco qua la formula del *confidence interval* sulla *single mean*!"
   ]
  },
  {
   "cell_type": "markdown",
   "metadata": {},
   "source": [
    "---"
   ]
  },
  {
   "cell_type": "markdown",
   "metadata": {},
   "source": [
    "*Critical z-score* per un **90%CI**:"
   ]
  },
  {
   "cell_type": "code",
   "execution_count": 3,
   "metadata": {},
   "outputs": [
    {
     "data": {
      "text/plain": [
       "1.6448536269514722"
      ]
     },
     "execution_count": 3,
     "metadata": {},
     "output_type": "execute_result"
    }
   ],
   "source": [
    "stats.norm.ppf(q = 0.95)"
   ]
  },
  {
   "cell_type": "markdown",
   "metadata": {},
   "source": [
    "*Critical z-score* per un **95%CI**:"
   ]
  },
  {
   "cell_type": "code",
   "execution_count": 4,
   "metadata": {},
   "outputs": [
    {
     "data": {
      "text/plain": [
       "1.959963984540054"
      ]
     },
     "execution_count": 4,
     "metadata": {},
     "output_type": "execute_result"
    }
   ],
   "source": [
    "stats.norm.ppf(q = 0.975)"
   ]
  },
  {
   "cell_type": "markdown",
   "metadata": {},
   "source": [
    "*Critical z-score* per un **98%CI**:"
   ]
  },
  {
   "cell_type": "code",
   "execution_count": 5,
   "metadata": {},
   "outputs": [
    {
     "data": {
      "text/plain": [
       "2.3263478740408408"
      ]
     },
     "execution_count": 5,
     "metadata": {},
     "output_type": "execute_result"
    }
   ],
   "source": [
    "stats.norm.ppf(q = 0.99)"
   ]
  },
  {
   "cell_type": "markdown",
   "metadata": {},
   "source": [
    "*Critical z-score* per un **99%CI**:"
   ]
  },
  {
   "cell_type": "code",
   "execution_count": 6,
   "metadata": {},
   "outputs": [
    {
     "data": {
      "text/plain": [
       "2.5758293035489004"
      ]
     },
     "execution_count": 6,
     "metadata": {},
     "output_type": "execute_result"
    }
   ],
   "source": [
    "stats.norm.ppf(q = 0.995)"
   ]
  },
  {
   "cell_type": "markdown",
   "metadata": {},
   "source": [
    "---"
   ]
  },
  {
   "cell_type": "markdown",
   "metadata": {},
   "source": [
    "**\\[Esempio\\]** A 50 studenti è stato chiesto quante relazioni abbiano avuto. La *sample mean* è 3.2, con *standard deviation* 1.74. Creare un 95% *CI* per stimare il numero medio di relazioni dell'intera popolazione."
   ]
  },
  {
   "cell_type": "code",
   "execution_count": 7,
   "metadata": {},
   "outputs": [],
   "source": [
    "def confint_z_single_mean(cl, sample):\n",
    "    crit_value = stats.norm.ppf(q = 1 -((1 - cl)/2), loc = 0, scale = 1)\n",
    "    std_error = sample.std(ddof=1)/np.sqrt(len(sample))\n",
    "    lower_bound = sample.mean() - crit_value * std_error\n",
    "    upper_bound = sample.mean() + crit_value * std_error\n",
    "    return lower_bound, upper_bound         "
   ]
  },
  {
   "cell_type": "code",
   "execution_count": 8,
   "metadata": {},
   "outputs": [
    {
     "data": {
      "text/plain": [
       "(3.2000000000000006, 1.72251211897043)"
      ]
     },
     "execution_count": 8,
     "metadata": {},
     "output_type": "execute_result"
    }
   ],
   "source": [
    "n = 50\n",
    "xbar = 3.2\n",
    "s = 1.74\n",
    "\n",
    "sample = sample_creator(n, xbar, s)\n",
    "sample.mean(), sample.std()"
   ]
  },
  {
   "cell_type": "code",
   "execution_count": 9,
   "metadata": {},
   "outputs": [
    {
     "data": {
      "text/plain": [
       "(2.7177054691263125, 3.6822945308736887)"
      ]
     },
     "execution_count": 9,
     "metadata": {},
     "output_type": "execute_result"
    }
   ],
   "source": [
    "confint_z_single_mean(0.95, sample)"
   ]
  },
  {
   "cell_type": "markdown",
   "metadata": {},
   "source": [
    "Siamo sicuri al 95% che il numero di relazioni avute dagli studenti è, mediamente, fra 2.71 e 3.68."
   ]
  },
  {
   "cell_type": "markdown",
   "metadata": {},
   "source": [
    "---"
   ]
  }
 ],
 "metadata": {
  "kernelspec": {
   "display_name": "Python 3",
   "language": "python",
   "name": "python3"
  },
  "language_info": {
   "codemirror_mode": {
    "name": "ipython",
    "version": 3
   },
   "file_extension": ".py",
   "mimetype": "text/x-python",
   "name": "python",
   "nbconvert_exporter": "python",
   "pygments_lexer": "ipython3",
   "version": "3.7.6"
  }
 },
 "nbformat": 4,
 "nbformat_minor": 4
}
