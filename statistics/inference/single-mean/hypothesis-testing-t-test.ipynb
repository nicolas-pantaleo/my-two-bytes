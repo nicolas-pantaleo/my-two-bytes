{
 "cells": [
  {
   "cell_type": "markdown",
   "metadata": {},
   "source": [
    "# Single Mean - Hypothesis Testing with T Test"
   ]
  },
  {
   "cell_type": "markdown",
   "metadata": {},
   "source": [
    "---"
   ]
  },
  {
   "cell_type": "markdown",
   "metadata": {},
   "source": [
    "## Import"
   ]
  },
  {
   "cell_type": "code",
   "execution_count": 1,
   "metadata": {},
   "outputs": [],
   "source": [
    "import numpy as np\n",
    "import pandas as pd\n",
    "import matplotlib.pyplot as plt\n",
    "import seaborn as sns\n",
    "import scipy.stats as stats\n",
    "import statsmodels.api as sm\n",
    "import statsmodels.formula.api as smf\n",
    "from statsmodels.stats.power import TTestIndPower\n",
    "\n",
    "plt.style.use(\"fivethirtyeight\")\n",
    "%matplotlib inline"
   ]
  },
  {
   "cell_type": "code",
   "execution_count": 2,
   "metadata": {},
   "outputs": [],
   "source": [
    "def sample_creator(n, mean, std):\n",
    "    sample = stats.norm.rvs(loc=0, scale=std, size=n)\n",
    "    sample = sample - np.mean(sample)\n",
    "    sample = sample * (std/sample.std(ddof=1))\n",
    "    return sample + mean"
   ]
  },
  {
   "cell_type": "markdown",
   "metadata": {},
   "source": [
    "---"
   ]
  },
  {
   "cell_type": "markdown",
   "metadata": {},
   "source": [
    "Utilizzato per fare inferenza sulla media del *sample*, in contesti in cui non è corretto utilizzare lo *Z* Test.\n",
    "\n",
    "Si usa nei contesti in cui il *sample size* non è particolarmente esteso, e quindi il calcolo dello *standard error* non è così affidabile.\n",
    "\n",
    "La maggiore *probability mass* sulle code della *t-distribution* implica che sia molto più probabile che delle osservazioni cadano a più di due deviazioni standard dalla media. Ed è proprio questo spessore extra sulle code che aiuta a mitigare gli effetti di una stima meno affidabile dello *standard error*."
   ]
  },
  {
   "cell_type": "markdown",
   "metadata": {},
   "source": [
    "La *test statistic* da utilizzare è il *t-score*:"
   ]
  },
  {
   "cell_type": "markdown",
   "metadata": {},
   "source": [
    "$$\\large T=\\frac{\\bar{x}-\\mu_{null}}\n",
    "{\\left( \\frac{s}{\\sqrt{n}} \\right)}$$"
   ]
  },
  {
   "cell_type": "markdown",
   "metadata": {},
   "source": [
    "Il calcolo del *p-value*, quindi, sarà basato sull'utilizzo della *t-distribution*. Il numero di *degrees of freedom* da associare a quest'ultima dev'essere pari al *sample size* meno uno."
   ]
  },
  {
   "cell_type": "markdown",
   "metadata": {},
   "source": [
    "$$\\large df = n-1$$"
   ]
  },
  {
   "cell_type": "markdown",
   "metadata": {},
   "source": [
    "---"
   ]
  },
  {
   "cell_type": "markdown",
   "metadata": {},
   "source": [
    "Se il *sample size* supera le 40 unità, il *t-test* funziona correttamente nella quasi totalità degli scenari.\n",
    "\n",
    "Con un *sample size* compreso fra 15 e 40, il *t-test* può non restituire risultati corretti se la distribuzione di riferimento è molto asimmetrica o contiene molti outlier.\n",
    "\n",
    "Con un *sample size* inferiore a 15, bisognerebbe evitare di usare la procedura."
   ]
  },
  {
   "cell_type": "markdown",
   "metadata": {},
   "source": [
    "---"
   ]
  },
  {
   "cell_type": "markdown",
   "metadata": {},
   "source": [
    "Il **power** di un test può essere calcolato attraverso il **Cohen's *d* index**, che descrive l'*effect size* d'interesse in *standard deviation units*."
   ]
  },
  {
   "cell_type": "markdown",
   "metadata": {},
   "source": [
    "$$\\large d=\\frac{|\\mu_{target}-\\mu|}{s}$$"
   ]
  },
  {
   "cell_type": "markdown",
   "metadata": {},
   "source": [
    "Notiamo l'utilizzo di $s$ e non $\\sigma$ in quanto la deviazione standard della popolazione non è nota.\n",
    "\n",
    "Si è stabilità che un *effect size* è **small** se è compreso fra 0.2 e 0.5 deviazioni standard; è **medium** se è compreso fra 0.5 e 0.8 deviazioni standard; è **large** se supera le 0.8 unità di deviazione standard.\n",
    "\n",
    "Per mettere in relazione il *Cohen's index* con il *sample size*, è stato definito il **noncentrality parameter** $\\delta$."
   ]
  },
  {
   "cell_type": "markdown",
   "metadata": {},
   "source": [
    "$$\\large \\delta=d\\sqrt{n}$$"
   ]
  },
  {
   "cell_type": "markdown",
   "metadata": {},
   "source": [
    "E' sulla base di quest'ultimo che si può calcolare il *power* del test dal punto di vista analitico, ma all'atto pratico si usa il codice per risolvere direttamente per il *sample size* necessario a ottenere il *power* desiderato."
   ]
  },
  {
   "cell_type": "markdown",
   "metadata": {},
   "source": [
    "---"
   ]
  },
  {
   "cell_type": "markdown",
   "metadata": {},
   "source": [
    "**Esempio** per il calcolo del *sample size* in funzione dell'*effect size* d'interesse e con 80% di *power test*."
   ]
  },
  {
   "cell_type": "code",
   "execution_count": 3,
   "metadata": {},
   "outputs": [
    {
     "data": {
      "text/plain": [
       "25.524572500479355"
      ]
     },
     "execution_count": 3,
     "metadata": {},
     "output_type": "execute_result"
    }
   ],
   "source": [
    "effect_size = 0.8\n",
    "alpha = 0.05\n",
    "power = 0.8\n",
    "\n",
    "power_analysis = TTestIndPower()\n",
    "\n",
    "sample_size = power_analysis.solve_power(effect_size = effect_size, \n",
    "                                         power = power, \n",
    "                                         alpha = alpha)\n",
    "sample_size"
   ]
  },
  {
   "cell_type": "markdown",
   "metadata": {},
   "source": [
    "**Plotting** dell'andamento del *test power* in funzione dell'*effect size* e del *sample size*."
   ]
  },
  {
   "cell_type": "code",
   "execution_count": 4,
   "metadata": {},
   "outputs": [
    {
     "data": {
      "image/png": "[encoded data removed]",
      "text/plain": [
       "<Figure size 576x432 with 1 Axes>"
      ]
     },
     "metadata": {
      "needs_background": "light"
     },
     "output_type": "display_data"
    }
   ],
   "source": [
    "fig, ax = plt.subplots(figsize = (8, 6))\n",
    "\n",
    "fig = TTestIndPower().plot_power(dep_var = \"nobs\",\n",
    "                                 nobs = np.arange(2, 200),\n",
    "                                 effect_size = np.array([0.2, 0.5, 0.8]),\n",
    "                                 alpha = 0.05,\n",
    "                                 ax = ax) "
   ]
  },
  {
   "cell_type": "markdown",
   "metadata": {},
   "source": [
    "---"
   ]
  },
  {
   "cell_type": "markdown",
   "metadata": {},
   "source": [
    "**\\[Esempio\\]** Un sample di 22 soggetti ha pranzato mentre giocava al pc. Sono stati calcolati i grammi di biscotti consumati come snack in seguito al pranzo. La sample mean è 52.1g, con deviazione standard 45.1g. Supponendo che la quantità corretta da assumere fosse 30g, verificare se i dati confermano il fatto che chi pranza distrattamente presenta una media di biscotti mangiati diversa dal valore corretto."
   ]
  },
  {
   "cell_type": "code",
   "execution_count": 5,
   "metadata": {},
   "outputs": [
    {
     "data": {
      "text/plain": [
       "(52.1, 44.0630797834196)"
      ]
     },
     "execution_count": 5,
     "metadata": {},
     "output_type": "execute_result"
    }
   ],
   "source": [
    "n = 22\n",
    "mean = 52.1\n",
    "std = 45.1\n",
    "\n",
    "sample = sample_creator(n, mean, std)\n",
    "sample.mean(), sample.std()"
   ]
  },
  {
   "cell_type": "code",
   "execution_count": 6,
   "metadata": {},
   "outputs": [
    {
     "data": {
      "text/plain": [
       "(2.2984077226629216, 0.03190848757439678)"
      ]
     },
     "execution_count": 6,
     "metadata": {},
     "output_type": "execute_result"
    }
   ],
   "source": [
    "h0 = 30\n",
    "\n",
    "test_statistic, p_value = stats.ttest_1samp(\n",
    "    a = sample,\n",
    "    popmean = h0,\n",
    "    nan_policy = \"omit\")\n",
    "\n",
    "test_statistic, p_value"
   ]
  },
  {
   "cell_type": "markdown",
   "metadata": {},
   "source": [
    "---"
   ]
  },
  {
   "cell_type": "markdown",
   "metadata": {},
   "source": [
    "**[Esempio]** Si è stimato che gli atleti hanno un tempo di reazione medio di 0.95s per un certo test. Ci sono 25 atleti che si sottopongono al test ma del tutto disidratati. Il tempo di reazione medio di questi 25 è di 1s, con deviazione standard di 0.18s. Questi dati sono sufficienti ad affermare che il tempo di reazione medio per gli atleti disidratati è maggiore di 0.95?"
   ]
  },
  {
   "cell_type": "code",
   "execution_count": 7,
   "metadata": {},
   "outputs": [
    {
     "data": {
      "text/plain": [
       "(1.0, 0.1763632614803888)"
      ]
     },
     "execution_count": 7,
     "metadata": {},
     "output_type": "execute_result"
    }
   ],
   "source": [
    "n = 25\n",
    "mean = 1\n",
    "std = 0.18\n",
    "\n",
    "sample = sample_creator(n, mean, std)\n",
    "sample.mean(), sample.std()"
   ]
  },
  {
   "cell_type": "code",
   "execution_count": 8,
   "metadata": {},
   "outputs": [],
   "source": [
    "def t_test_single_mean(sample, h0, alternative = \"different\"):\n",
    "    standard_error = np.std(sample, ddof = 1) / np.sqrt(len(sample))\n",
    "    test_statistic = (np.mean(sample) - h0) / standard_error\n",
    "    if alternative == \"different\":\n",
    "        return 2 * stats.t.sf(x = np.abs(test_statistic), df = len(sample)-1)\n",
    "    elif alternative == \"greater\":\n",
    "        return stats.t.sf(x = test_statistic, df = len(sample)-1)\n",
    "    else:\n",
    "        return stats.t.cdf(x = test_statistic, df = len(sample)-1)"
   ]
  },
  {
   "cell_type": "code",
   "execution_count": 9,
   "metadata": {},
   "outputs": [
    {
     "data": {
      "text/plain": [
       "0.08881072997206353"
      ]
     },
     "execution_count": 9,
     "metadata": {},
     "output_type": "execute_result"
    }
   ],
   "source": [
    "t_test_single_mean(sample = sample, h0 = 0.95, alternative = \"greater\")"
   ]
  },
  {
   "cell_type": "markdown",
   "metadata": {},
   "source": [
    "Con *significance level* di 0.05 non siamo in grado di rigettare l'ipotesi nulla."
   ]
  },
  {
   "cell_type": "markdown",
   "metadata": {},
   "source": [
    "---"
   ]
  }
 ],
 "metadata": {
  "kernelspec": {
   "display_name": "Python 3",
   "language": "python",
   "name": "python3"
  },
  "language_info": {
   "codemirror_mode": {
    "name": "ipython",
    "version": 3
   },
   "file_extension": ".py",
   "mimetype": "text/x-python",
   "name": "python",
   "nbconvert_exporter": "python",
   "pygments_lexer": "ipython3",
   "version": "3.8.5"
  }
 },
 "nbformat": 4,
 "nbformat_minor": 4
}
