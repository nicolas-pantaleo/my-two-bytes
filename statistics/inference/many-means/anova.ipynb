{
 "cells": [
  {
   "cell_type": "markdown",
   "metadata": {},
   "source": [
    "# Analysis of Variance - ANOVA"
   ]
  },
  {
   "cell_type": "markdown",
   "metadata": {},
   "source": [
    "---"
   ]
  },
  {
   "cell_type": "markdown",
   "metadata": {},
   "source": [
    "## Import"
   ]
  },
  {
   "cell_type": "code",
   "execution_count": 1,
   "metadata": {},
   "outputs": [],
   "source": [
    "import numpy as np\n",
    "import pandas as pd\n",
    "import matplotlib.pyplot as plt\n",
    "import seaborn as sns\n",
    "import scipy.stats as stats\n",
    "import statsmodels.api as sm\n",
    "import statsmodels.formula.api as smf\n",
    "from statsmodels.stats.power import TTestIndPower\n",
    "\n",
    "plt.style.use(\"fivethirtyeight\")\n",
    "%matplotlib inline"
   ]
  },
  {
   "cell_type": "markdown",
   "metadata": {},
   "source": [
    "---"
   ]
  },
  {
   "cell_type": "markdown",
   "metadata": {},
   "source": [
    "<a id=\"three-means-anova\"></a>\n",
    "## ANOVA"
   ]
  },
  {
   "cell_type": "markdown",
   "metadata": {},
   "source": [
    "Per lavorare su gruppi di **tre o più** medie, non possiamo più usare la *t statistic*, ma dobbiamo ripiegare su un nuovo test chiamato **analysis of variance (ANOVA)** e una nuova metrica chiamata **F statistic**.\n",
    "\n",
    "L'*anova* risulta utile per studiare le medie dei sotto-gruppi ricavati da una specifica variabile categorica (a più di due valori). La tipica ipotesi nulla afferma che tali medie sono coincidenti, mentre la tipica ipotesi alternativa afferma che *almeno* una coppia di esse è diversa dall'altra, ma non specifica quali.\n",
    "\n",
    "In *anova* la *test statistic*, cioè la *f statistic*, è definita come il rapporto fra la variabilità media *fra* gruppi (**between groups variability**) e la variabilità *all'interno* dei gruppi (**within groups variability**).\n",
    "\n",
    "La **F Distribution** è una distribuzione *right skewed* ed è sempre positiva. Al contrario della *t distribution*, qui avremo due parametri di *degrees of freedom*, uno legato al *group* e uno al *non-group*. Per poter rigettare $H_0$, abbiamo bisogno di un piccolo *p-value* e quindi di una grande *f-statistic*, che si può ottenere solo se la variabilità fra le *sample means* dei gruppi (*between*) è molto più grande della variabilità intrinseca fra i sample stessi (*within*)."
   ]
  },
  {
   "cell_type": "markdown",
   "metadata": {},
   "source": [
    "Descriviamo il concetto di **variability partitioning**: dato un dataset composto da un certo numero di attributi e da una variabile categorica, la variabilità totale di uno di questi attributi può essere decomposta nella variabilità attribuibile alla variabile categorica (che rappresenta la *between group variability*) e la variabilità attribuibile a tutti gli altri fattori (che rappresenta la *within group variability*).\n",
    "\n",
    "Il processo dell'*anova*, che porta al calcolo dell'*f-statistic*, può essere riassunto in una tabella a doppia entrata. Abbiamo solo due righe, etichettate con *Group* (che fa riferimento alla *Between Group Variability*) ed *Error* (che fa riferimento alla *Within Group Variability*). Nelle colonne, invece, troviamo *Df*, *Sum Sq*, *Mean Sq*, *F value* e *Pr(>F)*. Esiste anche una terza riga, che mostra semplicemente i valori *totali* contenuti nelle diverse colonne.\n",
    "\n",
    "Per la colonna *Df*, possiamo calcolare direttamente il valore totale come il *sample size* meno uno, mentre i *df* della riga *Group* coincidono con il numero di gruppi meno uno. I gradi di libertà relativi alla riga *Error*, infine, si possono ricavare come la differenza fra il totale e i *df* dei gruppi.\n",
    "\n",
    "$$\\large df_T=n-1$$\n",
    "\n",
    "$$\\large df_G=k-1$$\n",
    "\n",
    "$$\\large df_E=df_T-df_G$$\n",
    "\n",
    "Il totale della colonna *Sum Sq* è la **sum of squares total (SST)**, che evidenzia la variabilità totale della *response variable* (non la categorica). Si calcola in maniera molto simile alla *varianza*, con la differenza che non è scalata per il *sample size*.\n",
    "\n",
    "$$\\large SST=\\sum_{i=1}^{n}\\left( y_i-\\bar{y} \\right)^2$$\n",
    "\n",
    "L'incrocio fra *Group* e *Sum Sq* ci dà la **sum of squares groups (SSG)**, che misura la variabilità della response variable *spiegata* dall'*explanatory variable* (la categorica). Si calcola come la deviazione quadrata delle medie dei gruppi rispetto alla media totale, pesata per il corrispondente *sample size* (cioè la cardinalità del gruppo, $\\large n_j$).\n",
    "\n",
    "$$\\large SSG=\\sum_{i=1}^{k}n_i(\\bar{y}_i-\\bar{y})^2$$\n",
    "\n",
    "La **sum of squares error (SSE)**, invece, si calcola semplicemente come la differenza fra la variabilità totale e la variabilità *between groups*. Si tratta della *unexplained variability*, cioè di quella variabilità nella *response* dovuta ad altri fattori, non all'*explanatory variable*.\n",
    "\n",
    "$$\\large SSE=SST-SSG$$\n",
    "\n",
    "Nella colonna *Mean Sq* troviamo la variabilità media, scomposta per *group* e *non-group*. Si può calcolare dividendo i risultati delle *sum of squares* per i corrispondenti *degrees of freedom*.\n",
    "\n",
    "$$\\large MSG=\\frac{SSG}{df_G}$$\n",
    "\n",
    "$$\\large MSE=\\frac{SSE}{df_E}$$\n",
    "\n",
    "E' sulla base di questi valori che sarà calcolata l'*f statistic*, definita come il rapporto fra le due variabilità medie:\n",
    "\n",
    "$$\\large F=\\frac{MSG}{MSE}$$\n",
    "\n",
    "Con l'*f statistic* a disposizione, è possibile calcolare regolarmente il *p-value* e terminare il processo inferenziale. Per individuare la *f-distribution* di riferimento, i *df* da specificare sono nell'ordine $df_G$ e $df_E$. Nello specifico, se il *p-value* è più piccolo di $\\alpha$, concludiamo che i dati suggeriscono che almeno una coppia di medie, appartenenti ai gruppi analizzati, presenta valori diversi tra loro."
   ]
  },
  {
   "cell_type": "markdown",
   "metadata": {},
   "source": [
    "<br>"
   ]
  },
  {
   "cell_type": "markdown",
   "metadata": {},
   "source": [
    "Le condizioni per applicare l'*anova* sono le seguenti:\n",
    "- **Independence within groups**: le osservazioni campionate devono essere indipendenti. Si verifica se applichiamo il *random sampling/assignment*, o se il *sample size* di ciascun gruppo è inferiore al 10% della corrispondente popolazione.\n",
    "\n",
    "\n",
    "- **Independence between groups**: i gruppi devono essere indipendenti fra loro, cioè non paired. Se così non è, bisogna ripiegare sul **Repeated Measures Anova**.\n",
    "\n",
    "\n",
    "- **Approximate normality**: le distribuzioni di ciascun gruppo dovrebbero essere quasi normali.\n",
    "\n",
    "\n",
    "- **Equal variance**: la distribuzione della *response variable* nei vari gruppi deve avere più o meno la stessa variabilità. Si dice che i gruppi sono *homoscedastic* rispetto alla *response variable*."
   ]
  },
  {
   "cell_type": "markdown",
   "metadata": {},
   "source": [
    "---"
   ]
  },
  {
   "cell_type": "markdown",
   "metadata": {},
   "source": [
    "Più in breve, il **One-way ANOVA** è un test che ha come ipotesi nulla di riferimento l'uguaglianza fra $k$ diverse medie e che prova a dimostrarne la validità confrontando la variabilità **between groups** con la variabilità **within groups**.\n",
    "\n",
    "In generale, quando la variabilità *withing groups* è molto limitata, anche leggere variazioni di media fra i gruppi permettono di rigettare l'ipotesi nulla. Quando, invece, la variabilità *withing groups* è molto grande per ciascun gruppo, è più difficile ovviamente rigettare l'ipotesi nulla, anche se le medie dei gruppi sono nettamente diverse."
   ]
  },
  {
   "cell_type": "markdown",
   "metadata": {},
   "source": [
    "Specifichiamo che per il *one-way ANOVA test* bisogna assumere che le varianze delle popolazioni siano coincidenti, un po' come già visto per la *pooled variance procedure* nell'inferenza fra due medie:\n",
    "\n",
    "$$\\large \\sigma_1^2=\\dots=\\sigma_k^2=\\sigma^2$$"
   ]
  },
  {
   "cell_type": "markdown",
   "metadata": {},
   "source": [
    "---"
   ]
  },
  {
   "cell_type": "markdown",
   "metadata": {},
   "source": [
    "**[Esempio]** Studiare l'influenza dei vari dosaggi rispetto ai valori misurati di libido."
   ]
  },
  {
   "cell_type": "code",
   "execution_count": 2,
   "metadata": {},
   "outputs": [
    {
     "data": {
      "text/html": [
       "<div>\n",
       "<style scoped>\n",
       "    .dataframe tbody tr th:only-of-type {\n",
       "        vertical-align: middle;\n",
       "    }\n",
       "\n",
       "    .dataframe tbody tr th {\n",
       "        vertical-align: top;\n",
       "    }\n",
       "\n",
       "    .dataframe thead th {\n",
       "        text-align: right;\n",
       "    }\n",
       "</style>\n",
       "<table border=\"1\" class=\"dataframe\">\n",
       "  <thead>\n",
       "    <tr style=\"text-align: right;\">\n",
       "      <th></th>\n",
       "      <th>person</th>\n",
       "      <th>dose</th>\n",
       "      <th>libido</th>\n",
       "    </tr>\n",
       "  </thead>\n",
       "  <tbody>\n",
       "    <tr>\n",
       "      <th>0</th>\n",
       "      <td>1</td>\n",
       "      <td>placebo</td>\n",
       "      <td>3</td>\n",
       "    </tr>\n",
       "    <tr>\n",
       "      <th>1</th>\n",
       "      <td>2</td>\n",
       "      <td>placebo</td>\n",
       "      <td>2</td>\n",
       "    </tr>\n",
       "    <tr>\n",
       "      <th>2</th>\n",
       "      <td>3</td>\n",
       "      <td>placebo</td>\n",
       "      <td>1</td>\n",
       "    </tr>\n",
       "    <tr>\n",
       "      <th>3</th>\n",
       "      <td>4</td>\n",
       "      <td>placebo</td>\n",
       "      <td>1</td>\n",
       "    </tr>\n",
       "    <tr>\n",
       "      <th>4</th>\n",
       "      <td>5</td>\n",
       "      <td>placebo</td>\n",
       "      <td>4</td>\n",
       "    </tr>\n",
       "  </tbody>\n",
       "</table>\n",
       "</div>"
      ],
      "text/plain": [
       "   person     dose  libido\n",
       "0       1  placebo       3\n",
       "1       2  placebo       2\n",
       "2       3  placebo       1\n",
       "3       4  placebo       1\n",
       "4       5  placebo       4"
      ]
     },
     "execution_count": 2,
     "metadata": {},
     "output_type": "execute_result"
    }
   ],
   "source": [
    "df = pd.DataFrame({\"person\": np.arange(1, 16),\n",
    "                   \"dose\": [1,1,1,1,1,2,2,2,2,2,3,3,3,3,3],\n",
    "                   \"libido\": [3,2,1,1,4,5,2,4,2,3,7,4,5,3,6]})\n",
    "df[\"dose\"].replace({1: \"placebo\", 2: \"low\", 3: \"high\"}, inplace = True)\n",
    "df.head()"
   ]
  },
  {
   "cell_type": "markdown",
   "metadata": {},
   "source": [
    "_Calcolo rapido dell'one way anova test con scipy, per ottenere subito la f-statistic* ed il p-value._"
   ]
  },
  {
   "cell_type": "code",
   "execution_count": 3,
   "metadata": {},
   "outputs": [
    {
     "data": {
      "text/plain": [
       "(5.11864406779661, 0.024694289538222603)"
      ]
     },
     "execution_count": 3,
     "metadata": {},
     "output_type": "execute_result"
    }
   ],
   "source": [
    "F, p_value = stats.f_oneway(\n",
    "    df[\"libido\"][df[\"dose\"] == \"high\"],\n",
    "    df[\"libido\"][df[\"dose\"] == \"low\"],\n",
    "    df[\"libido\"][df[\"dose\"] == \"placebo\"])\n",
    "\n",
    "F, p_value"
   ]
  },
  {
   "cell_type": "markdown",
   "metadata": {},
   "source": [
    "_Costruzione dell'intera anova table (attenzione alla \"C\" nell'OLS)_"
   ]
  },
  {
   "cell_type": "code",
   "execution_count": 4,
   "metadata": {},
   "outputs": [
    {
     "data": {
      "text/html": [
       "<div>\n",
       "<style scoped>\n",
       "    .dataframe tbody tr th:only-of-type {\n",
       "        vertical-align: middle;\n",
       "    }\n",
       "\n",
       "    .dataframe tbody tr th {\n",
       "        vertical-align: top;\n",
       "    }\n",
       "\n",
       "    .dataframe thead th {\n",
       "        text-align: right;\n",
       "    }\n",
       "</style>\n",
       "<table border=\"1\" class=\"dataframe\">\n",
       "  <thead>\n",
       "    <tr style=\"text-align: right;\">\n",
       "      <th></th>\n",
       "      <th>sum_sq</th>\n",
       "      <th>df</th>\n",
       "      <th>F</th>\n",
       "      <th>PR(&gt;F)</th>\n",
       "    </tr>\n",
       "  </thead>\n",
       "  <tbody>\n",
       "    <tr>\n",
       "      <th>C(dose)</th>\n",
       "      <td>20.133333</td>\n",
       "      <td>2.0</td>\n",
       "      <td>5.118644</td>\n",
       "      <td>0.024694</td>\n",
       "    </tr>\n",
       "    <tr>\n",
       "      <th>Residual</th>\n",
       "      <td>23.600000</td>\n",
       "      <td>12.0</td>\n",
       "      <td>NaN</td>\n",
       "      <td>NaN</td>\n",
       "    </tr>\n",
       "  </tbody>\n",
       "</table>\n",
       "</div>"
      ],
      "text/plain": [
       "             sum_sq    df         F    PR(>F)\n",
       "C(dose)   20.133333   2.0  5.118644  0.024694\n",
       "Residual  23.600000  12.0       NaN       NaN"
      ]
     },
     "execution_count": 4,
     "metadata": {},
     "output_type": "execute_result"
    }
   ],
   "source": [
    "model = smf.ols(\"libido ~ C(dose)\", data = df).fit()\n",
    "\n",
    "anova_table = sm.stats.anova_lm(model, typ = 2)\n",
    "anova_table"
   ]
  },
  {
   "cell_type": "markdown",
   "metadata": {},
   "source": [
    "_Shapiro Test per verificare che i residui seguano una normale_"
   ]
  },
  {
   "cell_type": "code",
   "execution_count": 5,
   "metadata": {},
   "outputs": [
    {
     "data": {
      "text/plain": [
       "(0.9166916012763977, 0.17146942019462585)"
      ]
     },
     "execution_count": 5,
     "metadata": {},
     "output_type": "execute_result"
    }
   ],
   "source": [
    "stats.shapiro(model.resid)"
   ]
  },
  {
   "cell_type": "markdown",
   "metadata": {},
   "source": [
    "_Il test NON è significativo, quindi i residui seguono andamento normale._"
   ]
  },
  {
   "cell_type": "markdown",
   "metadata": {},
   "source": [
    "_Levene Test per verificare che i gruppi abbiano varianze uguali_"
   ]
  },
  {
   "cell_type": "code",
   "execution_count": 6,
   "metadata": {},
   "outputs": [
    {
     "data": {
      "text/plain": [
       "LeveneResult(statistic=0.11764705882352934, pvalue=0.8900225182757423)"
      ]
     },
     "execution_count": 6,
     "metadata": {},
     "output_type": "execute_result"
    }
   ],
   "source": [
    "stats.levene(\n",
    "    df[\"libido\"][df[\"dose\"] == \"high\"],\n",
    "    df[\"libido\"][df[\"dose\"] == \"low\"],\n",
    "    df[\"libido\"][df[\"dose\"] == \"placebo\"])"
   ]
  },
  {
   "cell_type": "markdown",
   "metadata": {},
   "source": [
    "_Il test NON è significativo, quindi i gruppi presentano una differenza in variabilità non significativa, e quindi hanno più o meno la stessa varianza._"
   ]
  },
  {
   "cell_type": "markdown",
   "metadata": {},
   "source": [
    "---"
   ]
  }
 ],
 "metadata": {
  "kernelspec": {
   "display_name": "Python 3",
   "language": "python",
   "name": "python3"
  },
  "language_info": {
   "codemirror_mode": {
    "name": "ipython",
    "version": 3
   },
   "file_extension": ".py",
   "mimetype": "text/x-python",
   "name": "python",
   "nbconvert_exporter": "python",
   "pygments_lexer": "ipython3",
   "version": "3.7.6"
  }
 },
 "nbformat": 4,
 "nbformat_minor": 4
}
