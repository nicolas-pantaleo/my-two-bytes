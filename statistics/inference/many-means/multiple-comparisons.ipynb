{
 "cells": [
  {
   "cell_type": "markdown",
   "metadata": {},
   "source": [
    "# ANOVA - Multiple Comparisons"
   ]
  },
  {
   "cell_type": "markdown",
   "metadata": {},
   "source": [
    "---"
   ]
  },
  {
   "cell_type": "markdown",
   "metadata": {},
   "source": [
    "Grazie all'ANOVA possiamo affermare che almeno una coppia di medie è diversa tra loro, ma non sappiamo quali. Per capire quali medie sono effettivamente diverse tra loro, dobbiamo applicare i cosiddetti **multiple comparisons**.\n",
    "\n",
    "Ricordiamo che, per stabilire se due *mean* sono diverse tra loro, utilizziamo i *t-tests*. In ognuno di questi test rischiamo di commettere un *type 1 error*, di conseguenza eseguendone diversi uno dopo l'altro andiamo ad aumentare esponenzialmente il *type 1 error rate*. Per risolvere il problema, è necessario applicare la cosiddetta **Bonferroni Correction**, cioè un adattamento del *significance level* $\\alpha$ per mantenere basso il *type 1 error rate*.\n",
    "\n",
    "Il nuovo *significance level* sarà uguale al rapporto fra il valore originale di $\\alpha$ e il numero totale di *confronti* fra medie $K$.\n",
    "\n",
    "$$\\large K=\\frac{k(k-1)}{2}\\;\\;\\;\\;k=numero\\;di\\;gruppi$$\n",
    "\n",
    "$$\\large \\alpha^*=\\frac{\\alpha}{K}$$"
   ]
  },
  {
   "cell_type": "markdown",
   "metadata": {},
   "source": [
    "Un ulteriore accorgimento: dovendo rispettare il vincolo di *equal variance*, dobbiamo rivedere la formula dello *standard error* e dei *degrees of freedom*.\n",
    "\n",
    "Per quanto riguarda lo *standard error*, utilizziamo una formula simile a quella vista per il confronto fra due medie, ma basata sul *mean squared error* (*MSE*) dell'*anova table* e non sulle varianze dei singoli gruppi. In questo modo possiamo usare un solo valore per tutti i test.\n",
    "\n",
    "$$\\large SE=\\sqrt{\\frac{MSE}{n_1}+\\frac{MSE}{n_2}}$$\n",
    "\n",
    "Stessa cosa per i *degrees of freedom*: è necessario utilizzare i $df_E$, cioè i gradi di libertà della riga *Error* dell'*Anova Table*, al posto del valore minimo fra i due *sample size* dei gruppi analizzati.\n",
    "\n",
    "$$\\large df=df_E$$"
   ]
  },
  {
   "cell_type": "markdown",
   "metadata": {},
   "source": [
    "Il *t score*, quindi, può essere calcolato così:\n",
    "\n",
    "$$\\large t = \\frac{(\\bar{x}_1-\\bar{x}_2)-\\mu_{H_0}}\n",
    "{\\sqrt{\\frac{MSE}{n_1}+\\frac{MSE}{n_2}}}$$\n",
    "\n",
    "Con il *t score* e i corretti *df* possiamo calcolare il *p-value* e concludere l'inferenza."
   ]
  },
  {
   "cell_type": "markdown",
   "metadata": {},
   "source": [
    "---"
   ]
  },
  {
   "cell_type": "markdown",
   "metadata": {},
   "source": [
    "**[Esempio]** Multiple Comparisons applicata in seguito all'esempio precedente di ANOVA."
   ]
  },
  {
   "cell_type": "code",
   "execution_count": 58,
   "metadata": {},
   "outputs": [
    {
     "data": {
      "text/html": [
       "<div>\n",
       "<style scoped>\n",
       "    .dataframe tbody tr th:only-of-type {\n",
       "        vertical-align: middle;\n",
       "    }\n",
       "\n",
       "    .dataframe tbody tr th {\n",
       "        vertical-align: top;\n",
       "    }\n",
       "\n",
       "    .dataframe thead th {\n",
       "        text-align: right;\n",
       "    }\n",
       "</style>\n",
       "<table border=\"1\" class=\"dataframe\">\n",
       "  <thead>\n",
       "    <tr style=\"text-align: right;\">\n",
       "      <th></th>\n",
       "      <th>person</th>\n",
       "      <th>dose</th>\n",
       "      <th>libido</th>\n",
       "    </tr>\n",
       "  </thead>\n",
       "  <tbody>\n",
       "    <tr>\n",
       "      <th>0</th>\n",
       "      <td>1</td>\n",
       "      <td>placebo</td>\n",
       "      <td>3</td>\n",
       "    </tr>\n",
       "    <tr>\n",
       "      <th>1</th>\n",
       "      <td>2</td>\n",
       "      <td>placebo</td>\n",
       "      <td>2</td>\n",
       "    </tr>\n",
       "    <tr>\n",
       "      <th>2</th>\n",
       "      <td>3</td>\n",
       "      <td>placebo</td>\n",
       "      <td>1</td>\n",
       "    </tr>\n",
       "    <tr>\n",
       "      <th>3</th>\n",
       "      <td>4</td>\n",
       "      <td>placebo</td>\n",
       "      <td>1</td>\n",
       "    </tr>\n",
       "    <tr>\n",
       "      <th>4</th>\n",
       "      <td>5</td>\n",
       "      <td>placebo</td>\n",
       "      <td>4</td>\n",
       "    </tr>\n",
       "  </tbody>\n",
       "</table>\n",
       "</div>"
      ],
      "text/plain": [
       "   person     dose  libido\n",
       "0       1  placebo       3\n",
       "1       2  placebo       2\n",
       "2       3  placebo       1\n",
       "3       4  placebo       1\n",
       "4       5  placebo       4"
      ]
     },
     "execution_count": 58,
     "metadata": {},
     "output_type": "execute_result"
    }
   ],
   "source": [
    "df = pd.DataFrame({\"person\": np.arange(1, 16),\n",
    "                   \"dose\": [1,1,1,1,1,2,2,2,2,2,3,3,3,3,3],\n",
    "                   \"libido\": [3,2,1,1,4,5,2,4,2,3,7,4,5,3,6]})\n",
    "df[\"dose\"].replace({1: \"placebo\", 2: \"low\", 3: \"high\"}, inplace = True)\n",
    "df.head()"
   ]
  },
  {
   "cell_type": "code",
   "execution_count": 59,
   "metadata": {},
   "outputs": [
    {
     "data": {
      "text/html": [
       "<table class=\"simpletable\">\n",
       "<caption>Test Multiple Comparison ttest_ind \n",
       "FWER=0.05 method=bonf\n",
       "alphacSidak=0.02, alphacBonf=0.017</caption>\n",
       "<tr>\n",
       "  <th>group1</th> <th>group2</th>   <th>stat</th>   <th>pval</th>  <th>pval_corr</th> <th>reject</th>\n",
       "</tr>\n",
       "<tr>\n",
       "   <td>high</td>    <td>low</td>    <td>1.964</td> <td>0.0851</td>  <td>0.2554</td>    <td>False</td>\n",
       "</tr>\n",
       "<tr>\n",
       "   <td>high</td>  <td>placebo</td> <td>3.0551</td> <td>0.0157</td>  <td>0.0471</td>    <td>True</td> \n",
       "</tr>\n",
       "<tr>\n",
       "    <td>low</td>  <td>placebo</td> <td>1.2127</td> <td>0.2598</td>  <td>0.7795</td>    <td>False</td>\n",
       "</tr>\n",
       "</table>"
      ],
      "text/plain": [
       "<class 'statsmodels.iolib.table.SimpleTable'>"
      ]
     },
     "execution_count": 59,
     "metadata": {},
     "output_type": "execute_result"
    }
   ],
   "source": [
    "comp = sm.stats.multicomp.MultiComparison(df[\"libido\"], df[\"dose\"])\n",
    "tbl, a1, a2 = comp.allpairtest(stats.ttest_ind, method= \"bonf\")\n",
    "tbl"
   ]
  },
  {
   "cell_type": "markdown",
   "metadata": {},
   "source": [
    "La differenza statisticamente significativa è solo fra chi ha preso l'*high dose* e la *placebo dose*."
   ]
  },
  {
   "cell_type": "markdown",
   "metadata": {},
   "source": [
    "---"
   ]
  }
 ],
 "metadata": {
  "kernelspec": {
   "display_name": "Python 3",
   "language": "python",
   "name": "python3"
  },
  "language_info": {
   "codemirror_mode": {
    "name": "ipython",
    "version": 3
   },
   "file_extension": ".py",
   "mimetype": "text/x-python",
   "name": "python",
   "nbconvert_exporter": "python",
   "pygments_lexer": "ipython3",
   "version": "3.7.6"
  }
 },
 "nbformat": 4,
 "nbformat_minor": 4
}
