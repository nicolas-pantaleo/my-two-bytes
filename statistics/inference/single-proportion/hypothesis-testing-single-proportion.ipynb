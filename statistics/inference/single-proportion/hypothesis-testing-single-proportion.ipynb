{
 "cells": [
  {
   "cell_type": "markdown",
   "metadata": {},
   "source": [
    "# Hypothesis Testing for a Single Proportion"
   ]
  },
  {
   "cell_type": "markdown",
   "metadata": {},
   "source": [
    "---"
   ]
  },
  {
   "cell_type": "markdown",
   "metadata": {},
   "source": [
    "## Import"
   ]
  },
  {
   "cell_type": "code",
   "execution_count": 1,
   "metadata": {},
   "outputs": [],
   "source": [
    "import numpy as np\n",
    "import pandas as pd\n",
    "import matplotlib.pyplot as plt\n",
    "import seaborn as sns\n",
    "import scipy.stats as stats\n",
    "import statsmodels.api as sm\n",
    "import statsmodels.formula.api as smf\n",
    "from statsmodels.stats.power import TTestIndPower\n",
    "\n",
    "plt.style.use(\"fivethirtyeight\")\n",
    "%matplotlib inline"
   ]
  },
  {
   "cell_type": "markdown",
   "metadata": {},
   "source": [
    "---"
   ]
  },
  {
   "cell_type": "markdown",
   "metadata": {},
   "source": [
    "Nell'*hypothesis testing* su una *singola proportion* le condizioni da rispettare sono identiche a quelle del corrispondente *CLT*, ma è necessario fare chiarezza sull'uso di $p$ e $\\hat{p}$: per la *success/failure* si usa $\\hat{p}$ nella costruzione dei *CI* (perchè le condizioni devono essere rispettate dal *sample*) e $p$ nell'*HT* (perché il punto di partenza è l'ipotesi nulla); stessa cosa per lo *standard error*, difatti nei *CI* uso $\\hat{p}$ perché non conosco $p$ e nell'*HT* uso $p$ per via del *CLT*.\n",
    "\n",
    "La *test statistic* è sempre lo *z-score*:\n",
    "\n",
    "$$\\large Z=\\frac{\\hat{p}-p_{null}}{SE}\\;\\;\\;\\;\\;\n",
    "SE=\\sqrt{\\frac{p_{null}(1-p_{null})}{n}}$$"
   ]
  },
  {
   "cell_type": "markdown",
   "metadata": {},
   "source": [
    "La regola generale per stabilire se sia possibile usare i metodi dell'*hypothesis testing* con la distribuzione normale è costituita da due condizioni:\n",
    "\n",
    "$$\\large np_{null}\\geq 15\\;\\;\\; n(1-p_{null})\\geq 15$$"
   ]
  },
  {
   "cell_type": "markdown",
   "metadata": {},
   "source": [
    "---"
   ]
  },
  {
   "cell_type": "markdown",
   "metadata": {},
   "source": [
    "**\\[Esempio\\]**"
   ]
  },
  {
   "cell_type": "code",
   "execution_count": 2,
   "metadata": {},
   "outputs": [
    {
     "data": {
      "text/plain": [
       "(8.915160160413807, 2.435558464081159e-19)"
      ]
     },
     "execution_count": 2,
     "metadata": {},
     "output_type": "execute_result"
    }
   ],
   "source": [
    "n = 1983\n",
    "phat = 0.6\n",
    "pnull = 0.5\n",
    "\n",
    "test_statistic, p_value = sm.stats.proportions_ztest(\n",
    "    count = 1190,\n",
    "    nobs = n,\n",
    "    value = pnull,\n",
    "    alternative = \"larger\",\n",
    "    prop_var = pnull)\n",
    "\n",
    "test_statistic, p_value"
   ]
  },
  {
   "cell_type": "markdown",
   "metadata": {},
   "source": [
    "---"
   ]
  }
 ],
 "metadata": {
  "kernelspec": {
   "display_name": "Python 3",
   "language": "python",
   "name": "python3"
  },
  "language_info": {
   "codemirror_mode": {
    "name": "ipython",
    "version": 3
   },
   "file_extension": ".py",
   "mimetype": "text/x-python",
   "name": "python",
   "nbconvert_exporter": "python",
   "pygments_lexer": "ipython3",
   "version": "3.7.6"
  }
 },
 "nbformat": 4,
 "nbformat_minor": 4
}
