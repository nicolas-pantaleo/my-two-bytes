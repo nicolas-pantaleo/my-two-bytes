{
 "cells": [
  {
   "cell_type": "markdown",
   "metadata": {},
   "source": [
    "# Confidence Interval for a Single Proportion"
   ]
  },
  {
   "cell_type": "markdown",
   "metadata": {},
   "source": [
    "---"
   ]
  },
  {
   "cell_type": "markdown",
   "metadata": {},
   "source": [
    "## Import"
   ]
  },
  {
   "cell_type": "code",
   "execution_count": 1,
   "metadata": {},
   "outputs": [],
   "source": [
    "import numpy as np\n",
    "import pandas as pd\n",
    "import matplotlib.pyplot as plt\n",
    "import seaborn as sns\n",
    "import scipy.stats as stats\n",
    "import statsmodels.api as sm\n",
    "import statsmodels.formula.api as smf\n",
    "from statsmodels.stats.power import TTestIndPower\n",
    "\n",
    "plt.style.use(\"fivethirtyeight\")\n",
    "%matplotlib inline"
   ]
  },
  {
   "cell_type": "markdown",
   "metadata": {},
   "source": [
    "---"
   ]
  },
  {
   "cell_type": "markdown",
   "metadata": {},
   "source": [
    "<a id=\"ci-single-prop\"></a>\n",
    "## Confidence Interval for a Single Proportion"
   ]
  },
  {
   "cell_type": "markdown",
   "metadata": {},
   "source": [
    "La costruzione di un **confidence interval** per una *proportion* segue la stessa struttura degli altri.\n",
    "\n",
    "$$\\large \\hat{p}\\pm z^*SE_{\\hat{p}}$$\n",
    "\n",
    "Lo *standard error* va calcolato con la stessa formula del *CLT*:\n",
    "\n",
    "$$\\large SE_{\\hat{p}} = \\sqrt{\\frac{\\hat{p}(1-\\hat{p})}{n}}$$\n",
    "\n",
    "Per determinare il *sample size* necessario a produrre un certo *margin of error*, se non si ha a disposizione una $\\hat{p}$ relativa a studi passati, è meglio usare la soluzione più conservativa, cioè $\\hat{p}=0.5$, che nei calcoli porterà al *sample size* più largo possibile per quello specifico *margin of error*."
   ]
  },
  {
   "cell_type": "markdown",
   "metadata": {},
   "source": [
    "Una regola generale per stabilire se sia possibile costruire dei *CI* sfruttando la distribuzione normale è costituita da due condizioni:\n",
    "\n",
    "$$\\large n\\hat{p}\\geq 15\\;\\;\\; n(1-\\hat{p})\\geq 15$$"
   ]
  },
  {
   "cell_type": "markdown",
   "metadata": {},
   "source": [
    "---"
   ]
  },
  {
   "cell_type": "markdown",
   "metadata": {},
   "source": [
    "**\\[Esempio\\]** "
   ]
  },
  {
   "cell_type": "code",
   "execution_count": 2,
   "metadata": {},
   "outputs": [],
   "source": [
    "def confint_z_single_prop(cl, phat, n):\n",
    "    crit_value = stats.norm.ppf(q = 1 -((1 - cl)/2), loc = 0, scale = 1)\n",
    "    std_error = np.sqrt((phat*(1-phat))/n)\n",
    "    lower_bound = phat - crit_value * std_error\n",
    "    upper_bound = phat + crit_value * std_error\n",
    "    return lower_bound, upper_bound   "
   ]
  },
  {
   "cell_type": "code",
   "execution_count": 3,
   "metadata": {},
   "outputs": [
    {
     "data": {
      "text/plain": [
       "(0.8229625467164996, 0.8770374532835004)"
      ]
     },
     "execution_count": 3,
     "metadata": {},
     "output_type": "execute_result"
    }
   ],
   "source": [
    "n = 670\n",
    "phat = 0.85\n",
    "\n",
    "confint_z_single_prop(0.95, phat, n)"
   ]
  },
  {
   "cell_type": "markdown",
   "metadata": {},
   "source": [
    "---"
   ]
  },
  {
   "cell_type": "markdown",
   "metadata": {},
   "source": [
    "**[Esempio]** In un sondaggio di 1000 persone, 430 affermano di approvare il lavoro svolto dal presidente. Ci serve un 95% CI sulla proporzione della popolazione che approva l'operato del presidente."
   ]
  },
  {
   "cell_type": "code",
   "execution_count": 4,
   "metadata": {},
   "outputs": [
    {
     "data": {
      "text/plain": [
       "(0.3993154508432643, 0.4606845491567357)"
      ]
     },
     "execution_count": 4,
     "metadata": {},
     "output_type": "execute_result"
    }
   ],
   "source": [
    "n = 1000\n",
    "phat = 430/1000\n",
    "\n",
    "confint_z_single_prop(cl = 0.95, phat = phat, n = n)"
   ]
  },
  {
   "cell_type": "markdown",
   "metadata": {},
   "source": [
    "---"
   ]
  }
 ],
 "metadata": {
  "kernelspec": {
   "display_name": "Python 3",
   "language": "python",
   "name": "python3"
  },
  "language_info": {
   "codemirror_mode": {
    "name": "ipython",
    "version": 3
   },
   "file_extension": ".py",
   "mimetype": "text/x-python",
   "name": "python",
   "nbconvert_exporter": "python",
   "pygments_lexer": "ipython3",
   "version": "3.7.6"
  }
 },
 "nbformat": 4,
 "nbformat_minor": 4
}
