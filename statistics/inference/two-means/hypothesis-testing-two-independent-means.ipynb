{
 "cells": [
  {
   "cell_type": "markdown",
   "metadata": {},
   "source": [
    "# Hypothesis Testing for Two Independent Means"
   ]
  },
  {
   "cell_type": "markdown",
   "metadata": {},
   "source": [
    "---"
   ]
  },
  {
   "cell_type": "markdown",
   "metadata": {},
   "source": [
    "## Import"
   ]
  },
  {
   "cell_type": "code",
   "execution_count": 1,
   "metadata": {},
   "outputs": [],
   "source": [
    "import numpy as np\n",
    "import pandas as pd\n",
    "import matplotlib.pyplot as plt\n",
    "import seaborn as sns\n",
    "import scipy.stats as stats\n",
    "import statsmodels.api as sm\n",
    "import statsmodels.formula.api as smf\n",
    "from statsmodels.stats.power import TTestIndPower\n",
    "\n",
    "plt.style.use(\"fivethirtyeight\")\n",
    "%matplotlib inline"
   ]
  },
  {
   "cell_type": "code",
   "execution_count": 2,
   "metadata": {},
   "outputs": [],
   "source": [
    "def sample_creator(n, mean, std):\n",
    "    sample = stats.norm.rvs(loc=0, scale=std, size=n)\n",
    "    sample = sample - np.mean(sample)\n",
    "    sample = sample * (std/sample.std(ddof=1))\n",
    "    return sample + mean"
   ]
  },
  {
   "cell_type": "markdown",
   "metadata": {},
   "source": [
    "---"
   ]
  },
  {
   "cell_type": "markdown",
   "metadata": {},
   "source": [
    "Per fare inferenza sulla differenza fra due medie indipendenti, ci sono delle condizioni da rispettare:\n",
    "\n",
    "- **Independence within groups**: Le osservazioni raccolte nei *sample* devono essere indipendenti. E' molto probabile che si verifichi nel caso in cui sia stato applicato il *random sampling* (in un *observational study*) o il *random assignment* (in un *experiment*). Nel caso di *random sampling* senza *replacement*, i due *sample size* $n_1$ e $n_2$ devono essere entrambi inferiori rispetto al 10% della popolazione.\n",
    "\n",
    "\n",
    "- **Independence between groups**: I gruppi devono essere indipendenti fra loro, cioè le osservazioni al loro interno non devono essere *paired*  fra un gruppo e l'altro.\n",
    "\n",
    "\n",
    "- **Sample size/skew**: Maggiore skewness necessita di *sample size* altrettanto alti."
   ]
  },
  {
   "cell_type": "markdown",
   "metadata": {},
   "source": [
    "Per calcolare la *test statistic* relativa alla differenza fra **two independent means**, la *point estimate* è la differenza fra le due medie, mentre lo *standard error* va calcolato come la radice quadrata della somma delle varianze dei due gruppi divise per il relativo *sample size*. Infine, i *degrees of freedom* della *t-distribution* in questo caso sono pari al minimo fra i due *sample size* meno uno. Questa è la cosiddetta **Welch Procedure**."
   ]
  },
  {
   "cell_type": "markdown",
   "metadata": {},
   "source": [
    "$$\\large SE_{(\\bar{x_1}-\\bar{x_2})}=\n",
    "\\sqrt{\\frac{s_1^2}{n_1}+\\frac{s_2^2}{n_2}}$$\n",
    "\n",
    "$$\\large df=min(n_1-1,\\; n_2-1)$$"
   ]
  },
  {
   "cell_type": "markdown",
   "metadata": {},
   "source": [
    "La *test statistic* è un *t-score* calcolato come segue:\n",
    "\n",
    "$$\\large T=\\frac{(\\bar{x_1}-\\bar{x_2})-null}{SE_{(\\bar{x_1}-\\bar{x_2})}}$$"
   ]
  },
  {
   "cell_type": "markdown",
   "metadata": {},
   "source": [
    "In realtà, la formula originale per il calcolo dei *df* è:\n",
    "\n",
    "$$\\large df=\\frac{\\left(\\frac{s_1^2}{n_1}+\\frac{s_2^2}{n_2}\\right)^2}\n",
    "{\\frac{1}{n_1-1}\\left(\\frac{s_1^2}{n_1}\\right)^2+\n",
    "\\frac{1}{n_2-1}\\left(\\frac{s_2^2}{n_2}\\right)^2}$$"
   ]
  },
  {
   "cell_type": "markdown",
   "metadata": {},
   "source": [
    "Ricordiamo, inoltre, che la differenza $\\mu_1-\\mu_2$ spesso prende il nome di **Treatment Effect**, perché il più delle volte si basa sulla differenza di valori medi di statistiche di un treatment group e di un control group."
   ]
  },
  {
   "cell_type": "markdown",
   "metadata": {},
   "source": [
    "---"
   ]
  },
  {
   "cell_type": "markdown",
   "metadata": {},
   "source": [
    "Usando la **pooled variance procedure** si assume che entrambe le popolazioni abbiano la stessa varianza.\n",
    "\n",
    "Il calcolo dello *standard error* cambia così:\n",
    "\n",
    "$$\\large SE(\\bar{X_1}-\\bar{X_2})=s_p\\sqrt{\\frac{1}{n_1}+\\frac{1}{n_2}}$$"
   ]
  },
  {
   "cell_type": "markdown",
   "metadata": {},
   "source": [
    "Dove $s_p$ è la *sample pooled standard deviation*, cioè l'*estimator* di $\\sigma$, la deviazione standard comune ad entrambe le popolazioni:\n",
    "\n",
    "$$\\large s_p^2=\\frac{(n_1-1)s_1^2+(n_2-1)s_2^2}{n_1+n_2-2}$$"
   ]
  },
  {
   "cell_type": "markdown",
   "metadata": {},
   "source": [
    "I gradi di libertà, in questo caso, devono coincidere con quelli usati nel calcolo della *pooled sample variance*:\n",
    "\n",
    "$$\\large df=n_1-n_2-2$$"
   ]
  },
  {
   "cell_type": "markdown",
   "metadata": {},
   "source": [
    "La formula per il calcolo della *test statistic* non cambia!"
   ]
  },
  {
   "cell_type": "markdown",
   "metadata": {},
   "source": [
    "---"
   ]
  },
  {
   "cell_type": "markdown",
   "metadata": {},
   "source": [
    "**\\[Esempio\\]** Un sample di 22 soggetti ha pranzato mentre giocava al pc. Sono stati calcolati i grammi di biscotti consumati come snack in seguito al pranzo. La sample mean è 52.1g, con deviazione standard 45.1g. Chi non ha giocato al pc, invece, ha consumato in media 27.1g di biscotti, con una deviazione standard di 26.4g. Anche in questo caso il sample size è 22. Esiste una differenza significativa fra i due gruppi nel numero di biscotti assunti in media?"
   ]
  },
  {
   "cell_type": "code",
   "execution_count": 3,
   "metadata": {},
   "outputs": [
    {
     "name": "stdout",
     "output_type": "stream",
     "text": [
      "52.1 45.099999999999994\n",
      "27.10000000000001 26.399999999999995\n"
     ]
    }
   ],
   "source": [
    "n_1 = 22\n",
    "n_2 = 22\n",
    "xbar_1 = 52.1\n",
    "xbar_2 = 27.1\n",
    "std_1 = 45.1\n",
    "std_2 = 26.4\n",
    "\n",
    "sample_1 = sample_creator(n_1, xbar_1, std_1)\n",
    "sample_2 = sample_creator(n_2, xbar_2, std_2)\n",
    "\n",
    "print(sample_1.mean(), sample_1.std(ddof = 1))\n",
    "print(sample_2.mean(), sample_2.std(ddof = 1))"
   ]
  },
  {
   "cell_type": "code",
   "execution_count": 4,
   "metadata": {},
   "outputs": [
    {
     "data": {
      "text/plain": [
       "(2.2438451596344318, 0.03148839749645822, 33.879263805934805)"
      ]
     },
     "execution_count": 4,
     "metadata": {},
     "output_type": "execute_result"
    }
   ],
   "source": [
    "h0 = 0\n",
    "\n",
    "test_statistic, p_value, df = sm.stats.ttest_ind(\n",
    "    x1 = sample_1,\n",
    "    x2 = sample_2,\n",
    "    value = h0,\n",
    "    alternative = \"two-sided\",\n",
    "    usevar = \"unequal\")\n",
    "\n",
    "test_statistic, p_value, df"
   ]
  },
  {
   "cell_type": "markdown",
   "metadata": {},
   "source": [
    "---"
   ]
  },
  {
   "cell_type": "markdown",
   "metadata": {},
   "source": [
    "**[Esempio]** Differenza in media fra pressione sanguigna fra uomo e donna."
   ]
  },
  {
   "cell_type": "code",
   "execution_count": 5,
   "metadata": {},
   "outputs": [],
   "source": [
    "bp = pd.read_csv(\"../data/blood-pressure.csv\")"
   ]
  },
  {
   "cell_type": "code",
   "execution_count": 6,
   "metadata": {},
   "outputs": [],
   "source": [
    "bp_males = bp[\"bp_after\"][bp[\"sex\"] == \"Male\"]\n",
    "bp_females = bp[\"bp_after\"][bp[\"sex\"] == \"Female\"]"
   ]
  },
  {
   "cell_type": "markdown",
   "metadata": {},
   "source": [
    "_Check normality_"
   ]
  },
  {
   "cell_type": "code",
   "execution_count": 7,
   "metadata": {},
   "outputs": [
    {
     "data": {
      "text/plain": [
       "(0.98586106300354, 0.7147841453552246)"
      ]
     },
     "execution_count": 7,
     "metadata": {},
     "output_type": "execute_result"
    }
   ],
   "source": [
    "stats.shapiro(bp_males.values - bp_females.values)"
   ]
  },
  {
   "cell_type": "markdown",
   "metadata": {},
   "source": [
    "_Il test non è significativo, quindi la sampling distribution segue andamento normale._\n",
    "\n",
    "_Check Homogeneity of Variance_"
   ]
  },
  {
   "cell_type": "code",
   "execution_count": 8,
   "metadata": {},
   "outputs": [
    {
     "data": {
      "text/plain": [
       "LeveneResult(statistic=5.865854141268659, pvalue=0.01695904277978066)"
      ]
     },
     "execution_count": 8,
     "metadata": {},
     "output_type": "execute_result"
    }
   ],
   "source": [
    "stats.levene(bp_males, bp_females, center = \"mean\")"
   ]
  },
  {
   "cell_type": "markdown",
   "metadata": {},
   "source": [
    "_I gruppi presentano variabilità diverse, forse il t-test non sarà affidabile._"
   ]
  },
  {
   "cell_type": "code",
   "execution_count": 9,
   "metadata": {},
   "outputs": [
    {
     "data": {
      "text/plain": [
       "Ttest_indResult(statistic=3.3479506182111387, pvalue=0.0010930222986154283)"
      ]
     },
     "execution_count": 9,
     "metadata": {},
     "output_type": "execute_result"
    }
   ],
   "source": [
    "stats.ttest_ind(\n",
    "    bp[\"bp_after\"][bp[\"sex\"] == \"Male\"],\n",
    "    bp[\"bp_after\"][bp[\"sex\"] == \"Female\"])"
   ]
  },
  {
   "cell_type": "markdown",
   "metadata": {},
   "source": [
    "_Possiamo rigettare l'ipotesi nulla, c'è differenza fra le medie dei gruppi._"
   ]
  },
  {
   "cell_type": "markdown",
   "metadata": {},
   "source": [
    "---"
   ]
  },
  {
   "cell_type": "markdown",
   "metadata": {},
   "source": [
    "**[Esempio]** Ad un test per il PTSD, molti mentono. Abbiamo 49 veterani che cercano solo compensation e 70 che cercano un trattamento. Vogliamo capire se c'è differenza fra gli score medi dei due gruppi. Nel gruppo compensation abbiamo una sample mean di 9.76 e dev. std. di 4.90, mentre nel gruppo treatment abbiamo una sample mean di 6.48 e una dev. std. di 3.49."
   ]
  },
  {
   "cell_type": "code",
   "execution_count": 10,
   "metadata": {},
   "outputs": [
    {
     "name": "stdout",
     "output_type": "stream",
     "text": [
      "9.76 4.9\n",
      "6.480000000000001 3.4899999999999998\n"
     ]
    }
   ],
   "source": [
    "n_1 = 49\n",
    "xbar_1 = 9.76\n",
    "s_1 = 4.90\n",
    "\n",
    "n_2 = 70\n",
    "xbar_2 = 6.48\n",
    "s_2 = 3.49\n",
    "\n",
    "sample_1 = sample_creator(n_1, xbar_1, s_1)\n",
    "sample_2 = sample_creator(n_2, xbar_2, s_2)\n",
    "\n",
    "print(sample_1.mean(), sample_1.std(ddof=1))\n",
    "print(sample_2.mean(), sample_2.std(ddof=1))"
   ]
  },
  {
   "cell_type": "code",
   "execution_count": 11,
   "metadata": {},
   "outputs": [],
   "source": [
    "def t_test_two_means_pooled(sample_1, sample_2):\n",
    "    n_1, n_2 = len(sample_1), len(sample_2)\n",
    "    pooled_variance = ((n_1-1)*np.var(sample_1,ddof=1)+\\\n",
    "                       (n_2-1)*np.var(sample_2, ddof = 1))\\\n",
    "                        /(n_1+n_2-2)\n",
    "    std_error = np.sqrt(pooled_variance)*np.sqrt((1/n_1)+(1/n_2))\n",
    "    point_estimate = sample_1.mean() - sample_2.mean()\n",
    "    test_statistic = point_estimate/std_error\n",
    "    return 2 * stats.t.sf(x = test_statistic, df = n_1+n_2-2)"
   ]
  },
  {
   "cell_type": "code",
   "execution_count": 12,
   "metadata": {},
   "outputs": [
    {
     "data": {
      "text/plain": [
       "4.047130771605055e-05"
      ]
     },
     "execution_count": 12,
     "metadata": {},
     "output_type": "execute_result"
    }
   ],
   "source": [
    "t_test_two_means_pooled(sample_1, sample_2)"
   ]
  },
  {
   "cell_type": "markdown",
   "metadata": {},
   "source": [
    "Ci sono prove molto forti sulla differenza fra le due medie!"
   ]
  },
  {
   "cell_type": "markdown",
   "metadata": {},
   "source": [
    "---"
   ]
  },
  {
   "cell_type": "markdown",
   "metadata": {},
   "source": [
    "**[Esempio]** Si vuole studiare l'efficacia di un antidoto per veleno di serpente. Lo si testa sui maiali, creando un tratment group da 9 soggetti e un placebo group da 8 soggetti. La variabile da monitorare sarà la modifica in volume, per capire se l'antidoto sia efficace contro il gonfiore. \n",
    "\n",
    "I dati sono i seguenti, dove il gruppo 1 è il treatment, mentre il gruppo 2 è il placebo."
   ]
  },
  {
   "cell_type": "code",
   "execution_count": 13,
   "metadata": {},
   "outputs": [],
   "source": [
    "xbar_1 = 203.33\n",
    "s_1 = 56.18\n",
    "n_1 = 9\n",
    "\n",
    "xbar_2 = 201.25\n",
    "s_2 = 112.62\n",
    "n_2 = 8\n",
    "\n",
    "sample_1 = sample_creator(n_1, xbar_1, s_1)\n",
    "sample_2 = sample_creator(n_2, xbar_2, s_2)"
   ]
  },
  {
   "cell_type": "code",
   "execution_count": 14,
   "metadata": {},
   "outputs": [],
   "source": [
    "def t_test_two_means_welch(sample_1, sample_2):\n",
    "    var_1, var_2 = np.var(sample_1,ddof=1), np.var(sample_2,ddof=1)\n",
    "    n_1, n_2 = len(sample_1), len(sample_2)\n",
    "    std_error = np.sqrt((var_1/n_1) + (var_2/n_2))\n",
    "    point_estimate = np.mean(sample_1) - np.mean(sample_2)\n",
    "    test_statistic = point_estimate/std_error\n",
    "    num_df = ((var_1/n_1)+(var_2/n_2))**2\n",
    "    den_df = ((1/(n_1-1))*((var_1/n_1)**2))\\\n",
    "                + (((1/(n_2-1)))*((var_2/n_2)**2))\n",
    "    df = num_df/den_df\n",
    "    \n",
    "    return 2 * stats.t.sf(x = test_statistic, df = df)"
   ]
  },
  {
   "cell_type": "code",
   "execution_count": 15,
   "metadata": {},
   "outputs": [
    {
     "data": {
      "text/plain": [
       "0.9632265708261043"
      ]
     },
     "execution_count": 15,
     "metadata": {},
     "output_type": "execute_result"
    }
   ],
   "source": [
    "t_test_two_means_welch(sample_1, sample_2)"
   ]
  },
  {
   "cell_type": "markdown",
   "metadata": {},
   "source": [
    "Non possiamo rigettare l'ipotesi nulla secondo cui le due medie sono coincidenti. In altre parole, non c'è evidenza di **treatment effect**."
   ]
  },
  {
   "cell_type": "markdown",
   "metadata": {},
   "source": [
    "---"
   ]
  }
 ],
 "metadata": {
  "kernelspec": {
   "display_name": "Python 3",
   "language": "python",
   "name": "python3"
  },
  "language_info": {
   "codemirror_mode": {
    "name": "ipython",
    "version": 3
   },
   "file_extension": ".py",
   "mimetype": "text/x-python",
   "name": "python",
   "nbconvert_exporter": "python",
   "pygments_lexer": "ipython3",
   "version": "3.7.6"
  }
 },
 "nbformat": 4,
 "nbformat_minor": 4
}
