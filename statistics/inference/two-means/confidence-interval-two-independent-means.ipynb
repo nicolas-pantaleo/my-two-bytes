{
 "cells": [
  {
   "cell_type": "markdown",
   "metadata": {},
   "source": [
    "# Confidence Interval for Two Independent Means"
   ]
  },
  {
   "cell_type": "markdown",
   "metadata": {},
   "source": [
    "---"
   ]
  },
  {
   "cell_type": "markdown",
   "metadata": {},
   "source": [
    "## Import"
   ]
  },
  {
   "cell_type": "code",
   "execution_count": 1,
   "metadata": {},
   "outputs": [],
   "source": [
    "import numpy as np\n",
    "import pandas as pd\n",
    "import matplotlib.pyplot as plt\n",
    "import seaborn as sns\n",
    "import scipy.stats as stats\n",
    "import statsmodels.api as sm\n",
    "import statsmodels.formula.api as smf\n",
    "from statsmodels.stats.power import TTestIndPower\n",
    "\n",
    "plt.style.use(\"fivethirtyeight\")\n",
    "%matplotlib inline"
   ]
  },
  {
   "cell_type": "code",
   "execution_count": 2,
   "metadata": {},
   "outputs": [],
   "source": [
    "def sample_creator(n, mean, std):\n",
    "    sample = stats.norm.rvs(loc=0, scale=std, size=n)\n",
    "    sample = sample - np.mean(sample)\n",
    "    sample = sample * (std/sample.std(ddof=1))\n",
    "    return sample + mean"
   ]
  },
  {
   "cell_type": "markdown",
   "metadata": {},
   "source": [
    "---"
   ]
  },
  {
   "cell_type": "markdown",
   "metadata": {},
   "source": [
    "Per fare inferenza sulla differenza fra due medie indipendenti, ci sono delle condizioni da rispettare:\n",
    "\n",
    "- **Independence within groups**: Le osservazioni raccolte nei *sample* devono essere indipendenti. E' molto probabile che si verifichi nel caso in cui sia stato applicato il *random sampling* (in un *observational study*) o il *random assignment* (in un *experiment*). Nel caso di *random sampling* senza *replacement*, i due *sample size* $n_1$ e $n_2$ devono essere entrambi inferiori rispetto al 10% della popolazione.\n",
    "\n",
    "\n",
    "- **Independence between groups**: I gruppi devono essere indipendenti fra loro, cioè le osservazioni al loro interno non devono essere *paired*  fra un gruppo e l'altro.\n",
    "\n",
    "\n",
    "- **Sample size/skew**: Maggiore skewness necessita di *sample size* altrettanto alti.\n",
    "\n",
    "\n",
    "- **Population distribution**: la popolazione deve seguire andamento quasi normale."
   ]
  },
  {
   "cell_type": "markdown",
   "metadata": {},
   "source": [
    "Per costruire un *confidence interval* che stimi la differenza fra **two independent means**, la *point estimate* è la differenza fra le due medie, mentre lo *standard error* va calcolato come la radice quadrata della somma delle varianze dei due gruppi divise per il relativo *sample size*. Infine, i *degrees of freedom* della *t-distribution* in questo caso sono pari al minimo fra i due *sample size* meno uno. Questa è la cosiddetta **Welch Procedure**.<br><br>\n",
    "\n",
    "$$\\large CI: (\\bar{x_1}-\\bar{x_2})\\pm t_{df}^*SE_{(\\bar{x_1}-\\bar{x_2})}$$\n",
    "\n",
    "$$\\large SE_{(\\bar{x_1}-\\bar{x_2})}=\n",
    "\\sqrt{\\frac{s_1^2}{n_1}+\\frac{s_2^2}{n_2}}$$\n",
    "\n",
    "$$\\large df=min(n_1-1,\\; n_2-1)$$"
   ]
  },
  {
   "cell_type": "markdown",
   "metadata": {},
   "source": [
    "In realtà, la formula originale per il calcolo dei *df* è:\n",
    "\n",
    "$$\\large df=\\frac{\\left(\\frac{s_1^2}{n_1}+\\frac{s_2^2}{n_2}\\right)^2}\n",
    "{\\frac{1}{n_1-1}\\left(\\frac{s_1^2}{n_1}\\right)^2+\n",
    "\\frac{1}{n_2-1}\\left(\\frac{s_2^2}{n_2}\\right)^2}$$"
   ]
  },
  {
   "cell_type": "markdown",
   "metadata": {},
   "source": [
    "---"
   ]
  },
  {
   "cell_type": "markdown",
   "metadata": {},
   "source": [
    "La **pooled variance** procedure è una tecnica utilizzata per sopperire al fatto che la *sampling distribution* nata dalla differenza fra le due *sample means* non è perfettamente allineata con la *t-distribution*.\n",
    "\n",
    "L'assunzione di fondo è che le varianze delle due popolazioni siano coincidenti.\n",
    "\n",
    "$$\\large \\sigma_1^2=\\sigma_2^2=\\sigma^2$$"
   ]
  },
  {
   "cell_type": "markdown",
   "metadata": {},
   "source": [
    "Possiamo costruire un *estimator* della *common population variance* con la cosiddetta **pooled sample variance**:\n",
    "\n",
    "$$\\large s_p^2=\\frac{(n_1-1)s_1^2+(n_2-1)s_2^2}{n_1+n_2-2}$$"
   ]
  },
  {
   "cell_type": "markdown",
   "metadata": {},
   "source": [
    "Lo **standard error** della differenza di *sample means* dev'essere costruito come segue:\n",
    "\n",
    "$$\\large SE(\\bar{X_1}-\\bar{X_2})=s_p\\sqrt{\\frac{1}{n_1}+\\frac{1}{n_2}}$$"
   ]
  },
  {
   "cell_type": "markdown",
   "metadata": {},
   "source": [
    "Questo *standard error* assume il ruolo di *estimator* della vera deviazione standard della *sampling distribution* della differenza fra le due medie."
   ]
  },
  {
   "cell_type": "markdown",
   "metadata": {},
   "source": [
    "Ora possiamo costruire il *confidence interval*:\n",
    "\n",
    "$$\\large \\bar{X_1}-\\bar{X_2}\\pm t_{\\alpha/2}\\cdot SE(\\bar{X_1}-\\bar{X_2})$$"
   ]
  },
  {
   "cell_type": "markdown",
   "metadata": {},
   "source": [
    "I *df* da associare al *critical t-score* sono gli stessi della *pooled variance*:\n",
    "\n",
    "$$\\large df=n_1-n_2-2$$"
   ]
  },
  {
   "cell_type": "markdown",
   "metadata": {},
   "source": [
    "---"
   ]
  },
  {
   "cell_type": "markdown",
   "metadata": {},
   "source": [
    "**\\[Esempio\\]** Un sample di 22 soggetti ha pranzato mentre giocava al pc. Sono stati calcolati i grammi di biscotti consumati come snack in seguito al pranzo. La sample mean è 52.1g, con deviazione standard 45.1g. Chi non ha giocato al pc, invece, ha consumato in media 27.1g di biscotti, con una deviazione standard di 26.4g. Anche in questo caso il sample size è 22. Calcolare un 95% CI relativo alla differenza in media di biscotti assunti dopo pranzo dai due gruppi."
   ]
  },
  {
   "cell_type": "code",
   "execution_count": 3,
   "metadata": {},
   "outputs": [],
   "source": [
    "def confint_two_mean_diff(cl, sample_1, sample_2):\n",
    "    df = min(len(sample_1) - 1, len(sample_2) - 1)\n",
    "    crit_value = stats.t.ppf(q = 1- ((1 - cl)/2), df = df)\n",
    "    point_estimate = sample_1.mean() - sample_2.mean()\n",
    "    std_error = np.sqrt(\n",
    "                    np.power(sample_1.std(ddof=1), 2)/len(sample_1) +\n",
    "                    np.power(sample_2.std(ddof=1), 2)/len(sample_2))\n",
    "    lower_bound = point_estimate - crit_value * std_error\n",
    "    upper_bound = point_estimate + crit_value * std_error\n",
    "    return lower_bound, upper_bound"
   ]
  },
  {
   "cell_type": "code",
   "execution_count": 4,
   "metadata": {},
   "outputs": [
    {
     "name": "stdout",
     "output_type": "stream",
     "text": [
      "52.1 45.10000000000001\n",
      "27.1 26.399999999999995\n"
     ]
    }
   ],
   "source": [
    "n_1 = 22\n",
    "n_2 = 22\n",
    "xbar_1 = 52.1\n",
    "xbar_2 = 27.1\n",
    "std_1 = 45.1\n",
    "std_2 = 26.4\n",
    "\n",
    "sample_1 = sample_creator(n_1, xbar_1, std_1)\n",
    "sample_2 = sample_creator(n_2, xbar_2, std_2)\n",
    "\n",
    "print(sample_1.mean(), sample_1.std(ddof = 1))\n",
    "print(sample_2.mean(), sample_2.std(ddof = 1))"
   ]
  },
  {
   "cell_type": "code",
   "execution_count": 5,
   "metadata": {},
   "outputs": [
    {
     "data": {
      "text/plain": [
       "(1.8297977714906857, 48.17020222850931)"
      ]
     },
     "execution_count": 5,
     "metadata": {},
     "output_type": "execute_result"
    }
   ],
   "source": [
    "confint_two_mean_diff(0.95, sample_1, sample_2)"
   ]
  },
  {
   "cell_type": "markdown",
   "metadata": {},
   "source": [
    "---"
   ]
  },
  {
   "cell_type": "markdown",
   "metadata": {},
   "source": [
    "**[Esempio]** Ad un test per il PTSD, molti mentono. Abbiamo 49 veterani che cercano solo compensation e 70 che cercano un trattamento. Vogliamo capire se c'è differenza fra gli score medi dei due gruppi. Nel gruppo compensation abbiamo una sample mean di 9.76 e dev. std. di 4.90, mentre nel gruppo treatment abbiamo una sample mean di 6.48 e una dev. std. di 3.49."
   ]
  },
  {
   "cell_type": "code",
   "execution_count": 6,
   "metadata": {},
   "outputs": [
    {
     "name": "stdout",
     "output_type": "stream",
     "text": [
      "9.76 4.8999999999999995\n",
      "6.4799999999999995 3.49\n"
     ]
    }
   ],
   "source": [
    "n_1 = 49\n",
    "xbar_1 = 9.76\n",
    "s_1 = 4.90\n",
    "\n",
    "n_2 = 70\n",
    "xbar_2 = 6.48\n",
    "s_2 = 3.49\n",
    "\n",
    "sample_1 = sample_creator(n_1, xbar_1, s_1)\n",
    "sample_2 = sample_creator(n_2, xbar_2, s_2)\n",
    "\n",
    "print(sample_1.mean(), sample_1.std(ddof=1))\n",
    "print(sample_2.mean(), sample_2.std(ddof=1))"
   ]
  },
  {
   "cell_type": "code",
   "execution_count": 7,
   "metadata": {},
   "outputs": [],
   "source": [
    "def confint_two_means_pooled(sample_1, sample_2, alpha=0.05):\n",
    "    n_1, n_2 = len(sample_1), len(sample_2)\n",
    "    pooled_variance = ((n_1-1)*np.var(sample_1,ddof=1)+\\\n",
    "                       (n_2-1)*np.var(sample_2, ddof = 1))\\\n",
    "                        /(n_1+n_2-2)\n",
    "    std_error = np.sqrt(pooled_variance)*np.sqrt((1/n_1)+(1/n_2))\n",
    "    critical_t = stats.t.ppf(q = 1-(alpha/2), df = n_1+n_2-2)\n",
    "    point_estimate = sample_1.mean() - sample_2.mean()\n",
    "    margin_error = critical_t * std_error\n",
    "    return (point_estimate - margin_error, point_estimate + margin_error)"
   ]
  },
  {
   "cell_type": "code",
   "execution_count": 8,
   "metadata": {},
   "outputs": [
    {
     "data": {
      "text/plain": [
       "(1.7575594214519832, 4.802440578548017)"
      ]
     },
     "execution_count": 8,
     "metadata": {},
     "output_type": "execute_result"
    }
   ],
   "source": [
    "confint_two_means_pooled(sample_1, sample_2)"
   ]
  },
  {
   "cell_type": "markdown",
   "metadata": {},
   "source": [
    "Siamo sicuri al 95% che la differenza tra la media del primo gruppo e quella del secondo sia contenuta in questo intervallo. \n",
    "\n",
    "Per via del fatto che l'intervallo generato è strettamente maggiore di zero, possiamo affermare che in media gli score delle persone in cerca di trattamento sono inferiori rispetto agli score di chi cerca solo compensation mentendo. "
   ]
  },
  {
   "cell_type": "markdown",
   "metadata": {},
   "source": [
    "---"
   ]
  },
  {
   "cell_type": "markdown",
   "metadata": {},
   "source": [
    "**[Esempio]** Si vuole studiare l'efficacia di un antidoto per veleno di serpente. Lo si testa sui maiali, creando un tratment group da 9 soggetti e un placebo group da 8 soggetti. La variabile da monitorare sarà la modifica in volume, per capire se l'antidoto sia efficace contro il gonfiore. \n",
    "\n",
    "I dati sono i seguenti, dove il gruppo 1 è il treatment, mentre il gruppo 2 è il placebo."
   ]
  },
  {
   "cell_type": "code",
   "execution_count": 9,
   "metadata": {},
   "outputs": [],
   "source": [
    "xbar_1 = 203.33\n",
    "s_1 = 56.18\n",
    "n_1 = 9\n",
    "\n",
    "xbar_2 = 201.25\n",
    "s_2 = 112.62\n",
    "n_2 = 8\n",
    "\n",
    "sample_1 = sample_creator(n_1, xbar_1, s_1)\n",
    "sample_2 = sample_creator(n_2, xbar_2, s_2)"
   ]
  },
  {
   "cell_type": "code",
   "execution_count": 10,
   "metadata": {},
   "outputs": [],
   "source": [
    "def confint_two_means_welch(sample_1, sample_2, alpha = 0.05):\n",
    "    var_1, var_2 = np.var(sample_1,ddof=1), np.var(sample_2,ddof=1)\n",
    "    n_1, n_2 = len(sample_1), len(sample_2)\n",
    "    std_error = np.sqrt((var_1/n_1) + (var_2/n_2))\n",
    "    point_estimate = np.mean(sample_1) - np.mean(sample_2)\n",
    "    \n",
    "    num_df = ((var_1/n_1)+(var_2/n_2))**2\n",
    "    den_df = ((1/(n_1-1))*((var_1/n_1)**2))\\\n",
    "                + (((1/(n_2-1)))*((var_2/n_2)**2))\n",
    "    df = num_df/den_df\n",
    "    critical_t = stats.t.ppf(q = 1 - (alpha/2), df=df)\n",
    "    margin_error = critical_t * std_error\n",
    "    return (point_estimate-margin_error, point_estimate+margin_error)"
   ]
  },
  {
   "cell_type": "code",
   "execution_count": 11,
   "metadata": {},
   "outputs": [
    {
     "data": {
      "text/plain": [
       "(-95.94636525583653, 100.10636525583661)"
      ]
     },
     "execution_count": 11,
     "metadata": {},
     "output_type": "execute_result"
    }
   ],
   "source": [
    "confint_two_means_welch(sample_1, sample_2)"
   ]
  },
  {
   "cell_type": "markdown",
   "metadata": {},
   "source": [
    "Zero è contenuto nell'intervallo, quindi è un valore possibile per la differenza di *population mean*. Questo vuol dire che non abbiamo alcuna certezza sulla differenza di media fra i due gruppi. "
   ]
  },
  {
   "cell_type": "markdown",
   "metadata": {},
   "source": [
    "---"
   ]
  }
 ],
 "metadata": {
  "kernelspec": {
   "display_name": "Python 3",
   "language": "python",
   "name": "python3"
  },
  "language_info": {
   "codemirror_mode": {
    "name": "ipython",
    "version": 3
   },
   "file_extension": ".py",
   "mimetype": "text/x-python",
   "name": "python",
   "nbconvert_exporter": "python",
   "pygments_lexer": "ipython3",
   "version": "3.7.6"
  }
 },
 "nbformat": 4,
 "nbformat_minor": 4
}
