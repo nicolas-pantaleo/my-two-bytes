{
 "cells": [
  {
   "cell_type": "markdown",
   "metadata": {},
   "source": [
    "# Confidence Interval for Two Paired Means"
   ]
  },
  {
   "cell_type": "markdown",
   "metadata": {},
   "source": [
    "---"
   ]
  },
  {
   "cell_type": "markdown",
   "metadata": {},
   "source": [
    "## Import"
   ]
  },
  {
   "cell_type": "code",
   "execution_count": 1,
   "metadata": {},
   "outputs": [],
   "source": [
    "import numpy as np\n",
    "import pandas as pd\n",
    "import matplotlib.pyplot as plt\n",
    "import seaborn as sns\n",
    "import scipy.stats as stats\n",
    "import statsmodels.api as sm\n",
    "import statsmodels.formula.api as smf\n",
    "from statsmodels.stats.power import TTestIndPower\n",
    "\n",
    "plt.style.use(\"fivethirtyeight\")\n",
    "%matplotlib inline"
   ]
  },
  {
   "cell_type": "code",
   "execution_count": 2,
   "metadata": {},
   "outputs": [],
   "source": [
    "def sample_creator(n, mean, std):\n",
    "    sample = stats.norm.rvs(loc=0, scale=std, size=n)\n",
    "    sample = sample - np.mean(sample)\n",
    "    sample = sample * (std/sample.std(ddof=1))\n",
    "    return sample + mean"
   ]
  },
  {
   "cell_type": "markdown",
   "metadata": {},
   "source": [
    "---"
   ]
  },
  {
   "cell_type": "markdown",
   "metadata": {},
   "source": [
    "Quando due insiemi di osservazioni non sono indipendenti tra loro, si dicono **paired**. Per analizzare dati del genere, si è soliti concentrarsi sulla *differenza* di ogni coppia di osservazioni. Ci si può ricondurre così alle tecniche di inferenza su una singola *mean*."
   ]
  },
  {
   "cell_type": "markdown",
   "metadata": {},
   "source": [
    "$$\\large CI:\\bar{x}\\pm t_{df}^*\\;\\frac{s}{\\sqrt{n}}$$\n",
    "\n",
    "$$\\large df=n-1$$"
   ]
  },
  {
   "cell_type": "markdown",
   "metadata": {},
   "source": [
    "---"
   ]
  },
  {
   "cell_type": "markdown",
   "metadata": {},
   "source": [
    "**[Esempio]** Abbiamo i risultati dei test di lettura e scrittura di 200 studenti. Si chiede di costruire un 95% CI sulla differenza di score in lettura e in scrittura degli studenti. Si evidenzia come la media della differenza _read-write_ sia -0.545, con deviazione standard 8.887."
   ]
  },
  {
   "cell_type": "code",
   "execution_count": 3,
   "metadata": {},
   "outputs": [],
   "source": [
    "def confint_t_single_mean(cl, sample):\n",
    "    crit_value = stats.t.ppf(q = 1- ((1 - cl)/2), df = len(sample) - 1)\n",
    "    std_error = sample.std(ddof=1) / np.sqrt(len(sample))\n",
    "    lower_bound = sample.mean() - crit_value * std_error\n",
    "    upper_bound = sample.mean() + crit_value * std_error\n",
    "    return lower_bound, upper_bound"
   ]
  },
  {
   "cell_type": "code",
   "execution_count": 4,
   "metadata": {},
   "outputs": [
    {
     "data": {
      "text/plain": [
       "(-0.5449999999999998, 8.864754658477581)"
      ]
     },
     "execution_count": 4,
     "metadata": {},
     "output_type": "execute_result"
    }
   ],
   "source": [
    "n = 200\n",
    "xbar = -0.545\n",
    "std = 8.887\n",
    "\n",
    "sample = sample_creator(n, xbar, std)\n",
    "sample.mean(), sample.std()"
   ]
  },
  {
   "cell_type": "code",
   "execution_count": 5,
   "metadata": {},
   "outputs": [
    {
     "data": {
      "text/plain": [
       "(-1.7841889227350665, 0.6941889227350669)"
      ]
     },
     "execution_count": 5,
     "metadata": {},
     "output_type": "execute_result"
    }
   ],
   "source": [
    "confint_t_single_mean(0.95, sample)"
   ]
  },
  {
   "cell_type": "markdown",
   "metadata": {},
   "source": [
    "---"
   ]
  }
 ],
 "metadata": {
  "kernelspec": {
   "display_name": "Python 3",
   "language": "python",
   "name": "python3"
  },
  "language_info": {
   "codemirror_mode": {
    "name": "ipython",
    "version": 3
   },
   "file_extension": ".py",
   "mimetype": "text/x-python",
   "name": "python",
   "nbconvert_exporter": "python",
   "pygments_lexer": "ipython3",
   "version": "3.7.6"
  }
 },
 "nbformat": 4,
 "nbformat_minor": 4
}
