{
 "cells": [
  {
   "cell_type": "markdown",
   "metadata": {},
   "source": [
    "# Chi-Square Test for One Way Tables"
   ]
  },
  {
   "cell_type": "markdown",
   "metadata": {},
   "source": [
    "---"
   ]
  },
  {
   "cell_type": "markdown",
   "metadata": {},
   "source": [
    "## Import"
   ]
  },
  {
   "cell_type": "code",
   "execution_count": 1,
   "metadata": {},
   "outputs": [],
   "source": [
    "import numpy as np\n",
    "import pandas as pd\n",
    "import matplotlib.pyplot as plt\n",
    "import seaborn as sns\n",
    "import scipy.stats as stats\n",
    "import statsmodels.api as sm\n",
    "import statsmodels.formula.api as smf\n",
    "from statsmodels.stats.power import TTestIndPower\n",
    "\n",
    "plt.style.use(\"fivethirtyeight\")\n",
    "%matplotlib inline"
   ]
  },
  {
   "cell_type": "markdown",
   "metadata": {},
   "source": [
    "---"
   ]
  },
  {
   "cell_type": "markdown",
   "metadata": {},
   "source": [
    "Nelle *one-way tables* le osservazioni sono classificate secondo una sola variabile categorica.\n",
    "\n",
    "Facciamo un esempio con un esperimento famoso, basato sull'ereditarietà di un tipo di fiore. Si è creato un innesto a partire da due fiori diversi, generando quattro possibili combinazioni di petali e grani di polline. Il petalo poteva essere rosso o viola, mentre i grani rotondi o allungati.\n",
    "\n",
    "Nell'esperimento sono state considerati 381 fiori, con la seguente distribuzione:\n",
    "- Purple/Long: 284\n",
    "- Purple/Round: 21\n",
    "- Red/Long: 21\n",
    "- Red/Round: 55"
   ]
  },
  {
   "cell_type": "markdown",
   "metadata": {},
   "source": [
    "La teoria afferma che, se questi geni fossero ereditati in maniera indipendente, la proporzione attesa dei diversi fenotipi sarebbe $9:3:3:1$. Questa sarà l'ipotesi nulla, mentre l'ipotesi alternativa sarà che la proporzione attesa dei fenotipi sia diversa da $9:3:3:1$, come a voler dire che i geni in questione non sono ereditati in maniera indipendente!"
   ]
  },
  {
   "cell_type": "markdown",
   "metadata": {},
   "source": [
    "Riscriviamo l'ipotesi nulla in forma probabilistica:\n",
    "\n",
    "$$\\large P(\\text{Purple and Long})=9/16$$\n",
    "$$\\large P(\\text{Purple and Round})=3/16$$\n",
    "$$\\large P(\\text{Red and Long})=3/16$$\n",
    "$$\\large P(\\text{Red and Round})=1/16$$"
   ]
  },
  {
   "cell_type": "markdown",
   "metadata": {},
   "source": [
    "Ci chiediamo se gli **observed counts** differiscano da quelli attesi. Calcoliamo gli **expected counts** (sotto l'ipotesi nulla) moltiplicando le probabilità per il *sample size*:\n",
    "\n",
    "$$\\large Exp(\\text{Purple and Long})=9/16\\times381=214.3$$\n",
    "$$\\large Exp(\\text{Purple and Round})=3/16\\times381=71.4$$\n",
    "$$\\large Exp(\\text{Red and Long})=3/16\\times381=71.4$$\n",
    "$$\\large Exp(\\text{Red and Round})=1/16\\times381=23.8$$"
   ]
  },
  {
   "cell_type": "markdown",
   "metadata": {},
   "source": [
    "La *test statistic* in questo scenario è la **chi-square statistic**:\n",
    "\n",
    "$$\\large \\chi^2=\\sum_{all\\;cells}\\frac{(Observed-Expected)^2}\n",
    "{Expected}$$"
   ]
  },
  {
   "cell_type": "markdown",
   "metadata": {},
   "source": [
    "Il numero di *df* per questa *chi-square*, nello scenario *one-way*, è pari al numero di *cells* (cioè di **categorie**) meno uno:\n",
    "\n",
    "$$\\large df = \\#cells-1$$"
   ]
  },
  {
   "cell_type": "code",
   "execution_count": 2,
   "metadata": {},
   "outputs": [
    {
     "data": {
      "text/plain": [
       "(134.7233568742476, 5.188534725175303e-29)"
      ]
     },
     "execution_count": 2,
     "metadata": {},
     "output_type": "execute_result"
    }
   ],
   "source": [
    "observed = [284, 21, 21, 55]\n",
    "expected = [214.3, 71.4, 71.4, 23.8]\n",
    "\n",
    "chisq_statistic, p_value = stats.chisquare(\n",
    "    f_obs = observed,\n",
    "    f_exp = expected)\n",
    "\n",
    "chisq_statistic, p_value"
   ]
  },
  {
   "cell_type": "markdown",
   "metadata": {},
   "source": [
    "Ci sono prove molto forti che evidenziano come l'ereditarietà dei fenotipi non si verifichi con la proporzione attesa."
   ]
  },
  {
   "cell_type": "markdown",
   "metadata": {},
   "source": [
    "---"
   ]
  }
 ],
 "metadata": {
  "kernelspec": {
   "display_name": "Python 3",
   "language": "python",
   "name": "python3"
  },
  "language_info": {
   "codemirror_mode": {
    "name": "ipython",
    "version": 3
   },
   "file_extension": ".py",
   "mimetype": "text/x-python",
   "name": "python",
   "nbconvert_exporter": "python",
   "pygments_lexer": "ipython3",
   "version": "3.7.6"
  }
 },
 "nbformat": 4,
 "nbformat_minor": 4
}
