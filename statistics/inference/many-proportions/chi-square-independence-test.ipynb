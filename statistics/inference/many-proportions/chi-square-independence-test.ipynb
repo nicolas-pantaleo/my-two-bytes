{
 "cells": [
  {
   "cell_type": "markdown",
   "metadata": {},
   "source": [
    "# Chi-Square Independence Test"
   ]
  },
  {
   "cell_type": "markdown",
   "metadata": {},
   "source": [
    "---"
   ]
  },
  {
   "cell_type": "markdown",
   "metadata": {},
   "source": [
    "## Import"
   ]
  },
  {
   "cell_type": "code",
   "execution_count": 1,
   "metadata": {},
   "outputs": [],
   "source": [
    "import numpy as np\n",
    "import pandas as pd\n",
    "import matplotlib.pyplot as plt\n",
    "import seaborn as sns\n",
    "import scipy.stats as stats\n",
    "import statsmodels.api as sm\n",
    "import statsmodels.formula.api as smf\n",
    "from statsmodels.stats.power import TTestIndPower\n",
    "\n",
    "plt.style.use(\"fivethirtyeight\")\n",
    "%matplotlib inline"
   ]
  },
  {
   "cell_type": "markdown",
   "metadata": {},
   "source": [
    "---"
   ]
  },
  {
   "cell_type": "markdown",
   "metadata": {},
   "source": [
    "Un altra possibile domanda di ricerca è stabilire se due distinte variabili categoriche (di cui almeno una di esse ha più di due livelli) sono correlate (dipendenti o indipendenti, non si sta parlando di *causalità*). Questo test prende il nome di **chi-square test of independence**.\n",
    "\n",
    "L'unica differenza con il *chi-square GOF* è il calcolo dei *degrees of freedom* della *chi-square distribution*, che coincidono con il prodotto fra il numero di livelli della prima categorica meno uno e il numero di livelli della seconda categorica meno uno.\n",
    "\n",
    "$$\\large df=(R-1)\\times(C-1)$$\n",
    "\n",
    "La *chi-square statistic* si calcola sempre nello stesso modo, mentre una maggiore attenzione va data nel calcolo degli *expected counts*. Una formula utile è:\n",
    "\n",
    "$$\\large Expected=\\frac{Row\\;Total\\times Column\\;Total}{Table\\;Total}$$\n",
    "\n",
    "Si parla di righe e colonne perché, in genere, quando si lavora con due categoriche si tende a riassumere i *count* totali in una *two-way table*. Sulle righe spesso troviamo la categorica a due livelli, mentre sulle colonne quella a tre o più livelli.\n",
    "\n",
    "Il calcolo degli **expected counts** è composto da più step. Bisogna calcolare, per ogni valore della categorica *in righe*, il *count* totale e dividerlo per il numero totale di soggetti coinvolti. In questa maniera si ottiene il *rate* generale di quel valore della categorica. Tale valore dev'essere poi moltiplicato per tutti gli incroci della categorica *in colonne* per ottenere i veri e propri *expected counts* di ogni cella della tabella.\n",
    "\n",
    "Ricordiamo, infine, che le condizioni da rispettare per realizzare il test sono identiche al *Chi-Square GOF*.\n",
    "\n",
    "- **Independence**: le osservazioni raccolte nel sample devono essere indipendenti, quindi dev'essere applicato il *random sampling/assignment* e, nel caso di *sampling without replacement*, il *sample size* dev'essere inferiore al 10% della popolazione. Inoltre, ogni istanza non può appartenere a più di un livello della variabile categorica, cioè può contribuire al *count* totale solo per una di esse.\n",
    "\n",
    "\n",
    "- **Sample Size**: ogni livello della variabile categorica deve avere almeno 5 *expected cases*.\n",
    "\n",
    "\n",
    "- **Expected**: Nessuna cella deve presentare *expected count* nullo; non più del 20% delle celle devono presentare *expected count* inferiore a 5."
   ]
  },
  {
   "cell_type": "markdown",
   "metadata": {},
   "source": [
    "---"
   ]
  },
  {
   "cell_type": "markdown",
   "metadata": {},
   "source": [
    "E' stato chiesto a 11160 persone che dichiarano di assumere alcohol se hanno mai praticato il binge drinking (opzioni: frequent, occasional, never) e se hanno mai avuto guai con la polizia (opzioni: yes, no). Vediamo i risultati:\n",
    "\n",
    "- Trouble/Never = 71\n",
    "- NoTrouble/Never = 4992\n",
    "- Trouble/Occasional = 154\n",
    "- NoTrouble/Occasional = 2808\n",
    "- Trouble/Frequent = 398\n",
    "- NoTrouble/Frequent = 2737"
   ]
  },
  {
   "cell_type": "markdown",
   "metadata": {},
   "source": [
    "L'ipotesi nulla è che il binge drinking e l'avere problemi con la polizia siano variabili indipendenti. L'ipotesi alternativa è che non sono indipendenti."
   ]
  },
  {
   "cell_type": "code",
   "execution_count": 2,
   "metadata": {},
   "outputs": [
    {
     "data": {
      "text/html": [
       "<div>\n",
       "<style scoped>\n",
       "    .dataframe tbody tr th:only-of-type {\n",
       "        vertical-align: middle;\n",
       "    }\n",
       "\n",
       "    .dataframe tbody tr th {\n",
       "        vertical-align: top;\n",
       "    }\n",
       "\n",
       "    .dataframe thead th {\n",
       "        text-align: right;\n",
       "    }\n",
       "</style>\n",
       "<table border=\"1\" class=\"dataframe\">\n",
       "  <thead>\n",
       "    <tr style=\"text-align: right;\">\n",
       "      <th></th>\n",
       "      <th>Never</th>\n",
       "      <th>Occasional</th>\n",
       "      <th>Frequent</th>\n",
       "    </tr>\n",
       "    <tr>\n",
       "      <th>Problem</th>\n",
       "      <th></th>\n",
       "      <th></th>\n",
       "      <th></th>\n",
       "    </tr>\n",
       "  </thead>\n",
       "  <tbody>\n",
       "    <tr>\n",
       "      <th>Trouble</th>\n",
       "      <td>71</td>\n",
       "      <td>154</td>\n",
       "      <td>398</td>\n",
       "    </tr>\n",
       "    <tr>\n",
       "      <th>NoTrouble</th>\n",
       "      <td>4992</td>\n",
       "      <td>2808</td>\n",
       "      <td>2737</td>\n",
       "    </tr>\n",
       "  </tbody>\n",
       "</table>\n",
       "</div>"
      ],
      "text/plain": [
       "           Never  Occasional  Frequent\n",
       "Problem                               \n",
       "Trouble       71         154       398\n",
       "NoTrouble   4992        2808      2737"
      ]
     },
     "execution_count": 2,
     "metadata": {},
     "output_type": "execute_result"
    }
   ],
   "source": [
    "d = {\"Problem\": [\"Trouble\",\"NoTrouble\"],\n",
    "     \"Never\": [71, 4992],\n",
    "     \"Occasional\": [154, 2808],\n",
    "     \"Frequent\": [398, 2737]}\n",
    "\n",
    "df = pd.DataFrame(d)\n",
    "df.set_index(\"Problem\", inplace = True)\n",
    "df"
   ]
  },
  {
   "cell_type": "code",
   "execution_count": 3,
   "metadata": {},
   "outputs": [],
   "source": [
    "chi2, p_value, dof, expected = stats.chi2_contingency(df)"
   ]
  },
  {
   "cell_type": "code",
   "execution_count": 4,
   "metadata": {},
   "outputs": [
    {
     "data": {
      "text/plain": [
       "(469.5949136516296, 1.0684645945577432e-102, 2)"
      ]
     },
     "execution_count": 4,
     "metadata": {},
     "output_type": "execute_result"
    }
   ],
   "source": [
    "chi2, p_value, dof"
   ]
  },
  {
   "cell_type": "code",
   "execution_count": 5,
   "metadata": {},
   "outputs": [
    {
     "data": {
      "text/plain": [
       "array([[ 282.63879928,  165.35179211,  175.0094086 ],\n",
       "       [4780.36120072, 2796.64820789, 2959.9905914 ]])"
      ]
     },
     "execution_count": 5,
     "metadata": {},
     "output_type": "execute_result"
    }
   ],
   "source": [
    "expected"
   ]
  },
  {
   "cell_type": "markdown",
   "metadata": {},
   "source": [
    "Il *p-value* è infinitesimale. Le variabili non sono indipendenti!"
   ]
  },
  {
   "cell_type": "markdown",
   "metadata": {},
   "source": [
    "---"
   ]
  },
  {
   "cell_type": "markdown",
   "metadata": {},
   "source": [
    "**[Esempio]** C'è una qualche relazione fra la regione e l'età degli abitanti?"
   ]
  },
  {
   "cell_type": "code",
   "execution_count": 6,
   "metadata": {},
   "outputs": [],
   "source": [
    "cen = pd.read_csv(\"../data/small-census.csv\")"
   ]
  },
  {
   "cell_type": "code",
   "execution_count": 7,
   "metadata": {},
   "outputs": [
    {
     "data": {
      "text/html": [
       "<div>\n",
       "<style scoped>\n",
       "    .dataframe tbody tr th:only-of-type {\n",
       "        vertical-align: middle;\n",
       "    }\n",
       "\n",
       "    .dataframe tbody tr th {\n",
       "        vertical-align: top;\n",
       "    }\n",
       "\n",
       "    .dataframe thead th {\n",
       "        text-align: right;\n",
       "    }\n",
       "</style>\n",
       "<table border=\"1\" class=\"dataframe\">\n",
       "  <thead>\n",
       "    <tr style=\"text-align: right;\">\n",
       "      <th>agecat</th>\n",
       "      <th>19-29</th>\n",
       "      <th>30-34</th>\n",
       "      <th>35+</th>\n",
       "    </tr>\n",
       "    <tr>\n",
       "      <th>region</th>\n",
       "      <th></th>\n",
       "      <th></th>\n",
       "      <th></th>\n",
       "    </tr>\n",
       "  </thead>\n",
       "  <tbody>\n",
       "    <tr>\n",
       "      <th>N Cntrl</th>\n",
       "      <td>162</td>\n",
       "      <td>92</td>\n",
       "      <td>30</td>\n",
       "    </tr>\n",
       "    <tr>\n",
       "      <th>NE</th>\n",
       "      <td>46</td>\n",
       "      <td>83</td>\n",
       "      <td>37</td>\n",
       "    </tr>\n",
       "    <tr>\n",
       "      <th>South</th>\n",
       "      <td>139</td>\n",
       "      <td>68</td>\n",
       "      <td>43</td>\n",
       "    </tr>\n",
       "    <tr>\n",
       "      <th>West</th>\n",
       "      <td>160</td>\n",
       "      <td>73</td>\n",
       "      <td>23</td>\n",
       "    </tr>\n",
       "  </tbody>\n",
       "</table>\n",
       "</div>"
      ],
      "text/plain": [
       "agecat   19-29  30-34  35+\n",
       "region                    \n",
       "N Cntrl    162     92   30\n",
       "NE          46     83   37\n",
       "South      139     68   43\n",
       "West       160     73   23"
      ]
     },
     "execution_count": 7,
     "metadata": {},
     "output_type": "execute_result"
    }
   ],
   "source": [
    "crosstab = pd.crosstab(cen[\"region\"], cen[\"agecat\"])\n",
    "crosstab"
   ]
  },
  {
   "cell_type": "code",
   "execution_count": 8,
   "metadata": {},
   "outputs": [],
   "source": [
    "chi2, p_value, dof, expected = stats.chi2_contingency(crosstab)"
   ]
  },
  {
   "cell_type": "code",
   "execution_count": 9,
   "metadata": {},
   "outputs": [
    {
     "data": {
      "text/plain": [
       "(61.28767688406035, 2.463382670201335e-11, 6)"
      ]
     },
     "execution_count": 9,
     "metadata": {},
     "output_type": "execute_result"
    }
   ],
   "source": [
    "chi2, p_value, dof"
   ]
  },
  {
   "cell_type": "code",
   "execution_count": 10,
   "metadata": {},
   "outputs": [
    {
     "data": {
      "text/plain": [
       "array([[150.61506276,  93.87447699,  39.51046025],\n",
       "       [ 88.03556485,  54.87029289,  23.09414226],\n",
       "       [132.58368201,  82.63598326,  34.78033473],\n",
       "       [135.76569038,  84.61924686,  35.61506276]])"
      ]
     },
     "execution_count": 10,
     "metadata": {},
     "output_type": "execute_result"
    }
   ],
   "source": [
    "expected"
   ]
  },
  {
   "cell_type": "markdown",
   "metadata": {},
   "source": [
    "C'è relazione fra le variabili, gli *observed counts* deviano particolarmente dagli *expected counts*."
   ]
  },
  {
   "cell_type": "markdown",
   "metadata": {},
   "source": [
    "---"
   ]
  }
 ],
 "metadata": {
  "kernelspec": {
   "display_name": "Python 3",
   "language": "python",
   "name": "python3"
  },
  "language_info": {
   "codemirror_mode": {
    "name": "ipython",
    "version": 3
   },
   "file_extension": ".py",
   "mimetype": "text/x-python",
   "name": "python",
   "nbconvert_exporter": "python",
   "pygments_lexer": "ipython3",
   "version": "3.7.6"
  }
 },
 "nbformat": 4,
 "nbformat_minor": 4
}
