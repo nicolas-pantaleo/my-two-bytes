{
 "cells": [
  {
   "cell_type": "markdown",
   "metadata": {},
   "source": [
    "# Chi-Square Goodness of Fit Test"
   ]
  },
  {
   "cell_type": "markdown",
   "metadata": {},
   "source": [
    "---"
   ]
  },
  {
   "cell_type": "markdown",
   "metadata": {},
   "source": [
    "## Import"
   ]
  },
  {
   "cell_type": "code",
   "execution_count": 1,
   "metadata": {},
   "outputs": [],
   "source": [
    "import numpy as np\n",
    "import pandas as pd\n",
    "import matplotlib.pyplot as plt\n",
    "import seaborn as sns\n",
    "import scipy.stats as stats\n",
    "import statsmodels.api as sm\n",
    "import statsmodels.formula.api as smf\n",
    "from statsmodels.stats.power import TTestIndPower\n",
    "\n",
    "plt.style.use(\"fivethirtyeight\")\n",
    "%matplotlib inline"
   ]
  },
  {
   "cell_type": "markdown",
   "metadata": {},
   "source": [
    "---"
   ]
  },
  {
   "cell_type": "markdown",
   "metadata": {},
   "source": [
    "Quando si opera con variabili *categoriche a più di due livelli*, una delle analisi più frequenti è la **goodness of fit**. Si cerca di valutare se la distribuzione delle osservazioni all'interno della variabile categorica segue i valori *attesi* o meno. In altre parole, la *statistic* di riferimento in contesti simili è la *count*. Il test di riferimento in questi scenari è il **chi-square GOF**, e come gli altri presenta delle condizioni di validità:\n",
    "\n",
    "- **Independence**: le osservazioni raccolte nel sample devono essere indipendenti, quindi dev'essere applicato il *random sampling/assignment* e, nel caso di *sampling without replacement*, il *sample size* dev'essere inferiore al 10% della popolazione. Inoltre, ogni istanza non può appartenere a più di un livello della variabile categorica, cioè può contribuire al *count* totale solo per una di esse.\n",
    "\n",
    "\n",
    "- **Sample Size**: ogni livello della variabile categorica deve avere almeno 5 *expected cases*.\n",
    "\n",
    "Per lavorare con i *counts* ci serve una nuova *statistic*, la **chi-square statistic**, che ci aiuta a misurare quanto gli *observed counts* differiscano dagli *expected counts*. Si calcola così.\n",
    "\n",
    "$$\\large \\chi^2=\\sum_{i=1}^{k}\\frac{(O-E)^2}{E}$$\n",
    "\n",
    "In altre parole, la *chi-square* si calcola come la somma, per tutti i livelli della variabile categorica, del rapporto fra la differenza di *observed* ed *expected* al quadrato normalizzata per gli *expected*.\n",
    "\n",
    "La corrispondente distribuzione, la **chi-square distribution**, ha come solo parametro i *degrees of freedom*, che ne influenzano il centro, l'andamento e lo spread. Il valore di $df$ va fissato al numero di livelli della variabile categorica meno uno.\n",
    "\n",
    "$$\\large df=k-1$$"
   ]
  },
  {
   "cell_type": "markdown",
   "metadata": {},
   "source": [
    "E' possibile anche isolare una certa categoria o un insieme di categorie per incentrare il test solo su di esse: basta raggruppare diversamente i dati e modificare opportunamente il *significance level*, seguendo una sorta di *Bonferroni Correction*."
   ]
  },
  {
   "cell_type": "markdown",
   "metadata": {},
   "source": [
    "---"
   ]
  },
  {
   "cell_type": "markdown",
   "metadata": {},
   "source": [
    "Il **chi-square test** può essere utilizzato anche per verificare se dei dati seguono una certa distribuzione parametrica, come la binomiale, la Poisson o la normale."
   ]
  },
  {
   "cell_type": "markdown",
   "metadata": {},
   "source": [
    "Ad esempio, supponiamo che una persona affermi che gli esiti dei tiri liberi di Larry Bird seguano un andamento binomiale con $p=0.8$. Guardiamo i dati che abbiamo a disposizione, per un totale di 388 coppie di tiri liberi:\n",
    "\n",
    "- Zero canestri: 5\n",
    "- Un canestro: 82\n",
    "- Due canestri: 251"
   ]
  },
  {
   "cell_type": "markdown",
   "metadata": {},
   "source": [
    "Calcoliamo gli **expected counts**:"
   ]
  },
  {
   "cell_type": "code",
   "execution_count": 2,
   "metadata": {},
   "outputs": [
    {
     "data": {
      "text/plain": [
       "(13.519999999999996, 108.16, 216.32)"
      ]
     },
     "execution_count": 2,
     "metadata": {},
     "output_type": "execute_result"
    }
   ],
   "source": [
    "total_attempts = 338\n",
    "\n",
    "expected_zero = stats.binom.pmf(k = 0, n = 2, p = 0.8) * total_attempts\n",
    "expected_one = stats.binom.pmf(k = 1, n = 2, p = 0.8) * total_attempts\n",
    "expected_two = stats.binom.pmf(k = 2, n = 2, p = 0.8) * total_attempts\n",
    "\n",
    "expected_zero, expected_one, expected_two"
   ]
  },
  {
   "cell_type": "code",
   "execution_count": 3,
   "metadata": {},
   "outputs": [
    {
     "data": {
      "text/plain": [
       "(17.256102071005916, 0.00017901319576144793)"
      ]
     },
     "execution_count": 3,
     "metadata": {},
     "output_type": "execute_result"
    }
   ],
   "source": [
    "observed = [5, 82, 251]\n",
    "expected = [expected_zero, expected_one, expected_two]\n",
    "\n",
    "chisq_statistic, p_value = stats.chisquare(\n",
    "    f_obs = observed,\n",
    "    f_exp = expected)\n",
    "\n",
    "chisq_statistic, p_value"
   ]
  },
  {
   "cell_type": "markdown",
   "metadata": {},
   "source": [
    "Possiamo rigettare l'ipotesi nulla, ma non sapppiamo ancora se il problema è nella distribuzione binomiale o nel suo parametro $p$."
   ]
  },
  {
   "cell_type": "markdown",
   "metadata": {},
   "source": [
    "Modifichiamo l'esempio: l'ipotesi nulla ora è che il numero di successi di Bird su due tiri liberi segua un andamento binomiale.\n",
    "\n",
    "Usiamo i dati per calcolare $\\hat{p}$, una stima del valore reale $p$, cioè la probabilità di fare canestro da tiro libero."
   ]
  },
  {
   "cell_type": "code",
   "execution_count": 4,
   "metadata": {},
   "outputs": [
    {
     "data": {
      "text/plain": [
       "0.863905325443787"
      ]
     },
     "execution_count": 4,
     "metadata": {},
     "output_type": "execute_result"
    }
   ],
   "source": [
    "# Al denominatore moltiplichiamo per due\n",
    "# Perché nei 338 tentativi ha tirato sempre due volte\n",
    "\n",
    "phat = (5*0 + 82*1 + 251*2)/((5 + 82 + 251) * 2)\n",
    "phat"
   ]
  },
  {
   "cell_type": "code",
   "execution_count": 5,
   "metadata": {},
   "outputs": [
    {
     "data": {
      "text/plain": [
       "(6.260355029585801, 79.47928994082842, 252.26035502958575)"
      ]
     },
     "execution_count": 5,
     "metadata": {},
     "output_type": "execute_result"
    }
   ],
   "source": [
    "total_attempts = 338\n",
    "\n",
    "expected_zero = stats.binom.pmf(k = 0, n = 2, p = phat) * total_attempts\n",
    "expected_one = stats.binom.pmf(k = 1, n = 2, p = phat) * total_attempts\n",
    "expected_two = stats.binom.pmf(k = 2, n = 2, p = phat) * total_attempts\n",
    "\n",
    "expected_zero, expected_one, expected_two"
   ]
  },
  {
   "cell_type": "code",
   "execution_count": 6,
   "metadata": {},
   "outputs": [
    {
     "data": {
      "text/plain": [
       "(0.3399809101747712, 0.5598402411323238)"
      ]
     },
     "execution_count": 6,
     "metadata": {},
     "output_type": "execute_result"
    }
   ],
   "source": [
    "observed = [5, 82, 251]\n",
    "expected = [expected_zero, expected_one, expected_two]\n",
    "\n",
    "# Forziamo un df in meno perché l'abbiamo perso\n",
    "# Dato che abbiamo stimato phat dai dati!\n",
    "\n",
    "chisq_statistic, p_value = stats.chisquare(\n",
    "    f_obs = observed,\n",
    "    f_exp = expected,\n",
    "    ddof = len(observed)- 1 - 1)\n",
    "\n",
    "chisq_statistic, p_value"
   ]
  },
  {
   "cell_type": "markdown",
   "metadata": {},
   "source": [
    "Non ci sono prove contro l'ipotesi nulla!"
   ]
  },
  {
   "cell_type": "markdown",
   "metadata": {},
   "source": [
    "---"
   ]
  },
  {
   "cell_type": "markdown",
   "metadata": {},
   "source": [
    "**[Esempio]** Voglio verificare se c'è stata discriminazione nella scelta dei cittadini che devono far parte di una giuria in tribunale. So che la distribuzione di etnicità nell'intera popolazione è la seguente:"
   ]
  },
  {
   "cell_type": "code",
   "execution_count": 7,
   "metadata": {},
   "outputs": [],
   "source": [
    "white = 0.8029\n",
    "black = 0.1206\n",
    "nat_am = 0.0079\n",
    "asian = 0.0292\n",
    "other = 0.0394"
   ]
  },
  {
   "cell_type": "markdown",
   "metadata": {},
   "source": [
    "Nell'anno passato sono state scelte 2500 persone per far parte di una giuria. Con questo dato posso calcolare gli *expected counts*."
   ]
  },
  {
   "cell_type": "code",
   "execution_count": 8,
   "metadata": {},
   "outputs": [
    {
     "data": {
      "text/plain": [
       "2500"
      ]
     },
     "execution_count": 8,
     "metadata": {},
     "output_type": "execute_result"
    }
   ],
   "source": [
    "n = 2500\n",
    "\n",
    "exp_white = int(n * white)\n",
    "exp_black = int(n * black)\n",
    "exp_nat_am = int(n * nat_am)\n",
    "exp_asian = int(n * asian)\n",
    "exp_other = int(n * other) + 2\n",
    "# correggo other così che la somma degli expected sia 2500\n",
    "\n",
    "exp_white + exp_black + exp_nat_am + exp_asian + exp_other"
   ]
  },
  {
   "cell_type": "markdown",
   "metadata": {},
   "source": [
    "Ho a disposizione anche gli *observed count*:"
   ]
  },
  {
   "cell_type": "code",
   "execution_count": 9,
   "metadata": {},
   "outputs": [],
   "source": [
    "obs_white = 1920\n",
    "obs_black = 347\n",
    "obs_nat_am = 19\n",
    "obs_asian = 84\n",
    "obs_other = 130"
   ]
  },
  {
   "cell_type": "markdown",
   "metadata": {},
   "source": [
    "Applichiamo il test:"
   ]
  },
  {
   "cell_type": "code",
   "execution_count": 10,
   "metadata": {},
   "outputs": [],
   "source": [
    "observed = np.array([obs_white, obs_black, obs_nat_am, obs_asian, obs_other])\n",
    "expected = np.array([exp_white, exp_black, exp_nat_am, exp_asian, exp_other])"
   ]
  },
  {
   "cell_type": "code",
   "execution_count": 11,
   "metadata": {},
   "outputs": [
    {
     "data": {
      "text/plain": [
       "(21.45873502723175, 0.000256784904028504)"
      ]
     },
     "execution_count": 11,
     "metadata": {},
     "output_type": "execute_result"
    }
   ],
   "source": [
    "chisq_statistic, p_value = stats.chisquare(\n",
    "    f_obs = observed,\n",
    "    f_exp = expected)\n",
    "\n",
    "chisq_statistic, p_value"
   ]
  },
  {
   "cell_type": "markdown",
   "metadata": {},
   "source": [
    "C'è discriminazione!"
   ]
  },
  {
   "cell_type": "markdown",
   "metadata": {},
   "source": [
    "---"
   ]
  }
 ],
 "metadata": {
  "kernelspec": {
   "display_name": "Python 3",
   "language": "python",
   "name": "python3"
  },
  "language_info": {
   "codemirror_mode": {
    "name": "ipython",
    "version": 3
   },
   "file_extension": ".py",
   "mimetype": "text/x-python",
   "name": "python",
   "nbconvert_exporter": "python",
   "pygments_lexer": "ipython3",
   "version": "3.7.6"
  }
 },
 "nbformat": 4,
 "nbformat_minor": 4
}
