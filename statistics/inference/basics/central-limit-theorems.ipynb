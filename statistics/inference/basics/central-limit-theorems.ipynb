{
 "cells": [
  {
   "cell_type": "markdown",
   "metadata": {},
   "source": [
    "# Statistical Inference - Central Limit Theorems"
   ]
  },
  {
   "cell_type": "markdown",
   "metadata": {},
   "source": [
    "---"
   ]
  },
  {
   "cell_type": "markdown",
   "metadata": {},
   "source": [
    "## Import"
   ]
  },
  {
   "cell_type": "code",
   "execution_count": 1,
   "metadata": {},
   "outputs": [],
   "source": [
    "import numpy as np\n",
    "import scipy.stats as stats"
   ]
  },
  {
   "cell_type": "markdown",
   "metadata": {},
   "source": [
    "---"
   ]
  },
  {
   "cell_type": "markdown",
   "metadata": {},
   "source": [
    "### Sampling Distribution"
   ]
  },
  {
   "cell_type": "markdown",
   "metadata": {},
   "source": [
    "Un processo di inferenza si basa sulla raccolta di un *sample* appartenente alla popolazione d'interesse e sul conseguente calcolo di una *sample statistic*. Grazie ad essa è possibile stimare l'omologo *population parameter*, cioè il valore che la suddetta *statistic* assume per l'intera popolazione.\n",
    "\n",
    "In realtà l'intero processo è ripetuto più volte: si estraggono $n$ sample a partire dalla popolazione d'interesse e si calcolano le corrispondenti $n$ *sample statistic*. Si definisce **sampling distribution** la distribuzione di probabilità avente per elementi tutte le *sample statistic* calcolate a partire dai *sample* estratti con le annesse probabilità di occorrenza.\n",
    "\n",
    "Specifichiamo, inoltre, che la deviazione standard di una *sampling distribution* prende il nome di **standard error**."
   ]
  },
  {
   "cell_type": "markdown",
   "metadata": {},
   "source": [
    "---"
   ]
  },
  {
   "cell_type": "markdown",
   "metadata": {},
   "source": [
    "Consideriamo $n$ osservazioni indipendenti $X_1,\\dots,X_n$ estratte da una popolazione con media $\\mu$ e deviazione standard $\\sigma$.\n",
    "\n",
    "Definiamo una nuova *random variable* $\\bar{X}$ come la media di queste osservazioni. $\\bar{X}$ continua ad esistere sotto forma di *random variable* fin quando non estraiamo effettivamente il *sample* dalla *population*; a quel punto, tale *realization* trasforma $\\bar{X}$ in una *sample statistic*.\n",
    "\n",
    "$$\\large \\bar{X}=\\frac{\\sum_{i=1}^{n}X_i}{n}$$"
   ]
  },
  {
   "cell_type": "markdown",
   "metadata": {},
   "source": [
    "Ogni *random variable* ha associata la propria *probability distribution*, che in questo caso prende il nome di **sampling distribution**.\n",
    "\n",
    "Sono stati dimostrate due proprietà fondamentali riguardo la *sampling distribution* della *sample mean* $\\bar{X}$."
   ]
  },
  {
   "cell_type": "markdown",
   "metadata": {},
   "source": [
    "L'aspettazione di tale *sampling distribution* coincide con la media della popolazione:\n",
    "\n",
    "$$\\large E(\\bar{X})=\\mu_{\\bar{X}}=\\mu$$"
   ]
  },
  {
   "cell_type": "markdown",
   "metadata": {},
   "source": [
    "La deviazione standard di tale *sampling distribution* è pari al rapporto fra la deviazione standard della popolazione e la radice quadrata del *sample size*:\n",
    "\n",
    "$$\\large \\sigma_{\\bar{X}}=\\frac{\\sigma}{\\sqrt{n}}$$\n",
    "\n",
    "Di conseguenza:\n",
    "\n",
    "$$\\large Var(\\bar{X})=\\frac{\\sigma^2}{n}$$"
   ]
  },
  {
   "cell_type": "markdown",
   "metadata": {},
   "source": [
    "Se la popolazione da cui estraiamo i *sample* è distribuita normalmente, allora anche la *random variable* $\\bar{X}$ sarà distribuita normalmente. Possiamo quindi scrivere formalmente il dettaglio della *sampling distribution*:\n",
    "\n",
    "$$\\large \\bar{X}\\sim N\\left(\\mu,\\frac{\\sigma^2}{n}\\right)$$"
   ]
  },
  {
   "cell_type": "markdown",
   "metadata": {},
   "source": [
    "---"
   ]
  },
  {
   "cell_type": "markdown",
   "metadata": {},
   "source": [
    "Dimostriamo come la *random variable* della *sample mean* abbia media e aspettazione direttamente correlati con i valori della popolazione.\n",
    "\n",
    "Consideriamo $n$ osservazioni indipendenti $X_1,\\dots,X_n$ estratte da una popolazione con media $\\mu$ e deviazione standard $\\sigma$. Questo vuol dire che l'aspettazione e la varianza di ciascuna delle singole variabili $X_i$ saranno esattamente uguali ai valori della popolazione:\n",
    "\n",
    "$$\\large E(X_i)=\\mu\\;\\;\\;Var(X_i)=\\sigma^2$$"
   ]
  },
  {
   "cell_type": "markdown",
   "metadata": {},
   "source": [
    "Definiamo la variabile aleatoria della *sample mean* e calcoliamo a mano la sua aspettazione:"
   ]
  },
  {
   "cell_type": "markdown",
   "metadata": {},
   "source": [
    "$$\\large \\bar{X}=\\frac{X_1+\\dots+X_n}{n}$$\n",
    "\n",
    "$$\\large E(\\bar{X})=E\\left(\\frac{X_1+\\dots+X_n}{n}\\right)$$\n",
    "\n",
    "$$\\large E(\\bar{X})=\\frac{1}{n}E(X_1+\\dots+X_n)$$\n",
    "\n",
    "$$\\large E(\\bar{X})=\\frac{1}{n}(E(X_1)+\\dots+E(X_n))$$\n",
    "\n",
    "$$\\large E(\\bar{X})=\\frac{1}{n}n\\cdot \\mu=\\mu$$"
   ]
  },
  {
   "cell_type": "markdown",
   "metadata": {},
   "source": [
    "Calcoliamo la varianza di $\\bar{X}$ usando lo stesso principio, avendo però cura di elevare al quadrato *n* quando lo portiamo fuori dall'operatore di varianza."
   ]
  },
  {
   "cell_type": "markdown",
   "metadata": {},
   "source": [
    "$$\\large Var(\\bar{X})=Var\\left(\\frac{X_1+\\dots+X_n}{n}\\right)$$\n",
    "\n",
    "$$\\large Var(\\bar{X})=\\frac{1}{n^2}Var(X_1+\\dots+X_n)$$\n",
    "\n",
    "$$\\large Var(\\bar{X})=\\frac{1}{n^2}(Var(X_1)+\\dots+Var(X_n))$$\n",
    "\n",
    "$$\\large Var(\\bar{X})=\\frac{1}{n^2}\\cdot n \\cdot \\sigma^2=\\frac{\\sigma^2}{n}$$"
   ]
  },
  {
   "cell_type": "markdown",
   "metadata": {},
   "source": [
    "---"
   ]
  },
  {
   "cell_type": "markdown",
   "metadata": {},
   "source": [
    "Dopo aver provato che sostanzialmente la *sample mean* $\\bar{X}$ è un **unbiased estimator** della *population mean* $\\mu$, possiamo dimostrare come la **sample variance** $s^2$ sia un *unbiased estimator* della **population variance** $\\sigma^2$."
   ]
  },
  {
   "cell_type": "markdown",
   "metadata": {},
   "source": [
    "Consideriamo $n$ osservazioni indipendenti $X_1,\\dots,X_n$ estratte da una popolazione con media $\\mu$ e deviazione standard $\\sigma$. Questo vuol dire che l'aspettazione e la varianza di ciascuna delle singole variabili $X_i$ saranno esattamente uguali ai valori della popolazione:\n",
    "\n",
    "$$\\large E(X_i)=\\mu\\;\\;\\;Var(X_i)=\\sigma^2$$"
   ]
  },
  {
   "cell_type": "markdown",
   "metadata": {},
   "source": [
    "Vogliamo dimostrare che l'*expectation* della *sample variance* sia pari proprio al valore della popolazione $\\sigma^2$:\n",
    "\n",
    "$$\\large E(s^2)=E\\left[\\frac{\\sum_{i=1}^{n}(X_i-\\bar{X})^2}{n-1}\\right]\n",
    "=\\sigma^2$$"
   ]
  },
  {
   "cell_type": "markdown",
   "metadata": {},
   "source": [
    "Calcoliamo l'aspettazione del numeratore:\n",
    "\n",
    "$$\\large E\\left[\\sum(X_i-\\bar{X})^2\\right]=\n",
    "E\\left[\\sum(X_i^2-2X_i\\bar{X}+\\bar{X}^2\\right]$$\n",
    "\n",
    "$$\\large E\\left[\\sum(X_i-\\bar{X})^2\\right]=\n",
    "E\\left[\\sum X_i^2-2\\bar{X}\\sum X_i+n\\bar{X}^2\\right]$$\n",
    "\n",
    "$$\\large E\\left[\\sum(X_i-\\bar{X})^2\\right]=\n",
    "E\\left[\\sum X_i^2-2\\bar{X}\\cdot n \\bar{X}+n\\bar{X}^2\\right]$$\n",
    "\n",
    "$$\\large E\\left[\\sum(X_i-\\bar{X})^2\\right]=\n",
    "E\\left[\\sum X_i^2-n\\bar{X}^2\\right]$$\n",
    "\n",
    "$$\\large E\\left[\\sum(X_i-\\bar{X})^2\\right]=\n",
    "\\sum E(X_i^2)-E(n\\bar{X}^2)$$"
   ]
  },
  {
   "cell_type": "markdown",
   "metadata": {},
   "source": [
    "A questo punto ricordiamo l'importante relazione fra aspettazione e varianza nelle *random variable*:\n",
    "\n",
    "$$\\large Var(X)=E(X^2)-\\left[E(X)\\right]^2$$"
   ]
  },
  {
   "cell_type": "markdown",
   "metadata": {},
   "source": [
    "Isoliamo l'aspettazione del quadrato della variabile:\n",
    "\n",
    "$$\\large E(X^2)=\\sigma^2+\\mu^2$$"
   ]
  },
  {
   "cell_type": "markdown",
   "metadata": {},
   "source": [
    "Recuperiamo, sempre con la stessa relazione, anche l'aspettazione del quadrato della *sample mean*:\n",
    "\n",
    "$$\\large E(\\bar{X}^2)=\\frac{\\sigma^2}{n}+\\mu^2$$"
   ]
  },
  {
   "cell_type": "markdown",
   "metadata": {},
   "source": [
    "Usiamo le relazioni appena ottenute nel calcolo precedente:\n",
    "\n",
    "$$\\large E\\left[\\sum(X_i-\\bar{X})^2\\right]=\n",
    "\\sum\\left(\\sigma^2+\\mu^2\\right)-n\\left(\\frac{\\sigma^2}{n}+\\mu^2\\right)$$\n",
    "\n",
    "$$\\large E\\left[\\sum(X_i-\\bar{X})^2\\right]=\n",
    "n\\sigma^2+n\\mu^2-\\sigma^2-n\\mu^2$$\n",
    "\n",
    "$$\\large E\\left[\\sum(X_i-\\bar{X})^2\\right]=\n",
    "(n-1)\\sigma^2$$"
   ]
  },
  {
   "cell_type": "markdown",
   "metadata": {},
   "source": [
    "Ritorniamo sulla formula principale:"
   ]
  },
  {
   "cell_type": "markdown",
   "metadata": {},
   "source": [
    "$$\\large E(s^2)=E\\left[\\frac{\\sum_{i=1}^{n}(X_i-\\bar{X})^2}{n-1}\\right]\n",
    "=\\frac{1}{n-1}(n-1)\\sigma^2=\\sigma^2$$"
   ]
  },
  {
   "cell_type": "markdown",
   "metadata": {},
   "source": [
    "Da questo risultato possiamo anche ricavare il perché, nel calcolo di una *sample variance*, è necessario utilizzare $n-1$ *df* e non direttamente $n$.\n"
   ]
  },
  {
   "cell_type": "markdown",
   "metadata": {},
   "source": [
    "---"
   ]
  },
  {
   "cell_type": "markdown",
   "metadata": {},
   "source": [
    "**[Esempio]** La quantità di proteine in 113.4 grammi di carne segue una distribuzione normale con media 21.4 e dev. std. di 1.9. Vogliamo sapere la probabilità che un pezzo di carne estratto a caso abbia almeno 23 grammi di proteine."
   ]
  },
  {
   "cell_type": "code",
   "execution_count": 2,
   "metadata": {},
   "outputs": [
    {
     "data": {
      "text/plain": [
       "0.19986451775069203"
      ]
     },
     "execution_count": 2,
     "metadata": {},
     "output_type": "execute_result"
    }
   ],
   "source": [
    "stats.norm.sf(x = 23, loc = 21.4, scale = 1.9)"
   ]
  },
  {
   "cell_type": "markdown",
   "metadata": {},
   "source": [
    "La probabilità è quasi del 20%!"
   ]
  },
  {
   "cell_type": "markdown",
   "metadata": {},
   "source": [
    "Vogliamo sapere ora la probabilità che la quantità di proteine *media* contenuta in 4 pezzi di carne sia almeno 23 grammi."
   ]
  },
  {
   "cell_type": "code",
   "execution_count": 3,
   "metadata": {},
   "outputs": [
    {
     "data": {
      "text/plain": [
       "0.04607049482694396"
      ]
     },
     "execution_count": 3,
     "metadata": {},
     "output_type": "execute_result"
    }
   ],
   "source": [
    "n = 4\n",
    "mu = 21.4\n",
    "sigma = 1.9\n",
    "\n",
    "# La sampling distribution di 4 pezzi è sempre centrata sulla pop. mean\n",
    "mu_xbar = mu\n",
    "sigma_xbar = sigma/np.sqrt(n)\n",
    "\n",
    "stats.norm.sf(x = 23, loc = mu_xbar, scale = sigma_xbar)"
   ]
  },
  {
   "cell_type": "markdown",
   "metadata": {},
   "source": [
    "---"
   ]
  },
  {
   "cell_type": "markdown",
   "metadata": {},
   "source": [
    "### Central Limit Theorem for the Mean"
   ]
  },
  {
   "cell_type": "markdown",
   "metadata": {},
   "source": [
    "Supponiamo di poter estrarre una serie di *sample* di dimensione $n$ dalla popolazione, e di usare la *sample mean* come statistica di riferimento per costruire una *sampling distribution*.\n",
    "\n",
    "Il **Central Limit Theorem** afferma che, se determinate condizioni risultano verificate, tale *sampling distribution* segue l'andamento di una distribuzione normale, con media coincidente alla *population mean* e *standard error* pari al rapporto fra la deviazione standard della popolazione e la radice quadrata del *sample size*."
   ]
  },
  {
   "cell_type": "markdown",
   "metadata": {},
   "source": [
    "$$\\large \\bar{x}\\sim N\\left( mean=\\mu,SE=\\frac{\\sigma}{\\sqrt{n}} \\right)$$"
   ]
  },
  {
   "cell_type": "markdown",
   "metadata": {},
   "source": [
    "Nel caso in cui la deviazione standard della popolazione $\\sigma$ non sia disponibile (come spesso accade), si può utilizzare al suo posto la deviazione standard $s$ di uno dei *sample* a disposizione."
   ]
  },
  {
   "cell_type": "markdown",
   "metadata": {},
   "source": [
    "Il *CLT* risulta fondamentale in tutti quegli scenari in cui stiamo creando *sample* da distribuzioni **non normali**, e quindi non possiamo assumere che anche la *sampling distribution* lo sia! In altre parole, il *CLT* ci assicura che la *random variable* della *sample mean* sarà distribuita approssimativamente in modo normale per grandi *sample size* **a prescindere** dalla distribuzione della popolazione da cui è ricavata!"
   ]
  },
  {
   "cell_type": "markdown",
   "metadata": {},
   "source": [
    "Di seguito le condizioni da rispettare affinchè il *CLT* si possa applicare:\n",
    "- **Independence**: Le osservazioni raccolte nei *sample* devono essere indipendenti. Non è facile da dimostrare, ma è molto probabile che si verifichi nel caso in cui sia stato applicato il *random sampling* (in un *observational study*) o il *random assignment* (in un *experiment*). Nel caso di *random sampling* senza *replacement*, il *sample size* dev'essere inferiore al 10% della popolazione. Quest'ultima, infatti, conterrà sempre dei soggetti correlati/dipendenti al suo interno, perciò non dobbiamo esagerare nell'estensione del *sample size*.\n",
    "\n",
    "\n",
    "- **Sample Size / Skewness**: Condizione rispettata se la distribuzione della popolazione è normale. Al contrario, se questa è *skewed* o se non ne conosciamo l'andamento, il sample size dev'essere di almeno 30 unità. In generale, più la distribuzione è *skewed*, più grande dev'essere il *sample size* affinché il *CLT* sia rispettato. Chiaramente la distribuzione della popolazione non è sempre nota, quindi anche in questo caso bisogna affidarsi alle *sample distributions*: se i sample raccolti hanno andamento normale, è lecito aspettarsi che la popolazione totale abbia lo stesso andamento."
   ]
  },
  {
   "cell_type": "markdown",
   "metadata": {},
   "source": [
    "---"
   ]
  },
  {
   "cell_type": "markdown",
   "metadata": {},
   "source": [
    "Un'altra forma alternativa del *CLT* è la seguente, e si basa sulla *random variable* della *sample mean*.\n",
    "\n",
    "$$\\large \\frac{\\bar{X}-\\mu}{\\sigma/\\sqrt{n}}\\rightarrow N(0,1)\n",
    "\\;\\;\\;as\\;\\;n\\rightarrow \\infty$$"
   ]
  },
  {
   "cell_type": "markdown",
   "metadata": {},
   "source": [
    "In altre parole, lo *z-score* derivante dalla *sample mean* standardizzata tende all'andamento della *standard normal distribution* quando il *sample size* tende ad infinito."
   ]
  },
  {
   "cell_type": "markdown",
   "metadata": {},
   "source": [
    "---"
   ]
  },
  {
   "cell_type": "markdown",
   "metadata": {},
   "source": [
    "**[Esempio]**: La lunghezza media delle canzoni nel mio iPod è 3.45 minuti, con deviazione standard 1.63. Se scelgo 100 canzoni in modo casuale, qual è la probabilità che l'intera playlist duri più di 6 ore?"
   ]
  },
  {
   "cell_type": "markdown",
   "metadata": {},
   "source": [
    "_Sei ore sono 360 minuti, quindi la domanda si traduce in: qual è la probabilità che la media delle lunghezze delle canzoni nel sample sia superiore a 3.6 minuti?_\n",
    "\n",
    "_Uso il CLT per descrivere l'andamento della sampling distribution, che sarà una normale centrata in 3.45 e con standard error pari a 1.63 diviso per la radice di 100_\n",
    "\n",
    "_Uso la SF per trovare l'area destra sottesa alla sampling distribution delimitata dalla sample mean di cui mi interessa calcolare la probabilità, cioè 3.6_"
   ]
  },
  {
   "cell_type": "code",
   "execution_count": 4,
   "metadata": {},
   "outputs": [
    {
     "data": {
      "text/plain": [
       "0.1787222675147518"
      ]
     },
     "execution_count": 4,
     "metadata": {},
     "output_type": "execute_result"
    }
   ],
   "source": [
    "import numpy as np\n",
    "import scipy.stats as stats\n",
    "\n",
    "mu = 3.45\n",
    "sigma = 1.63\n",
    "sample_size = 100\n",
    "target_mean = 3.6\n",
    "\n",
    "std_error = sigma/np.sqrt(sample_size)\n",
    "\n",
    "stats.norm.sf(x = target_mean, loc = mu, scale = std_error)"
   ]
  },
  {
   "cell_type": "markdown",
   "metadata": {},
   "source": [
    "C'è una probabilità di quasi il 18% che una playlist random di 100 canzoni duri almeno 6 ore."
   ]
  },
  {
   "cell_type": "markdown",
   "metadata": {},
   "source": [
    "---"
   ]
  },
  {
   "cell_type": "markdown",
   "metadata": {},
   "source": [
    "**[Esempio]** Supponiamo che gli stipendi di un'azienda abbiano media 62K e std. dev. 32K. Se estraggo 100 dipendenti a caso, qual è la probabilità che il loro salario medio sia oltre i 66K?"
   ]
  },
  {
   "cell_type": "code",
   "execution_count": 5,
   "metadata": {},
   "outputs": [
    {
     "data": {
      "text/plain": [
       "0.10564977366685535"
      ]
     },
     "execution_count": 5,
     "metadata": {},
     "output_type": "execute_result"
    }
   ],
   "source": [
    "n = 100\n",
    "mu = 62000\n",
    "sigma = 32000\n",
    "\n",
    "mu_xbar = mu\n",
    "sigma_xbar = sigma/np.sqrt(n)\n",
    "\n",
    "stats.norm.sf(x = 66000, loc = mu_xbar, scale = sigma_xbar)"
   ]
  },
  {
   "cell_type": "markdown",
   "metadata": {},
   "source": [
    "---"
   ]
  },
  {
   "cell_type": "markdown",
   "metadata": {},
   "source": [
    "<a id=\"clt-proportion\"></a>\n",
    "## Central Limit Theorem for the Proportion"
   ]
  },
  {
   "cell_type": "markdown",
   "metadata": {},
   "source": [
    "Supponiamo di poter estrarre una serie di *sample* di dimensione $n$ dalla popolazione, e di usare la *sample proportion* come statistica di riferimento per costruire una *sampling distribution*.\n",
    "\n",
    "Il **Central Limit Theorem** afferma che, se determinate condizioni risultano verificate, tale *sampling distribution* segue l'andamento di una distribuzione normale, con media coincidente alla *population proportion* $p$ e con *standard error* pari alla radice quadrata del prodotto fra la *real proportion* ed il suo complemento, diviso per il *sample size*."
   ]
  },
  {
   "cell_type": "markdown",
   "metadata": {},
   "source": [
    "$$\\large \\hat{p}\\sim N\\left(\n",
    "mean = p, SE = \\sqrt{\\frac{p(1-p)}{n}}\n",
    "\\right)$$"
   ]
  },
  {
   "cell_type": "markdown",
   "metadata": {},
   "source": [
    "Di seguito le condizioni da rispettare affinchè il *CLT* si possa applicare:\n",
    "- **Independence**: le osservazioni nel sample devono essere indipendenti, e possiamo assicurarlo applicando correttamente il *random sampling/assignment*. Se il *sampling* è applicato *without replacement*, è necessario assicurarsi che il *sample size* sia inferiore rispetto al 10% della popolazione.\n",
    "\n",
    "\n",
    "- **Success/failure**: devono esserci almeno 10 successi e 10 non-successi nel *sample*. $np\\geq10$, $n(1-p)\\geq10$. Se la proporzione di successi della popolazione ($p$) non è disponibile, tali condizioni vanno verificate usando la proporzione di successi del sample ($\\hat{p}$)."
   ]
  },
  {
   "cell_type": "markdown",
   "metadata": {},
   "source": [
    "Se la condizione di *success/failure* non è verificata, avremo comunque una *sampling distribution* centrata sulla proporzione reale della popolazione ed il suo *spread* potrà comunque essere stimato con la formula specificata per lo *standard error*, ma l'andamento della distribuzione dipenderà da quanto la proporzione della popolazione sia vicina a zero o ad uno.\n",
    "\n",
    "Le *proportions*, infatti, possono solo assumere valori compresi fra zero ed uno; se $p$ è molto vicina a zero, avremo una *right skewed sampling distribution*, poiché il limite posto a zero impedisce alla normale di *abbassarsi* come dovrebbe lungo tutti i valori, ed è come se venisse *troncata* durante la sua discesa.\n",
    "\n",
    "Dall'altro lato, invece, il limite a uno è molto più lontano e permette alla normale di mostrare la classica *coda* estrema. Al contrario, cioè con $p$ molto vicina ad uno, la *sampling distribution* sarà *left skewed*, sempre per lo stesso motivo."
   ]
  },
  {
   "cell_type": "markdown",
   "metadata": {},
   "source": [
    "---"
   ]
  }
 ],
 "metadata": {
  "kernelspec": {
   "display_name": "Python 3",
   "language": "python",
   "name": "python3"
  },
  "language_info": {
   "codemirror_mode": {
    "name": "ipython",
    "version": 3
   },
   "file_extension": ".py",
   "mimetype": "text/x-python",
   "name": "python",
   "nbconvert_exporter": "python",
   "pygments_lexer": "ipython3",
   "version": "3.7.6"
  }
 },
 "nbformat": 4,
 "nbformat_minor": 4
}
