{
 "cells": [
  {
   "cell_type": "markdown",
   "metadata": {},
   "source": [
    "# Statistical Inference - Bootstrapping"
   ]
  },
  {
   "cell_type": "markdown",
   "metadata": {},
   "source": [
    "---"
   ]
  },
  {
   "cell_type": "markdown",
   "metadata": {},
   "source": [
    "Il **bootstrapping** è un metodo *simulation-based* per costruire dei *confidence intervals*. E' particolarmente utile nei casi in cui il *CLT* non sia applicabile, come quando la *sample statistic* di riferimento non è la *mean*. L'assunzione di fondo del *bootstrapping* è che se una certa osservazione è presente nel *sample*, è altamente probabile che ne esistano altre molto simili nella *population*. Il processo da seguire è il seguente:\n",
    "- Si crea un **bootstrap sample** selezionando **with replacement** dal *sample* a disposizione un numero di osservazioni pari esattamente alla sua numerosità.\n",
    "\n",
    "\n",
    "- Si calcola la **bootstrap statistic** (*mean*, *median*, *proportion*, ...) sul *sample* appena costruito.\n",
    "\n",
    "\n",
    "- Si ripetono i punti precedenti a formare la **boostrap distribution**, cioè una distribuzione di *bootstrap statistics*.\n",
    "\n",
    "Abbiamo due metodi per calcolare un *confidence interval*. Il primo è il **percentile method**, in cui si individua il 95% centrale della *bootstrap distribution* calcolando semplicemente il 2.5%ile ed il 97.5%ile della stessa. All'atto pratico, sono necessari i due valori della distribuzione che lasciano alle due estremità un numero di osservazioni pari a $n\\times 0.025$.\n",
    "\n",
    "Il secondo metodo, più accurato del primo, è lo **standard error method**, nel quale si calcola la *sample statistic* di riferimento a partire dalla *bootstrap distribution* e si aggiunge e sottrae una quantità pari a $\\large t^*\\cdot SE_{boot}$, cioè il prodotto fra lo *standard error* della *bootstrap distribution* ed un *critical t-score*, che dipende come sempre dal *confidence level* desiderato. Per individuare il corretto *critical t-score* $t^*$, però, dobbiamo basarci su una *t-distribution* con un numero di *degrees of freedom* pari alla cardinalità del *sample originale* meno uno ($df=n-1$)."
   ]
  },
  {
   "cell_type": "markdown",
   "metadata": {},
   "source": [
    "---"
   ]
  }
 ],
 "metadata": {
  "kernelspec": {
   "display_name": "Python 3",
   "language": "python",
   "name": "python3"
  },
  "language_info": {
   "codemirror_mode": {
    "name": "ipython",
    "version": 3
   },
   "file_extension": ".py",
   "mimetype": "text/x-python",
   "name": "python",
   "nbconvert_exporter": "python",
   "pygments_lexer": "ipython3",
   "version": "3.7.6"
  }
 },
 "nbformat": 4,
 "nbformat_minor": 4
}
