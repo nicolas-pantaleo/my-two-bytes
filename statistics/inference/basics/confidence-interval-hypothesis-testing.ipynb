{
 "cells": [
  {
   "cell_type": "markdown",
   "metadata": {},
   "source": [
    "# Statistical Inference - Confidence Intervals & Hypothesis Tests"
   ]
  },
  {
   "cell_type": "markdown",
   "metadata": {},
   "source": [
    "---"
   ]
  },
  {
   "cell_type": "markdown",
   "metadata": {},
   "source": [
    "### Confidence Interval"
   ]
  },
  {
   "cell_type": "markdown",
   "metadata": {},
   "source": [
    "Il *confidence interval* rappresenta uno degli strumenti che abbiamo a disposizione per fare inferenza sui *population parameter*.\n",
    "\n",
    "Il calcolo della *statistic* d'interesse a partire dalla *sampling distribution* rappresenta una buona *point estimate* del vero *population parameter*. Tale risultato, però, non va riportato utilizzando un singolo valore, ma indicando un range di possibili valori $-$ centrato su tale *point estimate* $-$ all'interno del quale è molto probabile che si trovi il vero *population parameter*. Tale intervallo prende il nome di **confidence interval**."
   ]
  },
  {
   "cell_type": "markdown",
   "metadata": {},
   "source": [
    "A prescindere dalla *statistic* di riferimento, ogni *confidence interval* segue sempre nella forma:\n",
    "\n",
    "$$\\large Point\\;Estimate\\pm Margin\\;of\\;Error$$"
   ]
  },
  {
   "cell_type": "markdown",
   "metadata": {},
   "source": [
    "Il **margin of error** determina l'estensione dell'intervallo, ed è sempre calcolato come il prodotto fra lo *standard error* della *sampling distribution* ed un certo *critical value*.\n",
    "\n",
    "$$\\large Margin\\;of\\;Error=Critical\\;Value\\times Standard\\;Error$$"
   ]
  },
  {
   "cell_type": "markdown",
   "metadata": {},
   "source": [
    "Il **critical value** dipende da due fattori: la distribuzione scelta per modellare la *sampling distribution* (*normale* o *t*) ed il *confidence level*."
   ]
  },
  {
   "cell_type": "markdown",
   "metadata": {},
   "source": [
    "Il **confidence level** rappresenta il livello di confidenza che decidiamo volontariamente di attribuire alla nostra analisi. I livelli di confidenza più comuni sono: $90\\%, 95\\%, 98\\%$ e $99\\%$.\n",
    "\n",
    "Per trovare il *critical value* dobbiamo identificare quel percentile che separa la porzione centrale della distribuzione dalle sue code.\n",
    "\n",
    "Per un intervallo al 95%, ad esempio, le code possono occupare un 5% dell'area totale sottesa alla curva, quindi il *critical value* coincide con il 97.5-esimo percentile, dato che su ogni coda avremo un 2.5% dell'area totale.\n",
    "\n",
    "Per un intervallo al 90%, invece, cerchiamo il 95-esimo percentile, ammettendo così un 5% di area residua su ognuna delle code.\n",
    "\n",
    "Lo stesso procedimento può essere ripetuto per tutti gli altri *confidence level*."
   ]
  },
  {
   "cell_type": "markdown",
   "metadata": {},
   "source": [
    "Un *confidence level* al 95% va interpretato come segue: supponiamo di estrarre diversi sample dalla popolazione, e di costruire altrettanti *95% CI*; possiamo affermare che circa il 95% degli intervalli generati conterrà il vero *population parameter*. Il *confidence level*, quindi, è definito come la proporzione di intervalli che contengono effettivamente il *population parameter*, cioè il rapporto fra il numero di intervalli che effettivamente lo contengono e il numero totale di intervalli generati."
   ]
  },
  {
   "cell_type": "markdown",
   "metadata": {},
   "source": [
    "Se vogliamo aumentare l'**accuracy** della nostra analisi, quindi, dobbiamo incrementare il *confidence level*, e di conseguenza l'estensione dei nostri *confidence interval*. Il prezzo da pagare per avere degli intervalli molto grandi è una **precision** inferiore, difatti gli intervalli prodotti saranno molto meno informativi nel processo di stima del *population parameter*. L'unico modo per ottenere alta *precision* e alta *accuracy* è aumentare il *sample size*, difatti così facendo diminuiamo l'entità dello *standard error* e, di conseguenza, del *margin of error*."
   ]
  },
  {
   "cell_type": "markdown",
   "metadata": {},
   "source": [
    "---"
   ]
  },
  {
   "cell_type": "markdown",
   "metadata": {},
   "source": [
    "### Hypothesis Testing"
   ]
  },
  {
   "cell_type": "markdown",
   "metadata": {},
   "source": [
    "Una delle metodologie più importanti dell'inferenza statistica è l'**hypothesis testing**, la cui struttura è paragonabile a quella di un processo in tribunale. Si hanno a disposizione due ipotesi: secondo la **null hypothesis**, l'imputato è innocente, mentre secondo l'**alternative hypothesis** l'imputato è colpevole.\n",
    "\n",
    "La collezione di dati sperimentali può essere paragonata alla presentazione di prove contro l'imputato, ed è sulla base di quest'ultime che prende forma il *giudizio*, formulabile come segue: è possibile che i dati raccolti si siano verificati per puro caso, dando per vera l'ipotesi nulla? In altre parole, è possibile che le prove contro l'imputato siano solo delle coincidenze casuali, supponendo che l'imputato sia innocente? \n",
    "\n",
    "Se risulta possibile che i dati si siano verificati in un contesto in cui l'ipotesi nulla sia data per vera, allora si *fallisce* nel rigettare l'ipotesi nulla e si può affermare che le prove non sono sufficienti a giudicare l'imputato colpevole. Questo non vuol dire che l'imputato sia innocente, ma solo che non è possibile dimostrarlo colpevole. In altre parole, non siamo mai in grado di affermare che l'ipotesi nulla sia assolutamente *vera*.\n",
    "\n",
    "Se risulta particolarmente improbabile che i dati raccolti si siano verificati in un contesto in cui l'ipotesi nulla sia data per vera, possiamo *rifiutare* l'ipotesi nulla e accettare l'ipotesi alternativa."
   ]
  },
  {
   "cell_type": "markdown",
   "metadata": {},
   "source": [
    "Più semplicemente, l'*ipotesi nulla* ($H_0$) è una qualche teoria o uno status quo che dev'essere testato, e può essere rappresentata analiticamente con il *population parameter* d'interesse fissato ad un valore specifico.\n",
    "\n",
    "L'*ipotesi alternativa*, invece, è rappresentata da un *range* di possibili valori che il *population parameter* in oggetto può assumere. Specifichiamo che entrambe le ipotesi vanno formulate sulla base dei parametri reali della popolazione, e mai sulle *sample statistics*.\n",
    "\n",
    "Il **p-value** è definito come la probabilità che la nostra *sample statistic* sia maggiore, minore o diversa (dipende dall'ipotesi alternativa formulata) rispetto al valore specificato dall'ipotesi nulla, agendo però in un contesto operativo in cui l'ipotesi nulla sia considerata *vera*.\n",
    "\n",
    "In altre parole, il *p-value* è la probabilità che, sulla base delle informazioni prodotte dai dati raccolti, si possa verificare un evento così estremo (o ancora più estremo) come quello osservato nei dati originali. Se tale probabilità risulta particolarmente bassa, l'ipotesi nulla può essere rigettata in favore di quella alternativa.\n",
    "\n",
    "Nello specifico, se il *p-value* è inferiore al cosiddetto **significance level** $\\alpha$, che spesso è posto uguale a $0.05$, possiamo affermare che è molto improbabile osservare dei dati così favorevoli all'ipotesi alternativa come quelli usati nell'analisi, se l'ipotesi nulla è data per vera, pertanto rigettiamo l'ipotesi nulla. Al contrario, se il *p-value* supera il *significance level*, affermiamo che è molto probabile osservare i dati in oggetto in un contesto in cui l'ipotesi nulla è vera, pertanto non la rigettiamo."
   ]
  },
  {
   "cell_type": "markdown",
   "metadata": {},
   "source": [
    "Nella maggior parte dei casi, per calcolare il *p-value* bisogna innanzitutto sfruttare il *central limit theorem* per modellare la *sampling distribution* come una distribuzione normale. Il secondo step è il calcolo della cosiddetta **test statistic**, cioè la metrica che ci servirà per il calcolo del *p-value*. Questa metrica è sempre costruita sotto forma di *standardized score*, cioè come differenza fra la *point estimate* ed il valore indicato dall'ipotesi nulla, diviso per lo *standard error* della *sampling distribution*."
   ]
  },
  {
   "cell_type": "markdown",
   "metadata": {},
   "source": [
    "$$\\large Test\\;Statistic=\\frac{Point\\;Estimate-Null\\;Value}{Std.\\;Error}$$"
   ]
  },
  {
   "cell_type": "markdown",
   "metadata": {},
   "source": [
    "Il *p-value*, quindi, è calcolato come l'area sottesa alla curva (della *sampling distribution*) alla destra o alla sinistra della *test statistic*, in base a com'è specificata l'ipotesi alternativa.\n",
    "\n",
    "Quando non importa se il *population parameter* sia maggiore o minore del valore indicato dall'ipotesi nulla, si parla di **two-sided test** (anche detto *two-tailed test*). Il *p-value*, in questo caso, può essere calcolato come somma di due probabilità distinte, una in cui la *sample statistic* è *maggiore* di un certo valore e l'altra in cui essa è *minore* di un altro valore. Da notare che i valori specificati dall'ipotesi alternativa devono essere equidistanti dal valore indicato nell'ipotesi nulla.\n",
    "\n",
    "Un'altra possibilità per i *two-sided tests* è esprimere l'ipotesi alternativa sotto forma di *negazione* del valore nullo, cioè: $H_0:\\mu=x\\;\\; H_A:\\mu\\neq x$. Anche in questo caso, in maniera simile al caso $H_A:\\mu>x+y\\;\\; \\& \\;\\;\\mu<x-y$, il *p-value* va calcolato come somma di due probabilità distinte: quella associata al valore di $\\bar{x}$, cioè del *sample* che sta provando a rigettare l'ipotesi nulla, e quella della sua *controparte* equidistante da $\\mu$."
   ]
  },
  {
   "cell_type": "markdown",
   "metadata": {},
   "source": [
    "In determinati casi, il *significance level* dell'*hypothesis testing* e il *confidence level* del *confidence interval* sono complementi.\n",
    "\n",
    "Ad esempio ciò accade per i *two-sided test* con $\\alpha=0.05$, che dal punto di vista inferenziale sono equivalenti ad un *95% CI*.\n",
    "\n",
    "Difatti, se l'HT fa riferimento alle due code estreme, ognuna di area pari a $0.025$ in quanto la loro somma dev'essere pari ad $\\alpha$, il CI è costruito sul *95%* centrale della distribuzione. La somma delle aree coinvolte copre il 100% dell'area sottesa alla distribuzione normale.\n",
    "\n",
    "Nel caso di un *one-sided* HT, invece, il 5% dell'area normale d'interesse è solo su una delle due code, pertanto non esiste un vero *CI* che possa rappresentare un suo complemento. L'associazione più corretta è con un *90% CI*, che copre il 90% *centrale* dell'area normale e confina esattamente con il 5% estremo dell'HT.\n",
    "\n",
    "In breve:\n",
    "   - Two Sided HT with $SL=\\alpha\\;\\rightarrow\\;$ CI with $CL=1-\\alpha$\n",
    "   - One Sided HT with $SL=\\alpha\\;\\rightarrow\\;$ CI with $CL=1-(2\\times \\alpha)$\n",
    "\n",
    "Se in un HT l'ipotesi nulla è rigettata, il *CI* corrispondente al test effettuato **non** dovrebbe includere al suo interno il valore nullo. Se, al contrario, l'ipotesi nulla non è rigettata, il *CI* corrispondente al test effettuato dovrebbe includere al suo interno il valore nullo."
   ]
  },
  {
   "cell_type": "markdown",
   "metadata": {},
   "source": [
    "Si commette un **Type 1 Error** quando rigettiamo l'*ipotesi nulla* e quest'ultima è vera.\n",
    "\n",
    "Si commette un **Type 2 Error** quando non rigettiamo l'*ipotesi nulla* e l'*ipotesi alternativa* è quella vera.\n",
    "\n",
    "L'ordine della numerazione non è casuale: è molto peggio commettere un *type 1 error* che un *type 2 error*.\n",
    "\n",
    "E' possibile dimostrare che la probabilità di commettere un *type 1 error* coincide con il *significance level* utilizzato nel testing. In altre parole, quando adottiamo un *significance level* del 5% e l'ipotesi nulla è vera, c'è un 5% di probabilità che commetteremo un errore di tipo uno. Per questo motivo, si utilizzano degli $\\alpha$ molto piccoli, così da evitare l'aumento degli errori di tipo uno. Diminuire eccessivamente $\\alpha$, però, porta ovviamente ad un aumento del *type 2 error rate*.\n",
    "\n",
    "La probabilità di commettere un *type 2 error*, invece, è indicata con $\\beta$, ma non si tratta di un parametro modulabile liberamente, ed il suo calcolo diretto non è semplice. Sappiamo per certo che $\\beta$ dipende dall'**effect size** $\\delta$, che consiste nella differenza fra la *point estimate* ed il *null value*. In altre parole, la probabilità di commettere un *type 2 error* dipende da quanto lontana sia l'ipotesi alternativa da quella nulla: se il valore alternativo è molto vicino a quello nullo, sarà più difficile rigettare l'ipotesi nulla.\n",
    "\n",
    "Si definisce **power** di un test la probabilità di rigettare correttamente l'ipotesi nulla, e lo si modella analiticamente come $1-\\beta$.\n",
    "\n",
    "$$\\large P(Type\\;1\\;error|H_0\\;true)=\\alpha$$\n",
    "\n",
    "\n",
    "$$\\large P(Type\\;2\\;error|H_A\\;true)=\\beta$$\n",
    "\n",
    "\n",
    "$$\\large Test Power=1-\\beta$$"
   ]
  },
  {
   "cell_type": "markdown",
   "metadata": {},
   "source": [
    "Negli esperimenti vige un tradeoff importante: collezionare abbastanza dati da poter validare ipotesi importanti e gestire la quantità di risorse spese per ottenerli.\n",
    "\n",
    "E' possibile calcolare il giusto *sample size* per avere almeno una probabilità dell'80% di individuare un risultato *practically significant*.\n",
    "\n",
    "In altre parole, possiamo individuare il *sample size* che ci garantisca un test con **power 80%**, cioè capace all'80% di osservare differenze statisticamente significative durante gli esperimenti. Questo valore (*80%*) è uno standard de facto per la maggior parte degli esperimenti."
   ]
  },
  {
   "cell_type": "markdown",
   "metadata": {},
   "source": [
    "---"
   ]
  }
 ],
 "metadata": {
  "kernelspec": {
   "display_name": "Python 3",
   "language": "python",
   "name": "python3"
  },
  "language_info": {
   "codemirror_mode": {
    "name": "ipython",
    "version": 3
   },
   "file_extension": ".py",
   "mimetype": "text/x-python",
   "name": "python",
   "nbconvert_exporter": "python",
   "pygments_lexer": "ipython3",
   "version": "3.8.5"
  }
 },
 "nbformat": 4,
 "nbformat_minor": 4
}
