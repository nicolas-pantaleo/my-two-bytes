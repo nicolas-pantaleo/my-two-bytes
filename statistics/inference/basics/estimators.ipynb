{
 "cells": [
  {
   "cell_type": "markdown",
   "metadata": {},
   "source": [
    "# Statistical Inference - Estimators"
   ]
  },
  {
   "cell_type": "markdown",
   "metadata": {},
   "source": [
    "---"
   ]
  },
  {
   "cell_type": "markdown",
   "metadata": {},
   "source": [
    "L'obiettivo del processo di *statistical inference* è stimare i valori dei *population parameters*.\n",
    "\n",
    "Se per farlo abbiamo bisogno di fare delle assunzioni sulla distribuzione generale della popolazione, allora stiamo compiendo una **parametric estimation**.\n",
    "\n",
    "Al contrario, se nel processo inferenziale non sono incluse assunzioni sulla distribuzione della popolazione, si parla di **nonparametric estimation**."
   ]
  },
  {
   "cell_type": "markdown",
   "metadata": {},
   "source": [
    "Consideriamo un *random sample* $x_1,\\dots,x_n$ estratto dalla popolazione d'interesse. Questo *sample* è costituito da un insieme di *realizations* della *random variable* $X$, che modella l'andamento generale della popolazione.\n",
    "\n",
    "Una qualsiasi funzione che ha come input le *realization* di una *random variable* prende il nome di **statistic**. Deduciamo che anche le *statistic*, quindi, sono *random variables*.\n",
    "\n",
    "Le *statistic* costruite per stimare i *population parameters* prendono il nome di **estimator** e si indicano generalmente con $T(X)$.\n",
    "\n",
    "Si dice quindi che $T(X)$ è un *estimator* del *population parameter* $\\theta$, mentre $T(x_1,\\dots,x_n)$, cioè il suo valore osservato dipendente dal *sample* è l'**estimate** di $\\theta$."
   ]
  },
  {
   "cell_type": "markdown",
   "metadata": {},
   "source": [
    "Il **bias** di un *estimator* è definito come la differenza fra la sua *expectation* ed il valore reale del parametro."
   ]
  },
  {
   "cell_type": "markdown",
   "metadata": {},
   "source": [
    "$$\\large Bias(T(X))=E(T(X))-\\theta$$"
   ]
  },
  {
   "cell_type": "markdown",
   "metadata": {},
   "source": [
    "Un *estimator* di $\\theta$ si dice **unbiased** se la sua *expectation* coincide con il valore reale del parametro."
   ]
  },
  {
   "cell_type": "markdown",
   "metadata": {},
   "source": [
    "$$\\large E(T(x))=\\theta$$"
   ]
  },
  {
   "cell_type": "markdown",
   "metadata": {},
   "source": [
    "La **variance** di un *estimator* è definita come l'aspettazione della differenza quadrata fra l'*estimator* stesso e la sua aspettazione."
   ]
  },
  {
   "cell_type": "markdown",
   "metadata": {},
   "source": [
    "$$\\large Var(T(X))=E\\{[T(X)-E(T(X))]^2\\}$$"
   ]
  },
  {
   "cell_type": "markdown",
   "metadata": {},
   "source": [
    "Vorremmo sempre degli *estimator* con valori minimi di *bias* e *variance*, ma ciò non risulta possibile a causa del **bias-variance tradeoff**."
   ]
  },
  {
   "cell_type": "markdown",
   "metadata": {},
   "source": [
    "Una misura che combina *bias* e *variance* è il **mean squared error**, definito come l'aspettazione della differenza quadrata fra l'*estimator* e il parametro reale."
   ]
  },
  {
   "cell_type": "markdown",
   "metadata": {},
   "source": [
    "$$\\large MSE(T(X))=E\\{[T(X)-\\theta]^2\\}$$"
   ]
  },
  {
   "cell_type": "markdown",
   "metadata": {},
   "source": [
    "Si può dimostrare che la precedente espressione può essere partizionata in due per isolare *bias* e *variance*:"
   ]
  },
  {
   "cell_type": "markdown",
   "metadata": {},
   "source": [
    "$$\\large MSE(T(X))=Var(T(X))+[Bias(T(X))]^2$$"
   ]
  },
  {
   "cell_type": "markdown",
   "metadata": {},
   "source": [
    "Il *MSE* è utilizzato per confrontare fra loro *estimator* diversi, così da individuare quello ottimale per la stima del parametro.\n",
    "\n",
    "Si dice, ad esempio, che $T_1(X)$ è **MSE-better** rispetto a $T_2(X)$ se $MSE(T_1(X))$ è strettamente minore di $MSE(T_2(X))$.\n",
    "\n",
    "Per gli *unbiased estimator*, però, sappiamo che il *bias* è nullo, quindi l'MSE si riduce alla sola *variance*.\n",
    "\n",
    "Si dice quindi che $T_1(X)$ è **more efficient** rispetto a $T_2(X)$ se per risulta che $Var(T_1(X))\\leq Var(T_2(X))$ per tutti i valori possibili di $\\theta$ e, per almeno uno di essi, la varianza di $T_1(X)$ è strettamente minore di quella di $T_2(X))$.\n",
    "\n",
    "L'*unbiased estimator* ottimale, infatti, prende spesso il nome di **uniformly minimum variance unbiased**.\n",
    "\n",
    "Gli *estimator* hanno anche un'altra proprietà, detta **weak consistency**, secondo la quale all'aumentare del *sample size* i valori assunti dall'*estimator* dovrebbero avvicinarsi sempre di più al parametro stimato.\n",
    "\n",
    "Un altro tipo di consistenza è la **MSE Consistency**, secondo la quale l'*MSE* dell'*estimator* tende a zero con quando il *sample size* tende a infinito. Lavorando con gli *unbiased estimator*, ciò coincide con una *variance* che tende a zero all'aumentare del *sample size*, dato che il bias è nullo."
   ]
  },
  {
   "cell_type": "markdown",
   "metadata": {},
   "source": [
    "Un teorema afferma che, a prescindere dalla distribuzione reale della popolazione, esistono sicuramente due *unbiased estimator* della *population mean* e della *population variance*: si tratta della *sample mean* e della *sample variance*"
   ]
  },
  {
   "cell_type": "markdown",
   "metadata": {},
   "source": [
    "$$\\large \\bar{X}=\\sum_{i=1}^{n}X_i$$\n",
    "\n",
    "\n",
    "$$\\large S^2=\\frac{1}{n-1}\\sum_{i=1}^{n}\\left(X_i-\\bar{X}\\right)$$"
   ]
  },
  {
   "cell_type": "markdown",
   "metadata": {},
   "source": [
    "Al contrario, è stato dimostrato che l'*empirical variance* è un *biased estimator* della *population variance* e il suo *bias* coincide con la quantità $-\\frac{1}{n}\\sigma^2$."
   ]
  },
  {
   "cell_type": "markdown",
   "metadata": {},
   "source": [
    "$$\\large \\tilde{S}=\\frac{1}{n}\\sum_{i=1}^{n}\\left(X_i-\\bar{X}\\right)$$"
   ]
  },
  {
   "cell_type": "markdown",
   "metadata": {},
   "source": [
    "---"
   ]
  }
 ],
 "metadata": {
  "kernelspec": {
   "display_name": "Python 3",
   "language": "python",
   "name": "python3"
  },
  "language_info": {
   "codemirror_mode": {
    "name": "ipython",
    "version": 3
   },
   "file_extension": ".py",
   "mimetype": "text/x-python",
   "name": "python",
   "nbconvert_exporter": "python",
   "pygments_lexer": "ipython3",
   "version": "3.7.6"
  }
 },
 "nbformat": 4,
 "nbformat_minor": 4
}
