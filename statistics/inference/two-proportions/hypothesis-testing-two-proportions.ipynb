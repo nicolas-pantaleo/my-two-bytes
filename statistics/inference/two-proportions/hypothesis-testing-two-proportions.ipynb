{
 "cells": [
  {
   "cell_type": "markdown",
   "metadata": {},
   "source": [
    "# Hypothesis Testing for Two Proportions"
   ]
  },
  {
   "cell_type": "markdown",
   "metadata": {},
   "source": [
    "---"
   ]
  },
  {
   "cell_type": "markdown",
   "metadata": {},
   "source": [
    "## Import"
   ]
  },
  {
   "cell_type": "code",
   "execution_count": 1,
   "metadata": {},
   "outputs": [],
   "source": [
    "import numpy as np\n",
    "import pandas as pd\n",
    "import matplotlib.pyplot as plt\n",
    "import seaborn as sns\n",
    "import scipy.stats as stats\n",
    "import statsmodels.api as sm\n",
    "import statsmodels.formula.api as smf\n",
    "from statsmodels.stats.power import TTestIndPower\n",
    "\n",
    "plt.style.use(\"fivethirtyeight\")\n",
    "%matplotlib inline"
   ]
  },
  {
   "cell_type": "markdown",
   "metadata": {},
   "source": [
    "---"
   ]
  },
  {
   "cell_type": "markdown",
   "metadata": {},
   "source": [
    "Adesso analizziamo l'*hypothesis testing* incentrato sulla differenza fra due *proportions*. Il problema qui è che l'ipotesi nulla afferma soltanto che le proporzioni fra i due gruppi sono uguali, quindi non abbiamo a disposizione un *null value* per calcolare lo *standard error* e la *success/failure*. La *best guess* in questo caso è la **pooled proportion**:\n",
    "\n",
    "$$\\large Pooled = \\frac{\\#\\;successes_1+\\#\\;successes_2}{n_1+n_2}$$\n",
    "\n",
    "$$\\large SE=\\sqrt{\\frac{\\hat{p}_{pool}(1-\\hat{p}_{pool})}{n_1}+\n",
    "\\frac{\\hat{p}_{pool}(1-\\hat{p}_{pool})}{n_2}}$$\n",
    "\n",
    "E' con questa *proportion* che verificheremo la *success/failure* e calcoleremo lo *standard error*. A questo punto è possibile descrivere l'andamento della *sampling distribution* come una normale centrata su zero (ipotesi nulla) e con *standard error* calcolabile con la stessa formula usata per il *CI*. L'ultimo step è il calcolo della *point estimate* (la differenza fra le *proportions* dei due *sample*) e il calcolo del corrispondente *p-value*."
   ]
  },
  {
   "cell_type": "markdown",
   "metadata": {},
   "source": [
    "---"
   ]
  },
  {
   "cell_type": "markdown",
   "metadata": {},
   "source": [
    "**\\[Esempio\\]**"
   ]
  },
  {
   "cell_type": "code",
   "execution_count": 2,
   "metadata": {},
   "outputs": [
    {
     "data": {
      "text/plain": [
       "(1.7687422205722934, 0.07693690298928134)"
      ]
     },
     "execution_count": 2,
     "metadata": {},
     "output_type": "execute_result"
    }
   ],
   "source": [
    "succ_1 = 61\n",
    "succ_2 = 34\n",
    "n_1 = 122\n",
    "n_2 = 90\n",
    "\n",
    "test_statistic, p_value = sm.stats.proportions_ztest(\n",
    "    count = np.array([succ_1, succ_2]),\n",
    "    nobs = np.array([n_1, n_2]),\n",
    "    alternative = \"two-sided\")\n",
    "\n",
    "test_statistic, p_value"
   ]
  },
  {
   "cell_type": "markdown",
   "metadata": {},
   "source": [
    "---"
   ]
  }
 ],
 "metadata": {
  "kernelspec": {
   "display_name": "Python 3",
   "language": "python",
   "name": "python3"
  },
  "language_info": {
   "codemirror_mode": {
    "name": "ipython",
    "version": 3
   },
   "file_extension": ".py",
   "mimetype": "text/x-python",
   "name": "python",
   "nbconvert_exporter": "python",
   "pygments_lexer": "ipython3",
   "version": "3.7.6"
  }
 },
 "nbformat": 4,
 "nbformat_minor": 4
}
