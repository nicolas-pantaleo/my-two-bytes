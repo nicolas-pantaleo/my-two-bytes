{
 "cells": [
  {
   "cell_type": "markdown",
   "metadata": {},
   "source": [
    "# Confidence Interval for Two Proportions"
   ]
  },
  {
   "cell_type": "markdown",
   "metadata": {},
   "source": [
    "---"
   ]
  },
  {
   "cell_type": "markdown",
   "metadata": {},
   "source": [
    "## Import"
   ]
  },
  {
   "cell_type": "code",
   "execution_count": 1,
   "metadata": {},
   "outputs": [],
   "source": [
    "import numpy as np\n",
    "import pandas as pd\n",
    "import matplotlib.pyplot as plt\n",
    "import seaborn as sns\n",
    "import scipy.stats as stats\n",
    "import statsmodels.api as sm\n",
    "import statsmodels.formula.api as smf\n",
    "from statsmodels.stats.power import TTestIndPower\n",
    "\n",
    "plt.style.use(\"fivethirtyeight\")\n",
    "%matplotlib inline"
   ]
  },
  {
   "cell_type": "markdown",
   "metadata": {},
   "source": [
    "---"
   ]
  },
  {
   "cell_type": "markdown",
   "metadata": {},
   "source": [
    "Lavorare con due proporzioni vuol dire avere a che fare non più con una, ma con due variabili categoriche binarie, il cui significato è identico ma che appartengono a popolazioni indipendenti fra loro. Una di esse sarà scelta come *explanatory variable* o *grouping variable*, mentre l'altra sarà la *response variable*.\n",
    "\n",
    "Nell'inferenza tramite *confidence interval*, la struttura non cambia. Possiamo sempre sfruttare il *CLT* sulle *proportions*, valido anche quando lavoriamo con le differenze, affermando che l'andamento della *sampling distribution* sarà normale.\n",
    "\n",
    "$$\\large (\\hat{p}_1-\\hat{p}_2)\\pm z^*\\;SE_{(\\hat{p}_1-\\hat{p}_2)}$$\n",
    "\n",
    "La novità è lo *standard error* per la differenza fra due proporzioni:\n",
    "\n",
    "$$\\large SE=\\sqrt{\\frac{\\hat{p}_1(1-\\hat{p}_1)}{n_1}+\n",
    "\\frac{\\hat{p}_2(1-\\hat{p}_2)}{n_2}}$$\n",
    "\n",
    "Le condizioni per la costruzioni del *CI* sono:\n",
    "\n",
    "- **Independence within groups**: gli elementi dei sample di ciascun gruppo devono essere indipendenti fra loro, quindi è necessario applicare il *random sampling/assignment* e assicurarsi che entrambi i *sample* siano inferiori rispetto al 10% della corrispondente popolazione.\n",
    "\n",
    "\n",
    "- **Independence between groups**: le osservazioni dei due gruppi devono essere indipendenti fra loro, cioè non devono essere *paired*.\n",
    "\n",
    "\n",
    "- **Success/failure**: ognuno dei due sample deve rispettare la *success/failure* del *CLT*, cioè:\n",
    "   - $n_1p_1\\geq 10$\n",
    "   - $n_2p_2\\geq 10$\n",
    "   - $n_1(1-p_2)\\geq 10$\n",
    "   - $n_2(1-p_2)\\geq 10$"
   ]
  },
  {
   "cell_type": "markdown",
   "metadata": {},
   "source": [
    "---"
   ]
  },
  {
   "cell_type": "markdown",
   "metadata": {},
   "source": [
    "**\\[Esempio\\]**"
   ]
  },
  {
   "cell_type": "code",
   "execution_count": 2,
   "metadata": {},
   "outputs": [],
   "source": [
    "def confint_z_two_props(cl, phat_1, n_1, phat_2, n_2):\n",
    "    crit_value = stats.norm.ppf(q = 1 -((1 - cl)/2), loc = 0, scale = 1)\n",
    "    std_1 = (phat_1 * (1-phat_1))/n_1\n",
    "    std_2 = (phat_2 * (1-phat_2))/n_2\n",
    "    std_error = np.sqrt(std_1 + std_2)\n",
    "    lower_bound = (phat_1 - phat_2) - crit_value * std_error\n",
    "    upper_bound = (phat_1 - phat_2) + crit_value * std_error\n",
    "    return lower_bound, upper_bound  "
   ]
  },
  {
   "cell_type": "code",
   "execution_count": 3,
   "metadata": {},
   "outputs": [
    {
     "data": {
      "text/plain": [
       "(0.3588553015860909, 0.561144698413909)"
      ]
     },
     "execution_count": 3,
     "metadata": {},
     "output_type": "execute_result"
    }
   ],
   "source": [
    "n_1 = 83\n",
    "n_2 = 1028\n",
    "phat_1 = 0.71\n",
    "phat_2 = 0.25\n",
    "\n",
    "confint_z_two_props(0.95, phat_1, n_1, phat_2, n_2)"
   ]
  },
  {
   "cell_type": "markdown",
   "metadata": {},
   "source": [
    "---"
   ]
  }
 ],
 "metadata": {
  "kernelspec": {
   "display_name": "Python 3",
   "language": "python",
   "name": "python3"
  },
  "language_info": {
   "codemirror_mode": {
    "name": "ipython",
    "version": 3
   },
   "file_extension": ".py",
   "mimetype": "text/x-python",
   "name": "python",
   "nbconvert_exporter": "python",
   "pygments_lexer": "ipython3",
   "version": "3.7.6"
  }
 },
 "nbformat": 4,
 "nbformat_minor": 4
}
