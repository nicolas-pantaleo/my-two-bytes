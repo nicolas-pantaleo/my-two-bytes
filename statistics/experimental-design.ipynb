{
 "cells": [
  {
   "cell_type": "markdown",
   "metadata": {},
   "source": [
    "# Stats Codebook - Experimental Design"
   ]
  },
  {
   "cell_type": "markdown",
   "metadata": {},
   "source": [
    "---"
   ]
  },
  {
   "cell_type": "markdown",
   "metadata": {},
   "source": [
    "## Contents"
   ]
  },
  {
   "cell_type": "markdown",
   "metadata": {},
   "source": [
    "- [Basics](#experiment-basics)\n",
    "- [Studies & Experiments](#studies-experiments)\n",
    "- [Sampling Bias](#sampling-bias)\n",
    "- [Sampling Methods](#sampling-methods)"
   ]
  },
  {
   "cell_type": "markdown",
   "metadata": {},
   "source": [
    "---"
   ]
  },
  {
   "cell_type": "markdown",
   "metadata": {},
   "source": [
    "<a id=\"experiment-basics\"></a>\n",
    "# Basics"
   ]
  },
  {
   "cell_type": "markdown",
   "metadata": {},
   "source": [
    "Le unità con cui misuriamo i dati, siano essi persone o oggetti, si chiamano **observations**. \n",
    "\n",
    "Data una domanda di ricerca, la collezione di tutte le **observations** afferenti al suo contesto operativo prende il nome di **population**.\n",
    "\n",
    "Un insieme di *observations* selezionate dalla *population* prende il nome di **sample**."
   ]
  },
  {
   "cell_type": "markdown",
   "metadata": {},
   "source": [
    "Se fra due variabili esiste una qualche correlazione, esse si dicono **dependent** o **associated**, altrimenti si dicono **independent**."
   ]
  },
  {
   "cell_type": "markdown",
   "metadata": {},
   "source": [
    "Una variabile *independent*, quindi, non è correlata con nessuna altra variabile del contesto sperimentale."
   ]
  },
  {
   "cell_type": "markdown",
   "metadata": {},
   "source": [
    "La **response variable** è scelta dal creatore dell'esperimento come il focus dell'analisi."
   ]
  },
  {
   "cell_type": "markdown",
   "metadata": {},
   "source": [
    "Le **explanatory variables** sono variabili che il creatore dell'esperimento sospetta possano influenzare la *response* in modo causale.\n",
    "\n",
    "Non possono essere variabili del tutto indipendenti, devono presentare una qualche correlazione con le restanti variabili o perlomeno con la *response*."
   ]
  },
  {
   "cell_type": "markdown",
   "metadata": {},
   "source": [
    "Quando traiamo delle conclusioni sui dati contenuti in un *sample* estratto dalla popolazione, stiamo realizzando un **exploratory analysis**.\n",
    "\n",
    "Quando utilizziamo i risultati generati da un'*exploratory analysis* per generalizzare tale conoscenza sull'intera popolazione che ha generato il sample in questione, stiamo compiendo un processo di **inference**.\n",
    "\n",
    "Affinché l'inferenza sia valida, il sample analizzato dev'essere particolarmente rappresentativo della popolazione da cui è stato estratto. Ad esempio, quando assaggiamo un cucchiaio del piatto che stiamo cucinando, stiamo realizzando un'*exploratory analysis* sul sample che abbiamo a disposizione (il cucchiaio); se dopo l'assaggio concludiamo che l'intero piatto ha bisogno di più sale, stiamo compiendo un'*inference* sull'intera popolazione. E' necessario, però, che il *cucchiaio* sia un sample rappresentativo del piatto: se prima non mescolo accuratamente l'intera pentola (la *population*), rischio che il *sample* mi porti ad una generalizzazione errata."
   ]
  },
  {
   "cell_type": "markdown",
   "metadata": {},
   "source": [
    "---"
   ]
  },
  {
   "cell_type": "markdown",
   "metadata": {},
   "source": [
    "<a id=\"studies-experiments\"></a>\n",
    "# Studies & Experiments"
   ]
  },
  {
   "cell_type": "markdown",
   "metadata": {},
   "source": [
    "In un **observational study**, si raccolgono dei dati in maniera tale da non interferire con il contesto o il processo in cui essi *si verificano*, limitandosi ad *osservare* il fenomeno in oggetto.\n",
    "\n",
    "Uno studio può solo dimostrare l'esistenza di una **correlation** (*association*) fra le **explanatory variables** e la **response variable**. Non può dimostrare in alcun modo relazioni di **causation** fra una variabile e l'altra.\n",
    "\n",
    "E' molto importante tenere a mente la seguente regola: **correlation doesn't imply causation**. \n",
    "\n",
    "Se uno studio si basa su dati del passato, prende il nome di **retrospective**; al contrario, se i dati sono collezionati durante lo studio, prende il nome di **prospective**."
   ]
  },
  {
   "cell_type": "markdown",
   "metadata": {},
   "source": [
    "In un **experiment**, invece, grazie all'assegnazione randomica di specifici trattamenti ai soggetti, è possibile stabilire delle **causal relationships** fra le *explanatory variables* e la *response variable*.\n",
    "\n",
    "In un esperimento, si lavora con due gruppi: un **treatment group**, al quale viene assegnato il trattamento che si vuole studiare, e un **control group**, al quale viene assegnato un trattamento diverso/opposto o nessun trattamento reale (*placebo*).\n",
    "\n",
    "L'incapacità degli *studies* di spiegare relazioni causali fra i dati è dovuta al mancato **controllo** di altre variabili capaci di influenzare la *response*. Negli *experiment*, al contrario, grazie al **random assignment**, tali variabili tendono a distribuire la propria influenza equamente nei due gruppi in analisi. \n",
    "\n",
    "Un esperimento si dice **blind** quando le unità sperimentali non conoscono il loro gruppo di appartenenza (*treatment* o *control*). In alternativa, un esperimento si dice **double-blind** se né i ricercatori né le unità sperimentali conoscono lo schema di assegnazione dei gruppi."
   ]
  },
  {
   "cell_type": "markdown",
   "metadata": {},
   "source": [
    "Le **confounding variables** sono delle variabili che influenzano contemporaneamente l'*explanatory* e la *response* variable, portandoci a pensare che esista una *correlazione* fra di esse quando in realtà non esiste.\n",
    "\n",
    "Le **blocking variables** sono delle caratteristiche proprie delle unità sperimentali, o del contesto in cui l'esperimento è realizzato, e vanno necessariamente *controllate*.\n",
    "\n",
    "Se le *explanatory variables* rappresentano delle condizioni che possiamo imporre dalle esterno alle unità sperimentali, le *blocking variables* sono *features* che non fanno parte del design originale dell'esperimento."
   ]
  },
  {
   "cell_type": "markdown",
   "metadata": {},
   "source": [
    "---"
   ]
  },
  {
   "cell_type": "markdown",
   "metadata": {},
   "source": [
    "<a id=\"sampling-bias\"></a>\n",
    "# Sampling Bias"
   ]
  },
  {
   "cell_type": "markdown",
   "metadata": {},
   "source": [
    "Esistono diverse cause che possono portare un *sample* a non essere rappresentativo della popolazione, e quindi inadatto all'inferenza. Tali cause prendono il nome di **sampling bias**:"
   ]
  },
  {
   "cell_type": "markdown",
   "metadata": {},
   "source": [
    "- **Convenience Sample**: si includono nell'esperimento i soggetti più facili da raggiungere e coinvolgere.\n",
    "\n",
    "\n",
    "- **Non-response**: si verifica quando lo strumento generatore del sample è una *survey* presentata ad un sample random della popolazione. Può verificarsi, infatti, che solo una porzione non-random del sample risponda effettivamente al sample, rendendolo così non più rappresentativo della popolazione.\n",
    "\n",
    "\n",
    "- **Voluntary Response**: si verifica quando lo strumento generatore del sample è una *survey* presentata ad all'intera popolazione in analisi. Può verificarsi, infatti, che solo chi ha abbia delle forti opinioni sul tema trattato arrivi a produrre una risposta."
   ]
  },
  {
   "cell_type": "markdown",
   "metadata": {},
   "source": [
    "---"
   ]
  },
  {
   "cell_type": "markdown",
   "metadata": {},
   "source": [
    "<a id=\"sampling-methods\"></a>\n",
    "# Sampling Methods"
   ]
  },
  {
   "cell_type": "markdown",
   "metadata": {},
   "source": [
    "Esistono diverse tecniche di creazione di un *sample*, dette **sampling methods**.\n",
    "- **Simple Random Sampling**: ogni *case* ha la stessa probabilità di essere estratto dalla popolazione rispetto agli altri. E' come estrarre un certo numero di carte a caso da un mazzo.\n",
    "\n",
    "\n",
    "- **Stratified Sampling**: si divide la popolazione in *strata* omogenei, e poi si applica il *simple random sampling* su ogni *stratum*. Ad esempio, si divide la popolazione per genere e poi si estrae randomicamente da ciascun gruppo.\n",
    "\n",
    "\n",
    "- **Cluster Sampling**: si divide la popolazione in *cluster* eterogenei, si estraggono randomicamente alcuni di questi cluster e si aggiungono al sample *tutti* i *case* contenuti nei cluster estratti. Ad esempio, si divide una nazione in *regioni* e si estraggono randomicamente alcune di esse per far parte del sample.\n",
    "\n",
    "\n",
    "- **Multistage Sampling**: si divide la popolazione in *cluster* eterogenei, si estraggono randomicamente alcuni di questi cluster e si applica il *simple random sampling* sui *case* contenuti nei cluster estratti. Ad esempio, si divide una nazione in *regioni* e si estraggono randomicamente alcune di esse per far parte del sample. Si includono nel sample solo alcune persone che abitano nelle regioni selezionate, non tutte."
   ]
  },
  {
   "cell_type": "markdown",
   "metadata": {},
   "source": [
    "---"
   ]
  }
 ],
 "metadata": {
  "kernelspec": {
   "display_name": "Python 3",
   "language": "python",
   "name": "python3"
  },
  "language_info": {
   "codemirror_mode": {
    "name": "ipython",
    "version": 3
   },
   "file_extension": ".py",
   "mimetype": "text/x-python",
   "name": "python",
   "nbconvert_exporter": "python",
   "pygments_lexer": "ipython3",
   "version": "3.8.5"
  }
 },
 "nbformat": 4,
 "nbformat_minor": 4
}
