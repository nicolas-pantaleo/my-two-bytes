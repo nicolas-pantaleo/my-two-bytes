{
 "cells": [
  {
   "cell_type": "markdown",
   "metadata": {},
   "source": [
    "# Hypergeometric Distribution"
   ]
  },
  {
   "cell_type": "markdown",
   "metadata": {},
   "source": [
    "---"
   ]
  },
  {
   "cell_type": "markdown",
   "metadata": {},
   "source": [
    "## Import"
   ]
  },
  {
   "cell_type": "code",
   "execution_count": 1,
   "metadata": {},
   "outputs": [],
   "source": [
    "import math\n",
    "import numpy as np\n",
    "import pandas as pd\n",
    "import matplotlib.pyplot as plt\n",
    "import seaborn as sns\n",
    "\n",
    "import statistics\n",
    "import scipy\n",
    "from scipy import stats\n",
    "\n",
    "%matplotlib inline\n",
    "plt.style.use(\"fivethirtyeight\")"
   ]
  },
  {
   "cell_type": "markdown",
   "metadata": {},
   "source": [
    "---"
   ]
  },
  {
   "cell_type": "markdown",
   "metadata": {},
   "source": [
    "## Utilities"
   ]
  },
  {
   "cell_type": "code",
   "execution_count": 2,
   "metadata": {},
   "outputs": [],
   "source": [
    "def get_discrete_ticks(xmin, xmax):\n",
    "    cuts = [5, 10, 20, 50, 100, 200, 500, 1000]\n",
    "    ticks = np.arange(xmin, xmax + 1)\n",
    "    if len(ticks) > 15:\n",
    "        for cut in cuts:\n",
    "            ticks = [tick for tick in ticks if tick % cut == 0]\n",
    "            if len(ticks) <= 15:\n",
    "                return ticks\n",
    "        return ticks\n",
    "    return ticks"
   ]
  },
  {
   "cell_type": "code",
   "execution_count": 3,
   "metadata": {},
   "outputs": [],
   "source": [
    "def get_bins(xmin, xmax, step = 1):\n",
    "    bins = np.arange(xmin, xmax, step)\n",
    "    bins = bins if len(bins) > 2 else get_bins(xmin, xmax + 1, step)\n",
    "    return bins if len(bins) <= 100 \\\n",
    "        else get_bins(xmin, xmax, step = step + 1)"
   ]
  },
  {
   "cell_type": "code",
   "execution_count": 4,
   "metadata": {},
   "outputs": [],
   "source": [
    "def plot_discrete_distribution(f, x_axis, obs = None, q = None, **kwargs):\n",
    "    pmf = f.pmf(x_axis, **kwargs)\n",
    "    fig, ax = plt.subplots(figsize = (8, 4))\n",
    "    bars = ax.bar(x_axis, pmf, edgecolor = \"k\", linewidth = 2)\n",
    "    \n",
    "    print(f\"Mean: {f.mean(**kwargs)}\")\n",
    "    print(f\"Median: {f.median(**kwargs)}\")\n",
    "    print(f\"Variance: {f.var(**kwargs)}\")\n",
    "    print(f\"Standard Deviation: {f.std(**kwargs)}\")\n",
    "    print(\"-\" * 10)\n",
    "    if obs:\n",
    "        plt.setp(bars[obs - x_axis.min()], color = \"r\", linewidth = 2)\n",
    "        plt.setp(bars[obs - x_axis.min()], edgecolor = \"k\")\n",
    "        obs_pmf = f.pmf(obs, **kwargs)\n",
    "        print(f\"PMF({obs}) = {obs_pmf}\")\n",
    "        \n",
    "    plt.xticks(get_discrete_ticks(xmin = x_axis.min(), xmax = x_axis.max()))\n",
    "    plt.show()"
   ]
  },
  {
   "cell_type": "code",
   "execution_count": 5,
   "metadata": {},
   "outputs": [],
   "source": [
    "def sample_discrete_distribution(f, size = 1, seed = None, **kwargs):\n",
    "    sample = f.rvs(size = size, random_state = seed, **kwargs)\n",
    "    \n",
    "    print(f\"Min: {np.min(sample)}\")\n",
    "    print(f\"Mean: {np.mean(sample)}\")\n",
    "    print(f\"Median: {np.median(sample)}\")\n",
    "    print(f\"Max: {np.max(sample)}\")\n",
    "    print(f\"Variance: {np.var(sample, ddof = 0)}\")\n",
    "    print(f\"Standard Deviation: {np.std(sample, ddof = 0)}\")\n",
    "    \n",
    "    fig, ax = plt.subplots(figsize = (8, 4))\n",
    "   \n",
    "    plt.hist(x = sample,\n",
    "             density = True,\n",
    "             edgecolor = \"k\",\n",
    "             bins = get_bins(sample.min(), sample.max() + 1),\n",
    "             linewidth = 2)\n",
    "\n",
    "    plt.xticks(get_discrete_ticks(sample.min(), sample.max()))\n",
    "    plt.show()\n",
    "    return sample"
   ]
  },
  {
   "cell_type": "markdown",
   "metadata": {},
   "source": [
    "---"
   ]
  },
  {
   "cell_type": "markdown",
   "metadata": {},
   "source": [
    "Si parte da $n$ *Bernoulli trial* senza *replacement*. L'insieme di tutti i possibili *outcome* dell'esperimento è pari ad $M$, dove $N$ di questi sono *outcome* di successo, mentre i restanti $M-N$ sono considerati non di successo. Siamo interessati a calcolare la probabilità di ottenere esattamente $x$ successi in $n$ *trials*, a prescindere dall'ordine in cui si verificano."
   ]
  },
  {
   "cell_type": "markdown",
   "metadata": {},
   "source": [
    "Questa probabilità di successo è, come sempre, definita come una proporzione: si tratta del numero di combinazioni favorevoli al numero di successi specificato diviso per il numero totale di *sample* che è possibile ottenere in *n* trials.\n",
    "\n",
    "Per questo motivo il denominatore di questa proporzione/probabilità dev'essere per forza $\\binom{M}{n}$, dato che ho *M outcome* ed *n trial*.\n",
    "\n",
    "Il numeratore, invece, dev'essere il prodotto di due coefficienti binomiali, perché degli *n* trial vogliamo che *x* siano successi e *n-x* siano fallimenti. Di conseguenza, avremo $\\binom{N}{x}$ per i successi e $\\binom{M-N}{n-x}$ per i fallimenti."
   ]
  },
  {
   "cell_type": "markdown",
   "metadata": {},
   "source": [
    "**PMF**:"
   ]
  },
  {
   "cell_type": "markdown",
   "metadata": {},
   "source": [
    "$$\\large P(X=x)=\\frac{\\binom{N}{x}\\binom{M-N}{n-x}}{\\binom{M}{n}}$$"
   ]
  },
  {
   "cell_type": "markdown",
   "metadata": {},
   "source": [
    "Degli $n$ *trials*, ne vogliamo $x$ di successo e $n-x$ di insuccesso. Quindi ci sono $\\binom{M}{x}$ possibilità per ottenere questi $x$ successi *without replacement* a partire dagli $M$ *outcome* di successo totali. Analogamente, ci sono $\\binom{N-M}{n-x}$ possibilità per ottenere $n-x$ insuccessi.\n",
    "\n",
    "La *PMF*, quindi, è basata sul rapporto del numero di eventi favorevoli e il numero totale di possibili eventi, che è pari a $\\binom{N}{n}$."
   ]
  },
  {
   "cell_type": "markdown",
   "metadata": {},
   "source": [
    "**Expectation**"
   ]
  },
  {
   "cell_type": "markdown",
   "metadata": {},
   "source": [
    "L'aspettazione dell'ipergeometrica coincide con il numero di *trial* moltiplicato per la proporzione di successi nella popolazione."
   ]
  },
  {
   "cell_type": "markdown",
   "metadata": {},
   "source": [
    "$$\\large \\mu=n\\cdot\\frac{N}{M}$$"
   ]
  },
  {
   "cell_type": "markdown",
   "metadata": {},
   "source": [
    "---"
   ]
  },
  {
   "cell_type": "markdown",
   "metadata": {},
   "source": [
    "In alcuni scenari la **binomiale** può essere una buona **approssimazione** dell'ipergeometrica. In particolare, se non siamo creando un *sampling* di cardinalità superiore al 5% della popolazione, l'approssimazione è assolutamente ragionevole."
   ]
  },
  {
   "cell_type": "markdown",
   "metadata": {},
   "source": [
    "---"
   ]
  },
  {
   "cell_type": "markdown",
   "metadata": {},
   "source": [
    "#### Probability Mass Function"
   ]
  },
  {
   "cell_type": "code",
   "execution_count": 6,
   "metadata": {},
   "outputs": [
    {
     "name": "stdout",
     "output_type": "stream",
     "text": [
      "Mean: 2.5\n",
      "Median: 2.0\n",
      "Variance: 0.9868421052631579\n",
      "Standard Deviation: 0.9933992677987828\n",
      "----------\n"
     ]
    },
    {
     "data": {
      "image/png": "[encoded data removed]",
      "text/plain": [
       "<Figure size 576x288 with 1 Axes>"
      ]
     },
     "metadata": {},
     "output_type": "display_data"
    }
   ],
   "source": [
    "total_outcomes = 20\n",
    "success_outcomes = 5\n",
    "trials = 10\n",
    "successes = np.arange(success_outcomes + 1)\n",
    "\n",
    "plot_discrete_distribution(f = stats.hypergeom,\n",
    "                           x_axis = successes,\n",
    "                           M = total_outcomes,\n",
    "                           N = success_outcomes,\n",
    "                           n = trials)"
   ]
  },
  {
   "cell_type": "markdown",
   "metadata": {},
   "source": [
    "---"
   ]
  },
  {
   "cell_type": "markdown",
   "metadata": {},
   "source": [
    "#### RVS"
   ]
  },
  {
   "cell_type": "code",
   "execution_count": 7,
   "metadata": {},
   "outputs": [
    {
     "name": "stdout",
     "output_type": "stream",
     "text": [
      "Min: 0\n",
      "Mean: 2.488\n",
      "Median: 3.0\n",
      "Max: 5\n",
      "Variance: 0.989856\n",
      "Standard Deviation: 0.9949150717523582\n"
     ]
    },
    {
     "data": {
      "image/png": "[encoded data removed]",
      "text/plain": [
       "<Figure size 576x288 with 1 Axes>"
      ]
     },
     "metadata": {},
     "output_type": "display_data"
    }
   ],
   "source": [
    "total_outcomes = 20\n",
    "success_outcomes = 5\n",
    "trials = 10\n",
    "\n",
    "sample = sample_discrete_distribution(f = stats.hypergeom,\n",
    "                                      size = 1000,\n",
    "                                      M = total_outcomes,\n",
    "                                      N = success_outcomes,\n",
    "                                      n = trials,)"
   ]
  },
  {
   "cell_type": "markdown",
   "metadata": {},
   "source": [
    "---"
   ]
  },
  {
   "cell_type": "markdown",
   "metadata": {},
   "source": [
    "**[Esempio]** In una sacca ci sono 20 palline, 6 rosse e 14 gialle. Si estraggono 5 palline a caso *without replacement*. Qual è la probabilità che ci siano esattamente 4 palline rosse nelle 5 estratte?"
   ]
  },
  {
   "cell_type": "markdown",
   "metadata": {},
   "source": [
    "I *trial* non sono indipendenti, perché l'estrazione di una palline influenza le probabilità delle estrazioni successive, quindi la distribuzione binomiale non può essere utilizzata!"
   ]
  },
  {
   "cell_type": "code",
   "execution_count": 8,
   "metadata": {},
   "outputs": [
    {
     "data": {
      "text/plain": [
       "0.0135448916408669"
      ]
     },
     "execution_count": 8,
     "metadata": {},
     "output_type": "execute_result"
    }
   ],
   "source": [
    "total_outcomes = 20\n",
    "success_outcomes = 6\n",
    "trials = 5\n",
    "desired_successes = 4\n",
    "\n",
    "stats.hypergeom.pmf(M = total_outcomes,\n",
    "                    N = success_outcomes,\n",
    "                    n = trials,\n",
    "                    k = desired_successes)"
   ]
  },
  {
   "cell_type": "markdown",
   "metadata": {},
   "source": [
    "Se invece l'estrazione fosse fatta *with replacement* avremmo potuto utilizzare la binomiale!"
   ]
  },
  {
   "cell_type": "code",
   "execution_count": 9,
   "metadata": {},
   "outputs": [
    {
     "data": {
      "text/plain": [
       "0.028349999999999976"
      ]
     },
     "execution_count": 9,
     "metadata": {},
     "output_type": "execute_result"
    }
   ],
   "source": [
    "total_outcomes = 20\n",
    "success_outcomes = 6\n",
    "trials = 5\n",
    "desired_successes = 4\n",
    "\n",
    "stats.binom.pmf(n = trials,\n",
    "                p = success_outcomes/total_outcomes,\n",
    "                k = desired_successes)"
   ]
  },
  {
   "cell_type": "markdown",
   "metadata": {},
   "source": [
    "---"
   ]
  },
  {
   "cell_type": "markdown",
   "metadata": {},
   "source": [
    "**[Esempio]** Nella popolazione ho 12 democrats, 24 republicans e 8 independents. Se estraggo un sample di 6 elementi a caso, qual è la probabilità che ci siano 3 democrats, 2 republicans e 1 independent?"
   ]
  },
  {
   "cell_type": "markdown",
   "metadata": {},
   "source": [
    "Dobbiamo usare la formula della *PMF*, perché questo è uno scenario da **Multivariate Hypergeometric**. Al denominatore sicuramente c'è il coef. binomiale di 44 su 6, mentre al numeratore dobbiamo moltiplicare tre coef. in base allo scenario di successo.\n",
    "\n",
    "Voglio tre democrats quindi mi serve il binomiale di 12 su 3; voglio 2 republicans quindi mi serve il binomiale di 24 su 2; infine per un indipendente serve il binomiale di 8 su 1."
   ]
  },
  {
   "cell_type": "code",
   "execution_count": 10,
   "metadata": {},
   "outputs": [
    {
     "data": {
      "text/plain": [
       "0.06881377272755605"
      ]
     },
     "execution_count": 10,
     "metadata": {},
     "output_type": "execute_result"
    }
   ],
   "source": [
    "num = scipy.special.binom(12, 3) * scipy.special.binom(24, 2) * scipy.special.binom(8, 1)\n",
    "den = scipy.special.binom(44, 6)\n",
    "\n",
    "num/den"
   ]
  },
  {
   "cell_type": "markdown",
   "metadata": {},
   "source": [
    "---"
   ]
  }
 ],
 "metadata": {
  "kernelspec": {
   "display_name": "Python 3",
   "language": "python",
   "name": "python3"
  },
  "language_info": {
   "codemirror_mode": {
    "name": "ipython",
    "version": 3
   },
   "file_extension": ".py",
   "mimetype": "text/x-python",
   "name": "python",
   "nbconvert_exporter": "python",
   "pygments_lexer": "ipython3",
   "version": "3.7.6"
  }
 },
 "nbformat": 4,
 "nbformat_minor": 4
}
