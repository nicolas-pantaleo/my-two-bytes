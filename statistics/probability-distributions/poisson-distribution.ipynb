{
 "cells": [
  {
   "cell_type": "markdown",
   "metadata": {},
   "source": [
    "# Poisson Distribution"
   ]
  },
  {
   "cell_type": "markdown",
   "metadata": {},
   "source": [
    "---"
   ]
  },
  {
   "cell_type": "markdown",
   "metadata": {},
   "source": [
    "## Import"
   ]
  },
  {
   "cell_type": "code",
   "execution_count": 1,
   "metadata": {},
   "outputs": [],
   "source": [
    "import math\n",
    "import numpy as np\n",
    "import pandas as pd\n",
    "import matplotlib.pyplot as plt\n",
    "import seaborn as sns\n",
    "\n",
    "import statistics\n",
    "from scipy import stats\n",
    "\n",
    "%matplotlib inline\n",
    "plt.style.use(\"fivethirtyeight\")"
   ]
  },
  {
   "cell_type": "markdown",
   "metadata": {},
   "source": [
    "---"
   ]
  },
  {
   "cell_type": "markdown",
   "metadata": {},
   "source": [
    "## Utilities"
   ]
  },
  {
   "cell_type": "code",
   "execution_count": 2,
   "metadata": {},
   "outputs": [],
   "source": [
    "def get_discrete_ticks(xmin, xmax):\n",
    "    cuts = [5, 10, 20, 50, 100, 200, 500, 1000]\n",
    "    ticks = np.arange(xmin, xmax + 1)\n",
    "    if len(ticks) > 15:\n",
    "        for cut in cuts:\n",
    "            ticks = [tick for tick in ticks if tick % cut == 0]\n",
    "            if len(ticks) <= 15:\n",
    "                return ticks\n",
    "        return ticks\n",
    "    return ticks"
   ]
  },
  {
   "cell_type": "code",
   "execution_count": 3,
   "metadata": {},
   "outputs": [],
   "source": [
    "def get_bins(xmin, xmax, step = 1):\n",
    "    bins = np.arange(xmin, xmax, step)\n",
    "    bins = bins if len(bins) > 2 else get_bins(xmin, xmax + 1, step)\n",
    "    return bins if len(bins) <= 100 \\\n",
    "        else get_bins(xmin, xmax, step = step + 1)"
   ]
  },
  {
   "cell_type": "code",
   "execution_count": 4,
   "metadata": {},
   "outputs": [],
   "source": [
    "def plot_discrete_distribution(f, x_axis, obs = None, q = None, **kwargs):\n",
    "    pmf = f.pmf(x_axis, **kwargs)\n",
    "    fig, ax = plt.subplots(figsize = (8, 4))\n",
    "    bars = ax.bar(x_axis, pmf, edgecolor = \"k\", linewidth = 2)\n",
    "    \n",
    "    print(f\"Mean: {f.mean(**kwargs)}\")\n",
    "    print(f\"Median: {f.median(**kwargs)}\")\n",
    "    print(f\"Variance: {f.var(**kwargs)}\")\n",
    "    print(f\"Standard Deviation: {f.std(**kwargs)}\")\n",
    "    print(\"-\" * 10)\n",
    "    if obs:\n",
    "        plt.setp(bars[obs - x_axis.min()], color = \"r\", linewidth = 2)\n",
    "        plt.setp(bars[obs - x_axis.min()], edgecolor = \"k\")\n",
    "        obs_pmf = f.pmf(obs, **kwargs)\n",
    "        print(f\"PMF({obs}) = {obs_pmf}\")\n",
    "        \n",
    "    plt.xticks(get_discrete_ticks(xmin = x_axis.min(), xmax = x_axis.max()))\n",
    "    plt.show()"
   ]
  },
  {
   "cell_type": "code",
   "execution_count": 5,
   "metadata": {},
   "outputs": [],
   "source": [
    "def sample_discrete_distribution(f, size = 1, seed = None, **kwargs):\n",
    "    sample = f.rvs(size = size, random_state = seed, **kwargs)\n",
    "    \n",
    "    print(f\"Min: {np.min(sample)}\")\n",
    "    print(f\"Mean: {np.mean(sample)}\")\n",
    "    print(f\"Median: {np.median(sample)}\")\n",
    "    print(f\"Max: {np.max(sample)}\")\n",
    "    print(f\"Variance: {np.var(sample, ddof = 0)}\")\n",
    "    print(f\"Standard Deviation: {np.std(sample, ddof = 0)}\")\n",
    "    \n",
    "    fig, ax = plt.subplots(figsize = (8, 4))\n",
    "   \n",
    "    plt.hist(x = sample,\n",
    "             density = True,\n",
    "             edgecolor = \"k\",\n",
    "             bins = get_bins(sample.min(), sample.max() + 1),\n",
    "             linewidth = 2)\n",
    "\n",
    "    plt.xticks(get_discrete_ticks(sample.min(), sample.max()))\n",
    "    plt.show()\n",
    "    return sample"
   ]
  },
  {
   "cell_type": "markdown",
   "metadata": {},
   "source": [
    "---"
   ]
  },
  {
   "cell_type": "markdown",
   "metadata": {},
   "source": [
    "<a id=\"poisson-distribution\"></a>\n",
    "# Poisson Distribution"
   ]
  },
  {
   "cell_type": "markdown",
   "metadata": {},
   "source": [
    "Supponiamo di dover contare il numero di occorrenze di un evento in una determinata unità di tempo, distanza, area o volume. E' per questi scenari che si utilizza principalmente la distribuzione di Poisson.\n",
    "\n",
    "L'importante è che gli eventi siano indipendenti e che la probabilità che un evento si verifichi in un dato intervallo temporale (usiamo il tempo come metrica di riferimento, ma vale per tutte) non cambi nel tempo.\n",
    "\n",
    "Si dice quindi che la generica variabile aleatoria $X$ che modella il numero di eventi che si verificano in un certo numero di unità di tempo segue la distribuzione di Poisson."
   ]
  },
  {
   "cell_type": "markdown",
   "metadata": {},
   "source": [
    "La distribuzione di Poisson si rivela utile per modellare scenari in cui il numero di eventi è molto grande e la relativa probabilità di successo è particolarmente piccola.\n",
    "\n",
    "E' caratterizzata da un solo parametro, il **rate** $\\lambda$."
   ]
  },
  {
   "cell_type": "markdown",
   "metadata": {},
   "source": [
    "**PMF**:"
   ]
  },
  {
   "cell_type": "markdown",
   "metadata": {},
   "source": [
    "$$\\large P(X=x)=\\frac{\\lambda^x}{x!}e^{-\\lambda}\\;\\;\\;\\;\\;x=0,\\dots,n$$"
   ]
  },
  {
   "cell_type": "markdown",
   "metadata": {},
   "source": [
    "**Expectation** e **Variance**:"
   ]
  },
  {
   "cell_type": "markdown",
   "metadata": {},
   "source": [
    "$$\\large E(X)=\\lambda$$\n",
    "\n",
    "$$\\large Var(X)=\\lambda$$"
   ]
  },
  {
   "cell_type": "markdown",
   "metadata": {},
   "source": [
    "---"
   ]
  },
  {
   "cell_type": "markdown",
   "metadata": {},
   "source": [
    "Ricordiamo che esiste una **relazione** fra la **binomiale** e la **Poisson**: in particolare, quando il numero di *trial n* tende ad infinito e la probabilità di successo tende a zero, mantenendo così il prodotto *np* costante, la distribuzione binomiale segue l'andamento della distribuzione di Poisson.\n",
    "\n",
    "Alternativamente, una Poisson con $\\lambda=np$ segue quasi fedelmente un andamento binomiale se *n* è molto grande e *p* è molto piccolo.\n",
    "\n",
    "L'approssimazione di Poisson è ragionevole se $n>50$ e $np<5$."
   ]
  },
  {
   "cell_type": "markdown",
   "metadata": {},
   "source": [
    "---"
   ]
  },
  {
   "cell_type": "markdown",
   "metadata": {},
   "source": [
    "**[Esempio]** L'albinismo coinvolge 1 in 20K persone. In un sample di 1000 persone, qual è la probabilità che esattamente 2 abbiano l'albinismo?"
   ]
  },
  {
   "cell_type": "code",
   "execution_count": 6,
   "metadata": {},
   "outputs": [
    {
     "data": {
      "text/plain": [
       "0.0011879650525216765"
      ]
     },
     "execution_count": 6,
     "metadata": {},
     "output_type": "execute_result"
    }
   ],
   "source": [
    "stats.binom.pmf(k = 2, n = 1000, p = 1/20000)"
   ]
  },
  {
   "cell_type": "code",
   "execution_count": 7,
   "metadata": {},
   "outputs": [
    {
     "data": {
      "text/plain": [
       "0.001189036780625893"
      ]
     },
     "execution_count": 7,
     "metadata": {},
     "output_type": "execute_result"
    }
   ],
   "source": [
    "# rate = n * p\n",
    "rate = 1000 * 1/20000\n",
    "\n",
    "stats.poisson.pmf(k = 2, mu = rate)"
   ]
  },
  {
   "cell_type": "markdown",
   "metadata": {},
   "source": [
    "---"
   ]
  },
  {
   "cell_type": "markdown",
   "metadata": {},
   "source": [
    "#### Probability Mass Function"
   ]
  },
  {
   "cell_type": "code",
   "execution_count": 8,
   "metadata": {},
   "outputs": [
    {
     "name": "stdout",
     "output_type": "stream",
     "text": [
      "Mean: 5.0\n",
      "Median: 5.0\n",
      "Variance: 5.0\n",
      "Standard Deviation: 2.23606797749979\n",
      "----------\n"
     ]
    },
    {
     "data": {
      "image/png": "[encoded data removed]",
      "text/plain": [
       "<Figure size 576x288 with 1 Axes>"
      ]
     },
     "metadata": {},
     "output_type": "display_data"
    }
   ],
   "source": [
    "mu = 5\n",
    "max_events = 10\n",
    "\n",
    "plot_discrete_distribution(f = stats.poisson,\n",
    "                           x_axis = np.arange(max_events + 1),\n",
    "                           mu = mu)"
   ]
  },
  {
   "cell_type": "markdown",
   "metadata": {},
   "source": [
    "---"
   ]
  },
  {
   "cell_type": "markdown",
   "metadata": {},
   "source": [
    "#### RVS"
   ]
  },
  {
   "cell_type": "code",
   "execution_count": 9,
   "metadata": {},
   "outputs": [
    {
     "name": "stdout",
     "output_type": "stream",
     "text": [
      "Min: 0\n",
      "Mean: 4.942\n",
      "Median: 5.0\n",
      "Max: 13\n",
      "Variance: 4.900636\n",
      "Standard Deviation: 2.2137380152131825\n"
     ]
    },
    {
     "data": {
      "image/png": "[encoded data removed]",
      "text/plain": [
       "<Figure size 576x288 with 1 Axes>"
      ]
     },
     "metadata": {},
     "output_type": "display_data"
    }
   ],
   "source": [
    "mu = 5\n",
    "\n",
    "sample = sample_discrete_distribution(f = stats.poisson,\n",
    "                                      size = 1000,\n",
    "                                      mu = 5)"
   ]
  },
  {
   "cell_type": "markdown",
   "metadata": {},
   "source": [
    "---"
   ]
  },
  {
   "cell_type": "markdown",
   "metadata": {},
   "source": [
    "**[Esempio]** Un nanogrammo di Plutonio presenta in media 2.3 decay radioattivi al secondo e tale numero di decay segue una distro di Poisson. Qual è la probabilità che in due secondi ci siano esattamente 3 decay?"
   ]
  },
  {
   "cell_type": "code",
   "execution_count": 10,
   "metadata": {},
   "outputs": [
    {
     "data": {
      "text/plain": [
       "0.1630675806732757"
      ]
     },
     "execution_count": 10,
     "metadata": {},
     "output_type": "execute_result"
    }
   ],
   "source": [
    "rate = 2.3 * 2\n",
    "stats.poisson.pmf(k = 3, mu = rate)"
   ]
  },
  {
   "cell_type": "markdown",
   "metadata": {},
   "source": [
    "Occhio che *lambda* è la media di decay al secondo per il numero di secondi considerati, cioè 2!"
   ]
  },
  {
   "cell_type": "markdown",
   "metadata": {},
   "source": [
    "Plottiamo anche tutta la *PMF*:"
   ]
  },
  {
   "cell_type": "code",
   "execution_count": 11,
   "metadata": {},
   "outputs": [
    {
     "name": "stdout",
     "output_type": "stream",
     "text": [
      "Mean: 4.6\n",
      "Median: 4.0\n",
      "Variance: 4.6\n",
      "Standard Deviation: 2.1447610589527217\n",
      "----------\n"
     ]
    },
    {
     "data": {
      "image/png": "[encoded data removed]",
      "text/plain": [
       "<Figure size 576x288 with 1 Axes>"
      ]
     },
     "metadata": {},
     "output_type": "display_data"
    }
   ],
   "source": [
    "mu = 2.3 * 2\n",
    "max_events = 10\n",
    "\n",
    "plot_discrete_distribution(f = stats.poisson,\n",
    "                           x_axis = np.arange(max_events + 1),\n",
    "                           mu = mu)"
   ]
  },
  {
   "cell_type": "markdown",
   "metadata": {},
   "source": [
    "E qual è la probabilità che non si verifichino più di 3 decay?"
   ]
  },
  {
   "cell_type": "code",
   "execution_count": 12,
   "metadata": {},
   "outputs": [
    {
     "data": {
      "text/plain": [
       "0.3257062830214471"
      ]
     },
     "execution_count": 12,
     "metadata": {},
     "output_type": "execute_result"
    }
   ],
   "source": [
    "rate = 2.3 * 2\n",
    "\n",
    "np.sum(stats.poisson.pmf(k = [0, 1, 2, 3], mu = rate))"
   ]
  },
  {
   "cell_type": "markdown",
   "metadata": {},
   "source": [
    "---"
   ]
  }
 ],
 "metadata": {
  "kernelspec": {
   "display_name": "Python 3",
   "language": "python",
   "name": "python3"
  },
  "language_info": {
   "codemirror_mode": {
    "name": "ipython",
    "version": 3
   },
   "file_extension": ".py",
   "mimetype": "text/x-python",
   "name": "python",
   "nbconvert_exporter": "python",
   "pygments_lexer": "ipython3",
   "version": "3.7.6"
  }
 },
 "nbformat": 4,
 "nbformat_minor": 4
}
