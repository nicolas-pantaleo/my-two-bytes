{
 "cells": [
  {
   "cell_type": "markdown",
   "metadata": {},
   "source": [
    "# Normal Distribution"
   ]
  },
  {
   "cell_type": "markdown",
   "metadata": {},
   "source": [
    "---"
   ]
  },
  {
   "cell_type": "markdown",
   "metadata": {},
   "source": [
    "## Import"
   ]
  },
  {
   "cell_type": "code",
   "execution_count": 1,
   "metadata": {},
   "outputs": [],
   "source": [
    "import math\n",
    "import numpy as np\n",
    "import pandas as pd\n",
    "import matplotlib.pyplot as plt\n",
    "import seaborn as sns\n",
    "\n",
    "import statistics\n",
    "from scipy import stats\n",
    "\n",
    "%matplotlib inline\n",
    "plt.style.use(\"fivethirtyeight\")"
   ]
  },
  {
   "cell_type": "markdown",
   "metadata": {},
   "source": [
    "---"
   ]
  },
  {
   "cell_type": "markdown",
   "metadata": {},
   "source": [
    "## Utilities"
   ]
  },
  {
   "cell_type": "code",
   "execution_count": 2,
   "metadata": {},
   "outputs": [],
   "source": [
    "def get_bins(xmin, xmax, step = 1):\n",
    "    bins = np.arange(xmin, xmax, step)\n",
    "    bins = bins if len(bins) > 2 else get_bins(xmin, xmax + 1, step)\n",
    "    return bins if len(bins) <= 100 \\\n",
    "        else get_bins(xmin, xmax, step = step + 1)"
   ]
  },
  {
   "cell_type": "code",
   "execution_count": 3,
   "metadata": {},
   "outputs": [],
   "source": [
    "def get_continuous_ticks(xmin, xmax):\n",
    "    cuts = [5, 10, 20, 50, 100, 200, 500, 1000]\n",
    "    ticks = np.arange(int(np.floor(xmin)), int(np.ceil(xmax)) + 1)\n",
    "    if len(ticks) > 15:\n",
    "        for cut in cuts:\n",
    "            ticks = [tick for tick in ticks if tick % cut == 0]\n",
    "            if len(ticks) <= 15:\n",
    "                return ticks\n",
    "        return ticks\n",
    "    return ticks"
   ]
  },
  {
   "cell_type": "code",
   "execution_count": 4,
   "metadata": {},
   "outputs": [],
   "source": [
    "def plot_continuous_distribution(f, x_axis, obs = None, q = None, **kwargs):\n",
    "    pdf = f.pdf(x_axis, **kwargs)\n",
    "    \n",
    "    fig, ax = plt.subplots(figsize = (8, 4))\n",
    "    ax.plot(x_axis, pdf, alpha = 0.7, color = \"k\")\n",
    "    ax.fill_between(x_axis, pdf, alpha = 0.4)\n",
    "    \n",
    "    print(f\"Mean: {f.mean(**kwargs)}\")\n",
    "    print(f\"Median: {f.median(**kwargs)}\")\n",
    "    print(f\"Variance: {f.var(**kwargs)}\")\n",
    "    print(f\"Standard Deviation: {f.std(**kwargs)}\")\n",
    "    \n",
    "    plt.xticks(get_continuous_ticks(xmin = x_axis.min(), xmax = x_axis.max()))\n",
    "    plt.show()"
   ]
  },
  {
   "cell_type": "code",
   "execution_count": 5,
   "metadata": {},
   "outputs": [],
   "source": [
    "def sample_continuous_distribution(f, size = 1, seed = None, **kwargs):\n",
    "    sample = f.rvs(size = size, random_state = seed, **kwargs)\n",
    "    \n",
    "    print(f\"Min: {np.min(sample)}\")\n",
    "    print(f\"Mean: {np.mean(sample)}\")\n",
    "    print(f\"Median: {np.median(sample)}\")\n",
    "    print(f\"Max: {np.max(sample)}\")\n",
    "    print(f\"Variance: {np.var(sample, ddof = 0)}\")\n",
    "    print(f\"Standard Deviation: {np.std(sample, ddof = 0)}\")\n",
    "    \n",
    "    fig, ax = plt.subplots(figsize = (8, 4))\n",
    "   \n",
    "    plt.hist(x = sample,\n",
    "             density = True,\n",
    "             edgecolor = \"k\",\n",
    "             bins = get_bins(sample.min(), sample.max() + 1),\n",
    "             linewidth = 2)\n",
    "\n",
    "    plt.xticks(get_continuous_ticks(sample.min(), sample.max()))\n",
    "    plt.show()\n",
    "    return sample"
   ]
  },
  {
   "cell_type": "markdown",
   "metadata": {},
   "source": [
    "---"
   ]
  },
  {
   "cell_type": "markdown",
   "metadata": {},
   "source": [
    "La **normal distribution** descrive una curva simmetrica, unimodale e a forma di campana. E' governata da due parametri: la *mean* e la *standard deviation*.\n",
    "\n",
    "Vige la **68-95-99.7% rule**, secondo la quale:\n",
    "- Il *68%* dei dati si trova al massimo ad una *SD* dalla *mean*. $[\\mu-\\sigma,\\mu+\\sigma]$\n",
    "- Il *95%* dei dati si trova al massimo a due *SD* dalla *mean*. $[\\mu-2\\sigma,\\mu+2\\sigma]$\n",
    "- Il *99.7%* dei dati si trova al massimo a tre *SD* dalla *mean*. $[\\mu-3\\sigma,\\mu+3\\sigma]$"
   ]
  },
  {
   "cell_type": "markdown",
   "metadata": {},
   "source": [
    "**PDF**"
   ]
  },
  {
   "cell_type": "markdown",
   "metadata": {},
   "source": [
    "$$\\large f(x)=\\frac{1}{\\sqrt{2\\pi\\sigma^2}}e^{-\\frac{(x-\\mu)^2}{2\\sigma^2}}$$"
   ]
  },
  {
   "cell_type": "markdown",
   "metadata": {},
   "source": [
    "Se la media è nulla e la varianza è unitaria, si parla di **standard normal distribution**, la cui *PDF* è pari a:"
   ]
  },
  {
   "cell_type": "markdown",
   "metadata": {},
   "source": [
    "$$\\large f(x)=\\frac{1}{\\sqrt{2\\pi}}e^{-\\frac{x^2}{2}}$$"
   ]
  },
  {
   "cell_type": "markdown",
   "metadata": {},
   "source": [
    "Ogni variabile aleatoria normale può essere standardizzata; tale processo prende il nome di **Z-transformation**.\n",
    "\n",
    "Chiaramente sottrarre alla variabile la propria media costringe la variabile stessa ad avere nuova media nulla, e dividere per la deviazione standard costringe la variabile ad avere nuova deviazione standard unitaria."
   ]
  },
  {
   "cell_type": "markdown",
   "metadata": {},
   "source": [
    "$$\\large Z=\\frac{X-\\mu_X}{\\sigma_X}\\sim N(0,1)$$"
   ]
  },
  {
   "cell_type": "markdown",
   "metadata": {},
   "source": [
    "---"
   ]
  },
  {
   "cell_type": "markdown",
   "metadata": {},
   "source": [
    "La verifica di normalità è fondamentale, in quando molte tecniche di inferenza assumono di effettuare dei sample da popolazioni distribuite seguendo l'andamento normale."
   ]
  },
  {
   "cell_type": "code",
   "execution_count": 6,
   "metadata": {},
   "outputs": [],
   "source": [
    "def qq_plot(x, y, xlabel = \"X\", ylabel = \"Y\"):\n",
    "    fig, ax = plt.subplots(figsize = (6, 4))\n",
    "    quantiles = np.linspace(0, 1, min(len(x), len(y)))\n",
    "    x_quantiles = np.quantile(x, quantiles, interpolation = \"nearest\")\n",
    "    y_quantiles = np.quantile(y, quantiles, interpolation = \"nearest\")\n",
    "    ax.plot([0,1],[0,1], color=\"k\", alpha=0.7, transform=ax.transAxes,\n",
    "           linestyle = \"--\", linewidth = 1.5)\n",
    "    ax.scatter(x_quantiles, y_quantiles,\n",
    "               color = \"cornflowerblue\", s = 100, edgecolor = \"k\",\n",
    "               linewidth = 1.5, alpha = 0.5)\n",
    "    plt.xlabel(f\"{xlabel} Quantiles\")\n",
    "    plt.ylabel(f\"{ylabel} Quantiles\")\n",
    "    plt.show()"
   ]
  },
  {
   "cell_type": "markdown",
   "metadata": {},
   "source": [
    "Innanzitutto si ordinano i dati dal più piccolo al più grande e poi li si plottano contro i quantili della standard normal."
   ]
  },
  {
   "cell_type": "code",
   "execution_count": 7,
   "metadata": {},
   "outputs": [
    {
     "data": {
      "text/plain": [
       "[3.89, 4.75, 4.75, 5.2, 5.78, 5.8, 6.33, 7.21, 7.9]"
      ]
     },
     "execution_count": 7,
     "metadata": {},
     "output_type": "execute_result"
    }
   ],
   "source": [
    "data = [7.9, 5.78, 3.89, 4.75, 4.75, 5.2, 5.8, 6.33, 7.21]\n",
    "data.sort()\n",
    "data"
   ]
  },
  {
   "cell_type": "code",
   "execution_count": 8,
   "metadata": {},
   "outputs": [
    {
     "data": {
      "image/png": "[encoded data removed]",
      "text/plain": [
       "<Figure size 432x288 with 1 Axes>"
      ]
     },
     "metadata": {},
     "output_type": "display_data"
    }
   ],
   "source": [
    "x = stats.probplot(data, dist=\"norm\", plot = plt)"
   ]
  },
  {
   "cell_type": "markdown",
   "metadata": {},
   "source": [
    "Se la distribuzione delle osservazioni segue l'andamento rettilineo evidenziato, vuol dire che la popolazione che ha generato quel sample segue molto probabilmente un andamento normale."
   ]
  },
  {
   "cell_type": "markdown",
   "metadata": {},
   "source": [
    "---"
   ]
  },
  {
   "cell_type": "markdown",
   "metadata": {},
   "source": [
    "#### Probability Density Function"
   ]
  },
  {
   "cell_type": "code",
   "execution_count": 9,
   "metadata": {},
   "outputs": [
    {
     "name": "stdout",
     "output_type": "stream",
     "text": [
      "Mean: 0.0\n",
      "Median: 0.0\n",
      "Variance: 1.0\n",
      "Standard Deviation: 1.0\n"
     ]
    },
    {
     "data": {
      "image/png": "[encoded data removed]",
      "text/plain": [
       "<Figure size 576x288 with 1 Axes>"
      ]
     },
     "metadata": {},
     "output_type": "display_data"
    }
   ],
   "source": [
    "mu = 0\n",
    "sigma = 1\n",
    "\n",
    "x_axis = np.linspace(mu - 4 * sigma, mu + 4 * sigma, 1000)\n",
    "\n",
    "plot_continuous_distribution(f = stats.norm,\n",
    "                             x_axis = x_axis,\n",
    "                             loc = mu,\n",
    "                             scale = sigma)"
   ]
  },
  {
   "cell_type": "markdown",
   "metadata": {},
   "source": [
    "---"
   ]
  },
  {
   "cell_type": "markdown",
   "metadata": {},
   "source": [
    "#### RVS"
   ]
  },
  {
   "cell_type": "code",
   "execution_count": 10,
   "metadata": {},
   "outputs": [
    {
     "name": "stdout",
     "output_type": "stream",
     "text": [
      "Min: -3.9991271114380234\n",
      "Mean: -0.005505665982418366\n",
      "Median: -0.009716837514984353\n",
      "Max: 3.139146379667345\n",
      "Variance: 1.0194837753207362\n",
      "Standard Deviation: 1.0096948921930506\n"
     ]
    },
    {
     "data": {
      "image/png": "[encoded data removed]",
      "text/plain": [
       "<Figure size 576x288 with 1 Axes>"
      ]
     },
     "metadata": {},
     "output_type": "display_data"
    }
   ],
   "source": [
    "mu = 0\n",
    "sigma = 1\n",
    "\n",
    "sample = sample_continuous_distribution(f = stats.norm,\n",
    "                                        size = 1000,\n",
    "                                        loc = mu,\n",
    "                                        scale = sigma)"
   ]
  },
  {
   "cell_type": "markdown",
   "metadata": {},
   "source": [
    "---"
   ]
  },
  {
   "cell_type": "markdown",
   "metadata": {},
   "source": [
    "**[Esempio]** Supponiamo che l'altezza di una donna americana sia modellabile con una distribuzione normale a media 162.2 e deviazione standard 6.8. Qual è la probabilità che una donna estratta a caso sia più alta di 170.5 cm?"
   ]
  },
  {
   "cell_type": "code",
   "execution_count": 11,
   "metadata": {},
   "outputs": [
    {
     "data": {
      "text/plain": [
       "0.1111209814767235"
      ]
     },
     "execution_count": 11,
     "metadata": {},
     "output_type": "execute_result"
    }
   ],
   "source": [
    "stats.norm.sf(x = 170.5, loc = 162.2, scale = 6.8)"
   ]
  },
  {
   "cell_type": "markdown",
   "metadata": {},
   "source": [
    "Se voglio sapere quante deviazioni standard separano l'osservazione d'interesse dalla media della distribuzione, devo standardizzare:"
   ]
  },
  {
   "cell_type": "code",
   "execution_count": 12,
   "metadata": {},
   "outputs": [
    {
     "data": {
      "text/plain": [
       "1.2205882352941193"
      ]
     },
     "execution_count": 12,
     "metadata": {},
     "output_type": "execute_result"
    }
   ],
   "source": [
    "z = (170.5 - 162.2)/6.8\n",
    "z"
   ]
  },
  {
   "cell_type": "markdown",
   "metadata": {},
   "source": [
    "L'altezza d'interesse di 170.5cm si trova a 1.22 deviazioni standard di distanza dalla media."
   ]
  },
  {
   "cell_type": "markdown",
   "metadata": {},
   "source": [
    "E invece qual è la probabilità che una donna estratta a caso abbia un'altezza compresa fra 150.5 e 170.5?"
   ]
  },
  {
   "cell_type": "code",
   "execution_count": 13,
   "metadata": {
    "scrolled": true
   },
   "outputs": [
    {
     "data": {
      "text/plain": [
       "0.8462162336208664"
      ]
     },
     "execution_count": 13,
     "metadata": {},
     "output_type": "execute_result"
    }
   ],
   "source": [
    "high_limit = stats.norm.cdf(x = 170.5, loc = 162.2, scale = 6.8)\n",
    "low_limit = stats.norm.cdf(x = 150.5, loc = 162.2, scale = 6.8)\n",
    "\n",
    "prob = high_limit - low_limit\n",
    "prob"
   ]
  },
  {
   "cell_type": "markdown",
   "metadata": {},
   "source": [
    "E invece qual è il decimo percentile della distribuzione di altezza nelle donne?"
   ]
  },
  {
   "cell_type": "code",
   "execution_count": 14,
   "metadata": {},
   "outputs": [
    {
     "data": {
      "text/plain": [
       "153.48544935429672"
      ]
     },
     "execution_count": 14,
     "metadata": {},
     "output_type": "execute_result"
    }
   ],
   "source": [
    "stats.norm.ppf(q = 0.1, loc = 162.2, scale = 6.8)"
   ]
  },
  {
   "cell_type": "markdown",
   "metadata": {},
   "source": [
    "Standardizzato sarebbe:"
   ]
  },
  {
   "cell_type": "code",
   "execution_count": 15,
   "metadata": {},
   "outputs": [
    {
     "data": {
      "text/plain": [
       "-1.2794117647058807"
      ]
     },
     "execution_count": 15,
     "metadata": {},
     "output_type": "execute_result"
    }
   ],
   "source": [
    "z = (153.5 - 162.2)/6.8\n",
    "z"
   ]
  },
  {
   "cell_type": "markdown",
   "metadata": {},
   "source": [
    "Quindi il decimo percentile di una distribuzione normale standardizzata si trova a 1.28 deviazioni standard di distanza dalla media."
   ]
  },
  {
   "cell_type": "markdown",
   "metadata": {},
   "source": [
    "---"
   ]
  }
 ],
 "metadata": {
  "kernelspec": {
   "display_name": "Python 3",
   "language": "python",
   "name": "python3"
  },
  "language_info": {
   "codemirror_mode": {
    "name": "ipython",
    "version": 3
   },
   "file_extension": ".py",
   "mimetype": "text/x-python",
   "name": "python",
   "nbconvert_exporter": "python",
   "pygments_lexer": "ipython3",
   "version": "3.8.5"
  }
 },
 "nbformat": 4,
 "nbformat_minor": 4
}
