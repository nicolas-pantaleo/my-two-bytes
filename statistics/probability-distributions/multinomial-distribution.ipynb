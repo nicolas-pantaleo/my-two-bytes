{
 "cells": [
  {
   "cell_type": "markdown",
   "metadata": {},
   "source": [
    "# Multinomial Distribution"
   ]
  },
  {
   "cell_type": "markdown",
   "metadata": {},
   "source": [
    "---"
   ]
  },
  {
   "cell_type": "markdown",
   "metadata": {},
   "source": [
    "## Import"
   ]
  },
  {
   "cell_type": "code",
   "execution_count": 1,
   "metadata": {},
   "outputs": [],
   "source": [
    "import math\n",
    "import numpy as np\n",
    "import pandas as pd\n",
    "import matplotlib.pyplot as plt\n",
    "import seaborn as sns\n",
    "\n",
    "import statistics\n",
    "import scipy\n",
    "from scipy import stats\n",
    "\n",
    "%matplotlib inline\n",
    "plt.style.use(\"fivethirtyeight\")"
   ]
  },
  {
   "cell_type": "markdown",
   "metadata": {},
   "source": [
    "---"
   ]
  },
  {
   "cell_type": "markdown",
   "metadata": {},
   "source": [
    "## Utilities"
   ]
  },
  {
   "cell_type": "code",
   "execution_count": 2,
   "metadata": {},
   "outputs": [],
   "source": [
    "def get_discrete_ticks(xmin, xmax):\n",
    "    cuts = [5, 10, 20, 50, 100, 200, 500, 1000]\n",
    "    ticks = np.arange(xmin, xmax + 1)\n",
    "    if len(ticks) > 15:\n",
    "        for cut in cuts:\n",
    "            ticks = [tick for tick in ticks if tick % cut == 0]\n",
    "            if len(ticks) <= 15:\n",
    "                return ticks\n",
    "        return ticks\n",
    "    return ticks"
   ]
  },
  {
   "cell_type": "code",
   "execution_count": 3,
   "metadata": {},
   "outputs": [],
   "source": [
    "def get_bins(xmin, xmax, step = 1):\n",
    "    bins = np.arange(xmin, xmax, step)\n",
    "    bins = bins if len(bins) > 2 else get_bins(xmin, xmax + 1, step)\n",
    "    return bins if len(bins) <= 100 \\\n",
    "        else get_bins(xmin, xmax, step = step + 1)"
   ]
  },
  {
   "cell_type": "code",
   "execution_count": 4,
   "metadata": {},
   "outputs": [],
   "source": [
    "def plot_discrete_distribution(f, x_axis, obs = None, q = None, **kwargs):\n",
    "    pmf = f.pmf(x_axis, **kwargs)\n",
    "    fig, ax = plt.subplots(figsize = (8, 4))\n",
    "    bars = ax.bar(x_axis, pmf, edgecolor = \"k\", linewidth = 2)\n",
    "    \n",
    "    print(f\"Mean: {f.mean(**kwargs)}\")\n",
    "    print(f\"Median: {f.median(**kwargs)}\")\n",
    "    print(f\"Variance: {f.var(**kwargs)}\")\n",
    "    print(f\"Standard Deviation: {f.std(**kwargs)}\")\n",
    "    print(\"-\" * 10)\n",
    "    if obs:\n",
    "        plt.setp(bars[obs - x_axis.min()], color = \"r\", linewidth = 2)\n",
    "        plt.setp(bars[obs - x_axis.min()], edgecolor = \"k\")\n",
    "        obs_pmf = f.pmf(obs, **kwargs)\n",
    "        print(f\"PMF({obs}) = {obs_pmf}\")\n",
    "        \n",
    "    plt.xticks(get_discrete_ticks(xmin = x_axis.min(), xmax = x_axis.max()))\n",
    "    plt.show()"
   ]
  },
  {
   "cell_type": "code",
   "execution_count": 5,
   "metadata": {},
   "outputs": [],
   "source": [
    "def sample_discrete_distribution(f, size = 1, seed = None, **kwargs):\n",
    "    sample = f.rvs(size = size, random_state = seed, **kwargs)\n",
    "    \n",
    "    print(f\"Min: {np.min(sample)}\")\n",
    "    print(f\"Mean: {np.mean(sample)}\")\n",
    "    print(f\"Median: {np.median(sample)}\")\n",
    "    print(f\"Max: {np.max(sample)}\")\n",
    "    print(f\"Variance: {np.var(sample, ddof = 0)}\")\n",
    "    print(f\"Standard Deviation: {np.std(sample, ddof = 0)}\")\n",
    "    \n",
    "    fig, ax = plt.subplots(figsize = (8, 4))\n",
    "   \n",
    "    plt.hist(x = sample,\n",
    "             density = True,\n",
    "             edgecolor = \"k\",\n",
    "             bins = get_bins(sample.min(), sample.max() + 1),\n",
    "             linewidth = 2)\n",
    "\n",
    "    plt.xticks(get_discrete_ticks(sample.min(), sample.max()))\n",
    "    plt.show()\n",
    "    return sample"
   ]
  },
  {
   "cell_type": "markdown",
   "metadata": {},
   "source": [
    "---"
   ]
  },
  {
   "cell_type": "markdown",
   "metadata": {},
   "source": [
    "La distribuzione multinomiale è una generalizzazione della binomiale.\n",
    "\n",
    "Nella binomiale ci sono solo due possibili *outcome* in ogni singolo trial, il successo e il fallimento. Nella multinomiale, è possibile avere più di due *outcome*."
   ]
  },
  {
   "cell_type": "markdown",
   "metadata": {},
   "source": [
    "Ad esempio, supponiamo che la distribuzione di gruppi sanguigni negli USA sia:\n",
    "- 0: 0.44\n",
    "- A: 0.42\n",
    "- B: 0.10\n",
    "- AB: 0.04"
   ]
  },
  {
   "cell_type": "markdown",
   "metadata": {},
   "source": [
    "In un sample di 10 americani, qual è la probabilità di avere 6 \"0\", 2 \"A\", 1 \"B\" e 1 \"AB\"?"
   ]
  },
  {
   "cell_type": "markdown",
   "metadata": {},
   "source": [
    "Posso definire la variabile aleatoria $X_i$ come il numero di occorrenze dell'*outcome* *i*. Di conseguenza ottengo:"
   ]
  },
  {
   "cell_type": "markdown",
   "metadata": {},
   "source": [
    "$$\\large P(X_1=x_1,\\dots,X_k=x_k)=\\frac{n!}{x_1!\\dots x_k!}\n",
    "p_1^{x_1}\\cdot\\cdot\\cdotp_k^{x_k}$$"
   ]
  },
  {
   "cell_type": "markdown",
   "metadata": {},
   "source": [
    "Dove chiaramente le variabili aleatorie i-esime possono assumere valori da 0 fino ad *n*, perché *n* sono i trial totali eseguiti.\n",
    "\n",
    "Sappiamo anche che la somma di tutti i valori $x_i$ dev'essere pari ad *n*, perché gli *outcome* sono mutuamente esclusivi."
   ]
  },
  {
   "cell_type": "markdown",
   "metadata": {},
   "source": [
    "$$\\large \\sum_{i=1}^{k}x_i=n$$"
   ]
  },
  {
   "cell_type": "markdown",
   "metadata": {},
   "source": [
    "E' come se ciascuna delle variabili aleatorie $X_i$ segua una propria distribuzione binomiale, caratterizzata dalla probabilità di occorrenza dell'*outcome* i-esimo e dal numero di trial totali."
   ]
  },
  {
   "cell_type": "markdown",
   "metadata": {},
   "source": [
    "$$\\large E(X_i)=np_i\\;\\;\\;Var(X_i)=np_i(1-p_i)$$"
   ]
  },
  {
   "cell_type": "markdown",
   "metadata": {},
   "source": [
    "Tornando all'esempio, la probabilità che cerchiamo è:"
   ]
  },
  {
   "cell_type": "markdown",
   "metadata": {},
   "source": [
    "$$P(X_1=6,X_2=2,X_3=1,X_4=1)=\\frac{10!}{6!2!1!1!}0.44^6\\cdot0.42^2\n",
    "0.10^1\\cdot0.04^1$$"
   ]
  },
  {
   "cell_type": "markdown",
   "metadata": {},
   "source": [
    "In codice:"
   ]
  },
  {
   "cell_type": "code",
   "execution_count": 6,
   "metadata": {},
   "outputs": [
    {
     "data": {
      "text/plain": [
       "0.012902538743119897"
      ]
     },
     "execution_count": 6,
     "metadata": {},
     "output_type": "execute_result"
    }
   ],
   "source": [
    "trials = 10\n",
    "probabilities = [0.44, 0.42, 0.10, 0.04]\n",
    "desired_outcomes = [6, 2, 1, 1]\n",
    "\n",
    "stats.multinomial.pmf(x = desired_outcomes,\n",
    "                      p = probabilities,\n",
    "                      n = trials)"
   ]
  },
  {
   "cell_type": "markdown",
   "metadata": {},
   "source": [
    "---"
   ]
  },
  {
   "cell_type": "markdown",
   "metadata": {},
   "source": [
    "**[Esempio]** Una sacca contiene 8 palline rosse, 3 gialle e 9 bianche. Si estraggono a caso 6 palline *with replacement*. Qual è la probabilità che 2 siano rossse, 1 gialla e 3 bianche?"
   ]
  },
  {
   "cell_type": "code",
   "execution_count": 7,
   "metadata": {},
   "outputs": [
    {
     "data": {
      "text/plain": [
       "0.1312200000000001"
      ]
     },
     "execution_count": 7,
     "metadata": {},
     "output_type": "execute_result"
    }
   ],
   "source": [
    "trials = 6\n",
    "probabilities = [8/20, 3/20, 9/20]\n",
    "desired_outcomes = [2, 1, 3]\n",
    "\n",
    "stats.multinomial.pmf(x = desired_outcomes,\n",
    "                      p = probabilities,\n",
    "                      n = trials)"
   ]
  },
  {
   "cell_type": "markdown",
   "metadata": {},
   "source": [
    "**Occhio:** Se il *sampling* fosse stato effettuato **without replacement**, avremmo dovuto usare la distribuzione **ipergeometrica multivariata**!"
   ]
  },
  {
   "cell_type": "markdown",
   "metadata": {},
   "source": [
    "---"
   ]
  }
 ],
 "metadata": {
  "kernelspec": {
   "display_name": "Python 3",
   "language": "python",
   "name": "python3"
  },
  "language_info": {
   "codemirror_mode": {
    "name": "ipython",
    "version": 3
   },
   "file_extension": ".py",
   "mimetype": "text/x-python",
   "name": "python",
   "nbconvert_exporter": "python",
   "pygments_lexer": "ipython3",
   "version": "3.7.6"
  }
 },
 "nbformat": 4,
 "nbformat_minor": 4
}
