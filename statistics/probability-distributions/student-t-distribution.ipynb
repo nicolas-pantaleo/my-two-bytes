{
 "cells": [
  {
   "cell_type": "markdown",
   "metadata": {},
   "source": [
    "# Student's *T* Distribution"
   ]
  },
  {
   "cell_type": "markdown",
   "metadata": {},
   "source": [
    "---"
   ]
  },
  {
   "cell_type": "markdown",
   "metadata": {},
   "source": [
    "## Import"
   ]
  },
  {
   "cell_type": "code",
   "execution_count": 1,
   "metadata": {},
   "outputs": [],
   "source": [
    "import math\n",
    "import numpy as np\n",
    "import pandas as pd\n",
    "import matplotlib.pyplot as plt\n",
    "import seaborn as sns\n",
    "\n",
    "import statistics\n",
    "from scipy import stats\n",
    "\n",
    "%matplotlib inline\n",
    "plt.style.use(\"fivethirtyeight\")"
   ]
  },
  {
   "cell_type": "markdown",
   "metadata": {},
   "source": [
    "---"
   ]
  },
  {
   "cell_type": "markdown",
   "metadata": {},
   "source": [
    "## Utilities"
   ]
  },
  {
   "cell_type": "code",
   "execution_count": 2,
   "metadata": {},
   "outputs": [],
   "source": [
    "def get_bins(xmin, xmax, step = 1):\n",
    "    bins = np.arange(xmin, xmax, step)\n",
    "    bins = bins if len(bins) > 2 else get_bins(xmin, xmax + 1, step)\n",
    "    return bins if len(bins) <= 100 \\\n",
    "        else get_bins(xmin, xmax, step = step + 1)"
   ]
  },
  {
   "cell_type": "code",
   "execution_count": 3,
   "metadata": {},
   "outputs": [],
   "source": [
    "def get_continuous_ticks(xmin, xmax):\n",
    "    cuts = [5, 10, 20, 50, 100, 200, 500, 1000]\n",
    "    ticks = np.arange(int(np.floor(xmin)), int(np.ceil(xmax)) + 1)\n",
    "    if len(ticks) > 15:\n",
    "        for cut in cuts:\n",
    "            ticks = [tick for tick in ticks if tick % cut == 0]\n",
    "            if len(ticks) <= 15:\n",
    "                return ticks\n",
    "        return ticks\n",
    "    return ticks"
   ]
  },
  {
   "cell_type": "code",
   "execution_count": 4,
   "metadata": {},
   "outputs": [],
   "source": [
    "def plot_continuous_distribution(f, x_axis, obs = None, q = None, **kwargs):\n",
    "    pdf = f.pdf(x_axis, **kwargs)\n",
    "    \n",
    "    fig, ax = plt.subplots(figsize = (8, 4))\n",
    "    ax.plot(x_axis, pdf, alpha = 0.7, color = \"k\")\n",
    "    ax.fill_between(x_axis, pdf, alpha = 0.4)\n",
    "    \n",
    "    print(f\"Mean: {f.mean(**kwargs)}\")\n",
    "    print(f\"Median: {f.median(**kwargs)}\")\n",
    "    print(f\"Variance: {f.var(**kwargs)}\")\n",
    "    print(f\"Standard Deviation: {f.std(**kwargs)}\")\n",
    "    \n",
    "    plt.xticks(get_continuous_ticks(xmin = x_axis.min(), xmax = x_axis.max()))\n",
    "    plt.show()"
   ]
  },
  {
   "cell_type": "code",
   "execution_count": 5,
   "metadata": {},
   "outputs": [],
   "source": [
    "def sample_continuous_distribution(f, size = 1, seed = None, **kwargs):\n",
    "    sample = f.rvs(size = size, random_state = seed, **kwargs)\n",
    "    \n",
    "    print(f\"Min: {np.min(sample)}\")\n",
    "    print(f\"Mean: {np.mean(sample)}\")\n",
    "    print(f\"Median: {np.median(sample)}\")\n",
    "    print(f\"Max: {np.max(sample)}\")\n",
    "    print(f\"Variance: {np.var(sample, ddof = 0)}\")\n",
    "    print(f\"Standard Deviation: {np.std(sample, ddof = 0)}\")\n",
    "    \n",
    "    fig, ax = plt.subplots(figsize = (8, 4))\n",
    "   \n",
    "    plt.hist(x = sample,\n",
    "             density = True,\n",
    "             edgecolor = \"k\",\n",
    "             bins = get_bins(sample.min(), sample.max() + 1),\n",
    "             linewidth = 2)\n",
    "\n",
    "    plt.xticks(get_continuous_ticks(sample.min(), sample.max()))\n",
    "    plt.show()\n",
    "    return sample"
   ]
  },
  {
   "cell_type": "markdown",
   "metadata": {},
   "source": [
    "---"
   ]
  },
  {
   "cell_type": "markdown",
   "metadata": {},
   "source": [
    "La *t-distribution* fa parte delle *sampling distributions*, cioè delle distribuzioni teoriche che sono state costruite come supporto ai processi inferenziali."
   ]
  },
  {
   "cell_type": "markdown",
   "metadata": {},
   "source": [
    "La **Student's t-distribution** è una distribuzione *unimodal* e *simmetrica*, e assomiglia molto alla *normale*, con l'unica differenza che le sue code sono molto più *spesse* ed il picco centrale è inferiore."
   ]
  },
  {
   "cell_type": "markdown",
   "metadata": {},
   "source": [
    "La *t-distribution* è governata da un solo parametro, i **degrees of freedom**, che ne influenzano lo spessore delle code. All'aumentare dei *df*, da $1$ a $+\\infty$, la *t* assume un andamento sempre più simile alla *normale*, con meno spessore sulle code ed un picco più alto. Per *df* molto alti, le due distribuzioni non sono distinguibili."
   ]
  },
  {
   "cell_type": "markdown",
   "metadata": {},
   "source": [
    "Consideriamo due variabili aleatorie indipendenti $X$ e $Y$, con $X$ che segue l'andamento di una *standard normal* e $Y$ quello di una $\\chi^2$ con $n$ *df*."
   ]
  },
  {
   "cell_type": "markdown",
   "metadata": {},
   "source": [
    "$$\\large X\\sim N(0,1)\\;\\;\\;\\;\\;Y\\sim \\chi^2_n$$"
   ]
  },
  {
   "cell_type": "markdown",
   "metadata": {},
   "source": [
    "Il seguente rapporto fra le due variabili segue l'andamento della *t-distribution* con $n$ *degrees of freedom*."
   ]
  },
  {
   "cell_type": "markdown",
   "metadata": {},
   "source": [
    "$$\\large \\frac{X}{\\sqrt{\\frac{Y}{n}}}\\sim t_n$$"
   ]
  },
  {
   "cell_type": "markdown",
   "metadata": {},
   "source": [
    "Quella che abbiamo appena descritto è una formulazione molto teorica della *t-distribution*, ma nasce da un'evidenza pratica.\n",
    "\n",
    "Supponiamo di estrarre *n* osservazioni indipendenti da una popolazione gaussiana con media $\\mu$ e varianza $\\sigma^2$.\n",
    "\n",
    "Possiamo creare una nuova variabile aleatoria sottraendo alla *sample mean* il valore della *population mean* e dividendo per il rapporto fra la *sample standard deviation* e la radice quadrata del *sample size*.\n",
    "\n",
    "Si evidenzia come questa nuova variabile aleatoria segua precisamente l'andamento della *t-distribution* con $n-1$ *degrees of freedom*."
   ]
  },
  {
   "cell_type": "markdown",
   "metadata": {},
   "source": [
    "$$\\large \\frac{\\bar{X}-\\mu}{s/\\sqrt{n}}\\sim T_{df=n-1}$$"
   ]
  },
  {
   "cell_type": "markdown",
   "metadata": {},
   "source": [
    "La *PDF* della *t-distribution* è:"
   ]
  },
  {
   "cell_type": "markdown",
   "metadata": {},
   "source": [
    "$$\\large f(x)=\\frac{\\Gamma(\\frac{n+1}{2})}\n",
    "{\\Gamma(\\frac{n}{2})\\sqrt{n\\pi}}\n",
    "\\left(1+\\frac{x^2}{2}\\right)^{-\\frac{n+1}{2}}$$"
   ]
  },
  {
   "cell_type": "markdown",
   "metadata": {},
   "source": [
    "L'**expectation** della *t-distribution* è zero a patto che i *df* siano strettamente maggiori di uno, altrimenti è indefinita."
   ]
  },
  {
   "cell_type": "markdown",
   "metadata": {},
   "source": [
    "$$\\large E(X)=0$$"
   ]
  },
  {
   "cell_type": "markdown",
   "metadata": {},
   "source": [
    "La **variance** della *t-distribution* è pari al rapporto fra $df$ e $df-2$, a patto che *df* sia strettamente maggiore di due."
   ]
  },
  {
   "cell_type": "markdown",
   "metadata": {},
   "source": [
    "$$\\large E(X)=\\frac{df}{df-2}$$"
   ]
  },
  {
   "cell_type": "markdown",
   "metadata": {},
   "source": [
    "---"
   ]
  },
  {
   "cell_type": "markdown",
   "metadata": {},
   "source": [
    "La *t-distribution* assume un ruolo centrale in tutti quegli scenari in cui la deviazione standard della popolazione è sconosciuta.\n",
    "\n",
    "Sappiamo, infatti, che nella costruzione di *CI* della *population mean*, cioè utilizzando $\\bar{X}$ come *statistic* di riferimento, per ragionare in modalità standardizzata abbiamo bisogno di applicare la seguente trasformazione:\n",
    "\n",
    "$$\\large Z=\\frac{\\bar{X}-\\mu}{\\sigma/\\sqrt{n}}$$"
   ]
  },
  {
   "cell_type": "markdown",
   "metadata": {},
   "source": [
    "Non conoscendo $\\sigma$, dobbiamo usare la *sample standard deviation* per stimarla, ottenendo quindi:"
   ]
  },
  {
   "cell_type": "markdown",
   "metadata": {},
   "source": [
    "$$\\large \\frac{\\bar{X}-\\mu}{s/\\sqrt{n}}$$"
   ]
  },
  {
   "cell_type": "markdown",
   "metadata": {},
   "source": [
    "Ma al contrario di $\\sigma$, che è una costante, la *sample standard deviation* è una *statistic*, quindi ha una propria *sampling distribution*. Ciò implica che tutta la quantità appena descritta non segue più l'andamento della *standard normal*, bensì la *t-distribution* con $n-1$ *df*:\n",
    "\n",
    "$$\\large \\frac{\\bar{X}-\\mu}{s/\\sqrt{n}}\\sim t_{df=n-1}$$"
   ]
  },
  {
   "cell_type": "markdown",
   "metadata": {},
   "source": [
    "Il concetto di gradi di libertà per la *t-distribution* è strettamente legato ai gradi di libertà della *sample variance* $s^2$, che sappiamo essere esattamente $n-1$."
   ]
  },
  {
   "cell_type": "markdown",
   "metadata": {},
   "source": [
    "---"
   ]
  },
  {
   "cell_type": "markdown",
   "metadata": {},
   "source": [
    "#### Probability Density Function"
   ]
  },
  {
   "cell_type": "code",
   "execution_count": 6,
   "metadata": {},
   "outputs": [
    {
     "name": "stdout",
     "output_type": "stream",
     "text": [
      "Mean: 0.0\n",
      "Median: 6.976003623003317e-17\n",
      "Variance: 1.6666666666666667\n",
      "Standard Deviation: 1.2909944487358056\n"
     ]
    },
    {
     "data": {
      "image/png": "[encoded data removed]",
      "text/plain": [
       "<Figure size 576x288 with 1 Axes>"
      ]
     },
     "metadata": {},
     "output_type": "display_data"
    }
   ],
   "source": [
    "df = 5\n",
    "\n",
    "x_axis = np.linspace(-5, 5, 1000)\n",
    "\n",
    "plot_continuous_distribution(f = stats.t,\n",
    "                             x_axis = x_axis,\n",
    "                             df = df)"
   ]
  },
  {
   "cell_type": "code",
   "execution_count": 7,
   "metadata": {},
   "outputs": [
    {
     "name": "stdout",
     "output_type": "stream",
     "text": [
      "Mean: 0.0\n",
      "Median: 6.654605374702225e-17\n",
      "Variance: 1.0204081632653061\n",
      "Standard Deviation: 1.0101525445522108\n"
     ]
    },
    {
     "data": {
      "image/png": "[encoded data removed]",
      "text/plain": [
       "<Figure size 576x288 with 1 Axes>"
      ]
     },
     "metadata": {},
     "output_type": "display_data"
    }
   ],
   "source": [
    "df = 100\n",
    "\n",
    "x_axis = np.linspace(-5, 5, 1000)\n",
    "\n",
    "plot_continuous_distribution(f = stats.t,\n",
    "                             x_axis = x_axis,\n",
    "                             df = df)"
   ]
  },
  {
   "cell_type": "markdown",
   "metadata": {},
   "source": [
    "---"
   ]
  },
  {
   "cell_type": "markdown",
   "metadata": {},
   "source": [
    "#### RVS"
   ]
  },
  {
   "cell_type": "code",
   "execution_count": 8,
   "metadata": {},
   "outputs": [
    {
     "name": "stdout",
     "output_type": "stream",
     "text": [
      "Min: -3.912860392829769\n",
      "Mean: 0.0021665808881958597\n",
      "Median: 0.002339286066707532\n",
      "Max: 3.737448112940471\n",
      "Variance: 1.0960397120988963\n",
      "Standard Deviation: 1.0469191526086894\n"
     ]
    },
    {
     "data": {
      "image/png": "[encoded data removed]",
      "text/plain": [
       "<Figure size 576x288 with 1 Axes>"
      ]
     },
     "metadata": {},
     "output_type": "display_data"
    }
   ],
   "source": [
    "df = 100\n",
    "\n",
    "sample = sample_continuous_distribution(f = stats.t,\n",
    "                                        size = 1000,\n",
    "                                        df = df)"
   ]
  },
  {
   "cell_type": "markdown",
   "metadata": {},
   "source": [
    "---"
   ]
  }
 ],
 "metadata": {
  "kernelspec": {
   "display_name": "Python 3",
   "language": "python",
   "name": "python3"
  },
  "language_info": {
   "codemirror_mode": {
    "name": "ipython",
    "version": 3
   },
   "file_extension": ".py",
   "mimetype": "text/x-python",
   "name": "python",
   "nbconvert_exporter": "python",
   "pygments_lexer": "ipython3",
   "version": "3.7.6"
  }
 },
 "nbformat": 4,
 "nbformat_minor": 4
}
