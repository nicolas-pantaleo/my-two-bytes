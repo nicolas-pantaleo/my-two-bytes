{
 "cells": [
  {
   "cell_type": "markdown",
   "metadata": {},
   "source": [
    "# Fisher's *F* Distribution"
   ]
  },
  {
   "cell_type": "markdown",
   "metadata": {},
   "source": [
    "---"
   ]
  },
  {
   "cell_type": "markdown",
   "metadata": {},
   "source": [
    "## Import"
   ]
  },
  {
   "cell_type": "code",
   "execution_count": 1,
   "metadata": {},
   "outputs": [],
   "source": [
    "import math\n",
    "import numpy as np\n",
    "import pandas as pd\n",
    "import matplotlib.pyplot as plt\n",
    "import seaborn as sns\n",
    "\n",
    "import statistics\n",
    "from scipy import stats\n",
    "\n",
    "%matplotlib inline\n",
    "plt.style.use(\"fivethirtyeight\")"
   ]
  },
  {
   "cell_type": "markdown",
   "metadata": {},
   "source": [
    "---"
   ]
  },
  {
   "cell_type": "markdown",
   "metadata": {},
   "source": [
    "## Utilities"
   ]
  },
  {
   "cell_type": "code",
   "execution_count": 2,
   "metadata": {},
   "outputs": [],
   "source": [
    "def get_bins(xmin, xmax, step = 1):\n",
    "    bins = np.arange(xmin, xmax, step)\n",
    "    bins = bins if len(bins) > 2 else get_bins(xmin, xmax + 1, step)\n",
    "    return bins if len(bins) <= 100 \\\n",
    "        else get_bins(xmin, xmax, step = step + 1)"
   ]
  },
  {
   "cell_type": "code",
   "execution_count": 3,
   "metadata": {},
   "outputs": [],
   "source": [
    "def get_continuous_ticks(xmin, xmax):\n",
    "    cuts = [5, 10, 20, 50, 100, 200, 500, 1000]\n",
    "    ticks = np.arange(int(np.floor(xmin)), int(np.ceil(xmax)) + 1)\n",
    "    if len(ticks) > 15:\n",
    "        for cut in cuts:\n",
    "            ticks = [tick for tick in ticks if tick % cut == 0]\n",
    "            if len(ticks) <= 15:\n",
    "                return ticks\n",
    "        return ticks\n",
    "    return ticks"
   ]
  },
  {
   "cell_type": "code",
   "execution_count": 4,
   "metadata": {},
   "outputs": [],
   "source": [
    "def plot_continuous_distribution(f, x_axis, obs = None, q = None, **kwargs):\n",
    "    pdf = f.pdf(x_axis, **kwargs)\n",
    "    \n",
    "    fig, ax = plt.subplots(figsize = (8, 4))\n",
    "    ax.plot(x_axis, pdf, alpha = 0.7, color = \"k\")\n",
    "    ax.fill_between(x_axis, pdf, alpha = 0.4)\n",
    "    \n",
    "    print(f\"Mean: {f.mean(**kwargs)}\")\n",
    "    print(f\"Median: {f.median(**kwargs)}\")\n",
    "    print(f\"Variance: {f.var(**kwargs)}\")\n",
    "    print(f\"Standard Deviation: {f.std(**kwargs)}\")\n",
    "    \n",
    "    plt.xticks(get_continuous_ticks(xmin = x_axis.min(), xmax = x_axis.max()))\n",
    "    plt.show()"
   ]
  },
  {
   "cell_type": "code",
   "execution_count": 5,
   "metadata": {},
   "outputs": [],
   "source": [
    "def sample_continuous_distribution(f, size = 1, seed = None, **kwargs):\n",
    "    sample = f.rvs(size = size, random_state = seed, **kwargs)\n",
    "    \n",
    "    print(f\"Min: {np.min(sample)}\")\n",
    "    print(f\"Mean: {np.mean(sample)}\")\n",
    "    print(f\"Median: {np.median(sample)}\")\n",
    "    print(f\"Max: {np.max(sample)}\")\n",
    "    print(f\"Variance: {np.var(sample, ddof = 0)}\")\n",
    "    print(f\"Standard Deviation: {np.std(sample, ddof = 0)}\")\n",
    "    \n",
    "    fig, ax = plt.subplots(figsize = (8, 4))\n",
    "   \n",
    "    plt.hist(x = sample,\n",
    "             density = True,\n",
    "             edgecolor = \"k\",\n",
    "             bins = get_bins(sample.min(), sample.max() + 1),\n",
    "             linewidth = 2)\n",
    "\n",
    "    plt.xticks(get_continuous_ticks(sample.min(), sample.max()))\n",
    "    plt.show()\n",
    "    return sample"
   ]
  },
  {
   "cell_type": "markdown",
   "metadata": {},
   "source": [
    "---"
   ]
  },
  {
   "cell_type": "markdown",
   "metadata": {},
   "source": [
    "La *f-distribution* fa parte delle *sampling distributions*, cioè delle distribuzioni teoriche che sono state costruite come supporto ai processi inferenziali."
   ]
  },
  {
   "cell_type": "markdown",
   "metadata": {},
   "source": [
    "La **F Distribution** è una distribuzione *right skewed* ed è sempre positiva. E' utilizzata nell'*ANOVA* per calcolare la *f statistic*, definita come il rapporto fra la variabilità media *fra* gruppi (*between groups variability*) e la variabilità *all'interno* dei gruppi (*within groups variability*).\n",
    "\n",
    "Più in generale, l'*f-distribution* è utilizzata quando si lavora con rapporti fra varianze.\n",
    "\n",
    "Al contrario della *t distribution*, nella *f-distribution* abbiamo due parametri di *degrees of freedom*, uno legato al *group* e uno al *non-group*."
   ]
  },
  {
   "cell_type": "markdown",
   "metadata": {},
   "source": [
    "Siano $X$ ed $Y$ due variabili aleatorie con andamento $\\chi^2$ con diversi *df*, rispettivamente $m$ ed $n$."
   ]
  },
  {
   "cell_type": "markdown",
   "metadata": {},
   "source": [
    "$$\\large X\\sim \\chi^2_m$$\n",
    "\n",
    "$$\\large Y\\sim \\chi^2_n$$"
   ]
  },
  {
   "cell_type": "markdown",
   "metadata": {},
   "source": [
    "Il seguente rapporto fra le due variabili segue l'andamento della distribuzione di Fisher con $(m,n)$ *degrees of freedom*."
   ]
  },
  {
   "cell_type": "markdown",
   "metadata": {},
   "source": [
    "$$\\large \\frac{X/m}{Y/n}\\sim F_{m,n}$$"
   ]
  },
  {
   "cell_type": "markdown",
   "metadata": {},
   "source": [
    "La *PDF* della distribuzione di Fischer è:"
   ]
  },
  {
   "cell_type": "markdown",
   "metadata": {},
   "source": [
    "$$\\large f(x)=\\frac{\\Gamma(\\frac{n+m}{2})\n",
    "\\frac{n}{m}^{\\frac{n}{2}}x^{\\frac{n}{2}-1}}\n",
    "{\\Gamma(\\frac{n}{2})\\Gamma(\\frac{m}{2})\n",
    "\\left(1+\\frac{nx}{m}\\right)^{\\frac{n+m}{2}}}$$"
   ]
  },
  {
   "cell_type": "markdown",
   "metadata": {},
   "source": [
    "L'**expectation** dell'*f-distribution* dipende solo dal secondo valore di *df*, a patto che quest'ultimo sia strettamente maggiore di due."
   ]
  },
  {
   "cell_type": "markdown",
   "metadata": {},
   "source": [
    "$$\\large E(X)=\\frac{n}{n-2}$$"
   ]
  },
  {
   "cell_type": "markdown",
   "metadata": {},
   "source": [
    "La **median**, invece, è pari ad uno quando i due *df* sono identici, mentre ha valore in un intorno di uno quando i due *df* non sono identici."
   ]
  },
  {
   "cell_type": "markdown",
   "metadata": {},
   "source": [
    "---"
   ]
  },
  {
   "cell_type": "markdown",
   "metadata": {},
   "source": [
    "#### Probability Density Function"
   ]
  },
  {
   "cell_type": "code",
   "execution_count": 6,
   "metadata": {},
   "outputs": [
    {
     "name": "stdout",
     "output_type": "stream",
     "text": [
      "Mean: 1.25\n",
      "Median: 1.0000000000000004\n",
      "Variance: 0.9375\n",
      "Standard Deviation: 0.9682458365518543\n"
     ]
    },
    {
     "data": {
      "image/png": "[encoded data removed]",
      "text/plain": [
       "<Figure size 576x288 with 1 Axes>"
      ]
     },
     "metadata": {},
     "output_type": "display_data"
    }
   ],
   "source": [
    "dfn = 10\n",
    "dfd = 10\n",
    "\n",
    "x_axis = np.linspace(0, 8, 1000)\n",
    "\n",
    "plot_continuous_distribution(f = stats.f,\n",
    "                             x_axis = x_axis,\n",
    "                             dfn = dfn,\n",
    "                             dfd = dfd)"
   ]
  },
  {
   "cell_type": "code",
   "execution_count": 7,
   "metadata": {},
   "outputs": [
    {
     "name": "stdout",
     "output_type": "stream",
     "text": [
      "Mean: 1.0204081632653061\n",
      "Median: 0.8761990472073524\n",
      "Variance: 0.44686241843676244\n",
      "Standard Deviation: 0.6684776873140662\n"
     ]
    },
    {
     "data": {
      "image/png": "[encoded data removed]",
      "text/plain": [
       "<Figure size 576x288 with 1 Axes>"
      ]
     },
     "metadata": {},
     "output_type": "display_data"
    }
   ],
   "source": [
    "dfn = 5\n",
    "dfd = 100\n",
    "\n",
    "x_axis = np.linspace(0, 8, 1000)\n",
    "\n",
    "plot_continuous_distribution(f = stats.f,\n",
    "                             x_axis = x_axis,\n",
    "                             dfn = dfn,\n",
    "                             dfd = dfd)"
   ]
  },
  {
   "cell_type": "markdown",
   "metadata": {},
   "source": [
    "---"
   ]
  },
  {
   "cell_type": "markdown",
   "metadata": {},
   "source": [
    "#### RVS"
   ]
  },
  {
   "cell_type": "code",
   "execution_count": 8,
   "metadata": {},
   "outputs": [
    {
     "name": "stdout",
     "output_type": "stream",
     "text": [
      "Min: 0.03518244926873364\n",
      "Mean: 0.9992857639542908\n",
      "Median: 0.8771766071985168\n",
      "Max: 3.4668441217600687\n",
      "Variance: 0.3709549169176033\n",
      "Standard Deviation: 0.6090606841010207\n"
     ]
    },
    {
     "data": {
      "image/png": "[encoded data removed]",
      "text/plain": [
       "<Figure size 576x288 with 1 Axes>"
      ]
     },
     "metadata": {},
     "output_type": "display_data"
    }
   ],
   "source": [
    "dfn = 5\n",
    "dfd = 100\n",
    "\n",
    "sample = sample_continuous_distribution(f = stats.f,\n",
    "                                        size = 1000,\n",
    "                                        dfn = dfn,\n",
    "                                        dfd = dfd)"
   ]
  },
  {
   "cell_type": "markdown",
   "metadata": {},
   "source": [
    "---"
   ]
  }
 ],
 "metadata": {
  "kernelspec": {
   "display_name": "Python 3",
   "language": "python",
   "name": "python3"
  },
  "language_info": {
   "codemirror_mode": {
    "name": "ipython",
    "version": 3
   },
   "file_extension": ".py",
   "mimetype": "text/x-python",
   "name": "python",
   "nbconvert_exporter": "python",
   "pygments_lexer": "ipython3",
   "version": "3.7.6"
  }
 },
 "nbformat": 4,
 "nbformat_minor": 4
}
