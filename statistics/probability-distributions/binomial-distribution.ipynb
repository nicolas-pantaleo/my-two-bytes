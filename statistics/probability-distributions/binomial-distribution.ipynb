{
 "cells": [
  {
   "cell_type": "markdown",
   "metadata": {},
   "source": [
    "# Binomial Distribution"
   ]
  },
  {
   "cell_type": "markdown",
   "metadata": {},
   "source": [
    "---"
   ]
  },
  {
   "cell_type": "markdown",
   "metadata": {},
   "source": [
    "## Import"
   ]
  },
  {
   "cell_type": "code",
   "execution_count": 1,
   "metadata": {},
   "outputs": [],
   "source": [
    "import math\n",
    "import numpy as np\n",
    "import pandas as pd\n",
    "import matplotlib.pyplot as plt\n",
    "import seaborn as sns\n",
    "\n",
    "import statistics\n",
    "from scipy import stats\n",
    "\n",
    "%matplotlib inline\n",
    "plt.style.use(\"fivethirtyeight\")"
   ]
  },
  {
   "cell_type": "markdown",
   "metadata": {},
   "source": [
    "---"
   ]
  },
  {
   "cell_type": "markdown",
   "metadata": {},
   "source": [
    "## Utilities"
   ]
  },
  {
   "cell_type": "code",
   "execution_count": 2,
   "metadata": {},
   "outputs": [],
   "source": [
    "def get_discrete_ticks(xmin, xmax):\n",
    "    cuts = [5, 10, 20, 50, 100, 200, 500, 1000]\n",
    "    ticks = np.arange(xmin, xmax + 1)\n",
    "    if len(ticks) > 15:\n",
    "        for cut in cuts:\n",
    "            ticks = [tick for tick in ticks if tick % cut == 0]\n",
    "            if len(ticks) <= 15:\n",
    "                return ticks\n",
    "        return ticks\n",
    "    return ticks"
   ]
  },
  {
   "cell_type": "code",
   "execution_count": 3,
   "metadata": {},
   "outputs": [],
   "source": [
    "def get_bins(xmin, xmax, step = 1):\n",
    "    bins = np.arange(xmin, xmax, step)\n",
    "    bins = bins if len(bins) > 2 else get_bins(xmin, xmax + 1, step)\n",
    "    return bins if len(bins) <= 100 \\\n",
    "        else get_bins(xmin, xmax, step = step + 1)"
   ]
  },
  {
   "cell_type": "code",
   "execution_count": 4,
   "metadata": {},
   "outputs": [],
   "source": [
    "def plot_discrete_distribution(f, x_axis, obs = None, q = None, **kwargs):\n",
    "    pmf = f.pmf(x_axis, **kwargs)\n",
    "    fig, ax = plt.subplots(figsize = (8, 4))\n",
    "    bars = ax.bar(x_axis, pmf, edgecolor = \"k\", linewidth = 2)\n",
    "    \n",
    "    print(f\"Mean: {f.mean(**kwargs)}\")\n",
    "    print(f\"Median: {f.median(**kwargs)}\")\n",
    "    print(f\"Variance: {f.var(**kwargs)}\")\n",
    "    print(f\"Standard Deviation: {f.std(**kwargs)}\")\n",
    "    print(\"-\" * 10)\n",
    "    if obs:\n",
    "        plt.setp(bars[obs - x_axis.min()], color = \"r\", linewidth = 2)\n",
    "        plt.setp(bars[obs - x_axis.min()], edgecolor = \"k\")\n",
    "        obs_pmf = f.pmf(obs, **kwargs)\n",
    "        print(f\"PMF({obs}) = {obs_pmf}\")\n",
    "        \n",
    "    plt.xticks(get_discrete_ticks(xmin = x_axis.min(), xmax = x_axis.max()))\n",
    "    plt.show()"
   ]
  },
  {
   "cell_type": "code",
   "execution_count": 5,
   "metadata": {},
   "outputs": [],
   "source": [
    "def sample_discrete_distribution(f, size = 1, seed = None, **kwargs):\n",
    "    sample = f.rvs(size = size, random_state = seed, **kwargs)\n",
    "    \n",
    "    print(f\"Min: {np.min(sample)}\")\n",
    "    print(f\"Mean: {np.mean(sample)}\")\n",
    "    print(f\"Median: {np.median(sample)}\")\n",
    "    print(f\"Max: {np.max(sample)}\")\n",
    "    print(f\"Variance: {np.var(sample, ddof = 0)}\")\n",
    "    print(f\"Standard Deviation: {np.std(sample, ddof = 0)}\")\n",
    "    \n",
    "    fig, ax = plt.subplots(figsize = (8, 4))\n",
    "   \n",
    "    plt.hist(x = sample,\n",
    "             density = True,\n",
    "             edgecolor = \"k\",\n",
    "             bins = get_bins(sample.min(), sample.max() + 1),\n",
    "             linewidth = 2)\n",
    "\n",
    "    plt.xticks(get_discrete_ticks(sample.min(), sample.max()))\n",
    "    plt.show()\n",
    "    return sample"
   ]
  },
  {
   "cell_type": "markdown",
   "metadata": {},
   "source": [
    "---"
   ]
  },
  {
   "cell_type": "markdown",
   "metadata": {},
   "source": [
    "Dati $n$ *trial* indipendenti di un esperimento di Bernoulli, una variabile aleatoria binomiale modella il numero di *successi* (cioè il numero di volte in cui si verifica l'evento d'interesse) ottenuti all'interno degli $n$ *trial*. \n",
    "\n",
    "Più in generale, la distribuzione binomiale descrive la probabilità di osservare esattamente $k$ successi in $n$ *Bernoulli trials* indipendenti con probabilità di successo pari a $p$."
   ]
  },
  {
   "cell_type": "markdown",
   "metadata": {},
   "source": [
    "**PMF**:"
   ]
  },
  {
   "cell_type": "markdown",
   "metadata": {},
   "source": [
    "$$\\large P(X=k)=\\binom n k\\; p^k(1-p)^{n-k}\\;\\;\\;\\;\\;\\;\\;\\;\n",
    "k=0,\\dots,n$$"
   ]
  },
  {
   "cell_type": "markdown",
   "metadata": {},
   "source": [
    "Sappiamo che il numero di combinazioni possibili di $k$ oggetti senza *replacement* e senza ordinamento a partire da $n$ oggetti totali è uguale a *n choose k*. Tale numero di combinazioni è poi moltiplicato per la probabilità di successo elevata alla k-esima potenza (ci sono infatti $k$ successi) e per la probabilità di falimento elevata alla (n-k)-esima potenza (ci sono infatti $n-k$ fallimenti)."
   ]
  },
  {
   "cell_type": "markdown",
   "metadata": {},
   "source": [
    "**Expectation** e **Variance**:"
   ]
  },
  {
   "cell_type": "markdown",
   "metadata": {},
   "source": [
    "$$\\large E(X)=np$$\n",
    "\n",
    "$$\\large Var(X)=np(1-p)$$"
   ]
  },
  {
   "cell_type": "markdown",
   "metadata": {},
   "source": [
    "---"
   ]
  },
  {
   "cell_type": "markdown",
   "metadata": {},
   "source": [
    "All'aumentare del *sample size* o, alternativamente, del numero di tentativi $n$, la distribuzione binomiale assume un andamento molto vicino a quello della distribuzione *normale*. In particolare, la *normale* approssimata avrebbe media pari a $np$ e deviazione standard pari a $\\sqrt{np(1-p)}$.\n",
    "\n",
    "Per accertarsi che l'approssimazione *normale* sia effettivamente applicabile alla distribuzione *binomiale* in analisi, è necessario applicare la **Success-Failure Rule**: essa afferma che, data una distribuzione binomiale con almeno 10 *expected successes* e almeno 10 *expected failures* segue un andamento molto simile a quello della *distribuzione normale*."
   ]
  },
  {
   "cell_type": "markdown",
   "metadata": {},
   "source": [
    "$$\\large np\\geq10$$<br>\n",
    "$$\\large n(1-p)\\geq10$$\n",
    "\n",
    "$$\\large Binomial(n, p) \\sim Normal(\\mu, \\sigma)$$<br>\n",
    "$$\\large \\mu=np$$<br>\n",
    "$$\\large \\sigma=\\sqrt{np(1-p)}$$"
   ]
  },
  {
   "cell_type": "markdown",
   "metadata": {},
   "source": [
    "Quest'approssimazione ci permette di sfruttare gli *Z Score* e il calcolo delle aree sottese alla curva normale all'interno di problemi nativamente binomiali. E' necessario, però, al momento del calcolo dello *Z score*, sottrarre $0.5$ all'osservazione di riferimento (la $x$ di $Z=(x-\\mu)/\\sigma$) per compensare il grado di approssimazione introdotto nel passaggio dal contesto binomiale a quello normale."
   ]
  },
  {
   "cell_type": "markdown",
   "metadata": {},
   "source": [
    "Sappiamo, inoltre, che la binomiale è perfettamente simmetrica per $p=0.5$, mentre presenta una *skewness* per $p\\neq 0.5$. Per questo motivo, l'approssimazione normale è ideale per distribuzioni la cui probabilità di successo è molto vicina a 0.5, e ovviamente quando *n* è molto grande."
   ]
  },
  {
   "cell_type": "markdown",
   "metadata": {},
   "source": [
    "---"
   ]
  },
  {
   "cell_type": "markdown",
   "metadata": {},
   "source": [
    "#### Probability Mass Function"
   ]
  },
  {
   "cell_type": "code",
   "execution_count": 6,
   "metadata": {},
   "outputs": [
    {
     "name": "stdout",
     "output_type": "stream",
     "text": [
      "Mean: 6.0\n",
      "Median: 6.0\n",
      "Variance: 2.4000000000000004\n",
      "Standard Deviation: 1.5491933384829668\n",
      "----------\n"
     ]
    },
    {
     "data": {
      "image/png": "[encoded data removed]",
      "text/plain": [
       "<Figure size 576x288 with 1 Axes>"
      ]
     },
     "metadata": {},
     "output_type": "display_data"
    }
   ],
   "source": [
    "p = 0.6\n",
    "n = 10\n",
    "\n",
    "plot_discrete_distribution(f = stats.binom,\n",
    "                           x_axis = np.arange(1, n + 1),\n",
    "                           p = p,\n",
    "                           n = n)"
   ]
  },
  {
   "cell_type": "markdown",
   "metadata": {},
   "source": [
    "---"
   ]
  },
  {
   "cell_type": "markdown",
   "metadata": {},
   "source": [
    "#### RVS"
   ]
  },
  {
   "cell_type": "code",
   "execution_count": 7,
   "metadata": {},
   "outputs": [
    {
     "name": "stdout",
     "output_type": "stream",
     "text": [
      "Min: 1\n",
      "Mean: 6.01\n",
      "Median: 6.0\n",
      "Max: 10\n",
      "Variance: 2.5739\n",
      "Standard Deviation: 1.6043378696521504\n"
     ]
    },
    {
     "data": {
      "image/png": "[encoded data removed]",
      "text/plain": [
       "<Figure size 576x288 with 1 Axes>"
      ]
     },
     "metadata": {},
     "output_type": "display_data"
    }
   ],
   "source": [
    "p = 0.6\n",
    "n = 10\n",
    "\n",
    "sample = sample_discrete_distribution(f = stats.binom,\n",
    "                                      size = 1000,\n",
    "                                      p = p,\n",
    "                                      n = n)"
   ]
  },
  {
   "cell_type": "markdown",
   "metadata": {},
   "source": [
    "---"
   ]
  },
  {
   "cell_type": "markdown",
   "metadata": {},
   "source": [
    "**[Esempio]** Si lancia un dado tre volte. Qual è la probabilità che esca 5 esattamente due volte?"
   ]
  },
  {
   "cell_type": "markdown",
   "metadata": {},
   "source": [
    "Possiamo modellare una variabile aleatoria $X$ dove il successo è il numero 5, con probabilità 1/6 e il fallimento è l'insieme di tutti gli altri *outcome*, evento con probabilità 5/6"
   ]
  },
  {
   "cell_type": "code",
   "execution_count": 8,
   "metadata": {},
   "outputs": [
    {
     "data": {
      "text/plain": [
       "0.06944444444444445"
      ]
     },
     "execution_count": 8,
     "metadata": {},
     "output_type": "execute_result"
    }
   ],
   "source": [
    "stats.binom.pmf(n = 3, p = 1/6 , k = 2)"
   ]
  },
  {
   "cell_type": "markdown",
   "metadata": {},
   "source": [
    "---"
   ]
  },
  {
   "cell_type": "markdown",
   "metadata": {},
   "source": [
    "**[Esempio]** La probabilità che un 90enne viva un altro anno è 0.82. Seleziono 20 90enni a caso; qual è la probabilità che esattamente 18 di essi sopravvivano un altro anno?"
   ]
  },
  {
   "cell_type": "code",
   "execution_count": 9,
   "metadata": {},
   "outputs": [
    {
     "data": {
      "text/plain": [
       "0.1729609070113259"
      ]
     },
     "execution_count": 9,
     "metadata": {},
     "output_type": "execute_result"
    }
   ],
   "source": [
    "stats.binom.pmf(n = 20, p = 0.82, k = 18)"
   ]
  },
  {
   "cell_type": "markdown",
   "metadata": {},
   "source": [
    "Mostriamo anche la distribuzione per tutti i possibili successi, non solo 18:"
   ]
  },
  {
   "cell_type": "code",
   "execution_count": 10,
   "metadata": {},
   "outputs": [
    {
     "name": "stdout",
     "output_type": "stream",
     "text": [
      "Mean: 16.4\n",
      "Median: 17.0\n",
      "Variance: 2.9520000000000004\n",
      "Standard Deviation: 1.7181385275931624\n",
      "----------\n"
     ]
    },
    {
     "data": {
      "image/png": "[encoded data removed]",
      "text/plain": [
       "<Figure size 576x288 with 1 Axes>"
      ]
     },
     "metadata": {},
     "output_type": "display_data"
    }
   ],
   "source": [
    "n = 20\n",
    "p = 0.82\n",
    "\n",
    "plot_discrete_distribution(f = stats.binom,\n",
    "                           x_axis = np.arange(1, n + 1),\n",
    "                           p = p,\n",
    "                           n = n)"
   ]
  },
  {
   "cell_type": "markdown",
   "metadata": {},
   "source": [
    "L'aspettazione è 16.4, quindi circa 16 di questi 20 uomini in media sopravviveranno ad almeno un altro anno."
   ]
  },
  {
   "cell_type": "markdown",
   "metadata": {},
   "source": [
    "Ma qual è la probabilità che *almeno* 18 uomini sopravvivano un altro anno?"
   ]
  },
  {
   "cell_type": "code",
   "execution_count": 11,
   "metadata": {},
   "outputs": [
    {
     "data": {
      "text/plain": [
       "0.2747931863114964"
      ]
     },
     "execution_count": 11,
     "metadata": {},
     "output_type": "execute_result"
    }
   ],
   "source": [
    "np.sum(stats.binom.pmf(n = 20, p = 0.82, k = [18, 19, 20]))"
   ]
  },
  {
   "cell_type": "markdown",
   "metadata": {},
   "source": [
    "---"
   ]
  },
  {
   "cell_type": "markdown",
   "metadata": {},
   "source": [
    "**[Esercizio]** Usiamo l'approssimazione normale per calcolare la probabilità che una variabile binomiale assuma valore uguale o superiore a 52 quando il numero di trial è 75 e la probabilità di successo è 0.6"
   ]
  },
  {
   "cell_type": "code",
   "execution_count": 12,
   "metadata": {},
   "outputs": [
    {
     "data": {
      "text/plain": [
       "(45.0, 4.242640687119285)"
      ]
     },
     "execution_count": 12,
     "metadata": {},
     "output_type": "execute_result"
    }
   ],
   "source": [
    "obs = 52\n",
    "trials = 75\n",
    "prob_success = 0.6\n",
    "\n",
    "mu = trials * prob_success\n",
    "sigma = np.sqrt(trials * prob_success * (1 - prob_success))\n",
    "\n",
    "mu, sigma"
   ]
  },
  {
   "cell_type": "code",
   "execution_count": 13,
   "metadata": {},
   "outputs": [
    {
     "data": {
      "text/plain": [
       "0.04948007700970287"
      ]
     },
     "execution_count": 13,
     "metadata": {},
     "output_type": "execute_result"
    }
   ],
   "source": [
    "stats.norm.sf(x = obs,\n",
    "              loc = mu,\n",
    "              scale = sigma)"
   ]
  },
  {
   "cell_type": "markdown",
   "metadata": {},
   "source": [
    "Quasi 5%! Ora usiamo la binomiale:"
   ]
  },
  {
   "cell_type": "code",
   "execution_count": 14,
   "metadata": {},
   "outputs": [
    {
     "data": {
      "text/plain": [
       "0.06109840548510502"
      ]
     },
     "execution_count": 14,
     "metadata": {},
     "output_type": "execute_result"
    }
   ],
   "source": [
    "np.sum(stats.binom.pmf(k = np.arange(obs, trials+1),\n",
    "                       n = trials,\n",
    "                       p = prob_success))"
   ]
  },
  {
   "cell_type": "markdown",
   "metadata": {},
   "source": [
    "6%! L'approssimazione è buona. Ora applichiamo la **continuity correction**. Useremo 51.5 e non 52!"
   ]
  },
  {
   "cell_type": "code",
   "execution_count": 15,
   "metadata": {},
   "outputs": [
    {
     "data": {
      "text/plain": [
       "0.06275323571873455"
      ]
     },
     "execution_count": 15,
     "metadata": {},
     "output_type": "execute_result"
    }
   ],
   "source": [
    "obs = 51.5\n",
    "trials = 75\n",
    "prob_success = 0.6\n",
    "\n",
    "mu = trials * prob_success\n",
    "sigma = np.sqrt(trials * prob_success * (1 - prob_success))\n",
    "\n",
    "stats.norm.sf(x = obs,\n",
    "              loc = mu,\n",
    "              scale = sigma)"
   ]
  },
  {
   "cell_type": "markdown",
   "metadata": {},
   "source": [
    "L'approssimazione ora è quasi perfetta!"
   ]
  },
  {
   "cell_type": "markdown",
   "metadata": {},
   "source": [
    "Se al posto di maggiore o uguale a 52, la domanda volesse sapere con che probabilità la variabile assume valore strettamente maggiore di 52, la *continuity correction* ci avrebbe portato a considerare 52.5 e non 51.5!"
   ]
  },
  {
   "cell_type": "code",
   "execution_count": 16,
   "metadata": {},
   "outputs": [
    {
     "data": {
      "text/plain": [
       "0.036736361447161456"
      ]
     },
     "execution_count": 16,
     "metadata": {},
     "output_type": "execute_result"
    }
   ],
   "source": [
    "min_num_successes = 53\n",
    "trials = 75\n",
    "prob_success = 0.6\n",
    "\n",
    "np.sum(stats.binom.pmf(k = np.arange(min_num_successes, trials+1),\n",
    "                       n = trials,\n",
    "                       p = prob_success))"
   ]
  },
  {
   "cell_type": "markdown",
   "metadata": {},
   "source": [
    "Usiamo l'approssimazione normale:"
   ]
  },
  {
   "cell_type": "code",
   "execution_count": 17,
   "metadata": {},
   "outputs": [
    {
     "data": {
      "text/plain": [
       "0.03854993587177085"
      ]
     },
     "execution_count": 17,
     "metadata": {},
     "output_type": "execute_result"
    }
   ],
   "source": [
    "obs = 52.5\n",
    "trials = 75\n",
    "prob_success = 0.6\n",
    "\n",
    "mu = trials * prob_success\n",
    "sigma = np.sqrt(trials * prob_success * (1 - prob_success))\n",
    "\n",
    "stats.norm.sf(x = obs,\n",
    "              loc = mu,\n",
    "              scale = sigma)"
   ]
  },
  {
   "cell_type": "markdown",
   "metadata": {},
   "source": [
    "Approssimazione quasi perfetta!"
   ]
  },
  {
   "cell_type": "markdown",
   "metadata": {},
   "source": [
    "---"
   ]
  }
 ],
 "metadata": {
  "kernelspec": {
   "display_name": "Python 3",
   "language": "python",
   "name": "python3"
  },
  "language_info": {
   "codemirror_mode": {
    "name": "ipython",
    "version": 3
   },
   "file_extension": ".py",
   "mimetype": "text/x-python",
   "name": "python",
   "nbconvert_exporter": "python",
   "pygments_lexer": "ipython3",
   "version": "3.7.6"
  }
 },
 "nbformat": 4,
 "nbformat_minor": 4
}
