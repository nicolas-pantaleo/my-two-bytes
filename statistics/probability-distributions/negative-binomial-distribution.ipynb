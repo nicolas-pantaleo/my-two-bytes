{
 "cells": [
  {
   "cell_type": "markdown",
   "metadata": {},
   "source": [
    "# Negative Binomial Distribution"
   ]
  },
  {
   "cell_type": "markdown",
   "metadata": {},
   "source": [
    "---"
   ]
  },
  {
   "cell_type": "markdown",
   "metadata": {},
   "source": [
    "## Import"
   ]
  },
  {
   "cell_type": "code",
   "execution_count": 1,
   "metadata": {},
   "outputs": [],
   "source": [
    "import math\n",
    "import numpy as np\n",
    "import pandas as pd\n",
    "import matplotlib.pyplot as plt\n",
    "import seaborn as sns\n",
    "\n",
    "import statistics\n",
    "from scipy import stats\n",
    "\n",
    "%matplotlib inline\n",
    "plt.style.use(\"fivethirtyeight\")"
   ]
  },
  {
   "cell_type": "markdown",
   "metadata": {},
   "source": [
    "---"
   ]
  },
  {
   "cell_type": "markdown",
   "metadata": {},
   "source": [
    "## Utilities"
   ]
  },
  {
   "cell_type": "code",
   "execution_count": 2,
   "metadata": {},
   "outputs": [],
   "source": [
    "def get_discrete_ticks(xmin, xmax):\n",
    "    cuts = [5, 10, 20, 50, 100, 200, 500, 1000]\n",
    "    ticks = np.arange(xmin, xmax + 1)\n",
    "    if len(ticks) > 15:\n",
    "        for cut in cuts:\n",
    "            ticks = [tick for tick in ticks if tick % cut == 0]\n",
    "            if len(ticks) <= 15:\n",
    "                return ticks\n",
    "        return ticks\n",
    "    return ticks"
   ]
  },
  {
   "cell_type": "code",
   "execution_count": 3,
   "metadata": {},
   "outputs": [],
   "source": [
    "def get_bins(xmin, xmax, step = 1):\n",
    "    bins = np.arange(xmin, xmax, step)\n",
    "    bins = bins if len(bins) > 2 else get_bins(xmin, xmax + 1, step)\n",
    "    return bins if len(bins) <= 100 \\\n",
    "        else get_bins(xmin, xmax, step = step + 1)"
   ]
  },
  {
   "cell_type": "code",
   "execution_count": 4,
   "metadata": {},
   "outputs": [],
   "source": [
    "def plot_discrete_distribution(f, x_axis, obs = None, q = None, **kwargs):\n",
    "    pmf = f.pmf(x_axis, **kwargs)\n",
    "    fig, ax = plt.subplots(figsize = (8, 4))\n",
    "    bars = ax.bar(x_axis, pmf, edgecolor = \"k\", linewidth = 2)\n",
    "    \n",
    "    print(f\"Mean: {f.mean(**kwargs)}\")\n",
    "    print(f\"Median: {f.median(**kwargs)}\")\n",
    "    print(f\"Variance: {f.var(**kwargs)}\")\n",
    "    print(f\"Standard Deviation: {f.std(**kwargs)}\")\n",
    "    print(\"-\" * 10)\n",
    "    if obs:\n",
    "        plt.setp(bars[obs - x_axis.min()], color = \"r\", linewidth = 2)\n",
    "        plt.setp(bars[obs - x_axis.min()], edgecolor = \"k\")\n",
    "        obs_pmf = f.pmf(obs, **kwargs)\n",
    "        print(f\"PMF({obs}) = {obs_pmf}\")\n",
    "        \n",
    "    plt.xticks(get_discrete_ticks(xmin = x_axis.min(), xmax = x_axis.max()))\n",
    "    plt.show()"
   ]
  },
  {
   "cell_type": "code",
   "execution_count": 5,
   "metadata": {},
   "outputs": [],
   "source": [
    "def sample_discrete_distribution(f, size = 1, seed = None, **kwargs):\n",
    "    sample = f.rvs(size = size, random_state = seed, **kwargs)\n",
    "    \n",
    "    print(f\"Min: {np.min(sample)}\")\n",
    "    print(f\"Mean: {np.mean(sample)}\")\n",
    "    print(f\"Median: {np.median(sample)}\")\n",
    "    print(f\"Max: {np.max(sample)}\")\n",
    "    print(f\"Variance: {np.var(sample, ddof = 0)}\")\n",
    "    print(f\"Standard Deviation: {np.std(sample, ddof = 0)}\")\n",
    "    \n",
    "    fig, ax = plt.subplots(figsize = (8, 4))\n",
    "   \n",
    "    plt.hist(x = sample,\n",
    "             density = True,\n",
    "             edgecolor = \"k\",\n",
    "             bins = get_bins(sample.min(), sample.max() + 1),\n",
    "             linewidth = 2)\n",
    "\n",
    "    plt.xticks(get_discrete_ticks(sample.min(), sample.max()))\n",
    "    plt.show()\n",
    "    return sample"
   ]
  },
  {
   "cell_type": "markdown",
   "metadata": {},
   "source": [
    "---"
   ]
  },
  {
   "cell_type": "markdown",
   "metadata": {},
   "source": [
    "La binomiale negativa è una sorta di generalizzazione della geometrica, perché modella il numero di trial necessari non per ottenere il primo successo, bensì per ottenere il successo r-esimo."
   ]
  },
  {
   "cell_type": "markdown",
   "metadata": {},
   "source": [
    "La generica variabile $X$, quindi, rappresenta il numero di trial necessari per arrivare al successo r-esimo."
   ]
  },
  {
   "cell_type": "markdown",
   "metadata": {},
   "source": [
    "Il successo r-esimo avviene al trial x-esimo solo se nei precedenti $x-1$ trial si verificano esattamente $r-1$ successi, e questa probabilità possiamo calcolarla con la formula binomiale:"
   ]
  },
  {
   "cell_type": "markdown",
   "metadata": {},
   "source": [
    "$$\\large \\binom{x-1}{r-1}p^{r-1}(1-p)^{(x-1)-(r-1)}$$"
   ]
  },
  {
   "cell_type": "markdown",
   "metadata": {},
   "source": [
    "La probabilità che al trial x-esimo ci sia un successo, infine, è semplicemente pari a $p$.\n",
    "\n",
    "Possiamo moltiplicare queste due probabilità perché gli eventi sono indipendenti, ottenendo la *PMF* della binomiale negativa:"
   ]
  },
  {
   "cell_type": "markdown",
   "metadata": {},
   "source": [
    "$$\\large P(X=x)=\\binom{x-1}{r-1}p^{r}(1-p)^{(x-r)}$$"
   ]
  },
  {
   "cell_type": "markdown",
   "metadata": {},
   "source": [
    "Per completezza includiamo anche l'**expectation** e la **variance**:"
   ]
  },
  {
   "cell_type": "markdown",
   "metadata": {},
   "source": [
    "$$\\large E(X)=\\frac{r}{p}\\;\\;\\;\\;\\;Var(X)=\\frac{r(1-p)}{p^2}$$"
   ]
  },
  {
   "cell_type": "markdown",
   "metadata": {},
   "source": [
    "---"
   ]
  },
  {
   "cell_type": "markdown",
   "metadata": {},
   "source": [
    "#### Probability Mass Function"
   ]
  },
  {
   "cell_type": "code",
   "execution_count": 6,
   "metadata": {},
   "outputs": [
    {
     "name": "stdout",
     "output_type": "stream",
     "text": [
      "Mean: 6.666666666666668\n",
      "Median: 6.0\n",
      "Variance: 11.111111111111114\n",
      "Standard Deviation: 3.333333333333334\n",
      "----------\n"
     ]
    },
    {
     "data": {
      "image/png": "[encoded data removed]",
      "text/plain": [
       "<Figure size 576x288 with 1 Axes>"
      ]
     },
     "metadata": {},
     "output_type": "display_data"
    }
   ],
   "source": [
    "p = 0.6\n",
    "n = 10\n",
    "\n",
    "plot_discrete_distribution(f = stats.nbinom,\n",
    "                           x_axis = np.arange(1, n + 1),\n",
    "                           p = p,\n",
    "                           n = n)"
   ]
  },
  {
   "cell_type": "markdown",
   "metadata": {},
   "source": [
    "---"
   ]
  },
  {
   "cell_type": "markdown",
   "metadata": {},
   "source": [
    "#### RVS"
   ]
  },
  {
   "cell_type": "code",
   "execution_count": 7,
   "metadata": {},
   "outputs": [
    {
     "name": "stdout",
     "output_type": "stream",
     "text": [
      "Min: 0\n",
      "Mean: 6.502\n",
      "Median: 6.0\n",
      "Max: 22\n",
      "Variance: 10.687996\n",
      "Standard Deviation: 3.26925006691137\n"
     ]
    },
    {
     "data": {
      "image/png": "[encoded data removed]",
      "text/plain": [
       "<Figure size 576x288 with 1 Axes>"
      ]
     },
     "metadata": {},
     "output_type": "display_data"
    }
   ],
   "source": [
    "p = 0.6\n",
    "n = 10\n",
    "\n",
    "sample = sample_discrete_distribution(f = stats.nbinom,\n",
    "                                      size = 1000,\n",
    "                                      p = p,\n",
    "                                      n = n)"
   ]
  },
  {
   "cell_type": "markdown",
   "metadata": {},
   "source": [
    "---"
   ]
  },
  {
   "cell_type": "markdown",
   "metadata": {},
   "source": [
    "**[Esempio]** Un operatore di call-center deve completare altri 3 survey prima che il lavoro finisca. Per ogni numero chiamato randomicamente, c'è un 9% di possibilità di raggiungere una persona che completerà il survey. Qual è la probabilità che il terzo survey sia completato alla decima chiamata?"
   ]
  },
  {
   "cell_type": "code",
   "execution_count": 8,
   "metadata": {},
   "outputs": [
    {
     "data": {
      "text/plain": [
       "0.018736367107134555"
      ]
     },
     "execution_count": 8,
     "metadata": {},
     "output_type": "execute_result"
    }
   ],
   "source": [
    "max_trials = 10\n",
    "number_of_successes = 3\n",
    "prob_single_success = 0.09\n",
    "\n",
    "stats.nbinom.pmf(k = max_trials,\n",
    "                 n = number_of_successes,\n",
    "                 p = prob_single_success)"
   ]
  },
  {
   "cell_type": "markdown",
   "metadata": {},
   "source": [
    "---"
   ]
  }
 ],
 "metadata": {
  "kernelspec": {
   "display_name": "Python 3",
   "language": "python",
   "name": "python3"
  },
  "language_info": {
   "codemirror_mode": {
    "name": "ipython",
    "version": 3
   },
   "file_extension": ".py",
   "mimetype": "text/x-python",
   "name": "python",
   "nbconvert_exporter": "python",
   "pygments_lexer": "ipython3",
   "version": "3.7.6"
  }
 },
 "nbformat": 4,
 "nbformat_minor": 4
}
