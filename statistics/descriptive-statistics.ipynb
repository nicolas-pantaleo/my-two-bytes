{
 "cells": [
  {
   "cell_type": "markdown",
   "metadata": {},
   "source": [
    "# Stats Codebook - Descriptive Statistics"
   ]
  },
  {
   "cell_type": "markdown",
   "metadata": {},
   "source": [
    "---"
   ]
  },
  {
   "cell_type": "markdown",
   "metadata": {},
   "source": [
    "## Contents"
   ]
  },
  {
   "cell_type": "markdown",
   "metadata": {},
   "source": [
    "- [Quantiles](#quantiles)\n",
    "- [Absolute & Relative Frequencies](#frequencies)\n",
    "- [Empirical Cumulative Distribution Function](#ecdf)\n",
    "\n",
    "\n",
    "- [Measures of Center](#measures-center)\n",
    "  - [Arithmetic Mean](#arithmetic-mean)\n",
    "  - [Weighted Mean](#weighted-mean)\n",
    "  - [Harmonic Mean](#harmonic-mean)\n",
    "  - [Geometric Mean](#geometric-mean)\n",
    "  - [Median](#median)\n",
    "  - [Mode](#mode)\n",
    "\n",
    "\n",
    "- [Measures of Spread](#measures-spread)\n",
    "  - [Range](#range)\n",
    "  - [Interquartile Range](#iqr)\n",
    "  - [Deviations](#deviations)\n",
    "  - [Variance](#variance)\n",
    "  - [Standard Deviation](#stdev)\n",
    "  - [Coefficient of Variation](#coefficient-variation)\n",
    "\n",
    "\n",
    "- [Measures of Shape](#measures-shape)\n",
    "  - [Skewness](#skewness)\n",
    "  - [Kurtosis](#kurtosis)\n",
    "\n",
    "\n",
    "- [Measures of Concentration](#measures-concentration)\n",
    "  - [Lorenz Curve](#lorenz-curve)\n",
    "  - [Gini Coefficient](#gini)\n",
    "\n",
    "\n",
    "- [Measures of Correlation](#measures-correlation)\n",
    "  - [Covariance](#covariance)\n",
    "  - [Pearson's Correlation Coefficient](#pearson-correlation)\n",
    "  - [Spearman's Correlation Coefficient](#spearman-correlation)\n",
    "  - [Pearson's $\\chi^2$ Statistic](#pearson-chisq-statistic)\n",
    "  \n",
    "  \n",
    "- [Permutations](#permutations)\n",
    "- [Combinations](#combinations)"
   ]
  },
  {
   "cell_type": "markdown",
   "metadata": {},
   "source": [
    "---"
   ]
  },
  {
   "cell_type": "markdown",
   "metadata": {},
   "source": [
    "## Import"
   ]
  },
  {
   "cell_type": "code",
   "execution_count": 1,
   "metadata": {},
   "outputs": [],
   "source": [
    "import math\n",
    "import numpy as np\n",
    "import pandas as pd\n",
    "import matplotlib.pyplot as plt\n",
    "import seaborn as sns\n",
    "import statistics\n",
    "import scipy.stats as stats\n",
    "\n",
    "from statsmodels.distributions.empirical_distribution import ECDF\n",
    "\n",
    "from scipy.special import binom\n",
    "from itertools import permutations, combinations\n",
    "from itertools import product, combinations_with_replacement\n",
    "\n",
    "plt.style.use(\"fivethirtyeight\")\n",
    "%matplotlib inline"
   ]
  },
  {
   "cell_type": "markdown",
   "metadata": {},
   "source": [
    "---"
   ]
  },
  {
   "cell_type": "markdown",
   "metadata": {},
   "source": [
    "## Datasets"
   ]
  },
  {
   "cell_type": "code",
   "execution_count": 2,
   "metadata": {},
   "outputs": [],
   "source": [
    "tips = sns.load_dataset(\"tips\")"
   ]
  },
  {
   "cell_type": "markdown",
   "metadata": {},
   "source": [
    "---"
   ]
  },
  {
   "cell_type": "markdown",
   "metadata": {},
   "source": [
    "<a id=\"quantiles\"></a>\n",
    "## Quantiles"
   ]
  },
  {
   "cell_type": "markdown",
   "metadata": {},
   "source": [
    "Data una distribuzione ordinata, un **quantile** è un valore in grado di separare i suoi elementi in gruppi di una certa numerosità.\n",
    "\n",
    "Ad esempio, il **50% quantile** è quel valore che divide la distribuzione in due gruppi adiacenti di uguale cardinalità. Il **30% quantile**, invece, è quel valore che è maggiore o uguale del 30% degli altri elementi e strettamente inferiore rispetto al restante 70%.\n",
    "\n",
    "Non è detto che un quantile sia contenuto nella distribuzione per la quale è calcolato: dipende dall'interpolazione scelta."
   ]
  },
  {
   "cell_type": "markdown",
   "metadata": {},
   "source": [
    "I **quartili**, invece, sono i *tre* quantili che ripartiscono la popolazione in *quattro* parti di uguale numerositàIl **25%** dei valori della distribuzione sono inferiori/uguali al primo quartile; il **50%** dei valori della distribuzione sono inferiori/uguali al secondo quartile; il **75%** dei valori della distribuzione sono inferiori/uguali al terzo quartile."
   ]
  },
  {
   "cell_type": "markdown",
   "metadata": {},
   "source": [
    "<br>"
   ]
  },
  {
   "cell_type": "markdown",
   "metadata": {},
   "source": [
    "Possiamo usare i quantili come strumento per confrontare due distribuzioni distinte e verificare se presentano un andamento simile. Per farlo, costruiamo il cosiddetto **Quantile-Quantile Plot** (*QQ-Plot*).\n",
    "\n",
    "Si confrontano i quantili omologhi delle due distribuzioni d'interesse, ricercando un andamento del grafico il più rettilineo possibile, così da poter confermare l'andamento equivalente.\n",
    "\n",
    "L'interpretazione degli *scatter* non rettilinei sono intuitivi sulla base della composizione del grafico: un incrocio di quantili *superiore* rispetto alla retta centrale indica una tendenza della variabile in ordinate ad assumere valori superiori per i corrispondenti quartili, e viceversa per incroci *inferiori* rispetto alla retta centrale."
   ]
  },
  {
   "cell_type": "markdown",
   "metadata": {},
   "source": [
    "_Con Numpy/Pandas va usata un'interpolazione come *lower*, *higher* o *nearest* per farsi restituire sempre un valore della distribuzione. Si possono utilizzare le interpolazioni *linear* o *midpoint* per ottenere dei risultati più precisi, ma non è garantito che questi siano contenuti nell'insieme in oggetto._"
   ]
  },
  {
   "cell_type": "markdown",
   "metadata": {},
   "source": [
    "_Calcolo del **50% quantile** con interpolazione **nearest**._"
   ]
  },
  {
   "cell_type": "code",
   "execution_count": 3,
   "metadata": {},
   "outputs": [
    {
     "data": {
      "text/plain": [
       "2.92"
      ]
     },
     "execution_count": 3,
     "metadata": {},
     "output_type": "execute_result"
    }
   ],
   "source": [
    "np.quantile(a = tips.tip, q = 0.5, interpolation = \"nearest\")"
   ]
  },
  {
   "cell_type": "markdown",
   "metadata": {},
   "source": [
    "_Calcolo del **50% quantile** con interpolazione **linear**._"
   ]
  },
  {
   "cell_type": "code",
   "execution_count": 4,
   "metadata": {},
   "outputs": [
    {
     "data": {
      "text/plain": [
       "2.9"
      ]
     },
     "execution_count": 4,
     "metadata": {},
     "output_type": "execute_result"
    }
   ],
   "source": [
    "np.quantile(a = tips.tip, q = 0.5, interpolation = \"linear\")"
   ]
  },
  {
   "cell_type": "markdown",
   "metadata": {},
   "source": [
    "_Calcolo dei **quartili**._"
   ]
  },
  {
   "cell_type": "code",
   "execution_count": 5,
   "metadata": {},
   "outputs": [
    {
     "data": {
      "text/plain": [
       "array([2.  , 2.92, 3.55])"
      ]
     },
     "execution_count": 5,
     "metadata": {},
     "output_type": "execute_result"
    }
   ],
   "source": [
    "np.quantile(a = tips.tip,\n",
    "            q = [0.25, 0.50, 0.75],\n",
    "            interpolation = \"nearest\")"
   ]
  },
  {
   "cell_type": "markdown",
   "metadata": {},
   "source": [
    "_Calcolo dei **percentili**._"
   ]
  },
  {
   "cell_type": "code",
   "execution_count": 6,
   "metadata": {
    "scrolled": true
   },
   "outputs": [
    {
     "data": {
      "text/plain": [
       "array([ 1.  ,  1.1 ,  1.25,  1.32,  1.44,  1.47,  1.5 ,  1.5 ,  1.5 ,\n",
       "        1.5 ,  1.57,  1.61,  1.66,  1.68,  1.73,  1.8 ,  1.92,  1.98,\n",
       "        2.  ,  2.  ,  2.  ,  2.  ,  2.  ,  2.  ,  2.  ,  2.  ,  2.  ,\n",
       "        2.  ,  2.  ,  2.  ,  2.  ,  2.01,  2.02,  2.05,  2.18,  2.2 ,\n",
       "        2.24,  2.3 ,  2.34,  2.47,  2.5 ,  2.5 ,  2.5 ,  2.5 ,  2.54,\n",
       "        2.6 ,  2.64,  2.74,  2.75,  2.92,  3.  ,  3.  ,  3.  ,  3.  ,\n",
       "        3.  ,  3.  ,  3.  ,  3.  ,  3.  ,  3.02,  3.07,  3.11,  3.14,\n",
       "        3.18,  3.21,  3.23,  3.27,  3.35,  3.41,  3.48,  3.5 ,  3.5 ,\n",
       "        3.5 ,  3.5 ,  3.55,  3.68,  3.75,  3.92,  4.  ,  4.  ,  4.  ,\n",
       "        4.  ,  4.  ,  4.08,  4.2 ,  4.3 ,  4.34,  4.71,  5.  ,  5.  ,\n",
       "        5.  ,  5.  ,  5.07,  5.15,  5.2 ,  5.65,  6.  ,  6.5 ,  7.58,\n",
       "       10.  ])"
      ]
     },
     "execution_count": 6,
     "metadata": {},
     "output_type": "execute_result"
    }
   ],
   "source": [
    "np.quantile(\n",
    "    a = tips.tip,\n",
    "    q = np.linspace(0.01, 1, 100),\n",
    "    interpolation = \"nearest\")"
   ]
  },
  {
   "cell_type": "markdown",
   "metadata": {},
   "source": [
    "_Funzione custom per la costruzione di un **Quantile-Quantile Plot**._"
   ]
  },
  {
   "cell_type": "code",
   "execution_count": 7,
   "metadata": {},
   "outputs": [],
   "source": [
    "def qq_plot(x, y, xlabel = \"X\", ylabel = \"Y\"):\n",
    "    fig, ax = plt.subplots(figsize = (6, 4))\n",
    "    quantiles = np.linspace(0, 1, min(len(x), len(y)))\n",
    "    x_quantiles = np.quantile(x, quantiles, interpolation = \"nearest\")\n",
    "    y_quantiles = np.quantile(y, quantiles, interpolation = \"nearest\")\n",
    "    ax.plot([0,1],[0,1], color=\"k\", alpha=0.7, transform=ax.transAxes,\n",
    "           linestyle = \"--\", linewidth = 1.5)\n",
    "    ax.scatter(x_quantiles, y_quantiles,\n",
    "               color = \"cornflowerblue\", s = 100, edgecolor = \"k\",\n",
    "               linewidth = 1.5, alpha = 0.5)\n",
    "    plt.xlabel(f\"{xlabel} Quantiles\")\n",
    "    plt.ylabel(f\"{ylabel} Quantiles\")\n",
    "    plt.show()"
   ]
  },
  {
   "cell_type": "markdown",
   "metadata": {},
   "source": [
    "_Confronto di due variabili per verificare se presentano **andamenti comparabili**._"
   ]
  },
  {
   "cell_type": "code",
   "execution_count": 8,
   "metadata": {},
   "outputs": [
    {
     "data": {
      "image/png": "[encoded data removed]",
      "text/plain": [
       "<Figure size 432x288 with 1 Axes>"
      ]
     },
     "metadata": {
      "needs_background": "light"
     },
     "output_type": "display_data"
    }
   ],
   "source": [
    "qq_plot(x = tips.tip, y = tips.total_bill,\n",
    "        xlabel = \"Tip\", ylabel = \"Total Bill\")"
   ]
  },
  {
   "cell_type": "markdown",
   "metadata": {},
   "source": [
    "_Creazione di un sample normale con media e deviazione standard coincidenti con la *feature* da analizzare._"
   ]
  },
  {
   "cell_type": "code",
   "execution_count": 9,
   "metadata": {},
   "outputs": [],
   "source": [
    "normal_distro = stats.norm.rvs(loc = tips.tip.mean(),\n",
    "                               scale = tips.tip.std(),\n",
    "                               size = len(tips.tip))"
   ]
  },
  {
   "cell_type": "markdown",
   "metadata": {},
   "source": [
    "_QQ-Plot per verificare se la feature d'interesse ha andamento normale._"
   ]
  },
  {
   "cell_type": "code",
   "execution_count": 10,
   "metadata": {
    "scrolled": true
   },
   "outputs": [
    {
     "data": {
      "image/png": "[encoded data removed]",
      "text/plain": [
       "<Figure size 432x288 with 1 Axes>"
      ]
     },
     "metadata": {
      "needs_background": "light"
     },
     "output_type": "display_data"
    }
   ],
   "source": [
    "qq_plot(tips.tip, normal_distro)"
   ]
  },
  {
   "cell_type": "markdown",
   "metadata": {},
   "source": [
    "---"
   ]
  },
  {
   "cell_type": "markdown",
   "metadata": {},
   "source": [
    "<a id=\"frequencies\"></a>\n",
    "## Absolute & Relative Frequencies"
   ]
  },
  {
   "cell_type": "markdown",
   "metadata": {},
   "source": [
    "Data una variabile categorica, il numero di osservazioni che ricadono in una delle sue categorie è detta **absolute frequency**."
   ]
  },
  {
   "cell_type": "markdown",
   "metadata": {},
   "source": [
    "La **relative frequency** di una categoria, invece, è il rapporto fra il numero di osservazioni associate ad essa e il numero totale di osservazioni contenute in tutte le categorie.\n",
    "\n",
    "La somma delle frequenze relative di tutte le categorie è sempre pari ad uno."
   ]
  },
  {
   "cell_type": "markdown",
   "metadata": {},
   "source": [
    "$$\\large f_i=\\frac{n_i}{n}\\;\\;\\;\\;\\;i=1,\\dots,k$$\n",
    "\n",
    "$$\\large \\sum_{i=1}^{k}f_i=1$$"
   ]
  },
  {
   "cell_type": "markdown",
   "metadata": {},
   "source": [
    "Una **frequency distribution** è una struttura dati che associa a ciascuna classe di una variabile categorica o a ciascun intervallo di una variabile continua le corrispondenti frequenze assolute e relative."
   ]
  },
  {
   "cell_type": "markdown",
   "metadata": {},
   "source": [
    "_**Absolute frequency distribution** di una variabile categorica_"
   ]
  },
  {
   "cell_type": "code",
   "execution_count": 11,
   "metadata": {},
   "outputs": [
    {
     "data": {
      "text/plain": [
       "Sat     87\n",
       "Sun     76\n",
       "Thur    62\n",
       "Fri     19\n",
       "Name: day, dtype: int64"
      ]
     },
     "execution_count": 11,
     "metadata": {},
     "output_type": "execute_result"
    }
   ],
   "source": [
    "tips.day.value_counts()"
   ]
  },
  {
   "cell_type": "markdown",
   "metadata": {},
   "source": [
    "_**Relative frequency distribution** di una variabile categorica_"
   ]
  },
  {
   "cell_type": "code",
   "execution_count": 12,
   "metadata": {},
   "outputs": [
    {
     "data": {
      "text/plain": [
       "Sat     0.356557\n",
       "Sun     0.311475\n",
       "Thur    0.254098\n",
       "Fri     0.077869\n",
       "Name: day, dtype: float64"
      ]
     },
     "execution_count": 12,
     "metadata": {},
     "output_type": "execute_result"
    }
   ],
   "source": [
    "tips.day.value_counts() / len(tips)"
   ]
  },
  {
   "cell_type": "markdown",
   "metadata": {},
   "source": [
    "_**Absolute Frequency Distribution** di una variabile continua_"
   ]
  },
  {
   "cell_type": "code",
   "execution_count": 13,
   "metadata": {},
   "outputs": [],
   "source": [
    "df = tips.copy()\n",
    "df[\"tip_bin\"] = pd.cut(x = df.tip,\n",
    "                       bins = np.arange(0, 12, 2),\n",
    "                       right = True)"
   ]
  },
  {
   "cell_type": "code",
   "execution_count": 14,
   "metadata": {},
   "outputs": [
    {
     "data": {
      "text/plain": [
       "(2, 4]     125\n",
       "(0, 2]      78\n",
       "(4, 6]      34\n",
       "(6, 8]       5\n",
       "(8, 10]      2\n",
       "Name: tip_bin, dtype: int64"
      ]
     },
     "execution_count": 14,
     "metadata": {},
     "output_type": "execute_result"
    }
   ],
   "source": [
    "df.tip_bin.value_counts()"
   ]
  },
  {
   "cell_type": "markdown",
   "metadata": {},
   "source": [
    "_**Relative Frequency Distribution** di una variabile continua_"
   ]
  },
  {
   "cell_type": "code",
   "execution_count": 15,
   "metadata": {},
   "outputs": [
    {
     "data": {
      "text/plain": [
       "(2, 4]     0.512295\n",
       "(0, 2]     0.319672\n",
       "(4, 6]     0.139344\n",
       "(6, 8]     0.020492\n",
       "(8, 10]    0.008197\n",
       "Name: tip_bin, dtype: float64"
      ]
     },
     "execution_count": 15,
     "metadata": {},
     "output_type": "execute_result"
    }
   ],
   "source": [
    "df.tip_bin.value_counts() / len(tips)"
   ]
  },
  {
   "cell_type": "markdown",
   "metadata": {},
   "source": [
    "_Funzione custom per la costruzione di una **Frequency Distribution** generalizzata. Nel caso di variabili continue, si richiede un numero di split per creare delle pseudo-categorie_"
   ]
  },
  {
   "cell_type": "code",
   "execution_count": 16,
   "metadata": {},
   "outputs": [],
   "source": [
    "def freq_dist(df, variable, splits = 4):\n",
    "    if df[variable].dtype in [\"float\", \"int\"]:\n",
    "        bins = np.linspace(np.min(df[variable]),\n",
    "                           np.max(df[variable]),\n",
    "                           splits + 1)\n",
    "        data = pd.cut(x = df[variable], bins = bins, right = True)\n",
    "    else:\n",
    "        data = df[variable].copy()\n",
    "    distro = pd.DataFrame({\"Abs Freq\": data.value_counts()})\n",
    "    distro[\"Rel Freq\"] = data.value_counts() / len(data)\n",
    "    return pd.concat({data.name: distro})    "
   ]
  },
  {
   "cell_type": "code",
   "execution_count": 17,
   "metadata": {},
   "outputs": [
    {
     "data": {
      "text/html": [
       "<div>\n",
       "<style scoped>\n",
       "    .dataframe tbody tr th:only-of-type {\n",
       "        vertical-align: middle;\n",
       "    }\n",
       "\n",
       "    .dataframe tbody tr th {\n",
       "        vertical-align: top;\n",
       "    }\n",
       "\n",
       "    .dataframe thead th {\n",
       "        text-align: right;\n",
       "    }\n",
       "</style>\n",
       "<table border=\"1\" class=\"dataframe\">\n",
       "  <thead>\n",
       "    <tr style=\"text-align: right;\">\n",
       "      <th></th>\n",
       "      <th></th>\n",
       "      <th>Abs Freq</th>\n",
       "      <th>Rel Freq</th>\n",
       "    </tr>\n",
       "  </thead>\n",
       "  <tbody>\n",
       "    <tr>\n",
       "      <th rowspan=\"4\" valign=\"top\">day</th>\n",
       "      <th>Sat</th>\n",
       "      <td>87</td>\n",
       "      <td>0.356557</td>\n",
       "    </tr>\n",
       "    <tr>\n",
       "      <th>Sun</th>\n",
       "      <td>76</td>\n",
       "      <td>0.311475</td>\n",
       "    </tr>\n",
       "    <tr>\n",
       "      <th>Thur</th>\n",
       "      <td>62</td>\n",
       "      <td>0.254098</td>\n",
       "    </tr>\n",
       "    <tr>\n",
       "      <th>Fri</th>\n",
       "      <td>19</td>\n",
       "      <td>0.077869</td>\n",
       "    </tr>\n",
       "  </tbody>\n",
       "</table>\n",
       "</div>"
      ],
      "text/plain": [
       "          Abs Freq  Rel Freq\n",
       "day Sat         87  0.356557\n",
       "    Sun         76  0.311475\n",
       "    Thur        62  0.254098\n",
       "    Fri         19  0.077869"
      ]
     },
     "execution_count": 17,
     "metadata": {},
     "output_type": "execute_result"
    }
   ],
   "source": [
    "freq_dist(df = tips, variable = \"day\")"
   ]
  },
  {
   "cell_type": "code",
   "execution_count": 18,
   "metadata": {},
   "outputs": [
    {
     "data": {
      "text/html": [
       "<div>\n",
       "<style scoped>\n",
       "    .dataframe tbody tr th:only-of-type {\n",
       "        vertical-align: middle;\n",
       "    }\n",
       "\n",
       "    .dataframe tbody tr th {\n",
       "        vertical-align: top;\n",
       "    }\n",
       "\n",
       "    .dataframe thead th {\n",
       "        text-align: right;\n",
       "    }\n",
       "</style>\n",
       "<table border=\"1\" class=\"dataframe\">\n",
       "  <thead>\n",
       "    <tr style=\"text-align: right;\">\n",
       "      <th></th>\n",
       "      <th></th>\n",
       "      <th>Abs Freq</th>\n",
       "      <th>Rel Freq</th>\n",
       "    </tr>\n",
       "  </thead>\n",
       "  <tbody>\n",
       "    <tr>\n",
       "      <th rowspan=\"6\" valign=\"top\">tip</th>\n",
       "      <th>(1.0, 2.5]</th>\n",
       "      <td>104</td>\n",
       "      <td>0.426230</td>\n",
       "    </tr>\n",
       "    <tr>\n",
       "      <th>(2.5, 4.0]</th>\n",
       "      <td>95</td>\n",
       "      <td>0.389344</td>\n",
       "    </tr>\n",
       "    <tr>\n",
       "      <th>(4.0, 5.5]</th>\n",
       "      <td>29</td>\n",
       "      <td>0.118852</td>\n",
       "    </tr>\n",
       "    <tr>\n",
       "      <th>(5.5, 7.0]</th>\n",
       "      <td>9</td>\n",
       "      <td>0.036885</td>\n",
       "    </tr>\n",
       "    <tr>\n",
       "      <th>(8.5, 10.0]</th>\n",
       "      <td>2</td>\n",
       "      <td>0.008197</td>\n",
       "    </tr>\n",
       "    <tr>\n",
       "      <th>(7.0, 8.5]</th>\n",
       "      <td>1</td>\n",
       "      <td>0.004098</td>\n",
       "    </tr>\n",
       "  </tbody>\n",
       "</table>\n",
       "</div>"
      ],
      "text/plain": [
       "                 Abs Freq  Rel Freq\n",
       "tip (1.0, 2.5]        104  0.426230\n",
       "    (2.5, 4.0]         95  0.389344\n",
       "    (4.0, 5.5]         29  0.118852\n",
       "    (5.5, 7.0]          9  0.036885\n",
       "    (8.5, 10.0]         2  0.008197\n",
       "    (7.0, 8.5]          1  0.004098"
      ]
     },
     "execution_count": 18,
     "metadata": {},
     "output_type": "execute_result"
    }
   ],
   "source": [
    "freq_dist(df = tips, variable = \"tip\", splits = 6)"
   ]
  },
  {
   "cell_type": "markdown",
   "metadata": {},
   "source": [
    "---"
   ]
  },
  {
   "cell_type": "markdown",
   "metadata": {},
   "source": [
    "<a id=\"ecdf\"></a>\n",
    "## Empirical Cumulative Distribution Function"
   ]
  },
  {
   "cell_type": "markdown",
   "metadata": {},
   "source": [
    "Data una variabile ordinabile, l'*ECDF* è una funzione che, dato un certo valore $x$, restituisce la somma delle frequenze relative di tutti i valori assunti dalla variabile che sono uguali o inferiori ad $x$.\n",
    "\n",
    "$$\\large F(x)=\\sum_{a_i\\leq x}f(a_i)$$"
   ]
  },
  {
   "cell_type": "markdown",
   "metadata": {},
   "source": [
    "_Funzione custom per plottare l'ECDF_"
   ]
  },
  {
   "cell_type": "code",
   "execution_count": 19,
   "metadata": {},
   "outputs": [],
   "source": [
    "def empirical_cdf(data):\n",
    "    ecdf = ECDF(x = data)\n",
    "    fig, ax = plt.subplots(figsize = (8, 6))\n",
    "    ax.plot(ecdf.x, ecdf.y)\n",
    "    ax.fill_between(ecdf.x, ecdf.y, alpha = 0.4)\n",
    "    plt.xticks(np.arange(np.min(data), np.max(data)+1))\n",
    "    plt.show()\n",
    "    return ecdf"
   ]
  },
  {
   "cell_type": "markdown",
   "metadata": {},
   "source": [
    "_ECDF di una variabile **categorica**_"
   ]
  },
  {
   "cell_type": "code",
   "execution_count": 20,
   "metadata": {},
   "outputs": [
    {
     "data": {
      "image/png": "[encoded data removed]",
      "text/plain": [
       "<Figure size 576x432 with 1 Axes>"
      ]
     },
     "metadata": {
      "needs_background": "light"
     },
     "output_type": "display_data"
    }
   ],
   "source": [
    "tips[\"day_num\"] = tips.day.replace({\"Thur\": 1, \"Fri\": 2, \"Sat\": 3, \"Sun\": 4})\n",
    "\n",
    "ecdf = empirical_cdf(data = tips.day_num)"
   ]
  },
  {
   "cell_type": "markdown",
   "metadata": {},
   "source": [
    "_Calcolo della **Cumulative Frequency** di alcuni valori d'interesse_"
   ]
  },
  {
   "cell_type": "code",
   "execution_count": 21,
   "metadata": {},
   "outputs": [
    {
     "data": {
      "text/plain": [
       "(1.0, 0.6885245901639344, 0.0)"
      ]
     },
     "execution_count": 21,
     "metadata": {},
     "output_type": "execute_result"
    }
   ],
   "source": [
    "ecdf(5), ecdf(3), ecdf(-1)"
   ]
  },
  {
   "cell_type": "markdown",
   "metadata": {},
   "source": [
    "_ECDF di una variabile **continua**_"
   ]
  },
  {
   "cell_type": "code",
   "execution_count": 22,
   "metadata": {},
   "outputs": [
    {
     "data": {
      "image/png": "[encoded data removed]",
      "text/plain": [
       "<Figure size 576x432 with 1 Axes>"
      ]
     },
     "metadata": {
      "needs_background": "light"
     },
     "output_type": "display_data"
    }
   ],
   "source": [
    "ecdf = empirical_cdf(data = df.tip)"
   ]
  },
  {
   "cell_type": "markdown",
   "metadata": {},
   "source": [
    "_Calcolo della **Cumulative Frequency** di alcuni valori d'interesse_"
   ]
  },
  {
   "cell_type": "code",
   "execution_count": 23,
   "metadata": {},
   "outputs": [
    {
     "data": {
      "text/plain": [
       "(1.0, 0.8319672131147541, 0.0)"
      ]
     },
     "execution_count": 23,
     "metadata": {},
     "output_type": "execute_result"
    }
   ],
   "source": [
    "ecdf(12), ecdf(4), ecdf(-1)"
   ]
  },
  {
   "cell_type": "markdown",
   "metadata": {},
   "source": [
    "---"
   ]
  },
  {
   "cell_type": "markdown",
   "metadata": {},
   "source": [
    "<a id=\"measures-center\"></a>\n",
    "## Measures of Center"
   ]
  },
  {
   "cell_type": "markdown",
   "metadata": {},
   "source": [
    "---"
   ]
  },
  {
   "cell_type": "markdown",
   "metadata": {},
   "source": [
    "<a id=\"arithmetic-mean\"></a>"
   ]
  },
  {
   "cell_type": "markdown",
   "metadata": {},
   "source": [
    "L'**Arithmetic Mean** è la somma dei valori delle osservazioni diviso per il numero totale di osservazioni. Non è una *robust statistic*."
   ]
  },
  {
   "cell_type": "markdown",
   "metadata": {},
   "source": [
    "$$\\large \\bar{x}=\\frac{1}{n}\\sum_{i=1}^{n}x_i$$"
   ]
  },
  {
   "cell_type": "code",
   "execution_count": 24,
   "metadata": {},
   "outputs": [
    {
     "data": {
      "text/plain": [
       "2.9982786885245902"
      ]
     },
     "execution_count": 24,
     "metadata": {},
     "output_type": "execute_result"
    }
   ],
   "source": [
    "np.mean(tips.tip)"
   ]
  },
  {
   "cell_type": "markdown",
   "metadata": {},
   "source": [
    "---"
   ]
  },
  {
   "cell_type": "markdown",
   "metadata": {},
   "source": [
    "<a id=\"weighted-mean\"></a>"
   ]
  },
  {
   "cell_type": "markdown",
   "metadata": {},
   "source": [
    "Nella **Weighted Mean** ogni osservazione è moltiplicata per il proprio *weight* e si divide per la somma di tutti i *weights*. E' la generalizzazione dell'*arithmetic mean* con pesi tutti unitari."
   ]
  },
  {
   "cell_type": "markdown",
   "metadata": {},
   "source": [
    "$$\\large \\bar{x}=\\frac{\\sum_{i=1}^{n}x_i\\cdot w_i}\n",
    "{\\sum_{i=1}^{n}w_i}$$"
   ]
  },
  {
   "cell_type": "code",
   "execution_count": 25,
   "metadata": {},
   "outputs": [
    {
     "data": {
      "text/plain": [
       "15.000000000000002"
      ]
     },
     "execution_count": 25,
     "metadata": {},
     "output_type": "execute_result"
    }
   ],
   "source": [
    "np.average(a = [10, 20, 30], weights = [0.6, 0.3, 0.1])"
   ]
  },
  {
   "cell_type": "markdown",
   "metadata": {},
   "source": [
    "---"
   ]
  },
  {
   "cell_type": "markdown",
   "metadata": {},
   "source": [
    "<a id=\"harmonic-mean\"></a>"
   ]
  },
  {
   "cell_type": "markdown",
   "metadata": {},
   "source": [
    "L'**Harmonic Mean** si usa quando le osservazioni sono dei *rates*, cioè sono definite nativamente come dei rapporti (es. velocità)."
   ]
  },
  {
   "cell_type": "markdown",
   "metadata": {},
   "source": [
    "$$\\large \\bar{x}=\\frac{n}{\\sum_{i=1}^{n}\\frac{1}{x_i}}$$"
   ]
  },
  {
   "cell_type": "markdown",
   "metadata": {},
   "source": [
    "Esiste anche la **Weighted Harmonic Mean**:"
   ]
  },
  {
   "cell_type": "markdown",
   "metadata": {},
   "source": [
    "$$\\large \\bar{x}=\\frac{w_i}{\\sum_{i=1}^{n}\\frac{w_i}{x_i}}$$"
   ]
  },
  {
   "cell_type": "code",
   "execution_count": 26,
   "metadata": {},
   "outputs": [
    {
     "data": {
      "text/plain": [
       "52.06611570247934"
      ]
     },
     "execution_count": 26,
     "metadata": {},
     "output_type": "execute_result"
    }
   ],
   "source": [
    "statistics.harmonic_mean([30.0, 70.0, 100.0])"
   ]
  },
  {
   "cell_type": "markdown",
   "metadata": {},
   "source": [
    "---"
   ]
  },
  {
   "cell_type": "markdown",
   "metadata": {},
   "source": [
    "<a id=\"geometric-mean\"></a>"
   ]
  },
  {
   "cell_type": "markdown",
   "metadata": {},
   "source": [
    "La **Geometric Mean** si utilizza per calcolare la media di una variabile in cui i singoli valori dipendono dai valori precedenti, cioè non sono indipendenti. Si calcola come la radice $n$-esima del prodotto di tutte le $n$ osservazioni."
   ]
  },
  {
   "cell_type": "markdown",
   "metadata": {},
   "source": [
    "$$\\large \\bar{x}=\\left[ x_1\\times\\dots\\times x_n \\right]^{\\frac{1}{n}}$$"
   ]
  },
  {
   "cell_type": "markdown",
   "metadata": {},
   "source": [
    "**Esempio**: Calcolare il *growth rate* annuale medio dati i seguenti *growth rate* annuali: 5%, 10%, 20%, -50%, 20%."
   ]
  },
  {
   "cell_type": "code",
   "execution_count": 27,
   "metadata": {},
   "outputs": [
    {
     "data": {
      "text/plain": [
       "-0.03620893421472193"
      ]
     },
     "execution_count": 27,
     "metadata": {},
     "output_type": "execute_result"
    }
   ],
   "source": [
    "data = [0.05, 0.1, 0.2, -0.5, 0.2]\n",
    "\n",
    "# Si aggiunge 1 a tutti gli elementi\n",
    "# Per poter lavorare anche con i negativi\n",
    "data = [1 + gr for gr in data]\n",
    "\n",
    "# Si sottrae 1 alla fine\n",
    "# Per avere la reale media geometrica\n",
    "stats.mstats.gmean(data) - 1"
   ]
  },
  {
   "cell_type": "markdown",
   "metadata": {},
   "source": [
    "Il *growth rate* annuale medio è del -3.6%."
   ]
  },
  {
   "cell_type": "markdown",
   "metadata": {},
   "source": [
    "---"
   ]
  },
  {
   "cell_type": "markdown",
   "metadata": {},
   "source": [
    "<a id=\"median\"></a>"
   ]
  },
  {
   "cell_type": "markdown",
   "metadata": {},
   "source": [
    "La **Median** è l'osservazione che divide una distribuzione ordinabile in due parti di uguale numerosità.\n",
    "\n",
    "In caso di cardinalità *pari* della distribuzione, non esiste un vero valore centrale, pertanto la *median* va calcolata come la media aritmetica delle due osservazioni centrali.\n",
    "\n",
    "A livello numerico, la *median* coincide con il secondo quartile o il 50° percentile.\n",
    "\n",
    "E' una *robust statistics*."
   ]
  },
  {
   "cell_type": "code",
   "execution_count": 28,
   "metadata": {},
   "outputs": [
    {
     "data": {
      "text/plain": [
       "2.9"
      ]
     },
     "execution_count": 28,
     "metadata": {},
     "output_type": "execute_result"
    }
   ],
   "source": [
    "np.median(tips.tip)"
   ]
  },
  {
   "cell_type": "markdown",
   "metadata": {},
   "source": [
    "---"
   ]
  },
  {
   "cell_type": "markdown",
   "metadata": {},
   "source": [
    "<a id=\"mode\"></a>"
   ]
  },
  {
   "cell_type": "markdown",
   "metadata": {},
   "source": [
    "La **Mode** è il valore della distribuzione a cui è associata la maggiore frequenza assoluta. In altre parole, è l'osservazione che si ripete più spesso nell'insieme totale dei valori."
   ]
  },
  {
   "cell_type": "code",
   "execution_count": 29,
   "metadata": {},
   "outputs": [
    {
     "data": {
      "text/plain": [
       "2.0"
      ]
     },
     "execution_count": 29,
     "metadata": {},
     "output_type": "execute_result"
    }
   ],
   "source": [
    "statistics.mode(tips.tip)"
   ]
  },
  {
   "cell_type": "markdown",
   "metadata": {},
   "source": [
    "---"
   ]
  },
  {
   "cell_type": "markdown",
   "metadata": {},
   "source": [
    "<a id=\"measures-spread\"></a>\n",
    "## Measures of Spread"
   ]
  },
  {
   "cell_type": "markdown",
   "metadata": {},
   "source": [
    "<a id=\"range\"></a>"
   ]
  },
  {
   "cell_type": "markdown",
   "metadata": {},
   "source": [
    "Il **Range** è definito come la differenza fra il valore massimo ed il valore minimo della distribuzione. Non è una *robust statistics*."
   ]
  },
  {
   "cell_type": "code",
   "execution_count": 30,
   "metadata": {},
   "outputs": [
    {
     "data": {
      "text/plain": [
       "9.0"
      ]
     },
     "execution_count": 30,
     "metadata": {},
     "output_type": "execute_result"
    }
   ],
   "source": [
    "np.max(tips.tip) - np.min(tips.tip)"
   ]
  },
  {
   "cell_type": "markdown",
   "metadata": {},
   "source": [
    "---"
   ]
  },
  {
   "cell_type": "markdown",
   "metadata": {},
   "source": [
    "<a id=\"iqr\"></a>"
   ]
  },
  {
   "cell_type": "markdown",
   "metadata": {},
   "source": [
    "L'**Interquartile Range** è definito come la differenza fra il terzo ed il primo quartile della distribuzione, e coincide quindi con l'ampiezza della fascia di valori che contiene la metà *centrale* (il 50%) dei valori della distribuzione. E' una *robust statistics*."
   ]
  },
  {
   "cell_type": "code",
   "execution_count": 31,
   "metadata": {},
   "outputs": [
    {
     "data": {
      "text/plain": [
       "1.5499999999999998"
      ]
     },
     "execution_count": 31,
     "metadata": {},
     "output_type": "execute_result"
    }
   ],
   "source": [
    "stats.iqr(x = tips.tip, interpolation = \"nearest\")"
   ]
  },
  {
   "cell_type": "markdown",
   "metadata": {},
   "source": [
    "_Verifica del risultato precedente con il calcolo del primo e terzo quartile._"
   ]
  },
  {
   "cell_type": "code",
   "execution_count": 32,
   "metadata": {},
   "outputs": [
    {
     "data": {
      "text/plain": [
       "1.5499999999999998"
      ]
     },
     "execution_count": 32,
     "metadata": {},
     "output_type": "execute_result"
    }
   ],
   "source": [
    "first_quartile = np.quantile(a = tips.tip, q = 0.75, interpolation = \"nearest\")\n",
    "third_quartile = np.quantile(a = tips.tip, q = 0.25, interpolation = \"nearest\")\n",
    "\n",
    "np.abs(third_quartile - first_quartile)"
   ]
  },
  {
   "cell_type": "markdown",
   "metadata": {},
   "source": [
    "---"
   ]
  },
  {
   "cell_type": "markdown",
   "metadata": {},
   "source": [
    "<a id=\"deviations\"></a>"
   ]
  },
  {
   "cell_type": "markdown",
   "metadata": {},
   "source": [
    "L'**Absolute Deviation** è la media delle deviazioni di tutti gli elementi della distribuzione rispetto ad un certo valore $A$."
   ]
  },
  {
   "cell_type": "markdown",
   "metadata": {},
   "source": [
    "$$\\large D(A)=\\frac{1}{n}\\sum_{i=1}^{n}|x_i-A|$$"
   ]
  },
  {
   "cell_type": "code",
   "execution_count": 33,
   "metadata": {},
   "outputs": [
    {
     "data": {
      "text/plain": [
       "4.340081967213107"
      ]
     },
     "execution_count": 33,
     "metadata": {},
     "output_type": "execute_result"
    }
   ],
   "source": [
    "A = 7.3\n",
    "\n",
    "np.mean(np.abs(tips.tip - A))"
   ]
  },
  {
   "cell_type": "markdown",
   "metadata": {},
   "source": [
    "L'*absolute deviation* assume valore minimo quando $A$ coincide con la *median* della distribuzione. Si parla quindi di **absolute median deviation**.\n",
    "\n",
    "Tale misura di dispersione è preferibile alla deviazione standard quando nella distribuzione sono presenti molti *outlier*, in quanto la media aritmetica non è robusta quanto la mediana."
   ]
  },
  {
   "cell_type": "markdown",
   "metadata": {},
   "source": [
    "$$\\large D(x_{0.5})=\\frac{1}{n}\\sum_{i=1}^{n}|x_i-x_{0.5}|$$"
   ]
  },
  {
   "cell_type": "code",
   "execution_count": 34,
   "metadata": {},
   "outputs": [
    {
     "data": {
      "text/plain": [
       "1.032377049180328"
      ]
     },
     "execution_count": 34,
     "metadata": {},
     "output_type": "execute_result"
    }
   ],
   "source": [
    "np.mean(np.abs(tips.tip - np.median(tips.tip)))"
   ]
  },
  {
   "cell_type": "markdown",
   "metadata": {},
   "source": [
    "Quando invece il valore di riferimento per l'*absolute deviation* è la *mean*, si parla di **absolute mean deviation**."
   ]
  },
  {
   "cell_type": "markdown",
   "metadata": {},
   "source": [
    "$$\\large D(\\bar{x})=\\frac{1}{n}\\sum_{i=1}^{n}|x_i-\\bar{x}|$$"
   ]
  },
  {
   "cell_type": "code",
   "execution_count": 35,
   "metadata": {},
   "outputs": [
    {
     "data": {
      "text/plain": [
       "1.0330186777747912"
      ]
     },
     "execution_count": 35,
     "metadata": {},
     "output_type": "execute_result"
    }
   ],
   "source": [
    "np.mean(np.abs(tips.tip - np.mean(tips.tip)))"
   ]
  },
  {
   "cell_type": "markdown",
   "metadata": {},
   "source": [
    "---"
   ]
  },
  {
   "cell_type": "markdown",
   "metadata": {},
   "source": [
    "<a id=\"variance\"></a>"
   ]
  },
  {
   "cell_type": "markdown",
   "metadata": {},
   "source": [
    "La **Variance** è definita come la media di tutte le *deviation* quadrate rispetto alla media della distribuzione.\n",
    "\n",
    "L'unità di misura della varianza è il quadrato dell'unità di misura della distribuzione. Non è una *robust statistic*."
   ]
  },
  {
   "cell_type": "markdown",
   "metadata": {},
   "source": [
    "$$\\large \\sigma^2=\\frac{1}{n}\\sum_{i=1}^{n}(x_i-\\bar{x})^2$$"
   ]
  },
  {
   "cell_type": "markdown",
   "metadata": {},
   "source": [
    "_Population Variance con zero gradi di libertà_"
   ]
  },
  {
   "cell_type": "code",
   "execution_count": 36,
   "metadata": {},
   "outputs": [
    {
     "data": {
      "text/plain": [
       "1.9066085124966428"
      ]
     },
     "execution_count": 36,
     "metadata": {},
     "output_type": "execute_result"
    }
   ],
   "source": [
    "np.var(a = tips.tip, ddof = 0)"
   ]
  },
  {
   "cell_type": "markdown",
   "metadata": {},
   "source": [
    "_Sample Variance con un grado di libertà_"
   ]
  },
  {
   "cell_type": "code",
   "execution_count": 37,
   "metadata": {},
   "outputs": [
    {
     "data": {
      "text/plain": [
       "1.9144546380624725"
      ]
     },
     "execution_count": 37,
     "metadata": {},
     "output_type": "execute_result"
    }
   ],
   "source": [
    "np.var(a = tips.tip, ddof = 1)"
   ]
  },
  {
   "cell_type": "markdown",
   "metadata": {},
   "source": [
    "Data una distribuzione i cui dati sono suddivisi in $k$ categorie, il **Theorem of Variance Decomposition** ci permette di decomporre la varianza totale della distribuzione in *variance between classes* e *variance within classes*."
   ]
  },
  {
   "cell_type": "markdown",
   "metadata": {},
   "source": [
    "$$\\large \\sigma^2=\\frac{1}{n}\\sum_{i=1}^{k}n_i(\\bar{x}_i-\\bar{x})^2+\n",
    "\\frac{1}{n}\\sum_{i=1}^{k}n_i\\;\\sigma^2_i$$"
   ]
  },
  {
   "cell_type": "markdown",
   "metadata": {},
   "source": [
    "Il primo termine è la **variance between classes** ed è definita come la somma di tutte le variazioni quadratiche degli elementi di ciascun gruppo rispetto alla media totale della distribuzione, moltiplicate per la cardinalità del gruppo corrispondente. Il risultato della sommatoria è poi diviso per la cardinalità totale della distribuzione.\n",
    "\n",
    "Il secondo termine è la **variance within classes** ed è definita come la sommatoria delle singole varianze intra-gruppo moltiplicate per la cardinalità del gruppo stesso. Il risultato della sommatoria è poi diviso per la cardinalità totale della distribuzione.\n",
    "\n",
    "La formula delle varianze intra-gruppo emula quella della varianza generale:"
   ]
  },
  {
   "cell_type": "markdown",
   "metadata": {},
   "source": [
    "$$\\large \\sigma_i^2=\\frac{1}{n_i}\\sum_{x_i\\in K_i}(x_i-\\bar{x}_i)^2$$"
   ]
  },
  {
   "cell_type": "markdown",
   "metadata": {},
   "source": [
    "_Funzione custom che implementa la **variance decomposition** in between classes e within classes_"
   ]
  },
  {
   "cell_type": "code",
   "execution_count": 38,
   "metadata": {},
   "outputs": [],
   "source": [
    "def variance_decomposition(df, data_variable, categorical_variable):\n",
    "    between = 0\n",
    "    within = 0\n",
    "    for categ in df[categorical_variable].unique():\n",
    "        sub_df = df[df[categorical_variable] == categ]\n",
    "        mean_diff = sub_df[data_variable].mean() - df[data_variable].mean()\n",
    "        between += np.power(mean_diff, 2) * len(sub_df)\n",
    "        within += sub_df[data_variable].var(ddof=0) * len(sub_df)\n",
    "    between = between / len(df)\n",
    "    within = within / len(df)\n",
    "    return between, within"
   ]
  },
  {
   "cell_type": "code",
   "execution_count": 39,
   "metadata": {},
   "outputs": [
    {
     "data": {
      "text/plain": [
       "(0.039040464167848676, 1.8675680483287926)"
      ]
     },
     "execution_count": 39,
     "metadata": {},
     "output_type": "execute_result"
    }
   ],
   "source": [
    "between, within = variance_decomposition(df = tips.copy(),\n",
    "                                         data_variable = \"tip\",\n",
    "                                         categorical_variable = \"day\")\n",
    "between, within"
   ]
  },
  {
   "cell_type": "markdown",
   "metadata": {},
   "source": [
    "_Verifica del risultato_"
   ]
  },
  {
   "cell_type": "code",
   "execution_count": 40,
   "metadata": {},
   "outputs": [
    {
     "data": {
      "text/plain": [
       "(1.9066085124966428, 1.9066085124966414)"
      ]
     },
     "execution_count": 40,
     "metadata": {},
     "output_type": "execute_result"
    }
   ],
   "source": [
    "np.var(a = tips.tip, ddof=0), between + within"
   ]
  },
  {
   "cell_type": "markdown",
   "metadata": {},
   "source": [
    "<a id=\"stdev\"></a>"
   ]
  },
  {
   "cell_type": "markdown",
   "metadata": {},
   "source": [
    "La **Standard Deviation** è definita come la radice quadrata della varianza, pertanto rappresenta una misura di quanto le osservazioni siano distribuite lontano dalla media.\n",
    "\n",
    "Un basso valore di deviazione standard indica che i valori della distribuzione sono altamente concentrati attorno alla media aritmetica; al contrario, un valore alto di deviazione standard indica la presenza di un gran numero di valori lontani dalla media.\n",
    "\n",
    "Si tratta dell'indice di riferimento per rappresentare il grado di dispersione dei dati di una distribuzione. In presenza di molti *outlier*, gli si può preferire l'*absolute median deviation* per sopperire alla poca robustezza della media aritmetica.\n",
    "\n",
    "Al contrario della *variance*, l'unità di misura della *standard deviation* coincide con l'unità di misura degli elementi della distribuzione. Non è una *robust statistic*."
   ]
  },
  {
   "cell_type": "markdown",
   "metadata": {},
   "source": [
    "$$\\large \\sigma=\\sqrt{\\frac{1}{n}\\sum_{i=1}^{n}(x_i-\\bar{x})^2}$$"
   ]
  },
  {
   "cell_type": "markdown",
   "metadata": {},
   "source": [
    "_Population Standard Deviation con zero gradi di liberà_"
   ]
  },
  {
   "cell_type": "code",
   "execution_count": 41,
   "metadata": {},
   "outputs": [
    {
     "data": {
      "text/plain": [
       "1.3807999538298958"
      ]
     },
     "execution_count": 41,
     "metadata": {},
     "output_type": "execute_result"
    }
   ],
   "source": [
    "tips.tip.std(ddof = 0)"
   ]
  },
  {
   "cell_type": "markdown",
   "metadata": {},
   "source": [
    "_Sample Standard Deviation con un grado di libertà_"
   ]
  },
  {
   "cell_type": "code",
   "execution_count": 42,
   "metadata": {},
   "outputs": [
    {
     "data": {
      "text/plain": [
       "1.3836381890011826"
      ]
     },
     "execution_count": 42,
     "metadata": {},
     "output_type": "execute_result"
    }
   ],
   "source": [
    "tips.tip.std(ddof = 1)"
   ]
  },
  {
   "cell_type": "markdown",
   "metadata": {},
   "source": [
    "<a id=\"coefficient-variation\"></a>"
   ]
  },
  {
   "cell_type": "markdown",
   "metadata": {},
   "source": [
    "Il **Coefficient of Variation** è un indice di variabilità che descrive il rapporto fra la deviazione standard e la media della distribuzione in analisi. E' utile per comparare distribuzioni con medie molto diverse tra loro: in casi del genere, infatti, non ha senso confrontare le deviazioni standard direttamente, poiché esse sono influenzate dall'entità del corrispondente valore centrale.\n",
    "\n",
    "Essendo espresso in forma percentuale, è una statistica *unitless*. Se il risultato dell'operazione, ad esempio, è 15%, possiamo affermare che la il valore della deviazione standard è il 15% della media.\n",
    "\n",
    "Se il sample $A$ presenta $CV=12\\%$ e il sample $B$ presenta $CV=25\\%$, possiamo affermare che $B$ presenta una maggiore variabilità attorno alla propria media se paragonato con $A$.\n",
    "\n",
    "$$\\large \\left( \\frac{\\sigma}{\\mu} \\right)\\times 100 (\\%)$$"
   ]
  },
  {
   "cell_type": "code",
   "execution_count": 43,
   "metadata": {},
   "outputs": [
    {
     "data": {
      "text/plain": [
       "(0.4605308903120568, 0.4490132589117038)"
      ]
     },
     "execution_count": 43,
     "metadata": {},
     "output_type": "execute_result"
    }
   ],
   "source": [
    "stats.variation(a = tips.tip), stats.variation(a = tips.total_bill)"
   ]
  },
  {
   "cell_type": "markdown",
   "metadata": {},
   "source": [
    "---"
   ]
  },
  {
   "cell_type": "markdown",
   "metadata": {},
   "source": [
    "<a id=\"measures-shape\"></a>\n",
    "## Measures of Shape"
   ]
  },
  {
   "cell_type": "markdown",
   "metadata": {},
   "source": [
    "<a id=\"skewness\"></a>"
   ]
  },
  {
   "cell_type": "markdown",
   "metadata": {},
   "source": [
    "La **skewness**, anche detta **simmetry**, è una misura di asimmetria della distribuzione di frequenza dei valori di una variabile. Una distribuzione può essere **left skewed** (la *coda* è verso sinistra), **right-skewed** (la *coda* è verso destra) o **symmetric** (nessuna coda apparente). Nelle distribuzioni *left-skewed*, la *mean* è sempre più piccola della *median*; al contrario, nelle *right-skewed* la *mean* è sempre più grande della *median*. Per ricordarlo, basta immaginare che la *mean* sia come *tirata* nella direzione della coda della distribuzione. In una distribuzione simmetrica, invece, *mean* e *median* sono quasi coincidenti."
   ]
  },
  {
   "cell_type": "markdown",
   "metadata": {},
   "source": [
    "Si calcola con il **Pearson's coefficient of skewness**, definito usando la *sample mean*, la *sample standard deviation* e la *sample median*."
   ]
  },
  {
   "cell_type": "markdown",
   "metadata": {},
   "source": [
    "$$\\large sk=\\frac{3(\\bar{x}-x_{0.5})}{s}$$"
   ]
  },
  {
   "cell_type": "markdown",
   "metadata": {},
   "source": [
    "_Usando skew di scipy abbiamo output nullo per le distribuzioni simmetriche, output positivi per le right-skewed e negativo per le left-skewed_"
   ]
  },
  {
   "cell_type": "code",
   "execution_count": 44,
   "metadata": {},
   "outputs": [
    {
     "data": {
      "text/plain": [
       "1.4564266884221506"
      ]
     },
     "execution_count": 44,
     "metadata": {},
     "output_type": "execute_result"
    }
   ],
   "source": [
    "stats.skew(a = tips.tip)"
   ]
  },
  {
   "cell_type": "code",
   "execution_count": 45,
   "metadata": {},
   "outputs": [
    {
     "data": {
      "image/png": "[encoded data removed]",
      "text/plain": [
       "<Figure size 432x288 with 1 Axes>"
      ]
     },
     "metadata": {
      "needs_background": "light"
     },
     "output_type": "display_data"
    }
   ],
   "source": [
    "sns.histplot(tips.tip)\n",
    "plt.show()"
   ]
  },
  {
   "cell_type": "markdown",
   "metadata": {},
   "source": [
    "---"
   ]
  },
  {
   "cell_type": "markdown",
   "metadata": {},
   "source": [
    "<a id=\"kurtosis\"></a>"
   ]
  },
  {
   "cell_type": "markdown",
   "metadata": {},
   "source": [
    "L'indice di **Kurtosis** può essere utilizzato come misura del grado di somiglianza della distribuzione in oggetto con la distribuzione normale. Più in generale, la *curtosi* fornisce informazioni riguardo l'*altezza* di una distribuzione rispetto al valore della sua deviazione standard.\n",
    "\n",
    "Le distribuzioni possono essere classificate in tre categorie di curtosi: **mesokurtic** (rapporto moderato fra picco e deviazione standard, come ad esempio nella distribuzione normale), **leptokurtic** (particolarmente alte e strette attorno alla media) e **platykurtic** (più larghe e appiattite)."
   ]
  },
  {
   "cell_type": "markdown",
   "metadata": {},
   "source": [
    "L'indice di curtosi si calcola a partire dal momento centrale di ordine 4 e il quadrato della *sample variance*:"
   ]
  },
  {
   "cell_type": "markdown",
   "metadata": {},
   "source": [
    "$$\\large kurt = \\frac{\\sum(x-\\bar{x})^4}{s^4}-3$$"
   ]
  },
  {
   "cell_type": "markdown",
   "metadata": {},
   "source": [
    "Se il coefficiente di curtosi è maggiore di zero, la distribuzione è *leptokurtic*; se è negativo, la distribuzione è *platykurtic*; se è nullo, la distribuzione è *mesokurtic*."
   ]
  },
  {
   "cell_type": "markdown",
   "metadata": {},
   "source": [
    "_Usando kurtosis di scipy abbiamo output nullo per distribuzioni esattamente normali, in particolare se settiamo fisher = True_"
   ]
  },
  {
   "cell_type": "code",
   "execution_count": 46,
   "metadata": {},
   "outputs": [
    {
     "data": {
      "text/plain": [
       "1.1691681323851366"
      ]
     },
     "execution_count": 46,
     "metadata": {},
     "output_type": "execute_result"
    }
   ],
   "source": [
    "stats.kurtosis(a = tips.total_bill, fisher = True)"
   ]
  },
  {
   "cell_type": "code",
   "execution_count": 47,
   "metadata": {},
   "outputs": [
    {
     "data": {
      "image/png": "[encoded data removed]",
      "text/plain": [
       "<Figure size 432x288 with 1 Axes>"
      ]
     },
     "metadata": {
      "needs_background": "light"
     },
     "output_type": "display_data"
    }
   ],
   "source": [
    "sns.histplot(tips.total_bill)\n",
    "plt.show()"
   ]
  },
  {
   "cell_type": "markdown",
   "metadata": {},
   "source": [
    "---"
   ]
  },
  {
   "cell_type": "markdown",
   "metadata": {},
   "source": [
    "<a id=\"measures-concentration\"></a>\n",
    "## Measures of Concentration"
   ]
  },
  {
   "cell_type": "markdown",
   "metadata": {},
   "source": [
    "<a id=\"lorenz-curve\"></a>"
   ]
  },
  {
   "cell_type": "markdown",
   "metadata": {},
   "source": [
    "A differenza delle statistiche di centralità e di dispersione, gli indici di *concentrazione* descrivono la proporzione assunta da ciascun'osservazione rispetto alla somma di tutte le osservazioni analizzate. Uno dei metodi più famosi per trattare analiticamente la *concentration* è la **Lorenz Curve**.\n",
    "\n",
    "Consideriamo una distribuzione ordinata $x_1,\\dots,x_n$, e supponiamo che tutte le osservazioni siano positive (si tratta di un'assunzione forte, ma gli indici di concentrazione hanno senso per variabili quantitative che riflettono delle *count* concrete del mondo reale, che difficilmente sono negative).\n",
    "\n",
    "Per plottare la curva di Lorenz abbiamo bisogno di costruire i due assi. Sulle ascisse posizioniamo $u_i$, definito come la suddivisione dell'intervallo proporzionale $[0, 1]$ in tanti punti quanti sono gli elementi della distribuzione.\n",
    "\n",
    "$$\\large u_i=\\frac{i}{n}\\;\\;\\;\\;\\;i=1,\\dots,n\\;\\;\\;\\;\\;u_0=0$$\n",
    "\n",
    "Sulle ordinate inseriamo $v_i$, definito come la somma cumulativa dei valori della distribuzione fino al corrispondente elemento i-esimo, divisa per la somma di tutti gli elementi della distribuzione.\n",
    "\n",
    "$$\\large v_i=\\frac{\\sum_{i=1}^{i}x_i}{\\sum_{i=1}^{n}x_i}\n",
    "\\;\\;\\;\\;\\;i=1,\\dots,n\\;\\;\\;\\;\\;v_0=0$$"
   ]
  },
  {
   "cell_type": "markdown",
   "metadata": {},
   "source": [
    "Plottare $u_i$ e $v_i$ ci mostra quando la somma cumulativa delle osservazioni fino all'i-esima contribuisca alla somma totale. Se tutte le osservazioni sono identiche, la curva di Lorenz sarà una retta diagonale a 45°, detta *line of equality*.\n",
    "\n",
    "Il generico punto della curva di Lorenz $(u_i,v_i)$ indica che il primo (secondo l'ordinamento) $u_i\\%$ delle osservazioni contiene il $v_i\\%$ del totale d'interesse."
   ]
  },
  {
   "cell_type": "markdown",
   "metadata": {},
   "source": [
    "_Funzione custom per plottare la curva di Lorenz_"
   ]
  },
  {
   "cell_type": "code",
   "execution_count": 48,
   "metadata": {},
   "outputs": [],
   "source": [
    "def plot_lorenz_curve(x):\n",
    "    x.sort()\n",
    "    u = np.array([i/len(x) for i in range(0, len(x)+1)])\n",
    "    v = np.array([np.sum(x[:i]) / np.sum(x) for i in range(0, len(x)+1)])\n",
    "    \n",
    "    fig, ax = plt.subplots(figsize = (8, 6))\n",
    "    ax.plot(u, v, linewidth = 8)\n",
    "    \n",
    "    # Line of Equality\n",
    "    ax.plot([0,1],[0,1], color=\"k\",\n",
    "            alpha=0.5, transform=ax.transAxes,\n",
    "            linestyle = \"--\", linewidth = 1.5)\n",
    "    ax.fill_between(u, v, alpha = 0.5)\n",
    "    plt.xticks(np.arange(0, 1.1, 0.1))\n",
    "    plt.show()"
   ]
  },
  {
   "cell_type": "code",
   "execution_count": 49,
   "metadata": {},
   "outputs": [
    {
     "data": {
      "image/png": "[encoded data removed]",
      "text/plain": [
       "<Figure size 576x432 with 1 Axes>"
      ]
     },
     "metadata": {
      "needs_background": "light"
     },
     "output_type": "display_data"
    }
   ],
   "source": [
    "x = np.array([20, 14, 59, 9, 36, 23, 3], dtype = \"float\")\n",
    "\n",
    "plot_lorenz_curve(x = x)"
   ]
  },
  {
   "cell_type": "markdown",
   "metadata": {},
   "source": [
    "---"
   ]
  },
  {
   "cell_type": "markdown",
   "metadata": {},
   "source": [
    "<a id=\"gini\"></a>"
   ]
  },
  {
   "cell_type": "markdown",
   "metadata": {},
   "source": [
    "Il **Gini Coefficient** è una misura di concentrazione che assume valore nullo in assenza di concentrazione, cioè in perfetta distribuzione delle quantità fra tutte le osservazioni, e valore unitario per la concentrazione estrema. Può essere calcolato in diverse maniere; qui riportiamo una sua formula semplificata per gli scenari a valori tutti positivi:"
   ]
  },
  {
   "cell_type": "markdown",
   "metadata": {},
   "source": [
    "$$\\large G=\\frac{\\sum_{i=1}^{n}(2i-n-1)x_i}{n\\sum_{i=1}^{n}x_i}$$"
   ]
  },
  {
   "cell_type": "markdown",
   "metadata": {},
   "source": [
    "In realtà per ottenere un *gini coefficient* compreso fra zero e uno, dobbiamo standardizzare il risultato dell'ultima computazione. Possiamo farlo moltiplicando $G$ per $n/(n-1)$."
   ]
  },
  {
   "cell_type": "markdown",
   "metadata": {},
   "source": [
    "_Funzione custom per il calcolo del Gini coefficient_"
   ]
  },
  {
   "cell_type": "code",
   "execution_count": 50,
   "metadata": {},
   "outputs": [],
   "source": [
    "def gini(x):\n",
    "    x = x.flatten()\n",
    "    x.sort()\n",
    "    \n",
    "    # No zero values allowed\n",
    "    x += 0.0000001\n",
    "    \n",
    "    idx = np.arange(1, len(x) + 1)\n",
    "    gini = ((np.sum((2 * idx - len(x)  - 1) * x)) / \n",
    "            (len(x) * np.sum(x)))\n",
    "    return gini * ((len(x))/(len(x)-1))"
   ]
  },
  {
   "cell_type": "code",
   "execution_count": 51,
   "metadata": {},
   "outputs": [
    {
     "data": {
      "text/plain": [
       "0.4695121931179358"
      ]
     },
     "execution_count": 51,
     "metadata": {},
     "output_type": "execute_result"
    }
   ],
   "source": [
    "x = np.array([20, 14, 59, 9, 36, 23, 3], dtype = \"float\")\n",
    "\n",
    "gini(x)"
   ]
  },
  {
   "cell_type": "code",
   "execution_count": 52,
   "metadata": {},
   "outputs": [
    {
     "data": {
      "text/plain": [
       "0.028629856727765413"
      ]
     },
     "execution_count": 52,
     "metadata": {},
     "output_type": "execute_result"
    }
   ],
   "source": [
    "x = np.array([23, 24, 22, 24, 22, 25, 23], dtype = \"float\")\n",
    "\n",
    "gini(x)"
   ]
  },
  {
   "cell_type": "code",
   "execution_count": 53,
   "metadata": {},
   "outputs": [
    {
     "data": {
      "text/plain": [
       "0.5624999975390625"
      ]
     },
     "execution_count": 53,
     "metadata": {},
     "output_type": "execute_result"
    }
   ],
   "source": [
    "x = np.array([100, 10, 10, 10, 10, 10, 10], dtype = \"float\")\n",
    "\n",
    "gini(x)"
   ]
  },
  {
   "cell_type": "markdown",
   "metadata": {},
   "source": [
    "---"
   ]
  },
  {
   "cell_type": "markdown",
   "metadata": {},
   "source": [
    "<a id=\"measures-correlation\"></a>\n",
    "## Measures of Correlation"
   ]
  },
  {
   "cell_type": "markdown",
   "metadata": {},
   "source": [
    "<a id=\"covariance\"></a>"
   ]
  },
  {
   "cell_type": "markdown",
   "metadata": {},
   "source": [
    "La **Covariance** è una misura dell'associazione lineare fra due variabili. Un valore positivo indica un'associazione positiva crescente, mentre un valore negativo evidenzia una relazione negativa decrescente. Una covarianza nulla, invece, indica l'assenza di una relazione lineare.\n",
    "\n",
    "La covarianza fornisce indicazioni solo sulla direzione dell'associazione, non sulla forza della stessa."
   ]
  },
  {
   "cell_type": "markdown",
   "metadata": {},
   "source": [
    "$$\\large cov(x,y)=s_{xy}=\\frac{\\sum(x_i-\\bar{x})(y_i-\\bar{y})}{n-1}$$\n",
    "\n",
    "$$\\large cov(x,y)=\\sigma_{xy}=\\frac{\\sum(x_i-\\mu_x)(y_i-\\mu_y)}{N}$$"
   ]
  },
  {
   "cell_type": "markdown",
   "metadata": {},
   "source": [
    "Queste sono le formule per la *sample covariance* e la *population covariance*. A prescindere dalla divisione per il *sample size* meno uno o per la cardinalità della popolazione, il *core* della statistica è il numeratore: si tratta della somma di tutti i prodotti omologhi delle differenze dei valori assunti dalle variabili rispetto ai propri valori medi."
   ]
  },
  {
   "cell_type": "markdown",
   "metadata": {},
   "source": [
    "Quando si lavora con più di due variabili, si è soliti produrre una *matrice di covarianza*: si tratta di una two-way table che mostra le covarianze di ogni singola variabile con tutte le altre.\n",
    "\n",
    "Da notare che la covarianza di una variabile con se stessa coincide con la sua *varianza*, e tale informazione è contenuta nella *covariance matrix* nei valori della diagonale principale."
   ]
  },
  {
   "cell_type": "code",
   "execution_count": 54,
   "metadata": {},
   "outputs": [
    {
     "data": {
      "text/html": [
       "<div>\n",
       "<style scoped>\n",
       "    .dataframe tbody tr th:only-of-type {\n",
       "        vertical-align: middle;\n",
       "    }\n",
       "\n",
       "    .dataframe tbody tr th {\n",
       "        vertical-align: top;\n",
       "    }\n",
       "\n",
       "    .dataframe thead th {\n",
       "        text-align: right;\n",
       "    }\n",
       "</style>\n",
       "<table border=\"1\" class=\"dataframe\">\n",
       "  <thead>\n",
       "    <tr style=\"text-align: right;\">\n",
       "      <th></th>\n",
       "      <th>total_bill</th>\n",
       "      <th>tip</th>\n",
       "      <th>size</th>\n",
       "      <th>day_num</th>\n",
       "    </tr>\n",
       "  </thead>\n",
       "  <tbody>\n",
       "    <tr>\n",
       "      <th>total_bill</th>\n",
       "      <td>79.252939</td>\n",
       "      <td>8.323502</td>\n",
       "      <td>5.065983</td>\n",
       "      <td>1.787153</td>\n",
       "    </tr>\n",
       "    <tr>\n",
       "      <th>tip</th>\n",
       "      <td>8.323502</td>\n",
       "      <td>1.914455</td>\n",
       "      <td>0.643906</td>\n",
       "      <td>0.216686</td>\n",
       "    </tr>\n",
       "    <tr>\n",
       "      <th>size</th>\n",
       "      <td>5.065983</td>\n",
       "      <td>0.643906</td>\n",
       "      <td>0.904591</td>\n",
       "      <td>0.181761</td>\n",
       "    </tr>\n",
       "    <tr>\n",
       "      <th>day_num</th>\n",
       "      <td>1.787153</td>\n",
       "      <td>0.216686</td>\n",
       "      <td>0.181761</td>\n",
       "      <td>1.335813</td>\n",
       "    </tr>\n",
       "  </tbody>\n",
       "</table>\n",
       "</div>"
      ],
      "text/plain": [
       "            total_bill       tip      size   day_num\n",
       "total_bill   79.252939  8.323502  5.065983  1.787153\n",
       "tip           8.323502  1.914455  0.643906  0.216686\n",
       "size          5.065983  0.643906  0.904591  0.181761\n",
       "day_num       1.787153  0.216686  0.181761  1.335813"
      ]
     },
     "execution_count": 54,
     "metadata": {},
     "output_type": "execute_result"
    }
   ],
   "source": [
    "tips.cov()"
   ]
  },
  {
   "cell_type": "markdown",
   "metadata": {},
   "source": [
    "---"
   ]
  },
  {
   "cell_type": "markdown",
   "metadata": {},
   "source": [
    "<a id=\"pearson-correlation\"></a>"
   ]
  },
  {
   "cell_type": "markdown",
   "metadata": {},
   "source": [
    "Date due variabili numeriche, misurarne la **correlation** ci permette di rappresentare quantitativamente l'entità della loro *linear association*.\n",
    "\n",
    "Uno dei metodi per calcolare la *correlation* è il **Pearson's Correlation Coefficient** $R$. Il coefficiente di correlazione di due variabili $x$ e $y$ si calcola come il rapporto fra la loro covarianza ed il prodotto delle singole deviazioni standard.\n",
    "\n",
    "$$\\large R=\\frac{cov(x,y)}{\\sigma_x\\cdot\\sigma_y}$$"
   ]
  },
  {
   "cell_type": "markdown",
   "metadata": {},
   "source": [
    "Analizziamo le proprietà di tale coefficiente:\n",
    "- Il valore assoluto di $R$ misura l'entità dell'associazione lineare fra le variabili.\n",
    "- Il segno di $R$ indica la direzione dell'associazione.\n",
    "- $R$ è sempre compreso fra -1 (associazione lineare negativa perfetta) e +1 (associazione lineare positiva perfetta), dove il valore centrale zero indica *nessuna* relazione fra le variabili.\n",
    "- $R$ non è influenzato dall'unità di misura utilizzata per descrivere i valori assunti dalle variabili; si dice che è *unitless*.\n",
    "- La correlazione di $X$ con $Y$ è la stessa di $Y$ con $X$. E' come dire che *swappare* l'asse $x$ con l'asse $y$ non influenza il valore di $R$.\n",
    "- $R$ dipende molto dagli outlier: anche un solo valore estremo può far crollare la correlazione di molti punti."
   ]
  },
  {
   "cell_type": "markdown",
   "metadata": {},
   "source": [
    "Ricordiamo, inoltre, che la forza della correlazione non indica necessariamente che tale correlazione fra le variabili sia statisticamente significativa; dipende tutto dal *sample size*.\n",
    "\n",
    "Possiamo affermare che esista realmente una relazione fra le due variabili in oggetto se il valore assoluto del coefficiente di correlazione è maggiore o uguale rispetto a $2/\\sqrt{n}$\n",
    "\n",
    "$$\\large |R|\\geq \\frac{2}{\\sqrt{n}}$$"
   ]
  },
  {
   "cell_type": "markdown",
   "metadata": {},
   "source": [
    "_Matrice di correlazione_"
   ]
  },
  {
   "cell_type": "code",
   "execution_count": 55,
   "metadata": {},
   "outputs": [
    {
     "data": {
      "text/html": [
       "<div>\n",
       "<style scoped>\n",
       "    .dataframe tbody tr th:only-of-type {\n",
       "        vertical-align: middle;\n",
       "    }\n",
       "\n",
       "    .dataframe tbody tr th {\n",
       "        vertical-align: top;\n",
       "    }\n",
       "\n",
       "    .dataframe thead th {\n",
       "        text-align: right;\n",
       "    }\n",
       "</style>\n",
       "<table border=\"1\" class=\"dataframe\">\n",
       "  <thead>\n",
       "    <tr style=\"text-align: right;\">\n",
       "      <th></th>\n",
       "      <th>total_bill</th>\n",
       "      <th>tip</th>\n",
       "      <th>size</th>\n",
       "      <th>day_num</th>\n",
       "    </tr>\n",
       "  </thead>\n",
       "  <tbody>\n",
       "    <tr>\n",
       "      <th>total_bill</th>\n",
       "      <td>1.000000</td>\n",
       "      <td>0.675734</td>\n",
       "      <td>0.598315</td>\n",
       "      <td>0.173693</td>\n",
       "    </tr>\n",
       "    <tr>\n",
       "      <th>tip</th>\n",
       "      <td>0.675734</td>\n",
       "      <td>1.000000</td>\n",
       "      <td>0.489299</td>\n",
       "      <td>0.135499</td>\n",
       "    </tr>\n",
       "    <tr>\n",
       "      <th>size</th>\n",
       "      <td>0.598315</td>\n",
       "      <td>0.489299</td>\n",
       "      <td>1.000000</td>\n",
       "      <td>0.165350</td>\n",
       "    </tr>\n",
       "    <tr>\n",
       "      <th>day_num</th>\n",
       "      <td>0.173693</td>\n",
       "      <td>0.135499</td>\n",
       "      <td>0.165350</td>\n",
       "      <td>1.000000</td>\n",
       "    </tr>\n",
       "  </tbody>\n",
       "</table>\n",
       "</div>"
      ],
      "text/plain": [
       "            total_bill       tip      size   day_num\n",
       "total_bill    1.000000  0.675734  0.598315  0.173693\n",
       "tip           0.675734  1.000000  0.489299  0.135499\n",
       "size          0.598315  0.489299  1.000000  0.165350\n",
       "day_num       0.173693  0.135499  0.165350  1.000000"
      ]
     },
     "execution_count": 55,
     "metadata": {},
     "output_type": "execute_result"
    }
   ],
   "source": [
    "tips.corr(method = \"pearson\")"
   ]
  },
  {
   "cell_type": "markdown",
   "metadata": {},
   "source": [
    "_Calcolo diretto del coefficiente di correlazione con scipy, indicando esplicitamente le variabili d'interesse._"
   ]
  },
  {
   "cell_type": "code",
   "execution_count": 56,
   "metadata": {},
   "outputs": [
    {
     "data": {
      "text/plain": [
       "0.6757341092113645"
      ]
     },
     "execution_count": 56,
     "metadata": {},
     "output_type": "execute_result"
    }
   ],
   "source": [
    "R, __ = stats.pearsonr(x = tips.tip,\n",
    "                       y = tips.total_bill)\n",
    "R"
   ]
  },
  {
   "cell_type": "markdown",
   "metadata": {},
   "source": [
    "---"
   ]
  },
  {
   "cell_type": "markdown",
   "metadata": {},
   "source": [
    "<a id=\"spearman-correlation\"></a>"
   ]
  },
  {
   "cell_type": "markdown",
   "metadata": {},
   "source": [
    "Il coefficiente di **correlazione** di **Spearman** è utilizzato quando abbiamo a disposizione i dati di due variabili in formato *ranking*, e non abbiamo informazioni sui corrispondenti valori reali. La correlazione di *Spearman* si basa solo sulla differenza dei rank omologhi e sul sample size."
   ]
  },
  {
   "cell_type": "markdown",
   "metadata": {},
   "source": [
    "$$\\large R=\\frac{6\\cdot \\sum_{i=1}^{n}Rank(X_{1i})-Rank(X_{2i})}\n",
    "{n(n^2-1)}$$"
   ]
  },
  {
   "cell_type": "markdown",
   "metadata": {},
   "source": [
    "Il vantaggio di questa tecnica di correlazione è che può essere utilizzata sia per variabili continue che ordinali. L'interpretazione non cambia, dato che può assumere valori fra -1 e +1, è simmetrica, non è influenzata dall'ordinamento ascendente o decrescente dei *ranks* ed è *unitless*.\n",
    "\n",
    "Un'altra caratteristica importante è legata al tipo di relazione individuata: il coefficiente di *Spearman* rileva un qualsiasi tipo di associazione fra le variabili coinvolte, non solo quella lineare."
   ]
  },
  {
   "cell_type": "markdown",
   "metadata": {},
   "source": [
    "_Matrice di correlazione di Spearman_"
   ]
  },
  {
   "cell_type": "code",
   "execution_count": 57,
   "metadata": {},
   "outputs": [
    {
     "data": {
      "text/html": [
       "<div>\n",
       "<style scoped>\n",
       "    .dataframe tbody tr th:only-of-type {\n",
       "        vertical-align: middle;\n",
       "    }\n",
       "\n",
       "    .dataframe tbody tr th {\n",
       "        vertical-align: top;\n",
       "    }\n",
       "\n",
       "    .dataframe thead th {\n",
       "        text-align: right;\n",
       "    }\n",
       "</style>\n",
       "<table border=\"1\" class=\"dataframe\">\n",
       "  <thead>\n",
       "    <tr style=\"text-align: right;\">\n",
       "      <th></th>\n",
       "      <th>total_bill</th>\n",
       "      <th>tip</th>\n",
       "      <th>size</th>\n",
       "      <th>day_num</th>\n",
       "    </tr>\n",
       "  </thead>\n",
       "  <tbody>\n",
       "    <tr>\n",
       "      <th>total_bill</th>\n",
       "      <td>1.000000</td>\n",
       "      <td>0.678968</td>\n",
       "      <td>0.604791</td>\n",
       "      <td>0.195085</td>\n",
       "    </tr>\n",
       "    <tr>\n",
       "      <th>tip</th>\n",
       "      <td>0.678968</td>\n",
       "      <td>1.000000</td>\n",
       "      <td>0.468268</td>\n",
       "      <td>0.178553</td>\n",
       "    </tr>\n",
       "    <tr>\n",
       "      <th>size</th>\n",
       "      <td>0.604791</td>\n",
       "      <td>0.468268</td>\n",
       "      <td>1.000000</td>\n",
       "      <td>0.235459</td>\n",
       "    </tr>\n",
       "    <tr>\n",
       "      <th>day_num</th>\n",
       "      <td>0.195085</td>\n",
       "      <td>0.178553</td>\n",
       "      <td>0.235459</td>\n",
       "      <td>1.000000</td>\n",
       "    </tr>\n",
       "  </tbody>\n",
       "</table>\n",
       "</div>"
      ],
      "text/plain": [
       "            total_bill       tip      size   day_num\n",
       "total_bill    1.000000  0.678968  0.604791  0.195085\n",
       "tip           0.678968  1.000000  0.468268  0.178553\n",
       "size          0.604791  0.468268  1.000000  0.235459\n",
       "day_num       0.195085  0.178553  0.235459  1.000000"
      ]
     },
     "execution_count": 57,
     "metadata": {},
     "output_type": "execute_result"
    }
   ],
   "source": [
    "tips.corr(method = \"spearman\")"
   ]
  },
  {
   "cell_type": "markdown",
   "metadata": {},
   "source": [
    "_Calcolo diretto del coefficiente di correlazione con scipy, indicando esplicitamente le variabili d'interesse._"
   ]
  },
  {
   "cell_type": "code",
   "execution_count": 58,
   "metadata": {},
   "outputs": [
    {
     "data": {
      "text/plain": [
       "0.6789681219001009"
      ]
     },
     "execution_count": 58,
     "metadata": {},
     "output_type": "execute_result"
    }
   ],
   "source": [
    "R, __ = stats.spearmanr(a = tips.tip,\n",
    "                        b = tips.total_bill)\n",
    "R"
   ]
  },
  {
   "cell_type": "markdown",
   "metadata": {},
   "source": [
    "---"
   ]
  },
  {
   "cell_type": "markdown",
   "metadata": {},
   "source": [
    "<a id=\"pearson-chisq-statistic\"></a>"
   ]
  },
  {
   "cell_type": "markdown",
   "metadata": {},
   "source": [
    "La $\\chi^2$ **statistic** si utilizza per misurare il grado di associazione fra variabili discrete.\n",
    "\n",
    "Il suo calcolo è incentrato sull'entità della differenza degli *observed counts* relativi alle variabili categoriche in analisi rispetto agli *expected counts*.\n",
    "\n",
    "La *chi-square statistic*, a livello concettuale, si calcola come la sommatoria, per tutti i livelli delle variabili categoriche, del rapporto fra la differenza di *observed* ed *expected* al quadrato, normalizzata per gli *expected*.\n",
    "\n",
    "$$\\large \\chi^2=\\sum\\frac{(Obs-Exp)^2}{Exp}$$\n",
    "\n",
    "L'idea del coefficiente $\\chi^2$ è che, se l'associazione fra le due variabili è molto forte, allora le deviazioni delle frequenze osservate rispetto a quelle attese saranno particolarmente alte, dato che le frequenze attese saranno calcolate sulla base della piena indipendenza fra le variabili. Specifichiamo, inoltre, che il $\\chi^2$ è simmetrico, cioè assume lo stesso valore a prescindere dall'ordinamento delle variabili discrete."
   ]
  },
  {
   "cell_type": "markdown",
   "metadata": {},
   "source": [
    "Più precisamente, data una *contingency table* con $k$ righe e $t$ colonne, il suo valore può essere ricavato dalla seguente doppia sommatoria:\n",
    "\n",
    "$$\\large \\chi^2=\\sum_{i=1}^{k}\\sum_{j=1}^{t}\n",
    "\\frac{(count(i,j)-expected(i,j)^2}{expected(i,j)}$$"
   ]
  },
  {
   "cell_type": "markdown",
   "metadata": {},
   "source": [
    "Il valore di $count(i,j)$ è semplicemente il valore della tabella che incrocia il valore i-esimo della variabile in righe ed il valore j-esimo della variabile in colonne.\n",
    "\n",
    "Il valore di $expected(i,j)$, invece, più formalmente prende il nome di **expected absolute frequency under independence**, e si calcola come il prodotto delle **marginal frequency** del valore i-esimo della variabile in righe e del valore j-esimo della variabile in colonne, diviso per la cardinalità totale del dataset in oggetto.\n",
    "\n",
    "$$\\large expected(i,j)=\\frac{RowCount(i)\\times ColumnCount(j)}{n}$$\n",
    "\n",
    "Come suggerisce il nome, questa formula ci permette di calcolare il valore atteso che l'incrocio $i,j$ della matrice dovrebbe assumere se le due variabili analizzate fossero interamente indipendenti."
   ]
  },
  {
   "cell_type": "markdown",
   "metadata": {},
   "source": [
    "La $\\chi^2$ può assumere valori solo all'interno di un certo range:\n",
    "\n",
    "$$\\large 0\\leq \\chi^2 \\leq n\\times(min(k, t)-1)$$\n",
    "\n",
    "Un valore di $\\chi^2$ vicino allo zero indica un'associazione molto debole fra le variabili; al contrario, più il suo valore è vicino all'estremo superiore, più *forte* sarà l'associazione fra le variabili."
   ]
  },
  {
   "cell_type": "markdown",
   "metadata": {},
   "source": [
    "Esiste anche un'altra statistica, la **Cramer's $V$ Statistic**, che normalizza il valore di $\\chi^2$ sull'intervallo $[0,1]$.\n",
    "\n",
    "$$\\large V=\\sqrt{\\frac{\\chi^2}{n\\times(min(k, t)-1)}}$$"
   ]
  },
  {
   "cell_type": "markdown",
   "metadata": {},
   "source": [
    "---"
   ]
  },
  {
   "cell_type": "markdown",
   "metadata": {},
   "source": [
    "<a id=\"permutations\"></a>\n",
    "## Permutations"
   ]
  },
  {
   "cell_type": "markdown",
   "metadata": {},
   "source": [
    "Dato un insieme di $n$ elementi, ogni composizione *ordinata* di tali elementi prende il nome di **permutation**. \n",
    "\n",
    "Se tutti gli elementi sono distinguibili, si parla di *permutation* **without replacement**; in caso contrario, se alcuni o tutti gli elementi non sono distinguibili, si parla di *permutation* **with replacement**."
   ]
  },
  {
   "cell_type": "markdown",
   "metadata": {},
   "source": [
    "Se gli $n$ elementi sono distinguibili, il numero di *permutation* è pari a:"
   ]
  },
  {
   "cell_type": "markdown",
   "metadata": {},
   "source": [
    "$$\\large n!$$"
   ]
  },
  {
   "cell_type": "markdown",
   "metadata": {},
   "source": [
    "Se gli $n$ elementi non sono tutti distinguibili, questi vanno opportunamente divisi in gruppi in modo che siano questi ultimi ad essere distinguibili. Se abbiamo quindi a disposizione $s$ gruppi, il numero di *permutation* è pari a:"
   ]
  },
  {
   "cell_type": "markdown",
   "metadata": {},
   "source": [
    "$$\\large \\frac{n!}{n_1!\\times \\dots n_s!}$$"
   ]
  },
  {
   "cell_type": "markdown",
   "metadata": {},
   "source": [
    "_Funzione custom per costruire permutazioni **With** e **Without** Replacement_"
   ]
  },
  {
   "cell_type": "code",
   "execution_count": 59,
   "metadata": {},
   "outputs": [],
   "source": [
    "def permus(data, replacement = False):\n",
    "    if replacement:\n",
    "        freqs_fact = [math.factorial(val) for val in\n",
    "            pd.Series(data).value_counts().values]\n",
    "        perms_num = int(math.factorial(len(data)) / np.prod(freqs_fact))\n",
    "        print(f\"Permutations With Replacement: {perms_num}\")\n",
    "        for perm in set(list(permutations(data))):\n",
    "            print(f\"- {perm}\")\n",
    "    else:\n",
    "        perms_num = math.factorial(len(data))\n",
    "        print(f\"Permutations Without Replacement: {perms_num}\")\n",
    "        for perm in permutations(data):\n",
    "            print(f\"- {perm}\")"
   ]
  },
  {
   "cell_type": "markdown",
   "metadata": {},
   "source": [
    "**Esempio**: Ho 3 città candidate per ospitare le Olimpiadi. Voglio sapere tutti i possibili ranking dal primo al terzo posto."
   ]
  },
  {
   "cell_type": "code",
   "execution_count": 60,
   "metadata": {},
   "outputs": [
    {
     "name": "stdout",
     "output_type": "stream",
     "text": [
      "Permutations Without Replacement: 6\n",
      "- ('Milan', 'Tokyo', 'New York')\n",
      "- ('Milan', 'New York', 'Tokyo')\n",
      "- ('Tokyo', 'Milan', 'New York')\n",
      "- ('Tokyo', 'New York', 'Milan')\n",
      "- ('New York', 'Milan', 'Tokyo')\n",
      "- ('New York', 'Tokyo', 'Milan')\n"
     ]
    }
   ],
   "source": [
    "permus(data = [\"Milan\", \"Tokyo\", \"New York\"])"
   ]
  },
  {
   "cell_type": "markdown",
   "metadata": {},
   "source": [
    "**Esempio**: Ho a disposizione tre sfere: due di queste sono nere, una è bianca. Voglio sapere il numero di possibili combinazioni per ordinarle."
   ]
  },
  {
   "cell_type": "code",
   "execution_count": 61,
   "metadata": {},
   "outputs": [
    {
     "name": "stdout",
     "output_type": "stream",
     "text": [
      "Permutations With Replacement: 3\n",
      "- ('N', 'N', 'B')\n",
      "- ('N', 'B', 'N')\n",
      "- ('B', 'N', 'N')\n"
     ]
    }
   ],
   "source": [
    "permus(data = [\"N\", \"B\", \"N\"], replacement = True)"
   ]
  },
  {
   "cell_type": "markdown",
   "metadata": {},
   "source": [
    "---"
   ]
  },
  {
   "cell_type": "markdown",
   "metadata": {},
   "source": [
    "<a id=\"combinations\"></a>\n",
    "## Combinations"
   ]
  },
  {
   "cell_type": "markdown",
   "metadata": {},
   "source": [
    "Le **combinazioni** sono definite come il numero di modi con cui un certo numero di oggetti **sotto forma di gruppo** può essere selezionato a partire da un insieme più grande di oggetti.\n",
    "\n",
    "In altre parole, se disponiamo di $n$ oggetti, le combinazioni sono tutti i possibili **gruppi** di dimensione $k$ che si riescono a formare (con $k$ che può anche essere uguale ad $n$), evitando di inserire alcun duplicato nei singoli gruppi."
   ]
  },
  {
   "cell_type": "markdown",
   "metadata": {},
   "source": [
    "In assenza di *replacement* e quando l'ordine degli elementi del gruppo non è rilevante, il numero di combinazioni distinguibili di $k$ elementi componibili dagli $n$ elementi totali è pari a:"
   ]
  },
  {
   "cell_type": "markdown",
   "metadata": {},
   "source": [
    "$$\\large \\left(\\begin{array}\\\\n\\\\k\\end{array}\\right)=\\frac{n!}{k!(n-k)!}$$"
   ]
  },
  {
   "cell_type": "markdown",
   "metadata": {},
   "source": [
    "In assenza di *replacement*, ma nel momento in cui l'ordine di inserimento nel gruppo ha un significato, il numero di combinazioni possibili è pari a:"
   ]
  },
  {
   "cell_type": "markdown",
   "metadata": {},
   "source": [
    "$$\\large \\left(\\begin{array}\\\\n\\\\k\\end{array}\\right)k!=\\frac{n!}{(n-k)!}$$"
   ]
  },
  {
   "cell_type": "markdown",
   "metadata": {},
   "source": [
    "In presenza di *replacement* e quando l'ordine degli elementi del gruppo non è rilevante, il numero di combinazioni possibili è pari a:"
   ]
  },
  {
   "cell_type": "markdown",
   "metadata": {},
   "source": [
    "$$\\large \\left(\\begin{array}\\\\n+k-1\\\\k\\end{array}\\right)=\n",
    "\\frac{(n+k-1)!}{k!(n-1)!}$$"
   ]
  },
  {
   "cell_type": "markdown",
   "metadata": {},
   "source": [
    "In presenza di *replacement* e nel momento in cui l'ordine di inserimento degli elementi nel gruppo ha un significato, il numero di combinazioni possibili è pari a:"
   ]
  },
  {
   "cell_type": "markdown",
   "metadata": {},
   "source": [
    "$$\\large n^k$$"
   ]
  },
  {
   "cell_type": "markdown",
   "metadata": {},
   "source": [
    "_Funzione custom per costruire combinazioni al variare del vincolo di replacement e di ordinamento._"
   ]
  },
  {
   "cell_type": "code",
   "execution_count": 62,
   "metadata": {},
   "outputs": [],
   "source": [
    "def combos(data, k, replacement = False, order_relevant = False):\n",
    "    if not replacement and not order_relevant:\n",
    "        combos_num = binom(len(data), k)\n",
    "        combos = list(combinations(data, k))\n",
    "        print(f\"Combinations without replacement and with order not relevant: {combos_num}\")\n",
    "        \n",
    "    if not replacement and order_relevant:\n",
    "        combos_num = binom(len(data), k) * math.factorial(k)\n",
    "        combos = [perm for combo in list(combinations(data, k)) \n",
    "                  for perm in list(permutations(combo))]\n",
    "        print(f\"Combinations without replacement and with order relevant: {combos_num}\")\n",
    "        \n",
    "    if replacement and not order_relevant:\n",
    "        combos_num = binom(len(data) + k - 1, k)\n",
    "        combos = list(combinations_with_replacement(data, k))\n",
    "        print(f\"Combinations with replacement and with order not relevant: {combos_num}\")\n",
    "        \n",
    "    if replacement and order_relevant:\n",
    "        combos_num = np.power(len(data), k)\n",
    "        combos = set([perm\n",
    "                      for combo in list(combinations_with_replacement(data, k))\n",
    "                      for perm in list(permutations(combo))])\n",
    "        print(f\"Combinations with replacement and with order relevant: {combos_num}\")\n",
    "        \n",
    "    for combo in combos:\n",
    "        print(f\"- {combo}\")"
   ]
  },
  {
   "cell_type": "markdown",
   "metadata": {},
   "source": [
    "**Esempio**: Di 4 squadre totali, 2 di esse possono essere promosse. Voglio conoscere tutte le possibili combinazioni di squadre promosse. Siccome ogni squadra non può essere promossa due volte, non c'è *replacement*."
   ]
  },
  {
   "cell_type": "code",
   "execution_count": 63,
   "metadata": {},
   "outputs": [
    {
     "name": "stdout",
     "output_type": "stream",
     "text": [
      "Combinations without replacement and with order not relevant: 6.0\n",
      "- ('Juventus', 'Milan')\n",
      "- ('Juventus', 'Inter')\n",
      "- ('Juventus', 'Napoli')\n",
      "- ('Milan', 'Inter')\n",
      "- ('Milan', 'Napoli')\n",
      "- ('Inter', 'Napoli')\n"
     ]
    }
   ],
   "source": [
    "teams = [\"Juventus\", \"Milan\", \"Inter\", \"Napoli\"]\n",
    "\n",
    "combos(data = teams, k = 2, replacement = False, order_relevant = False)"
   ]
  },
  {
   "cell_type": "markdown",
   "metadata": {},
   "source": [
    "**Esempio**: Di 20 squadre totali, voglio conoscere tutte le combinazioni possibili dei primi tre posti. Non c'è replacement, ma l'ordine ha importanza."
   ]
  },
  {
   "cell_type": "code",
   "execution_count": 64,
   "metadata": {},
   "outputs": [
    {
     "name": "stdout",
     "output_type": "stream",
     "text": [
      "Combinations without replacement and with order relevant: 12.0\n",
      "- ('Juventus', 'Milan')\n",
      "- ('Milan', 'Juventus')\n",
      "- ('Juventus', 'Inter')\n",
      "- ('Inter', 'Juventus')\n",
      "- ('Juventus', 'Napoli')\n",
      "- ('Napoli', 'Juventus')\n",
      "- ('Milan', 'Inter')\n",
      "- ('Inter', 'Milan')\n",
      "- ('Milan', 'Napoli')\n",
      "- ('Napoli', 'Milan')\n",
      "- ('Inter', 'Napoli')\n",
      "- ('Napoli', 'Inter')\n"
     ]
    }
   ],
   "source": [
    "teams = [\"Juventus\", \"Milan\", \"Inter\", \"Napoli\"]\n",
    "\n",
    "combos(data = teams, k = 2, replacement = False, order_relevant = True)"
   ]
  },
  {
   "cell_type": "markdown",
   "metadata": {},
   "source": [
    "**Esempio**: Un contadino ha due campi, e può coltivare un prodotto per campo. Ci sono 4 prodotti totali tra cui può scegliere. Voglio conoscere tutte le combinazioni possibili di prodotti assegnati ai campi. Qui c'è *replacement* perché potrebbe voler coltivare lo stesso prodotto in entrambi i campi, ma l'ordinamento non ha importanza, nel senso che non fa differenza coltivare un certo prodotto nel primo o nel secondo campo."
   ]
  },
  {
   "cell_type": "code",
   "execution_count": 65,
   "metadata": {},
   "outputs": [
    {
     "name": "stdout",
     "output_type": "stream",
     "text": [
      "Combinations with replacement and with order not relevant: 10.0\n",
      "- ('Rose', 'Rose')\n",
      "- ('Rose', 'Violet')\n",
      "- ('Rose', 'Sunflower')\n",
      "- ('Rose', 'Daisy')\n",
      "- ('Violet', 'Violet')\n",
      "- ('Violet', 'Sunflower')\n",
      "- ('Violet', 'Daisy')\n",
      "- ('Sunflower', 'Sunflower')\n",
      "- ('Sunflower', 'Daisy')\n",
      "- ('Daisy', 'Daisy')\n"
     ]
    }
   ],
   "source": [
    "flowers = [\"Rose\", \"Violet\", \"Sunflower\", \"Daisy\"]\n",
    "\n",
    "combos(data = flowers, k = 2, replacement = True, order_relevant = False)"
   ]
  },
  {
   "cell_type": "markdown",
   "metadata": {},
   "source": [
    "**Esempio**: Il numero di possibili combinazioni di un PIN di 4 cifre."
   ]
  },
  {
   "cell_type": "code",
   "execution_count": 66,
   "metadata": {},
   "outputs": [
    {
     "name": "stdout",
     "output_type": "stream",
     "text": [
      "Combinations with replacement and with order relevant: 16\n",
      "- (0, 0, 0, 1)\n",
      "- (0, 0, 1, 0)\n",
      "- (0, 1, 0, 1)\n",
      "- (0, 1, 1, 1)\n",
      "- (1, 0, 1, 1)\n",
      "- (1, 1, 0, 0)\n",
      "- (0, 1, 0, 0)\n",
      "- (1, 1, 1, 0)\n",
      "- (0, 1, 1, 0)\n",
      "- (0, 0, 0, 0)\n",
      "- (1, 0, 1, 0)\n",
      "- (1, 0, 0, 1)\n",
      "- (1, 1, 0, 1)\n",
      "- (1, 0, 0, 0)\n",
      "- (0, 0, 1, 1)\n",
      "- (1, 1, 1, 1)\n"
     ]
    }
   ],
   "source": [
    "digits = [0, 1]\n",
    "\n",
    "combos(data = digits, k = 4, replacement = True, order_relevant = True)"
   ]
  },
  {
   "cell_type": "markdown",
   "metadata": {},
   "source": [
    "---"
   ]
  }
 ],
 "metadata": {
  "kernelspec": {
   "display_name": "Python 3",
   "language": "python",
   "name": "python3"
  },
  "language_info": {
   "codemirror_mode": {
    "name": "ipython",
    "version": 3
   },
   "file_extension": ".py",
   "mimetype": "text/x-python",
   "name": "python",
   "nbconvert_exporter": "python",
   "pygments_lexer": "ipython3",
   "version": "3.8.5"
  }
 },
 "nbformat": 4,
 "nbformat_minor": 4
}
