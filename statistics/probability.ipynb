{
 "cells": [
  {
   "cell_type": "markdown",
   "metadata": {},
   "source": [
    "# Stats Codebook - Probability"
   ]
  },
  {
   "cell_type": "markdown",
   "metadata": {},
   "source": [
    "---"
   ]
  },
  {
   "cell_type": "markdown",
   "metadata": {},
   "source": [
    "## Contents"
   ]
  },
  {
   "cell_type": "markdown",
   "metadata": {},
   "source": [
    "- [Events](#events)\n",
    "- [Frequentist Definition](#frequentist-definition)\n",
    "- [Addition Theorem](#addition-theorem)\n",
    "- [Conditional Probability](#conditional-probability) \n",
    "- [Multiplication Theorem](#multiplication-theorem)\n",
    "- [Independence](#independence)\n",
    "- [Probability Axioms & Properties](#probability-axioms)\n",
    "- [Bayes Theorem](#bayes-theorem)"
   ]
  },
  {
   "cell_type": "markdown",
   "metadata": {},
   "source": [
    "---"
   ]
  },
  {
   "cell_type": "markdown",
   "metadata": {},
   "source": [
    "<a id=\"events\"></a>\n",
    "## Events"
   ]
  },
  {
   "cell_type": "markdown",
   "metadata": {},
   "source": [
    "Dato un *random experiment*, i suoi possibili *outcome* si chiamano **simple events**, mentre l'insieme di tutti i *simple events* prende il nome di **sample space**.\n",
    "\n",
    "Ogni possibile sottoinsieme del *sample space*, anche se di cardinalità unitaria, prende il nome di **event**.\n",
    "\n",
    "Dato un certo evento $A$, si definisce **complementary event** l'evento che contiene tutti i *simple event* del *sample space* che non sono contenuti in $A$, e si denota con $A^C$ o $\\bar{A}$.\n",
    "\n",
    "Anche l'intero *sample space* può essere un evento, e si chiama **sure event**. Anche il sottoinsieme vuoto del *sample space* è un evento, e si chiama **impossible event**."
   ]
  },
  {
   "cell_type": "markdown",
   "metadata": {},
   "source": [
    "L'**unione** di due eventi $A\\;or\\;B$ è l'insieme di tutti i *simple events* che appartengono solo ad $A$, solo a $B$ o ad entrambi.\n",
    "\n",
    "L'unione di $A$ con il suo complemento coincide con l'intero *sample space*, cioè $A\\;or\\;A^C=\\Omega$.\n",
    "\n",
    "L'**intersezione** di due eventi $A\\;and\\;B$ è l'insieme di tutti i *simple events* che appartengono sia ad $A$ che a $B$.\n",
    "\n",
    "L'intersezione di $A$ con il suo complemento coincide con l'*impossible event*, cioè $A\\;and\\;A^C=\\emptyset$\n",
    "\n",
    "Dati due eventi $A$ e $B$, la loro **differenza** $A-B$ è quell'evento che contiene tutti i *simple event* di $A$ che non sono contenuti in $B$.\n",
    "\n",
    "Dati due eventi $A$ e $B$, si dice che $A$ è un sottoinsieme di $B$, cioè $A\\subseteq B$ se tutti i *simple event* di $A$ appartengono anche a $B$."
   ]
  },
  {
   "cell_type": "markdown",
   "metadata": {},
   "source": [
    "Due eventi $A$ e $B$ si dicono **disjoint** se non possono verificarsi allo stesso tempo."
   ]
  },
  {
   "cell_type": "markdown",
   "metadata": {},
   "source": [
    "$$\\large A\\;and\\;B=\\emptyset$$"
   ]
  },
  {
   "cell_type": "markdown",
   "metadata": {},
   "source": [
    "Due eventi **non-disjoint** possono verificarsi allo stesso tempo, e quindi $A\\;and\\;B\\neq\\emptyset$."
   ]
  },
  {
   "cell_type": "markdown",
   "metadata": {},
   "source": [
    "---"
   ]
  },
  {
   "cell_type": "markdown",
   "metadata": {},
   "source": [
    "<a id=\"frequentist-definition\"></a>\n",
    "## Frequentist Definition"
   ]
  },
  {
   "cell_type": "markdown",
   "metadata": {},
   "source": [
    "Se un esperimento è ripetuto $n$ volte, la frequenza relativa del suo generico *outcome* $A$ è pari al rapporto fra il numero di volte che si è verificato (la sua frequenza assoluta) ed il numero totale di *trials* eseguiti."
   ]
  },
  {
   "cell_type": "markdown",
   "metadata": {},
   "source": [
    "$$\\large f(A)=\\frac{n_A}{n}$$"
   ]
  },
  {
   "cell_type": "markdown",
   "metadata": {},
   "source": [
    "Ripetendo l'esperimento un numero indefinito di volte, si nota come la frequenza relativa del generico evento $A$ converga ad un certo valore. Questa frequenza relativa limite è interpretata come la **probabilità** di occorrenza dell'evento $A$."
   ]
  },
  {
   "cell_type": "markdown",
   "metadata": {},
   "source": [
    "$$\\large P(A)=lim_{n\\rightarrow\\infty}\\frac{n_A}{n}$$"
   ]
  },
  {
   "cell_type": "markdown",
   "metadata": {},
   "source": [
    "La definizione frequentista si basa sulla **Law of Large Numbers**: più osservazioni sono raccolte da un *random experiment*, più la proporzione di occorrenze di un particolare *outcome* tende a convergere alla sua probabilità di occorrenza."
   ]
  },
  {
   "cell_type": "markdown",
   "metadata": {},
   "source": [
    "---"
   ]
  },
  {
   "cell_type": "markdown",
   "metadata": {},
   "source": [
    "<a id=\"addition-theorem\"></a>\n",
    "## Addition Theorem"
   ]
  },
  {
   "cell_type": "markdown",
   "metadata": {},
   "source": [
    "Dati due eventi $A$ e $B$, la probabilità di occorrenza del loro evento unione è pari alla somma delle singole probabilità di occorrenza meno la probabilità di occorrenza del loro evento intersezione.\n",
    "\n",
    "La probabilità di occorrenza dell'evento unione di due eventi va interpretata come la probabilità che almeno uno di essi si verifichi."
   ]
  },
  {
   "cell_type": "markdown",
   "metadata": {},
   "source": [
    "$$\\large P(A\\;or\\;B)=P(A)+P(B)-P(A\\;and\\;B)$$"
   ]
  },
  {
   "cell_type": "markdown",
   "metadata": {},
   "source": [
    "Dati due eventi disgiunti, la probabilità di occorrenza del loro evento intersezione è nulla. In questo caso, l'*Addition Theorem* diventa:"
   ]
  },
  {
   "cell_type": "markdown",
   "metadata": {},
   "source": [
    "$$\\large P(A\\;or\\;B)=P(A)+P(B)$$"
   ]
  },
  {
   "cell_type": "markdown",
   "metadata": {},
   "source": [
    "---"
   ]
  },
  {
   "cell_type": "markdown",
   "metadata": {},
   "source": [
    "<a id=\"conditional-probability\"></a>\n",
    "## Conditional Probability"
   ]
  },
  {
   "cell_type": "markdown",
   "metadata": {},
   "source": [
    "La **conditional probability** di un evento $A$ dato il verificarsi di un evento $B$ è pari al rapporto fra la probabilità congiunta dei due eventi e la probabilità dell'evento condizionante, cioè $B$."
   ]
  },
  {
   "cell_type": "markdown",
   "metadata": {},
   "source": [
    "$$\\large P(A|B)=\\frac{P(A\\;and\\;B)}{P(B)}$$"
   ]
  },
  {
   "cell_type": "markdown",
   "metadata": {},
   "source": [
    "Il ruolo di $A$ e $B$ è interscambiabile, nel senso che la seguente formulazione è comunque valida:"
   ]
  },
  {
   "cell_type": "markdown",
   "metadata": {},
   "source": [
    "$$\\large P(B|A)=\\frac{P(A\\;and\\;B)}{P(A)}$$"
   ]
  },
  {
   "cell_type": "markdown",
   "metadata": {},
   "source": [
    "---"
   ]
  },
  {
   "cell_type": "markdown",
   "metadata": {},
   "source": [
    "<a id=\"multiplication-theorem\"></a>\n",
    "## Multiplication Theorem"
   ]
  },
  {
   "cell_type": "markdown",
   "metadata": {},
   "source": [
    "Dati due eventi $A$ e $B$, la probabilità che si verifichino entrambi dipende dalla probabilità di occorrenza di uno di essi dato il verificarsi dell'altro.\n",
    "\n",
    "In altre parole, la probabilità di occorrenza congiunta può essere ricavata come la probabilità condizionata di $A$ dato il verificarsi di $B$, moltiplicata per la probabilità del singolo evento condizionante, cioè $B$."
   ]
  },
  {
   "cell_type": "markdown",
   "metadata": {},
   "source": [
    "$$\\large P(A\\;and\\;B)=P(A|B)P(B)$$"
   ]
  },
  {
   "cell_type": "markdown",
   "metadata": {},
   "source": [
    "In alternativa, la stessa probabilità congiunta può essere calcolata come la probabilità condizionata di $B$ dato il verificarsi di $A$, moltiplicata per la probabilità del singolo evento condizionante, cioè $A$."
   ]
  },
  {
   "cell_type": "markdown",
   "metadata": {},
   "source": [
    "$$\\large P(A\\;and\\;B)=P(B|A)P(A)$$"
   ]
  },
  {
   "cell_type": "markdown",
   "metadata": {},
   "source": [
    "<br>"
   ]
  },
  {
   "cell_type": "markdown",
   "metadata": {},
   "source": [
    "---"
   ]
  },
  {
   "cell_type": "markdown",
   "metadata": {},
   "source": [
    "<a id=\"independence\"></a>\n",
    "## Independence"
   ]
  },
  {
   "cell_type": "markdown",
   "metadata": {},
   "source": [
    "Due eventi si dicono **independent** se il verificarsi o meno di uno di essi non influenza il verificarsi o meno dell'altro.\n",
    "\n",
    "Più formalmente, si dimostra che due eventi $A$ e $B$ sono **stochastically independent** se la loro probabilità congiunta è pari al prodotto delle probabilità di occorrenza dei singoli eventi."
   ]
  },
  {
   "cell_type": "markdown",
   "metadata": {},
   "source": [
    "$$\\large P(A\\;and\\;B)=P(A)\\cdot P(B)$$"
   ]
  },
  {
   "cell_type": "markdown",
   "metadata": {},
   "source": [
    "In altre parole, se la probabilità di occorrenza di $A$ dato il verificarsi di $B$ è ancora uguale alla probabilità di occorrenza di $A$, i due eventi sono indipendenti."
   ]
  },
  {
   "cell_type": "markdown",
   "metadata": {},
   "source": [
    "$$\\large P(A|B)=P(A)$$"
   ]
  },
  {
   "cell_type": "markdown",
   "metadata": {},
   "source": [
    "---"
   ]
  },
  {
   "cell_type": "markdown",
   "metadata": {},
   "source": [
    "<a id=\"probability-axioms\"></a>\n",
    "## Probability Axioms & Properties"
   ]
  },
  {
   "cell_type": "markdown",
   "metadata": {},
   "source": [
    "Essendo definita sulla base di una proporzione, la probabilità di occorrenza del generico evento $A$ è sempre compresa fra zero e uno."
   ]
  },
  {
   "cell_type": "markdown",
   "metadata": {},
   "source": [
    "$$\\large 0\\leq P(A)\\leq1$$"
   ]
  },
  {
   "cell_type": "markdown",
   "metadata": {},
   "source": [
    "<br>"
   ]
  },
  {
   "cell_type": "markdown",
   "metadata": {},
   "source": [
    "Siccome il generico evento $A$ ed il suo complemento sono disgiunti per definizione, dall'*Addition Theorem* ricaviamo:\n",
    "\n",
    "$$\\large P(A\\;or\\;A^C)=P(A)+P(A^C)=1$$"
   ]
  },
  {
   "cell_type": "markdown",
   "metadata": {},
   "source": [
    "In altre parole, data la probabilità di occorrenza di un evento $A$, la probabilità che si verifichi il suo complemento è pari a:\n",
    "\n",
    "$$\\large P(A^C)=1-P(A)$$"
   ]
  },
  {
   "cell_type": "markdown",
   "metadata": {},
   "source": [
    "La differenza fra due eventi corrisponde all'intersezione del primo evento con il complemento del secondo:"
   ]
  },
  {
   "cell_type": "markdown",
   "metadata": {},
   "source": [
    "$$\\large A-B=A\\;andB^C$$"
   ]
  },
  {
   "cell_type": "markdown",
   "metadata": {},
   "source": [
    "<br>"
   ]
  },
  {
   "cell_type": "markdown",
   "metadata": {},
   "source": [
    "Dati $k$ eventi $A_1,\\dots,A_k$, tutti disgiunti tra loro, si dice che essi formano una **complete decomposition** del *sample space* $\\Omega$ se la loro unione coincide con l'intero *sample space*.\n",
    "\n",
    "$$\\large A_1\\;or\\;\\dots\\;A_k=\\Omega$$"
   ]
  },
  {
   "cell_type": "markdown",
   "metadata": {},
   "source": [
    "Il *Multiplication Theorem* è utilizzato per dimostrare la **Law of Total Probability**: data una *complete decomposition* del *sample space* $A_1,\\dots,A_k$, la probabilità di occorrenza di un altro evento esterno $B$ può essere ricavata con la seguente sommatoria:"
   ]
  },
  {
   "cell_type": "markdown",
   "metadata": {},
   "source": [
    "$$\\large P(B)=\\sum_{i=1}^{k}P(B|A_i)P(A_i)$$"
   ]
  },
  {
   "cell_type": "markdown",
   "metadata": {},
   "source": [
    "<br>"
   ]
  },
  {
   "cell_type": "markdown",
   "metadata": {},
   "source": [
    "Incrociando la definizione di evento complementare e quella di probabilità condizionata, è possibile affermare che la probabilità condizionata di $A$ dato $B$ si può calcolare anche come *uno meno* la probabilità condizionata del complemento di $A$ dato $B$.\n",
    "\n",
    "$$\\large P(A|B)=1-P(A^c|B)$$"
   ]
  },
  {
   "cell_type": "markdown",
   "metadata": {},
   "source": [
    "<br>"
   ]
  },
  {
   "cell_type": "markdown",
   "metadata": {},
   "source": [
    "E' possibile anche dimostrare che la somma di tutte le probabilità di occorrenza degli *outcome* $A_i$ di un certo *sample space*, ognuno condizionato da un altro evento esterno $B$, è pari ad uno.\n",
    "\n",
    "$$\\large P(A_1|B)+\\dots+P(A_k|B)=1$$"
   ]
  },
  {
   "cell_type": "markdown",
   "metadata": {},
   "source": [
    "---"
   ]
  },
  {
   "cell_type": "markdown",
   "metadata": {},
   "source": [
    "<a id=\"bayes-theorem\"></a>\n",
    "## Bayes Theorem"
   ]
  },
  {
   "cell_type": "markdown",
   "metadata": {},
   "source": [
    "Il Teorema di Bayes fornisce una relazione matematica fra $P(A|B)$ e $P(B|A)$.\n",
    "\n",
    "La sua forma più classica può essere ottenuta, data un'applicazione del *multiplication theorem*, moltiplicando e dividendo per l'evento non condizionante."
   ]
  },
  {
   "cell_type": "markdown",
   "metadata": {},
   "source": [
    "$$\\large P(A|B)=\\frac{P(A\\;and\\;B)}{P(B)}=\\frac{P(A\\;and\\;B)}{P(B)}\n",
    "\\frac{P(A)}{P(A)}$$"
   ]
  },
  {
   "cell_type": "markdown",
   "metadata": {},
   "source": [
    "$$\\large P(A|B)=\\frac{P(B|A)P(A)}{P(B)}$$"
   ]
  },
  {
   "cell_type": "markdown",
   "metadata": {},
   "source": [
    "<br>"
   ]
  },
  {
   "cell_type": "markdown",
   "metadata": {},
   "source": [
    "Consideriamo una *complete decomposition* $A_1,\\dots,A_k$ del *sample space* i cui eventi sono tutti a due a due disgiunti.\n",
    "\n",
    "Dato un evento $B$ non appartenente alla *complete decomposition*, possiamo sfruttare la *Law of Total Probability* per arrivare a una nuova formulazione del *Bayes Theorem*."
   ]
  },
  {
   "cell_type": "markdown",
   "metadata": {},
   "source": [
    "$$\\large P(A_i|B)=\\frac{P(B|A_i)P(A_i)}\n",
    "{\\sum_j P(B|A_j)P(A_j)}$$"
   ]
  },
  {
   "cell_type": "markdown",
   "metadata": {},
   "source": [
    "Le probabilità $P(A_j)$ sono dette **prior probabilities**.\n",
    "\n",
    "Le probabilità condizionate $P(B|A_j)$ sono dette **model probabilities**.\n",
    "\n",
    "Le probabilità condizionate $P(A_j|B)$ sono dette **posterior probabilities**."
   ]
  },
  {
   "cell_type": "markdown",
   "metadata": {},
   "source": [
    "---"
   ]
  }
 ],
 "metadata": {
  "kernelspec": {
   "display_name": "Python 3",
   "language": "python",
   "name": "python3"
  },
  "language_info": {
   "codemirror_mode": {
    "name": "ipython",
    "version": 3
   },
   "file_extension": ".py",
   "mimetype": "text/x-python",
   "name": "python",
   "nbconvert_exporter": "python",
   "pygments_lexer": "ipython3",
   "version": "3.8.5"
  }
 },
 "nbformat": 4,
 "nbformat_minor": 4
}
